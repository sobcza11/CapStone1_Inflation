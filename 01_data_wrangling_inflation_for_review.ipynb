{
 "cells": [
  {
   "cell_type": "markdown",
   "metadata": {},
   "source": [
    "# 2 Data wrangling<a id='2_Data_wrangling'></a>"
   ]
  },
  {
   "cell_type": "markdown",
   "metadata": {},
   "source": [
    "The purpose of this data science project is to develop a predictive model to anticipate what inflation in the United States will be measured as the Consumer Price Index for All Urban Consumers in the United States ( “Inflation” ). Inflation is an important component of developing investment strategies for portfolios across the world. The view on inflation being positive or negative is not agreed upon nor are the variables which influence it.\n",
    "\n",
    "In this project, I have shortlisted seven ( 8 ) variables to determine their influence on predicting annual growth in inflation ahead of time on different time spans; notably, one quarter, six months or one year out ( this may change after initial review is commenced )."
   ]
  },
  {
   "cell_type": "markdown",
   "metadata": {},
   "source": [
    "## 2.3 Imports<a id='2.3_Imports'></a>"
   ]
  },
  {
   "cell_type": "code",
   "execution_count": 122,
   "metadata": {},
   "outputs": [],
   "source": [
    "#Code task 1#\n",
    "#Import pandas, matplotlib.pyplot, and seaborn in the correct lines below\n",
    "import quandl\n",
    "from fredapi import Fred\n",
    "from getpass import getpass\n",
    "\n",
    "import pandas as pd\n",
    "import matplotlib.pyplot as plt\n",
    "import seaborn as sns\n",
    "import os\n",
    "import lxml\n",
    "import datetime\n",
    "import requests\n",
    "import json\n",
    "import collections\n",
    "import seaborn as sns\n",
    "from scipy import stats\n",
    "import numpy as np\n",
    "\n"
   ]
  },
  {
   "cell_type": "code",
   "execution_count": 123,
   "metadata": {},
   "outputs": [
    {
     "name": "stdout",
     "output_type": "stream",
     "text": [
      "········\n"
     ]
    }
   ],
   "source": [
    "# Here we are ensuring the imported Quandl API has the necessary password\n",
    "my_quandl_API = getpass()"
   ]
  },
  {
   "cell_type": "code",
   "execution_count": 124,
   "metadata": {},
   "outputs": [],
   "source": [
    "quandl.ApiConfig.api_key = my_quandl_API"
   ]
  },
  {
   "cell_type": "code",
   "execution_count": 125,
   "metadata": {},
   "outputs": [
    {
     "name": "stdout",
     "output_type": "stream",
     "text": [
      "········\n"
     ]
    }
   ],
   "source": [
    "# Here we are ensuring the imported FRED API has the necessary password\n",
    "my_FRED_API = getpass()"
   ]
  },
  {
   "cell_type": "code",
   "execution_count": 126,
   "metadata": {},
   "outputs": [],
   "source": [
    "fred = Fred(api_key=my_FRED_API)"
   ]
  },
  {
   "cell_type": "markdown",
   "metadata": {},
   "source": [
    "## 2.5 Loaded Data<a id='2.5_Load_The_Ski_Resort_Data'></a>"
   ]
  },
  {
   "cell_type": "code",
   "execution_count": 127,
   "metadata": {},
   "outputs": [],
   "source": [
    "# Daily Data\n",
    "us_usd = quandl.get('CHRIS/ICE_DX1')\n",
    "us_wti = quandl.get('CHRIS/CME_CL1')\n",
    "\n",
    "# Weekly Data\n",
    "us_M2 = fred.get_series('M2')\n",
    "\n",
    "# Monthly Data\n",
    "us_cpi = quandl.get('RATEINF/INFLATION_USA')\n",
    "# us_wages_hrly_earnings = fred.get_series('CES0500000003') # this was removed due to amount of data\n",
    "# us_wages_compensation = fred.get_series('A576RC1') # poor results\n",
    "us_wages_cpi = fred.get_series('CWSR0000SA0')\n",
    "us_cap_util = fred.get_series('TCU')\n",
    "\n",
    "# Quarterly Data\n",
    "m2_velo = fred.get_series('M2V')\n",
    "us_gdp = fred.get_series('GDP')\n"
   ]
  },
  {
   "cell_type": "code",
   "execution_count": 128,
   "metadata": {},
   "outputs": [],
   "source": [
    "# As the purpose of this section is to accumulate all the data into one spot to cross reference future works integrity,\n",
    "# I will keep Inflation here\n",
    "\n",
    "main_df = pd.concat([us_cpi,us_usd['Settle'],us_wti['Last'],us_M2,\n",
    "                       us_wages_cpi,us_gdp,us_cap_util,m2_velo],\n",
    "                      axis = 1, ignore_index=False)\n",
    "\n",
    "main_df = main_df.fillna(method='ffill')\n",
    "main_df.columns = ['Inflation','USD','WTI','M2','Wage CPI','GDP','Cap Util','M2 Velocity']\n",
    "main_df['Inflation'].index\n",
    "main_df.index.names = [\"Date\"]\n",
    "# main_df = main_df.sort_values(by=\"Date\", ascending=False)"
   ]
  },
  {
   "cell_type": "code",
   "execution_count": 129,
   "metadata": {},
   "outputs": [
    {
     "data": {
      "text/html": [
       "<div>\n",
       "<style scoped>\n",
       "    .dataframe tbody tr th:only-of-type {\n",
       "        vertical-align: middle;\n",
       "    }\n",
       "\n",
       "    .dataframe tbody tr th {\n",
       "        vertical-align: top;\n",
       "    }\n",
       "\n",
       "    .dataframe thead th {\n",
       "        text-align: right;\n",
       "    }\n",
       "</style>\n",
       "<table border=\"1\" class=\"dataframe\">\n",
       "  <thead>\n",
       "    <tr style=\"text-align: right;\">\n",
       "      <th></th>\n",
       "      <th>Inflation</th>\n",
       "      <th>USD</th>\n",
       "      <th>WTI</th>\n",
       "      <th>M2</th>\n",
       "      <th>Wage CPI</th>\n",
       "      <th>GDP</th>\n",
       "      <th>Cap Util</th>\n",
       "      <th>M2 Velocity</th>\n",
       "    </tr>\n",
       "    <tr>\n",
       "      <th>Date</th>\n",
       "      <th></th>\n",
       "      <th></th>\n",
       "      <th></th>\n",
       "      <th></th>\n",
       "      <th></th>\n",
       "      <th></th>\n",
       "      <th></th>\n",
       "      <th></th>\n",
       "    </tr>\n",
       "  </thead>\n",
       "  <tbody>\n",
       "    <tr>\n",
       "      <th>2021-02-08</th>\n",
       "      <td>1.4</td>\n",
       "      <td>90.919</td>\n",
       "      <td>58.10</td>\n",
       "      <td>19414.9</td>\n",
       "      <td>256.044</td>\n",
       "      <td>21479.529</td>\n",
       "      <td>74.5445</td>\n",
       "      <td>1.129</td>\n",
       "    </tr>\n",
       "    <tr>\n",
       "      <th>2021-02-09</th>\n",
       "      <td>1.4</td>\n",
       "      <td>90.429</td>\n",
       "      <td>58.38</td>\n",
       "      <td>19414.9</td>\n",
       "      <td>256.044</td>\n",
       "      <td>21479.529</td>\n",
       "      <td>74.5445</td>\n",
       "      <td>1.129</td>\n",
       "    </tr>\n",
       "    <tr>\n",
       "      <th>2021-02-10</th>\n",
       "      <td>1.4</td>\n",
       "      <td>90.363</td>\n",
       "      <td>58.39</td>\n",
       "      <td>19414.9</td>\n",
       "      <td>256.044</td>\n",
       "      <td>21479.529</td>\n",
       "      <td>74.5445</td>\n",
       "      <td>1.129</td>\n",
       "    </tr>\n",
       "    <tr>\n",
       "      <th>2021-02-11</th>\n",
       "      <td>1.4</td>\n",
       "      <td>90.413</td>\n",
       "      <td>57.91</td>\n",
       "      <td>19414.9</td>\n",
       "      <td>256.044</td>\n",
       "      <td>21479.529</td>\n",
       "      <td>74.5445</td>\n",
       "      <td>1.129</td>\n",
       "    </tr>\n",
       "    <tr>\n",
       "      <th>2021-02-12</th>\n",
       "      <td>1.4</td>\n",
       "      <td>90.470</td>\n",
       "      <td>59.71</td>\n",
       "      <td>19414.9</td>\n",
       "      <td>256.044</td>\n",
       "      <td>21479.529</td>\n",
       "      <td>74.5445</td>\n",
       "      <td>1.129</td>\n",
       "    </tr>\n",
       "  </tbody>\n",
       "</table>\n",
       "</div>"
      ],
      "text/plain": [
       "            Inflation     USD    WTI       M2  Wage CPI        GDP  Cap Util  \\\n",
       "Date                                                                           \n",
       "2021-02-08        1.4  90.919  58.10  19414.9   256.044  21479.529   74.5445   \n",
       "2021-02-09        1.4  90.429  58.38  19414.9   256.044  21479.529   74.5445   \n",
       "2021-02-10        1.4  90.363  58.39  19414.9   256.044  21479.529   74.5445   \n",
       "2021-02-11        1.4  90.413  57.91  19414.9   256.044  21479.529   74.5445   \n",
       "2021-02-12        1.4  90.470  59.71  19414.9   256.044  21479.529   74.5445   \n",
       "\n",
       "            M2 Velocity  \n",
       "Date                     \n",
       "2021-02-08        1.129  \n",
       "2021-02-09        1.129  \n",
       "2021-02-10        1.129  \n",
       "2021-02-11        1.129  \n",
       "2021-02-12        1.129  "
      ]
     },
     "execution_count": 129,
     "metadata": {},
     "output_type": "execute_result"
    }
   ],
   "source": [
    "main_df.tail()"
   ]
  },
  {
   "cell_type": "code",
   "execution_count": 130,
   "metadata": {
    "scrolled": true
   },
   "outputs": [
    {
     "name": "stdout",
     "output_type": "stream",
     "text": [
      "<class 'pandas.core.frame.DataFrame'>\n",
      "DatetimeIndex: 11439 entries, 1914-01-31 to 2021-02-12\n",
      "Data columns (total 8 columns):\n",
      " #   Column       Non-Null Count  Dtype  \n",
      "---  ------       --------------  -----  \n",
      " 0   Inflation    11439 non-null  float64\n",
      " 1   USD          9356 non-null   float64\n",
      " 2   WTI          10054 non-null  float64\n",
      " 3   M2           10226 non-null  float64\n",
      " 4   Wage CPI     11039 non-null  float64\n",
      " 5   GDP          11039 non-null  float64\n",
      " 6   Cap Util     10559 non-null  float64\n",
      " 7   M2 Velocity  10751 non-null  float64\n",
      "dtypes: float64(8)\n",
      "memory usage: 804.3 KB\n"
     ]
    }
   ],
   "source": [
    "#Call the info method on main_df to see a summary of the data\n",
    "main_df.info()"
   ]
  },
  {
   "cell_type": "markdown",
   "metadata": {},
   "source": [
    "`Inflation` has by and large the most date while `USD` has the least. Let's move forward with using the `USD` amount limitations"
   ]
  },
  {
   "cell_type": "code",
   "execution_count": 131,
   "metadata": {},
   "outputs": [],
   "source": [
    "# I will move forward with only the data where all information is present\n",
    "\n",
    "main_df = main_df.iloc[2083:,]  # this is the most sophisticated way I could develop"
   ]
  },
  {
   "cell_type": "code",
   "execution_count": 132,
   "metadata": {},
   "outputs": [
    {
     "name": "stdout",
     "output_type": "stream",
     "text": [
      "<class 'pandas.core.frame.DataFrame'>\n",
      "DatetimeIndex: 9356 entries, 1985-11-20 to 2021-02-12\n",
      "Data columns (total 8 columns):\n",
      " #   Column       Non-Null Count  Dtype  \n",
      "---  ------       --------------  -----  \n",
      " 0   Inflation    9356 non-null   float64\n",
      " 1   USD          9356 non-null   float64\n",
      " 2   WTI          9356 non-null   float64\n",
      " 3   M2           9356 non-null   float64\n",
      " 4   Wage CPI     9356 non-null   float64\n",
      " 5   GDP          9356 non-null   float64\n",
      " 6   Cap Util     9356 non-null   float64\n",
      " 7   M2 Velocity  9356 non-null   float64\n",
      "dtypes: float64(8)\n",
      "memory usage: 657.8 KB\n"
     ]
    }
   ],
   "source": [
    "# Most importantly double check to determine if there are no null values\n",
    "# Please note, these numbers change on 2 fronts; it changes everytime you run the previous code; FYI you should have 9349(+)\n",
    "# and the reason for the (+) is due to more information being added to the API's daily \n",
    "\n",
    "main_df.info()"
   ]
  },
  {
   "cell_type": "code",
   "execution_count": 133,
   "metadata": {},
   "outputs": [
    {
     "data": {
      "text/html": [
       "<div>\n",
       "<style scoped>\n",
       "    .dataframe tbody tr th:only-of-type {\n",
       "        vertical-align: middle;\n",
       "    }\n",
       "\n",
       "    .dataframe tbody tr th {\n",
       "        vertical-align: top;\n",
       "    }\n",
       "\n",
       "    .dataframe thead th {\n",
       "        text-align: right;\n",
       "    }\n",
       "</style>\n",
       "<table border=\"1\" class=\"dataframe\">\n",
       "  <thead>\n",
       "    <tr style=\"text-align: right;\">\n",
       "      <th></th>\n",
       "      <th>Inflation</th>\n",
       "      <th>USD</th>\n",
       "      <th>WTI</th>\n",
       "      <th>M2</th>\n",
       "      <th>Wage CPI</th>\n",
       "      <th>GDP</th>\n",
       "      <th>Cap Util</th>\n",
       "      <th>M2 Velocity</th>\n",
       "    </tr>\n",
       "    <tr>\n",
       "      <th>Date</th>\n",
       "      <th></th>\n",
       "      <th></th>\n",
       "      <th></th>\n",
       "      <th></th>\n",
       "      <th></th>\n",
       "      <th></th>\n",
       "      <th></th>\n",
       "      <th></th>\n",
       "    </tr>\n",
       "  </thead>\n",
       "  <tbody>\n",
       "    <tr>\n",
       "      <th>1985-11-20</th>\n",
       "      <td>3.229</td>\n",
       "      <td>128.86</td>\n",
       "      <td>31.72</td>\n",
       "      <td>2473.6</td>\n",
       "      <td>108.2</td>\n",
       "      <td>4444.094</td>\n",
       "      <td>78.6082</td>\n",
       "      <td>1.792</td>\n",
       "    </tr>\n",
       "    <tr>\n",
       "      <th>1985-11-21</th>\n",
       "      <td>3.229</td>\n",
       "      <td>127.56</td>\n",
       "      <td>30.82</td>\n",
       "      <td>2473.6</td>\n",
       "      <td>108.2</td>\n",
       "      <td>4444.094</td>\n",
       "      <td>78.6082</td>\n",
       "      <td>1.792</td>\n",
       "    </tr>\n",
       "    <tr>\n",
       "      <th>1985-11-22</th>\n",
       "      <td>3.229</td>\n",
       "      <td>126.63</td>\n",
       "      <td>30.91</td>\n",
       "      <td>2473.6</td>\n",
       "      <td>108.2</td>\n",
       "      <td>4444.094</td>\n",
       "      <td>78.6082</td>\n",
       "      <td>1.792</td>\n",
       "    </tr>\n",
       "    <tr>\n",
       "      <th>1985-11-25</th>\n",
       "      <td>3.229</td>\n",
       "      <td>126.64</td>\n",
       "      <td>31.01</td>\n",
       "      <td>2479.5</td>\n",
       "      <td>108.2</td>\n",
       "      <td>4444.094</td>\n",
       "      <td>78.6082</td>\n",
       "      <td>1.792</td>\n",
       "    </tr>\n",
       "    <tr>\n",
       "      <th>1985-11-26</th>\n",
       "      <td>3.229</td>\n",
       "      <td>126.17</td>\n",
       "      <td>30.74</td>\n",
       "      <td>2479.5</td>\n",
       "      <td>108.2</td>\n",
       "      <td>4444.094</td>\n",
       "      <td>78.6082</td>\n",
       "      <td>1.792</td>\n",
       "    </tr>\n",
       "  </tbody>\n",
       "</table>\n",
       "</div>"
      ],
      "text/plain": [
       "            Inflation     USD    WTI      M2  Wage CPI       GDP  Cap Util  \\\n",
       "Date                                                                         \n",
       "1985-11-20      3.229  128.86  31.72  2473.6     108.2  4444.094   78.6082   \n",
       "1985-11-21      3.229  127.56  30.82  2473.6     108.2  4444.094   78.6082   \n",
       "1985-11-22      3.229  126.63  30.91  2473.6     108.2  4444.094   78.6082   \n",
       "1985-11-25      3.229  126.64  31.01  2479.5     108.2  4444.094   78.6082   \n",
       "1985-11-26      3.229  126.17  30.74  2479.5     108.2  4444.094   78.6082   \n",
       "\n",
       "            M2 Velocity  \n",
       "Date                     \n",
       "1985-11-20        1.792  \n",
       "1985-11-21        1.792  \n",
       "1985-11-22        1.792  \n",
       "1985-11-25        1.792  \n",
       "1985-11-26        1.792  "
      ]
     },
     "execution_count": 133,
     "metadata": {},
     "output_type": "execute_result"
    }
   ],
   "source": [
    "# Call the head method on main_df to ensure you don't have any null's at the back ( year = ~ 1985 )\n",
    "main_df.head()"
   ]
  },
  {
   "cell_type": "code",
   "execution_count": 134,
   "metadata": {},
   "outputs": [
    {
     "data": {
      "text/html": [
       "<div>\n",
       "<style scoped>\n",
       "    .dataframe tbody tr th:only-of-type {\n",
       "        vertical-align: middle;\n",
       "    }\n",
       "\n",
       "    .dataframe tbody tr th {\n",
       "        vertical-align: top;\n",
       "    }\n",
       "\n",
       "    .dataframe thead th {\n",
       "        text-align: right;\n",
       "    }\n",
       "</style>\n",
       "<table border=\"1\" class=\"dataframe\">\n",
       "  <thead>\n",
       "    <tr style=\"text-align: right;\">\n",
       "      <th></th>\n",
       "      <th>Inflation</th>\n",
       "      <th>USD</th>\n",
       "      <th>WTI</th>\n",
       "      <th>M2</th>\n",
       "      <th>Wage CPI</th>\n",
       "      <th>GDP</th>\n",
       "      <th>Cap Util</th>\n",
       "      <th>M2 Velocity</th>\n",
       "    </tr>\n",
       "    <tr>\n",
       "      <th>Date</th>\n",
       "      <th></th>\n",
       "      <th></th>\n",
       "      <th></th>\n",
       "      <th></th>\n",
       "      <th></th>\n",
       "      <th></th>\n",
       "      <th></th>\n",
       "      <th></th>\n",
       "    </tr>\n",
       "  </thead>\n",
       "  <tbody>\n",
       "    <tr>\n",
       "      <th>2021-02-08</th>\n",
       "      <td>1.4</td>\n",
       "      <td>90.919</td>\n",
       "      <td>58.10</td>\n",
       "      <td>19414.9</td>\n",
       "      <td>256.044</td>\n",
       "      <td>21479.529</td>\n",
       "      <td>74.5445</td>\n",
       "      <td>1.129</td>\n",
       "    </tr>\n",
       "    <tr>\n",
       "      <th>2021-02-09</th>\n",
       "      <td>1.4</td>\n",
       "      <td>90.429</td>\n",
       "      <td>58.38</td>\n",
       "      <td>19414.9</td>\n",
       "      <td>256.044</td>\n",
       "      <td>21479.529</td>\n",
       "      <td>74.5445</td>\n",
       "      <td>1.129</td>\n",
       "    </tr>\n",
       "    <tr>\n",
       "      <th>2021-02-10</th>\n",
       "      <td>1.4</td>\n",
       "      <td>90.363</td>\n",
       "      <td>58.39</td>\n",
       "      <td>19414.9</td>\n",
       "      <td>256.044</td>\n",
       "      <td>21479.529</td>\n",
       "      <td>74.5445</td>\n",
       "      <td>1.129</td>\n",
       "    </tr>\n",
       "    <tr>\n",
       "      <th>2021-02-11</th>\n",
       "      <td>1.4</td>\n",
       "      <td>90.413</td>\n",
       "      <td>57.91</td>\n",
       "      <td>19414.9</td>\n",
       "      <td>256.044</td>\n",
       "      <td>21479.529</td>\n",
       "      <td>74.5445</td>\n",
       "      <td>1.129</td>\n",
       "    </tr>\n",
       "    <tr>\n",
       "      <th>2021-02-12</th>\n",
       "      <td>1.4</td>\n",
       "      <td>90.470</td>\n",
       "      <td>59.71</td>\n",
       "      <td>19414.9</td>\n",
       "      <td>256.044</td>\n",
       "      <td>21479.529</td>\n",
       "      <td>74.5445</td>\n",
       "      <td>1.129</td>\n",
       "    </tr>\n",
       "  </tbody>\n",
       "</table>\n",
       "</div>"
      ],
      "text/plain": [
       "            Inflation     USD    WTI       M2  Wage CPI        GDP  Cap Util  \\\n",
       "Date                                                                           \n",
       "2021-02-08        1.4  90.919  58.10  19414.9   256.044  21479.529   74.5445   \n",
       "2021-02-09        1.4  90.429  58.38  19414.9   256.044  21479.529   74.5445   \n",
       "2021-02-10        1.4  90.363  58.39  19414.9   256.044  21479.529   74.5445   \n",
       "2021-02-11        1.4  90.413  57.91  19414.9   256.044  21479.529   74.5445   \n",
       "2021-02-12        1.4  90.470  59.71  19414.9   256.044  21479.529   74.5445   \n",
       "\n",
       "            M2 Velocity  \n",
       "Date                     \n",
       "2021-02-08        1.129  \n",
       "2021-02-09        1.129  \n",
       "2021-02-10        1.129  \n",
       "2021-02-11        1.129  \n",
       "2021-02-12        1.129  "
      ]
     },
     "execution_count": 134,
     "metadata": {},
     "output_type": "execute_result"
    }
   ],
   "source": [
    "# We will also look at the front end months to quickly referance when looking at results moving foward\n",
    "main_df.tail()"
   ]
  },
  {
   "cell_type": "code",
   "execution_count": 137,
   "metadata": {},
   "outputs": [
    {
     "name": "stdout",
     "output_type": "stream",
     "text": [
      "Finished; keep going!\n"
     ]
    }
   ],
   "source": [
    "# Here I am saving the non-adjusted ( raw ) data to investigate whether the adjustments further along yield correctly\n",
    "# both here & in the excel being saved below\n",
    "\n",
    "main_df = main_df.sort_values(by=\"Date\", ascending=False)\n",
    "main_df_csv = pd.DataFrame(main_df)\n",
    "\n",
    "main_df_csv.to_excel('./_Capstone_One_Inflation/data/main_df_csv.xlsx')\n",
    "print('Finished; keep going!')"
   ]
  },
  {
   "cell_type": "markdown",
   "metadata": {},
   "source": [
    "# 2.5.1 pct changes | Quarter on Quarter pct Changes ( all )<a id='#2.5.1_pct_changes_|_Quarter_on_Quarter_pct_Changes_(_all_)'></a>"
   ]
  },
  {
   "cell_type": "code",
   "execution_count": 138,
   "metadata": {},
   "outputs": [],
   "source": [
    "# ( Complete ) Daily | USD & WTI | removed 24 days from 90 ( i.e. weekends ) but doesn't include holidays\n",
    "Q_USD = us_usd['Settle'].pct_change(periods=66)\n",
    "Q_WTI = us_wti['Last'].pct_change(periods=66)\n",
    "\n",
    "# ( Complete ) Wkly | M2 \n",
    "Q_M2 = us_M2.pct_change(periods=12)\n",
    "\n",
    "# ( Complete ) Mnthly | Capital Utilization, Wages, Inflation\n",
    "Q_caputil = us_cap_util.pct_change(periods=3)\n",
    "Q_wages = us_wages_cpi.pct_change(periods=3)\n",
    "Q_cpi = us_cpi.pct_change(periods=-3) * -1\n",
    "\n",
    "# ( Complete ) Quarterly | GDP, Velocity of Money\n",
    "Q_GDP = us_gdp.pct_change(periods=1)\n",
    "Q_velomoney = m2_velo.pct_change(periods=1)\n"
   ]
  },
  {
   "cell_type": "code",
   "execution_count": 139,
   "metadata": {},
   "outputs": [],
   "source": [
    "# ( Complete ) The above were slow reviewed & they all align with the forward fill modus operandi \n",
    "\n",
    "QonQ_vars = pd.concat([Q_USD,Q_WTI,Q_M2,Q_wages,Q_GDP,Q_caputil,Q_velomoney],\n",
    "                      axis = 1, ignore_index=False)\n",
    "\n",
    "QonQ_vars = QonQ_vars.fillna(method='ffill')\n",
    "QonQ_vars.columns = ['USD','WTI','M2','Wage CPI','GDP','Cap Util','M2 Velocity']\n",
    "QonQ_vars.index.names = [\"Date\"]\n",
    "# main_df = main_df.sort_values(by=\"Date\", ascending=False)"
   ]
  },
  {
   "cell_type": "code",
   "execution_count": 140,
   "metadata": {},
   "outputs": [
    {
     "name": "stdout",
     "output_type": "stream",
     "text": [
      "<class 'pandas.core.frame.DataFrame'>\n",
      "DatetimeIndex: 10483 entries, 1946-01-01 to 2021-02-12\n",
      "Data columns (total 7 columns):\n",
      " #   Column       Non-Null Count  Dtype  \n",
      "---  ------       --------------  -----  \n",
      " 0   USD          9164 non-null   float64\n",
      " 1   WTI          9853 non-null   float64\n",
      " 2   M2           10059 non-null  float64\n",
      " 3   Wage CPI     10476 non-null  float64\n",
      " 4   GDP          10476 non-null  float64\n",
      " 5   Cap Util     10236 non-null  float64\n",
      " 6   M2 Velocity  10332 non-null  float64\n",
      "dtypes: float64(7)\n",
      "memory usage: 655.2 KB\n"
     ]
    }
   ],
   "source": [
    "# Doing a check to check to ensure there's no misalignment \n",
    "QonQ_vars.info()"
   ]
  },
  {
   "cell_type": "code",
   "execution_count": 141,
   "metadata": {},
   "outputs": [],
   "source": [
    "# There was overlap so keeping them the same here\n",
    "QonQ_vars = QonQ_vars.iloc[1319:,]  # this is the most sophisticated way I could develop "
   ]
  },
  {
   "cell_type": "code",
   "execution_count": 142,
   "metadata": {},
   "outputs": [
    {
     "name": "stdout",
     "output_type": "stream",
     "text": [
      "<class 'pandas.core.frame.DataFrame'>\n",
      "DatetimeIndex: 9164 entries, 1986-02-26 to 2021-02-12\n",
      "Data columns (total 7 columns):\n",
      " #   Column       Non-Null Count  Dtype  \n",
      "---  ------       --------------  -----  \n",
      " 0   USD          9164 non-null   float64\n",
      " 1   WTI          9164 non-null   float64\n",
      " 2   M2           9164 non-null   float64\n",
      " 3   Wage CPI     9164 non-null   float64\n",
      " 4   GDP          9164 non-null   float64\n",
      " 5   Cap Util     9164 non-null   float64\n",
      " 6   M2 Velocity  9164 non-null   float64\n",
      "dtypes: float64(7)\n",
      "memory usage: 572.8 KB\n"
     ]
    }
   ],
   "source": [
    "QonQ_vars.info()"
   ]
  },
  {
   "cell_type": "code",
   "execution_count": 143,
   "metadata": {},
   "outputs": [
    {
     "data": {
      "text/html": [
       "<div>\n",
       "<style scoped>\n",
       "    .dataframe tbody tr th:only-of-type {\n",
       "        vertical-align: middle;\n",
       "    }\n",
       "\n",
       "    .dataframe tbody tr th {\n",
       "        vertical-align: top;\n",
       "    }\n",
       "\n",
       "    .dataframe thead th {\n",
       "        text-align: right;\n",
       "    }\n",
       "</style>\n",
       "<table border=\"1\" class=\"dataframe\">\n",
       "  <thead>\n",
       "    <tr style=\"text-align: right;\">\n",
       "      <th></th>\n",
       "      <th>USD</th>\n",
       "      <th>WTI</th>\n",
       "      <th>M2</th>\n",
       "      <th>Wage CPI</th>\n",
       "      <th>GDP</th>\n",
       "      <th>Cap Util</th>\n",
       "      <th>M2 Velocity</th>\n",
       "    </tr>\n",
       "    <tr>\n",
       "      <th>Date</th>\n",
       "      <th></th>\n",
       "      <th></th>\n",
       "      <th></th>\n",
       "      <th></th>\n",
       "      <th></th>\n",
       "      <th></th>\n",
       "      <th></th>\n",
       "    </tr>\n",
       "  </thead>\n",
       "  <tbody>\n",
       "    <tr>\n",
       "      <th>1986-02-26</th>\n",
       "      <td>-0.108412</td>\n",
       "      <td>-0.527966</td>\n",
       "      <td>0.014179</td>\n",
       "      <td>0.005545</td>\n",
       "      <td>0.014356</td>\n",
       "      <td>0.004569</td>\n",
       "      <td>0.0</td>\n",
       "    </tr>\n",
       "    <tr>\n",
       "      <th>1986-02-27</th>\n",
       "      <td>-0.103559</td>\n",
       "      <td>-0.554455</td>\n",
       "      <td>0.014179</td>\n",
       "      <td>0.005545</td>\n",
       "      <td>0.014356</td>\n",
       "      <td>0.004569</td>\n",
       "      <td>0.0</td>\n",
       "    </tr>\n",
       "    <tr>\n",
       "      <th>1986-02-28</th>\n",
       "      <td>-0.090658</td>\n",
       "      <td>-0.581967</td>\n",
       "      <td>0.014179</td>\n",
       "      <td>0.005545</td>\n",
       "      <td>0.014356</td>\n",
       "      <td>0.004569</td>\n",
       "      <td>0.0</td>\n",
       "    </tr>\n",
       "    <tr>\n",
       "      <th>1986-03-01</th>\n",
       "      <td>-0.090658</td>\n",
       "      <td>-0.581967</td>\n",
       "      <td>0.014179</td>\n",
       "      <td>-0.005520</td>\n",
       "      <td>0.014356</td>\n",
       "      <td>-0.012286</td>\n",
       "      <td>0.0</td>\n",
       "    </tr>\n",
       "    <tr>\n",
       "      <th>1986-03-03</th>\n",
       "      <td>-0.098073</td>\n",
       "      <td>-0.601882</td>\n",
       "      <td>0.013753</td>\n",
       "      <td>-0.005520</td>\n",
       "      <td>0.014356</td>\n",
       "      <td>-0.012286</td>\n",
       "      <td>0.0</td>\n",
       "    </tr>\n",
       "  </tbody>\n",
       "</table>\n",
       "</div>"
      ],
      "text/plain": [
       "                 USD       WTI        M2  Wage CPI       GDP  Cap Util  \\\n",
       "Date                                                                     \n",
       "1986-02-26 -0.108412 -0.527966  0.014179  0.005545  0.014356  0.004569   \n",
       "1986-02-27 -0.103559 -0.554455  0.014179  0.005545  0.014356  0.004569   \n",
       "1986-02-28 -0.090658 -0.581967  0.014179  0.005545  0.014356  0.004569   \n",
       "1986-03-01 -0.090658 -0.581967  0.014179 -0.005520  0.014356 -0.012286   \n",
       "1986-03-03 -0.098073 -0.601882  0.013753 -0.005520  0.014356 -0.012286   \n",
       "\n",
       "            M2 Velocity  \n",
       "Date                     \n",
       "1986-02-26          0.0  \n",
       "1986-02-27          0.0  \n",
       "1986-02-28          0.0  \n",
       "1986-03-01          0.0  \n",
       "1986-03-03          0.0  "
      ]
     },
     "execution_count": 143,
     "metadata": {},
     "output_type": "execute_result"
    }
   ],
   "source": [
    "# Doing another sanity check to ensure the back end is properly filled\n",
    "# Please be aware that M2 Velocity didn't see a change in Q1/86 from Q4/85: thus it is Zero\n",
    "\n",
    "QonQ_vars.head()"
   ]
  },
  {
   "cell_type": "code",
   "execution_count": 144,
   "metadata": {},
   "outputs": [
    {
     "data": {
      "text/html": [
       "<div>\n",
       "<style scoped>\n",
       "    .dataframe tbody tr th:only-of-type {\n",
       "        vertical-align: middle;\n",
       "    }\n",
       "\n",
       "    .dataframe tbody tr th {\n",
       "        vertical-align: top;\n",
       "    }\n",
       "\n",
       "    .dataframe thead th {\n",
       "        text-align: right;\n",
       "    }\n",
       "</style>\n",
       "<table border=\"1\" class=\"dataframe\">\n",
       "  <thead>\n",
       "    <tr style=\"text-align: right;\">\n",
       "      <th></th>\n",
       "      <th>USD</th>\n",
       "      <th>WTI</th>\n",
       "      <th>M2</th>\n",
       "      <th>Wage CPI</th>\n",
       "      <th>GDP</th>\n",
       "      <th>Cap Util</th>\n",
       "      <th>M2 Velocity</th>\n",
       "    </tr>\n",
       "    <tr>\n",
       "      <th>Date</th>\n",
       "      <th></th>\n",
       "      <th></th>\n",
       "      <th></th>\n",
       "      <th></th>\n",
       "      <th></th>\n",
       "      <th></th>\n",
       "      <th></th>\n",
       "    </tr>\n",
       "  </thead>\n",
       "  <tbody>\n",
       "    <tr>\n",
       "      <th>2021-02-08</th>\n",
       "      <td>-0.026678</td>\n",
       "      <td>0.566460</td>\n",
       "      <td>0.022326</td>\n",
       "      <td>0.007345</td>\n",
       "      <td>0.014609</td>\n",
       "      <td>0.030913</td>\n",
       "      <td>-0.015693</td>\n",
       "    </tr>\n",
       "    <tr>\n",
       "      <th>2021-02-09</th>\n",
       "      <td>-0.022558</td>\n",
       "      <td>0.530275</td>\n",
       "      <td>0.022326</td>\n",
       "      <td>0.007345</td>\n",
       "      <td>0.014609</td>\n",
       "      <td>0.030913</td>\n",
       "      <td>-0.015693</td>\n",
       "    </tr>\n",
       "    <tr>\n",
       "      <th>2021-02-10</th>\n",
       "      <td>-0.020190</td>\n",
       "      <td>0.491824</td>\n",
       "      <td>0.022326</td>\n",
       "      <td>0.007345</td>\n",
       "      <td>0.014609</td>\n",
       "      <td>0.030913</td>\n",
       "      <td>-0.015693</td>\n",
       "    </tr>\n",
       "    <tr>\n",
       "      <th>2021-02-11</th>\n",
       "      <td>-0.024829</td>\n",
       "      <td>0.503765</td>\n",
       "      <td>0.022326</td>\n",
       "      <td>0.007345</td>\n",
       "      <td>0.014609</td>\n",
       "      <td>0.030913</td>\n",
       "      <td>-0.015693</td>\n",
       "    </tr>\n",
       "    <tr>\n",
       "      <th>2021-02-12</th>\n",
       "      <td>-0.024435</td>\n",
       "      <td>0.592691</td>\n",
       "      <td>0.022326</td>\n",
       "      <td>0.007345</td>\n",
       "      <td>0.014609</td>\n",
       "      <td>0.030913</td>\n",
       "      <td>-0.015693</td>\n",
       "    </tr>\n",
       "  </tbody>\n",
       "</table>\n",
       "</div>"
      ],
      "text/plain": [
       "                 USD       WTI        M2  Wage CPI       GDP  Cap Util  \\\n",
       "Date                                                                     \n",
       "2021-02-08 -0.026678  0.566460  0.022326  0.007345  0.014609  0.030913   \n",
       "2021-02-09 -0.022558  0.530275  0.022326  0.007345  0.014609  0.030913   \n",
       "2021-02-10 -0.020190  0.491824  0.022326  0.007345  0.014609  0.030913   \n",
       "2021-02-11 -0.024829  0.503765  0.022326  0.007345  0.014609  0.030913   \n",
       "2021-02-12 -0.024435  0.592691  0.022326  0.007345  0.014609  0.030913   \n",
       "\n",
       "            M2 Velocity  \n",
       "Date                     \n",
       "2021-02-08    -0.015693  \n",
       "2021-02-09    -0.015693  \n",
       "2021-02-10    -0.015693  \n",
       "2021-02-11    -0.015693  \n",
       "2021-02-12    -0.015693  "
      ]
     },
     "execution_count": 144,
     "metadata": {},
     "output_type": "execute_result"
    }
   ],
   "source": [
    "# Moving over to the forward dates\n",
    "\n",
    "QonQ_vars.tail()"
   ]
  },
  {
   "cell_type": "code",
   "execution_count": 145,
   "metadata": {},
   "outputs": [
    {
     "name": "stdout",
     "output_type": "stream",
     "text": [
      "Finished\n"
     ]
    }
   ],
   "source": [
    "# I cross referanced them all & they are okay\n",
    "# Thus, here I am saving the Quater vs Quarter data to its own excel but this is not the end; will add Inflation with them\n",
    "\n",
    "QonQ_vars = QonQ_vars.sort_values(by=\"Date\", ascending=False)\n",
    "QonQ_vars_csv = pd.DataFrame(QonQ_vars)\n",
    "\n",
    "QonQ_vars_csv.to_excel('./_Capstone_One_Inflation/data/1.0_Segmented_by_periods/QonQ_vars.xlsx')\n",
    "print('Finished')"
   ]
  },
  {
   "cell_type": "code",
   "execution_count": null,
   "metadata": {},
   "outputs": [],
   "source": []
  },
  {
   "cell_type": "code",
   "execution_count": 146,
   "metadata": {},
   "outputs": [],
   "source": [
    "QonQ = Q_cpi.merge(QonQ_vars, how='left', on='Date')\n",
    "cols = ['USD','WTI','M2','Wage CPI','GDP','Cap Util','M2 Velocity' ]\n",
    "QonQ.loc[:,cols] = QonQ.loc[:,cols].ffill()\n",
    "QonQ.columns = ['Inflation','USD','WTI','M2','Wage CPI','GDP','Cap Util','M2 Velocity']\n",
    "QonQ = QonQ.dropna()"
   ]
  },
  {
   "cell_type": "code",
   "execution_count": 147,
   "metadata": {},
   "outputs": [
    {
     "name": "stdout",
     "output_type": "stream",
     "text": [
      "<class 'pandas.core.frame.DataFrame'>\n",
      "DatetimeIndex: 417 entries, 1986-02-28 to 2020-10-31\n",
      "Data columns (total 8 columns):\n",
      " #   Column       Non-Null Count  Dtype  \n",
      "---  ------       --------------  -----  \n",
      " 0   Inflation    417 non-null    float64\n",
      " 1   USD          417 non-null    float64\n",
      " 2   WTI          417 non-null    float64\n",
      " 3   M2           417 non-null    float64\n",
      " 4   Wage CPI     417 non-null    float64\n",
      " 5   GDP          417 non-null    float64\n",
      " 6   Cap Util     417 non-null    float64\n",
      " 7   M2 Velocity  417 non-null    float64\n",
      "dtypes: float64(8)\n",
      "memory usage: 29.3 KB\n"
     ]
    }
   ],
   "source": [
    "QonQ.info()"
   ]
  },
  {
   "cell_type": "code",
   "execution_count": 148,
   "metadata": {},
   "outputs": [
    {
     "data": {
      "text/html": [
       "<div>\n",
       "<style scoped>\n",
       "    .dataframe tbody tr th:only-of-type {\n",
       "        vertical-align: middle;\n",
       "    }\n",
       "\n",
       "    .dataframe tbody tr th {\n",
       "        vertical-align: top;\n",
       "    }\n",
       "\n",
       "    .dataframe thead th {\n",
       "        text-align: right;\n",
       "    }\n",
       "</style>\n",
       "<table border=\"1\" class=\"dataframe\">\n",
       "  <thead>\n",
       "    <tr style=\"text-align: right;\">\n",
       "      <th></th>\n",
       "      <th>Inflation</th>\n",
       "      <th>USD</th>\n",
       "      <th>WTI</th>\n",
       "      <th>M2</th>\n",
       "      <th>Wage CPI</th>\n",
       "      <th>GDP</th>\n",
       "      <th>Cap Util</th>\n",
       "      <th>M2 Velocity</th>\n",
       "    </tr>\n",
       "    <tr>\n",
       "      <th>Date</th>\n",
       "      <th></th>\n",
       "      <th></th>\n",
       "      <th></th>\n",
       "      <th></th>\n",
       "      <th></th>\n",
       "      <th></th>\n",
       "      <th></th>\n",
       "      <th></th>\n",
       "    </tr>\n",
       "  </thead>\n",
       "  <tbody>\n",
       "    <tr>\n",
       "      <th>1986-02-28</th>\n",
       "      <td>-1.087860</td>\n",
       "      <td>-0.090658</td>\n",
       "      <td>-0.581967</td>\n",
       "      <td>0.014179</td>\n",
       "      <td>0.005545</td>\n",
       "      <td>0.014356</td>\n",
       "      <td>0.004569</td>\n",
       "      <td>0.000000</td>\n",
       "    </tr>\n",
       "    <tr>\n",
       "      <th>1986-03-31</th>\n",
       "      <td>-0.277463</td>\n",
       "      <td>-0.064713</td>\n",
       "      <td>-0.595654</td>\n",
       "      <td>0.018631</td>\n",
       "      <td>-0.005520</td>\n",
       "      <td>0.014356</td>\n",
       "      <td>-0.012286</td>\n",
       "      <td>0.000000</td>\n",
       "    </tr>\n",
       "    <tr>\n",
       "      <th>1986-04-30</th>\n",
       "      <td>-0.008244</td>\n",
       "      <td>-0.085283</td>\n",
       "      <td>-0.315897</td>\n",
       "      <td>0.025222</td>\n",
       "      <td>-0.012832</td>\n",
       "      <td>0.008307</td>\n",
       "      <td>-0.016204</td>\n",
       "      <td>-0.017857</td>\n",
       "    </tr>\n",
       "    <tr>\n",
       "      <th>1986-05-31</th>\n",
       "      <td>0.052732</td>\n",
       "      <td>-0.085283</td>\n",
       "      <td>-0.315897</td>\n",
       "      <td>0.025222</td>\n",
       "      <td>-0.012832</td>\n",
       "      <td>0.008307</td>\n",
       "      <td>-0.016204</td>\n",
       "      <td>-0.017857</td>\n",
       "    </tr>\n",
       "    <tr>\n",
       "      <th>1986-06-30</th>\n",
       "      <td>-0.006842</td>\n",
       "      <td>-0.056024</td>\n",
       "      <td>0.063228</td>\n",
       "      <td>0.026041</td>\n",
       "      <td>0.001850</td>\n",
       "      <td>0.008307</td>\n",
       "      <td>-0.003582</td>\n",
       "      <td>-0.017857</td>\n",
       "    </tr>\n",
       "  </tbody>\n",
       "</table>\n",
       "</div>"
      ],
      "text/plain": [
       "            Inflation       USD       WTI        M2  Wage CPI       GDP  \\\n",
       "Date                                                                      \n",
       "1986-02-28  -1.087860 -0.090658 -0.581967  0.014179  0.005545  0.014356   \n",
       "1986-03-31  -0.277463 -0.064713 -0.595654  0.018631 -0.005520  0.014356   \n",
       "1986-04-30  -0.008244 -0.085283 -0.315897  0.025222 -0.012832  0.008307   \n",
       "1986-05-31   0.052732 -0.085283 -0.315897  0.025222 -0.012832  0.008307   \n",
       "1986-06-30  -0.006842 -0.056024  0.063228  0.026041  0.001850  0.008307   \n",
       "\n",
       "            Cap Util  M2 Velocity  \n",
       "Date                               \n",
       "1986-02-28  0.004569     0.000000  \n",
       "1986-03-31 -0.012286     0.000000  \n",
       "1986-04-30 -0.016204    -0.017857  \n",
       "1986-05-31 -0.016204    -0.017857  \n",
       "1986-06-30 -0.003582    -0.017857  "
      ]
     },
     "execution_count": 148,
     "metadata": {},
     "output_type": "execute_result"
    }
   ],
   "source": [
    "QonQ.head()"
   ]
  },
  {
   "cell_type": "code",
   "execution_count": 149,
   "metadata": {},
   "outputs": [
    {
     "data": {
      "text/html": [
       "<div>\n",
       "<style scoped>\n",
       "    .dataframe tbody tr th:only-of-type {\n",
       "        vertical-align: middle;\n",
       "    }\n",
       "\n",
       "    .dataframe tbody tr th {\n",
       "        vertical-align: top;\n",
       "    }\n",
       "\n",
       "    .dataframe thead th {\n",
       "        text-align: right;\n",
       "    }\n",
       "</style>\n",
       "<table border=\"1\" class=\"dataframe\">\n",
       "  <thead>\n",
       "    <tr style=\"text-align: right;\">\n",
       "      <th></th>\n",
       "      <th>Inflation</th>\n",
       "      <th>USD</th>\n",
       "      <th>WTI</th>\n",
       "      <th>M2</th>\n",
       "      <th>Wage CPI</th>\n",
       "      <th>GDP</th>\n",
       "      <th>Cap Util</th>\n",
       "      <th>M2 Velocity</th>\n",
       "    </tr>\n",
       "    <tr>\n",
       "      <th>Date</th>\n",
       "      <th></th>\n",
       "      <th></th>\n",
       "      <th></th>\n",
       "      <th></th>\n",
       "      <th></th>\n",
       "      <th></th>\n",
       "      <th></th>\n",
       "      <th></th>\n",
       "    </tr>\n",
       "  </thead>\n",
       "  <tbody>\n",
       "    <tr>\n",
       "      <th>2020-06-30</th>\n",
       "      <td>0.528811</td>\n",
       "      <td>-0.012056</td>\n",
       "      <td>0.717860</td>\n",
       "      <td>0.098473</td>\n",
       "      <td>-0.003327</td>\n",
       "      <td>-0.094662</td>\n",
       "      <td>-0.063696</td>\n",
       "      <td>-0.200579</td>\n",
       "    </tr>\n",
       "    <tr>\n",
       "      <th>2020-07-31</th>\n",
       "      <td>0.165821</td>\n",
       "      <td>-0.057630</td>\n",
       "      <td>2.046722</td>\n",
       "      <td>0.037880</td>\n",
       "      <td>0.011164</td>\n",
       "      <td>0.084535</td>\n",
       "      <td>0.117517</td>\n",
       "      <td>0.038949</td>\n",
       "    </tr>\n",
       "    <tr>\n",
       "      <th>2020-08-31</th>\n",
       "      <td>-0.114894</td>\n",
       "      <td>-0.063148</td>\n",
       "      <td>0.272511</td>\n",
       "      <td>0.020044</td>\n",
       "      <td>0.016676</td>\n",
       "      <td>0.084535</td>\n",
       "      <td>0.116077</td>\n",
       "      <td>0.038949</td>\n",
       "    </tr>\n",
       "    <tr>\n",
       "      <th>2020-09-30</th>\n",
       "      <td>-0.006608</td>\n",
       "      <td>-0.035152</td>\n",
       "      <td>0.044549</td>\n",
       "      <td>0.014599</td>\n",
       "      <td>0.013487</td>\n",
       "      <td>0.084535</td>\n",
       "      <td>0.049903</td>\n",
       "      <td>0.038949</td>\n",
       "    </tr>\n",
       "    <tr>\n",
       "      <th>2020-10-31</th>\n",
       "      <td>0.155714</td>\n",
       "      <td>-0.035152</td>\n",
       "      <td>0.044549</td>\n",
       "      <td>0.014599</td>\n",
       "      <td>0.013487</td>\n",
       "      <td>0.084535</td>\n",
       "      <td>0.049903</td>\n",
       "      <td>0.038949</td>\n",
       "    </tr>\n",
       "  </tbody>\n",
       "</table>\n",
       "</div>"
      ],
      "text/plain": [
       "            Inflation       USD       WTI        M2  Wage CPI       GDP  \\\n",
       "Date                                                                      \n",
       "2020-06-30   0.528811 -0.012056  0.717860  0.098473 -0.003327 -0.094662   \n",
       "2020-07-31   0.165821 -0.057630  2.046722  0.037880  0.011164  0.084535   \n",
       "2020-08-31  -0.114894 -0.063148  0.272511  0.020044  0.016676  0.084535   \n",
       "2020-09-30  -0.006608 -0.035152  0.044549  0.014599  0.013487  0.084535   \n",
       "2020-10-31   0.155714 -0.035152  0.044549  0.014599  0.013487  0.084535   \n",
       "\n",
       "            Cap Util  M2 Velocity  \n",
       "Date                               \n",
       "2020-06-30 -0.063696    -0.200579  \n",
       "2020-07-31  0.117517     0.038949  \n",
       "2020-08-31  0.116077     0.038949  \n",
       "2020-09-30  0.049903     0.038949  \n",
       "2020-10-31  0.049903     0.038949  "
      ]
     },
     "execution_count": 149,
     "metadata": {},
     "output_type": "execute_result"
    }
   ],
   "source": [
    "QonQ.tail()"
   ]
  },
  {
   "cell_type": "code",
   "execution_count": 150,
   "metadata": {},
   "outputs": [
    {
     "name": "stderr",
     "output_type": "stream",
     "text": [
      "C:\\Users\\rands\\anaconda3\\lib\\site-packages\\seaborn\\_decorators.py:36: FutureWarning: Pass the following variable as a keyword arg: x. From version 0.12, the only valid positional argument will be `data`, and passing other arguments without an explicit keyword will result in an error or misinterpretation.\n",
      "  warnings.warn(\n"
     ]
    },
    {
     "data": {
      "text/plain": [
       "<AxesSubplot:xlabel='Inflation'>"
      ]
     },
     "execution_count": 150,
     "metadata": {},
     "output_type": "execute_result"
    },
    {
     "data": {
      "image/png": "[encoded data removed]",
      "text/plain": [
       "<Figure size 432x288 with 1 Axes>"
      ]
     },
     "metadata": {
      "needs_background": "light"
     },
     "output_type": "display_data"
    }
   ],
   "source": [
    "sns.boxplot(QonQ['Inflation'])"
   ]
  },
  {
   "cell_type": "code",
   "execution_count": 151,
   "metadata": {},
   "outputs": [
    {
     "data": {
      "image/png": "[encoded data removed]",
      "text/plain": [
       "<Figure size 1152x576 with 1 Axes>"
      ]
     },
     "metadata": {
      "needs_background": "light"
     },
     "output_type": "display_data"
    }
   ],
   "source": [
    "fig, ax =plt.subplots(figsize=(16,8))\n",
    "ax.scatter(QonQ['WTI'], QonQ['Inflation'])\n",
    "ax.set_xlabel('Oil')\n",
    "ax.set_ylabel('Inflation')\n",
    "plt.show()"
   ]
  },
  {
   "cell_type": "code",
   "execution_count": 152,
   "metadata": {},
   "outputs": [
    {
     "name": "stdout",
     "output_type": "stream",
     "text": [
      "(array([271, 272, 345], dtype=int64),)\n"
     ]
    }
   ],
   "source": [
    "cpi_out = np.abs(stats.zscore(QonQ['Inflation']))\n",
    "threshold = 3\n",
    "print(np.where( cpi_out > threshold ))"
   ]
  },
  {
   "cell_type": "code",
   "execution_count": 153,
   "metadata": {},
   "outputs": [
    {
     "data": {
      "text/plain": [
       "(-53.252747252747255, -120.83333333333333, 53.88)"
      ]
     },
     "execution_count": 153,
     "metadata": {},
     "output_type": "execute_result"
    }
   ],
   "source": [
    "QonQ['Inflation'][271], QonQ['Inflation'][272], QonQ['Inflation'][345]"
   ]
  },
  {
   "cell_type": "code",
   "execution_count": 154,
   "metadata": {},
   "outputs": [],
   "source": [
    "droprows = [271, 272, 345]\n",
    "QonQ.drop(QonQ.index[droprows], inplace=True)"
   ]
  },
  {
   "cell_type": "code",
   "execution_count": 155,
   "metadata": {},
   "outputs": [
    {
     "name": "stderr",
     "output_type": "stream",
     "text": [
      "C:\\Users\\rands\\anaconda3\\lib\\site-packages\\seaborn\\_decorators.py:36: FutureWarning: Pass the following variable as a keyword arg: x. From version 0.12, the only valid positional argument will be `data`, and passing other arguments without an explicit keyword will result in an error or misinterpretation.\n",
      "  warnings.warn(\n"
     ]
    },
    {
     "data": {
      "text/plain": [
       "<AxesSubplot:xlabel='Inflation'>"
      ]
     },
     "execution_count": 155,
     "metadata": {},
     "output_type": "execute_result"
    },
    {
     "data": {
      "image/png": "[encoded data removed]",
      "text/plain": [
       "<Figure size 432x288 with 1 Axes>"
      ]
     },
     "metadata": {
      "needs_background": "light"
     },
     "output_type": "display_data"
    }
   ],
   "source": [
    "sns.boxplot(QonQ['Inflation'])"
   ]
  },
  {
   "cell_type": "code",
   "execution_count": 156,
   "metadata": {},
   "outputs": [
    {
     "name": "stdout",
     "output_type": "stream",
     "text": [
      "(array([279, 342, 343, 404, 405], dtype=int64),)\n"
     ]
    }
   ],
   "source": [
    "cpi_out = np.abs(stats.zscore(QonQ['Inflation']))\n",
    "threshold = 3\n",
    "print(np.where( cpi_out > threshold ))"
   ]
  },
  {
   "cell_type": "code",
   "execution_count": 157,
   "metadata": {},
   "outputs": [
    {
     "data": {
      "text/plain": [
       "(-10.459016393442623,\n",
       " 19.696629213483146,\n",
       " 11.216216216216218,\n",
       " -6.5592705167173255,\n",
       " -18.78813559322034)"
      ]
     },
     "execution_count": 157,
     "metadata": {},
     "output_type": "execute_result"
    }
   ],
   "source": [
    "QonQ['Inflation'][279], QonQ['Inflation'][342],QonQ['Inflation'][343],QonQ['Inflation'][404],QonQ['Inflation'][405]"
   ]
  },
  {
   "cell_type": "code",
   "execution_count": 158,
   "metadata": {},
   "outputs": [],
   "source": [
    "droprows_two = [279, 342, 343, 404, 405]\n",
    "QonQ.drop(QonQ.index[droprows_two], inplace=True)"
   ]
  },
  {
   "cell_type": "code",
   "execution_count": 159,
   "metadata": {},
   "outputs": [
    {
     "name": "stderr",
     "output_type": "stream",
     "text": [
      "C:\\Users\\rands\\anaconda3\\lib\\site-packages\\seaborn\\_decorators.py:36: FutureWarning: Pass the following variable as a keyword arg: x. From version 0.12, the only valid positional argument will be `data`, and passing other arguments without an explicit keyword will result in an error or misinterpretation.\n",
      "  warnings.warn(\n"
     ]
    },
    {
     "data": {
      "text/plain": [
       "<AxesSubplot:xlabel='Inflation'>"
      ]
     },
     "execution_count": 159,
     "metadata": {},
     "output_type": "execute_result"
    },
    {
     "data": {
      "image/png": "[encoded data removed]",
      "text/plain": [
       "<Figure size 432x288 with 1 Axes>"
      ]
     },
     "metadata": {
      "needs_background": "light"
     },
     "output_type": "display_data"
    }
   ],
   "source": [
    "sns.boxplot(QonQ['Inflation'])"
   ]
  },
  {
   "cell_type": "code",
   "execution_count": 160,
   "metadata": {},
   "outputs": [
    {
     "data": {
      "text/plain": [
       "<AxesSubplot:xlabel='Inflation', ylabel='Count'>"
      ]
     },
     "execution_count": 160,
     "metadata": {},
     "output_type": "execute_result"
    },
    {
     "data": {
      "image/png": "[encoded data removed]",
      "text/plain": [
       "<Figure size 432x288 with 1 Axes>"
      ]
     },
     "metadata": {
      "needs_background": "light"
     },
     "output_type": "display_data"
    }
   ],
   "source": [
    "sns.histplot(data=QonQ['Inflation'])"
   ]
  },
  {
   "cell_type": "code",
   "execution_count": 161,
   "metadata": {},
   "outputs": [
    {
     "name": "stdout",
     "output_type": "stream",
     "text": [
      "(array([245, 270, 271, 279, 343, 344, 346], dtype=int64),)\n"
     ]
    }
   ],
   "source": [
    "# Still many outliers\n",
    "cpi_out = np.abs(stats.zscore(QonQ['Inflation']))\n",
    "threshold = 3\n",
    "print(np.where( cpi_out > threshold ))"
   ]
  },
  {
   "cell_type": "code",
   "execution_count": 162,
   "metadata": {},
   "outputs": [
    {
     "data": {
      "text/plain": [
       "(-2.176245210727969,\n",
       " -4.020560747663551,\n",
       " -3.5338983050847466,\n",
       " 1.807399347116431,\n",
       " 1.596774193548387,\n",
       " 2.1764705882352944,\n",
       " 4.444444444444445)"
      ]
     },
     "execution_count": 162,
     "metadata": {},
     "output_type": "execute_result"
    }
   ],
   "source": [
    "QonQ['Inflation'][245],QonQ['Inflation'][270],QonQ['Inflation'][271],QonQ['Inflation'][279],QonQ['Inflation'][343],QonQ['Inflation'][344],QonQ['Inflation'][346]"
   ]
  },
  {
   "cell_type": "code",
   "execution_count": 163,
   "metadata": {},
   "outputs": [],
   "source": [
    "droprows_three = [245, 270, 271, 279, 343, 344, 346]\n",
    "QonQ.drop(QonQ.index[droprows_three], inplace=True)"
   ]
  },
  {
   "cell_type": "code",
   "execution_count": 164,
   "metadata": {},
   "outputs": [
    {
     "name": "stderr",
     "output_type": "stream",
     "text": [
      "C:\\Users\\rands\\anaconda3\\lib\\site-packages\\seaborn\\_decorators.py:36: FutureWarning: Pass the following variable as a keyword arg: x. From version 0.12, the only valid positional argument will be `data`, and passing other arguments without an explicit keyword will result in an error or misinterpretation.\n",
      "  warnings.warn(\n"
     ]
    },
    {
     "data": {
      "text/plain": [
       "<AxesSubplot:xlabel='Inflation'>"
      ]
     },
     "execution_count": 164,
     "metadata": {},
     "output_type": "execute_result"
    },
    {
     "data": {
      "image/png": "[encoded data removed]",
      "text/plain": [
       "<Figure size 432x288 with 1 Axes>"
      ]
     },
     "metadata": {
      "needs_background": "light"
     },
     "output_type": "display_data"
    }
   ],
   "source": [
    "sns.boxplot(QonQ['Inflation'])"
   ]
  },
  {
   "cell_type": "code",
   "execution_count": 165,
   "metadata": {},
   "outputs": [
    {
     "data": {
      "text/plain": [
       "<AxesSubplot:xlabel='Inflation', ylabel='Count'>"
      ]
     },
     "execution_count": 165,
     "metadata": {},
     "output_type": "execute_result"
    },
    {
     "data": {
      "image/png": "[encoded data removed]",
      "text/plain": [
       "<Figure size 432x288 with 1 Axes>"
      ]
     },
     "metadata": {
      "needs_background": "light"
     },
     "output_type": "display_data"
    }
   ],
   "source": [
    "sns.histplot(data=QonQ['Inflation'])"
   ]
  },
  {
   "cell_type": "code",
   "execution_count": 166,
   "metadata": {},
   "outputs": [
    {
     "data": {
      "image/png": "[encoded data removed]",
      "text/plain": [
       "<Figure size 1152x576 with 1 Axes>"
      ]
     },
     "metadata": {
      "needs_background": "light"
     },
     "output_type": "display_data"
    }
   ],
   "source": [
    "fig, ax =plt.subplots(figsize=(16,8))\n",
    "ax.scatter(QonQ['WTI'], QonQ['Inflation'])\n",
    "ax.set_xlabel('Oil')\n",
    "ax.set_ylabel('Inflation')\n",
    "plt.show()"
   ]
  },
  {
   "cell_type": "code",
   "execution_count": 167,
   "metadata": {},
   "outputs": [
    {
     "name": "stdout",
     "output_type": "stream",
     "text": [
      "<class 'pandas.core.frame.DataFrame'>\n",
      "DatetimeIndex: 402 entries, 1986-02-28 to 2020-10-31\n",
      "Data columns (total 8 columns):\n",
      " #   Column       Non-Null Count  Dtype  \n",
      "---  ------       --------------  -----  \n",
      " 0   Inflation    402 non-null    float64\n",
      " 1   USD          402 non-null    float64\n",
      " 2   WTI          402 non-null    float64\n",
      " 3   M2           402 non-null    float64\n",
      " 4   Wage CPI     402 non-null    float64\n",
      " 5   GDP          402 non-null    float64\n",
      " 6   Cap Util     402 non-null    float64\n",
      " 7   M2 Velocity  402 non-null    float64\n",
      "dtypes: float64(8)\n",
      "memory usage: 28.3 KB\n"
     ]
    }
   ],
   "source": [
    "# Checking to see if they were officially dropped\n",
    "QonQ.info()"
   ]
  },
  {
   "cell_type": "code",
   "execution_count": 168,
   "metadata": {},
   "outputs": [
    {
     "name": "stdout",
     "output_type": "stream",
     "text": [
      "Finished\n"
     ]
    }
   ],
   "source": [
    "QonQ = QonQ.sort_values(by=\"Date\", ascending=False)\n",
    "QonQ_all_csv = pd.DataFrame(QonQ)\n",
    "\n",
    "QonQ_all_csv.to_excel('./_Capstone_One_Inflation/data/1.0_Segmented_by_periods/QonQ_all.xlsx')\n",
    "print('Finished')"
   ]
  },
  {
   "cell_type": "markdown",
   "metadata": {},
   "source": [
    "# 2.5.2 pct changes | Quarter on Variables & Two Quarters on Inflation<a id='2.5_Load_The_Ski_Resort_Data'></a>"
   ]
  },
  {
   "cell_type": "code",
   "execution_count": 169,
   "metadata": {},
   "outputs": [],
   "source": [
    "# ( Complete ) Re-run on a 2 Quarter move in Inflation\n",
    "# The others stay the same in this section so you can use the data from before\n",
    "TQ_cpi = us_cpi.pct_change(periods=-6) * -1\n",
    "# TQ_cpi.tail(45)"
   ]
  },
  {
   "cell_type": "code",
   "execution_count": 170,
   "metadata": {},
   "outputs": [],
   "source": [
    "# Left Join but aware that Inflation reports when others are not so employed a forward fill on the variables\n",
    "\n",
    "TQonQ = TQ_cpi.merge(QonQ_vars, how='left', on='Date')\n",
    "cols = ['USD','WTI','M2','Wage CPI','GDP','Cap Util','M2 Velocity' ]\n",
    "TQonQ.loc[:,cols] = TQonQ.loc[:,cols].ffill()\n",
    "TQonQ.columns = ['Inflation','USD','WTI','M2','Wage CPI','GDP','Cap Util','M2 Velocity']\n",
    "TQonQ = TQonQ.dropna()"
   ]
  },
  {
   "cell_type": "code",
   "execution_count": 171,
   "metadata": {},
   "outputs": [
    {
     "name": "stdout",
     "output_type": "stream",
     "text": [
      "<class 'pandas.core.frame.DataFrame'>\n",
      "DatetimeIndex: 414 entries, 1986-02-28 to 2020-07-31\n",
      "Data columns (total 8 columns):\n",
      " #   Column       Non-Null Count  Dtype  \n",
      "---  ------       --------------  -----  \n",
      " 0   Inflation    414 non-null    float64\n",
      " 1   USD          414 non-null    float64\n",
      " 2   WTI          414 non-null    float64\n",
      " 3   M2           414 non-null    float64\n",
      " 4   Wage CPI     414 non-null    float64\n",
      " 5   GDP          414 non-null    float64\n",
      " 6   Cap Util     414 non-null    float64\n",
      " 7   M2 Velocity  414 non-null    float64\n",
      "dtypes: float64(8)\n",
      "memory usage: 29.1 KB\n"
     ]
    }
   ],
   "source": [
    "TQonQ.info()"
   ]
  },
  {
   "cell_type": "code",
   "execution_count": 172,
   "metadata": {},
   "outputs": [
    {
     "data": {
      "text/html": [
       "<div>\n",
       "<style scoped>\n",
       "    .dataframe tbody tr th:only-of-type {\n",
       "        vertical-align: middle;\n",
       "    }\n",
       "\n",
       "    .dataframe tbody tr th {\n",
       "        vertical-align: top;\n",
       "    }\n",
       "\n",
       "    .dataframe thead th {\n",
       "        text-align: right;\n",
       "    }\n",
       "</style>\n",
       "<table border=\"1\" class=\"dataframe\">\n",
       "  <thead>\n",
       "    <tr style=\"text-align: right;\">\n",
       "      <th></th>\n",
       "      <th>Inflation</th>\n",
       "      <th>USD</th>\n",
       "      <th>WTI</th>\n",
       "      <th>M2</th>\n",
       "      <th>Wage CPI</th>\n",
       "      <th>GDP</th>\n",
       "      <th>Cap Util</th>\n",
       "      <th>M2 Velocity</th>\n",
       "    </tr>\n",
       "    <tr>\n",
       "      <th>Date</th>\n",
       "      <th></th>\n",
       "      <th></th>\n",
       "      <th></th>\n",
       "      <th></th>\n",
       "      <th></th>\n",
       "      <th></th>\n",
       "      <th></th>\n",
       "      <th></th>\n",
       "    </tr>\n",
       "  </thead>\n",
       "  <tbody>\n",
       "    <tr>\n",
       "      <th>2020-03-31</th>\n",
       "      <td>-0.122538</td>\n",
       "      <td>0.026371</td>\n",
       "      <td>-0.671246</td>\n",
       "      <td>0.077814</td>\n",
       "      <td>-0.001970</td>\n",
       "      <td>-0.008564</td>\n",
       "      <td>-0.046807</td>\n",
       "      <td>-0.032235</td>\n",
       "    </tr>\n",
       "    <tr>\n",
       "      <th>2020-04-30</th>\n",
       "      <td>0.721658</td>\n",
       "      <td>0.012194</td>\n",
       "      <td>-0.638652</td>\n",
       "      <td>0.127995</td>\n",
       "      <td>-0.011448</td>\n",
       "      <td>-0.094662</td>\n",
       "      <td>-0.164406</td>\n",
       "      <td>-0.200579</td>\n",
       "    </tr>\n",
       "    <tr>\n",
       "      <th>2020-05-31</th>\n",
       "      <td>0.899574</td>\n",
       "      <td>0.012194</td>\n",
       "      <td>-0.638652</td>\n",
       "      <td>0.127995</td>\n",
       "      <td>-0.011448</td>\n",
       "      <td>-0.094662</td>\n",
       "      <td>-0.164406</td>\n",
       "      <td>-0.200579</td>\n",
       "    </tr>\n",
       "    <tr>\n",
       "      <th>2020-06-30</th>\n",
       "      <td>0.525698</td>\n",
       "      <td>-0.012056</td>\n",
       "      <td>0.717860</td>\n",
       "      <td>0.098473</td>\n",
       "      <td>-0.003327</td>\n",
       "      <td>-0.094662</td>\n",
       "      <td>-0.063696</td>\n",
       "      <td>-0.200579</td>\n",
       "    </tr>\n",
       "    <tr>\n",
       "      <th>2020-07-31</th>\n",
       "      <td>0.295714</td>\n",
       "      <td>-0.057630</td>\n",
       "      <td>2.046722</td>\n",
       "      <td>0.037880</td>\n",
       "      <td>0.011164</td>\n",
       "      <td>0.084535</td>\n",
       "      <td>0.117517</td>\n",
       "      <td>0.038949</td>\n",
       "    </tr>\n",
       "  </tbody>\n",
       "</table>\n",
       "</div>"
      ],
      "text/plain": [
       "            Inflation       USD       WTI        M2  Wage CPI       GDP  \\\n",
       "Date                                                                      \n",
       "2020-03-31  -0.122538  0.026371 -0.671246  0.077814 -0.001970 -0.008564   \n",
       "2020-04-30   0.721658  0.012194 -0.638652  0.127995 -0.011448 -0.094662   \n",
       "2020-05-31   0.899574  0.012194 -0.638652  0.127995 -0.011448 -0.094662   \n",
       "2020-06-30   0.525698 -0.012056  0.717860  0.098473 -0.003327 -0.094662   \n",
       "2020-07-31   0.295714 -0.057630  2.046722  0.037880  0.011164  0.084535   \n",
       "\n",
       "            Cap Util  M2 Velocity  \n",
       "Date                               \n",
       "2020-03-31 -0.046807    -0.032235  \n",
       "2020-04-30 -0.164406    -0.200579  \n",
       "2020-05-31 -0.164406    -0.200579  \n",
       "2020-06-30 -0.063696    -0.200579  \n",
       "2020-07-31  0.117517     0.038949  "
      ]
     },
     "execution_count": 172,
     "metadata": {},
     "output_type": "execute_result"
    }
   ],
   "source": [
    "TQonQ.tail()"
   ]
  },
  {
   "cell_type": "code",
   "execution_count": 173,
   "metadata": {},
   "outputs": [
    {
     "data": {
      "text/html": [
       "<div>\n",
       "<style scoped>\n",
       "    .dataframe tbody tr th:only-of-type {\n",
       "        vertical-align: middle;\n",
       "    }\n",
       "\n",
       "    .dataframe tbody tr th {\n",
       "        vertical-align: top;\n",
       "    }\n",
       "\n",
       "    .dataframe thead th {\n",
       "        text-align: right;\n",
       "    }\n",
       "</style>\n",
       "<table border=\"1\" class=\"dataframe\">\n",
       "  <thead>\n",
       "    <tr style=\"text-align: right;\">\n",
       "      <th></th>\n",
       "      <th>Inflation</th>\n",
       "      <th>USD</th>\n",
       "      <th>WTI</th>\n",
       "      <th>M2</th>\n",
       "      <th>Wage CPI</th>\n",
       "      <th>GDP</th>\n",
       "      <th>Cap Util</th>\n",
       "      <th>M2 Velocity</th>\n",
       "    </tr>\n",
       "    <tr>\n",
       "      <th>Date</th>\n",
       "      <th></th>\n",
       "      <th></th>\n",
       "      <th></th>\n",
       "      <th></th>\n",
       "      <th></th>\n",
       "      <th></th>\n",
       "      <th></th>\n",
       "      <th></th>\n",
       "    </tr>\n",
       "  </thead>\n",
       "  <tbody>\n",
       "    <tr>\n",
       "      <th>1986-02-28</th>\n",
       "      <td>-0.977764</td>\n",
       "      <td>-0.090658</td>\n",
       "      <td>-0.581967</td>\n",
       "      <td>0.014179</td>\n",
       "      <td>0.005545</td>\n",
       "      <td>0.014356</td>\n",
       "      <td>0.004569</td>\n",
       "      <td>0.000000</td>\n",
       "    </tr>\n",
       "    <tr>\n",
       "      <th>1986-03-31</th>\n",
       "      <td>-0.286203</td>\n",
       "      <td>-0.064713</td>\n",
       "      <td>-0.595654</td>\n",
       "      <td>0.018631</td>\n",
       "      <td>-0.005520</td>\n",
       "      <td>0.014356</td>\n",
       "      <td>-0.012286</td>\n",
       "      <td>0.000000</td>\n",
       "    </tr>\n",
       "    <tr>\n",
       "      <th>1986-04-30</th>\n",
       "      <td>-0.080163</td>\n",
       "      <td>-0.085283</td>\n",
       "      <td>-0.315897</td>\n",
       "      <td>0.025222</td>\n",
       "      <td>-0.012832</td>\n",
       "      <td>0.008307</td>\n",
       "      <td>-0.016204</td>\n",
       "      <td>-0.017857</td>\n",
       "    </tr>\n",
       "    <tr>\n",
       "      <th>1986-05-31</th>\n",
       "      <td>-0.161215</td>\n",
       "      <td>-0.085283</td>\n",
       "      <td>-0.315897</td>\n",
       "      <td>0.025222</td>\n",
       "      <td>-0.012832</td>\n",
       "      <td>0.008307</td>\n",
       "      <td>-0.016204</td>\n",
       "      <td>-0.017857</td>\n",
       "    </tr>\n",
       "    <tr>\n",
       "      <th>1986-06-30</th>\n",
       "      <td>-0.608379</td>\n",
       "      <td>-0.056024</td>\n",
       "      <td>0.063228</td>\n",
       "      <td>0.026041</td>\n",
       "      <td>0.001850</td>\n",
       "      <td>0.008307</td>\n",
       "      <td>-0.003582</td>\n",
       "      <td>-0.017857</td>\n",
       "    </tr>\n",
       "  </tbody>\n",
       "</table>\n",
       "</div>"
      ],
      "text/plain": [
       "            Inflation       USD       WTI        M2  Wage CPI       GDP  \\\n",
       "Date                                                                      \n",
       "1986-02-28  -0.977764 -0.090658 -0.581967  0.014179  0.005545  0.014356   \n",
       "1986-03-31  -0.286203 -0.064713 -0.595654  0.018631 -0.005520  0.014356   \n",
       "1986-04-30  -0.080163 -0.085283 -0.315897  0.025222 -0.012832  0.008307   \n",
       "1986-05-31  -0.161215 -0.085283 -0.315897  0.025222 -0.012832  0.008307   \n",
       "1986-06-30  -0.608379 -0.056024  0.063228  0.026041  0.001850  0.008307   \n",
       "\n",
       "            Cap Util  M2 Velocity  \n",
       "Date                               \n",
       "1986-02-28  0.004569     0.000000  \n",
       "1986-03-31 -0.012286     0.000000  \n",
       "1986-04-30 -0.016204    -0.017857  \n",
       "1986-05-31 -0.016204    -0.017857  \n",
       "1986-06-30 -0.003582    -0.017857  "
      ]
     },
     "execution_count": 173,
     "metadata": {},
     "output_type": "execute_result"
    }
   ],
   "source": [
    "# To reiterate; please be aware that M2 Velocity didn't see a change from Q4/85 to Q1/86 so Zero is not incorrect\n",
    "TQonQ.head()"
   ]
  },
  {
   "cell_type": "code",
   "execution_count": 174,
   "metadata": {},
   "outputs": [
    {
     "name": "stderr",
     "output_type": "stream",
     "text": [
      "C:\\Users\\rands\\anaconda3\\lib\\site-packages\\seaborn\\_decorators.py:36: FutureWarning: Pass the following variable as a keyword arg: x. From version 0.12, the only valid positional argument will be `data`, and passing other arguments without an explicit keyword will result in an error or misinterpretation.\n",
      "  warnings.warn(\n"
     ]
    },
    {
     "data": {
      "text/plain": [
       "<AxesSubplot:xlabel='Inflation'>"
      ]
     },
     "execution_count": 174,
     "metadata": {},
     "output_type": "execute_result"
    },
    {
     "data": {
      "image/png": "[encoded data removed]",
      "text/plain": [
       "<Figure size 432x288 with 1 Axes>"
      ]
     },
     "metadata": {
      "needs_background": "light"
     },
     "output_type": "display_data"
    }
   ],
   "source": [
    "sns.boxplot(TQonQ['Inflation'])"
   ]
  },
  {
   "cell_type": "code",
   "execution_count": 175,
   "metadata": {},
   "outputs": [
    {
     "name": "stdout",
     "output_type": "stream",
     "text": [
      "(array([268, 269, 342, 345], dtype=int64),)\n"
     ]
    }
   ],
   "source": [
    "TQ_cpi_out = np.abs(stats.zscore(TQonQ['Inflation']))\n",
    "threshold = 3\n",
    "print(np.where( TQ_cpi_out > threshold ))"
   ]
  },
  {
   "cell_type": "code",
   "execution_count": 176,
   "metadata": {},
   "outputs": [
    {
     "data": {
      "text/plain": [
       "(-54.18681318681319, -185.66666666666666, 69.0, 34.050000000000004)"
      ]
     },
     "execution_count": 176,
     "metadata": {},
     "output_type": "execute_result"
    }
   ],
   "source": [
    "TQonQ['Inflation'][268],TQonQ['Inflation'][269],TQonQ['Inflation'][342],TQonQ['Inflation'][345]"
   ]
  },
  {
   "cell_type": "code",
   "execution_count": 177,
   "metadata": {},
   "outputs": [],
   "source": [
    "droping_once = [268, 269, 342, 345]\n",
    "TQonQ.drop(TQonQ.index[droping_once], inplace=True)"
   ]
  },
  {
   "cell_type": "code",
   "execution_count": 178,
   "metadata": {},
   "outputs": [
    {
     "name": "stderr",
     "output_type": "stream",
     "text": [
      "C:\\Users\\rands\\anaconda3\\lib\\site-packages\\seaborn\\_decorators.py:36: FutureWarning: Pass the following variable as a keyword arg: x. From version 0.12, the only valid positional argument will be `data`, and passing other arguments without an explicit keyword will result in an error or misinterpretation.\n",
      "  warnings.warn(\n"
     ]
    },
    {
     "data": {
      "text/plain": [
       "<AxesSubplot:xlabel='Inflation'>"
      ]
     },
     "execution_count": 178,
     "metadata": {},
     "output_type": "execute_result"
    },
    {
     "data": {
      "image/png": "[encoded data removed]",
      "text/plain": [
       "<Figure size 432x288 with 1 Axes>"
      ]
     },
     "metadata": {
      "needs_background": "light"
     },
     "output_type": "display_data"
    }
   ],
   "source": [
    "sns.boxplot(TQonQ['Inflation'])"
   ]
  },
  {
   "cell_type": "code",
   "execution_count": 179,
   "metadata": {},
   "outputs": [
    {
     "name": "stdout",
     "output_type": "stream",
     "text": [
      "(array([268, 269, 339, 340, 341, 401], dtype=int64),)\n"
     ]
    }
   ],
   "source": [
    "TQ_cpi_out_second = np.abs(stats.zscore(TQonQ['Inflation']))\n",
    "threshold = 3\n",
    "print(np.where( TQ_cpi_out_second > threshold ))"
   ]
  },
  {
   "cell_type": "code",
   "execution_count": 180,
   "metadata": {},
   "outputs": [
    {
     "data": {
      "text/plain": [
       "(-21.762711864406782,\n",
       " 13.856770833333334,\n",
       " 23.382022471910112,\n",
       " 23.405405405405407,\n",
       " 9.319999999999999,\n",
       " -16.38135593220339)"
      ]
     },
     "execution_count": 180,
     "metadata": {},
     "output_type": "execute_result"
    }
   ],
   "source": [
    "TQonQ['Inflation'][268],TQonQ['Inflation'][269],TQonQ['Inflation'][339],TQonQ['Inflation'][340],TQonQ['Inflation'][341],TQonQ['Inflation'][401]"
   ]
  },
  {
   "cell_type": "code",
   "execution_count": 181,
   "metadata": {},
   "outputs": [],
   "source": [
    "droping_twice = [268, 269, 339, 340, 341, 401]\n",
    "TQonQ.drop(TQonQ.index[droping_twice], inplace=True)"
   ]
  },
  {
   "cell_type": "code",
   "execution_count": 182,
   "metadata": {},
   "outputs": [
    {
     "name": "stderr",
     "output_type": "stream",
     "text": [
      "C:\\Users\\rands\\anaconda3\\lib\\site-packages\\seaborn\\_decorators.py:36: FutureWarning: Pass the following variable as a keyword arg: x. From version 0.12, the only valid positional argument will be `data`, and passing other arguments without an explicit keyword will result in an error or misinterpretation.\n",
      "  warnings.warn(\n"
     ]
    },
    {
     "data": {
      "text/plain": [
       "<AxesSubplot:xlabel='Inflation'>"
      ]
     },
     "execution_count": 182,
     "metadata": {},
     "output_type": "execute_result"
    },
    {
     "data": {
      "image/png": "[encoded data removed]",
      "text/plain": [
       "<Figure size 432x288 with 1 Axes>"
      ]
     },
     "metadata": {
      "needs_background": "light"
     },
     "output_type": "display_data"
    }
   ],
   "source": [
    "sns.boxplot(TQonQ['Inflation'])"
   ]
  },
  {
   "cell_type": "code",
   "execution_count": 183,
   "metadata": {},
   "outputs": [
    {
     "name": "stdout",
     "output_type": "stream",
     "text": [
      "(array([267, 268, 274, 337, 341, 395, 396], dtype=int64),)\n"
     ]
    }
   ],
   "source": [
    "TQ_cpi_out_third = np.abs(stats.zscore(TQonQ['Inflation']))\n",
    "threshold = 3\n",
    "print(np.where( TQ_cpi_out_third > threshold ))"
   ]
  },
  {
   "cell_type": "code",
   "execution_count": 184,
   "metadata": {},
   "outputs": [
    {
     "data": {
      "text/plain": [
       "(-2.9028037383177567,\n",
       " 5.959294436906377,\n",
       " -3.027322404371585,\n",
       " -5.096774193548387,\n",
       " 2.1695906432748537,\n",
       " -4.361702127659575,\n",
       " -2.5371517027863777)"
      ]
     },
     "execution_count": 184,
     "metadata": {},
     "output_type": "execute_result"
    }
   ],
   "source": [
    "TQonQ['Inflation'][267],TQonQ['Inflation'][268],TQonQ['Inflation'][274],TQonQ['Inflation'][337],TQonQ['Inflation'][341],TQonQ['Inflation'][395],TQonQ['Inflation'][396]"
   ]
  },
  {
   "cell_type": "code",
   "execution_count": 185,
   "metadata": {},
   "outputs": [],
   "source": [
    "droping_third = [267, 268, 274, 337, 341, 395, 396]\n",
    "TQonQ.drop(TQonQ.index[droping_third], inplace=True)"
   ]
  },
  {
   "cell_type": "code",
   "execution_count": 186,
   "metadata": {},
   "outputs": [
    {
     "name": "stderr",
     "output_type": "stream",
     "text": [
      "C:\\Users\\rands\\anaconda3\\lib\\site-packages\\seaborn\\_decorators.py:36: FutureWarning: Pass the following variable as a keyword arg: x. From version 0.12, the only valid positional argument will be `data`, and passing other arguments without an explicit keyword will result in an error or misinterpretation.\n",
      "  warnings.warn(\n"
     ]
    },
    {
     "data": {
      "text/plain": [
       "<AxesSubplot:xlabel='Inflation'>"
      ]
     },
     "execution_count": 186,
     "metadata": {},
     "output_type": "execute_result"
    },
    {
     "data": {
      "image/png": "[encoded data removed]",
      "text/plain": [
       "<Figure size 432x288 with 1 Axes>"
      ]
     },
     "metadata": {
      "needs_background": "light"
     },
     "output_type": "display_data"
    }
   ],
   "source": [
    "sns.boxplot(TQonQ['Inflation'])"
   ]
  },
  {
   "cell_type": "code",
   "execution_count": 187,
   "metadata": {},
   "outputs": [
    {
     "name": "stdout",
     "output_type": "stream",
     "text": [
      "(array([242, 267, 272, 273, 274, 275, 276, 279, 333, 334, 390], dtype=int64),)\n"
     ]
    }
   ],
   "source": [
    "TQ_cpi_out_fourth = np.abs(stats.zscore(TQonQ['Inflation']))\n",
    "threshold = 3\n",
    "print(np.where( TQ_cpi_out_fourth > threshold ))"
   ]
  },
  {
   "cell_type": "code",
   "execution_count": 188,
   "metadata": {},
   "outputs": [
    {
     "data": {
      "text/plain": [
       "(1.1590296495956873,\n",
       " 1.6969532100108813,\n",
       " -0.6089258698940996,\n",
       " 0.12725499756216485,\n",
       " 0.2787746170678338)"
      ]
     },
     "execution_count": 188,
     "metadata": {},
     "output_type": "execute_result"
    }
   ],
   "source": [
    "TQonQ['Inflation'][270],TQonQ['Inflation'][272],TQonQ['Inflation'][332],TQonQ['Inflation'][385],TQonQ['Inflation'][386]"
   ]
  },
  {
   "cell_type": "code",
   "execution_count": 189,
   "metadata": {},
   "outputs": [],
   "source": [
    "droping_fourth = [270, 272, 332, 385, 386]\n",
    "TQonQ.drop(TQonQ.index[droping_fourth], inplace=True)"
   ]
  },
  {
   "cell_type": "code",
   "execution_count": 190,
   "metadata": {},
   "outputs": [
    {
     "name": "stderr",
     "output_type": "stream",
     "text": [
      "C:\\Users\\rands\\anaconda3\\lib\\site-packages\\seaborn\\_decorators.py:36: FutureWarning: Pass the following variable as a keyword arg: x. From version 0.12, the only valid positional argument will be `data`, and passing other arguments without an explicit keyword will result in an error or misinterpretation.\n",
      "  warnings.warn(\n"
     ]
    },
    {
     "data": {
      "text/plain": [
       "<AxesSubplot:xlabel='Inflation'>"
      ]
     },
     "execution_count": 190,
     "metadata": {},
     "output_type": "execute_result"
    },
    {
     "data": {
      "image/png": "[encoded data removed]",
      "text/plain": [
       "<Figure size 432x288 with 1 Axes>"
      ]
     },
     "metadata": {
      "needs_background": "light"
     },
     "output_type": "display_data"
    }
   ],
   "source": [
    "sns.boxplot(TQonQ['Inflation'])"
   ]
  },
  {
   "cell_type": "code",
   "execution_count": 191,
   "metadata": {},
   "outputs": [
    {
     "data": {
      "text/plain": [
       "<AxesSubplot:xlabel='Inflation', ylabel='Count'>"
      ]
     },
     "execution_count": 191,
     "metadata": {},
     "output_type": "execute_result"
    },
    {
     "data": {
      "image/png": "[encoded data removed]",
      "text/plain": [
       "<Figure size 432x288 with 1 Axes>"
      ]
     },
     "metadata": {
      "needs_background": "light"
     },
     "output_type": "display_data"
    }
   ],
   "source": [
    "sns.histplot(data=TQonQ['Inflation'])"
   ]
  },
  {
   "cell_type": "code",
   "execution_count": 192,
   "metadata": {},
   "outputs": [
    {
     "name": "stdout",
     "output_type": "stream",
     "text": [
      "<class 'pandas.core.frame.DataFrame'>\n",
      "DatetimeIndex: 392 entries, 1986-02-28 to 2020-07-31\n",
      "Data columns (total 8 columns):\n",
      " #   Column       Non-Null Count  Dtype  \n",
      "---  ------       --------------  -----  \n",
      " 0   Inflation    392 non-null    float64\n",
      " 1   USD          392 non-null    float64\n",
      " 2   WTI          392 non-null    float64\n",
      " 3   M2           392 non-null    float64\n",
      " 4   Wage CPI     392 non-null    float64\n",
      " 5   GDP          392 non-null    float64\n",
      " 6   Cap Util     392 non-null    float64\n",
      " 7   M2 Velocity  392 non-null    float64\n",
      "dtypes: float64(8)\n",
      "memory usage: 27.6 KB\n"
     ]
    }
   ],
   "source": [
    "TQonQ.info()"
   ]
  },
  {
   "cell_type": "code",
   "execution_count": 193,
   "metadata": {},
   "outputs": [
    {
     "name": "stdout",
     "output_type": "stream",
     "text": [
      "Finished\n"
     ]
    }
   ],
   "source": [
    "# Variables are confirmed to be consistent to previous round for the non-Inflation #'s\n",
    "# Inflation numbers were checked & accurate\n",
    "# Thus ready to depart to a csv\n",
    "\n",
    "TQonQ = pd.DataFrame(TQonQ)\n",
    "\n",
    "TQonQ.to_excel('./_Capstone_One_Inflation/data/1.0_Segmented_by_periods/TQonQ_all.xlsx')\n",
    "print('Finished')"
   ]
  },
  {
   "cell_type": "markdown",
   "metadata": {},
   "source": [
    "# 2.5.3 pct change | Variables Quarter ( rolling average ), 2 Quarters Inflation<a id='2.5_Load_The_Ski_Resort_Data'></a>"
   ]
  },
  {
   "cell_type": "code",
   "execution_count": 194,
   "metadata": {},
   "outputs": [],
   "source": [
    "# ( Complete ) Daily | USD & WTI | removed 24 days from 90 ( i.e. weekends ) but doesn't include holidays\n",
    "USD_roll_avg = pd.Series(us_usd['Settle'].pct_change(periods=66)).rolling(66).mean()\n",
    "WTI_roll_avg = pd.Series(us_wti['Last'].pct_change(periods=66)).rolling(66).mean()\n",
    "\n",
    "# ( Complete ) Wkly | M2 \n",
    "Q_M2_avg = pd.Series(us_M2.pct_change(periods=12)).rolling(12).mean()\n",
    "\n",
    "# ( Complete ) Mnthly | Capital Utilization, Wages, Inflation\n",
    "Q_caputil_avg = pd.Series(us_cap_util.pct_change(periods=3)).rolling(3).mean()\n",
    "Q_wages_avg = pd.Series(us_wages_cpi.pct_change(periods=3)).rolling(3).mean()\n",
    "\n",
    "Q_cpi_2 = us_cpi.pct_change(periods=-6) * -1\n",
    "\n",
    "# ( Complete ) Quarterly | GDP, Velocity of Money\n",
    "Q_GDP_2 = us_gdp.pct_change(periods=1)\n",
    "Q_velomoney_2 = m2_velo.pct_change(periods=1)\n"
   ]
  },
  {
   "cell_type": "code",
   "execution_count": 195,
   "metadata": {},
   "outputs": [],
   "source": [
    "vars_roll = pd.concat([ USD_roll_avg,WTI_roll_avg,Q_M2_avg,Q_caputil_avg,Q_wages_avg,Q_GDP_2,Q_velomoney_2 ],\n",
    "                        axis = 1, ignore_index=False)\n",
    "vars_roll = vars_roll.fillna(method='ffill')\n",
    "vars_roll.columns = ['USD','WTI','M2','Cap Util','Wage CPI','GDP','M2 Velocity']\n",
    "vars_roll.index.names = [\"Date\"]\n",
    "# main_df = main_df.sort_values(by=\"Date\", ascending=False)"
   ]
  },
  {
   "cell_type": "code",
   "execution_count": 202,
   "metadata": {},
   "outputs": [],
   "source": [
    "QonQ_roll = Q_cpi_2.merge(vars_roll, how='left', on='Date')\n",
    "cols = ['Inflation','USD','WTI','M2','Cap Util','Wage CPI','GDP','M2 Velocity' ]\n",
    "# QonQ_roll.loc[:,cols] = QonQ_roll.loc[:,cols].ffill()\n",
    "QonQ_roll.columns = ['Inflation','USD','WTI','M2','Cap Util','Wage CPI','GDP','M2 Velocity']\n",
    "QonQ_roll = QonQ_roll.dropna()"
   ]
  },
  {
   "cell_type": "code",
   "execution_count": 203,
   "metadata": {},
   "outputs": [
    {
     "data": {
      "text/html": [
       "<div>\n",
       "<style scoped>\n",
       "    .dataframe tbody tr th:only-of-type {\n",
       "        vertical-align: middle;\n",
       "    }\n",
       "\n",
       "    .dataframe tbody tr th {\n",
       "        vertical-align: top;\n",
       "    }\n",
       "\n",
       "    .dataframe thead th {\n",
       "        text-align: right;\n",
       "    }\n",
       "</style>\n",
       "<table border=\"1\" class=\"dataframe\">\n",
       "  <thead>\n",
       "    <tr style=\"text-align: right;\">\n",
       "      <th></th>\n",
       "      <th>Inflation</th>\n",
       "      <th>USD</th>\n",
       "      <th>WTI</th>\n",
       "      <th>M2</th>\n",
       "      <th>Cap Util</th>\n",
       "      <th>Wage CPI</th>\n",
       "      <th>GDP</th>\n",
       "      <th>M2 Velocity</th>\n",
       "    </tr>\n",
       "    <tr>\n",
       "      <th>Date</th>\n",
       "      <th></th>\n",
       "      <th></th>\n",
       "      <th></th>\n",
       "      <th></th>\n",
       "      <th></th>\n",
       "      <th></th>\n",
       "      <th></th>\n",
       "      <th></th>\n",
       "    </tr>\n",
       "  </thead>\n",
       "  <tbody>\n",
       "    <tr>\n",
       "      <th>2020-01-31</th>\n",
       "      <td>-1.522312</td>\n",
       "      <td>-0.006506</td>\n",
       "      <td>0.047930</td>\n",
       "      <td>0.017374</td>\n",
       "      <td>-0.002764</td>\n",
       "      <td>0.006648</td>\n",
       "      <td>-0.008564</td>\n",
       "      <td>-0.032235</td>\n",
       "    </tr>\n",
       "    <tr>\n",
       "      <th>2020-03-31</th>\n",
       "      <td>-0.122538</td>\n",
       "      <td>0.004973</td>\n",
       "      <td>-0.162944</td>\n",
       "      <td>0.023476</td>\n",
       "      <td>-0.018873</td>\n",
       "      <td>0.001833</td>\n",
       "      <td>-0.008564</td>\n",
       "      <td>-0.032235</td>\n",
       "    </tr>\n",
       "    <tr>\n",
       "      <th>2020-04-30</th>\n",
       "      <td>0.721658</td>\n",
       "      <td>0.018070</td>\n",
       "      <td>-0.414056</td>\n",
       "      <td>0.051578</td>\n",
       "      <td>-0.073183</td>\n",
       "      <td>-0.003580</td>\n",
       "      <td>-0.094662</td>\n",
       "      <td>-0.200579</td>\n",
       "    </tr>\n",
       "    <tr>\n",
       "      <th>2020-06-30</th>\n",
       "      <td>0.525698</td>\n",
       "      <td>0.007394</td>\n",
       "      <td>-0.311010</td>\n",
       "      <td>0.129598</td>\n",
       "      <td>-0.128528</td>\n",
       "      <td>-0.009161</td>\n",
       "      <td>-0.094662</td>\n",
       "      <td>-0.200579</td>\n",
       "    </tr>\n",
       "    <tr>\n",
       "      <th>2020-07-31</th>\n",
       "      <td>0.295714</td>\n",
       "      <td>-0.018090</td>\n",
       "      <td>0.235285</td>\n",
       "      <td>0.113321</td>\n",
       "      <td>-0.034554</td>\n",
       "      <td>-0.001624</td>\n",
       "      <td>0.084535</td>\n",
       "      <td>0.038949</td>\n",
       "    </tr>\n",
       "  </tbody>\n",
       "</table>\n",
       "</div>"
      ],
      "text/plain": [
       "            Inflation       USD       WTI        M2  Cap Util  Wage CPI  \\\n",
       "Date                                                                      \n",
       "2020-01-31  -1.522312 -0.006506  0.047930  0.017374 -0.002764  0.006648   \n",
       "2020-03-31  -0.122538  0.004973 -0.162944  0.023476 -0.018873  0.001833   \n",
       "2020-04-30   0.721658  0.018070 -0.414056  0.051578 -0.073183 -0.003580   \n",
       "2020-06-30   0.525698  0.007394 -0.311010  0.129598 -0.128528 -0.009161   \n",
       "2020-07-31   0.295714 -0.018090  0.235285  0.113321 -0.034554 -0.001624   \n",
       "\n",
       "                 GDP  M2 Velocity  \n",
       "Date                               \n",
       "2020-01-31 -0.008564    -0.032235  \n",
       "2020-03-31 -0.008564    -0.032235  \n",
       "2020-04-30 -0.094662    -0.200579  \n",
       "2020-06-30 -0.094662    -0.200579  \n",
       "2020-07-31  0.084535     0.038949  "
      ]
     },
     "execution_count": 203,
     "metadata": {},
     "output_type": "execute_result"
    }
   ],
   "source": [
    "QonQ_roll.tail()"
   ]
  },
  {
   "cell_type": "code",
   "execution_count": 210,
   "metadata": {},
   "outputs": [
    {
     "name": "stdout",
     "output_type": "stream",
     "text": [
      "<class 'pandas.core.frame.DataFrame'>\n",
      "DatetimeIndex: 292 entries, 1986-06-30 to 2020-07-31\n",
      "Data columns (total 8 columns):\n",
      " #   Column       Non-Null Count  Dtype  \n",
      "---  ------       --------------  -----  \n",
      " 0   Inflation    292 non-null    float64\n",
      " 1   USD          292 non-null    float64\n",
      " 2   WTI          292 non-null    float64\n",
      " 3   M2           292 non-null    float64\n",
      " 4   Cap Util     292 non-null    float64\n",
      " 5   Wage CPI     292 non-null    float64\n",
      " 6   GDP          292 non-null    float64\n",
      " 7   M2 Velocity  292 non-null    float64\n",
      "dtypes: float64(8)\n",
      "memory usage: 20.5 KB\n"
     ]
    }
   ],
   "source": [
    "QonQ_roll.info()"
   ]
  },
  {
   "cell_type": "code",
   "execution_count": 211,
   "metadata": {},
   "outputs": [
    {
     "data": {
      "text/html": [
       "<div>\n",
       "<style scoped>\n",
       "    .dataframe tbody tr th:only-of-type {\n",
       "        vertical-align: middle;\n",
       "    }\n",
       "\n",
       "    .dataframe tbody tr th {\n",
       "        vertical-align: top;\n",
       "    }\n",
       "\n",
       "    .dataframe thead th {\n",
       "        text-align: right;\n",
       "    }\n",
       "</style>\n",
       "<table border=\"1\" class=\"dataframe\">\n",
       "  <thead>\n",
       "    <tr style=\"text-align: right;\">\n",
       "      <th></th>\n",
       "      <th>Inflation</th>\n",
       "      <th>USD</th>\n",
       "      <th>WTI</th>\n",
       "      <th>M2</th>\n",
       "      <th>Cap Util</th>\n",
       "      <th>Wage CPI</th>\n",
       "      <th>GDP</th>\n",
       "      <th>M2 Velocity</th>\n",
       "    </tr>\n",
       "    <tr>\n",
       "      <th>Date</th>\n",
       "      <th></th>\n",
       "      <th></th>\n",
       "      <th></th>\n",
       "      <th></th>\n",
       "      <th></th>\n",
       "      <th></th>\n",
       "      <th></th>\n",
       "      <th></th>\n",
       "    </tr>\n",
       "  </thead>\n",
       "  <tbody>\n",
       "    <tr>\n",
       "      <th>1986-06-30</th>\n",
       "      <td>-0.608379</td>\n",
       "      <td>-0.047141</td>\n",
       "      <td>-0.186975</td>\n",
       "      <td>0.025516</td>\n",
       "      <td>-0.009038</td>\n",
       "      <td>-0.006724</td>\n",
       "      <td>0.008307</td>\n",
       "      <td>-0.017857</td>\n",
       "    </tr>\n",
       "    <tr>\n",
       "      <th>1986-07-31</th>\n",
       "      <td>-0.080137</td>\n",
       "      <td>-0.042388</td>\n",
       "      <td>-0.048645</td>\n",
       "      <td>0.026364</td>\n",
       "      <td>-0.003080</td>\n",
       "      <td>-0.000590</td>\n",
       "      <td>0.013713</td>\n",
       "      <td>-0.010795</td>\n",
       "    </tr>\n",
       "    <tr>\n",
       "      <th>1986-09-30</th>\n",
       "      <td>0.421695</td>\n",
       "      <td>-0.051423</td>\n",
       "      <td>0.015028</td>\n",
       "      <td>0.022977</td>\n",
       "      <td>0.000941</td>\n",
       "      <td>0.005251</td>\n",
       "      <td>0.013713</td>\n",
       "      <td>-0.010795</td>\n",
       "    </tr>\n",
       "    <tr>\n",
       "      <th>1986-10-31</th>\n",
       "      <td>0.610066</td>\n",
       "      <td>-0.046476</td>\n",
       "      <td>0.123254</td>\n",
       "      <td>0.021013</td>\n",
       "      <td>0.001004</td>\n",
       "      <td>0.005241</td>\n",
       "      <td>0.010842</td>\n",
       "      <td>-0.011488</td>\n",
       "    </tr>\n",
       "    <tr>\n",
       "      <th>1986-12-31</th>\n",
       "      <td>0.699425</td>\n",
       "      <td>-0.016384</td>\n",
       "      <td>0.131115</td>\n",
       "      <td>0.018498</td>\n",
       "      <td>0.007535</td>\n",
       "      <td>0.006451</td>\n",
       "      <td>0.010842</td>\n",
       "      <td>-0.011488</td>\n",
       "    </tr>\n",
       "  </tbody>\n",
       "</table>\n",
       "</div>"
      ],
      "text/plain": [
       "            Inflation       USD       WTI        M2  Cap Util  Wage CPI  \\\n",
       "Date                                                                      \n",
       "1986-06-30  -0.608379 -0.047141 -0.186975  0.025516 -0.009038 -0.006724   \n",
       "1986-07-31  -0.080137 -0.042388 -0.048645  0.026364 -0.003080 -0.000590   \n",
       "1986-09-30   0.421695 -0.051423  0.015028  0.022977  0.000941  0.005251   \n",
       "1986-10-31   0.610066 -0.046476  0.123254  0.021013  0.001004  0.005241   \n",
       "1986-12-31   0.699425 -0.016384  0.131115  0.018498  0.007535  0.006451   \n",
       "\n",
       "                 GDP  M2 Velocity  \n",
       "Date                               \n",
       "1986-06-30  0.008307    -0.017857  \n",
       "1986-07-31  0.013713    -0.010795  \n",
       "1986-09-30  0.013713    -0.010795  \n",
       "1986-10-31  0.010842    -0.011488  \n",
       "1986-12-31  0.010842    -0.011488  "
      ]
     },
     "execution_count": 211,
     "metadata": {},
     "output_type": "execute_result"
    }
   ],
   "source": [
    "QonQ_roll.head()"
   ]
  },
  {
   "cell_type": "code",
   "execution_count": 212,
   "metadata": {},
   "outputs": [
    {
     "name": "stderr",
     "output_type": "stream",
     "text": [
      "C:\\Users\\rands\\anaconda3\\lib\\site-packages\\seaborn\\_decorators.py:36: FutureWarning: Pass the following variable as a keyword arg: x. From version 0.12, the only valid positional argument will be `data`, and passing other arguments without an explicit keyword will result in an error or misinterpretation.\n",
      "  warnings.warn(\n"
     ]
    },
    {
     "data": {
      "text/plain": [
       "<AxesSubplot:xlabel='Inflation'>"
      ]
     },
     "execution_count": 212,
     "metadata": {},
     "output_type": "execute_result"
    },
    {
     "data": {
      "image/png": "[encoded data removed]",
      "text/plain": [
       "<Figure size 432x288 with 1 Axes>"
      ]
     },
     "metadata": {
      "needs_background": "light"
     },
     "output_type": "display_data"
    }
   ],
   "source": [
    "sns.boxplot(QonQ_roll['Inflation'])"
   ]
  },
  {
   "cell_type": "code",
   "execution_count": 213,
   "metadata": {},
   "outputs": [
    {
     "name": "stdout",
     "output_type": "stream",
     "text": [
      "(array([189, 190], dtype=int64),)\n"
     ]
    }
   ],
   "source": [
    "clean_one = np.abs(stats.zscore(QonQ_roll['Inflation']))\n",
    "threshold = 3\n",
    "print(np.where( clean_one > threshold ))"
   ]
  },
  {
   "cell_type": "code",
   "execution_count": 214,
   "metadata": {},
   "outputs": [],
   "source": [
    "droping_one = [189, 190]\n",
    "QonQ_roll.drop(QonQ_roll.index[droping_one], inplace=True)"
   ]
  },
  {
   "cell_type": "code",
   "execution_count": 215,
   "metadata": {},
   "outputs": [
    {
     "name": "stderr",
     "output_type": "stream",
     "text": [
      "C:\\Users\\rands\\anaconda3\\lib\\site-packages\\seaborn\\_decorators.py:36: FutureWarning: Pass the following variable as a keyword arg: x. From version 0.12, the only valid positional argument will be `data`, and passing other arguments without an explicit keyword will result in an error or misinterpretation.\n",
      "  warnings.warn(\n"
     ]
    },
    {
     "data": {
      "text/plain": [
       "<AxesSubplot:xlabel='Inflation'>"
      ]
     },
     "execution_count": 215,
     "metadata": {},
     "output_type": "execute_result"
    },
    {
     "data": {
      "image/png": "[encoded data removed]",
      "text/plain": [
       "<Figure size 432x288 with 1 Axes>"
      ]
     },
     "metadata": {
      "needs_background": "light"
     },
     "output_type": "display_data"
    }
   ],
   "source": [
    "sns.boxplot(QonQ_roll['Inflation'])"
   ]
  },
  {
   "cell_type": "code",
   "execution_count": 216,
   "metadata": {},
   "outputs": [
    {
     "name": "stdout",
     "output_type": "stream",
     "text": [
      "(array([189, 239, 240, 241], dtype=int64),)\n"
     ]
    }
   ],
   "source": [
    "clean_two = np.abs(stats.zscore(QonQ_roll['Inflation']))\n",
    "threshold = 3\n",
    "print(np.where( clean_two > threshold ))"
   ]
  },
  {
   "cell_type": "code",
   "execution_count": 217,
   "metadata": {},
   "outputs": [],
   "source": [
    "droping_two = [189, 239, 240, 241]\n",
    "QonQ_roll.drop(QonQ_roll.index[droping_two], inplace=True)"
   ]
  },
  {
   "cell_type": "code",
   "execution_count": 218,
   "metadata": {},
   "outputs": [
    {
     "name": "stderr",
     "output_type": "stream",
     "text": [
      "C:\\Users\\rands\\anaconda3\\lib\\site-packages\\seaborn\\_decorators.py:36: FutureWarning: Pass the following variable as a keyword arg: x. From version 0.12, the only valid positional argument will be `data`, and passing other arguments without an explicit keyword will result in an error or misinterpretation.\n",
      "  warnings.warn(\n"
     ]
    },
    {
     "data": {
      "text/plain": [
       "<AxesSubplot:xlabel='Inflation'>"
      ]
     },
     "execution_count": 218,
     "metadata": {},
     "output_type": "execute_result"
    },
    {
     "data": {
      "image/png": "[encoded data removed]",
      "text/plain": [
       "<Figure size 432x288 with 1 Axes>"
      ]
     },
     "metadata": {
      "needs_background": "light"
     },
     "output_type": "display_data"
    }
   ],
   "source": [
    "sns.boxplot(QonQ_roll['Inflation'])"
   ]
  },
  {
   "cell_type": "code",
   "execution_count": 219,
   "metadata": {},
   "outputs": [
    {
     "name": "stdout",
     "output_type": "stream",
     "text": [
      "(array([189, 192, 238, 279, 280], dtype=int64),)\n"
     ]
    }
   ],
   "source": [
    "clean_three = np.abs(stats.zscore(QonQ_roll['Inflation']))\n",
    "threshold = 3\n",
    "print(np.where( clean_three > threshold ))"
   ]
  },
  {
   "cell_type": "code",
   "execution_count": 220,
   "metadata": {},
   "outputs": [],
   "source": [
    "droping_three = [189, 192, 238, 279, 280]\n",
    "QonQ_roll.drop(QonQ_roll.index[droping_three], inplace=True)"
   ]
  },
  {
   "cell_type": "code",
   "execution_count": 221,
   "metadata": {},
   "outputs": [
    {
     "name": "stderr",
     "output_type": "stream",
     "text": [
      "C:\\Users\\rands\\anaconda3\\lib\\site-packages\\seaborn\\_decorators.py:36: FutureWarning: Pass the following variable as a keyword arg: x. From version 0.12, the only valid positional argument will be `data`, and passing other arguments without an explicit keyword will result in an error or misinterpretation.\n",
      "  warnings.warn(\n"
     ]
    },
    {
     "data": {
      "text/plain": [
       "<AxesSubplot:xlabel='Inflation'>"
      ]
     },
     "execution_count": 221,
     "metadata": {},
     "output_type": "execute_result"
    },
    {
     "data": {
      "image/png": "[encoded data removed]",
      "text/plain": [
       "<Figure size 432x288 with 1 Axes>"
      ]
     },
     "metadata": {
      "needs_background": "light"
     },
     "output_type": "display_data"
    }
   ],
   "source": [
    "sns.boxplot(QonQ_roll['Inflation'])"
   ]
  },
  {
   "cell_type": "code",
   "execution_count": 229,
   "metadata": {},
   "outputs": [
    {
     "name": "stdout",
     "output_type": "stream",
     "text": [
      "(array([129, 190, 191, 192, 194, 233, 235, 272], dtype=int64),)\n"
     ]
    }
   ],
   "source": [
    "clean_four = np.abs(stats.zscore(QonQ_roll['Inflation']))\n",
    "threshold = 3\n",
    "print(np.where( clean_four > threshold ))"
   ]
  },
  {
   "cell_type": "code",
   "execution_count": 231,
   "metadata": {},
   "outputs": [
    {
     "data": {
      "text/plain": [
       "(-1.3901581722319865,\n",
       " 1.5244395442851892,\n",
       " 1.6924871675221653,\n",
       " -1.5840455840455845,\n",
       " -1.740740740740741,\n",
       " 2.1695906432748537,\n",
       " -1.5223123732251524)"
      ]
     },
     "execution_count": 231,
     "metadata": {},
     "output_type": "execute_result"
    }
   ],
   "source": [
    "QonQ_roll['Inflation'][129],QonQ_roll['Inflation'][190],QonQ_roll['Inflation'][191],QonQ_roll['Inflation'][194],QonQ_roll['Inflation'][233],QonQ_roll['Inflation'][235],QonQ_roll['Inflation'][272]"
   ]
  },
  {
   "cell_type": "code",
   "execution_count": 232,
   "metadata": {},
   "outputs": [],
   "source": [
    "droping_four = [235]\n",
    "QonQ_roll.drop(QonQ_roll.index[droping_four], inplace=True)"
   ]
  },
  {
   "cell_type": "code",
   "execution_count": 233,
   "metadata": {},
   "outputs": [
    {
     "name": "stderr",
     "output_type": "stream",
     "text": [
      "C:\\Users\\rands\\anaconda3\\lib\\site-packages\\seaborn\\_decorators.py:36: FutureWarning: Pass the following variable as a keyword arg: x. From version 0.12, the only valid positional argument will be `data`, and passing other arguments without an explicit keyword will result in an error or misinterpretation.\n",
      "  warnings.warn(\n"
     ]
    },
    {
     "data": {
      "text/plain": [
       "<AxesSubplot:xlabel='Inflation'>"
      ]
     },
     "execution_count": 233,
     "metadata": {},
     "output_type": "execute_result"
    },
    {
     "data": {
      "image/png": "[encoded data removed]",
      "text/plain": [
       "<Figure size 432x288 with 1 Axes>"
      ]
     },
     "metadata": {
      "needs_background": "light"
     },
     "output_type": "display_data"
    }
   ],
   "source": [
    "sns.boxplot(QonQ_roll['Inflation'])"
   ]
  },
  {
   "cell_type": "code",
   "execution_count": 234,
   "metadata": {},
   "outputs": [
    {
     "data": {
      "text/plain": [
       "<AxesSubplot:xlabel='Inflation', ylabel='Count'>"
      ]
     },
     "execution_count": 234,
     "metadata": {},
     "output_type": "execute_result"
    },
    {
     "data": {
      "image/png": "[encoded data removed]",
      "text/plain": [
       "<Figure size 432x288 with 1 Axes>"
      ]
     },
     "metadata": {
      "needs_background": "light"
     },
     "output_type": "display_data"
    }
   ],
   "source": [
    "sns.histplot(data=QonQ_roll['Inflation'])"
   ]
  },
  {
   "cell_type": "code",
   "execution_count": 235,
   "metadata": {},
   "outputs": [
    {
     "name": "stdout",
     "output_type": "stream",
     "text": [
      "<class 'pandas.core.frame.DataFrame'>\n",
      "DatetimeIndex: 274 entries, 1986-06-30 to 2020-04-30\n",
      "Data columns (total 8 columns):\n",
      " #   Column       Non-Null Count  Dtype  \n",
      "---  ------       --------------  -----  \n",
      " 0   Inflation    274 non-null    float64\n",
      " 1   USD          274 non-null    float64\n",
      " 2   WTI          274 non-null    float64\n",
      " 3   M2           274 non-null    float64\n",
      " 4   Cap Util     274 non-null    float64\n",
      " 5   Wage CPI     274 non-null    float64\n",
      " 6   GDP          274 non-null    float64\n",
      " 7   M2 Velocity  274 non-null    float64\n",
      "dtypes: float64(8)\n",
      "memory usage: 19.3 KB\n"
     ]
    }
   ],
   "source": [
    "QonQ_roll.info()"
   ]
  },
  {
   "cell_type": "code",
   "execution_count": 236,
   "metadata": {},
   "outputs": [
    {
     "name": "stdout",
     "output_type": "stream",
     "text": [
      "Finished\n"
     ]
    }
   ],
   "source": [
    "# Numbers are correct\n",
    "# Ready to depart to a csv\n",
    "\n",
    "QonQ_roll = pd.DataFrame(QonQ_roll)\n",
    "\n",
    "QonQ_roll.to_excel('./_Capstone_One_Inflation/data/1.0_Segmented_by_periods/TQonQ_roll.xlsx')\n",
    "print('Finished')"
   ]
  },
  {
   "cell_type": "markdown",
   "metadata": {},
   "source": [
    "# 2.5.4 pct changes | Two Quarter on All<a id='2.5_Load_The_Ski_Resort_Data'></a>"
   ]
  },
  {
   "cell_type": "code",
   "execution_count": 1273,
   "metadata": {},
   "outputs": [],
   "source": [
    "# ( Complete ) Daily | USD & WTI | removed 48 days from 180 ( i.e. weekends ) but doesn't include holidays\n",
    "TQ_USD = us_usd['Settle'].pct_change(periods=132)\n",
    "TQ_WTI = us_wti['Last'].pct_change(periods=132)\n",
    "\n",
    "# ( Complete ) Wkly | M2 \n",
    "TQ_M2 = us_M2.pct_change(periods=24)\n",
    "\n",
    "# ( Complete ) Mnthly | Capital Utilization, Wages\n",
    "TQ_caputil = us_cap_util.pct_change(periods=6)\n",
    "TQ_wages = us_wages_cpi.pct_change(periods=6)\n",
    "# Inflation was done before but will setup a new variable\n",
    "TQ_cpi_second = us_cpi.pct_change(periods=-6) * -1\n",
    "\n",
    "# ( Complete ) Quarterly | GDP, Velocity of Money\n",
    "TQ_GDP = us_gdp.pct_change(periods=2)\n",
    "TQ_velomoney = m2_velo.pct_change(periods=2)"
   ]
  },
  {
   "cell_type": "code",
   "execution_count": 1274,
   "metadata": {},
   "outputs": [],
   "source": [
    "TQonTQ_vars = pd.concat([TQ_USD,TQ_WTI,TQ_M2,TQ_wages,TQ_GDP,TQ_caputil,TQ_velomoney],\n",
    "                      axis = 1, ignore_index=False)\n",
    "\n",
    "TQonTQ_vars = TQonTQ_vars.fillna(method='ffill')\n",
    "TQonTQ_vars.columns = ['USD','WTI','M2','Wage CPI','GDP','Cap Util','M2 Velocity']\n",
    "TQonTQ_vars.index.names = [\"Date\"]"
   ]
  },
  {
   "cell_type": "code",
   "execution_count": 1275,
   "metadata": {},
   "outputs": [
    {
     "name": "stdout",
     "output_type": "stream",
     "text": [
      "<class 'pandas.core.frame.DataFrame'>\n",
      "DatetimeIndex: 8256 entries, 1989-08-17 to 2021-02-09\n",
      "Data columns (total 7 columns):\n",
      " #   Column       Non-Null Count  Dtype  \n",
      "---  ------       --------------  -----  \n",
      " 0   USD          8256 non-null   float64\n",
      " 1   WTI          8256 non-null   float64\n",
      " 2   M2           8256 non-null   float64\n",
      " 3   Wage CPI     8256 non-null   float64\n",
      " 4   GDP          8256 non-null   float64\n",
      " 5   Cap Util     8256 non-null   float64\n",
      " 6   M2 Velocity  8256 non-null   float64\n",
      "dtypes: float64(7)\n",
      "memory usage: 516.0 KB\n"
     ]
    }
   ],
   "source": [
    "TQonTQ.info()"
   ]
  },
  {
   "cell_type": "code",
   "execution_count": 1277,
   "metadata": {},
   "outputs": [
    {
     "data": {
      "text/html": [
       "<div>\n",
       "<style scoped>\n",
       "    .dataframe tbody tr th:only-of-type {\n",
       "        vertical-align: middle;\n",
       "    }\n",
       "\n",
       "    .dataframe tbody tr th {\n",
       "        vertical-align: top;\n",
       "    }\n",
       "\n",
       "    .dataframe thead th {\n",
       "        text-align: right;\n",
       "    }\n",
       "</style>\n",
       "<table border=\"1\" class=\"dataframe\">\n",
       "  <thead>\n",
       "    <tr style=\"text-align: right;\">\n",
       "      <th></th>\n",
       "      <th>USD</th>\n",
       "      <th>WTI</th>\n",
       "      <th>M2</th>\n",
       "      <th>Wage CPI</th>\n",
       "      <th>GDP</th>\n",
       "      <th>Cap Util</th>\n",
       "      <th>M2 Velocity</th>\n",
       "    </tr>\n",
       "    <tr>\n",
       "      <th>Date</th>\n",
       "      <th></th>\n",
       "      <th></th>\n",
       "      <th></th>\n",
       "      <th></th>\n",
       "      <th></th>\n",
       "      <th></th>\n",
       "      <th></th>\n",
       "    </tr>\n",
       "  </thead>\n",
       "  <tbody>\n",
       "    <tr>\n",
       "      <th>1989-08-17</th>\n",
       "      <td>0.059055</td>\n",
       "      <td>0.055367</td>\n",
       "      <td>0.026634</td>\n",
       "      <td>0.024106</td>\n",
       "      <td>0.033407</td>\n",
       "      <td>-0.014975</td>\n",
       "      <td>0.007065</td>\n",
       "    </tr>\n",
       "    <tr>\n",
       "      <th>1989-08-18</th>\n",
       "      <td>0.064671</td>\n",
       "      <td>0.074900</td>\n",
       "      <td>0.026634</td>\n",
       "      <td>0.024106</td>\n",
       "      <td>0.033407</td>\n",
       "      <td>-0.014975</td>\n",
       "      <td>0.007065</td>\n",
       "    </tr>\n",
       "    <tr>\n",
       "      <th>1989-08-21</th>\n",
       "      <td>0.055032</td>\n",
       "      <td>0.097182</td>\n",
       "      <td>0.025123</td>\n",
       "      <td>0.024106</td>\n",
       "      <td>0.033407</td>\n",
       "      <td>-0.014975</td>\n",
       "      <td>0.007065</td>\n",
       "    </tr>\n",
       "    <tr>\n",
       "      <th>1989-08-22</th>\n",
       "      <td>0.049953</td>\n",
       "      <td>0.115137</td>\n",
       "      <td>0.025123</td>\n",
       "      <td>0.024106</td>\n",
       "      <td>0.033407</td>\n",
       "      <td>-0.014975</td>\n",
       "      <td>0.007065</td>\n",
       "    </tr>\n",
       "    <tr>\n",
       "      <th>1989-08-23</th>\n",
       "      <td>0.069393</td>\n",
       "      <td>0.068789</td>\n",
       "      <td>0.025123</td>\n",
       "      <td>0.024106</td>\n",
       "      <td>0.033407</td>\n",
       "      <td>-0.014975</td>\n",
       "      <td>0.007065</td>\n",
       "    </tr>\n",
       "  </tbody>\n",
       "</table>\n",
       "</div>"
      ],
      "text/plain": [
       "                 USD       WTI        M2  Wage CPI       GDP  Cap Util  \\\n",
       "Date                                                                     \n",
       "1989-08-17  0.059055  0.055367  0.026634  0.024106  0.033407 -0.014975   \n",
       "1989-08-18  0.064671  0.074900  0.026634  0.024106  0.033407 -0.014975   \n",
       "1989-08-21  0.055032  0.097182  0.025123  0.024106  0.033407 -0.014975   \n",
       "1989-08-22  0.049953  0.115137  0.025123  0.024106  0.033407 -0.014975   \n",
       "1989-08-23  0.069393  0.068789  0.025123  0.024106  0.033407 -0.014975   \n",
       "\n",
       "            M2 Velocity  \n",
       "Date                     \n",
       "1989-08-17     0.007065  \n",
       "1989-08-18     0.007065  \n",
       "1989-08-21     0.007065  \n",
       "1989-08-22     0.007065  \n",
       "1989-08-23     0.007065  "
      ]
     },
     "execution_count": 1277,
     "metadata": {},
     "output_type": "execute_result"
    }
   ],
   "source": [
    "TQonTQ.head()"
   ]
  },
  {
   "cell_type": "code",
   "execution_count": 1227,
   "metadata": {},
   "outputs": [],
   "source": [
    "# To delete the null values, I took the most ( Inflation ) & subtracted it by the least ( USD )\n",
    "# 11,435 - 9,211 = 2,224\n",
    "TQonTQ = TQonTQ.iloc[2224:,]"
   ]
  },
  {
   "cell_type": "code",
   "execution_count": 1228,
   "metadata": {},
   "outputs": [
    {
     "name": "stdout",
     "output_type": "stream",
     "text": [
      "<class 'pandas.core.frame.DataFrame'>\n",
      "DatetimeIndex: 8256 entries, 1989-08-17 to 2021-02-09\n",
      "Data columns (total 7 columns):\n",
      " #   Column       Non-Null Count  Dtype  \n",
      "---  ------       --------------  -----  \n",
      " 0   USD          8256 non-null   float64\n",
      " 1   WTI          8256 non-null   float64\n",
      " 2   M2           8256 non-null   float64\n",
      " 3   Wage CPI     8256 non-null   float64\n",
      " 4   GDP          8256 non-null   float64\n",
      " 5   Cap Util     8256 non-null   float64\n",
      " 6   M2 Velocity  8256 non-null   float64\n",
      "dtypes: float64(7)\n",
      "memory usage: 516.0 KB\n"
     ]
    }
   ],
   "source": [
    "TQonTQ.info()"
   ]
  },
  {
   "cell_type": "code",
   "execution_count": 995,
   "metadata": {},
   "outputs": [
    {
     "data": {
      "text/html": [
       "<div>\n",
       "<style scoped>\n",
       "    .dataframe tbody tr th:only-of-type {\n",
       "        vertical-align: middle;\n",
       "    }\n",
       "\n",
       "    .dataframe tbody tr th {\n",
       "        vertical-align: top;\n",
       "    }\n",
       "\n",
       "    .dataframe thead th {\n",
       "        text-align: right;\n",
       "    }\n",
       "</style>\n",
       "<table border=\"1\" class=\"dataframe\">\n",
       "  <thead>\n",
       "    <tr style=\"text-align: right;\">\n",
       "      <th></th>\n",
       "      <th>Inflation</th>\n",
       "      <th>USD</th>\n",
       "      <th>WTI</th>\n",
       "      <th>M2</th>\n",
       "      <th>Wage CPI</th>\n",
       "      <th>GDP</th>\n",
       "      <th>Cap Util</th>\n",
       "      <th>M2 Velocity</th>\n",
       "    </tr>\n",
       "    <tr>\n",
       "      <th>Date</th>\n",
       "      <th></th>\n",
       "      <th></th>\n",
       "      <th></th>\n",
       "      <th></th>\n",
       "      <th></th>\n",
       "      <th></th>\n",
       "      <th></th>\n",
       "      <th></th>\n",
       "    </tr>\n",
       "  </thead>\n",
       "  <tbody>\n",
       "    <tr>\n",
       "      <th>2021-02-03</th>\n",
       "      <td>0.525698</td>\n",
       "      <td>-0.020009</td>\n",
       "      <td>0.343337</td>\n",
       "      <td>0.060825</td>\n",
       "      <td>0.015769</td>\n",
       "      <td>0.100379</td>\n",
       "      <td>0.082358</td>\n",
       "      <td>0.022645</td>\n",
       "    </tr>\n",
       "    <tr>\n",
       "      <th>2021-02-04</th>\n",
       "      <td>0.525698</td>\n",
       "      <td>-0.019299</td>\n",
       "      <td>0.374391</td>\n",
       "      <td>0.060825</td>\n",
       "      <td>0.015769</td>\n",
       "      <td>0.100379</td>\n",
       "      <td>0.082358</td>\n",
       "      <td>0.022645</td>\n",
       "    </tr>\n",
       "    <tr>\n",
       "      <th>2021-02-05</th>\n",
       "      <td>0.525698</td>\n",
       "      <td>-0.026469</td>\n",
       "      <td>0.381171</td>\n",
       "      <td>0.060825</td>\n",
       "      <td>0.015769</td>\n",
       "      <td>0.100379</td>\n",
       "      <td>0.082358</td>\n",
       "      <td>0.022645</td>\n",
       "    </tr>\n",
       "    <tr>\n",
       "      <th>2021-02-08</th>\n",
       "      <td>0.525698</td>\n",
       "      <td>-0.026334</td>\n",
       "      <td>0.440615</td>\n",
       "      <td>0.060825</td>\n",
       "      <td>0.015769</td>\n",
       "      <td>0.100379</td>\n",
       "      <td>0.082358</td>\n",
       "      <td>0.022645</td>\n",
       "    </tr>\n",
       "    <tr>\n",
       "      <th>2021-02-09</th>\n",
       "      <td>0.525698</td>\n",
       "      <td>-0.026074</td>\n",
       "      <td>0.443977</td>\n",
       "      <td>0.060825</td>\n",
       "      <td>0.015769</td>\n",
       "      <td>0.100379</td>\n",
       "      <td>0.082358</td>\n",
       "      <td>0.022645</td>\n",
       "    </tr>\n",
       "  </tbody>\n",
       "</table>\n",
       "</div>"
      ],
      "text/plain": [
       "            Inflation       USD       WTI        M2  Wage CPI       GDP  \\\n",
       "Date                                                                      \n",
       "2021-02-03   0.525698 -0.020009  0.343337  0.060825  0.015769  0.100379   \n",
       "2021-02-04   0.525698 -0.019299  0.374391  0.060825  0.015769  0.100379   \n",
       "2021-02-05   0.525698 -0.026469  0.381171  0.060825  0.015769  0.100379   \n",
       "2021-02-08   0.525698 -0.026334  0.440615  0.060825  0.015769  0.100379   \n",
       "2021-02-09   0.525698 -0.026074  0.443977  0.060825  0.015769  0.100379   \n",
       "\n",
       "            Cap Util  M2 Velocity  \n",
       "Date                               \n",
       "2021-02-03  0.082358     0.022645  \n",
       "2021-02-04  0.082358     0.022645  \n",
       "2021-02-05  0.082358     0.022645  \n",
       "2021-02-08  0.082358     0.022645  \n",
       "2021-02-09  0.082358     0.022645  "
      ]
     },
     "execution_count": 995,
     "metadata": {},
     "output_type": "execute_result"
    }
   ],
   "source": [
    "# They are okay less WTI & USD off by overshooting 6 & 3 days respectively\n",
    "TQonTQ.tail()"
   ]
  },
  {
   "cell_type": "code",
   "execution_count": 996,
   "metadata": {},
   "outputs": [
    {
     "data": {
      "text/html": [
       "<div>\n",
       "<style scoped>\n",
       "    .dataframe tbody tr th:only-of-type {\n",
       "        vertical-align: middle;\n",
       "    }\n",
       "\n",
       "    .dataframe tbody tr th {\n",
       "        vertical-align: top;\n",
       "    }\n",
       "\n",
       "    .dataframe thead th {\n",
       "        text-align: right;\n",
       "    }\n",
       "</style>\n",
       "<table border=\"1\" class=\"dataframe\">\n",
       "  <thead>\n",
       "    <tr style=\"text-align: right;\">\n",
       "      <th></th>\n",
       "      <th>Inflation</th>\n",
       "      <th>USD</th>\n",
       "      <th>WTI</th>\n",
       "      <th>M2</th>\n",
       "      <th>Wage CPI</th>\n",
       "      <th>GDP</th>\n",
       "      <th>Cap Util</th>\n",
       "      <th>M2 Velocity</th>\n",
       "    </tr>\n",
       "    <tr>\n",
       "      <th>Date</th>\n",
       "      <th></th>\n",
       "      <th></th>\n",
       "      <th></th>\n",
       "      <th></th>\n",
       "      <th></th>\n",
       "      <th></th>\n",
       "      <th></th>\n",
       "      <th></th>\n",
       "    </tr>\n",
       "  </thead>\n",
       "  <tbody>\n",
       "    <tr>\n",
       "      <th>1986-06-02</th>\n",
       "      <td>-0.161215</td>\n",
       "      <td>-0.086994</td>\n",
       "      <td>-0.553508</td>\n",
       "      <td>0.042015</td>\n",
       "      <td>-0.00368</td>\n",
       "      <td>0.022782</td>\n",
       "      <td>-0.015824</td>\n",
       "      <td>-0.017857</td>\n",
       "    </tr>\n",
       "    <tr>\n",
       "      <th>1986-06-03</th>\n",
       "      <td>-0.161215</td>\n",
       "      <td>-0.092819</td>\n",
       "      <td>-0.557011</td>\n",
       "      <td>0.042015</td>\n",
       "      <td>-0.00368</td>\n",
       "      <td>0.022782</td>\n",
       "      <td>-0.015824</td>\n",
       "      <td>-0.017857</td>\n",
       "    </tr>\n",
       "    <tr>\n",
       "      <th>1986-06-04</th>\n",
       "      <td>-0.161215</td>\n",
       "      <td>-0.088842</td>\n",
       "      <td>-0.587011</td>\n",
       "      <td>0.042015</td>\n",
       "      <td>-0.00368</td>\n",
       "      <td>0.022782</td>\n",
       "      <td>-0.015824</td>\n",
       "      <td>-0.017857</td>\n",
       "    </tr>\n",
       "    <tr>\n",
       "      <th>1986-06-05</th>\n",
       "      <td>-0.161215</td>\n",
       "      <td>-0.098547</td>\n",
       "      <td>-0.570733</td>\n",
       "      <td>0.042015</td>\n",
       "      <td>-0.00368</td>\n",
       "      <td>0.022782</td>\n",
       "      <td>-0.015824</td>\n",
       "      <td>-0.017857</td>\n",
       "    </tr>\n",
       "    <tr>\n",
       "      <th>1986-06-06</th>\n",
       "      <td>-0.161215</td>\n",
       "      <td>-0.100420</td>\n",
       "      <td>-0.587189</td>\n",
       "      <td>0.042015</td>\n",
       "      <td>-0.00368</td>\n",
       "      <td>0.022782</td>\n",
       "      <td>-0.015824</td>\n",
       "      <td>-0.017857</td>\n",
       "    </tr>\n",
       "  </tbody>\n",
       "</table>\n",
       "</div>"
      ],
      "text/plain": [
       "            Inflation       USD       WTI        M2  Wage CPI       GDP  \\\n",
       "Date                                                                      \n",
       "1986-06-02  -0.161215 -0.086994 -0.553508  0.042015  -0.00368  0.022782   \n",
       "1986-06-03  -0.161215 -0.092819 -0.557011  0.042015  -0.00368  0.022782   \n",
       "1986-06-04  -0.161215 -0.088842 -0.587011  0.042015  -0.00368  0.022782   \n",
       "1986-06-05  -0.161215 -0.098547 -0.570733  0.042015  -0.00368  0.022782   \n",
       "1986-06-06  -0.161215 -0.100420 -0.587189  0.042015  -0.00368  0.022782   \n",
       "\n",
       "            Cap Util  M2 Velocity  \n",
       "Date                               \n",
       "1986-06-02 -0.015824    -0.017857  \n",
       "1986-06-03 -0.015824    -0.017857  \n",
       "1986-06-04 -0.015824    -0.017857  \n",
       "1986-06-05 -0.015824    -0.017857  \n",
       "1986-06-06 -0.015824    -0.017857  "
      ]
     },
     "execution_count": 996,
     "metadata": {},
     "output_type": "execute_result"
    }
   ],
   "source": [
    "# They are okay less WTI & USD off by overshooting 6 & 3 days respectively\n",
    "TQonTQ.head()"
   ]
  },
  {
   "cell_type": "code",
   "execution_count": 997,
   "metadata": {},
   "outputs": [
    {
     "name": "stdout",
     "output_type": "stream",
     "text": [
      "Finished\n"
     ]
    }
   ],
   "source": [
    "# Variables ( all ) confirmed \"roughly\" okay\n",
    "# Thus ready to depart to a csv\n",
    "\n",
    "TQonTQ_excel = pd.DataFrame(TQonTQ)\n",
    "\n",
    "TQonTQ_excel.to_excel('./_Capstone_One_Inflation/data/1.0_Segmented_by_periods/TQonTQ.xlsx')\n",
    "print('Finished')"
   ]
  }
 ],
 "metadata": {
  "kernelspec": {
   "display_name": "Python 3",
   "language": "python",
   "name": "python3"
  },
  "language_info": {
   "codemirror_mode": {
    "name": "ipython",
    "version": 3
   },
   "file_extension": ".py",
   "mimetype": "text/x-python",
   "name": "python",
   "nbconvert_exporter": "python",
   "pygments_lexer": "ipython3",
   "version": "3.8.5"
  },
  "toc": {
   "base_numbering": 1,
   "nav_menu": {},
   "number_sections": true,
   "sideBar": true,
   "skip_h1_title": false,
   "title_cell": "Table of Contents",
   "title_sidebar": "Contents",
   "toc_cell": false,
   "toc_position": {},
   "toc_section_display": true,
   "toc_window_display": true
  },
  "varInspector": {
   "cols": {
    "lenName": 16,
    "lenType": 16,
    "lenVar": 40
   },
   "kernels_config": {
    "python": {
     "delete_cmd_postfix": "",
     "delete_cmd_prefix": "del ",
     "library": "var_list.py",
     "varRefreshCmd": "print(var_dic_list())"
    },
    "r": {
     "delete_cmd_postfix": ") ",
     "delete_cmd_prefix": "rm(",
     "library": "var_list.r",
     "varRefreshCmd": "cat(var_dic_list()) "
    }
   },
   "types_to_exclude": [
    "module",
    "function",
    "builtin_function_or_method",
    "instance",
    "_Feature"
   ],
   "window_display": false
  }
 },
 "nbformat": 4,
 "nbformat_minor": 4
}
