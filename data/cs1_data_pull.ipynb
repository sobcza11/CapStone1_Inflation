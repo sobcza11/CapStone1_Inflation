{
 "cells": [
  {
   "cell_type": "markdown",
   "metadata": {},
   "source": [
    "# Making sure we have the relevant api's installed"
   ]
  },
  {
   "cell_type": "code",
   "execution_count": 435,
   "metadata": {},
   "outputs": [
    {
     "name": "stdout",
     "output_type": "stream",
     "text": [
      "Requirement already satisfied: quandl in c:\\users\\rands\\anaconda3\\lib\\site-packages (3.5.3)\n",
      "Requirement already satisfied: numpy>=1.8 in c:\\users\\rands\\anaconda3\\lib\\site-packages (from quandl) (1.19.2)\n",
      "Requirement already satisfied: inflection>=0.3.1 in c:\\users\\rands\\anaconda3\\lib\\site-packages (from quandl) (0.5.1)\n",
      "Requirement already satisfied: requests>=2.7.0 in c:\\users\\rands\\anaconda3\\lib\\site-packages (from quandl) (2.24.0)\n",
      "Requirement already satisfied: six in c:\\users\\rands\\anaconda3\\lib\\site-packages (from quandl) (1.15.0)\n",
      "Requirement already satisfied: more-itertools in c:\\users\\rands\\anaconda3\\lib\\site-packages (from quandl) (8.6.0)\n",
      "Requirement already satisfied: pandas>=0.14 in c:\\users\\rands\\anaconda3\\lib\\site-packages (from quandl) (1.1.3)\n",
      "Requirement already satisfied: python-dateutil in c:\\users\\rands\\anaconda3\\lib\\site-packages (from quandl) (2.8.1)\n",
      "Requirement already satisfied: certifi>=2017.4.17 in c:\\users\\rands\\anaconda3\\lib\\site-packages (from requests>=2.7.0->quandl) (2020.6.20)\n",
      "Requirement already satisfied: chardet<4,>=3.0.2 in c:\\users\\rands\\anaconda3\\lib\\site-packages (from requests>=2.7.0->quandl) (3.0.4)\n",
      "Requirement already satisfied: urllib3!=1.25.0,!=1.25.1,<1.26,>=1.21.1 in c:\\users\\rands\\anaconda3\\lib\\site-packages (from requests>=2.7.0->quandl) (1.25.11)\n",
      "Requirement already satisfied: idna<3,>=2.5 in c:\\users\\rands\\anaconda3\\lib\\site-packages (from requests>=2.7.0->quandl) (2.10)\n",
      "Requirement already satisfied: pytz>=2017.2 in c:\\users\\rands\\anaconda3\\lib\\site-packages (from pandas>=0.14->quandl) (2020.1)\n",
      "Note: you may need to restart the kernel to use updated packages.\n"
     ]
    }
   ],
   "source": [
    "pip install quandl"
   ]
  },
  {
   "cell_type": "code",
   "execution_count": 436,
   "metadata": {},
   "outputs": [
    {
     "name": "stdout",
     "output_type": "stream",
     "text": [
      "Requirement already satisfied: fredapi in c:\\users\\rands\\anaconda3\\lib\\site-packages (0.4.3)\n",
      "Requirement already satisfied: pandas in c:\\users\\rands\\anaconda3\\lib\\site-packages (from fredapi) (1.1.3)\n",
      "Requirement already satisfied: python-dateutil>=2.7.3 in c:\\users\\rands\\anaconda3\\lib\\site-packages (from pandas->fredapi) (2.8.1)\n",
      "Requirement already satisfied: numpy>=1.15.4 in c:\\users\\rands\\anaconda3\\lib\\site-packages (from pandas->fredapi) (1.19.2)\n",
      "Requirement already satisfied: pytz>=2017.2 in c:\\users\\rands\\anaconda3\\lib\\site-packages (from pandas->fredapi) (2020.1)\n",
      "Requirement already satisfied: six>=1.5 in c:\\users\\rands\\anaconda3\\lib\\site-packages (from python-dateutil>=2.7.3->pandas->fredapi) (1.15.0)\n",
      "Note: you may need to restart the kernel to use updated packages.\n"
     ]
    }
   ],
   "source": [
    "pip install fredapi"
   ]
  },
  {
   "cell_type": "code",
   "execution_count": 437,
   "metadata": {},
   "outputs": [
    {
     "name": "stdout",
     "output_type": "stream",
     "text": [
      "Requirement already satisfied: yahoo-finance in c:\\users\\rands\\anaconda3\\lib\\site-packages (1.4.0)\n",
      "Requirement already satisfied: pytz in c:\\users\\rands\\anaconda3\\lib\\site-packages (from yahoo-finance) (2020.1)\n",
      "Requirement already satisfied: simplejson in c:\\users\\rands\\anaconda3\\lib\\site-packages (from yahoo-finance) (3.17.2)\n",
      "Note: you may need to restart the kernel to use updated packages.\n"
     ]
    }
   ],
   "source": [
    "pip install yahoo-finance"
   ]
  },
  {
   "cell_type": "code",
   "execution_count": 438,
   "metadata": {},
   "outputs": [],
   "source": [
    "# I first, imported the relevant modules\n",
    "import quandl\n",
    "from fredapi import Fred\n",
    "\n",
    "quandl.ApiConfig.api_key = \"LyaCVber4td6yLkPgpUX\"\n",
    "fred = Fred(api_key='1918b01f3e3daab33edf857e505d6253')\n",
    "\n",
    "import requests\n",
    "import json\n",
    "import collections\n",
    "import pandas as pd\n",
    "import numpy as np\n",
    "import matplotlib.pyplot as plt\n",
    "import datetime\n",
    "import yfinance as yf\n",
    "\n",
    "\n",
    "today = datetime.datetime.now()\n"
   ]
  },
  {
   "cell_type": "markdown",
   "metadata": {},
   "source": [
    "# Data Summary\n",
    "0.\tInflation ( link ) Quandl\n",
    "1.\tM2_growth ( link ) FRED\n",
    "2.\tUSD ( link ) Investing.com\n",
    "3.\tWTI ( link ) Investing.com\n",
    "4.\twages  :: I need to decide which one\n",
    "a.\tEmployed full time: Median usual weekly real earnings: ( link ) FRED\n",
    "b.\tConsumer Price Index for All Urban Wage Earners and Clerical Workers ( link ) FRED\n",
    "c.\tCompensation of Employees, Received: Wage and Salary Disbursements ( link ) FRED\n",
    "d.\tAverage Hourly Earnings of All Employees, Total Private ( link ) FRED\n",
    "i.\tLimited time horizon\n",
    "5.\tUS_GDP ( link ) FRED\n",
    "6.\tcap_util ( link ) FRED\n",
    "7.\tHome_Price ( link ) FRED\n",
    "\n",
    "# Daily\n",
    "\n",
    "USD ( link ) Yahoo Finance \\\n",
    "WTI ( link ) Investing.com\n",
    "\n",
    "# Weekly\n",
    "\n",
    "M2_growth ( link ) FRED\n",
    "\n",
    "# Monthly \n",
    "\n",
    "Inflation Quandl\\\n",
    "wages  :: I need to decide which one\n",
    "\n",
    "a.\tEmployed full time: Median usual weekly real earnings: FRED \\\n",
    "b.\tConsumer Price Index for All Urban Wage Earners and Clerical Workers FRED \\\n",
    "c.\tCompensation of Employees, Received: Wage and Salary Disbursements FRED \\\n",
    "d.\tAverage Hourly Earnings of All Employees, Total Private FRED \n",
    "\n",
    "cap_util FRED \\\n",
    "Home_Price FRED\n",
    "\n",
    "# Quarterly\n",
    "US_GDP FRED \\\n",
    "US Velocity of Money FRED\n",
    "\n"
   ]
  },
  {
   "cell_type": "markdown",
   "metadata": {},
   "source": [
    "**Number 0 | Inflation**"
   ]
  },
  {
   "cell_type": "code",
   "execution_count": 439,
   "metadata": {},
   "outputs": [],
   "source": [
    "# Now, call the Quandl API and pull out a small sample of the data (only one day) to get a glimpse\n",
    "# into the JSON structure that will be returned\n",
    "\n",
    "# url_cpi = 'https://www.quandl.com/api/v3/datasets/RATEINF/INFLATION_USA.json? + '\"&start_date=1999-01-01&end_date=2021-01-13&api_key=\" + 'LyaCVber4td6yLkPgpUX'\n",
    "\n",
    "# r = requests.get(url_cpi)\n",
    "# json_data = r.json()"
   ]
  },
  {
   "cell_type": "code",
   "execution_count": 440,
   "metadata": {},
   "outputs": [],
   "source": [
    "us_cpi = quandl.get('RATEINF/INFLATION_USA', start_date = '1980-01-01')"
   ]
  },
  {
   "cell_type": "code",
   "execution_count": 441,
   "metadata": {},
   "outputs": [
    {
     "name": "stdout",
     "output_type": "stream",
     "text": [
      "             Value\n",
      "Date              \n",
      "1980-01-31  13.909\n",
      "1980-02-29  14.182\n",
      "            Value\n",
      "Date             \n",
      "2020-10-31  1.182\n",
      "2020-11-30  1.175\n"
     ]
    }
   ],
   "source": [
    "# check to see it's working\n",
    "print(us_cpi.head(2))\n",
    "\n",
    "print(us_cpi.tail(2))"
   ]
  },
  {
   "cell_type": "markdown",
   "metadata": {},
   "source": [
    "**Number 1 | M2**"
   ]
  },
  {
   "cell_type": "code",
   "execution_count": 442,
   "metadata": {},
   "outputs": [],
   "source": [
    "us_M2 = fred.get_series('M2')"
   ]
  },
  {
   "cell_type": "code",
   "execution_count": 443,
   "metadata": {},
   "outputs": [
    {
     "name": "stdout",
     "output_type": "stream",
     "text": [
      "1980-11-03    1591.4\n",
      "1980-11-10    1592.9\n",
      "dtype: float64\n",
      "2020-12-21    19196.9\n",
      "2020-12-28    19071.8\n",
      "dtype: float64\n"
     ]
    }
   ],
   "source": [
    "# check to see it's working\n",
    "print(us_M2.head(2))\n",
    "\n",
    "print(us_M2.tail(2))"
   ]
  },
  {
   "cell_type": "code",
   "execution_count": 444,
   "metadata": {},
   "outputs": [],
   "source": [
    "# need to develop an annualized growth %"
   ]
  },
  {
   "cell_type": "markdown",
   "metadata": {},
   "source": [
    "**Number 2 | USD**"
   ]
  },
  {
   "cell_type": "code",
   "execution_count": 445,
   "metadata": {},
   "outputs": [],
   "source": [
    "us_usd = yf.Ticker('DX-Y.NYB')\n",
    "\n",
    "us_usd_hist = us_usd.history(period=\"Max\")"
   ]
  },
  {
   "cell_type": "code",
   "execution_count": 446,
   "metadata": {},
   "outputs": [
    {
     "name": "stdout",
     "output_type": "stream",
     "text": [
      "                  Open        High         Low       Close  Volume  Dividends  \\\n",
      "Date                                                                            \n",
      "1971-01-04  120.529999  120.529999  120.529999  120.529999       0          0   \n",
      "1971-01-05  120.519997  120.519997  120.519997  120.519997       0          0   \n",
      "1971-01-06  120.489998  120.489998  120.489998  120.489998       0          0   \n",
      "1971-01-07  120.550003  120.550003  120.550003  120.550003       0          0   \n",
      "1971-01-08  120.529999  120.529999  120.529999  120.529999       0          0   \n",
      "\n",
      "            Stock Splits  \n",
      "Date                      \n",
      "1971-01-04             0  \n",
      "1971-01-05             0  \n",
      "1971-01-06             0  \n",
      "1971-01-07             0  \n",
      "1971-01-08             0  \n",
      "                 Open       High        Low      Close  Volume  Dividends  \\\n",
      "Date                                                                        \n",
      "2021-01-07  89.320000  89.970001  89.320000  89.830002       0          0   \n",
      "2021-01-08  89.830002  90.250000  89.660004  90.070000       0          0   \n",
      "2021-01-11  90.070000  90.730003  90.029999  90.540001       0          0   \n",
      "2021-01-12  90.519997  90.620003  90.029999  90.050003       0          0   \n",
      "2021-01-13  90.276001  90.276001  90.276001  90.276001       0          0   \n",
      "\n",
      "            Stock Splits  \n",
      "Date                      \n",
      "2021-01-07             0  \n",
      "2021-01-08             0  \n",
      "2021-01-11             0  \n",
      "2021-01-12             0  \n",
      "2021-01-13             0  \n"
     ]
    }
   ],
   "source": [
    "print(us_usd_hist.head())\n",
    "\n",
    "print(us_usd_hist.tail())"
   ]
  },
  {
   "cell_type": "markdown",
   "metadata": {},
   "source": [
    "**Number 3 | WTI**"
   ]
  },
  {
   "cell_type": "code",
   "execution_count": 472,
   "metadata": {},
   "outputs": [],
   "source": [
    "us_wti = quandl.get('CHRIS/CME_CL1')"
   ]
  },
  {
   "cell_type": "code",
   "execution_count": 473,
   "metadata": {},
   "outputs": [
    {
     "name": "stdout",
     "output_type": "stream",
     "text": [
      "             Open   High    Low   Last  Change  Settle  Volume  \\\n",
      "Date                                                             \n",
      "1983-03-30  29.01  29.56  29.01  29.40     NaN   29.40   949.0   \n",
      "1983-03-31  29.40  29.60  29.25  29.29     NaN   29.29   521.0   \n",
      "\n",
      "            Previous Day Open Interest  \n",
      "Date                                    \n",
      "1983-03-30                       470.0  \n",
      "1983-03-31                       523.0  \n",
      "             Open   High    Low   Last  Change  Settle    Volume  \\\n",
      "Date                                                               \n",
      "2021-01-11  52.58  52.70  51.50  52.18    0.01   52.25  385285.0   \n",
      "2021-01-12  52.18  53.45  52.07  53.29    0.96   53.21  391372.0   \n",
      "\n",
      "            Previous Day Open Interest  \n",
      "Date                                    \n",
      "2021-01-11                    278072.0  \n",
      "2021-01-12                    240536.0  \n"
     ]
    }
   ],
   "source": [
    "print(us_wti.head(2))\n",
    "\n",
    "print(us_wti.tail(2))"
   ]
  },
  {
   "cell_type": "markdown",
   "metadata": {},
   "source": [
    "**Number 4 | wages**"
   ]
  },
  {
   "cell_type": "code",
   "execution_count": 474,
   "metadata": {},
   "outputs": [],
   "source": [
    "us_wages_wkly_real_earnings = fred.get_series('LES1252881600Q')"
   ]
  },
  {
   "cell_type": "code",
   "execution_count": 475,
   "metadata": {},
   "outputs": [
    {
     "name": "stdout",
     "output_type": "stream",
     "text": [
      "1979-01-01    335.0\n",
      "1979-04-01    335.0\n",
      "dtype: float64\n",
      "2020-01-01    367.0\n",
      "2020-04-01    392.0\n",
      "dtype: float64\n"
     ]
    }
   ],
   "source": [
    "print(us_wages_wkly_real_earnings.head(2))\n",
    "\n",
    "print(us_wages_wkly_real_earnings.tail(2))"
   ]
  },
  {
   "cell_type": "code",
   "execution_count": 451,
   "metadata": {},
   "outputs": [],
   "source": [
    "# this is a CPI & may be a component of CPI\n",
    "us_wages_cpi_us_average = fred.get_series('CWSR0000SA0')"
   ]
  },
  {
   "cell_type": "code",
   "execution_count": 452,
   "metadata": {},
   "outputs": [
    {
     "name": "stdout",
     "output_type": "stream",
     "text": [
      "1947-01-01    21.60\n",
      "1947-02-01    21.74\n",
      "dtype: float64\n",
      "2020-11-01    254.457\n",
      "2020-12-01    255.452\n",
      "dtype: float64\n"
     ]
    }
   ],
   "source": [
    "print(us_wages_cpi_us_average.head(2))\n",
    "\n",
    "print(us_wages_cpi_us_average.tail(2))"
   ]
  },
  {
   "cell_type": "code",
   "execution_count": 453,
   "metadata": {},
   "outputs": [],
   "source": [
    "us_wages_compensation = fred.get_series('A576RC1')"
   ]
  },
  {
   "cell_type": "code",
   "execution_count": 454,
   "metadata": {},
   "outputs": [
    {
     "name": "stdout",
     "output_type": "stream",
     "text": [
      "1959-01-01    252.3\n",
      "1959-02-01    253.6\n",
      "dtype: float64\n",
      "2020-10-01    9582.9\n",
      "2020-11-01    9622.0\n",
      "dtype: float64\n"
     ]
    }
   ],
   "source": [
    "print(us_wages_compensation.head(2))\n",
    "\n",
    "print(us_wages_compensation.tail(2))"
   ]
  },
  {
   "cell_type": "code",
   "execution_count": 455,
   "metadata": {},
   "outputs": [],
   "source": [
    "us_wages_hourly_earnings = fred.get_series('CES0500000003')"
   ]
  },
  {
   "cell_type": "code",
   "execution_count": 456,
   "metadata": {},
   "outputs": [
    {
     "name": "stdout",
     "output_type": "stream",
     "text": [
      "2006-03-01    20.04\n",
      "2006-04-01    20.17\n",
      "dtype: float64\n",
      "2020-11-01    29.58\n",
      "2020-12-01    29.81\n",
      "dtype: float64\n"
     ]
    }
   ],
   "source": [
    "print(us_wages_hourly_earnings.head(2))\n",
    "\n",
    "print(us_wages_hourly_earnings.tail(2))"
   ]
  },
  {
   "cell_type": "markdown",
   "metadata": {},
   "source": [
    "**Number 5 | US GDP**"
   ]
  },
  {
   "cell_type": "code",
   "execution_count": 457,
   "metadata": {},
   "outputs": [],
   "source": [
    "us_gdp = fred.get_series('GDP')"
   ]
  },
  {
   "cell_type": "code",
   "execution_count": 458,
   "metadata": {},
   "outputs": [
    {
     "name": "stdout",
     "output_type": "stream",
     "text": [
      "1946-01-01   NaN\n",
      "1946-04-01   NaN\n",
      "dtype: float64\n",
      "2020-04-01    19520.114\n",
      "2020-07-01    21170.252\n",
      "dtype: float64\n"
     ]
    }
   ],
   "source": [
    "print(us_gdp.head(2))\n",
    "\n",
    "print(us_gdp.tail(2))"
   ]
  },
  {
   "cell_type": "markdown",
   "metadata": {},
   "source": [
    "**Number 6 | US Capital Utilization**"
   ]
  },
  {
   "cell_type": "code",
   "execution_count": 459,
   "metadata": {},
   "outputs": [],
   "source": [
    "us_cap_util = fred.get_series('TCU')"
   ]
  },
  {
   "cell_type": "code",
   "execution_count": 460,
   "metadata": {},
   "outputs": [
    {
     "name": "stdout",
     "output_type": "stream",
     "text": [
      "1967-01-01    89.3902\n",
      "1967-02-01    87.9750\n",
      "dtype: float64\n",
      "2020-10-01    73.0124\n",
      "2020-11-01    73.3109\n",
      "dtype: float64\n"
     ]
    }
   ],
   "source": [
    "print(us_cap_util.head(2))\n",
    "\n",
    "print(us_cap_util.tail(2))"
   ]
  },
  {
   "cell_type": "markdown",
   "metadata": {},
   "source": [
    "**Number 7 | Home Price**"
   ]
  },
  {
   "cell_type": "code",
   "execution_count": 461,
   "metadata": {},
   "outputs": [],
   "source": [
    "us_re = fred.get_series('CSUSHPINSA')"
   ]
  },
  {
   "cell_type": "code",
   "execution_count": 462,
   "metadata": {},
   "outputs": [
    {
     "name": "stdout",
     "output_type": "stream",
     "text": [
      "1975-01-01   NaN\n",
      "1975-02-01   NaN\n",
      "dtype: float64\n",
      "2020-09-01    226.823\n",
      "2020-10-01    229.932\n",
      "dtype: float64\n"
     ]
    }
   ],
   "source": [
    "print(us_re.head(2))\n",
    "\n",
    "print(us_re.tail(2))"
   ]
  },
  {
   "cell_type": "markdown",
   "metadata": {},
   "source": [
    "**Number 8 | Velocity of Money**"
   ]
  },
  {
   "cell_type": "code",
   "execution_count": 463,
   "metadata": {},
   "outputs": [],
   "source": [
    "us_velocity = fred.get_series('M2V')"
   ]
  },
  {
   "cell_type": "code",
   "execution_count": 464,
   "metadata": {},
   "outputs": [
    {
     "name": "stdout",
     "output_type": "stream",
     "text": [
      "1959-01-01    1.773\n",
      "1959-04-01    1.789\n",
      "dtype: float64\n",
      "2020-04-01    1.104\n",
      "2020-07-01    1.147\n",
      "dtype: float64\n"
     ]
    }
   ],
   "source": [
    "print(us_velocity.head(2))\n",
    "\n",
    "print(us_velocity.tail(2))"
   ]
  },
  {
   "cell_type": "markdown",
   "metadata": {},
   "source": [
    "# Pulling them into one Table"
   ]
  },
  {
   "cell_type": "code",
   "execution_count": 465,
   "metadata": {
    "scrolled": true
   },
   "outputs": [
    {
     "name": "stdout",
     "output_type": "stream",
     "text": [
      "us_M2 type  |  <class 'pandas.core.series.Series'>\n",
      "us_usd type  |  <class 'yfinance.ticker.Ticker'>\n",
      "us_wti type  |  <class 'pandas.core.frame.DataFrame'>\n",
      "us_wages_wkly_real_earnings type  |  <class 'pandas.core.series.Series'>\n",
      "us_wages_cpi_us_average type  |  <class 'pandas.core.series.Series'>\n",
      "us_wages_compensation type  |  <class 'pandas.core.series.Series'>\n",
      "us_wages_hourly_earnings type  |  <class 'pandas.core.series.Series'>\n",
      "us_gdp type  |  <class 'pandas.core.series.Series'>\n",
      "us_cap_util type  |  <class 'pandas.core.series.Series'>\n",
      "us_cap_util type  |  <class 'pandas.core.series.Series'>\n",
      "us_re type  |  <class 'pandas.core.series.Series'>\n",
      "us_velocity type  |  <class 'pandas.core.series.Series'>\n"
     ]
    }
   ],
   "source": [
    "print('us_M2 type  | ', type(us_M2))\n",
    "print('us_usd type  | ', type(us_usd))\n",
    "print('us_wti type  | ', type(us_wti))\n",
    "print('us_wages_wkly_real_earnings type  | ', type(us_wages_wkly_real_earnings))\n",
    "print('us_wages_cpi_us_average type  | ', type(us_wages_cpi_us_average))\n",
    "print('us_wages_compensation type  | ', type(us_wages_compensation))\n",
    "print('us_wages_hourly_earnings type  | ', type(us_wages_hourly_earnings))\n",
    "print('us_gdp type  | ', type(us_gdp))\n",
    "print('us_cap_util type  | ', type(us_cap_util))\n",
    "print('us_cap_util type  | ', type(us_cap_util))\n",
    "print('us_re type  | ', type(us_re))\n",
    "print('us_velocity type  | ', type(us_velocity))"
   ]
  },
  {
   "cell_type": "code",
   "execution_count": 466,
   "metadata": {},
   "outputs": [],
   "source": [
    "us_velocity_python = list(us_velocity)\n",
    "us_gdp_python = list(us_gdp)"
   ]
  },
  {
   "cell_type": "code",
   "execution_count": 467,
   "metadata": {},
   "outputs": [],
   "source": [
    "us_gdp_python = list(us_gdp)"
   ]
  },
  {
   "cell_type": "code",
   "execution_count": 468,
   "metadata": {},
   "outputs": [],
   "source": [
    "inflation_main = us_velocity"
   ]
  },
  {
   "cell_type": "code",
   "execution_count": 469,
   "metadata": {
    "scrolled": true
   },
   "outputs": [
    {
     "data": {
      "text/plain": [
       "1959-01-01    1.773\n",
       "1959-04-01    1.789\n",
       "1959-07-01    1.773\n",
       "1959-10-01    1.779\n",
       "1960-01-01    1.817\n",
       "              ...  \n",
       "2019-07-01    1.442\n",
       "2019-10-01    1.427\n",
       "2020-01-01    1.381\n",
       "2020-04-01    1.104\n",
       "2020-07-01    1.147\n",
       "Length: 247, dtype: float64"
      ]
     },
     "execution_count": 469,
     "metadata": {},
     "output_type": "execute_result"
    }
   ],
   "source": [
    "inflation_main"
   ]
  },
  {
   "cell_type": "code",
   "execution_count": 470,
   "metadata": {},
   "outputs": [
    {
     "name": "stdout",
     "output_type": "stream",
     "text": [
      "<class 'pandas.core.series.Series'>\n"
     ]
    }
   ],
   "source": [
    "print(type(inflation_main))"
   ]
  },
  {
   "cell_type": "code",
   "execution_count": 471,
   "metadata": {
    "scrolled": true
   },
   "outputs": [
    {
     "name": "stdout",
     "output_type": "stream",
     "text": [
      "2019-07-01    1.442\n",
      "2019-10-01    1.427\n",
      "2020-01-01    1.381\n",
      "2020-04-01    1.104\n",
      "2020-07-01    1.147\n",
      "dtype: float64\n"
     ]
    }
   ],
   "source": [
    "print(inflation_main.tail())"
   ]
  },
  {
   "cell_type": "code",
   "execution_count": null,
   "metadata": {},
   "outputs": [],
   "source": []
  },
  {
   "cell_type": "code",
   "execution_count": null,
   "metadata": {},
   "outputs": [],
   "source": []
  },
  {
   "cell_type": "code",
   "execution_count": null,
   "metadata": {},
   "outputs": [],
   "source": []
  },
  {
   "cell_type": "code",
   "execution_count": null,
   "metadata": {},
   "outputs": [],
   "source": []
  },
  {
   "cell_type": "code",
   "execution_count": null,
   "metadata": {},
   "outputs": [],
   "source": []
  },
  {
   "cell_type": "markdown",
   "metadata": {},
   "source": [
    "# Printing to csv"
   ]
  },
  {
   "cell_type": "code",
   "execution_count": 398,
   "metadata": {},
   "outputs": [
    {
     "name": "stdout",
     "output_type": "stream",
     "text": [
      "finished check it out\n"
     ]
    }
   ],
   "source": [
    "us_usd_excel = pd.DataFrame(us_usd)\n",
    "\n",
    "us_usd_excel.to_excel('us_usd_excel.xlsx')\n",
    "print('finished check it out')"
   ]
  },
  {
   "cell_type": "code",
   "execution_count": null,
   "metadata": {},
   "outputs": [],
   "source": []
  },
  {
   "cell_type": "code",
   "execution_count": null,
   "metadata": {},
   "outputs": [],
   "source": []
  },
  {
   "cell_type": "code",
   "execution_count": null,
   "metadata": {},
   "outputs": [],
   "source": []
  },
  {
   "cell_type": "code",
   "execution_count": null,
   "metadata": {},
   "outputs": [],
   "source": []
  },
  {
   "cell_type": "code",
   "execution_count": null,
   "metadata": {},
   "outputs": [],
   "source": []
  },
  {
   "cell_type": "code",
   "execution_count": null,
   "metadata": {},
   "outputs": [],
   "source": []
  },
  {
   "cell_type": "code",
   "execution_count": null,
   "metadata": {},
   "outputs": [],
   "source": []
  },
  {
   "cell_type": "code",
   "execution_count": null,
   "metadata": {},
   "outputs": [],
   "source": []
  },
  {
   "cell_type": "code",
   "execution_count": null,
   "metadata": {},
   "outputs": [],
   "source": []
  },
  {
   "cell_type": "code",
   "execution_count": null,
   "metadata": {},
   "outputs": [],
   "source": []
  },
  {
   "cell_type": "code",
   "execution_count": null,
   "metadata": {},
   "outputs": [],
   "source": []
  },
  {
   "cell_type": "code",
   "execution_count": null,
   "metadata": {},
   "outputs": [],
   "source": []
  },
  {
   "cell_type": "code",
   "execution_count": null,
   "metadata": {},
   "outputs": [],
   "source": []
  },
  {
   "cell_type": "code",
   "execution_count": null,
   "metadata": {},
   "outputs": [],
   "source": []
  },
  {
   "cell_type": "code",
   "execution_count": null,
   "metadata": {},
   "outputs": [],
   "source": []
  },
  {
   "cell_type": "code",
   "execution_count": null,
   "metadata": {},
   "outputs": [],
   "source": []
  },
  {
   "cell_type": "code",
   "execution_count": null,
   "metadata": {},
   "outputs": [],
   "source": []
  },
  {
   "cell_type": "code",
   "execution_count": null,
   "metadata": {},
   "outputs": [],
   "source": []
  },
  {
   "cell_type": "code",
   "execution_count": null,
   "metadata": {},
   "outputs": [],
   "source": []
  },
  {
   "cell_type": "code",
   "execution_count": null,
   "metadata": {},
   "outputs": [],
   "source": []
  },
  {
   "cell_type": "code",
   "execution_count": null,
   "metadata": {},
   "outputs": [],
   "source": []
  }
 ],
 "metadata": {
  "kernelspec": {
   "display_name": "Python 3",
   "language": "python",
   "name": "python3"
  },
  "language_info": {
   "codemirror_mode": {
    "name": "ipython",
    "version": 3
   },
   "file_extension": ".py",
   "mimetype": "text/x-python",
   "name": "python",
   "nbconvert_exporter": "python",
   "pygments_lexer": "ipython3",
   "version": "3.8.5"
  }
 },
 "nbformat": 4,
 "nbformat_minor": 4
}
