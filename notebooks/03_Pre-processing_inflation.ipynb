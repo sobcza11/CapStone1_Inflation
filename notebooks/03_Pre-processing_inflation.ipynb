{
 "cells": [
  {
   "cell_type": "markdown",
   "metadata": {},
   "source": [
    "# Pre-Processing | US Inflation"
   ]
  },
  {
   "cell_type": "markdown",
   "metadata": {},
   "source": [
    "# Table of Contents<a id='#home'></a>\n",
    "* [3.0 Pre-Processing](#pre_p)\n",
    "  * [3.1 Contents](#contents)\n",
    "  * [3.2 Import Libs](#libs)\n",
    "  * [3.3 Reassessing the input](#inputs)\n",
    "  * [3.4 Creating Dummy Variables](#dummies)\n",
    "  * [3.5 Split data](#split)\n",
    "  * [3.6 Scale Data](#scale)\n",
    "    * [3.6.1 Standardization ( X & y scaled )](#ss)\n",
    "    * [3.6.2 MinMaxScaler ( X & y scaled )](#mm)\n",
    "    * [3.6.3 Log Transform ( X & y scaled )](#log)\n",
    "    * [3.6.4 Standardization ( X scaled only )](#ss_x)\n",
    "    * [3.6.5 MinMaxScaler ( X scaled only )](#mm_x)\n",
    "    * [3.6.6 Log Transform ( X scaled only )](#log_x)\n",
    "  * [3.7 Scaling Review](#scale_rev)\n",
    "  * [3.8 Balancing SS & LG to unscaled y](#ss_log)\n",
    "    * [3.8.1 LG to unscaled y](#lg_uns)\n",
    "    * [3.8.2 SS to unscaled y](#ss_uns)\n",
    "    * [3.8.3 SS & LG together & metrics](#together)\n",
    "  * [3.9 Conclusion](#conclusion)\n",
    "\n"
   ]
  },
  {
   "cell_type": "markdown",
   "metadata": {},
   "source": [
    "## 3.1 Contents<a id='contents'></a>"
   ]
  },
  {
   "cell_type": "markdown",
   "metadata": {},
   "source": [
    "The enclosed represents Chapter 16.3 of the Springboard Data Scientist Career Track. The structure is as follows:\n",
    "   * Creating Dummy Variables\n",
    "   * Splitting the Data into Training & Testing subsets for Machine Learning\n",
    "   * Standardized Scaling\n",
    "\n",
    "I hope this submission shows that I understand when to apply the proper steps.\n",
    "\n",
    "This code is built in Jupyter Notebook & uploaded on Github.\n"
   ]
  },
  {
   "cell_type": "markdown",
   "metadata": {},
   "source": [
    "## 3.2 Import Libs<a id='libs'></a>"
   ]
  },
  {
   "cell_type": "markdown",
   "metadata": {},
   "source": [
    "**Importing the relevant libraries to start**"
   ]
  },
  {
   "cell_type": "code",
   "execution_count": 1,
   "metadata": {},
   "outputs": [],
   "source": [
    "#Import the necessary tools required in the correct lines below\n",
    "import pandas as pd\n",
    "import matplotlib.pyplot as plt\n",
    "import matplotlib.colors as colors\n",
    "import seaborn as sns\n",
    "import os\n",
    "import lxml\n",
    "import datetime\n",
    "import requests\n",
    "import json\n",
    "import collections\n",
    "import seaborn as sns\n",
    "from scipy import stats\n",
    "import numpy as np\n"
   ]
  },
  {
   "cell_type": "markdown",
   "metadata": {},
   "source": [
    "# 3.3 Reassessing the input"
   ]
  },
  {
   "cell_type": "markdown",
   "metadata": {},
   "source": [
    "We will import the dataframe from the previous Exploratory Data Analysis ( EDA ) section."
   ]
  },
  {
   "cell_type": "code",
   "execution_count": 11,
   "metadata": {},
   "outputs": [
    {
     "name": "stdout",
     "output_type": "stream",
     "text": [
      "C:\\Users\\rands\n"
     ]
    }
   ],
   "source": [
    "cd"
   ]
  },
  {
   "cell_type": "code",
   "execution_count": 22,
   "metadata": {},
   "outputs": [],
   "source": [
    "df = pd.read_csv('./_Capstone_One_Inflation/data/1.0_Segmented_by_periods/QonQ_main_roll.csv')"
   ]
  },
  {
   "cell_type": "markdown",
   "metadata": {},
   "source": [
    "As a reminder, the dataframe is composed of a quarterly change ( back ) on both `Inflation` & the Variables. The variables, however, are taking a rolling average. The rational is based on the idea that one of the variables may have had a bad day / week at the end of their respective term. If so, they may not properly display the impact they may have had on `Inflation`.\n",
    "\n",
    "`Inflation` on the other hand, was moderately scraped in one Z-score round."
   ]
  },
  {
   "cell_type": "markdown",
   "metadata": {},
   "source": [
    "As a reminder, the dataframe is composed of a quarterly change ( back ) on both `Inflation` & the Variables. The variables, however, are taking a rolling average. The rational is based on the idea that one of the variables may have had a bad day / week at the end of their respective term. If so, they may not properly display the impact they may have had on `Inflation`.\n",
    "\n",
    "`Inflation` on the other hand, was moderately scraped in one Z-score round."
   ]
  },
  {
   "cell_type": "code",
   "execution_count": 23,
   "metadata": {},
   "outputs": [
    {
     "data": {
      "text/html": [
       "<div>\n",
       "<style scoped>\n",
       "    .dataframe tbody tr th:only-of-type {\n",
       "        vertical-align: middle;\n",
       "    }\n",
       "\n",
       "    .dataframe tbody tr th {\n",
       "        vertical-align: top;\n",
       "    }\n",
       "\n",
       "    .dataframe thead th {\n",
       "        text-align: right;\n",
       "    }\n",
       "</style>\n",
       "<table border=\"1\" class=\"dataframe\">\n",
       "  <thead>\n",
       "    <tr style=\"text-align: right;\">\n",
       "      <th></th>\n",
       "      <th>Date</th>\n",
       "      <th>Inflation</th>\n",
       "      <th>Wage CPI</th>\n",
       "      <th>WTI</th>\n",
       "      <th>Heating Oil</th>\n",
       "      <th>Copper</th>\n",
       "      <th>Sugar</th>\n",
       "      <th>Natural Gas</th>\n",
       "      <th>Cattle</th>\n",
       "      <th>Lean Hogs</th>\n",
       "      <th>...</th>\n",
       "      <th>Lumber</th>\n",
       "      <th>Capacity Utilization</th>\n",
       "      <th>Corn</th>\n",
       "      <th>M2 Velocity</th>\n",
       "      <th>GDP</th>\n",
       "      <th>Wheat</th>\n",
       "      <th>PMI</th>\n",
       "      <th>USD Index</th>\n",
       "      <th>Unemployment Rate</th>\n",
       "      <th>Initial Jobless Claims</th>\n",
       "    </tr>\n",
       "  </thead>\n",
       "  <tbody>\n",
       "    <tr>\n",
       "      <th>0</th>\n",
       "      <td>2021-03-31 00:00:00</td>\n",
       "      <td>1.258</td>\n",
       "      <td>0.010480</td>\n",
       "      <td>0.369991</td>\n",
       "      <td>0.369560</td>\n",
       "      <td>0.175348</td>\n",
       "      <td>0.120553</td>\n",
       "      <td>-0.007061</td>\n",
       "      <td>0.070928</td>\n",
       "      <td>0.186173</td>\n",
       "      <td>...</td>\n",
       "      <td>0.489504</td>\n",
       "      <td>0.005820</td>\n",
       "      <td>0.296406</td>\n",
       "      <td>-0.010573</td>\n",
       "      <td>0.025781</td>\n",
       "      <td>0.066452</td>\n",
       "      <td>2.400000</td>\n",
       "      <td>-0.025315</td>\n",
       "      <td>-0.600000</td>\n",
       "      <td>18500.000000</td>\n",
       "    </tr>\n",
       "    <tr>\n",
       "      <th>1</th>\n",
       "      <td>2021-02-28 00:00:00</td>\n",
       "      <td>0.501</td>\n",
       "      <td>0.007630</td>\n",
       "      <td>0.294725</td>\n",
       "      <td>0.362725</td>\n",
       "      <td>0.178939</td>\n",
       "      <td>0.153711</td>\n",
       "      <td>0.039364</td>\n",
       "      <td>0.056126</td>\n",
       "      <td>0.071797</td>\n",
       "      <td>...</td>\n",
       "      <td>0.364326</td>\n",
       "      <td>0.017240</td>\n",
       "      <td>0.267969</td>\n",
       "      <td>-0.010573</td>\n",
       "      <td>0.025781</td>\n",
       "      <td>0.081492</td>\n",
       "      <td>2.600000</td>\n",
       "      <td>-0.028476</td>\n",
       "      <td>-0.733333</td>\n",
       "      <td>41500.000000</td>\n",
       "    </tr>\n",
       "    <tr>\n",
       "      <th>2</th>\n",
       "      <td>2021-01-31 00:00:00</td>\n",
       "      <td>0.218</td>\n",
       "      <td>0.006251</td>\n",
       "      <td>0.133619</td>\n",
       "      <td>0.212935</td>\n",
       "      <td>0.143127</td>\n",
       "      <td>0.167539</td>\n",
       "      <td>0.133913</td>\n",
       "      <td>0.052881</td>\n",
       "      <td>0.083947</td>\n",
       "      <td>...</td>\n",
       "      <td>0.119677</td>\n",
       "      <td>0.026240</td>\n",
       "      <td>0.244380</td>\n",
       "      <td>-0.010573</td>\n",
       "      <td>0.025781</td>\n",
       "      <td>0.075828</td>\n",
       "      <td>2.266667</td>\n",
       "      <td>-0.021939</td>\n",
       "      <td>-1.133333</td>\n",
       "      <td>-6333.333333</td>\n",
       "    </tr>\n",
       "    <tr>\n",
       "      <th>3</th>\n",
       "      <td>2020-12-31 00:00:00</td>\n",
       "      <td>-0.009</td>\n",
       "      <td>0.006591</td>\n",
       "      <td>0.045217</td>\n",
       "      <td>0.075287</td>\n",
       "      <td>0.102038</td>\n",
       "      <td>0.183723</td>\n",
       "      <td>0.331085</td>\n",
       "      <td>0.055001</td>\n",
       "      <td>0.251831</td>\n",
       "      <td>...</td>\n",
       "      <td>0.017824</td>\n",
       "      <td>0.023439</td>\n",
       "      <td>0.227807</td>\n",
       "      <td>-0.011324</td>\n",
       "      <td>0.015327</td>\n",
       "      <td>0.121747</td>\n",
       "      <td>4.000000</td>\n",
       "      <td>-0.020209</td>\n",
       "      <td>-2.033333</td>\n",
       "      <td>-170166.666700</td>\n",
       "    </tr>\n",
       "    <tr>\n",
       "      <th>4</th>\n",
       "      <td>2020-11-30 00:00:00</td>\n",
       "      <td>-0.135</td>\n",
       "      <td>0.009198</td>\n",
       "      <td>0.012381</td>\n",
       "      <td>-0.024694</td>\n",
       "      <td>0.097439</td>\n",
       "      <td>0.145086</td>\n",
       "      <td>0.400814</td>\n",
       "      <td>0.076208</td>\n",
       "      <td>0.340989</td>\n",
       "      <td>...</td>\n",
       "      <td>0.352576</td>\n",
       "      <td>0.030591</td>\n",
       "      <td>0.194635</td>\n",
       "      <td>-0.011324</td>\n",
       "      <td>0.015327</td>\n",
       "      <td>0.137836</td>\n",
       "      <td>3.566667</td>\n",
       "      <td>-0.022875</td>\n",
       "      <td>-2.766667</td>\n",
       "      <td>-374750.000000</td>\n",
       "    </tr>\n",
       "  </tbody>\n",
       "</table>\n",
       "<p>5 rows × 21 columns</p>\n",
       "</div>"
      ],
      "text/plain": [
       "                  Date  Inflation  Wage CPI       WTI  Heating Oil    Copper  \\\n",
       "0  2021-03-31 00:00:00      1.258  0.010480  0.369991     0.369560  0.175348   \n",
       "1  2021-02-28 00:00:00      0.501  0.007630  0.294725     0.362725  0.178939   \n",
       "2  2021-01-31 00:00:00      0.218  0.006251  0.133619     0.212935  0.143127   \n",
       "3  2020-12-31 00:00:00     -0.009  0.006591  0.045217     0.075287  0.102038   \n",
       "4  2020-11-30 00:00:00     -0.135  0.009198  0.012381    -0.024694  0.097439   \n",
       "\n",
       "      Sugar  Natural Gas    Cattle  Lean Hogs  ...    Lumber  \\\n",
       "0  0.120553    -0.007061  0.070928   0.186173  ...  0.489504   \n",
       "1  0.153711     0.039364  0.056126   0.071797  ...  0.364326   \n",
       "2  0.167539     0.133913  0.052881   0.083947  ...  0.119677   \n",
       "3  0.183723     0.331085  0.055001   0.251831  ...  0.017824   \n",
       "4  0.145086     0.400814  0.076208   0.340989  ...  0.352576   \n",
       "\n",
       "   Capacity Utilization      Corn  M2 Velocity       GDP     Wheat       PMI  \\\n",
       "0              0.005820  0.296406    -0.010573  0.025781  0.066452  2.400000   \n",
       "1              0.017240  0.267969    -0.010573  0.025781  0.081492  2.600000   \n",
       "2              0.026240  0.244380    -0.010573  0.025781  0.075828  2.266667   \n",
       "3              0.023439  0.227807    -0.011324  0.015327  0.121747  4.000000   \n",
       "4              0.030591  0.194635    -0.011324  0.015327  0.137836  3.566667   \n",
       "\n",
       "   USD Index  Unemployment Rate  Initial Jobless Claims  \n",
       "0  -0.025315          -0.600000            18500.000000  \n",
       "1  -0.028476          -0.733333            41500.000000  \n",
       "2  -0.021939          -1.133333            -6333.333333  \n",
       "3  -0.020209          -2.033333          -170166.666700  \n",
       "4  -0.022875          -2.766667          -374750.000000  \n",
       "\n",
       "[5 rows x 21 columns]"
      ]
     },
     "execution_count": 23,
     "metadata": {},
     "output_type": "execute_result"
    }
   ],
   "source": [
    "df.head()"
   ]
  },
  {
   "cell_type": "markdown",
   "metadata": {},
   "source": [
    "Per below, they have been scraped ( i.e. no null values ) & they all came in from the the API as floats ( which we want ). The `Date` is the only non-float variable."
   ]
  },
  {
   "cell_type": "code",
   "execution_count": 24,
   "metadata": {},
   "outputs": [
    {
     "name": "stdout",
     "output_type": "stream",
     "text": [
      "<class 'pandas.core.frame.DataFrame'>\n",
      "RangeIndex: 313 entries, 0 to 312\n",
      "Data columns (total 21 columns):\n",
      " #   Column                  Non-Null Count  Dtype  \n",
      "---  ------                  --------------  -----  \n",
      " 0   Date                    313 non-null    object \n",
      " 1   Inflation               313 non-null    float64\n",
      " 2   Wage CPI                313 non-null    float64\n",
      " 3   WTI                     313 non-null    float64\n",
      " 4   Heating Oil             313 non-null    float64\n",
      " 5   Copper                  313 non-null    float64\n",
      " 6   Sugar                   313 non-null    float64\n",
      " 7   Natural Gas             313 non-null    float64\n",
      " 8   Cattle                  313 non-null    float64\n",
      " 9   Lean Hogs               313 non-null    float64\n",
      " 10  Soybeans                313 non-null    float64\n",
      " 11  Lumber                  313 non-null    float64\n",
      " 12  Capacity Utilization    313 non-null    float64\n",
      " 13  Corn                    313 non-null    float64\n",
      " 14  M2 Velocity             313 non-null    float64\n",
      " 15  GDP                     313 non-null    float64\n",
      " 16  Wheat                   313 non-null    float64\n",
      " 17  PMI                     313 non-null    float64\n",
      " 18  USD Index               313 non-null    float64\n",
      " 19  Unemployment Rate       313 non-null    float64\n",
      " 20  Initial Jobless Claims  313 non-null    float64\n",
      "dtypes: float64(20), object(1)\n",
      "memory usage: 51.5+ KB\n"
     ]
    }
   ],
   "source": [
    "df.info()"
   ]
  },
  {
   "cell_type": "code",
   "execution_count": 25,
   "metadata": {},
   "outputs": [
    {
     "data": {
      "text/plain": [
       "(313, 21)"
      ]
     },
     "execution_count": 25,
     "metadata": {},
     "output_type": "execute_result"
    }
   ],
   "source": [
    "df.shape"
   ]
  },
  {
   "cell_type": "code",
   "execution_count": 26,
   "metadata": {},
   "outputs": [
    {
     "data": {
      "text/html": [
       "<div>\n",
       "<style scoped>\n",
       "    .dataframe tbody tr th:only-of-type {\n",
       "        vertical-align: middle;\n",
       "    }\n",
       "\n",
       "    .dataframe tbody tr th {\n",
       "        vertical-align: top;\n",
       "    }\n",
       "\n",
       "    .dataframe thead th {\n",
       "        text-align: right;\n",
       "    }\n",
       "</style>\n",
       "<table border=\"1\" class=\"dataframe\">\n",
       "  <thead>\n",
       "    <tr style=\"text-align: right;\">\n",
       "      <th></th>\n",
       "      <th>Inflation</th>\n",
       "      <th>Wage CPI</th>\n",
       "      <th>WTI</th>\n",
       "      <th>Heating Oil</th>\n",
       "      <th>Copper</th>\n",
       "      <th>Sugar</th>\n",
       "      <th>Natural Gas</th>\n",
       "      <th>Cattle</th>\n",
       "      <th>Lean Hogs</th>\n",
       "      <th>Soybeans</th>\n",
       "      <th>Lumber</th>\n",
       "      <th>Capacity Utilization</th>\n",
       "      <th>Corn</th>\n",
       "      <th>M2 Velocity</th>\n",
       "      <th>GDP</th>\n",
       "      <th>Wheat</th>\n",
       "      <th>PMI</th>\n",
       "      <th>USD Index</th>\n",
       "      <th>Unemployment Rate</th>\n",
       "      <th>Initial Jobless Claims</th>\n",
       "    </tr>\n",
       "  </thead>\n",
       "  <tbody>\n",
       "    <tr>\n",
       "      <th>count</th>\n",
       "      <td>313.000000</td>\n",
       "      <td>313.000000</td>\n",
       "      <td>313.000000</td>\n",
       "      <td>313.000000</td>\n",
       "      <td>313.000000</td>\n",
       "      <td>313.000000</td>\n",
       "      <td>313.000000</td>\n",
       "      <td>313.000000</td>\n",
       "      <td>313.000000</td>\n",
       "      <td>313.000000</td>\n",
       "      <td>313.000000</td>\n",
       "      <td>313.000000</td>\n",
       "      <td>313.000000</td>\n",
       "      <td>313.000000</td>\n",
       "      <td>313.000000</td>\n",
       "      <td>313.000000</td>\n",
       "      <td>313.000000</td>\n",
       "      <td>313.000000</td>\n",
       "      <td>313.000000</td>\n",
       "      <td>3.130000e+02</td>\n",
       "    </tr>\n",
       "    <tr>\n",
       "      <th>mean</th>\n",
       "      <td>-0.022601</td>\n",
       "      <td>0.005542</td>\n",
       "      <td>0.021766</td>\n",
       "      <td>0.020997</td>\n",
       "      <td>0.019914</td>\n",
       "      <td>0.020275</td>\n",
       "      <td>0.035076</td>\n",
       "      <td>0.006913</td>\n",
       "      <td>0.018321</td>\n",
       "      <td>0.012311</td>\n",
       "      <td>0.029315</td>\n",
       "      <td>-0.000391</td>\n",
       "      <td>0.015080</td>\n",
       "      <td>-0.004434</td>\n",
       "      <td>0.010788</td>\n",
       "      <td>0.016812</td>\n",
       "      <td>0.067412</td>\n",
       "      <td>0.000866</td>\n",
       "      <td>0.005005</td>\n",
       "      <td>3.680245e+03</td>\n",
       "    </tr>\n",
       "    <tr>\n",
       "      <th>std</th>\n",
       "      <td>0.829942</td>\n",
       "      <td>0.005810</td>\n",
       "      <td>0.151866</td>\n",
       "      <td>0.139062</td>\n",
       "      <td>0.119602</td>\n",
       "      <td>0.147229</td>\n",
       "      <td>0.197313</td>\n",
       "      <td>0.066706</td>\n",
       "      <td>0.140979</td>\n",
       "      <td>0.098266</td>\n",
       "      <td>0.160300</td>\n",
       "      <td>0.017842</td>\n",
       "      <td>0.123465</td>\n",
       "      <td>0.022430</td>\n",
       "      <td>0.014099</td>\n",
       "      <td>0.109730</td>\n",
       "      <td>2.949277</td>\n",
       "      <td>0.034238</td>\n",
       "      <td>0.879689</td>\n",
       "      <td>2.698547e+05</td>\n",
       "    </tr>\n",
       "    <tr>\n",
       "      <th>min</th>\n",
       "      <td>-4.846000</td>\n",
       "      <td>-0.034864</td>\n",
       "      <td>-0.528002</td>\n",
       "      <td>-0.456848</td>\n",
       "      <td>-0.490200</td>\n",
       "      <td>-0.362170</td>\n",
       "      <td>-0.378821</td>\n",
       "      <td>-0.209991</td>\n",
       "      <td>-0.322853</td>\n",
       "      <td>-0.327256</td>\n",
       "      <td>-0.318534</td>\n",
       "      <td>-0.128528</td>\n",
       "      <td>-0.340215</td>\n",
       "      <td>-0.200145</td>\n",
       "      <td>-0.094662</td>\n",
       "      <td>-0.299369</td>\n",
       "      <td>-11.833333</td>\n",
       "      <td>-0.072180</td>\n",
       "      <td>-4.266667</td>\n",
       "      <td>-2.113167e+06</td>\n",
       "    </tr>\n",
       "    <tr>\n",
       "      <th>25%</th>\n",
       "      <td>-0.378000</td>\n",
       "      <td>0.003994</td>\n",
       "      <td>-0.056422</td>\n",
       "      <td>-0.050301</td>\n",
       "      <td>-0.049350</td>\n",
       "      <td>-0.080178</td>\n",
       "      <td>-0.088856</td>\n",
       "      <td>-0.039394</td>\n",
       "      <td>-0.075325</td>\n",
       "      <td>-0.041699</td>\n",
       "      <td>-0.074034</td>\n",
       "      <td>-0.004275</td>\n",
       "      <td>-0.058520</td>\n",
       "      <td>-0.007473</td>\n",
       "      <td>0.008557</td>\n",
       "      <td>-0.055866</td>\n",
       "      <td>-1.700000</td>\n",
       "      <td>-0.024159</td>\n",
       "      <td>-0.200000</td>\n",
       "      <td>-1.000000e+04</td>\n",
       "    </tr>\n",
       "    <tr>\n",
       "      <th>50%</th>\n",
       "      <td>-0.014000</td>\n",
       "      <td>0.006439</td>\n",
       "      <td>0.025317</td>\n",
       "      <td>0.021081</td>\n",
       "      <td>0.010359</td>\n",
       "      <td>-0.009599</td>\n",
       "      <td>0.006883</td>\n",
       "      <td>0.011879</td>\n",
       "      <td>0.006797</td>\n",
       "      <td>0.007084</td>\n",
       "      <td>0.017241</td>\n",
       "      <td>0.001780</td>\n",
       "      <td>0.004387</td>\n",
       "      <td>-0.003163</td>\n",
       "      <td>0.011641</td>\n",
       "      <td>0.007015</td>\n",
       "      <td>-0.100000</td>\n",
       "      <td>0.000687</td>\n",
       "      <td>-0.066667</td>\n",
       "      <td>-2.500000e+03</td>\n",
       "    </tr>\n",
       "    <tr>\n",
       "      <th>75%</th>\n",
       "      <td>0.358000</td>\n",
       "      <td>0.008240</td>\n",
       "      <td>0.117495</td>\n",
       "      <td>0.104692</td>\n",
       "      <td>0.088056</td>\n",
       "      <td>0.100828</td>\n",
       "      <td>0.157453</td>\n",
       "      <td>0.056126</td>\n",
       "      <td>0.113641</td>\n",
       "      <td>0.061045</td>\n",
       "      <td>0.117489</td>\n",
       "      <td>0.006229</td>\n",
       "      <td>0.076234</td>\n",
       "      <td>0.003914</td>\n",
       "      <td>0.015192</td>\n",
       "      <td>0.078272</td>\n",
       "      <td>1.700000</td>\n",
       "      <td>0.021898</td>\n",
       "      <td>0.066667</td>\n",
       "      <td>5.500000e+03</td>\n",
       "    </tr>\n",
       "    <tr>\n",
       "      <th>max</th>\n",
       "      <td>4.007000</td>\n",
       "      <td>0.023370</td>\n",
       "      <td>0.586463</td>\n",
       "      <td>0.369560</td>\n",
       "      <td>0.496467</td>\n",
       "      <td>0.604139</td>\n",
       "      <td>0.629854</td>\n",
       "      <td>0.181570</td>\n",
       "      <td>0.376706</td>\n",
       "      <td>0.288663</td>\n",
       "      <td>0.931183</td>\n",
       "      <td>0.096035</td>\n",
       "      <td>0.475869</td>\n",
       "      <td>0.040798</td>\n",
       "      <td>0.084535</td>\n",
       "      <td>0.443412</td>\n",
       "      <td>10.666667</td>\n",
       "      <td>0.118429</td>\n",
       "      <td>9.266667</td>\n",
       "      <td>3.001750e+06</td>\n",
       "    </tr>\n",
       "  </tbody>\n",
       "</table>\n",
       "</div>"
      ],
      "text/plain": [
       "        Inflation    Wage CPI         WTI  Heating Oil      Copper  \\\n",
       "count  313.000000  313.000000  313.000000   313.000000  313.000000   \n",
       "mean    -0.022601    0.005542    0.021766     0.020997    0.019914   \n",
       "std      0.829942    0.005810    0.151866     0.139062    0.119602   \n",
       "min     -4.846000   -0.034864   -0.528002    -0.456848   -0.490200   \n",
       "25%     -0.378000    0.003994   -0.056422    -0.050301   -0.049350   \n",
       "50%     -0.014000    0.006439    0.025317     0.021081    0.010359   \n",
       "75%      0.358000    0.008240    0.117495     0.104692    0.088056   \n",
       "max      4.007000    0.023370    0.586463     0.369560    0.496467   \n",
       "\n",
       "            Sugar  Natural Gas      Cattle   Lean Hogs    Soybeans  \\\n",
       "count  313.000000   313.000000  313.000000  313.000000  313.000000   \n",
       "mean     0.020275     0.035076    0.006913    0.018321    0.012311   \n",
       "std      0.147229     0.197313    0.066706    0.140979    0.098266   \n",
       "min     -0.362170    -0.378821   -0.209991   -0.322853   -0.327256   \n",
       "25%     -0.080178    -0.088856   -0.039394   -0.075325   -0.041699   \n",
       "50%     -0.009599     0.006883    0.011879    0.006797    0.007084   \n",
       "75%      0.100828     0.157453    0.056126    0.113641    0.061045   \n",
       "max      0.604139     0.629854    0.181570    0.376706    0.288663   \n",
       "\n",
       "           Lumber  Capacity Utilization        Corn  M2 Velocity         GDP  \\\n",
       "count  313.000000            313.000000  313.000000   313.000000  313.000000   \n",
       "mean     0.029315             -0.000391    0.015080    -0.004434    0.010788   \n",
       "std      0.160300              0.017842    0.123465     0.022430    0.014099   \n",
       "min     -0.318534             -0.128528   -0.340215    -0.200145   -0.094662   \n",
       "25%     -0.074034             -0.004275   -0.058520    -0.007473    0.008557   \n",
       "50%      0.017241              0.001780    0.004387    -0.003163    0.011641   \n",
       "75%      0.117489              0.006229    0.076234     0.003914    0.015192   \n",
       "max      0.931183              0.096035    0.475869     0.040798    0.084535   \n",
       "\n",
       "            Wheat         PMI   USD Index  Unemployment Rate  \\\n",
       "count  313.000000  313.000000  313.000000         313.000000   \n",
       "mean     0.016812    0.067412    0.000866           0.005005   \n",
       "std      0.109730    2.949277    0.034238           0.879689   \n",
       "min     -0.299369  -11.833333   -0.072180          -4.266667   \n",
       "25%     -0.055866   -1.700000   -0.024159          -0.200000   \n",
       "50%      0.007015   -0.100000    0.000687          -0.066667   \n",
       "75%      0.078272    1.700000    0.021898           0.066667   \n",
       "max      0.443412   10.666667    0.118429           9.266667   \n",
       "\n",
       "       Initial Jobless Claims  \n",
       "count            3.130000e+02  \n",
       "mean             3.680245e+03  \n",
       "std              2.698547e+05  \n",
       "min             -2.113167e+06  \n",
       "25%             -1.000000e+04  \n",
       "50%             -2.500000e+03  \n",
       "75%              5.500000e+03  \n",
       "max              3.001750e+06  "
      ]
     },
     "execution_count": 26,
     "metadata": {},
     "output_type": "execute_result"
    }
   ],
   "source": [
    "df.describe()"
   ]
  },
  {
   "cell_type": "markdown",
   "metadata": {},
   "source": [
    "## 3.4 Creating Dummy Variables<a id='dummies'></a>"
   ]
  },
  {
   "cell_type": "code",
   "execution_count": 27,
   "metadata": {},
   "outputs": [],
   "source": [
    "df_dummies = pd.get_dummies( df, columns=['Inflation'], prefix='D' )"
   ]
  },
  {
   "cell_type": "code",
   "execution_count": 28,
   "metadata": {},
   "outputs": [
    {
     "data": {
      "text/html": [
       "<div>\n",
       "<style scoped>\n",
       "    .dataframe tbody tr th:only-of-type {\n",
       "        vertical-align: middle;\n",
       "    }\n",
       "\n",
       "    .dataframe tbody tr th {\n",
       "        vertical-align: top;\n",
       "    }\n",
       "\n",
       "    .dataframe thead th {\n",
       "        text-align: right;\n",
       "    }\n",
       "</style>\n",
       "<table border=\"1\" class=\"dataframe\">\n",
       "  <thead>\n",
       "    <tr style=\"text-align: right;\">\n",
       "      <th></th>\n",
       "      <th>Date</th>\n",
       "      <th>Wage CPI</th>\n",
       "      <th>WTI</th>\n",
       "      <th>Heating Oil</th>\n",
       "      <th>Copper</th>\n",
       "      <th>Sugar</th>\n",
       "      <th>Natural Gas</th>\n",
       "      <th>Cattle</th>\n",
       "      <th>Lean Hogs</th>\n",
       "      <th>Soybeans</th>\n",
       "      <th>...</th>\n",
       "      <th>D_1.4609999999999999</th>\n",
       "      <th>D_1.5290000000000001</th>\n",
       "      <th>D_1.5319999999999998</th>\n",
       "      <th>D_1.663</th>\n",
       "      <th>D_1.9140000000000001</th>\n",
       "      <th>D_2.157</th>\n",
       "      <th>D_2.336</th>\n",
       "      <th>D_2.8089999999999997</th>\n",
       "      <th>D_3.322</th>\n",
       "      <th>D_4.007</th>\n",
       "    </tr>\n",
       "  </thead>\n",
       "  <tbody>\n",
       "    <tr>\n",
       "      <th>0</th>\n",
       "      <td>2021-03-31 00:00:00</td>\n",
       "      <td>0.01048</td>\n",
       "      <td>0.369991</td>\n",
       "      <td>0.369560</td>\n",
       "      <td>0.175348</td>\n",
       "      <td>0.120553</td>\n",
       "      <td>-0.007061</td>\n",
       "      <td>0.070928</td>\n",
       "      <td>0.186173</td>\n",
       "      <td>0.208343</td>\n",
       "      <td>...</td>\n",
       "      <td>0</td>\n",
       "      <td>0</td>\n",
       "      <td>0</td>\n",
       "      <td>0</td>\n",
       "      <td>0</td>\n",
       "      <td>0</td>\n",
       "      <td>0</td>\n",
       "      <td>0</td>\n",
       "      <td>0</td>\n",
       "      <td>0</td>\n",
       "    </tr>\n",
       "    <tr>\n",
       "      <th>1</th>\n",
       "      <td>2021-02-28 00:00:00</td>\n",
       "      <td>0.00763</td>\n",
       "      <td>0.294725</td>\n",
       "      <td>0.362725</td>\n",
       "      <td>0.178939</td>\n",
       "      <td>0.153711</td>\n",
       "      <td>0.039364</td>\n",
       "      <td>0.056126</td>\n",
       "      <td>0.071797</td>\n",
       "      <td>0.235484</td>\n",
       "      <td>...</td>\n",
       "      <td>0</td>\n",
       "      <td>0</td>\n",
       "      <td>0</td>\n",
       "      <td>0</td>\n",
       "      <td>0</td>\n",
       "      <td>0</td>\n",
       "      <td>0</td>\n",
       "      <td>0</td>\n",
       "      <td>0</td>\n",
       "      <td>0</td>\n",
       "    </tr>\n",
       "  </tbody>\n",
       "</table>\n",
       "<p>2 rows × 308 columns</p>\n",
       "</div>"
      ],
      "text/plain": [
       "                  Date  Wage CPI       WTI  Heating Oil    Copper     Sugar  \\\n",
       "0  2021-03-31 00:00:00   0.01048  0.369991     0.369560  0.175348  0.120553   \n",
       "1  2021-02-28 00:00:00   0.00763  0.294725     0.362725  0.178939  0.153711   \n",
       "\n",
       "   Natural Gas    Cattle  Lean Hogs  Soybeans  ...  D_1.4609999999999999  \\\n",
       "0    -0.007061  0.070928   0.186173  0.208343  ...                     0   \n",
       "1     0.039364  0.056126   0.071797  0.235484  ...                     0   \n",
       "\n",
       "   D_1.5290000000000001  D_1.5319999999999998  D_1.663  D_1.9140000000000001  \\\n",
       "0                     0                     0        0                     0   \n",
       "1                     0                     0        0                     0   \n",
       "\n",
       "   D_2.157  D_2.336  D_2.8089999999999997  D_3.322  D_4.007  \n",
       "0        0        0                     0        0        0  \n",
       "1        0        0                     0        0        0  \n",
       "\n",
       "[2 rows x 308 columns]"
      ]
     },
     "execution_count": 28,
     "metadata": {},
     "output_type": "execute_result"
    }
   ],
   "source": [
    "df_dummies.head(2)"
   ]
  },
  {
   "cell_type": "code",
   "execution_count": 29,
   "metadata": {
    "scrolled": true
   },
   "outputs": [
    {
     "data": {
      "text/html": [
       "<div>\n",
       "<style scoped>\n",
       "    .dataframe tbody tr th:only-of-type {\n",
       "        vertical-align: middle;\n",
       "    }\n",
       "\n",
       "    .dataframe tbody tr th {\n",
       "        vertical-align: top;\n",
       "    }\n",
       "\n",
       "    .dataframe thead th {\n",
       "        text-align: right;\n",
       "    }\n",
       "</style>\n",
       "<table border=\"1\" class=\"dataframe\">\n",
       "  <thead>\n",
       "    <tr style=\"text-align: right;\">\n",
       "      <th></th>\n",
       "      <th>Date</th>\n",
       "      <th>Inflation</th>\n",
       "      <th>Wage CPI</th>\n",
       "      <th>WTI</th>\n",
       "      <th>Heating Oil</th>\n",
       "      <th>Copper</th>\n",
       "      <th>Sugar</th>\n",
       "      <th>Natural Gas</th>\n",
       "      <th>Cattle</th>\n",
       "      <th>Lean Hogs</th>\n",
       "      <th>...</th>\n",
       "      <th>Lumber</th>\n",
       "      <th>Capacity Utilization</th>\n",
       "      <th>Corn</th>\n",
       "      <th>M2 Velocity</th>\n",
       "      <th>GDP</th>\n",
       "      <th>Wheat</th>\n",
       "      <th>PMI</th>\n",
       "      <th>USD Index</th>\n",
       "      <th>Unemployment Rate</th>\n",
       "      <th>Initial Jobless Claims</th>\n",
       "    </tr>\n",
       "  </thead>\n",
       "  <tbody>\n",
       "    <tr>\n",
       "      <th>0</th>\n",
       "      <td>2021-03-31 00:00:00</td>\n",
       "      <td>1.258</td>\n",
       "      <td>0.010480</td>\n",
       "      <td>0.369991</td>\n",
       "      <td>0.369560</td>\n",
       "      <td>0.175348</td>\n",
       "      <td>0.120553</td>\n",
       "      <td>-0.007061</td>\n",
       "      <td>0.070928</td>\n",
       "      <td>0.186173</td>\n",
       "      <td>...</td>\n",
       "      <td>0.489504</td>\n",
       "      <td>0.005820</td>\n",
       "      <td>0.296406</td>\n",
       "      <td>-0.010573</td>\n",
       "      <td>0.025781</td>\n",
       "      <td>0.066452</td>\n",
       "      <td>2.400000</td>\n",
       "      <td>-0.025315</td>\n",
       "      <td>-0.600000</td>\n",
       "      <td>18500.000000</td>\n",
       "    </tr>\n",
       "    <tr>\n",
       "      <th>1</th>\n",
       "      <td>2021-02-28 00:00:00</td>\n",
       "      <td>0.501</td>\n",
       "      <td>0.007630</td>\n",
       "      <td>0.294725</td>\n",
       "      <td>0.362725</td>\n",
       "      <td>0.178939</td>\n",
       "      <td>0.153711</td>\n",
       "      <td>0.039364</td>\n",
       "      <td>0.056126</td>\n",
       "      <td>0.071797</td>\n",
       "      <td>...</td>\n",
       "      <td>0.364326</td>\n",
       "      <td>0.017240</td>\n",
       "      <td>0.267969</td>\n",
       "      <td>-0.010573</td>\n",
       "      <td>0.025781</td>\n",
       "      <td>0.081492</td>\n",
       "      <td>2.600000</td>\n",
       "      <td>-0.028476</td>\n",
       "      <td>-0.733333</td>\n",
       "      <td>41500.000000</td>\n",
       "    </tr>\n",
       "    <tr>\n",
       "      <th>2</th>\n",
       "      <td>2021-01-31 00:00:00</td>\n",
       "      <td>0.218</td>\n",
       "      <td>0.006251</td>\n",
       "      <td>0.133619</td>\n",
       "      <td>0.212935</td>\n",
       "      <td>0.143127</td>\n",
       "      <td>0.167539</td>\n",
       "      <td>0.133913</td>\n",
       "      <td>0.052881</td>\n",
       "      <td>0.083947</td>\n",
       "      <td>...</td>\n",
       "      <td>0.119677</td>\n",
       "      <td>0.026240</td>\n",
       "      <td>0.244380</td>\n",
       "      <td>-0.010573</td>\n",
       "      <td>0.025781</td>\n",
       "      <td>0.075828</td>\n",
       "      <td>2.266667</td>\n",
       "      <td>-0.021939</td>\n",
       "      <td>-1.133333</td>\n",
       "      <td>-6333.333333</td>\n",
       "    </tr>\n",
       "    <tr>\n",
       "      <th>3</th>\n",
       "      <td>2020-12-31 00:00:00</td>\n",
       "      <td>-0.009</td>\n",
       "      <td>0.006591</td>\n",
       "      <td>0.045217</td>\n",
       "      <td>0.075287</td>\n",
       "      <td>0.102038</td>\n",
       "      <td>0.183723</td>\n",
       "      <td>0.331085</td>\n",
       "      <td>0.055001</td>\n",
       "      <td>0.251831</td>\n",
       "      <td>...</td>\n",
       "      <td>0.017824</td>\n",
       "      <td>0.023439</td>\n",
       "      <td>0.227807</td>\n",
       "      <td>-0.011324</td>\n",
       "      <td>0.015327</td>\n",
       "      <td>0.121747</td>\n",
       "      <td>4.000000</td>\n",
       "      <td>-0.020209</td>\n",
       "      <td>-2.033333</td>\n",
       "      <td>-170166.666700</td>\n",
       "    </tr>\n",
       "    <tr>\n",
       "      <th>4</th>\n",
       "      <td>2020-11-30 00:00:00</td>\n",
       "      <td>-0.135</td>\n",
       "      <td>0.009198</td>\n",
       "      <td>0.012381</td>\n",
       "      <td>-0.024694</td>\n",
       "      <td>0.097439</td>\n",
       "      <td>0.145086</td>\n",
       "      <td>0.400814</td>\n",
       "      <td>0.076208</td>\n",
       "      <td>0.340989</td>\n",
       "      <td>...</td>\n",
       "      <td>0.352576</td>\n",
       "      <td>0.030591</td>\n",
       "      <td>0.194635</td>\n",
       "      <td>-0.011324</td>\n",
       "      <td>0.015327</td>\n",
       "      <td>0.137836</td>\n",
       "      <td>3.566667</td>\n",
       "      <td>-0.022875</td>\n",
       "      <td>-2.766667</td>\n",
       "      <td>-374750.000000</td>\n",
       "    </tr>\n",
       "  </tbody>\n",
       "</table>\n",
       "<p>5 rows × 21 columns</p>\n",
       "</div>"
      ],
      "text/plain": [
       "                  Date  Inflation  Wage CPI       WTI  Heating Oil    Copper  \\\n",
       "0  2021-03-31 00:00:00      1.258  0.010480  0.369991     0.369560  0.175348   \n",
       "1  2021-02-28 00:00:00      0.501  0.007630  0.294725     0.362725  0.178939   \n",
       "2  2021-01-31 00:00:00      0.218  0.006251  0.133619     0.212935  0.143127   \n",
       "3  2020-12-31 00:00:00     -0.009  0.006591  0.045217     0.075287  0.102038   \n",
       "4  2020-11-30 00:00:00     -0.135  0.009198  0.012381    -0.024694  0.097439   \n",
       "\n",
       "      Sugar  Natural Gas    Cattle  Lean Hogs  ...    Lumber  \\\n",
       "0  0.120553    -0.007061  0.070928   0.186173  ...  0.489504   \n",
       "1  0.153711     0.039364  0.056126   0.071797  ...  0.364326   \n",
       "2  0.167539     0.133913  0.052881   0.083947  ...  0.119677   \n",
       "3  0.183723     0.331085  0.055001   0.251831  ...  0.017824   \n",
       "4  0.145086     0.400814  0.076208   0.340989  ...  0.352576   \n",
       "\n",
       "   Capacity Utilization      Corn  M2 Velocity       GDP     Wheat       PMI  \\\n",
       "0              0.005820  0.296406    -0.010573  0.025781  0.066452  2.400000   \n",
       "1              0.017240  0.267969    -0.010573  0.025781  0.081492  2.600000   \n",
       "2              0.026240  0.244380    -0.010573  0.025781  0.075828  2.266667   \n",
       "3              0.023439  0.227807    -0.011324  0.015327  0.121747  4.000000   \n",
       "4              0.030591  0.194635    -0.011324  0.015327  0.137836  3.566667   \n",
       "\n",
       "   USD Index  Unemployment Rate  Initial Jobless Claims  \n",
       "0  -0.025315          -0.600000            18500.000000  \n",
       "1  -0.028476          -0.733333            41500.000000  \n",
       "2  -0.021939          -1.133333            -6333.333333  \n",
       "3  -0.020209          -2.033333          -170166.666700  \n",
       "4  -0.022875          -2.766667          -374750.000000  \n",
       "\n",
       "[5 rows x 21 columns]"
      ]
     },
     "execution_count": 29,
     "metadata": {},
     "output_type": "execute_result"
    }
   ],
   "source": [
    "df.head()"
   ]
  },
  {
   "cell_type": "markdown",
   "metadata": {},
   "source": [
    "While we knew going into the process that the entire data set is composed of \"non categorical\" data, notably floats, we undertook dummy variable creation process to double confirm.\n",
    "\n",
    "**We will proceed forward without the dummy variables.**"
   ]
  },
  {
   "cell_type": "markdown",
   "metadata": {},
   "source": [
    "## 3.5 Split data<a id='split'></a>"
   ]
  },
  {
   "cell_type": "markdown",
   "metadata": {},
   "source": [
    "We will now undertake the train / test split. Please note, there are three ( 3 ) scaling approaches ( next section ). Therefore, we will do one ( 1 ) main split but assign the `Train` & `Test` splits to each of the scaling approaches individually; in other words, each one will have its own data frame.\n",
    "\n",
    "Listed below is a summary of the scaling names, the approach & the name of the respective data frames which we will formalize in the next section. Each will have a train test split formalized here:\n",
    "\n",
    "   * **Standardization**\n",
    "      * This approach finds the mean of the data, assigns that as Zero & the values presented are standard deviated moves\n",
    "      * Data Frame Name  |  `_SS`   \n",
    "   * **MinMaxScaler** ( often called Normalization )\n",
    "      * This approach reassigns the values from 0 -> 1\n",
    "      * Data Frame Name  |  `_MM`\n",
    "   * **Log Transformation**\n",
    "      * This approach usually is used with data that has long tails\n",
    "      * Data Frame Name  |  `_LG`\n",
    "\n",
    "The creation of these train / test splits will start here but before we proceed we will need to import the necessary libraries."
   ]
  },
  {
   "cell_type": "code",
   "execution_count": 30,
   "metadata": {},
   "outputs": [],
   "source": [
    "# from library.sb_utils import save_file\n",
    "from sklearn import __version__ as sklearn_version\n",
    "from sklearn.decomposition import PCA\n",
    "from sklearn.preprocessing import scale\n",
    "from sklearn.model_selection import train_test_split, cross_validate, GridSearchCV, learning_curve\n",
    "from sklearn.dummy import DummyRegressor\n",
    "from sklearn.linear_model import LinearRegression\n",
    "from sklearn.linear_model import LogisticRegression\n",
    "from sklearn.ensemble import RandomForestRegressor\n",
    "from sklearn.metrics import r2_score, mean_squared_error, mean_absolute_error\n",
    "from sklearn.pipeline import make_pipeline\n",
    "from sklearn.impute import SimpleImputer\n",
    "from sklearn.feature_selection import SelectKBest, f_regression\n"
   ]
  },
  {
   "cell_type": "markdown",
   "metadata": {},
   "source": [
    "**Train test split**"
   ]
  },
  {
   "cell_type": "markdown",
   "metadata": {},
   "source": [
    "To begin, let's see what a `70% / 30% Train/Test Split` looks like."
   ]
  },
  {
   "cell_type": "code",
   "execution_count": 31,
   "metadata": {},
   "outputs": [
    {
     "name": "stdout",
     "output_type": "stream",
     "text": [
      " Train | 219.1 \n",
      " Test  | 93.89999999999999\n"
     ]
    }
   ],
   "source": [
    "print(' Train |', round(len(df)* 0.7,2), '\\n','Test  |', len(df) * 0.3)"
   ]
  },
  {
   "cell_type": "markdown",
   "metadata": {},
   "source": [
    "Now we have a reference to what the output should look like above. We will now split the data removing `Inflation` as that's the dependant variable."
   ]
  },
  {
   "cell_type": "code",
   "execution_count": 32,
   "metadata": {},
   "outputs": [],
   "source": [
    "X_train, X_test, y_train, y_test = train_test_split(df.drop(columns='Inflation'),\n",
    "                                                    df.Inflation, test_size=0.3,\n",
    "                                                    random_state=42\n",
    "                                                   )"
   ]
  },
  {
   "cell_type": "code",
   "execution_count": 33,
   "metadata": {},
   "outputs": [
    {
     "data": {
      "text/plain": [
       "((219, 20), (94, 20))"
      ]
     },
     "execution_count": 33,
     "metadata": {},
     "output_type": "execute_result"
    }
   ],
   "source": [
    "X_train.shape, X_test.shape"
   ]
  },
  {
   "cell_type": "code",
   "execution_count": 34,
   "metadata": {},
   "outputs": [
    {
     "data": {
      "text/plain": [
       "((219,), (94,))"
      ]
     },
     "execution_count": 34,
     "metadata": {},
     "output_type": "execute_result"
    }
   ],
   "source": [
    "y_train.shape, y_test.shape"
   ]
  },
  {
   "cell_type": "markdown",
   "metadata": {},
   "source": [
    "The above align with the previous review so we will proceed. We will need to remove `Date` as that's not something we will use in our model."
   ]
  },
  {
   "cell_type": "code",
   "execution_count": 35,
   "metadata": {},
   "outputs": [
    {
     "data": {
      "text/plain": [
       "((219, 19), (94, 19))"
      ]
     },
     "execution_count": 35,
     "metadata": {},
     "output_type": "execute_result"
    }
   ],
   "source": [
    "date_list = ['Date']\n",
    "date_train = X_train[['Date']]\n",
    "date_test = X_train[['Date']]\n",
    "\n",
    "X_train.drop(columns=date_list, inplace=True)\n",
    "X_test.drop(columns=date_list, inplace=True)\n",
    "X_train.shape, X_test.shape"
   ]
  },
  {
   "cell_type": "code",
   "execution_count": 36,
   "metadata": {},
   "outputs": [],
   "source": [
    "reg_all = LinearRegression()"
   ]
  },
  {
   "cell_type": "code",
   "execution_count": 37,
   "metadata": {},
   "outputs": [
    {
     "data": {
      "text/plain": [
       "LinearRegression()"
      ]
     },
     "execution_count": 37,
     "metadata": {},
     "output_type": "execute_result"
    }
   ],
   "source": [
    "reg_all.fit(X_train,y_train)"
   ]
  },
  {
   "cell_type": "code",
   "execution_count": 38,
   "metadata": {},
   "outputs": [],
   "source": [
    "y_pred = reg_all.predict(X_test)"
   ]
  },
  {
   "cell_type": "code",
   "execution_count": 39,
   "metadata": {},
   "outputs": [
    {
     "name": "stdout",
     "output_type": "stream",
     "text": [
      "R^2: 0.37720041066570453\n",
      "Mean Absolute Error: 0.4459291435305035\n",
      "Root Mean Squared Error: 0.5980196870764755\n"
     ]
    }
   ],
   "source": [
    "r_squared = reg_all.score(X_test, y_test)\n",
    "print(\"R^2: {}\".format(reg_all.score(X_test, y_test)))\n",
    "mae = mean_absolute_error(y_test, y_pred)\n",
    "print(\"Mean Absolute Error: {}\".format(mae))\n",
    "rmse = np.sqrt(mean_squared_error(y_test,y_pred))\n",
    "print(\"Root Mean Squared Error: {}\".format(rmse))\n"
   ]
  },
  {
   "cell_type": "markdown",
   "metadata": {},
   "source": [
    "The scores are less than promising. We hope these improve as the data frame is scaled.\n",
    "\n",
    "As previously mentioned, we are assigning the `Train` & `Test` splits to each of the three ( 3 ) scaling approaches below."
   ]
  },
  {
   "cell_type": "markdown",
   "metadata": {},
   "source": [
    "## 3.6 Scale Data<a id='scale'></a>"
   ]
  },
  {
   "cell_type": "markdown",
   "metadata": {},
   "source": [
    "Now that the train / test splits have been completed, we will implement three ( 3 ) scaling approaches listed below. The basic summary of each approach is listed below & their underscore of the data frame names from the end of the previous section as well:\n",
    "\n",
    "   * **Standardization ( `_SS` )**\n",
    "      * <i>This approach finds the mean of the data, assigns that as Zero & the values presented are standard deviated moves</i>\n",
    "   * **MinMaxScaler ( `_MM` )** ( often called Normalization )\n",
    "      * <i>This approach reassigns the values from 0 -> 1</i>\n",
    "   * **Log Transformation ( `_Log` )**\n",
    "      * <i>This approach usually is used with data that has long tails</i>\n",
    "\n",
    "These will be scaled on both the `X` & `y` variables with the `_` listed above. Further to this, we will also scale the variables ( `X` ) & assess them to an unscaled `y`. Their underscores are listed below:\n",
    "\n",
    "   * **Standardization ( `_SS_y_uns` )**\n",
    "   * **MinMaxScaler ( `_MM_y_uns` )** \n",
    "   * **Log Transformation ( `_Log_y_uns` )**\n",
    "\n",
    "To simplify the final comparisons, **there will be six ( 6 ) outcomes in total.**"
   ]
  },
  {
   "cell_type": "markdown",
   "metadata": {},
   "source": [
    "The following three ( 3 ) will be **used for scaling on both `X` & `y`.**"
   ]
  },
  {
   "cell_type": "markdown",
   "metadata": {},
   "source": [
    "**Standardization ( X & y )** | *Assignment to its respective data frames.*"
   ]
  },
  {
   "cell_type": "code",
   "execution_count": 40,
   "metadata": {},
   "outputs": [],
   "source": [
    "X_train_SS = pd.DataFrame(X_train.copy())\n",
    "X_test_SS = pd.DataFrame(X_test.copy())\n",
    "y_train_SS = pd.DataFrame(y_train.copy())\n",
    "y_test_SS = pd.DataFrame(y_test.copy())\n",
    "y_tr_pred_SS = pd.DataFrame(y_pred.copy())"
   ]
  },
  {
   "cell_type": "markdown",
   "metadata": {},
   "source": [
    "**MinMaxScaler ( X & y )** | *Assignment to its respective data frames.*"
   ]
  },
  {
   "cell_type": "code",
   "execution_count": 41,
   "metadata": {},
   "outputs": [],
   "source": [
    "X_train_MM = pd.DataFrame(X_train.copy())\n",
    "X_test_MM = pd.DataFrame(X_test.copy())\n",
    "y_train_MM = pd.DataFrame(y_train.copy())\n",
    "y_test_MM = pd.DataFrame(y_test.copy())\n",
    "y_tr_pred_MM = pd.DataFrame(y_pred.copy())"
   ]
  },
  {
   "cell_type": "markdown",
   "metadata": {},
   "source": [
    "**Log Transformation ( X & y )** | *Assignment to its respective data frames.*"
   ]
  },
  {
   "cell_type": "code",
   "execution_count": 42,
   "metadata": {},
   "outputs": [],
   "source": [
    "X_train_LG = pd.DataFrame(X_train.copy())\n",
    "X_test_LG = pd.DataFrame(X_test.copy())\n",
    "y_train_LG = pd.DataFrame(y_train.copy())\n",
    "y_test_LG = pd.DataFrame(y_test.copy())\n",
    "y_tr_pred_LG = pd.DataFrame(y_pred.copy())"
   ]
  },
  {
   "cell_type": "markdown",
   "metadata": {},
   "source": [
    "The following three ( 3 ) will be **used for scaling on `X` only.**"
   ]
  },
  {
   "cell_type": "markdown",
   "metadata": {},
   "source": [
    "**Standardization ( X only )** | *Assignment to its respective data frames.*"
   ]
  },
  {
   "cell_type": "code",
   "execution_count": 43,
   "metadata": {},
   "outputs": [],
   "source": [
    "X_train_SS_y_uns = pd.DataFrame(X_train.copy())\n",
    "X_test_SS_y_uns = pd.DataFrame(X_test.copy())\n",
    "y_train_SS_y_uns = pd.DataFrame(y_train.copy())\n",
    "y_test_SS_y_uns = pd.DataFrame(y_test.copy())\n",
    "y_tr_pred_SS_y_uns = pd.DataFrame(y_pred.copy())"
   ]
  },
  {
   "cell_type": "markdown",
   "metadata": {},
   "source": [
    "**MinMaxScaler ( X only )** | *Assignment to its respective data frames.*"
   ]
  },
  {
   "cell_type": "code",
   "execution_count": 44,
   "metadata": {},
   "outputs": [],
   "source": [
    "X_train_MM_y_uns = pd.DataFrame(X_train.copy())\n",
    "X_test_MM_y_uns = pd.DataFrame(X_test.copy())\n",
    "y_train_MM_y_uns = pd.DataFrame(y_train.copy())\n",
    "y_test_MM_y_uns = pd.DataFrame(y_test.copy())\n",
    "y_tr_pred_MM_y_uns = pd.DataFrame(y_pred.copy())"
   ]
  },
  {
   "cell_type": "markdown",
   "metadata": {},
   "source": [
    "**Log Transformation ( X only )** | *Assignment to its respective data frames.*"
   ]
  },
  {
   "cell_type": "code",
   "execution_count": 45,
   "metadata": {},
   "outputs": [],
   "source": [
    "X_train_LG_y_uns = pd.DataFrame(X_train.copy())\n",
    "X_test_LG_y_uns = pd.DataFrame(X_test.copy())\n",
    "y_train_LG_y_uns = pd.DataFrame(y_train.copy())\n",
    "y_test_LG_y_uns = pd.DataFrame(y_test.copy())\n",
    "y_tr_pred_LG_y_uns = pd.DataFrame(y_pred.copy())"
   ]
  },
  {
   "cell_type": "markdown",
   "metadata": {},
   "source": [
    "Before we proceed we will need to import the necessary libraries for all."
   ]
  },
  {
   "cell_type": "code",
   "execution_count": 46,
   "metadata": {},
   "outputs": [],
   "source": [
    "from sklearn.preprocessing import StandardScaler\n",
    "from sklearn.preprocessing import MinMaxScaler\n",
    "from sklearn.preprocessing import PowerTransformer"
   ]
  },
  {
   "cell_type": "markdown",
   "metadata": {},
   "source": [
    "Further to this, we are setting up a list of the unscaled variables as they will need to be removed from each as we go; I trust this will make greater sense as we proceed. "
   ]
  },
  {
   "cell_type": "code",
   "execution_count": 48,
   "metadata": {},
   "outputs": [],
   "source": [
    "prev_cols = ['Wage CPI','WTI','Heating Oil','Copper','Sugar',\n",
    "                     'Natural Gas','Cattle','Lean Hogs','Soybeans','Lumber',\n",
    "                     'Capacity Utilization','Corn','M2 Velocity','GDP','Wheat','PMI',\n",
    "                     'USD Index','Unemployment Rate','Initial Jobless Claims']"
   ]
  },
  {
   "cell_type": "markdown",
   "metadata": {},
   "source": [
    "## 3.6.1 Standardization ( X & y scaled )<a id='ss'></a>"
   ]
  },
  {
   "cell_type": "markdown",
   "metadata": {},
   "source": [
    "The scalings approach & it's estimated results we will use in this section are as follows:\n",
    "   * **Standardization ( `_SS` )**\n",
    "      * This approach finds the mean of the data, assigns that as Zero & the values presented are standard deviated moves\n"
   ]
  },
  {
   "cell_type": "code",
   "execution_count": 49,
   "metadata": {},
   "outputs": [],
   "source": [
    "SS_scaler = StandardScaler()"
   ]
  },
  {
   "cell_type": "markdown",
   "metadata": {},
   "source": [
    "First `X_train_SS`"
   ]
  },
  {
   "cell_type": "code",
   "execution_count": 55,
   "metadata": {},
   "outputs": [
    {
     "data": {
      "text/plain": [
       "StandardScaler()"
      ]
     },
     "execution_count": 55,
     "metadata": {},
     "output_type": "execute_result"
    }
   ],
   "source": [
    "SS_scaler.fit(X_train_SS[['Wage CPI','WTI','Heating Oil','Copper','Sugar',\n",
    "                     'Natural Gas','Cattle','Lean Hogs','Soybeans','Lumber',\n",
    "                     'Capacity Utilization','Corn','M2 Velocity','GDP','Wheat','PMI',\n",
    "                     'USD Index','Unemployment Rate','Initial Jobless Claims']])"
   ]
  },
  {
   "cell_type": "code",
   "execution_count": 56,
   "metadata": {},
   "outputs": [],
   "source": [
    "X_train_SS[['Wages CPI_SS', 'WTI_SS', 'Heating Oil_SS','Copper_SS','Sugar_SS',\n",
    "            'Natural Gas_SS','Cattle_SS','Lean Hogs_SS','Soybeans_SS','Lumber_SS',\n",
    "            'Capacity Utilization_SS','Corn_SS','M2 Velocity_SS','GDP_SS','Wheat_SS','PMI_SS',\n",
    "            'USD Index_SS','Unemployment Rate_SS','Initial Jobless Claims_SS']] = SS_scaler.transform(X_train_SS[[\n",
    "    'Wage CPI','WTI','Heating Oil','Copper','Sugar',\n",
    "                     'Natural Gas','Cattle','Lean Hogs','Soybeans','Lumber',\n",
    "                     'Capacity Utilization','Corn','M2 Velocity','GDP','Wheat','PMI',\n",
    "                     'USD Index','Unemployment Rate','Initial Jobless Claims']])"
   ]
  },
  {
   "cell_type": "code",
   "execution_count": 57,
   "metadata": {},
   "outputs": [
    {
     "data": {
      "text/plain": [
       "Index(['Wage CPI', 'WTI', 'Heating Oil', 'Copper', 'Sugar', 'Natural Gas',\n",
       "       'Cattle', 'Lean Hogs', 'Soybeans', 'Lumber', 'Capacity Utilization',\n",
       "       'Corn', 'M2 Velocity', 'GDP', 'Wheat', 'PMI', 'USD Index',\n",
       "       'Unemployment Rate', 'Initial Jobless Claims', 'Wages CPI_SS', 'WTI_SS',\n",
       "       'Heating Oil_SS', 'Copper_SS', 'Sugar_SS', 'Natural Gas_SS',\n",
       "       'Cattle_SS', 'Lean Hogs_SS', 'Soybeans_SS', 'Lumber_SS',\n",
       "       'Capacity Utilization_SS', 'Corn_SS', 'M2 Velocity_SS', 'GDP_SS',\n",
       "       'Wheat_SS', 'PMI_SS', 'USD Index_SS', 'Unemployment Rate_SS',\n",
       "       'Initial Jobless Claims_SS'],\n",
       "      dtype='object')"
      ]
     },
     "execution_count": 57,
     "metadata": {},
     "output_type": "execute_result"
    }
   ],
   "source": [
    "X_train_SS.columns"
   ]
  },
  {
   "cell_type": "code",
   "execution_count": 58,
   "metadata": {},
   "outputs": [],
   "source": [
    "X_train_SS.drop(columns=prev_cols, inplace=True)"
   ]
  },
  {
   "cell_type": "code",
   "execution_count": 59,
   "metadata": {},
   "outputs": [
    {
     "data": {
      "text/html": [
       "<div>\n",
       "<style scoped>\n",
       "    .dataframe tbody tr th:only-of-type {\n",
       "        vertical-align: middle;\n",
       "    }\n",
       "\n",
       "    .dataframe tbody tr th {\n",
       "        vertical-align: top;\n",
       "    }\n",
       "\n",
       "    .dataframe thead th {\n",
       "        text-align: right;\n",
       "    }\n",
       "</style>\n",
       "<table border=\"1\" class=\"dataframe\">\n",
       "  <thead>\n",
       "    <tr style=\"text-align: right;\">\n",
       "      <th></th>\n",
       "      <th>Wages CPI_SS</th>\n",
       "      <th>WTI_SS</th>\n",
       "      <th>Heating Oil_SS</th>\n",
       "      <th>Copper_SS</th>\n",
       "      <th>Sugar_SS</th>\n",
       "      <th>Natural Gas_SS</th>\n",
       "      <th>Cattle_SS</th>\n",
       "      <th>Lean Hogs_SS</th>\n",
       "      <th>Soybeans_SS</th>\n",
       "      <th>Lumber_SS</th>\n",
       "      <th>Capacity Utilization_SS</th>\n",
       "      <th>Corn_SS</th>\n",
       "      <th>M2 Velocity_SS</th>\n",
       "      <th>GDP_SS</th>\n",
       "      <th>Wheat_SS</th>\n",
       "      <th>PMI_SS</th>\n",
       "      <th>USD Index_SS</th>\n",
       "      <th>Unemployment Rate_SS</th>\n",
       "      <th>Initial Jobless Claims_SS</th>\n",
       "    </tr>\n",
       "  </thead>\n",
       "  <tbody>\n",
       "    <tr>\n",
       "      <th>count</th>\n",
       "      <td>2.190000e+02</td>\n",
       "      <td>2.190000e+02</td>\n",
       "      <td>2.190000e+02</td>\n",
       "      <td>2.190000e+02</td>\n",
       "      <td>2.190000e+02</td>\n",
       "      <td>2.190000e+02</td>\n",
       "      <td>2.190000e+02</td>\n",
       "      <td>2.190000e+02</td>\n",
       "      <td>2.190000e+02</td>\n",
       "      <td>2.190000e+02</td>\n",
       "      <td>2.190000e+02</td>\n",
       "      <td>2.190000e+02</td>\n",
       "      <td>2.190000e+02</td>\n",
       "      <td>2.190000e+02</td>\n",
       "      <td>2.190000e+02</td>\n",
       "      <td>2.190000e+02</td>\n",
       "      <td>2.190000e+02</td>\n",
       "      <td>2.190000e+02</td>\n",
       "      <td>2.190000e+02</td>\n",
       "    </tr>\n",
       "    <tr>\n",
       "      <th>mean</th>\n",
       "      <td>3.574006e-17</td>\n",
       "      <td>5.677853e-17</td>\n",
       "      <td>-5.868752e-17</td>\n",
       "      <td>1.001229e-16</td>\n",
       "      <td>-3.802134e-17</td>\n",
       "      <td>-5.576463e-17</td>\n",
       "      <td>-6.843841e-18</td>\n",
       "      <td>-2.788231e-17</td>\n",
       "      <td>1.292725e-17</td>\n",
       "      <td>1.013902e-18</td>\n",
       "      <td>-3.295182e-18</td>\n",
       "      <td>4.106304e-17</td>\n",
       "      <td>-4.095215e-18</td>\n",
       "      <td>-6.311542e-17</td>\n",
       "      <td>-8.364694e-18</td>\n",
       "      <td>1.191335e-17</td>\n",
       "      <td>-3.041707e-18</td>\n",
       "      <td>-3.041707e-18</td>\n",
       "      <td>2.572777e-17</td>\n",
       "    </tr>\n",
       "    <tr>\n",
       "      <th>std</th>\n",
       "      <td>1.002291e+00</td>\n",
       "      <td>1.002291e+00</td>\n",
       "      <td>1.002291e+00</td>\n",
       "      <td>1.002291e+00</td>\n",
       "      <td>1.002291e+00</td>\n",
       "      <td>1.002291e+00</td>\n",
       "      <td>1.002291e+00</td>\n",
       "      <td>1.002291e+00</td>\n",
       "      <td>1.002291e+00</td>\n",
       "      <td>1.002291e+00</td>\n",
       "      <td>1.002291e+00</td>\n",
       "      <td>1.002291e+00</td>\n",
       "      <td>1.002291e+00</td>\n",
       "      <td>1.002291e+00</td>\n",
       "      <td>1.002291e+00</td>\n",
       "      <td>1.002291e+00</td>\n",
       "      <td>1.002291e+00</td>\n",
       "      <td>1.002291e+00</td>\n",
       "      <td>1.002291e+00</td>\n",
       "    </tr>\n",
       "    <tr>\n",
       "      <th>min</th>\n",
       "      <td>-6.062318e+00</td>\n",
       "      <td>-3.554258e+00</td>\n",
       "      <td>-3.307158e+00</td>\n",
       "      <td>-4.275317e+00</td>\n",
       "      <td>-2.534857e+00</td>\n",
       "      <td>-2.092879e+00</td>\n",
       "      <td>-3.251186e+00</td>\n",
       "      <td>-2.412667e+00</td>\n",
       "      <td>-3.552930e+00</td>\n",
       "      <td>-2.447766e+00</td>\n",
       "      <td>-7.795038e+00</td>\n",
       "      <td>-3.095494e+00</td>\n",
       "      <td>-9.068365e+00</td>\n",
       "      <td>-8.151908e+00</td>\n",
       "      <td>-2.909327e+00</td>\n",
       "      <td>-4.035795e+00</td>\n",
       "      <td>-2.092087e+00</td>\n",
       "      <td>-3.918715e+00</td>\n",
       "      <td>-3.862139e+00</td>\n",
       "    </tr>\n",
       "    <tr>\n",
       "      <th>25%</th>\n",
       "      <td>-2.622508e-01</td>\n",
       "      <td>-5.738987e-01</td>\n",
       "      <td>-5.106932e-01</td>\n",
       "      <td>-5.903736e-01</td>\n",
       "      <td>-6.694239e-01</td>\n",
       "      <td>-6.272489e-01</td>\n",
       "      <td>-6.393442e-01</td>\n",
       "      <td>-5.898264e-01</td>\n",
       "      <td>-5.147225e-01</td>\n",
       "      <td>-6.792113e-01</td>\n",
       "      <td>-2.299928e-01</td>\n",
       "      <td>-5.887966e-01</td>\n",
       "      <td>-1.372215e-01</td>\n",
       "      <td>-1.434068e-01</td>\n",
       "      <td>-6.295338e-01</td>\n",
       "      <td>-5.733419e-01</td>\n",
       "      <td>-7.686037e-01</td>\n",
       "      <td>-2.860298e-01</td>\n",
       "      <td>-1.127636e-01</td>\n",
       "    </tr>\n",
       "    <tr>\n",
       "      <th>50%</th>\n",
       "      <td>1.137130e-01</td>\n",
       "      <td>3.652246e-02</td>\n",
       "      <td>-3.546556e-03</td>\n",
       "      <td>-1.277241e-01</td>\n",
       "      <td>-1.992945e-01</td>\n",
       "      <td>-1.776078e-01</td>\n",
       "      <td>6.243175e-02</td>\n",
       "      <td>-5.066135e-02</td>\n",
       "      <td>-3.896558e-02</td>\n",
       "      <td>-2.097464e-02</td>\n",
       "      <td>1.645101e-01</td>\n",
       "      <td>-1.044398e-01</td>\n",
       "      <td>4.201600e-02</td>\n",
       "      <td>8.882293e-02</td>\n",
       "      <td>-7.649249e-02</td>\n",
       "      <td>-6.581613e-02</td>\n",
       "      <td>5.368868e-02</td>\n",
       "      <td>-1.463112e-01</td>\n",
       "      <td>-8.392462e-02</td>\n",
       "    </tr>\n",
       "    <tr>\n",
       "      <th>75%</th>\n",
       "      <td>4.862085e-01</td>\n",
       "      <td>6.407473e-01</td>\n",
       "      <td>6.302291e-01</td>\n",
       "      <td>5.419286e-01</td>\n",
       "      <td>5.710310e-01</td>\n",
       "      <td>5.252051e-01</td>\n",
       "      <td>7.571885e-01</td>\n",
       "      <td>7.410920e-01</td>\n",
       "      <td>4.885812e-01</td>\n",
       "      <td>5.957653e-01</td>\n",
       "      <td>4.722769e-01</td>\n",
       "      <td>5.366638e-01</td>\n",
       "      <td>3.889674e-01</td>\n",
       "      <td>3.109964e-01</td>\n",
       "      <td>5.600397e-01</td>\n",
       "      <td>5.883282e-01</td>\n",
       "      <td>5.819297e-01</td>\n",
       "      <td>8.655327e-02</td>\n",
       "      <td>-4.724902e-02</td>\n",
       "    </tr>\n",
       "    <tr>\n",
       "      <th>max</th>\n",
       "      <td>3.088234e+00</td>\n",
       "      <td>2.605196e+00</td>\n",
       "      <td>2.396819e+00</td>\n",
       "      <td>3.899899e+00</td>\n",
       "      <td>3.949918e+00</td>\n",
       "      <td>2.963685e+00</td>\n",
       "      <td>2.354074e+00</td>\n",
       "      <td>2.559684e+00</td>\n",
       "      <td>2.721410e+00</td>\n",
       "      <td>4.104874e+00</td>\n",
       "      <td>2.018575e+00</td>\n",
       "      <td>2.995122e+00</td>\n",
       "      <td>2.102794e+00</td>\n",
       "      <td>5.751485e+00</td>\n",
       "      <td>3.904325e+00</td>\n",
       "      <td>3.577091e+00</td>\n",
       "      <td>3.428937e+00</td>\n",
       "      <td>1.014630e+01</td>\n",
       "      <td>1.121655e+01</td>\n",
       "    </tr>\n",
       "  </tbody>\n",
       "</table>\n",
       "</div>"
      ],
      "text/plain": [
       "       Wages CPI_SS        WTI_SS  Heating Oil_SS     Copper_SS      Sugar_SS  \\\n",
       "count  2.190000e+02  2.190000e+02    2.190000e+02  2.190000e+02  2.190000e+02   \n",
       "mean   3.574006e-17  5.677853e-17   -5.868752e-17  1.001229e-16 -3.802134e-17   \n",
       "std    1.002291e+00  1.002291e+00    1.002291e+00  1.002291e+00  1.002291e+00   \n",
       "min   -6.062318e+00 -3.554258e+00   -3.307158e+00 -4.275317e+00 -2.534857e+00   \n",
       "25%   -2.622508e-01 -5.738987e-01   -5.106932e-01 -5.903736e-01 -6.694239e-01   \n",
       "50%    1.137130e-01  3.652246e-02   -3.546556e-03 -1.277241e-01 -1.992945e-01   \n",
       "75%    4.862085e-01  6.407473e-01    6.302291e-01  5.419286e-01  5.710310e-01   \n",
       "max    3.088234e+00  2.605196e+00    2.396819e+00  3.899899e+00  3.949918e+00   \n",
       "\n",
       "       Natural Gas_SS     Cattle_SS  Lean Hogs_SS   Soybeans_SS     Lumber_SS  \\\n",
       "count    2.190000e+02  2.190000e+02  2.190000e+02  2.190000e+02  2.190000e+02   \n",
       "mean    -5.576463e-17 -6.843841e-18 -2.788231e-17  1.292725e-17  1.013902e-18   \n",
       "std      1.002291e+00  1.002291e+00  1.002291e+00  1.002291e+00  1.002291e+00   \n",
       "min     -2.092879e+00 -3.251186e+00 -2.412667e+00 -3.552930e+00 -2.447766e+00   \n",
       "25%     -6.272489e-01 -6.393442e-01 -5.898264e-01 -5.147225e-01 -6.792113e-01   \n",
       "50%     -1.776078e-01  6.243175e-02 -5.066135e-02 -3.896558e-02 -2.097464e-02   \n",
       "75%      5.252051e-01  7.571885e-01  7.410920e-01  4.885812e-01  5.957653e-01   \n",
       "max      2.963685e+00  2.354074e+00  2.559684e+00  2.721410e+00  4.104874e+00   \n",
       "\n",
       "       Capacity Utilization_SS       Corn_SS  M2 Velocity_SS        GDP_SS  \\\n",
       "count             2.190000e+02  2.190000e+02    2.190000e+02  2.190000e+02   \n",
       "mean             -3.295182e-18  4.106304e-17   -4.095215e-18 -6.311542e-17   \n",
       "std               1.002291e+00  1.002291e+00    1.002291e+00  1.002291e+00   \n",
       "min              -7.795038e+00 -3.095494e+00   -9.068365e+00 -8.151908e+00   \n",
       "25%              -2.299928e-01 -5.887966e-01   -1.372215e-01 -1.434068e-01   \n",
       "50%               1.645101e-01 -1.044398e-01    4.201600e-02  8.882293e-02   \n",
       "75%               4.722769e-01  5.366638e-01    3.889674e-01  3.109964e-01   \n",
       "max               2.018575e+00  2.995122e+00    2.102794e+00  5.751485e+00   \n",
       "\n",
       "           Wheat_SS        PMI_SS  USD Index_SS  Unemployment Rate_SS  \\\n",
       "count  2.190000e+02  2.190000e+02  2.190000e+02          2.190000e+02   \n",
       "mean  -8.364694e-18  1.191335e-17 -3.041707e-18         -3.041707e-18   \n",
       "std    1.002291e+00  1.002291e+00  1.002291e+00          1.002291e+00   \n",
       "min   -2.909327e+00 -4.035795e+00 -2.092087e+00         -3.918715e+00   \n",
       "25%   -6.295338e-01 -5.733419e-01 -7.686037e-01         -2.860298e-01   \n",
       "50%   -7.649249e-02 -6.581613e-02  5.368868e-02         -1.463112e-01   \n",
       "75%    5.600397e-01  5.883282e-01  5.819297e-01          8.655327e-02   \n",
       "max    3.904325e+00  3.577091e+00  3.428937e+00          1.014630e+01   \n",
       "\n",
       "       Initial Jobless Claims_SS  \n",
       "count               2.190000e+02  \n",
       "mean                2.572777e-17  \n",
       "std                 1.002291e+00  \n",
       "min                -3.862139e+00  \n",
       "25%                -1.127636e-01  \n",
       "50%                -8.392462e-02  \n",
       "75%                -4.724902e-02  \n",
       "max                 1.121655e+01  "
      ]
     },
     "execution_count": 59,
     "metadata": {},
     "output_type": "execute_result"
    }
   ],
   "source": [
    "X_train_SS.describe()"
   ]
  },
  {
   "cell_type": "markdown",
   "metadata": {},
   "source": [
    "The **Mean** & **Standard Deviation** look close enough to 0 & 1 respectively; thus, it was scaled correctly. We will now scale the others."
   ]
  },
  {
   "cell_type": "code",
   "execution_count": 60,
   "metadata": {},
   "outputs": [],
   "source": [
    "df_X_train_SS = pd.DataFrame(data = X_train_SS, columns = ['Wages CPI_SS', 'WTI_SS', 'Heating Oil_SS','Copper_SS','Sugar_SS',\n",
    "            'Natural Gas_SS','Cattle_SS','Lean Hogs_SS','Soybeans_SS','Lumber_SS',\n",
    "            'Capacity Utilization_SS','Corn_SS','M2 Velocity_SS','GDP_SS','Wheat_SS','PMI_SS',\n",
    "            'USD Index_SS','Unemployment Rate_SS','Initial Jobless Claims_SS'])"
   ]
  },
  {
   "cell_type": "code",
   "execution_count": 61,
   "metadata": {},
   "outputs": [
    {
     "data": {
      "image/png": "[encoded data removed]",
      "text/plain": [
       "<Figure size 1152x864 with 1 Axes>"
      ]
     },
     "metadata": {
      "needs_background": "light"
     },
     "output_type": "display_data"
    }
   ],
   "source": [
    "plt.figure(figsize=(16, 12))\n",
    "chart = sns.boxplot(x='variable', y='value', data=pd.melt(df_X_train_SS))\n",
    "chart.set_xticklabels(chart.get_xticklabels(), rotation=90)\n",
    "plt.show()"
   ]
  },
  {
   "cell_type": "markdown",
   "metadata": {},
   "source": [
    "`X_test_SS` will not be scaled."
   ]
  },
  {
   "cell_type": "code",
   "execution_count": 62,
   "metadata": {},
   "outputs": [],
   "source": [
    "X_test_SS[['Wages CPI_SS', 'WTI_SS', 'Heating Oil_SS','Copper_SS','Sugar_SS',\n",
    "            'Natural Gas_SS','Cattle_SS','Lean Hogs_SS','Soybeans_SS','Lumber_SS',\n",
    "            'Capacity Utilization_SS','Corn_SS','M2 Velocity_SS','GDP_SS','Wheat_SS','PMI_SS',\n",
    "            'USD Index_SS','Unemployment Rate_SS','Initial Jobless Claims_SS']] = SS_scaler.transform(X_test_SS[['Wage CPI','WTI','Heating Oil','Copper','Sugar',\n",
    "                     'Natural Gas','Cattle','Lean Hogs','Soybeans','Lumber',\n",
    "                     'Capacity Utilization','Corn','M2 Velocity','GDP','Wheat','PMI',\n",
    "                     'USD Index','Unemployment Rate','Initial Jobless Claims']])"
   ]
  },
  {
   "cell_type": "code",
   "execution_count": 63,
   "metadata": {},
   "outputs": [
    {
     "data": {
      "text/plain": [
       "Index(['Wage CPI', 'WTI', 'Heating Oil', 'Copper', 'Sugar', 'Natural Gas',\n",
       "       'Cattle', 'Lean Hogs', 'Soybeans', 'Lumber', 'Capacity Utilization',\n",
       "       'Corn', 'M2 Velocity', 'GDP', 'Wheat', 'PMI', 'USD Index',\n",
       "       'Unemployment Rate', 'Initial Jobless Claims', 'Wages CPI_SS', 'WTI_SS',\n",
       "       'Heating Oil_SS', 'Copper_SS', 'Sugar_SS', 'Natural Gas_SS',\n",
       "       'Cattle_SS', 'Lean Hogs_SS', 'Soybeans_SS', 'Lumber_SS',\n",
       "       'Capacity Utilization_SS', 'Corn_SS', 'M2 Velocity_SS', 'GDP_SS',\n",
       "       'Wheat_SS', 'PMI_SS', 'USD Index_SS', 'Unemployment Rate_SS',\n",
       "       'Initial Jobless Claims_SS'],\n",
       "      dtype='object')"
      ]
     },
     "execution_count": 63,
     "metadata": {},
     "output_type": "execute_result"
    }
   ],
   "source": [
    "X_test_SS.columns"
   ]
  },
  {
   "cell_type": "code",
   "execution_count": 64,
   "metadata": {},
   "outputs": [],
   "source": [
    "X_test_SS.drop(columns=prev_cols, inplace=True)"
   ]
  },
  {
   "cell_type": "code",
   "execution_count": 65,
   "metadata": {},
   "outputs": [
    {
     "data": {
      "text/html": [
       "<div>\n",
       "<style scoped>\n",
       "    .dataframe tbody tr th:only-of-type {\n",
       "        vertical-align: middle;\n",
       "    }\n",
       "\n",
       "    .dataframe tbody tr th {\n",
       "        vertical-align: top;\n",
       "    }\n",
       "\n",
       "    .dataframe thead th {\n",
       "        text-align: right;\n",
       "    }\n",
       "</style>\n",
       "<table border=\"1\" class=\"dataframe\">\n",
       "  <thead>\n",
       "    <tr style=\"text-align: right;\">\n",
       "      <th></th>\n",
       "      <th>Wages CPI_SS</th>\n",
       "      <th>WTI_SS</th>\n",
       "      <th>Heating Oil_SS</th>\n",
       "      <th>Copper_SS</th>\n",
       "      <th>Sugar_SS</th>\n",
       "      <th>Natural Gas_SS</th>\n",
       "      <th>Cattle_SS</th>\n",
       "      <th>Lean Hogs_SS</th>\n",
       "      <th>Soybeans_SS</th>\n",
       "      <th>Lumber_SS</th>\n",
       "      <th>Capacity Utilization_SS</th>\n",
       "      <th>Corn_SS</th>\n",
       "      <th>M2 Velocity_SS</th>\n",
       "      <th>GDP_SS</th>\n",
       "      <th>Wheat_SS</th>\n",
       "      <th>PMI_SS</th>\n",
       "      <th>USD Index_SS</th>\n",
       "      <th>Unemployment Rate_SS</th>\n",
       "      <th>Initial Jobless Claims_SS</th>\n",
       "    </tr>\n",
       "  </thead>\n",
       "  <tbody>\n",
       "    <tr>\n",
       "      <th>count</th>\n",
       "      <td>94.000000</td>\n",
       "      <td>94.000000</td>\n",
       "      <td>94.000000</td>\n",
       "      <td>94.000000</td>\n",
       "      <td>94.000000</td>\n",
       "      <td>94.000000</td>\n",
       "      <td>94.000000</td>\n",
       "      <td>94.000000</td>\n",
       "      <td>94.000000</td>\n",
       "      <td>94.000000</td>\n",
       "      <td>94.000000</td>\n",
       "      <td>94.000000</td>\n",
       "      <td>94.000000</td>\n",
       "      <td>94.000000</td>\n",
       "      <td>94.000000</td>\n",
       "      <td>94.000000</td>\n",
       "      <td>94.000000</td>\n",
       "      <td>94.000000</td>\n",
       "      <td>94.000000</td>\n",
       "    </tr>\n",
       "    <tr>\n",
       "      <th>mean</th>\n",
       "      <td>-0.039725</td>\n",
       "      <td>0.007935</td>\n",
       "      <td>-0.029998</td>\n",
       "      <td>-0.162066</td>\n",
       "      <td>0.105502</td>\n",
       "      <td>-0.059875</td>\n",
       "      <td>-0.039083</td>\n",
       "      <td>0.041086</td>\n",
       "      <td>0.005910</td>\n",
       "      <td>0.175033</td>\n",
       "      <td>0.125599</td>\n",
       "      <td>-0.002570</td>\n",
       "      <td>0.018809</td>\n",
       "      <td>0.098847</td>\n",
       "      <td>-0.019342</td>\n",
       "      <td>-0.030541</td>\n",
       "      <td>0.078927</td>\n",
       "      <td>-0.153743</td>\n",
       "      <td>-0.203085</td>\n",
       "    </tr>\n",
       "    <tr>\n",
       "      <th>std</th>\n",
       "      <td>1.033855</td>\n",
       "      <td>0.965297</td>\n",
       "      <td>0.857436</td>\n",
       "      <td>0.959798</td>\n",
       "      <td>0.955151</td>\n",
       "      <td>0.961777</td>\n",
       "      <td>0.986806</td>\n",
       "      <td>1.006278</td>\n",
       "      <td>1.093236</td>\n",
       "      <td>1.441363</td>\n",
       "      <td>1.414106</td>\n",
       "      <td>1.234954</td>\n",
       "      <td>1.128372</td>\n",
       "      <td>1.285664</td>\n",
       "      <td>1.025338</td>\n",
       "      <td>0.992570</td>\n",
       "      <td>0.969684</td>\n",
       "      <td>1.642094</td>\n",
       "      <td>1.035767</td>\n",
       "    </tr>\n",
       "    <tr>\n",
       "      <th>min</th>\n",
       "      <td>-7.038150</td>\n",
       "      <td>-3.580742</td>\n",
       "      <td>-3.212043</td>\n",
       "      <td>-4.187623</td>\n",
       "      <td>-1.418830</td>\n",
       "      <td>-2.025262</td>\n",
       "      <td>-2.905044</td>\n",
       "      <td>-1.651817</td>\n",
       "      <td>-2.783626</td>\n",
       "      <td>-2.289388</td>\n",
       "      <td>-8.154967</td>\n",
       "      <td>-2.789248</td>\n",
       "      <td>-9.068365</td>\n",
       "      <td>-8.151908</td>\n",
       "      <td>-2.047304</td>\n",
       "      <td>-3.235033</td>\n",
       "      <td>-2.042697</td>\n",
       "      <td>-6.014495</td>\n",
       "      <td>-8.023722</td>\n",
       "    </tr>\n",
       "    <tr>\n",
       "      <th>25%</th>\n",
       "      <td>-0.406660</td>\n",
       "      <td>-0.464830</td>\n",
       "      <td>-0.488930</td>\n",
       "      <td>-0.739344</td>\n",
       "      <td>-0.521482</td>\n",
       "      <td>-0.755813</td>\n",
       "      <td>-0.743428</td>\n",
       "      <td>-0.705898</td>\n",
       "      <td>-0.659477</td>\n",
       "      <td>-0.777960</td>\n",
       "      <td>-0.174471</td>\n",
       "      <td>-0.705320</td>\n",
       "      <td>-0.134090</td>\n",
       "      <td>-0.082749</td>\n",
       "      <td>-0.753886</td>\n",
       "      <td>-0.663569</td>\n",
       "      <td>-0.584194</td>\n",
       "      <td>-0.332603</td>\n",
       "      <td>-0.111902</td>\n",
       "    </tr>\n",
       "    <tr>\n",
       "      <th>50%</th>\n",
       "      <td>0.156537</td>\n",
       "      <td>0.020075</td>\n",
       "      <td>-0.062487</td>\n",
       "      <td>-0.157241</td>\n",
       "      <td>-0.085375</td>\n",
       "      <td>-0.154073</td>\n",
       "      <td>0.058996</td>\n",
       "      <td>-0.098348</td>\n",
       "      <td>-0.147656</td>\n",
       "      <td>-0.057829</td>\n",
       "      <td>0.203446</td>\n",
       "      <td>-0.057043</td>\n",
       "      <td>0.118361</td>\n",
       "      <td>0.112455</td>\n",
       "      <td>-0.114992</td>\n",
       "      <td>-0.043259</td>\n",
       "      <td>-0.001132</td>\n",
       "      <td>-0.192884</td>\n",
       "      <td>-0.088470</td>\n",
       "    </tr>\n",
       "    <tr>\n",
       "      <th>75%</th>\n",
       "      <td>0.430470</td>\n",
       "      <td>0.561096</td>\n",
       "      <td>0.439143</td>\n",
       "      <td>0.322455</td>\n",
       "      <td>0.591862</td>\n",
       "      <td>0.618387</td>\n",
       "      <td>0.702137</td>\n",
       "      <td>0.682856</td>\n",
       "      <td>0.767235</td>\n",
       "      <td>0.829421</td>\n",
       "      <td>0.458757</td>\n",
       "      <td>0.457160</td>\n",
       "      <td>0.421551</td>\n",
       "      <td>0.420592</td>\n",
       "      <td>0.517627</td>\n",
       "      <td>0.419153</td>\n",
       "      <td>0.727001</td>\n",
       "      <td>-0.006593</td>\n",
       "      <td>-0.064255</td>\n",
       "    </tr>\n",
       "    <tr>\n",
       "      <th>max</th>\n",
       "      <td>2.087383</td>\n",
       "      <td>3.682805</td>\n",
       "      <td>1.854950</td>\n",
       "      <td>2.749010</td>\n",
       "      <td>3.226772</td>\n",
       "      <td>1.918428</td>\n",
       "      <td>2.596760</td>\n",
       "      <td>2.540483</td>\n",
       "      <td>2.894730</td>\n",
       "      <td>6.535160</td>\n",
       "      <td>6.202835</td>\n",
       "      <td>4.012835</td>\n",
       "      <td>2.102794</td>\n",
       "      <td>5.751485</td>\n",
       "      <td>3.911693</td>\n",
       "      <td>3.125957</td>\n",
       "      <td>2.542070</td>\n",
       "      <td>12.894097</td>\n",
       "      <td>3.734413</td>\n",
       "    </tr>\n",
       "  </tbody>\n",
       "</table>\n",
       "</div>"
      ],
      "text/plain": [
       "       Wages CPI_SS     WTI_SS  Heating Oil_SS  Copper_SS   Sugar_SS  \\\n",
       "count     94.000000  94.000000       94.000000  94.000000  94.000000   \n",
       "mean      -0.039725   0.007935       -0.029998  -0.162066   0.105502   \n",
       "std        1.033855   0.965297        0.857436   0.959798   0.955151   \n",
       "min       -7.038150  -3.580742       -3.212043  -4.187623  -1.418830   \n",
       "25%       -0.406660  -0.464830       -0.488930  -0.739344  -0.521482   \n",
       "50%        0.156537   0.020075       -0.062487  -0.157241  -0.085375   \n",
       "75%        0.430470   0.561096        0.439143   0.322455   0.591862   \n",
       "max        2.087383   3.682805        1.854950   2.749010   3.226772   \n",
       "\n",
       "       Natural Gas_SS  Cattle_SS  Lean Hogs_SS  Soybeans_SS  Lumber_SS  \\\n",
       "count       94.000000  94.000000     94.000000    94.000000  94.000000   \n",
       "mean        -0.059875  -0.039083      0.041086     0.005910   0.175033   \n",
       "std          0.961777   0.986806      1.006278     1.093236   1.441363   \n",
       "min         -2.025262  -2.905044     -1.651817    -2.783626  -2.289388   \n",
       "25%         -0.755813  -0.743428     -0.705898    -0.659477  -0.777960   \n",
       "50%         -0.154073   0.058996     -0.098348    -0.147656  -0.057829   \n",
       "75%          0.618387   0.702137      0.682856     0.767235   0.829421   \n",
       "max          1.918428   2.596760      2.540483     2.894730   6.535160   \n",
       "\n",
       "       Capacity Utilization_SS    Corn_SS  M2 Velocity_SS     GDP_SS  \\\n",
       "count                94.000000  94.000000       94.000000  94.000000   \n",
       "mean                  0.125599  -0.002570        0.018809   0.098847   \n",
       "std                   1.414106   1.234954        1.128372   1.285664   \n",
       "min                  -8.154967  -2.789248       -9.068365  -8.151908   \n",
       "25%                  -0.174471  -0.705320       -0.134090  -0.082749   \n",
       "50%                   0.203446  -0.057043        0.118361   0.112455   \n",
       "75%                   0.458757   0.457160        0.421551   0.420592   \n",
       "max                   6.202835   4.012835        2.102794   5.751485   \n",
       "\n",
       "        Wheat_SS     PMI_SS  USD Index_SS  Unemployment Rate_SS  \\\n",
       "count  94.000000  94.000000     94.000000             94.000000   \n",
       "mean   -0.019342  -0.030541      0.078927             -0.153743   \n",
       "std     1.025338   0.992570      0.969684              1.642094   \n",
       "min    -2.047304  -3.235033     -2.042697             -6.014495   \n",
       "25%    -0.753886  -0.663569     -0.584194             -0.332603   \n",
       "50%    -0.114992  -0.043259     -0.001132             -0.192884   \n",
       "75%     0.517627   0.419153      0.727001             -0.006593   \n",
       "max     3.911693   3.125957      2.542070             12.894097   \n",
       "\n",
       "       Initial Jobless Claims_SS  \n",
       "count                  94.000000  \n",
       "mean                   -0.203085  \n",
       "std                     1.035767  \n",
       "min                    -8.023722  \n",
       "25%                    -0.111902  \n",
       "50%                    -0.088470  \n",
       "75%                    -0.064255  \n",
       "max                     3.734413  "
      ]
     },
     "execution_count": 65,
     "metadata": {},
     "output_type": "execute_result"
    }
   ],
   "source": [
    "X_test_SS.describe()"
   ]
  },
  {
   "cell_type": "markdown",
   "metadata": {},
   "source": [
    "Next `y_train_SS`"
   ]
  },
  {
   "cell_type": "code",
   "execution_count": 66,
   "metadata": {},
   "outputs": [
    {
     "data": {
      "text/plain": [
       "StandardScaler()"
      ]
     },
     "execution_count": 66,
     "metadata": {},
     "output_type": "execute_result"
    }
   ],
   "source": [
    "SS_scaler.fit(y_train_SS[['Inflation']])"
   ]
  },
  {
   "cell_type": "code",
   "execution_count": 67,
   "metadata": {},
   "outputs": [],
   "source": [
    "y_train_SS['Inflation_SS'] = SS_scaler.transform(y_train_SS[['Inflation']])\n",
    "y_train_SS.drop(columns='Inflation', inplace=True)"
   ]
  },
  {
   "cell_type": "code",
   "execution_count": 68,
   "metadata": {},
   "outputs": [
    {
     "data": {
      "text/html": [
       "<div>\n",
       "<style scoped>\n",
       "    .dataframe tbody tr th:only-of-type {\n",
       "        vertical-align: middle;\n",
       "    }\n",
       "\n",
       "    .dataframe tbody tr th {\n",
       "        vertical-align: top;\n",
       "    }\n",
       "\n",
       "    .dataframe thead th {\n",
       "        text-align: right;\n",
       "    }\n",
       "</style>\n",
       "<table border=\"1\" class=\"dataframe\">\n",
       "  <thead>\n",
       "    <tr style=\"text-align: right;\">\n",
       "      <th></th>\n",
       "      <th>Inflation_SS</th>\n",
       "    </tr>\n",
       "  </thead>\n",
       "  <tbody>\n",
       "    <tr>\n",
       "      <th>count</th>\n",
       "      <td>2.190000e+02</td>\n",
       "    </tr>\n",
       "    <tr>\n",
       "      <th>mean</th>\n",
       "      <td>-4.055609e-17</td>\n",
       "    </tr>\n",
       "    <tr>\n",
       "      <th>std</th>\n",
       "      <td>1.002291e+00</td>\n",
       "    </tr>\n",
       "    <tr>\n",
       "      <th>min</th>\n",
       "      <td>-5.602840e+00</td>\n",
       "    </tr>\n",
       "    <tr>\n",
       "      <th>25%</th>\n",
       "      <td>-4.524383e-01</td>\n",
       "    </tr>\n",
       "    <tr>\n",
       "      <th>50%</th>\n",
       "      <td>2.396356e-02</td>\n",
       "    </tr>\n",
       "    <tr>\n",
       "      <th>75%</th>\n",
       "      <td>4.389885e-01</td>\n",
       "    </tr>\n",
       "    <tr>\n",
       "      <th>max</th>\n",
       "      <td>4.747064e+00</td>\n",
       "    </tr>\n",
       "  </tbody>\n",
       "</table>\n",
       "</div>"
      ],
      "text/plain": [
       "       Inflation_SS\n",
       "count  2.190000e+02\n",
       "mean  -4.055609e-17\n",
       "std    1.002291e+00\n",
       "min   -5.602840e+00\n",
       "25%   -4.524383e-01\n",
       "50%    2.396356e-02\n",
       "75%    4.389885e-01\n",
       "max    4.747064e+00"
      ]
     },
     "execution_count": 68,
     "metadata": {},
     "output_type": "execute_result"
    }
   ],
   "source": [
    "y_train_SS.describe()"
   ]
  },
  {
   "cell_type": "markdown",
   "metadata": {},
   "source": [
    "Next `y_test_SS` but it will not be 'fitted'."
   ]
  },
  {
   "cell_type": "code",
   "execution_count": 69,
   "metadata": {},
   "outputs": [],
   "source": [
    "y_test_SS['Inflation_SS'] = SS_scaler.transform(y_test_SS[['Inflation']])\n",
    "y_test_SS.drop(columns='Inflation', inplace=True)"
   ]
  },
  {
   "cell_type": "code",
   "execution_count": 70,
   "metadata": {},
   "outputs": [
    {
     "data": {
      "text/html": [
       "<div>\n",
       "<style scoped>\n",
       "    .dataframe tbody tr th:only-of-type {\n",
       "        vertical-align: middle;\n",
       "    }\n",
       "\n",
       "    .dataframe tbody tr th {\n",
       "        vertical-align: top;\n",
       "    }\n",
       "\n",
       "    .dataframe thead th {\n",
       "        text-align: right;\n",
       "    }\n",
       "</style>\n",
       "<table border=\"1\" class=\"dataframe\">\n",
       "  <thead>\n",
       "    <tr style=\"text-align: right;\">\n",
       "      <th></th>\n",
       "      <th>Inflation_SS</th>\n",
       "    </tr>\n",
       "  </thead>\n",
       "  <tbody>\n",
       "    <tr>\n",
       "      <th>count</th>\n",
       "      <td>94.000000</td>\n",
       "    </tr>\n",
       "    <tr>\n",
       "      <th>mean</th>\n",
       "      <td>0.120276</td>\n",
       "    </tr>\n",
       "    <tr>\n",
       "      <th>std</th>\n",
       "      <td>0.890655</td>\n",
       "    </tr>\n",
       "    <tr>\n",
       "      <th>min</th>\n",
       "      <td>-4.175388</td>\n",
       "    </tr>\n",
       "    <tr>\n",
       "      <th>25%</th>\n",
       "      <td>-0.288767</td>\n",
       "    </tr>\n",
       "    <tr>\n",
       "      <th>50%</th>\n",
       "      <td>0.063128</td>\n",
       "    </tr>\n",
       "    <tr>\n",
       "      <th>75%</th>\n",
       "      <td>0.502411</td>\n",
       "    </tr>\n",
       "    <tr>\n",
       "      <th>max</th>\n",
       "      <td>3.346501</td>\n",
       "    </tr>\n",
       "  </tbody>\n",
       "</table>\n",
       "</div>"
      ],
      "text/plain": [
       "       Inflation_SS\n",
       "count     94.000000\n",
       "mean       0.120276\n",
       "std        0.890655\n",
       "min       -4.175388\n",
       "25%       -0.288767\n",
       "50%        0.063128\n",
       "75%        0.502411\n",
       "max        3.346501"
      ]
     },
     "execution_count": 70,
     "metadata": {},
     "output_type": "execute_result"
    }
   ],
   "source": [
    "y_test_SS.describe()"
   ]
  },
  {
   "cell_type": "markdown",
   "metadata": {},
   "source": [
    "Finally `y_tr_pred_SS`"
   ]
  },
  {
   "cell_type": "markdown",
   "metadata": {},
   "source": [
    "Now to review the results."
   ]
  },
  {
   "cell_type": "code",
   "execution_count": 71,
   "metadata": {},
   "outputs": [
    {
     "name": "stderr",
     "output_type": "stream",
     "text": [
      "C:\\Users\\rands\\anaconda3\\lib\\site-packages\\sklearn\\utils\\validation.py:67: FutureWarning: Pass fit_intercept=     Wages CPI_SS    WTI_SS  Heating Oil_SS  Copper_SS  Sugar_SS  \\\n",
      "79       0.155334 -0.394343       -0.050438  -0.073618 -0.719903   \n",
      "147      1.806193  1.153919        1.281250  -1.009767  0.519004   \n",
      "143      0.839935  1.325041        1.617048   1.473924  0.386982   \n",
      "72      -0.973142 -0.893565       -0.672374  -0.346680 -0.728908   \n",
      "305      0.444882 -0.061075        0.211822  -0.088711 -0.318956   \n",
      "..            ...       ...             ...        ...       ...   \n",
      "188     -1.619625 -0.629780       -1.164109  -0.048733 -1.157467   \n",
      "71      -1.281868 -1.209998       -0.942590  -0.495741 -0.543917   \n",
      "106      0.204967 -0.983106       -0.285436  -1.062590  0.572261   \n",
      "270      0.392150  0.245649        0.095304  -0.460876 -1.140062   \n",
      "102     -0.283615  0.735583       -0.011529  -0.040529 -0.660335   \n",
      "\n",
      "     Natural Gas_SS  Cattle_SS  Lean Hogs_SS  Soybeans_SS  Lumber_SS  \\\n",
      "79         1.188751   0.975637     -0.227010    -0.047364   0.180722   \n",
      "147        0.795288  -0.229392     -1.092126     2.638157  -0.672091   \n",
      "143        1.452307  -0.343536      1.043552     0.860496  -0.402545   \n",
      "72        -0.755915   1.271247     -1.276567    -2.828086   0.156371   \n",
      "305        1.977440   0.290332     -1.247601    -0.172028  -0.234272   \n",
      "..              ...        ...           ...          ...        ...   \n",
      "188       -0.365788  -0.565709      1.440260     0.503756   0.360664   \n",
      "71        -0.409769   1.277592     -1.346703    -2.121866  -0.017562   \n",
      "106       -0.852760   1.112915     -0.332848    -0.520921  -0.326446   \n",
      "270        0.480023  -1.969966      0.467872     0.281996  -1.520268   \n",
      "102       -1.328428   0.291693     -0.278403    -0.378632   0.440708   \n",
      "\n",
      "     Capacity Utilization_SS   Corn_SS  M2 Velocity_SS    GDP_SS  Wheat_SS  \\\n",
      "79                  0.182841 -0.428209       -0.474105 -0.710077 -0.991708   \n",
      "147                 0.285280  2.017779       -0.752247 -0.968334  0.824884   \n",
      "143                -0.609323  2.134135       -0.076748  0.011209 -0.313841   \n",
      "72                  0.029400 -1.855634       -0.028845 -0.245840 -1.409963   \n",
      "305                -0.045844 -0.032272        0.486909 -0.074694  2.067899   \n",
      "..                       ...       ...             ...       ...       ...   \n",
      "188                -0.036059 -0.233310        0.308787  0.937747  0.276997   \n",
      "71                  0.164510 -0.991573       -0.028845 -0.245840 -0.826082   \n",
      "106                 0.570894 -0.428319        0.014532  0.210813 -0.314274   \n",
      "270                -0.400204  0.766999        0.125170 -0.201821 -0.035952   \n",
      "102                 0.482965 -0.380845        0.013694  0.289414 -0.251520   \n",
      "\n",
      "       PMI_SS  USD Index_SS  Unemployment Rate_SS  Initial Jobless Claims_SS  \n",
      "79  -0.877857     -0.042584             -0.658613                  -0.074521  \n",
      "147 -0.392888     -1.198573              0.272845                   0.005413  \n",
      "143 -0.144765     -1.338341              0.226272                   0.002279  \n",
      "72   0.464266      1.346968             -0.472321                  -0.120914  \n",
      "305 -1.047033     -1.610586              0.272845                  -0.009006  \n",
      "..        ...           ...                   ...                        ...  \n",
      "188  0.847730     -1.476665              0.319418                  -0.114331  \n",
      "71   0.125916      1.767912             -0.518894                  -0.125302  \n",
      "106 -0.663569      0.508510             -0.192884                  -0.095523  \n",
      "270 -2.344043     -1.459965              0.226272                   0.025162  \n",
      "102  0.148473      0.925135             -0.658613                  -0.175770  \n",
      "\n",
      "[219 rows x 19 columns], normalize=79    -0.111\n",
      "147    0.744\n",
      "143    0.149\n",
      "72    -0.328\n",
      "305   -0.327\n",
      "       ...  \n",
      "188   -0.115\n",
      "71    -0.378\n",
      "106   -0.104\n",
      "270    0.188\n",
      "102   -0.523\n",
      "Name: Inflation, Length: 219, dtype: float64 as keyword args. From version 0.25 passing these as positional arguments will result in an error\n",
      "  warnings.warn(\"Pass {} as keyword args. From version 0.25 \"\n"
     ]
    }
   ],
   "source": [
    "reg_all_SS = LinearRegression(X_train_SS,y_train)"
   ]
  },
  {
   "cell_type": "code",
   "execution_count": 72,
   "metadata": {},
   "outputs": [],
   "source": [
    "lm = LinearRegression().fit(X_train_SS, y_train)"
   ]
  },
  {
   "cell_type": "code",
   "execution_count": 73,
   "metadata": {},
   "outputs": [],
   "source": [
    "#Code task 11#\n",
    "#Call the `predict()` method of the model (`lm`) on both the (scaled) train and test data\n",
    "#Assign the predictions to `y_tr_pred` and `y_te_pred`, respectively\n",
    "y_tr_pred_SS = lm.predict(X_train_SS)\n",
    "y_te_pred_SS = lm.predict(X_test_SS)"
   ]
  },
  {
   "cell_type": "code",
   "execution_count": 74,
   "metadata": {},
   "outputs": [
    {
     "data": {
      "text/plain": [
       "(0.4018706397832714, 0.3856292486251828)"
      ]
     },
     "execution_count": 74,
     "metadata": {},
     "output_type": "execute_result"
    }
   ],
   "source": [
    "# r^2 - train, test\n",
    "median_r2_SS = r2_score(y_train_SS, y_tr_pred_SS), r2_score(y_test_SS, y_te_pred_SS)\n",
    "median_r2_SS"
   ]
  },
  {
   "cell_type": "code",
   "execution_count": 75,
   "metadata": {},
   "outputs": [
    {
     "data": {
      "text/plain": [
       "(0.5271243669559882, 0.5141581912767653)"
      ]
     },
     "execution_count": 75,
     "metadata": {},
     "output_type": "execute_result"
    }
   ],
   "source": [
    "median_mae_SS = mean_absolute_error( y_train_SS, y_tr_pred_SS), mean_absolute_error( y_test_SS, y_te_pred_SS )\n",
    "median_mae_SS"
   ]
  },
  {
   "cell_type": "code",
   "execution_count": 76,
   "metadata": {},
   "outputs": [
    {
     "data": {
      "text/plain": [
       "(0.5981293602167286, 0.48217523158703574)"
      ]
     },
     "execution_count": 76,
     "metadata": {},
     "output_type": "execute_result"
    }
   ],
   "source": [
    "median_mse_SS = mean_squared_error( y_train_SS, y_tr_pred_SS ), mean_squared_error( y_test_SS, y_te_pred_SS )\n",
    "median_mse_SS"
   ]
  },
  {
   "cell_type": "markdown",
   "metadata": {},
   "source": [
    "The R^2 results are less than impressive ( i.e. less than a simple coin flip ) but we will proceed."
   ]
  },
  {
   "cell_type": "markdown",
   "metadata": {},
   "source": [
    "In this case, I have no missing values so no need to impute."
   ]
  },
  {
   "cell_type": "markdown",
   "metadata": {},
   "source": [
    "## 3.6.2 MinMaxScaler ( X & y scaled )<a id='mm'></a>"
   ]
  },
  {
   "cell_type": "markdown",
   "metadata": {},
   "source": [
    "The scalings approach & it's estimated results we will use in this section are as follows:\n",
    "   * **MinMaxScaler ( `_MM` )** ( often called Normalization )\n",
    "      * This approach reassigns the values from 0 -> 1\n"
   ]
  },
  {
   "cell_type": "code",
   "execution_count": 77,
   "metadata": {},
   "outputs": [],
   "source": [
    "MM_scaler = MinMaxScaler()"
   ]
  },
  {
   "cell_type": "markdown",
   "metadata": {},
   "source": [
    "First `X_train_MM`"
   ]
  },
  {
   "cell_type": "code",
   "execution_count": 78,
   "metadata": {},
   "outputs": [
    {
     "data": {
      "text/plain": [
       "MinMaxScaler()"
      ]
     },
     "execution_count": 78,
     "metadata": {},
     "output_type": "execute_result"
    }
   ],
   "source": [
    "MM_scaler.fit(X_train_MM[['Wage CPI','WTI','Heating Oil','Copper','Sugar',\n",
    "                     'Natural Gas','Cattle','Lean Hogs','Soybeans','Lumber',\n",
    "                     'Capacity Utilization','Corn','M2 Velocity','GDP','Wheat','PMI',\n",
    "                     'USD Index','Unemployment Rate','Initial Jobless Claims']])"
   ]
  },
  {
   "cell_type": "code",
   "execution_count": 80,
   "metadata": {},
   "outputs": [],
   "source": [
    "X_train_MM[['Wages CPI_MM', 'WTI_MM', 'Heating Oil_MM','Copper_MM','Sugar_MM',\n",
    "            'Natural Gas_MM','Cattle_MM','Lean Hogs_MM','Soybeans_MM','Lumber_MM',\n",
    "                     'Capacity Utilization_MM','Corn_MM','M2 Velocity_MM','GDP_MM','Wheat_MM','PMI_MM',\n",
    "                     'USD Index_MM','Unemployment Rate_MM','Initial Jobless Claims_MM']] = MM_scaler.transform(X_train_MM[[\n",
    "    'Wage CPI','WTI','Heating Oil','Copper','Sugar',\n",
    "                     'Natural Gas','Cattle','Lean Hogs','Soybeans','Lumber',\n",
    "                     'Capacity Utilization','Corn','M2 Velocity','GDP','Wheat','PMI',\n",
    "                     'USD Index','Unemployment Rate','Initial Jobless Claims']])"
   ]
  },
  {
   "cell_type": "code",
   "execution_count": 81,
   "metadata": {},
   "outputs": [
    {
     "data": {
      "text/plain": [
       "Index(['Wage CPI', 'WTI', 'Heating Oil', 'Copper', 'Sugar', 'Natural Gas',\n",
       "       'Cattle', 'Lean Hogs', 'Soybeans', 'Lumber', 'Capacity Utilization',\n",
       "       'Corn', 'M2 Velocity', 'GDP', 'Wheat', 'PMI', 'USD Index',\n",
       "       'Unemployment Rate', 'Initial Jobless Claims', 'Wages CPI_MM', 'WTI_MM',\n",
       "       'Heating Oil_MM', 'Copper_MM', 'Sugar_MM', 'Natural Gas_MM',\n",
       "       'Cattle_MM', 'Lean Hogs_MM', 'Soybeans_MM', 'Lumber_MM',\n",
       "       'Capacity Utilization_MM', 'Corn_MM', 'M2 Velocity_MM', 'GDP_MM',\n",
       "       'Wheat_MM', 'PMI_MM', 'USD Index_MM', 'Unemployment Rate_MM',\n",
       "       'Initial Jobless Claims_MM'],\n",
       "      dtype='object')"
      ]
     },
     "execution_count": 81,
     "metadata": {},
     "output_type": "execute_result"
    }
   ],
   "source": [
    "X_train_MM.columns"
   ]
  },
  {
   "cell_type": "code",
   "execution_count": 82,
   "metadata": {},
   "outputs": [],
   "source": [
    "X_train_MM.drop(columns=prev_cols, inplace=True)"
   ]
  },
  {
   "cell_type": "code",
   "execution_count": 83,
   "metadata": {},
   "outputs": [
    {
     "data": {
      "text/html": [
       "<div>\n",
       "<style scoped>\n",
       "    .dataframe tbody tr th:only-of-type {\n",
       "        vertical-align: middle;\n",
       "    }\n",
       "\n",
       "    .dataframe tbody tr th {\n",
       "        vertical-align: top;\n",
       "    }\n",
       "\n",
       "    .dataframe thead th {\n",
       "        text-align: right;\n",
       "    }\n",
       "</style>\n",
       "<table border=\"1\" class=\"dataframe\">\n",
       "  <thead>\n",
       "    <tr style=\"text-align: right;\">\n",
       "      <th></th>\n",
       "      <th>Wages CPI_MM</th>\n",
       "      <th>WTI_MM</th>\n",
       "      <th>Heating Oil_MM</th>\n",
       "      <th>Copper_MM</th>\n",
       "      <th>Sugar_MM</th>\n",
       "      <th>Natural Gas_MM</th>\n",
       "      <th>Cattle_MM</th>\n",
       "      <th>Lean Hogs_MM</th>\n",
       "      <th>Soybeans_MM</th>\n",
       "      <th>Lumber_MM</th>\n",
       "      <th>Capacity Utilization_MM</th>\n",
       "      <th>Corn_MM</th>\n",
       "      <th>M2 Velocity_MM</th>\n",
       "      <th>GDP_MM</th>\n",
       "      <th>Wheat_MM</th>\n",
       "      <th>PMI_MM</th>\n",
       "      <th>USD Index_MM</th>\n",
       "      <th>Unemployment Rate_MM</th>\n",
       "      <th>Initial Jobless Claims_MM</th>\n",
       "    </tr>\n",
       "  </thead>\n",
       "  <tbody>\n",
       "    <tr>\n",
       "      <th>count</th>\n",
       "      <td>219.000000</td>\n",
       "      <td>219.000000</td>\n",
       "      <td>219.000000</td>\n",
       "      <td>219.000000</td>\n",
       "      <td>219.000000</td>\n",
       "      <td>219.000000</td>\n",
       "      <td>219.000000</td>\n",
       "      <td>219.000000</td>\n",
       "      <td>219.000000</td>\n",
       "      <td>219.000000</td>\n",
       "      <td>219.000000</td>\n",
       "      <td>219.000000</td>\n",
       "      <td>219.000000</td>\n",
       "      <td>219.000000</td>\n",
       "      <td>219.000000</td>\n",
       "      <td>219.000000</td>\n",
       "      <td>219.000000</td>\n",
       "      <td>219.000000</td>\n",
       "      <td>219.000000</td>\n",
       "    </tr>\n",
       "    <tr>\n",
       "      <th>mean</th>\n",
       "      <td>0.662508</td>\n",
       "      <td>0.577041</td>\n",
       "      <td>0.579799</td>\n",
       "      <td>0.522961</td>\n",
       "      <td>0.390894</td>\n",
       "      <td>0.413894</td>\n",
       "      <td>0.580024</td>\n",
       "      <td>0.485217</td>\n",
       "      <td>0.566264</td>\n",
       "      <td>0.373554</td>\n",
       "      <td>0.794309</td>\n",
       "      <td>0.508240</td>\n",
       "      <td>0.811766</td>\n",
       "      <td>0.586325</td>\n",
       "      <td>0.426985</td>\n",
       "      <td>0.530127</td>\n",
       "      <td>0.378931</td>\n",
       "      <td>0.278614</td>\n",
       "      <td>0.256132</td>\n",
       "    </tr>\n",
       "    <tr>\n",
       "      <th>std</th>\n",
       "      <td>0.109533</td>\n",
       "      <td>0.162724</td>\n",
       "      <td>0.175718</td>\n",
       "      <td>0.122601</td>\n",
       "      <td>0.154561</td>\n",
       "      <td>0.198216</td>\n",
       "      <td>0.178813</td>\n",
       "      <td>0.201573</td>\n",
       "      <td>0.159744</td>\n",
       "      <td>0.152960</td>\n",
       "      <td>0.102133</td>\n",
       "      <td>0.164563</td>\n",
       "      <td>0.089721</td>\n",
       "      <td>0.072090</td>\n",
       "      <td>0.147100</td>\n",
       "      <td>0.131657</td>\n",
       "      <td>0.181541</td>\n",
       "      <td>0.071261</td>\n",
       "      <td>0.066471</td>\n",
       "    </tr>\n",
       "    <tr>\n",
       "      <th>min</th>\n",
       "      <td>0.000000</td>\n",
       "      <td>0.000000</td>\n",
       "      <td>0.000000</td>\n",
       "      <td>0.000000</td>\n",
       "      <td>0.000000</td>\n",
       "      <td>0.000000</td>\n",
       "      <td>0.000000</td>\n",
       "      <td>0.000000</td>\n",
       "      <td>0.000000</td>\n",
       "      <td>0.000000</td>\n",
       "      <td>0.000000</td>\n",
       "      <td>0.000000</td>\n",
       "      <td>0.000000</td>\n",
       "      <td>0.000000</td>\n",
       "      <td>0.000000</td>\n",
       "      <td>0.000000</td>\n",
       "      <td>0.000000</td>\n",
       "      <td>0.000000</td>\n",
       "      <td>0.000000</td>\n",
       "    </tr>\n",
       "    <tr>\n",
       "      <th>25%</th>\n",
       "      <td>0.633849</td>\n",
       "      <td>0.483867</td>\n",
       "      <td>0.490266</td>\n",
       "      <td>0.450746</td>\n",
       "      <td>0.287664</td>\n",
       "      <td>0.289847</td>\n",
       "      <td>0.465963</td>\n",
       "      <td>0.366595</td>\n",
       "      <td>0.484227</td>\n",
       "      <td>0.269900</td>\n",
       "      <td>0.770873</td>\n",
       "      <td>0.411567</td>\n",
       "      <td>0.799482</td>\n",
       "      <td>0.576011</td>\n",
       "      <td>0.334592</td>\n",
       "      <td>0.454815</td>\n",
       "      <td>0.239717</td>\n",
       "      <td>0.258278</td>\n",
       "      <td>0.248654</td>\n",
       "    </tr>\n",
       "    <tr>\n",
       "      <th>50%</th>\n",
       "      <td>0.674935</td>\n",
       "      <td>0.582971</td>\n",
       "      <td>0.579177</td>\n",
       "      <td>0.507337</td>\n",
       "      <td>0.360161</td>\n",
       "      <td>0.378769</td>\n",
       "      <td>0.591162</td>\n",
       "      <td>0.475028</td>\n",
       "      <td>0.560053</td>\n",
       "      <td>0.370353</td>\n",
       "      <td>0.811072</td>\n",
       "      <td>0.491092</td>\n",
       "      <td>0.815527</td>\n",
       "      <td>0.592714</td>\n",
       "      <td>0.415759</td>\n",
       "      <td>0.521481</td>\n",
       "      <td>0.388655</td>\n",
       "      <td>0.268212</td>\n",
       "      <td>0.250566</td>\n",
       "    </tr>\n",
       "    <tr>\n",
       "      <th>75%</th>\n",
       "      <td>0.715643</td>\n",
       "      <td>0.681068</td>\n",
       "      <td>0.690288</td>\n",
       "      <td>0.589250</td>\n",
       "      <td>0.478951</td>\n",
       "      <td>0.517760</td>\n",
       "      <td>0.715109</td>\n",
       "      <td>0.634259</td>\n",
       "      <td>0.644133</td>\n",
       "      <td>0.464474</td>\n",
       "      <td>0.842433</td>\n",
       "      <td>0.596353</td>\n",
       "      <td>0.846585</td>\n",
       "      <td>0.608693</td>\n",
       "      <td>0.509179</td>\n",
       "      <td>0.607407</td>\n",
       "      <td>0.484333</td>\n",
       "      <td>0.284768</td>\n",
       "      <td>0.252999</td>\n",
       "    </tr>\n",
       "    <tr>\n",
       "      <th>max</th>\n",
       "      <td>1.000000</td>\n",
       "      <td>1.000000</td>\n",
       "      <td>1.000000</td>\n",
       "      <td>1.000000</td>\n",
       "      <td>1.000000</td>\n",
       "      <td>1.000000</td>\n",
       "      <td>1.000000</td>\n",
       "      <td>1.000000</td>\n",
       "      <td>1.000000</td>\n",
       "      <td>1.000000</td>\n",
       "      <td>1.000000</td>\n",
       "      <td>1.000000</td>\n",
       "      <td>1.000000</td>\n",
       "      <td>1.000000</td>\n",
       "      <td>1.000000</td>\n",
       "      <td>1.000000</td>\n",
       "      <td>1.000000</td>\n",
       "      <td>1.000000</td>\n",
       "      <td>1.000000</td>\n",
       "    </tr>\n",
       "  </tbody>\n",
       "</table>\n",
       "</div>"
      ],
      "text/plain": [
       "       Wages CPI_MM      WTI_MM  Heating Oil_MM   Copper_MM    Sugar_MM  \\\n",
       "count    219.000000  219.000000      219.000000  219.000000  219.000000   \n",
       "mean       0.662508    0.577041        0.579799    0.522961    0.390894   \n",
       "std        0.109533    0.162724        0.175718    0.122601    0.154561   \n",
       "min        0.000000    0.000000        0.000000    0.000000    0.000000   \n",
       "25%        0.633849    0.483867        0.490266    0.450746    0.287664   \n",
       "50%        0.674935    0.582971        0.579177    0.507337    0.360161   \n",
       "75%        0.715643    0.681068        0.690288    0.589250    0.478951   \n",
       "max        1.000000    1.000000        1.000000    1.000000    1.000000   \n",
       "\n",
       "       Natural Gas_MM   Cattle_MM  Lean Hogs_MM  Soybeans_MM   Lumber_MM  \\\n",
       "count      219.000000  219.000000    219.000000   219.000000  219.000000   \n",
       "mean         0.413894    0.580024      0.485217     0.566264    0.373554   \n",
       "std          0.198216    0.178813      0.201573     0.159744    0.152960   \n",
       "min          0.000000    0.000000      0.000000     0.000000    0.000000   \n",
       "25%          0.289847    0.465963      0.366595     0.484227    0.269900   \n",
       "50%          0.378769    0.591162      0.475028     0.560053    0.370353   \n",
       "75%          0.517760    0.715109      0.634259     0.644133    0.464474   \n",
       "max          1.000000    1.000000      1.000000     1.000000    1.000000   \n",
       "\n",
       "       Capacity Utilization_MM     Corn_MM  M2 Velocity_MM      GDP_MM  \\\n",
       "count               219.000000  219.000000      219.000000  219.000000   \n",
       "mean                  0.794309    0.508240        0.811766    0.586325   \n",
       "std                   0.102133    0.164563        0.089721    0.072090   \n",
       "min                   0.000000    0.000000        0.000000    0.000000   \n",
       "25%                   0.770873    0.411567        0.799482    0.576011   \n",
       "50%                   0.811072    0.491092        0.815527    0.592714   \n",
       "75%                   0.842433    0.596353        0.846585    0.608693   \n",
       "max                   1.000000    1.000000        1.000000    1.000000   \n",
       "\n",
       "         Wheat_MM      PMI_MM  USD Index_MM  Unemployment Rate_MM  \\\n",
       "count  219.000000  219.000000    219.000000            219.000000   \n",
       "mean     0.426985    0.530127      0.378931              0.278614   \n",
       "std      0.147100    0.131657      0.181541              0.071261   \n",
       "min      0.000000    0.000000      0.000000              0.000000   \n",
       "25%      0.334592    0.454815      0.239717              0.258278   \n",
       "50%      0.415759    0.521481      0.388655              0.268212   \n",
       "75%      0.509179    0.607407      0.484333              0.284768   \n",
       "max      1.000000    1.000000      1.000000              1.000000   \n",
       "\n",
       "       Initial Jobless Claims_MM  \n",
       "count                 219.000000  \n",
       "mean                    0.256132  \n",
       "std                     0.066471  \n",
       "min                     0.000000  \n",
       "25%                     0.248654  \n",
       "50%                     0.250566  \n",
       "75%                     0.252999  \n",
       "max                     1.000000  "
      ]
     },
     "execution_count": 83,
     "metadata": {},
     "output_type": "execute_result"
    }
   ],
   "source": [
    "X_train_MM.describe()"
   ]
  },
  {
   "cell_type": "markdown",
   "metadata": {},
   "source": [
    "The `Maximum` & `Minimum` are **1 & 0 respectively; it appears to be realigning according to the MinMaxScaler appropriately**"
   ]
  },
  {
   "cell_type": "code",
   "execution_count": 84,
   "metadata": {},
   "outputs": [],
   "source": [
    "df_X_train_MM = pd.DataFrame(data = X_train_MM, columns = ['Wages CPI_MM', 'WTI_MM', 'Heating Oil_MM','Copper_MM','Sugar_MM',\n",
    "            'Natural Gas_MM','Cattle_MM','Lean Hogs_MM','Soybeans_MM','Lumber_MM',\n",
    "                     'Capacity Utilization_MM','Corn_MM','M2 Velocity_MM','GDP_MM','Wheat_MM','PMI_MM',\n",
    "                     'USD Index_MM','Unemployment Rate_MM','Initial Jobless Claims_MM'])"
   ]
  },
  {
   "cell_type": "code",
   "execution_count": 85,
   "metadata": {},
   "outputs": [
    {
     "data": {
      "image/png": "[encoded data removed]",
      "text/plain": [
       "<Figure size 1152x864 with 1 Axes>"
      ]
     },
     "metadata": {
      "needs_background": "light"
     },
     "output_type": "display_data"
    }
   ],
   "source": [
    "plt.figure(figsize=(16, 12))\n",
    "chart = sns.boxplot(x='variable', y='value', data=pd.melt(df_X_train_MM))\n",
    "chart.set_xticklabels(chart.get_xticklabels(), rotation=90)\n",
    "plt.show()"
   ]
  },
  {
   "cell_type": "markdown",
   "metadata": {},
   "source": [
    "`X_test_MM` will not be 'fitted'."
   ]
  },
  {
   "cell_type": "code",
   "execution_count": 86,
   "metadata": {},
   "outputs": [],
   "source": [
    "X_test_MM[['Wages CPI_MM', 'WTI_MM', 'Heating Oil_MM','Copper_MM','Sugar_MM',\n",
    "            'Natural Gas_MM','Cattle_MM','Lean Hogs_MM','Soybeans_MM','Lumber_MM',\n",
    "                     'Capacity Utilization_MM','Corn_MM','M2 Velocity_MM','GDP_MM','Wheat_MM','PMI_MM',\n",
    "                     'USD Index_MM','Unemployment Rate_MM','Initial Jobless Claims_MM']] = MM_scaler.transform(X_test_MM[[\n",
    "    'Wage CPI','WTI','Heating Oil','Copper','Sugar',\n",
    "                     'Natural Gas','Cattle','Lean Hogs','Soybeans','Lumber',\n",
    "                     'Capacity Utilization','Corn','M2 Velocity','GDP','Wheat','PMI',\n",
    "                     'USD Index','Unemployment Rate','Initial Jobless Claims']])"
   ]
  },
  {
   "cell_type": "code",
   "execution_count": 87,
   "metadata": {},
   "outputs": [
    {
     "data": {
      "text/plain": [
       "Index(['Wage CPI', 'WTI', 'Heating Oil', 'Copper', 'Sugar', 'Natural Gas',\n",
       "       'Cattle', 'Lean Hogs', 'Soybeans', 'Lumber', 'Capacity Utilization',\n",
       "       'Corn', 'M2 Velocity', 'GDP', 'Wheat', 'PMI', 'USD Index',\n",
       "       'Unemployment Rate', 'Initial Jobless Claims', 'Wages CPI_MM', 'WTI_MM',\n",
       "       'Heating Oil_MM', 'Copper_MM', 'Sugar_MM', 'Natural Gas_MM',\n",
       "       'Cattle_MM', 'Lean Hogs_MM', 'Soybeans_MM', 'Lumber_MM',\n",
       "       'Capacity Utilization_MM', 'Corn_MM', 'M2 Velocity_MM', 'GDP_MM',\n",
       "       'Wheat_MM', 'PMI_MM', 'USD Index_MM', 'Unemployment Rate_MM',\n",
       "       'Initial Jobless Claims_MM'],\n",
       "      dtype='object')"
      ]
     },
     "execution_count": 87,
     "metadata": {},
     "output_type": "execute_result"
    }
   ],
   "source": [
    "X_test_MM.columns"
   ]
  },
  {
   "cell_type": "code",
   "execution_count": 88,
   "metadata": {},
   "outputs": [],
   "source": [
    "X_test_MM.drop(columns=prev_cols, inplace=True)"
   ]
  },
  {
   "cell_type": "code",
   "execution_count": 89,
   "metadata": {},
   "outputs": [
    {
     "data": {
      "text/html": [
       "<div>\n",
       "<style scoped>\n",
       "    .dataframe tbody tr th:only-of-type {\n",
       "        vertical-align: middle;\n",
       "    }\n",
       "\n",
       "    .dataframe tbody tr th {\n",
       "        vertical-align: top;\n",
       "    }\n",
       "\n",
       "    .dataframe thead th {\n",
       "        text-align: right;\n",
       "    }\n",
       "</style>\n",
       "<table border=\"1\" class=\"dataframe\">\n",
       "  <thead>\n",
       "    <tr style=\"text-align: right;\">\n",
       "      <th></th>\n",
       "      <th>Wages CPI_MM</th>\n",
       "      <th>WTI_MM</th>\n",
       "      <th>Heating Oil_MM</th>\n",
       "      <th>Copper_MM</th>\n",
       "      <th>Sugar_MM</th>\n",
       "      <th>Natural Gas_MM</th>\n",
       "      <th>Cattle_MM</th>\n",
       "      <th>Lean Hogs_MM</th>\n",
       "      <th>Soybeans_MM</th>\n",
       "      <th>Lumber_MM</th>\n",
       "      <th>Capacity Utilization_MM</th>\n",
       "      <th>Corn_MM</th>\n",
       "      <th>M2 Velocity_MM</th>\n",
       "      <th>GDP_MM</th>\n",
       "      <th>Wheat_MM</th>\n",
       "      <th>PMI_MM</th>\n",
       "      <th>USD Index_MM</th>\n",
       "      <th>Unemployment Rate_MM</th>\n",
       "      <th>Initial Jobless Claims_MM</th>\n",
       "    </tr>\n",
       "  </thead>\n",
       "  <tbody>\n",
       "    <tr>\n",
       "      <th>count</th>\n",
       "      <td>94.000000</td>\n",
       "      <td>94.000000</td>\n",
       "      <td>94.000000</td>\n",
       "      <td>94.000000</td>\n",
       "      <td>94.000000</td>\n",
       "      <td>94.000000</td>\n",
       "      <td>94.000000</td>\n",
       "      <td>94.000000</td>\n",
       "      <td>94.000000</td>\n",
       "      <td>94.000000</td>\n",
       "      <td>94.000000</td>\n",
       "      <td>94.000000</td>\n",
       "      <td>94.000000</td>\n",
       "      <td>94.000000</td>\n",
       "      <td>94.000000</td>\n",
       "      <td>94.000000</td>\n",
       "      <td>94.000000</td>\n",
       "      <td>94.000000</td>\n",
       "      <td>94.000000</td>\n",
       "    </tr>\n",
       "    <tr>\n",
       "      <th>mean</th>\n",
       "      <td>0.658167</td>\n",
       "      <td>0.578329</td>\n",
       "      <td>0.574540</td>\n",
       "      <td>0.503137</td>\n",
       "      <td>0.407163</td>\n",
       "      <td>0.402052</td>\n",
       "      <td>0.573052</td>\n",
       "      <td>0.493480</td>\n",
       "      <td>0.567205</td>\n",
       "      <td>0.400266</td>\n",
       "      <td>0.807107</td>\n",
       "      <td>0.507818</td>\n",
       "      <td>0.813450</td>\n",
       "      <td>0.593435</td>\n",
       "      <td>0.424146</td>\n",
       "      <td>0.526115</td>\n",
       "      <td>0.393227</td>\n",
       "      <td>0.267684</td>\n",
       "      <td>0.242664</td>\n",
       "    </tr>\n",
       "    <tr>\n",
       "      <th>std</th>\n",
       "      <td>0.112983</td>\n",
       "      <td>0.156718</td>\n",
       "      <td>0.150322</td>\n",
       "      <td>0.117403</td>\n",
       "      <td>0.147291</td>\n",
       "      <td>0.190204</td>\n",
       "      <td>0.176050</td>\n",
       "      <td>0.202375</td>\n",
       "      <td>0.174239</td>\n",
       "      <td>0.219967</td>\n",
       "      <td>0.144096</td>\n",
       "      <td>0.202763</td>\n",
       "      <td>0.101008</td>\n",
       "      <td>0.092471</td>\n",
       "      <td>0.150483</td>\n",
       "      <td>0.130380</td>\n",
       "      <td>0.175635</td>\n",
       "      <td>0.116750</td>\n",
       "      <td>0.068691</td>\n",
       "    </tr>\n",
       "    <tr>\n",
       "      <th>min</th>\n",
       "      <td>-0.106642</td>\n",
       "      <td>-0.004300</td>\n",
       "      <td>0.016675</td>\n",
       "      <td>0.010727</td>\n",
       "      <td>0.172100</td>\n",
       "      <td>0.013372</td>\n",
       "      <td>0.061753</td>\n",
       "      <td>0.153016</td>\n",
       "      <td>0.122611</td>\n",
       "      <td>0.024170</td>\n",
       "      <td>-0.036677</td>\n",
       "      <td>0.050282</td>\n",
       "      <td>0.000000</td>\n",
       "      <td>0.000000</td>\n",
       "      <td>0.126514</td>\n",
       "      <td>0.105185</td>\n",
       "      <td>0.008946</td>\n",
       "      <td>-0.149007</td>\n",
       "      <td>-0.275991</td>\n",
       "    </tr>\n",
       "    <tr>\n",
       "      <th>25%</th>\n",
       "      <td>0.618067</td>\n",
       "      <td>0.501575</td>\n",
       "      <td>0.494081</td>\n",
       "      <td>0.432523</td>\n",
       "      <td>0.310477</td>\n",
       "      <td>0.264422</td>\n",
       "      <td>0.447394</td>\n",
       "      <td>0.343252</td>\n",
       "      <td>0.461156</td>\n",
       "      <td>0.254830</td>\n",
       "      <td>0.776530</td>\n",
       "      <td>0.392436</td>\n",
       "      <td>0.799763</td>\n",
       "      <td>0.580373</td>\n",
       "      <td>0.316342</td>\n",
       "      <td>0.442963</td>\n",
       "      <td>0.273118</td>\n",
       "      <td>0.254967</td>\n",
       "      <td>0.248711</td>\n",
       "    </tr>\n",
       "    <tr>\n",
       "      <th>50%</th>\n",
       "      <td>0.679615</td>\n",
       "      <td>0.580300</td>\n",
       "      <td>0.568844</td>\n",
       "      <td>0.503727</td>\n",
       "      <td>0.377728</td>\n",
       "      <td>0.383424</td>\n",
       "      <td>0.590549</td>\n",
       "      <td>0.465438</td>\n",
       "      <td>0.542730</td>\n",
       "      <td>0.364729</td>\n",
       "      <td>0.815040</td>\n",
       "      <td>0.498874</td>\n",
       "      <td>0.822361</td>\n",
       "      <td>0.594413</td>\n",
       "      <td>0.410108</td>\n",
       "      <td>0.524444</td>\n",
       "      <td>0.378726</td>\n",
       "      <td>0.264901</td>\n",
       "      <td>0.250265</td>\n",
       "    </tr>\n",
       "    <tr>\n",
       "      <th>75%</th>\n",
       "      <td>0.709551</td>\n",
       "      <td>0.668136</td>\n",
       "      <td>0.656788</td>\n",
       "      <td>0.562404</td>\n",
       "      <td>0.482163</td>\n",
       "      <td>0.536187</td>\n",
       "      <td>0.705288</td>\n",
       "      <td>0.622547</td>\n",
       "      <td>0.688545</td>\n",
       "      <td>0.500132</td>\n",
       "      <td>0.841056</td>\n",
       "      <td>0.583300</td>\n",
       "      <td>0.849502</td>\n",
       "      <td>0.616576</td>\n",
       "      <td>0.502954</td>\n",
       "      <td>0.585185</td>\n",
       "      <td>0.510609</td>\n",
       "      <td>0.278146</td>\n",
       "      <td>0.251871</td>\n",
       "    </tr>\n",
       "    <tr>\n",
       "      <th>max</th>\n",
       "      <td>0.890624</td>\n",
       "      <td>1.174952</td>\n",
       "      <td>0.905002</td>\n",
       "      <td>0.859222</td>\n",
       "      <td>0.888486</td>\n",
       "      <td>0.793287</td>\n",
       "      <td>1.043296</td>\n",
       "      <td>0.996138</td>\n",
       "      <td>1.027624</td>\n",
       "      <td>1.370886</td>\n",
       "      <td>1.426373</td>\n",
       "      <td>1.167095</td>\n",
       "      <td>1.000000</td>\n",
       "      <td>1.000000</td>\n",
       "      <td>1.001081</td>\n",
       "      <td>0.940741</td>\n",
       "      <td>0.839365</td>\n",
       "      <td>1.195364</td>\n",
       "      <td>0.503794</td>\n",
       "    </tr>\n",
       "  </tbody>\n",
       "</table>\n",
       "</div>"
      ],
      "text/plain": [
       "       Wages CPI_MM     WTI_MM  Heating Oil_MM  Copper_MM   Sugar_MM  \\\n",
       "count     94.000000  94.000000       94.000000  94.000000  94.000000   \n",
       "mean       0.658167   0.578329        0.574540   0.503137   0.407163   \n",
       "std        0.112983   0.156718        0.150322   0.117403   0.147291   \n",
       "min       -0.106642  -0.004300        0.016675   0.010727   0.172100   \n",
       "25%        0.618067   0.501575        0.494081   0.432523   0.310477   \n",
       "50%        0.679615   0.580300        0.568844   0.503727   0.377728   \n",
       "75%        0.709551   0.668136        0.656788   0.562404   0.482163   \n",
       "max        0.890624   1.174952        0.905002   0.859222   0.888486   \n",
       "\n",
       "       Natural Gas_MM  Cattle_MM  Lean Hogs_MM  Soybeans_MM  Lumber_MM  \\\n",
       "count       94.000000  94.000000     94.000000    94.000000  94.000000   \n",
       "mean         0.402052   0.573052      0.493480     0.567205   0.400266   \n",
       "std          0.190204   0.176050      0.202375     0.174239   0.219967   \n",
       "min          0.013372   0.061753      0.153016     0.122611   0.024170   \n",
       "25%          0.264422   0.447394      0.343252     0.461156   0.254830   \n",
       "50%          0.383424   0.590549      0.465438     0.542730   0.364729   \n",
       "75%          0.536187   0.705288      0.622547     0.688545   0.500132   \n",
       "max          0.793287   1.043296      0.996138     1.027624   1.370886   \n",
       "\n",
       "       Capacity Utilization_MM    Corn_MM  M2 Velocity_MM     GDP_MM  \\\n",
       "count                94.000000  94.000000       94.000000  94.000000   \n",
       "mean                  0.807107   0.507818        0.813450   0.593435   \n",
       "std                   0.144096   0.202763        0.101008   0.092471   \n",
       "min                  -0.036677   0.050282        0.000000   0.000000   \n",
       "25%                   0.776530   0.392436        0.799763   0.580373   \n",
       "50%                   0.815040   0.498874        0.822361   0.594413   \n",
       "75%                   0.841056   0.583300        0.849502   0.616576   \n",
       "max                   1.426373   1.167095        1.000000   1.000000   \n",
       "\n",
       "        Wheat_MM     PMI_MM  USD Index_MM  Unemployment Rate_MM  \\\n",
       "count  94.000000  94.000000     94.000000             94.000000   \n",
       "mean    0.424146   0.526115      0.393227              0.267684   \n",
       "std     0.150483   0.130380      0.175635              0.116750   \n",
       "min     0.126514   0.105185      0.008946             -0.149007   \n",
       "25%     0.316342   0.442963      0.273118              0.254967   \n",
       "50%     0.410108   0.524444      0.378726              0.264901   \n",
       "75%     0.502954   0.585185      0.510609              0.278146   \n",
       "max     1.001081   0.940741      0.839365              1.195364   \n",
       "\n",
       "       Initial Jobless Claims_MM  \n",
       "count                  94.000000  \n",
       "mean                    0.242664  \n",
       "std                     0.068691  \n",
       "min                    -0.275991  \n",
       "25%                     0.248711  \n",
       "50%                     0.250265  \n",
       "75%                     0.251871  \n",
       "max                     0.503794  "
      ]
     },
     "execution_count": 89,
     "metadata": {},
     "output_type": "execute_result"
    }
   ],
   "source": [
    "X_test_MM.describe()"
   ]
  },
  {
   "cell_type": "markdown",
   "metadata": {},
   "source": [
    "Next `y_train_MM`"
   ]
  },
  {
   "cell_type": "code",
   "execution_count": 90,
   "metadata": {},
   "outputs": [
    {
     "data": {
      "text/plain": [
       "MinMaxScaler()"
      ]
     },
     "execution_count": 90,
     "metadata": {},
     "output_type": "execute_result"
    }
   ],
   "source": [
    "MM_scaler.fit(y_train_MM[['Inflation']])"
   ]
  },
  {
   "cell_type": "code",
   "execution_count": 91,
   "metadata": {},
   "outputs": [],
   "source": [
    "y_train_MM['Inflation_MM'] = MM_scaler.transform(y_train_MM[['Inflation']])\n",
    "y_train_MM.drop(columns='Inflation', inplace=True)"
   ]
  },
  {
   "cell_type": "code",
   "execution_count": 92,
   "metadata": {},
   "outputs": [
    {
     "data": {
      "text/html": [
       "<div>\n",
       "<style scoped>\n",
       "    .dataframe tbody tr th:only-of-type {\n",
       "        vertical-align: middle;\n",
       "    }\n",
       "\n",
       "    .dataframe tbody tr th {\n",
       "        vertical-align: top;\n",
       "    }\n",
       "\n",
       "    .dataframe thead th {\n",
       "        text-align: right;\n",
       "    }\n",
       "</style>\n",
       "<table border=\"1\" class=\"dataframe\">\n",
       "  <thead>\n",
       "    <tr style=\"text-align: right;\">\n",
       "      <th></th>\n",
       "      <th>Inflation_MM</th>\n",
       "    </tr>\n",
       "  </thead>\n",
       "  <tbody>\n",
       "    <tr>\n",
       "      <th>count</th>\n",
       "      <td>219.000000</td>\n",
       "    </tr>\n",
       "    <tr>\n",
       "      <th>mean</th>\n",
       "      <td>0.541342</td>\n",
       "    </tr>\n",
       "    <tr>\n",
       "      <th>std</th>\n",
       "      <td>0.096841</td>\n",
       "    </tr>\n",
       "    <tr>\n",
       "      <th>min</th>\n",
       "      <td>0.000000</td>\n",
       "    </tr>\n",
       "    <tr>\n",
       "      <th>25%</th>\n",
       "      <td>0.497628</td>\n",
       "    </tr>\n",
       "    <tr>\n",
       "      <th>50%</th>\n",
       "      <td>0.543658</td>\n",
       "    </tr>\n",
       "    <tr>\n",
       "      <th>75%</th>\n",
       "      <td>0.583757</td>\n",
       "    </tr>\n",
       "    <tr>\n",
       "      <th>max</th>\n",
       "      <td>1.000000</td>\n",
       "    </tr>\n",
       "  </tbody>\n",
       "</table>\n",
       "</div>"
      ],
      "text/plain": [
       "       Inflation_MM\n",
       "count    219.000000\n",
       "mean       0.541342\n",
       "std        0.096841\n",
       "min        0.000000\n",
       "25%        0.497628\n",
       "50%        0.543658\n",
       "75%        0.583757\n",
       "max        1.000000"
      ]
     },
     "execution_count": 92,
     "metadata": {},
     "output_type": "execute_result"
    }
   ],
   "source": [
    "y_train_MM.describe()"
   ]
  },
  {
   "cell_type": "markdown",
   "metadata": {},
   "source": [
    "`y_test_MM` will not be 'fitted'."
   ]
  },
  {
   "cell_type": "code",
   "execution_count": 93,
   "metadata": {},
   "outputs": [],
   "source": [
    "y_test_MM['Inflation_MM'] = MM_scaler.transform(y_test_MM[['Inflation']])\n",
    "y_test_MM.drop(columns='Inflation', inplace=True)"
   ]
  },
  {
   "cell_type": "code",
   "execution_count": 94,
   "metadata": {},
   "outputs": [
    {
     "data": {
      "text/html": [
       "<div>\n",
       "<style scoped>\n",
       "    .dataframe tbody tr th:only-of-type {\n",
       "        vertical-align: middle;\n",
       "    }\n",
       "\n",
       "    .dataframe tbody tr th {\n",
       "        vertical-align: top;\n",
       "    }\n",
       "\n",
       "    .dataframe thead th {\n",
       "        text-align: right;\n",
       "    }\n",
       "</style>\n",
       "<table border=\"1\" class=\"dataframe\">\n",
       "  <thead>\n",
       "    <tr style=\"text-align: right;\">\n",
       "      <th></th>\n",
       "      <th>Inflation_MM</th>\n",
       "    </tr>\n",
       "  </thead>\n",
       "  <tbody>\n",
       "    <tr>\n",
       "      <th>count</th>\n",
       "      <td>94.000000</td>\n",
       "    </tr>\n",
       "    <tr>\n",
       "      <th>mean</th>\n",
       "      <td>0.552963</td>\n",
       "    </tr>\n",
       "    <tr>\n",
       "      <th>std</th>\n",
       "      <td>0.086054</td>\n",
       "    </tr>\n",
       "    <tr>\n",
       "      <th>min</th>\n",
       "      <td>0.137919</td>\n",
       "    </tr>\n",
       "    <tr>\n",
       "      <th>25%</th>\n",
       "      <td>0.513442</td>\n",
       "    </tr>\n",
       "    <tr>\n",
       "      <th>50%</th>\n",
       "      <td>0.547442</td>\n",
       "    </tr>\n",
       "    <tr>\n",
       "      <th>75%</th>\n",
       "      <td>0.589885</td>\n",
       "    </tr>\n",
       "    <tr>\n",
       "      <th>max</th>\n",
       "      <td>0.864679</td>\n",
       "    </tr>\n",
       "  </tbody>\n",
       "</table>\n",
       "</div>"
      ],
      "text/plain": [
       "       Inflation_MM\n",
       "count     94.000000\n",
       "mean       0.552963\n",
       "std        0.086054\n",
       "min        0.137919\n",
       "25%        0.513442\n",
       "50%        0.547442\n",
       "75%        0.589885\n",
       "max        0.864679"
      ]
     },
     "execution_count": 94,
     "metadata": {},
     "output_type": "execute_result"
    }
   ],
   "source": [
    "y_test_MM.describe()"
   ]
  },
  {
   "cell_type": "code",
   "execution_count": 95,
   "metadata": {},
   "outputs": [
    {
     "name": "stderr",
     "output_type": "stream",
     "text": [
      "C:\\Users\\rands\\anaconda3\\lib\\site-packages\\sklearn\\utils\\validation.py:67: FutureWarning: Pass fit_intercept=     Wages CPI_MM    WTI_MM  Heating Oil_MM  Copper_MM  Sugar_MM  \\\n",
      "79       0.679484  0.513019        0.570956   0.513956  0.279879   \n",
      "147      0.859895  0.764382        0.804423   0.399445  0.470928   \n",
      "143      0.754299  0.792164        0.863294   0.703253  0.450569   \n",
      "72       0.556161  0.431969        0.461921   0.480554  0.278491   \n",
      "305      0.711126  0.567125        0.616934   0.512109  0.341708   \n",
      "..            ...       ...             ...        ...       ...   \n",
      "188      0.485511  0.474795        0.375711   0.517000  0.212404   \n",
      "71       0.522422  0.380595        0.414547   0.462321  0.307018   \n",
      "106      0.684908  0.417432        0.529757   0.392984  0.479140   \n",
      "270      0.705364  0.616923        0.596507   0.466586  0.215088   \n",
      "102      0.631514  0.696465        0.577777   0.518003  0.289065   \n",
      "\n",
      "     Natural Gas_MM  Cattle_MM  Lean Hogs_MM  Soybeans_MM  Lumber_MM  \\\n",
      "79         0.648984   0.754082      0.439562     0.558715   0.401134   \n",
      "147        0.571172   0.539100      0.265577     0.986731   0.270986   \n",
      "143        0.701106   0.518736      0.695088     0.703409   0.312122   \n",
      "72         0.264402   0.806819      0.228484     0.115525   0.397418   \n",
      "305        0.804958   0.631820      0.234309     0.538846   0.337802   \n",
      "..              ...        ...           ...          ...        ...   \n",
      "188        0.341554   0.479099      0.774870     0.646552   0.428595   \n",
      "71         0.332857   0.807952      0.214378     0.228082   0.370874   \n",
      "106        0.245249   0.778572      0.418277     0.483239   0.323735   \n",
      "270        0.508824   0.228574      0.579311     0.611208   0.141546   \n",
      "102        0.151180   0.632063      0.429226     0.505917   0.440811   \n",
      "\n",
      "     Capacity Utilization_MM   Corn_MM  M2 Velocity_MM    GDP_MM  Wheat_MM  \\\n",
      "79                  0.812940  0.437934        0.769326  0.535253  0.281438   \n",
      "147                 0.823378  0.839533        0.744428  0.516678  0.548048   \n",
      "143                 0.732219  0.858637        0.804896  0.587131  0.380924   \n",
      "72                  0.797305  0.203569        0.809184  0.568643  0.220053   \n",
      "305                 0.789637  0.502941        0.855352  0.580953  0.730478   \n",
      "..                       ...       ...             ...       ...       ...   \n",
      "188                 0.790634  0.469933        0.839407  0.653772  0.467638   \n",
      "71                  0.811072  0.345437        0.809184  0.568643  0.305746   \n",
      "106                 0.852482  0.437916        0.813067  0.601488  0.380861   \n",
      "270                 0.753528  0.634171        0.822971  0.571809  0.421709   \n",
      "102                 0.843522  0.445710        0.812992  0.607141  0.390071   \n",
      "\n",
      "       PMI_MM  USD Index_MM  Unemployment Rate_MM  Initial Jobless Claims_MM  \n",
      "79   0.414815      0.371218              0.231788                   0.251190  \n",
      "147  0.478519      0.161838              0.298013                   0.256491  \n",
      "143  0.511111      0.136523              0.294702                   0.256283  \n",
      "72   0.591111      0.622902              0.245033                   0.248113  \n",
      "305  0.392593      0.087212              0.298013                   0.255535  \n",
      "..        ...           ...                   ...                        ...  \n",
      "188  0.641481      0.111469              0.301325                   0.248550  \n",
      "71   0.546667      0.699145              0.241722                   0.247822  \n",
      "106  0.442963      0.471035              0.264901                   0.249797  \n",
      "270  0.222222      0.114493              0.294702                   0.257801  \n",
      "102  0.549630      0.546497              0.231788                   0.244475  \n",
      "\n",
      "[219 rows x 19 columns], normalize=79    -0.111\n",
      "147    0.744\n",
      "143    0.149\n",
      "72    -0.328\n",
      "305   -0.327\n",
      "       ...  \n",
      "188   -0.115\n",
      "71    -0.378\n",
      "106   -0.104\n",
      "270    0.188\n",
      "102   -0.523\n",
      "Name: Inflation, Length: 219, dtype: float64 as keyword args. From version 0.25 passing these as positional arguments will result in an error\n",
      "  warnings.warn(\"Pass {} as keyword args. From version 0.25 \"\n"
     ]
    }
   ],
   "source": [
    "reg_all_MM = LinearRegression(X_train_MM,y_train)"
   ]
  },
  {
   "cell_type": "code",
   "execution_count": 96,
   "metadata": {},
   "outputs": [],
   "source": [
    "lm_MM = LinearRegression().fit(X_train_MM, y_train)"
   ]
  },
  {
   "cell_type": "code",
   "execution_count": 97,
   "metadata": {},
   "outputs": [],
   "source": [
    "y_tr_pred_MM = lm.predict(X_train_MM)\n",
    "y_te_pred_MM = lm.predict(X_test_MM)"
   ]
  },
  {
   "cell_type": "code",
   "execution_count": 98,
   "metadata": {},
   "outputs": [
    {
     "data": {
      "text/plain": [
       "(-8.001094168184874, -10.851334904122465)"
      ]
     },
     "execution_count": 98,
     "metadata": {},
     "output_type": "execute_result"
    }
   ],
   "source": [
    "median_r2_MM = r2_score(y_train_MM, y_tr_pred_MM), r2_score(y_test_MM, y_te_pred_MM)\n",
    "median_r2_MM"
   ]
  },
  {
   "cell_type": "code",
   "execution_count": 99,
   "metadata": {},
   "outputs": [
    {
     "data": {
      "text/plain": [
       "(0.2797624018794911, 0.286548967821825)"
      ]
     },
     "execution_count": 99,
     "metadata": {},
     "output_type": "execute_result"
    }
   ],
   "source": [
    "median_mae_MM = mean_absolute_error( y_train_MM, y_tr_pred_MM), mean_absolute_error( y_test_MM, y_te_pred_MM )\n",
    "median_mae_MM"
   ]
  },
  {
   "cell_type": "code",
   "execution_count": 100,
   "metadata": {},
   "outputs": [
    {
     "data": {
      "text/plain": [
       "(0.08402773481905837, 0.08682983739814941)"
      ]
     },
     "execution_count": 100,
     "metadata": {},
     "output_type": "execute_result"
    }
   ],
   "source": [
    "median_mse_MM = mean_squared_error( y_train_MM, y_tr_pred_MM ), mean_squared_error( y_test_MM, y_te_pred_MM )\n",
    "median_mse_MM"
   ]
  },
  {
   "cell_type": "markdown",
   "metadata": {},
   "source": [
    "This scaling approach conveys that it is not appropriate for this data set."
   ]
  },
  {
   "cell_type": "markdown",
   "metadata": {},
   "source": [
    "## 3.6.3 Log Transform ( X & y scaled )<a id='log'></a>"
   ]
  },
  {
   "cell_type": "markdown",
   "metadata": {},
   "source": [
    "The scalings approach & it's estimated results we will use in this section are as follows:\n",
    "   * **Log Transformation ( `_Log` )**\n",
    "      * This approach usually is used with data that has long tails"
   ]
  },
  {
   "cell_type": "code",
   "execution_count": 101,
   "metadata": {},
   "outputs": [],
   "source": [
    "LG_scaler = PowerTransformer()"
   ]
  },
  {
   "cell_type": "markdown",
   "metadata": {},
   "source": [
    "First `X_train_LG`"
   ]
  },
  {
   "cell_type": "code",
   "execution_count": 102,
   "metadata": {},
   "outputs": [
    {
     "data": {
      "text/plain": [
       "PowerTransformer()"
      ]
     },
     "execution_count": 102,
     "metadata": {},
     "output_type": "execute_result"
    }
   ],
   "source": [
    "LG_scaler.fit(X_train_LG[['Wage CPI','WTI','Heating Oil','Copper','Sugar',\n",
    "                     'Natural Gas','Cattle','Lean Hogs','Soybeans','Lumber',\n",
    "                     'Capacity Utilization','Corn','M2 Velocity','GDP','Wheat','PMI',\n",
    "                     'USD Index','Unemployment Rate','Initial Jobless Claims']])"
   ]
  },
  {
   "cell_type": "code",
   "execution_count": 103,
   "metadata": {},
   "outputs": [],
   "source": [
    "X_train_LG[['Wage CPI_LG','WTI_LG','Heating Oil_LG','Copper_LG','Sugar_LG',\n",
    "                     'Natural Gas_LG','Cattle_LG','Lean Hogs_LG','Soybeans_LG','Lumber_LG',\n",
    "                     'Capacity Utilization_LG','Corn_LG','M2 Velocity_LG','GDP_LG','Wheat_LG','PMI_LG',\n",
    "                     'USD Index_LG','Unemployment Rate_LG','Initial Jobless Claims_LG']] = LG_scaler.transform(X_train_LG[[\n",
    "    'Wage CPI','WTI','Heating Oil','Copper','Sugar',\n",
    "                     'Natural Gas','Cattle','Lean Hogs','Soybeans','Lumber',\n",
    "                     'Capacity Utilization','Corn','M2 Velocity','GDP','Wheat','PMI',\n",
    "                     'USD Index','Unemployment Rate','Initial Jobless Claims']])"
   ]
  },
  {
   "cell_type": "markdown",
   "metadata": {},
   "source": [
    "Unlike the previous scaling approaches, we will first investigate visually if they were scaled."
   ]
  },
  {
   "cell_type": "code",
   "execution_count": 106,
   "metadata": {},
   "outputs": [
    {
     "data": {
      "image/png": "[encoded data removed]",
      "text/plain": [
       "<Figure size 1080x360 with 2 Axes>"
      ]
     },
     "metadata": {
      "needs_background": "light"
     },
     "output_type": "display_data"
    },
    {
     "data": {
      "image/png": "[encoded data removed]",
      "text/plain": [
       "<Figure size 1080x360 with 2 Axes>"
      ]
     },
     "metadata": {
      "needs_background": "light"
     },
     "output_type": "display_data"
    },
    {
     "data": {
      "image/png": "[encoded data removed]",
      "text/plain": [
       "<Figure size 1080x360 with 2 Axes>"
      ]
     },
     "metadata": {
      "needs_background": "light"
     },
     "output_type": "display_data"
    },
    {
     "data": {
      "image/png": "[encoded data removed]",
      "text/plain": [
       "<Figure size 1080x360 with 2 Axes>"
      ]
     },
     "metadata": {
      "needs_background": "light"
     },
     "output_type": "display_data"
    },
    {
     "data": {
      "image/png": "[encoded data removed]",
      "text/plain": [
       "<Figure size 1080x360 with 2 Axes>"
      ]
     },
     "metadata": {
      "needs_background": "light"
     },
     "output_type": "display_data"
    },
    {
     "data": {
      "image/png": "[encoded data removed]",
      "text/plain": [
       "<Figure size 1080x360 with 2 Axes>"
      ]
     },
     "metadata": {
      "needs_background": "light"
     },
     "output_type": "display_data"
    },
    {
     "data": {
      "image/png": "[encoded data removed]",
      "text/plain": [
       "<Figure size 1080x360 with 2 Axes>"
      ]
     },
     "metadata": {
      "needs_background": "light"
     },
     "output_type": "display_data"
    },
    {
     "data": {
      "image/png": "[encoded data removed]",
      "text/plain": [
       "<Figure size 1080x360 with 2 Axes>"
      ]
     },
     "metadata": {
      "needs_background": "light"
     },
     "output_type": "display_data"
    },
    {
     "data": {
      "image/png": "[encoded data removed]",
      "text/plain": [
       "<Figure size 1080x360 with 2 Axes>"
      ]
     },
     "metadata": {
      "needs_background": "light"
     },
     "output_type": "display_data"
    },
    {
     "data": {
      "image/png": "[encoded data removed]",
      "text/plain": [
       "<Figure size 1080x360 with 2 Axes>"
      ]
     },
     "metadata": {
      "needs_background": "light"
     },
     "output_type": "display_data"
    },
    {
     "data": {
      "image/png": "[encoded data removed]",
      "text/plain": [
       "<Figure size 1080x360 with 2 Axes>"
      ]
     },
     "metadata": {
      "needs_background": "light"
     },
     "output_type": "display_data"
    },
    {
     "data": {
      "image/png": "[encoded data removed]",
      "text/plain": [
       "<Figure size 1080x360 with 2 Axes>"
      ]
     },
     "metadata": {
      "needs_background": "light"
     },
     "output_type": "display_data"
    },
    {
     "data": {
      "image/png": "[encoded data removed]",
      "text/plain": [
       "<Figure size 1080x360 with 2 Axes>"
      ]
     },
     "metadata": {
      "needs_background": "light"
     },
     "output_type": "display_data"
    },
    {
     "data": {
      "image/png": "[encoded data removed]",
      "text/plain": [
       "<Figure size 1080x360 with 2 Axes>"
      ]
     },
     "metadata": {
      "needs_background": "light"
     },
     "output_type": "display_data"
    },
    {
     "data": {
      "image/png": "[encoded data removed]",
      "text/plain": [
       "<Figure size 1080x360 with 2 Axes>"
      ]
     },
     "metadata": {
      "needs_background": "light"
     },
     "output_type": "display_data"
    },
    {
     "data": {
      "image/png": "[encoded data removed]",
      "text/plain": [
       "<Figure size 1080x360 with 2 Axes>"
      ]
     },
     "metadata": {
      "needs_background": "light"
     },
     "output_type": "display_data"
    },
    {
     "data": {
      "image/png": "[encoded data removed]",
      "text/plain": [
       "<Figure size 1080x360 with 2 Axes>"
      ]
     },
     "metadata": {
      "needs_background": "light"
     },
     "output_type": "display_data"
    },
    {
     "data": {
      "image/png": "[encoded data removed]",
      "text/plain": [
       "<Figure size 1080x360 with 2 Axes>"
      ]
     },
     "metadata": {
      "needs_background": "light"
     },
     "output_type": "display_data"
    },
    {
     "data": {
      "image/png": "[encoded data removed]",
      "text/plain": [
       "<Figure size 1080x360 with 2 Axes>"
      ]
     },
     "metadata": {
      "needs_background": "light"
     },
     "output_type": "display_data"
    }
   ],
   "source": [
    "# to visually confirm one of the variables\n",
    "X_train_LG[['Wage CPI','Wage CPI_LG']].hist(figsize=(15,5),bins=40)\n",
    "X_train_LG[['WTI','WTI_LG']].hist(figsize=(15,5),bins=40)\n",
    "X_train_LG[['Heating Oil','Heating Oil_LG']].hist(figsize=(15,5),bins=40)\n",
    "X_train_LG[['Copper','Copper_LG']].hist(figsize=(15,5),bins=40)\n",
    "X_train_LG[['Sugar','Sugar_LG']].hist(figsize=(15,5),bins=40)\n",
    "X_train_LG[['Natural Gas','Natural Gas_LG']].hist(figsize=(15,5),bins=40)\n",
    "X_train_LG[['Cattle','Cattle_LG']].hist(figsize=(15,5),bins=40)\n",
    "X_train_LG[['Lean Hogs','Lean Hogs_LG']].hist(figsize=(15,5),bins=40)\n",
    "X_train_LG[['Soybeans','Soybeans_LG']].hist(figsize=(15,5),bins=40)\n",
    "X_train_LG[['Lumber','Lumber_LG']].hist(figsize=(15,5),bins=40)\n",
    "X_train_LG[['Capacity Utilization','Capacity Utilization_LG']].hist(figsize=(15,5),bins=40)\n",
    "X_train_LG[['Corn','Corn_LG']].hist(figsize=(15,5),bins=40)\n",
    "X_train_LG[['M2 Velocity','M2 Velocity_LG']].hist(figsize=(15,5),bins=40)\n",
    "X_train_LG[['GDP','GDP_LG']].hist(figsize=(15,5),bins=40)\n",
    "X_train_LG[['Wheat','Wheat_LG']].hist(figsize=(15,5),bins=40)\n",
    "X_train_LG[['PMI','PMI_LG']].hist(figsize=(15,5),bins=40)\n",
    "X_train_LG[['USD Index','USD Index_LG']].hist(figsize=(15,5),bins=40)\n",
    "X_train_LG[['Unemployment Rate','Unemployment Rate_LG']].hist(figsize=(15,5),bins=40)\n",
    "X_train_LG[['Initial Jobless Claims','Initial Jobless Claims_LG']].hist(figsize=(15,5),bins=100)\n",
    "plt.show()"
   ]
  },
  {
   "cell_type": "markdown",
   "metadata": {},
   "source": [
    "We will also look at a box plot."
   ]
  },
  {
   "cell_type": "code",
   "execution_count": 108,
   "metadata": {},
   "outputs": [],
   "source": [
    "df_X_train_LG = pd.DataFrame(data = X_train_LG, columns = ['Wage CPI_LG','WTI_LG','Heating Oil_LG','Copper_LG','Sugar_LG',\n",
    "                     'Natural Gas_LG','Cattle_LG','Lean Hogs_LG','Soybeans_LG','Lumber_LG',\n",
    "                     'Capacity Utilization_LG','Corn_LG','M2 Velocity_LG','GDP_LG','Wheat_LG','PMI_LG',\n",
    "                     'USD Index_LG','Unemployment Rate_LG','Initial Jobless Claims_LG'])"
   ]
  },
  {
   "cell_type": "code",
   "execution_count": 109,
   "metadata": {},
   "outputs": [
    {
     "data": {
      "image/png": "[encoded data removed]",
      "text/plain": [
       "<Figure size 1152x864 with 1 Axes>"
      ]
     },
     "metadata": {
      "needs_background": "light"
     },
     "output_type": "display_data"
    }
   ],
   "source": [
    "plt.figure(figsize=(16, 12))\n",
    "chart = sns.boxplot(x='variable', y='value', data=pd.melt(df_X_train_LG))\n",
    "chart.set_xticklabels(chart.get_xticklabels(), rotation=90)\n",
    "plt.show()"
   ]
  },
  {
   "cell_type": "markdown",
   "metadata": {},
   "source": [
    "While they all seem to work, the following appear to either have an outlier issue or `Log Transform` works very well:\n",
    "   * `Wages CPI` ( prob outliers -- take a look at boxplot )\n",
    "   * `Capacity Utilization` ( maybe maybe not -- take a look w/ more buckets and.or boxplot )\n",
    "   * `GDP`\n",
    "   * `M2 Velocity`\n",
    "   * `Initial Jobless Claims` ( maybe maybe not -- take a look w/ more buckets and.or boxplot )\n",
    "   * `Unemployment Rate` ( maybe maybe not -- take a look w/ more buckets and.or boxplot )\n",
    "\n",
    "We will continue with all."
   ]
  },
  {
   "cell_type": "code",
   "execution_count": 110,
   "metadata": {},
   "outputs": [
    {
     "data": {
      "text/plain": [
       "Index(['Wage CPI', 'WTI', 'Heating Oil', 'Copper', 'Sugar', 'Natural Gas',\n",
       "       'Cattle', 'Lean Hogs', 'Soybeans', 'Lumber', 'Capacity Utilization',\n",
       "       'Corn', 'M2 Velocity', 'GDP', 'Wheat', 'PMI', 'USD Index',\n",
       "       'Unemployment Rate', 'Initial Jobless Claims', 'Wage CPI_LG', 'WTI_LG',\n",
       "       'Heating Oil_LG', 'Copper_LG', 'Sugar_LG', 'Natural Gas_LG',\n",
       "       'Cattle_LG', 'Lean Hogs_LG', 'Soybeans_LG', 'Lumber_LG',\n",
       "       'Capacity Utilization_LG', 'Corn_LG', 'M2 Velocity_LG', 'GDP_LG',\n",
       "       'Wheat_LG', 'PMI_LG', 'USD Index_LG', 'Unemployment Rate_LG',\n",
       "       'Initial Jobless Claims_LG'],\n",
       "      dtype='object')"
      ]
     },
     "execution_count": 110,
     "metadata": {},
     "output_type": "execute_result"
    }
   ],
   "source": [
    "X_train_LG.columns"
   ]
  },
  {
   "cell_type": "code",
   "execution_count": 111,
   "metadata": {},
   "outputs": [],
   "source": [
    "X_train_LG.drop(columns=prev_cols, inplace=True)"
   ]
  },
  {
   "cell_type": "code",
   "execution_count": 112,
   "metadata": {},
   "outputs": [
    {
     "data": {
      "text/html": [
       "<div>\n",
       "<style scoped>\n",
       "    .dataframe tbody tr th:only-of-type {\n",
       "        vertical-align: middle;\n",
       "    }\n",
       "\n",
       "    .dataframe tbody tr th {\n",
       "        vertical-align: top;\n",
       "    }\n",
       "\n",
       "    .dataframe thead th {\n",
       "        text-align: right;\n",
       "    }\n",
       "</style>\n",
       "<table border=\"1\" class=\"dataframe\">\n",
       "  <thead>\n",
       "    <tr style=\"text-align: right;\">\n",
       "      <th></th>\n",
       "      <th>Wage CPI_LG</th>\n",
       "      <th>WTI_LG</th>\n",
       "      <th>Heating Oil_LG</th>\n",
       "      <th>Copper_LG</th>\n",
       "      <th>Sugar_LG</th>\n",
       "      <th>Natural Gas_LG</th>\n",
       "      <th>Cattle_LG</th>\n",
       "      <th>Lean Hogs_LG</th>\n",
       "      <th>Soybeans_LG</th>\n",
       "      <th>Lumber_LG</th>\n",
       "      <th>Capacity Utilization_LG</th>\n",
       "      <th>Corn_LG</th>\n",
       "      <th>M2 Velocity_LG</th>\n",
       "      <th>GDP_LG</th>\n",
       "      <th>Wheat_LG</th>\n",
       "      <th>PMI_LG</th>\n",
       "      <th>USD Index_LG</th>\n",
       "      <th>Unemployment Rate_LG</th>\n",
       "      <th>Initial Jobless Claims_LG</th>\n",
       "    </tr>\n",
       "  </thead>\n",
       "  <tbody>\n",
       "    <tr>\n",
       "      <th>count</th>\n",
       "      <td>2.190000e+02</td>\n",
       "      <td>2.190000e+02</td>\n",
       "      <td>2.190000e+02</td>\n",
       "      <td>2.190000e+02</td>\n",
       "      <td>2.190000e+02</td>\n",
       "      <td>2.190000e+02</td>\n",
       "      <td>2.190000e+02</td>\n",
       "      <td>2.190000e+02</td>\n",
       "      <td>2.190000e+02</td>\n",
       "      <td>2.190000e+02</td>\n",
       "      <td>2.190000e+02</td>\n",
       "      <td>2.190000e+02</td>\n",
       "      <td>2.190000e+02</td>\n",
       "      <td>2.190000e+02</td>\n",
       "      <td>2.190000e+02</td>\n",
       "      <td>2.190000e+02</td>\n",
       "      <td>2.190000e+02</td>\n",
       "      <td>2.190000e+02</td>\n",
       "      <td>2.190000e+02</td>\n",
       "    </tr>\n",
       "    <tr>\n",
       "      <th>mean</th>\n",
       "      <td>1.158383e-16</td>\n",
       "      <td>1.064597e-17</td>\n",
       "      <td>2.547430e-17</td>\n",
       "      <td>-3.127651e-17</td>\n",
       "      <td>4.207695e-17</td>\n",
       "      <td>1.216683e-17</td>\n",
       "      <td>-2.952990e-17</td>\n",
       "      <td>1.267378e-18</td>\n",
       "      <td>2.914969e-17</td>\n",
       "      <td>1.216683e-17</td>\n",
       "      <td>-2.306628e-17</td>\n",
       "      <td>-4.233042e-17</td>\n",
       "      <td>-2.534756e-18</td>\n",
       "      <td>-1.069667e-16</td>\n",
       "      <td>2.154542e-17</td>\n",
       "      <td>-2.712189e-17</td>\n",
       "      <td>1.267378e-17</td>\n",
       "      <td>1.115293e-17</td>\n",
       "      <td>1.901067e-17</td>\n",
       "    </tr>\n",
       "    <tr>\n",
       "      <th>std</th>\n",
       "      <td>1.002291e+00</td>\n",
       "      <td>1.002291e+00</td>\n",
       "      <td>1.002291e+00</td>\n",
       "      <td>1.002291e+00</td>\n",
       "      <td>1.002291e+00</td>\n",
       "      <td>1.002291e+00</td>\n",
       "      <td>1.002291e+00</td>\n",
       "      <td>1.002291e+00</td>\n",
       "      <td>1.002291e+00</td>\n",
       "      <td>1.002291e+00</td>\n",
       "      <td>1.002291e+00</td>\n",
       "      <td>1.002291e+00</td>\n",
       "      <td>1.002291e+00</td>\n",
       "      <td>1.002291e+00</td>\n",
       "      <td>1.002291e+00</td>\n",
       "      <td>1.002291e+00</td>\n",
       "      <td>1.002291e+00</td>\n",
       "      <td>1.002291e+00</td>\n",
       "      <td>1.002291e+00</td>\n",
       "    </tr>\n",
       "    <tr>\n",
       "      <th>min</th>\n",
       "      <td>-3.864340e+00</td>\n",
       "      <td>-3.004277e+00</td>\n",
       "      <td>-2.834792e+00</td>\n",
       "      <td>-4.919980e+00</td>\n",
       "      <td>-3.368354e+00</td>\n",
       "      <td>-2.596777e+00</td>\n",
       "      <td>-2.833104e+00</td>\n",
       "      <td>-2.399538e+00</td>\n",
       "      <td>-3.462072e+00</td>\n",
       "      <td>-2.860781e+00</td>\n",
       "      <td>-3.452302e+00</td>\n",
       "      <td>-3.293396e+00</td>\n",
       "      <td>-3.954055e+00</td>\n",
       "      <td>-6.042891e+00</td>\n",
       "      <td>-3.854579e+00</td>\n",
       "      <td>-4.603088e+00</td>\n",
       "      <td>-2.312119e+00</td>\n",
       "      <td>-9.160974e+00</td>\n",
       "      <td>-1.052430e+01</td>\n",
       "    </tr>\n",
       "    <tr>\n",
       "      <th>25%</th>\n",
       "      <td>-3.834754e-01</td>\n",
       "      <td>-6.242652e-01</td>\n",
       "      <td>-5.620981e-01</td>\n",
       "      <td>-5.724524e-01</td>\n",
       "      <td>-6.381705e-01</td>\n",
       "      <td>-5.820169e-01</td>\n",
       "      <td>-6.755867e-01</td>\n",
       "      <td>-5.916857e-01</td>\n",
       "      <td>-5.210450e-01</td>\n",
       "      <td>-6.553694e-01</td>\n",
       "      <td>-4.585748e-01</td>\n",
       "      <td>-5.755291e-01</td>\n",
       "      <td>-4.624863e-01</td>\n",
       "      <td>-2.169760e-01</td>\n",
       "      <td>-5.948099e-01</td>\n",
       "      <td>-5.490508e-01</td>\n",
       "      <td>-7.539266e-01</td>\n",
       "      <td>-2.772837e-01</td>\n",
       "      <td>-4.405917e-02</td>\n",
       "    </tr>\n",
       "    <tr>\n",
       "      <th>50%</th>\n",
       "      <td>2.178426e-02</td>\n",
       "      <td>-2.571788e-02</td>\n",
       "      <td>-6.522170e-02</td>\n",
       "      <td>-9.491364e-02</td>\n",
       "      <td>-1.007306e-01</td>\n",
       "      <td>-7.720205e-02</td>\n",
       "      <td>9.754577e-03</td>\n",
       "      <td>-5.351127e-02</td>\n",
       "      <td>-4.740022e-02</td>\n",
       "      <td>4.555298e-02</td>\n",
       "      <td>3.360083e-02</td>\n",
       "      <td>-8.262975e-02</td>\n",
       "      <td>-1.487170e-01</td>\n",
       "      <td>4.385546e-02</td>\n",
       "      <td>1.456877e-02</td>\n",
       "      <td>-1.389741e-02</td>\n",
       "      <td>1.084102e-01</td>\n",
       "      <td>-7.173693e-02</td>\n",
       "      <td>2.018497e-02</td>\n",
       "    </tr>\n",
       "    <tr>\n",
       "      <th>75%</th>\n",
       "      <td>4.560366e-01</td>\n",
       "      <td>6.162618e-01</td>\n",
       "      <td>6.030152e-01</td>\n",
       "      <td>5.686699e-01</td>\n",
       "      <td>6.629737e-01</td>\n",
       "      <td>6.141918e-01</td>\n",
       "      <td>7.416108e-01</td>\n",
       "      <td>7.399005e-01</td>\n",
       "      <td>4.824446e-01</td>\n",
       "      <td>6.462496e-01</td>\n",
       "      <td>4.711906e-01</td>\n",
       "      <td>5.529895e-01</td>\n",
       "      <td>5.433786e-01</td>\n",
       "      <td>3.000042e-01</td>\n",
       "      <td>6.391738e-01</td>\n",
       "      <td>6.175646e-01</td>\n",
       "      <td>6.226227e-01</td>\n",
       "      <td>2.437991e-01</td>\n",
       "      <td>6.372902e-02</td>\n",
       "    </tr>\n",
       "    <tr>\n",
       "      <th>max</th>\n",
       "      <td>4.638354e+00</td>\n",
       "      <td>3.042289e+00</td>\n",
       "      <td>2.742120e+00</td>\n",
       "      <td>3.508829e+00</td>\n",
       "      <td>2.925619e+00</td>\n",
       "      <td>2.399775e+00</td>\n",
       "      <td>2.634560e+00</td>\n",
       "      <td>2.574808e+00</td>\n",
       "      <td>2.775402e+00</td>\n",
       "      <td>3.342907e+00</td>\n",
       "      <td>3.607041e+00</td>\n",
       "      <td>2.839295e+00</td>\n",
       "      <td>6.349962e+00</td>\n",
       "      <td>9.052354e+00</td>\n",
       "      <td>3.001611e+00</td>\n",
       "      <td>3.224333e+00</td>\n",
       "      <td>2.948375e+00</td>\n",
       "      <td>6.018238e+00</td>\n",
       "      <td>7.507126e+00</td>\n",
       "    </tr>\n",
       "  </tbody>\n",
       "</table>\n",
       "</div>"
      ],
      "text/plain": [
       "        Wage CPI_LG        WTI_LG  Heating Oil_LG     Copper_LG      Sugar_LG  \\\n",
       "count  2.190000e+02  2.190000e+02    2.190000e+02  2.190000e+02  2.190000e+02   \n",
       "mean   1.158383e-16  1.064597e-17    2.547430e-17 -3.127651e-17  4.207695e-17   \n",
       "std    1.002291e+00  1.002291e+00    1.002291e+00  1.002291e+00  1.002291e+00   \n",
       "min   -3.864340e+00 -3.004277e+00   -2.834792e+00 -4.919980e+00 -3.368354e+00   \n",
       "25%   -3.834754e-01 -6.242652e-01   -5.620981e-01 -5.724524e-01 -6.381705e-01   \n",
       "50%    2.178426e-02 -2.571788e-02   -6.522170e-02 -9.491364e-02 -1.007306e-01   \n",
       "75%    4.560366e-01  6.162618e-01    6.030152e-01  5.686699e-01  6.629737e-01   \n",
       "max    4.638354e+00  3.042289e+00    2.742120e+00  3.508829e+00  2.925619e+00   \n",
       "\n",
       "       Natural Gas_LG     Cattle_LG  Lean Hogs_LG   Soybeans_LG     Lumber_LG  \\\n",
       "count    2.190000e+02  2.190000e+02  2.190000e+02  2.190000e+02  2.190000e+02   \n",
       "mean     1.216683e-17 -2.952990e-17  1.267378e-18  2.914969e-17  1.216683e-17   \n",
       "std      1.002291e+00  1.002291e+00  1.002291e+00  1.002291e+00  1.002291e+00   \n",
       "min     -2.596777e+00 -2.833104e+00 -2.399538e+00 -3.462072e+00 -2.860781e+00   \n",
       "25%     -5.820169e-01 -6.755867e-01 -5.916857e-01 -5.210450e-01 -6.553694e-01   \n",
       "50%     -7.720205e-02  9.754577e-03 -5.351127e-02 -4.740022e-02  4.555298e-02   \n",
       "75%      6.141918e-01  7.416108e-01  7.399005e-01  4.824446e-01  6.462496e-01   \n",
       "max      2.399775e+00  2.634560e+00  2.574808e+00  2.775402e+00  3.342907e+00   \n",
       "\n",
       "       Capacity Utilization_LG       Corn_LG  M2 Velocity_LG        GDP_LG  \\\n",
       "count             2.190000e+02  2.190000e+02    2.190000e+02  2.190000e+02   \n",
       "mean             -2.306628e-17 -4.233042e-17   -2.534756e-18 -1.069667e-16   \n",
       "std               1.002291e+00  1.002291e+00    1.002291e+00  1.002291e+00   \n",
       "min              -3.452302e+00 -3.293396e+00   -3.954055e+00 -6.042891e+00   \n",
       "25%              -4.585748e-01 -5.755291e-01   -4.624863e-01 -2.169760e-01   \n",
       "50%               3.360083e-02 -8.262975e-02   -1.487170e-01  4.385546e-02   \n",
       "75%               4.711906e-01  5.529895e-01    5.433786e-01  3.000042e-01   \n",
       "max               3.607041e+00  2.839295e+00    6.349962e+00  9.052354e+00   \n",
       "\n",
       "           Wheat_LG        PMI_LG  USD Index_LG  Unemployment Rate_LG  \\\n",
       "count  2.190000e+02  2.190000e+02  2.190000e+02          2.190000e+02   \n",
       "mean   2.154542e-17 -2.712189e-17  1.267378e-17          1.115293e-17   \n",
       "std    1.002291e+00  1.002291e+00  1.002291e+00          1.002291e+00   \n",
       "min   -3.854579e+00 -4.603088e+00 -2.312119e+00         -9.160974e+00   \n",
       "25%   -5.948099e-01 -5.490508e-01 -7.539266e-01         -2.772837e-01   \n",
       "50%    1.456877e-02 -1.389741e-02  1.084102e-01         -7.173693e-02   \n",
       "75%    6.391738e-01  6.175646e-01  6.226227e-01          2.437991e-01   \n",
       "max    3.001611e+00  3.224333e+00  2.948375e+00          6.018238e+00   \n",
       "\n",
       "       Initial Jobless Claims_LG  \n",
       "count               2.190000e+02  \n",
       "mean                1.901067e-17  \n",
       "std                 1.002291e+00  \n",
       "min                -1.052430e+01  \n",
       "25%                -4.405917e-02  \n",
       "50%                 2.018497e-02  \n",
       "75%                 6.372902e-02  \n",
       "max                 7.507126e+00  "
      ]
     },
     "execution_count": 112,
     "metadata": {},
     "output_type": "execute_result"
    }
   ],
   "source": [
    "X_train_LG.describe()"
   ]
  },
  {
   "cell_type": "markdown",
   "metadata": {},
   "source": [
    "All have a **Standard Deviation** `std` of 1 & A **Mean** `mean` of 0 so we will continue to the next."
   ]
  },
  {
   "cell_type": "markdown",
   "metadata": {},
   "source": [
    "`X_test_LG` will not be fitted."
   ]
  },
  {
   "cell_type": "code",
   "execution_count": 113,
   "metadata": {},
   "outputs": [],
   "source": [
    "X_test_LG[['Wage CPI_LG','WTI_LG','Heating Oil_LG','Copper_LG','Sugar_LG',\n",
    "                     'Natural Gas_LG','Cattle_LG','Lean Hogs_LG','Soybeans_LG','Lumber_LG',\n",
    "                     'Capacity Utilization_LG','Corn_LG','M2 Velocity_LG','GDP_LG','Wheat_LG','PMI_LG',\n",
    "                     'USD Index_LG','Unemployment Rate_LG','Initial Jobless Claims_LG']] = LG_scaler.transform(X_test_LG[[\n",
    "    'Wage CPI','WTI','Heating Oil','Copper','Sugar',\n",
    "                     'Natural Gas','Cattle','Lean Hogs','Soybeans','Lumber',\n",
    "                     'Capacity Utilization','Corn','M2 Velocity','GDP','Wheat','PMI',\n",
    "                     'USD Index','Unemployment Rate','Initial Jobless Claims']])"
   ]
  },
  {
   "cell_type": "code",
   "execution_count": 114,
   "metadata": {},
   "outputs": [
    {
     "data": {
      "text/plain": [
       "Index(['Wage CPI', 'WTI', 'Heating Oil', 'Copper', 'Sugar', 'Natural Gas',\n",
       "       'Cattle', 'Lean Hogs', 'Soybeans', 'Lumber', 'Capacity Utilization',\n",
       "       'Corn', 'M2 Velocity', 'GDP', 'Wheat', 'PMI', 'USD Index',\n",
       "       'Unemployment Rate', 'Initial Jobless Claims', 'Wage CPI_LG', 'WTI_LG',\n",
       "       'Heating Oil_LG', 'Copper_LG', 'Sugar_LG', 'Natural Gas_LG',\n",
       "       'Cattle_LG', 'Lean Hogs_LG', 'Soybeans_LG', 'Lumber_LG',\n",
       "       'Capacity Utilization_LG', 'Corn_LG', 'M2 Velocity_LG', 'GDP_LG',\n",
       "       'Wheat_LG', 'PMI_LG', 'USD Index_LG', 'Unemployment Rate_LG',\n",
       "       'Initial Jobless Claims_LG'],\n",
       "      dtype='object')"
      ]
     },
     "execution_count": 114,
     "metadata": {},
     "output_type": "execute_result"
    }
   ],
   "source": [
    "X_test_LG.columns"
   ]
  },
  {
   "cell_type": "code",
   "execution_count": 115,
   "metadata": {},
   "outputs": [],
   "source": [
    "X_test_LG.drop(columns=prev_cols, inplace=True)"
   ]
  },
  {
   "cell_type": "code",
   "execution_count": 116,
   "metadata": {},
   "outputs": [
    {
     "data": {
      "text/html": [
       "<div>\n",
       "<style scoped>\n",
       "    .dataframe tbody tr th:only-of-type {\n",
       "        vertical-align: middle;\n",
       "    }\n",
       "\n",
       "    .dataframe tbody tr th {\n",
       "        vertical-align: top;\n",
       "    }\n",
       "\n",
       "    .dataframe thead th {\n",
       "        text-align: right;\n",
       "    }\n",
       "</style>\n",
       "<table border=\"1\" class=\"dataframe\">\n",
       "  <thead>\n",
       "    <tr style=\"text-align: right;\">\n",
       "      <th></th>\n",
       "      <th>Wage CPI_LG</th>\n",
       "      <th>WTI_LG</th>\n",
       "      <th>Heating Oil_LG</th>\n",
       "      <th>Copper_LG</th>\n",
       "      <th>Sugar_LG</th>\n",
       "      <th>Natural Gas_LG</th>\n",
       "      <th>Cattle_LG</th>\n",
       "      <th>Lean Hogs_LG</th>\n",
       "      <th>Soybeans_LG</th>\n",
       "      <th>Lumber_LG</th>\n",
       "      <th>Capacity Utilization_LG</th>\n",
       "      <th>Corn_LG</th>\n",
       "      <th>M2 Velocity_LG</th>\n",
       "      <th>GDP_LG</th>\n",
       "      <th>Wheat_LG</th>\n",
       "      <th>PMI_LG</th>\n",
       "      <th>USD Index_LG</th>\n",
       "      <th>Unemployment Rate_LG</th>\n",
       "      <th>Initial Jobless Claims_LG</th>\n",
       "    </tr>\n",
       "  </thead>\n",
       "  <tbody>\n",
       "    <tr>\n",
       "      <th>count</th>\n",
       "      <td>94.000000</td>\n",
       "      <td>94.000000</td>\n",
       "      <td>94.000000</td>\n",
       "      <td>94.000000</td>\n",
       "      <td>94.000000</td>\n",
       "      <td>94.000000</td>\n",
       "      <td>94.000000</td>\n",
       "      <td>94.000000</td>\n",
       "      <td>94.000000</td>\n",
       "      <td>94.000000</td>\n",
       "      <td>94.000000</td>\n",
       "      <td>94.000000</td>\n",
       "      <td>94.000000</td>\n",
       "      <td>94.000000</td>\n",
       "      <td>94.000000</td>\n",
       "      <td>94.000000</td>\n",
       "      <td>94.000000</td>\n",
       "      <td>94.000000</td>\n",
       "      <td>94.000000</td>\n",
       "    </tr>\n",
       "    <tr>\n",
       "      <th>mean</th>\n",
       "      <td>-0.048045</td>\n",
       "      <td>0.003998</td>\n",
       "      <td>-0.047118</td>\n",
       "      <td>-0.161938</td>\n",
       "      <td>0.123452</td>\n",
       "      <td>-0.057807</td>\n",
       "      <td>-0.041445</td>\n",
       "      <td>0.041096</td>\n",
       "      <td>0.007478</td>\n",
       "      <td>0.124216</td>\n",
       "      <td>0.531796</td>\n",
       "      <td>-0.013118</td>\n",
       "      <td>0.123268</td>\n",
       "      <td>0.159476</td>\n",
       "      <td>-0.022034</td>\n",
       "      <td>-0.029349</td>\n",
       "      <td>0.083582</td>\n",
       "      <td>-0.422558</td>\n",
       "      <td>-0.431008</td>\n",
       "    </tr>\n",
       "    <tr>\n",
       "      <th>std</th>\n",
       "      <td>0.907698</td>\n",
       "      <td>1.021481</td>\n",
       "      <td>0.853147</td>\n",
       "      <td>0.990601</td>\n",
       "      <td>0.899065</td>\n",
       "      <td>1.013582</td>\n",
       "      <td>0.983241</td>\n",
       "      <td>1.007719</td>\n",
       "      <td>1.095473</td>\n",
       "      <td>1.278398</td>\n",
       "      <td>3.514545</td>\n",
       "      <td>1.220314</td>\n",
       "      <td>1.357368</td>\n",
       "      <td>1.550596</td>\n",
       "      <td>1.001748</td>\n",
       "      <td>0.990415</td>\n",
       "      <td>0.957555</td>\n",
       "      <td>2.500914</td>\n",
       "      <td>2.741489</td>\n",
       "    </tr>\n",
       "    <tr>\n",
       "      <th>min</th>\n",
       "      <td>-4.138783</td>\n",
       "      <td>-3.022382</td>\n",
       "      <td>-2.767646</td>\n",
       "      <td>-4.805847</td>\n",
       "      <td>-1.616651</td>\n",
       "      <td>-2.491133</td>\n",
       "      <td>-2.577495</td>\n",
       "      <td>-1.646983</td>\n",
       "      <td>-2.729864</td>\n",
       "      <td>-2.644070</td>\n",
       "      <td>-3.479724</td>\n",
       "      <td>-2.947103</td>\n",
       "      <td>-3.954055</td>\n",
       "      <td>-6.042891</td>\n",
       "      <td>-2.472956</td>\n",
       "      <td>-3.629967</td>\n",
       "      <td>-2.250001</td>\n",
       "      <td>-16.854763</td>\n",
       "      <td>-23.033517</td>\n",
       "    </tr>\n",
       "    <tr>\n",
       "      <th>25%</th>\n",
       "      <td>-0.530851</td>\n",
       "      <td>-0.520854</td>\n",
       "      <td>-0.541442</td>\n",
       "      <td>-0.729626</td>\n",
       "      <td>-0.462850</td>\n",
       "      <td>-0.735979</td>\n",
       "      <td>-0.772889</td>\n",
       "      <td>-0.707323</td>\n",
       "      <td>-0.664382</td>\n",
       "      <td>-0.766113</td>\n",
       "      <td>-0.393630</td>\n",
       "      <td>-0.695743</td>\n",
       "      <td>-0.457238</td>\n",
       "      <td>-0.149510</td>\n",
       "      <td>-0.741011</td>\n",
       "      <td>-0.647270</td>\n",
       "      <td>-0.553747</td>\n",
       "      <td>-0.348457</td>\n",
       "      <td>-0.042083</td>\n",
       "    </tr>\n",
       "    <tr>\n",
       "      <th>50%</th>\n",
       "      <td>0.070022</td>\n",
       "      <td>-0.042497</td>\n",
       "      <td>-0.124654</td>\n",
       "      <td>-0.124933</td>\n",
       "      <td>0.020949</td>\n",
       "      <td>-0.052213</td>\n",
       "      <td>0.006270</td>\n",
       "      <td>-0.101180</td>\n",
       "      <td>-0.155957</td>\n",
       "      <td>0.007986</td>\n",
       "      <td>0.086237</td>\n",
       "      <td>-0.034993</td>\n",
       "      <td>-0.006430</td>\n",
       "      <td>0.070792</td>\n",
       "      <td>-0.025737</td>\n",
       "      <td>0.008901</td>\n",
       "      <td>0.053312</td>\n",
       "      <td>-0.138910</td>\n",
       "      <td>0.010413</td>\n",
       "    </tr>\n",
       "    <tr>\n",
       "      <th>75%</th>\n",
       "      <td>0.388889</td>\n",
       "      <td>0.528902</td>\n",
       "      <td>0.395991</td>\n",
       "      <td>0.354593</td>\n",
       "      <td>0.681843</td>\n",
       "      <td>0.698256</td>\n",
       "      <td>0.681600</td>\n",
       "      <td>0.681418</td>\n",
       "      <td>0.764234</td>\n",
       "      <td>0.861282</td>\n",
       "      <td>0.450895</td>\n",
       "      <td>0.475157</td>\n",
       "      <td>0.614669</td>\n",
       "      <td>0.428787</td>\n",
       "      <td>0.599602</td>\n",
       "      <td>0.458863</td>\n",
       "      <td>0.758699</td>\n",
       "      <td>0.121570</td>\n",
       "      <td>0.048695</td>\n",
       "    </tr>\n",
       "    <tr>\n",
       "      <th>max</th>\n",
       "      <td>2.758862</td>\n",
       "      <td>4.589840</td>\n",
       "      <td>2.042987</td>\n",
       "      <td>2.563405</td>\n",
       "      <td>2.545349</td>\n",
       "      <td>1.725179</td>\n",
       "      <td>2.948846</td>\n",
       "      <td>2.555352</td>\n",
       "      <td>2.956581</td>\n",
       "      <td>4.746567</td>\n",
       "      <td>29.132633</td>\n",
       "      <td>3.727261</td>\n",
       "      <td>6.349962</td>\n",
       "      <td>9.052354</td>\n",
       "      <td>3.005600</td>\n",
       "      <td>2.845329</td>\n",
       "      <td>2.295675</td>\n",
       "      <td>6.893727</td>\n",
       "      <td>2.709870</td>\n",
       "    </tr>\n",
       "  </tbody>\n",
       "</table>\n",
       "</div>"
      ],
      "text/plain": [
       "       Wage CPI_LG     WTI_LG  Heating Oil_LG  Copper_LG   Sugar_LG  \\\n",
       "count    94.000000  94.000000       94.000000  94.000000  94.000000   \n",
       "mean     -0.048045   0.003998       -0.047118  -0.161938   0.123452   \n",
       "std       0.907698   1.021481        0.853147   0.990601   0.899065   \n",
       "min      -4.138783  -3.022382       -2.767646  -4.805847  -1.616651   \n",
       "25%      -0.530851  -0.520854       -0.541442  -0.729626  -0.462850   \n",
       "50%       0.070022  -0.042497       -0.124654  -0.124933   0.020949   \n",
       "75%       0.388889   0.528902        0.395991   0.354593   0.681843   \n",
       "max       2.758862   4.589840        2.042987   2.563405   2.545349   \n",
       "\n",
       "       Natural Gas_LG  Cattle_LG  Lean Hogs_LG  Soybeans_LG  Lumber_LG  \\\n",
       "count       94.000000  94.000000     94.000000    94.000000  94.000000   \n",
       "mean        -0.057807  -0.041445      0.041096     0.007478   0.124216   \n",
       "std          1.013582   0.983241      1.007719     1.095473   1.278398   \n",
       "min         -2.491133  -2.577495     -1.646983    -2.729864  -2.644070   \n",
       "25%         -0.735979  -0.772889     -0.707323    -0.664382  -0.766113   \n",
       "50%         -0.052213   0.006270     -0.101180    -0.155957   0.007986   \n",
       "75%          0.698256   0.681600      0.681418     0.764234   0.861282   \n",
       "max          1.725179   2.948846      2.555352     2.956581   4.746567   \n",
       "\n",
       "       Capacity Utilization_LG    Corn_LG  M2 Velocity_LG     GDP_LG  \\\n",
       "count                94.000000  94.000000       94.000000  94.000000   \n",
       "mean                  0.531796  -0.013118        0.123268   0.159476   \n",
       "std                   3.514545   1.220314        1.357368   1.550596   \n",
       "min                  -3.479724  -2.947103       -3.954055  -6.042891   \n",
       "25%                  -0.393630  -0.695743       -0.457238  -0.149510   \n",
       "50%                   0.086237  -0.034993       -0.006430   0.070792   \n",
       "75%                   0.450895   0.475157        0.614669   0.428787   \n",
       "max                  29.132633   3.727261        6.349962   9.052354   \n",
       "\n",
       "        Wheat_LG     PMI_LG  USD Index_LG  Unemployment Rate_LG  \\\n",
       "count  94.000000  94.000000     94.000000             94.000000   \n",
       "mean   -0.022034  -0.029349      0.083582             -0.422558   \n",
       "std     1.001748   0.990415      0.957555              2.500914   \n",
       "min    -2.472956  -3.629967     -2.250001            -16.854763   \n",
       "25%    -0.741011  -0.647270     -0.553747             -0.348457   \n",
       "50%    -0.025737   0.008901      0.053312             -0.138910   \n",
       "75%     0.599602   0.458863      0.758699              0.121570   \n",
       "max     3.005600   2.845329      2.295675              6.893727   \n",
       "\n",
       "       Initial Jobless Claims_LG  \n",
       "count                  94.000000  \n",
       "mean                   -0.431008  \n",
       "std                     2.741489  \n",
       "min                   -23.033517  \n",
       "25%                    -0.042083  \n",
       "50%                     0.010413  \n",
       "75%                     0.048695  \n",
       "max                     2.709870  "
      ]
     },
     "execution_count": 116,
     "metadata": {},
     "output_type": "execute_result"
    }
   ],
   "source": [
    "X_test_LG.describe()"
   ]
  },
  {
   "cell_type": "markdown",
   "metadata": {},
   "source": [
    "Next `y_train_LG`"
   ]
  },
  {
   "cell_type": "code",
   "execution_count": 117,
   "metadata": {},
   "outputs": [
    {
     "data": {
      "text/plain": [
       "PowerTransformer()"
      ]
     },
     "execution_count": 117,
     "metadata": {},
     "output_type": "execute_result"
    }
   ],
   "source": [
    "LG_scaler.fit(y_train_LG[['Inflation']])"
   ]
  },
  {
   "cell_type": "code",
   "execution_count": 118,
   "metadata": {},
   "outputs": [],
   "source": [
    "y_train_LG['Inflation_LG'] = LG_scaler.transform(y_train_LG[['Inflation']])\n",
    "y_train_LG.drop(columns='Inflation', inplace=True)"
   ]
  },
  {
   "cell_type": "code",
   "execution_count": 119,
   "metadata": {},
   "outputs": [
    {
     "data": {
      "text/html": [
       "<div>\n",
       "<style scoped>\n",
       "    .dataframe tbody tr th:only-of-type {\n",
       "        vertical-align: middle;\n",
       "    }\n",
       "\n",
       "    .dataframe tbody tr th {\n",
       "        vertical-align: top;\n",
       "    }\n",
       "\n",
       "    .dataframe thead th {\n",
       "        text-align: right;\n",
       "    }\n",
       "</style>\n",
       "<table border=\"1\" class=\"dataframe\">\n",
       "  <thead>\n",
       "    <tr style=\"text-align: right;\">\n",
       "      <th></th>\n",
       "      <th>Inflation_LG</th>\n",
       "    </tr>\n",
       "  </thead>\n",
       "  <tbody>\n",
       "    <tr>\n",
       "      <th>count</th>\n",
       "      <td>2.190000e+02</td>\n",
       "    </tr>\n",
       "    <tr>\n",
       "      <th>mean</th>\n",
       "      <td>-1.520853e-18</td>\n",
       "    </tr>\n",
       "    <tr>\n",
       "      <th>std</th>\n",
       "      <td>1.002291e+00</td>\n",
       "    </tr>\n",
       "    <tr>\n",
       "      <th>min</th>\n",
       "      <td>-5.316536e+00</td>\n",
       "    </tr>\n",
       "    <tr>\n",
       "      <th>25%</th>\n",
       "      <td>-4.631936e-01</td>\n",
       "    </tr>\n",
       "    <tr>\n",
       "      <th>50%</th>\n",
       "      <td>9.613664e-03</td>\n",
       "    </tr>\n",
       "    <tr>\n",
       "      <th>75%</th>\n",
       "      <td>4.287203e-01</td>\n",
       "    </tr>\n",
       "    <tr>\n",
       "      <th>max</th>\n",
       "      <td>4.998598e+00</td>\n",
       "    </tr>\n",
       "  </tbody>\n",
       "</table>\n",
       "</div>"
      ],
      "text/plain": [
       "       Inflation_LG\n",
       "count  2.190000e+02\n",
       "mean  -1.520853e-18\n",
       "std    1.002291e+00\n",
       "min   -5.316536e+00\n",
       "25%   -4.631936e-01\n",
       "50%    9.613664e-03\n",
       "75%    4.287203e-01\n",
       "max    4.998598e+00"
      ]
     },
     "execution_count": 119,
     "metadata": {},
     "output_type": "execute_result"
    }
   ],
   "source": [
    "y_train_LG.describe()"
   ]
  },
  {
   "cell_type": "markdown",
   "metadata": {},
   "source": [
    "`y_test_LG` will not be 'fitted'."
   ]
  },
  {
   "cell_type": "code",
   "execution_count": 120,
   "metadata": {},
   "outputs": [],
   "source": [
    "y_test_LG['Inflation_LG'] = LG_scaler.transform(y_test_LG[['Inflation']])\n",
    "y_test_LG.drop(columns='Inflation', inplace=True)"
   ]
  },
  {
   "cell_type": "code",
   "execution_count": 121,
   "metadata": {},
   "outputs": [
    {
     "data": {
      "text/html": [
       "<div>\n",
       "<style scoped>\n",
       "    .dataframe tbody tr th:only-of-type {\n",
       "        vertical-align: middle;\n",
       "    }\n",
       "\n",
       "    .dataframe tbody tr th {\n",
       "        vertical-align: top;\n",
       "    }\n",
       "\n",
       "    .dataframe thead th {\n",
       "        text-align: right;\n",
       "    }\n",
       "</style>\n",
       "<table border=\"1\" class=\"dataframe\">\n",
       "  <thead>\n",
       "    <tr style=\"text-align: right;\">\n",
       "      <th></th>\n",
       "      <th>Inflation_LG</th>\n",
       "    </tr>\n",
       "  </thead>\n",
       "  <tbody>\n",
       "    <tr>\n",
       "      <th>count</th>\n",
       "      <td>94.000000</td>\n",
       "    </tr>\n",
       "    <tr>\n",
       "      <th>mean</th>\n",
       "      <td>0.117902</td>\n",
       "    </tr>\n",
       "    <tr>\n",
       "      <th>std</th>\n",
       "      <td>0.892094</td>\n",
       "    </tr>\n",
       "    <tr>\n",
       "      <th>min</th>\n",
       "      <td>-4.000923</td>\n",
       "    </tr>\n",
       "    <tr>\n",
       "      <th>25%</th>\n",
       "      <td>-0.301644</td>\n",
       "    </tr>\n",
       "    <tr>\n",
       "      <th>50%</th>\n",
       "      <td>0.048869</td>\n",
       "    </tr>\n",
       "    <tr>\n",
       "      <th>75%</th>\n",
       "      <td>0.493321</td>\n",
       "    </tr>\n",
       "    <tr>\n",
       "      <th>max</th>\n",
       "      <td>3.483072</td>\n",
       "    </tr>\n",
       "  </tbody>\n",
       "</table>\n",
       "</div>"
      ],
      "text/plain": [
       "       Inflation_LG\n",
       "count     94.000000\n",
       "mean       0.117902\n",
       "std        0.892094\n",
       "min       -4.000923\n",
       "25%       -0.301644\n",
       "50%        0.048869\n",
       "75%        0.493321\n",
       "max        3.483072"
      ]
     },
     "execution_count": 121,
     "metadata": {},
     "output_type": "execute_result"
    }
   ],
   "source": [
    "y_test_LG.describe()"
   ]
  },
  {
   "cell_type": "markdown",
   "metadata": {},
   "source": [
    "Finally `y_tr_pred_LG`"
   ]
  },
  {
   "cell_type": "code",
   "execution_count": 122,
   "metadata": {},
   "outputs": [],
   "source": [
    "reg_new_LG = LinearRegression()"
   ]
  },
  {
   "cell_type": "code",
   "execution_count": 123,
   "metadata": {},
   "outputs": [
    {
     "name": "stderr",
     "output_type": "stream",
     "text": [
      "C:\\Users\\rands\\anaconda3\\lib\\site-packages\\sklearn\\utils\\validation.py:67: FutureWarning: Pass dual=     Inflation_LG\n",
      "79      -0.081531\n",
      "147      0.934459\n",
      "143      0.223646\n",
      "72      -0.333447\n",
      "305     -0.332291\n",
      "..            ...\n",
      "188     -0.086196\n",
      "71      -0.391181\n",
      "106     -0.073365\n",
      "270      0.269747\n",
      "102     -0.558015\n",
      "\n",
      "[219 rows x 1 columns] as keyword args. From version 0.25 passing these as positional arguments will result in an error\n",
      "  warnings.warn(\"Pass {} as keyword args. From version 0.25 \"\n"
     ]
    }
   ],
   "source": [
    "reg_new_LG = LogisticRegression(X_train_LG,y_train_LG)"
   ]
  },
  {
   "cell_type": "code",
   "execution_count": 124,
   "metadata": {},
   "outputs": [],
   "source": [
    "lm_LG = LinearRegression().fit(X_train_LG, y_train_LG)"
   ]
  },
  {
   "cell_type": "code",
   "execution_count": 125,
   "metadata": {},
   "outputs": [],
   "source": [
    "y_tr_pred_LG = lm_LG.predict(X_train_LG)\n",
    "y_te_pred_LG = lm_LG.predict(X_test_LG)"
   ]
  },
  {
   "cell_type": "code",
   "execution_count": 126,
   "metadata": {},
   "outputs": [
    {
     "data": {
      "text/plain": [
       "(0.4049094917056897, -0.13878637291967255)"
      ]
     },
     "execution_count": 126,
     "metadata": {},
     "output_type": "execute_result"
    }
   ],
   "source": [
    "median_r2_LG = r2_score(y_train_LG, y_tr_pred_LG), r2_score(y_test_LG, y_te_pred_LG)\n",
    "median_r2_LG"
   ]
  },
  {
   "cell_type": "code",
   "execution_count": 127,
   "metadata": {},
   "outputs": [
    {
     "data": {
      "text/plain": [
       "(0.5348285108080709, 0.6144970158420225)"
      ]
     },
     "execution_count": 127,
     "metadata": {},
     "output_type": "execute_result"
    }
   ],
   "source": [
    "median_mae_LG = mean_absolute_error( y_train_LG, y_tr_pred_LG), mean_absolute_error( y_test_LG, y_te_pred_LG )\n",
    "median_mae_LG"
   ]
  },
  {
   "cell_type": "code",
   "execution_count": 128,
   "metadata": {
    "scrolled": true
   },
   "outputs": [
    {
     "data": {
      "text/plain": [
       "(0.5950905082943103, 0.8966410257467012)"
      ]
     },
     "execution_count": 128,
     "metadata": {},
     "output_type": "execute_result"
    }
   ],
   "source": [
    "median_mse_LG = mean_squared_error( y_train_LG, y_tr_pred_LG ), mean_squared_error( y_test_LG, y_te_pred_LG )\n",
    "median_mse_LG"
   ]
  },
  {
   "cell_type": "markdown",
   "metadata": {},
   "source": [
    "**Standardization ( X only )** | *Assignment to its respective data frames.*"
   ]
  },
  {
   "cell_type": "code",
   "execution_count": 129,
   "metadata": {},
   "outputs": [],
   "source": [
    "X_train_SS_y_uns = pd.DataFrame(X_train.copy())\n",
    "X_test_SS_y_uns = pd.DataFrame(X_test.copy())\n",
    "y_train_SS_y_uns = pd.DataFrame(y_train.copy())\n",
    "y_test_SS_y_uns = pd.DataFrame(y_test.copy())\n",
    "y_tr_pred_SS_y_uns = pd.DataFrame(y_pred.copy())"
   ]
  },
  {
   "cell_type": "markdown",
   "metadata": {},
   "source": [
    "**MinMaxScaler ( X only )** | *Assignment to its respective data frames.*"
   ]
  },
  {
   "cell_type": "code",
   "execution_count": 130,
   "metadata": {},
   "outputs": [],
   "source": [
    "X_train_MM_y_uns = pd.DataFrame(X_train.copy())\n",
    "X_test_MM_y_uns = pd.DataFrame(X_test.copy())\n",
    "y_train_MM_y_uns = pd.DataFrame(y_train.copy())\n",
    "y_test_MM_y_uns = pd.DataFrame(y_test.copy())\n",
    "y_tr_pred_MM_y_uns = pd.DataFrame(y_pred.copy())"
   ]
  },
  {
   "cell_type": "markdown",
   "metadata": {},
   "source": [
    "**Log Transformation ( X only )** | *Assignment to its respective data frames.*"
   ]
  },
  {
   "cell_type": "code",
   "execution_count": 131,
   "metadata": {},
   "outputs": [],
   "source": [
    "X_train_LG_y_uns = pd.DataFrame(X_train.copy())\n",
    "X_test_LG_y_uns = pd.DataFrame(X_test.copy())\n",
    "y_train_LG_y_uns = pd.DataFrame(y_train.copy())\n",
    "y_test_LG_y_uns = pd.DataFrame(y_test.copy())\n",
    "y_tr_pred_LG_y_uns = pd.DataFrame(y_pred.copy())"
   ]
  },
  {
   "cell_type": "markdown",
   "metadata": {},
   "source": [
    "## 3.6.4 Standardization ( X scaled only )<a id='ss_x'></a>"
   ]
  },
  {
   "cell_type": "markdown",
   "metadata": {},
   "source": [
    "As a reminder, **we are running through the same process albeit not scaling `y`.**"
   ]
  },
  {
   "cell_type": "code",
   "execution_count": 132,
   "metadata": {},
   "outputs": [],
   "source": [
    "SS_scaler = StandardScaler()"
   ]
  },
  {
   "cell_type": "markdown",
   "metadata": {},
   "source": [
    "First `X_train_SS_y_uns`"
   ]
  },
  {
   "cell_type": "code",
   "execution_count": 133,
   "metadata": {},
   "outputs": [
    {
     "data": {
      "text/plain": [
       "StandardScaler()"
      ]
     },
     "execution_count": 133,
     "metadata": {},
     "output_type": "execute_result"
    }
   ],
   "source": [
    "SS_scaler.fit(X_train_SS_y_uns[['Wage CPI','WTI','Heating Oil','Copper','Sugar',\n",
    "                     'Natural Gas','Cattle','Lean Hogs','Soybeans','Lumber',\n",
    "                     'Capacity Utilization','Corn','M2 Velocity','GDP','Wheat','PMI',\n",
    "                     'USD Index','Unemployment Rate','Initial Jobless Claims']])"
   ]
  },
  {
   "cell_type": "code",
   "execution_count": 134,
   "metadata": {},
   "outputs": [],
   "source": [
    "X_train_SS_y_uns[['Wage CPI_SS_yun','WTI_SS_yun','Heating Oil_SS_yun','Copper_SS_yun','Sugar_SS_yun',\n",
    "                     'Natural Gas_SS_yun','Cattle_SS_yun','Lean Hogs_SS_yun','Soybeans_SS_yun','Lumber_SS_yun',\n",
    "                     'Capacity Utilization_SS_yun','Corn_SS_yun','M2 Velocity_SS_yun','GDP_SS_yun','Wheat_SS_yun','PMI_SS_yun',\n",
    "                     'USD Index_SS_yun','Unemployment Rate_SS_yun','Initial Jobless Claims_SS_yun']] = SS_scaler.transform(X_train_SS_y_uns[[\n",
    "    'Wage CPI','WTI','Heating Oil','Copper','Sugar',\n",
    "                     'Natural Gas','Cattle','Lean Hogs','Soybeans','Lumber',\n",
    "                     'Capacity Utilization','Corn','M2 Velocity','GDP','Wheat','PMI',\n",
    "                     'USD Index','Unemployment Rate','Initial Jobless Claims']])"
   ]
  },
  {
   "cell_type": "code",
   "execution_count": 135,
   "metadata": {},
   "outputs": [
    {
     "data": {
      "text/plain": [
       "Index(['Wage CPI', 'WTI', 'Heating Oil', 'Copper', 'Sugar', 'Natural Gas',\n",
       "       'Cattle', 'Lean Hogs', 'Soybeans', 'Lumber', 'Capacity Utilization',\n",
       "       'Corn', 'M2 Velocity', 'GDP', 'Wheat', 'PMI', 'USD Index',\n",
       "       'Unemployment Rate', 'Initial Jobless Claims', 'Wage CPI_SS_yun',\n",
       "       'WTI_SS_yun', 'Heating Oil_SS_yun', 'Copper_SS_yun', 'Sugar_SS_yun',\n",
       "       'Natural Gas_SS_yun', 'Cattle_SS_yun', 'Lean Hogs_SS_yun',\n",
       "       'Soybeans_SS_yun', 'Lumber_SS_yun', 'Capacity Utilization_SS_yun',\n",
       "       'Corn_SS_yun', 'M2 Velocity_SS_yun', 'GDP_SS_yun', 'Wheat_SS_yun',\n",
       "       'PMI_SS_yun', 'USD Index_SS_yun', 'Unemployment Rate_SS_yun',\n",
       "       'Initial Jobless Claims_SS_yun'],\n",
       "      dtype='object')"
      ]
     },
     "execution_count": 135,
     "metadata": {},
     "output_type": "execute_result"
    }
   ],
   "source": [
    "X_train_SS_y_uns.columns"
   ]
  },
  {
   "cell_type": "code",
   "execution_count": 136,
   "metadata": {},
   "outputs": [],
   "source": [
    "X_train_SS_y_uns.drop(columns=prev_cols, inplace=True)"
   ]
  },
  {
   "cell_type": "code",
   "execution_count": 137,
   "metadata": {},
   "outputs": [
    {
     "data": {
      "text/html": [
       "<div>\n",
       "<style scoped>\n",
       "    .dataframe tbody tr th:only-of-type {\n",
       "        vertical-align: middle;\n",
       "    }\n",
       "\n",
       "    .dataframe tbody tr th {\n",
       "        vertical-align: top;\n",
       "    }\n",
       "\n",
       "    .dataframe thead th {\n",
       "        text-align: right;\n",
       "    }\n",
       "</style>\n",
       "<table border=\"1\" class=\"dataframe\">\n",
       "  <thead>\n",
       "    <tr style=\"text-align: right;\">\n",
       "      <th></th>\n",
       "      <th>Wage CPI_SS_yun</th>\n",
       "      <th>WTI_SS_yun</th>\n",
       "      <th>Heating Oil_SS_yun</th>\n",
       "      <th>Copper_SS_yun</th>\n",
       "      <th>Sugar_SS_yun</th>\n",
       "      <th>Natural Gas_SS_yun</th>\n",
       "      <th>Cattle_SS_yun</th>\n",
       "      <th>Lean Hogs_SS_yun</th>\n",
       "      <th>Soybeans_SS_yun</th>\n",
       "      <th>Lumber_SS_yun</th>\n",
       "      <th>Capacity Utilization_SS_yun</th>\n",
       "      <th>Corn_SS_yun</th>\n",
       "      <th>M2 Velocity_SS_yun</th>\n",
       "      <th>GDP_SS_yun</th>\n",
       "      <th>Wheat_SS_yun</th>\n",
       "      <th>PMI_SS_yun</th>\n",
       "      <th>USD Index_SS_yun</th>\n",
       "      <th>Unemployment Rate_SS_yun</th>\n",
       "      <th>Initial Jobless Claims_SS_yun</th>\n",
       "    </tr>\n",
       "  </thead>\n",
       "  <tbody>\n",
       "    <tr>\n",
       "      <th>count</th>\n",
       "      <td>2.190000e+02</td>\n",
       "      <td>2.190000e+02</td>\n",
       "      <td>2.190000e+02</td>\n",
       "      <td>2.190000e+02</td>\n",
       "      <td>2.190000e+02</td>\n",
       "      <td>2.190000e+02</td>\n",
       "      <td>2.190000e+02</td>\n",
       "      <td>2.190000e+02</td>\n",
       "      <td>2.190000e+02</td>\n",
       "      <td>2.190000e+02</td>\n",
       "      <td>2.190000e+02</td>\n",
       "      <td>2.190000e+02</td>\n",
       "      <td>2.190000e+02</td>\n",
       "      <td>2.190000e+02</td>\n",
       "      <td>2.190000e+02</td>\n",
       "      <td>2.190000e+02</td>\n",
       "      <td>2.190000e+02</td>\n",
       "      <td>2.190000e+02</td>\n",
       "      <td>2.190000e+02</td>\n",
       "    </tr>\n",
       "    <tr>\n",
       "      <th>mean</th>\n",
       "      <td>3.574006e-17</td>\n",
       "      <td>5.677853e-17</td>\n",
       "      <td>-5.868752e-17</td>\n",
       "      <td>1.001229e-16</td>\n",
       "      <td>-3.802134e-17</td>\n",
       "      <td>-5.576463e-17</td>\n",
       "      <td>-6.843841e-18</td>\n",
       "      <td>-2.788231e-17</td>\n",
       "      <td>1.292725e-17</td>\n",
       "      <td>1.013902e-18</td>\n",
       "      <td>-3.295182e-18</td>\n",
       "      <td>4.106304e-17</td>\n",
       "      <td>-4.095215e-18</td>\n",
       "      <td>-6.311542e-17</td>\n",
       "      <td>-8.364694e-18</td>\n",
       "      <td>1.191335e-17</td>\n",
       "      <td>-3.041707e-18</td>\n",
       "      <td>-3.041707e-18</td>\n",
       "      <td>2.572777e-17</td>\n",
       "    </tr>\n",
       "    <tr>\n",
       "      <th>std</th>\n",
       "      <td>1.002291e+00</td>\n",
       "      <td>1.002291e+00</td>\n",
       "      <td>1.002291e+00</td>\n",
       "      <td>1.002291e+00</td>\n",
       "      <td>1.002291e+00</td>\n",
       "      <td>1.002291e+00</td>\n",
       "      <td>1.002291e+00</td>\n",
       "      <td>1.002291e+00</td>\n",
       "      <td>1.002291e+00</td>\n",
       "      <td>1.002291e+00</td>\n",
       "      <td>1.002291e+00</td>\n",
       "      <td>1.002291e+00</td>\n",
       "      <td>1.002291e+00</td>\n",
       "      <td>1.002291e+00</td>\n",
       "      <td>1.002291e+00</td>\n",
       "      <td>1.002291e+00</td>\n",
       "      <td>1.002291e+00</td>\n",
       "      <td>1.002291e+00</td>\n",
       "      <td>1.002291e+00</td>\n",
       "    </tr>\n",
       "    <tr>\n",
       "      <th>min</th>\n",
       "      <td>-6.062318e+00</td>\n",
       "      <td>-3.554258e+00</td>\n",
       "      <td>-3.307158e+00</td>\n",
       "      <td>-4.275317e+00</td>\n",
       "      <td>-2.534857e+00</td>\n",
       "      <td>-2.092879e+00</td>\n",
       "      <td>-3.251186e+00</td>\n",
       "      <td>-2.412667e+00</td>\n",
       "      <td>-3.552930e+00</td>\n",
       "      <td>-2.447766e+00</td>\n",
       "      <td>-7.795038e+00</td>\n",
       "      <td>-3.095494e+00</td>\n",
       "      <td>-9.068365e+00</td>\n",
       "      <td>-8.151908e+00</td>\n",
       "      <td>-2.909327e+00</td>\n",
       "      <td>-4.035795e+00</td>\n",
       "      <td>-2.092087e+00</td>\n",
       "      <td>-3.918715e+00</td>\n",
       "      <td>-3.862139e+00</td>\n",
       "    </tr>\n",
       "    <tr>\n",
       "      <th>25%</th>\n",
       "      <td>-2.622508e-01</td>\n",
       "      <td>-5.738987e-01</td>\n",
       "      <td>-5.106932e-01</td>\n",
       "      <td>-5.903736e-01</td>\n",
       "      <td>-6.694239e-01</td>\n",
       "      <td>-6.272489e-01</td>\n",
       "      <td>-6.393442e-01</td>\n",
       "      <td>-5.898264e-01</td>\n",
       "      <td>-5.147225e-01</td>\n",
       "      <td>-6.792113e-01</td>\n",
       "      <td>-2.299928e-01</td>\n",
       "      <td>-5.887966e-01</td>\n",
       "      <td>-1.372215e-01</td>\n",
       "      <td>-1.434068e-01</td>\n",
       "      <td>-6.295338e-01</td>\n",
       "      <td>-5.733419e-01</td>\n",
       "      <td>-7.686037e-01</td>\n",
       "      <td>-2.860298e-01</td>\n",
       "      <td>-1.127636e-01</td>\n",
       "    </tr>\n",
       "    <tr>\n",
       "      <th>50%</th>\n",
       "      <td>1.137130e-01</td>\n",
       "      <td>3.652246e-02</td>\n",
       "      <td>-3.546556e-03</td>\n",
       "      <td>-1.277241e-01</td>\n",
       "      <td>-1.992945e-01</td>\n",
       "      <td>-1.776078e-01</td>\n",
       "      <td>6.243175e-02</td>\n",
       "      <td>-5.066135e-02</td>\n",
       "      <td>-3.896558e-02</td>\n",
       "      <td>-2.097464e-02</td>\n",
       "      <td>1.645101e-01</td>\n",
       "      <td>-1.044398e-01</td>\n",
       "      <td>4.201600e-02</td>\n",
       "      <td>8.882293e-02</td>\n",
       "      <td>-7.649249e-02</td>\n",
       "      <td>-6.581613e-02</td>\n",
       "      <td>5.368868e-02</td>\n",
       "      <td>-1.463112e-01</td>\n",
       "      <td>-8.392462e-02</td>\n",
       "    </tr>\n",
       "    <tr>\n",
       "      <th>75%</th>\n",
       "      <td>4.862085e-01</td>\n",
       "      <td>6.407473e-01</td>\n",
       "      <td>6.302291e-01</td>\n",
       "      <td>5.419286e-01</td>\n",
       "      <td>5.710310e-01</td>\n",
       "      <td>5.252051e-01</td>\n",
       "      <td>7.571885e-01</td>\n",
       "      <td>7.410920e-01</td>\n",
       "      <td>4.885812e-01</td>\n",
       "      <td>5.957653e-01</td>\n",
       "      <td>4.722769e-01</td>\n",
       "      <td>5.366638e-01</td>\n",
       "      <td>3.889674e-01</td>\n",
       "      <td>3.109964e-01</td>\n",
       "      <td>5.600397e-01</td>\n",
       "      <td>5.883282e-01</td>\n",
       "      <td>5.819297e-01</td>\n",
       "      <td>8.655327e-02</td>\n",
       "      <td>-4.724902e-02</td>\n",
       "    </tr>\n",
       "    <tr>\n",
       "      <th>max</th>\n",
       "      <td>3.088234e+00</td>\n",
       "      <td>2.605196e+00</td>\n",
       "      <td>2.396819e+00</td>\n",
       "      <td>3.899899e+00</td>\n",
       "      <td>3.949918e+00</td>\n",
       "      <td>2.963685e+00</td>\n",
       "      <td>2.354074e+00</td>\n",
       "      <td>2.559684e+00</td>\n",
       "      <td>2.721410e+00</td>\n",
       "      <td>4.104874e+00</td>\n",
       "      <td>2.018575e+00</td>\n",
       "      <td>2.995122e+00</td>\n",
       "      <td>2.102794e+00</td>\n",
       "      <td>5.751485e+00</td>\n",
       "      <td>3.904325e+00</td>\n",
       "      <td>3.577091e+00</td>\n",
       "      <td>3.428937e+00</td>\n",
       "      <td>1.014630e+01</td>\n",
       "      <td>1.121655e+01</td>\n",
       "    </tr>\n",
       "  </tbody>\n",
       "</table>\n",
       "</div>"
      ],
      "text/plain": [
       "       Wage CPI_SS_yun    WTI_SS_yun  Heating Oil_SS_yun  Copper_SS_yun  \\\n",
       "count     2.190000e+02  2.190000e+02        2.190000e+02   2.190000e+02   \n",
       "mean      3.574006e-17  5.677853e-17       -5.868752e-17   1.001229e-16   \n",
       "std       1.002291e+00  1.002291e+00        1.002291e+00   1.002291e+00   \n",
       "min      -6.062318e+00 -3.554258e+00       -3.307158e+00  -4.275317e+00   \n",
       "25%      -2.622508e-01 -5.738987e-01       -5.106932e-01  -5.903736e-01   \n",
       "50%       1.137130e-01  3.652246e-02       -3.546556e-03  -1.277241e-01   \n",
       "75%       4.862085e-01  6.407473e-01        6.302291e-01   5.419286e-01   \n",
       "max       3.088234e+00  2.605196e+00        2.396819e+00   3.899899e+00   \n",
       "\n",
       "       Sugar_SS_yun  Natural Gas_SS_yun  Cattle_SS_yun  Lean Hogs_SS_yun  \\\n",
       "count  2.190000e+02        2.190000e+02   2.190000e+02      2.190000e+02   \n",
       "mean  -3.802134e-17       -5.576463e-17  -6.843841e-18     -2.788231e-17   \n",
       "std    1.002291e+00        1.002291e+00   1.002291e+00      1.002291e+00   \n",
       "min   -2.534857e+00       -2.092879e+00  -3.251186e+00     -2.412667e+00   \n",
       "25%   -6.694239e-01       -6.272489e-01  -6.393442e-01     -5.898264e-01   \n",
       "50%   -1.992945e-01       -1.776078e-01   6.243175e-02     -5.066135e-02   \n",
       "75%    5.710310e-01        5.252051e-01   7.571885e-01      7.410920e-01   \n",
       "max    3.949918e+00        2.963685e+00   2.354074e+00      2.559684e+00   \n",
       "\n",
       "       Soybeans_SS_yun  Lumber_SS_yun  Capacity Utilization_SS_yun  \\\n",
       "count     2.190000e+02   2.190000e+02                 2.190000e+02   \n",
       "mean      1.292725e-17   1.013902e-18                -3.295182e-18   \n",
       "std       1.002291e+00   1.002291e+00                 1.002291e+00   \n",
       "min      -3.552930e+00  -2.447766e+00                -7.795038e+00   \n",
       "25%      -5.147225e-01  -6.792113e-01                -2.299928e-01   \n",
       "50%      -3.896558e-02  -2.097464e-02                 1.645101e-01   \n",
       "75%       4.885812e-01   5.957653e-01                 4.722769e-01   \n",
       "max       2.721410e+00   4.104874e+00                 2.018575e+00   \n",
       "\n",
       "        Corn_SS_yun  M2 Velocity_SS_yun    GDP_SS_yun  Wheat_SS_yun  \\\n",
       "count  2.190000e+02        2.190000e+02  2.190000e+02  2.190000e+02   \n",
       "mean   4.106304e-17       -4.095215e-18 -6.311542e-17 -8.364694e-18   \n",
       "std    1.002291e+00        1.002291e+00  1.002291e+00  1.002291e+00   \n",
       "min   -3.095494e+00       -9.068365e+00 -8.151908e+00 -2.909327e+00   \n",
       "25%   -5.887966e-01       -1.372215e-01 -1.434068e-01 -6.295338e-01   \n",
       "50%   -1.044398e-01        4.201600e-02  8.882293e-02 -7.649249e-02   \n",
       "75%    5.366638e-01        3.889674e-01  3.109964e-01  5.600397e-01   \n",
       "max    2.995122e+00        2.102794e+00  5.751485e+00  3.904325e+00   \n",
       "\n",
       "         PMI_SS_yun  USD Index_SS_yun  Unemployment Rate_SS_yun  \\\n",
       "count  2.190000e+02      2.190000e+02              2.190000e+02   \n",
       "mean   1.191335e-17     -3.041707e-18             -3.041707e-18   \n",
       "std    1.002291e+00      1.002291e+00              1.002291e+00   \n",
       "min   -4.035795e+00     -2.092087e+00             -3.918715e+00   \n",
       "25%   -5.733419e-01     -7.686037e-01             -2.860298e-01   \n",
       "50%   -6.581613e-02      5.368868e-02             -1.463112e-01   \n",
       "75%    5.883282e-01      5.819297e-01              8.655327e-02   \n",
       "max    3.577091e+00      3.428937e+00              1.014630e+01   \n",
       "\n",
       "       Initial Jobless Claims_SS_yun  \n",
       "count                   2.190000e+02  \n",
       "mean                    2.572777e-17  \n",
       "std                     1.002291e+00  \n",
       "min                    -3.862139e+00  \n",
       "25%                    -1.127636e-01  \n",
       "50%                    -8.392462e-02  \n",
       "75%                    -4.724902e-02  \n",
       "max                     1.121655e+01  "
      ]
     },
     "execution_count": 137,
     "metadata": {},
     "output_type": "execute_result"
    }
   ],
   "source": [
    "X_train_SS_y_uns.describe()"
   ]
  },
  {
   "cell_type": "markdown",
   "metadata": {},
   "source": [
    "The **Mean** & **Standard Deviation** look close enough to 0 & 1 respectively; thus, it was scaled correctly. We will now scale the others."
   ]
  },
  {
   "cell_type": "markdown",
   "metadata": {},
   "source": [
    "`X_test_SS_y_uns` will not be 'fitted'."
   ]
  },
  {
   "cell_type": "code",
   "execution_count": 138,
   "metadata": {},
   "outputs": [],
   "source": [
    "X_test_SS_y_uns[['Wage CPI_SS_yun','WTI_SS_yun','Heating Oil_SS_yun','Copper_SS_yun','Sugar_SS_yun',\n",
    "                     'Natural Gas_SS_yun','Cattle_SS_yun','Lean Hogs_SS_yun','Soybeans_SS_yun','Lumber_SS_yun',\n",
    "                     'Capacity Utilization_SS_yun','Corn_SS_yun','M2 Velocity_SS_yun','GDP_SS_yun','Wheat_SS_yun','PMI_SS_yun',\n",
    "                     'USD Index_SS_yun','Unemployment Rate_SS_yun','Initial Jobless Claims_SS_yun']] = SS_scaler.transform(X_test_SS_y_uns[[\n",
    "    'Wage CPI','WTI','Heating Oil','Copper','Sugar',\n",
    "                     'Natural Gas','Cattle','Lean Hogs','Soybeans','Lumber',\n",
    "                     'Capacity Utilization','Corn','M2 Velocity','GDP','Wheat','PMI',\n",
    "                     'USD Index','Unemployment Rate','Initial Jobless Claims']])"
   ]
  },
  {
   "cell_type": "code",
   "execution_count": 139,
   "metadata": {},
   "outputs": [
    {
     "data": {
      "text/plain": [
       "Index(['Wage CPI', 'WTI', 'Heating Oil', 'Copper', 'Sugar', 'Natural Gas',\n",
       "       'Cattle', 'Lean Hogs', 'Soybeans', 'Lumber', 'Capacity Utilization',\n",
       "       'Corn', 'M2 Velocity', 'GDP', 'Wheat', 'PMI', 'USD Index',\n",
       "       'Unemployment Rate', 'Initial Jobless Claims', 'Wage CPI_SS_yun',\n",
       "       'WTI_SS_yun', 'Heating Oil_SS_yun', 'Copper_SS_yun', 'Sugar_SS_yun',\n",
       "       'Natural Gas_SS_yun', 'Cattle_SS_yun', 'Lean Hogs_SS_yun',\n",
       "       'Soybeans_SS_yun', 'Lumber_SS_yun', 'Capacity Utilization_SS_yun',\n",
       "       'Corn_SS_yun', 'M2 Velocity_SS_yun', 'GDP_SS_yun', 'Wheat_SS_yun',\n",
       "       'PMI_SS_yun', 'USD Index_SS_yun', 'Unemployment Rate_SS_yun',\n",
       "       'Initial Jobless Claims_SS_yun'],\n",
       "      dtype='object')"
      ]
     },
     "execution_count": 139,
     "metadata": {},
     "output_type": "execute_result"
    }
   ],
   "source": [
    "X_test_SS_y_uns.columns"
   ]
  },
  {
   "cell_type": "code",
   "execution_count": 140,
   "metadata": {},
   "outputs": [],
   "source": [
    "X_test_SS_y_uns.drop(columns=prev_cols, inplace=True)"
   ]
  },
  {
   "cell_type": "code",
   "execution_count": 141,
   "metadata": {},
   "outputs": [
    {
     "data": {
      "text/html": [
       "<div>\n",
       "<style scoped>\n",
       "    .dataframe tbody tr th:only-of-type {\n",
       "        vertical-align: middle;\n",
       "    }\n",
       "\n",
       "    .dataframe tbody tr th {\n",
       "        vertical-align: top;\n",
       "    }\n",
       "\n",
       "    .dataframe thead th {\n",
       "        text-align: right;\n",
       "    }\n",
       "</style>\n",
       "<table border=\"1\" class=\"dataframe\">\n",
       "  <thead>\n",
       "    <tr style=\"text-align: right;\">\n",
       "      <th></th>\n",
       "      <th>Wage CPI_SS_yun</th>\n",
       "      <th>WTI_SS_yun</th>\n",
       "      <th>Heating Oil_SS_yun</th>\n",
       "      <th>Copper_SS_yun</th>\n",
       "      <th>Sugar_SS_yun</th>\n",
       "      <th>Natural Gas_SS_yun</th>\n",
       "      <th>Cattle_SS_yun</th>\n",
       "      <th>Lean Hogs_SS_yun</th>\n",
       "      <th>Soybeans_SS_yun</th>\n",
       "      <th>Lumber_SS_yun</th>\n",
       "      <th>Capacity Utilization_SS_yun</th>\n",
       "      <th>Corn_SS_yun</th>\n",
       "      <th>M2 Velocity_SS_yun</th>\n",
       "      <th>GDP_SS_yun</th>\n",
       "      <th>Wheat_SS_yun</th>\n",
       "      <th>PMI_SS_yun</th>\n",
       "      <th>USD Index_SS_yun</th>\n",
       "      <th>Unemployment Rate_SS_yun</th>\n",
       "      <th>Initial Jobless Claims_SS_yun</th>\n",
       "    </tr>\n",
       "  </thead>\n",
       "  <tbody>\n",
       "    <tr>\n",
       "      <th>count</th>\n",
       "      <td>94.000000</td>\n",
       "      <td>94.000000</td>\n",
       "      <td>94.000000</td>\n",
       "      <td>94.000000</td>\n",
       "      <td>94.000000</td>\n",
       "      <td>94.000000</td>\n",
       "      <td>94.000000</td>\n",
       "      <td>94.000000</td>\n",
       "      <td>94.000000</td>\n",
       "      <td>94.000000</td>\n",
       "      <td>94.000000</td>\n",
       "      <td>94.000000</td>\n",
       "      <td>94.000000</td>\n",
       "      <td>94.000000</td>\n",
       "      <td>94.000000</td>\n",
       "      <td>94.000000</td>\n",
       "      <td>94.000000</td>\n",
       "      <td>94.000000</td>\n",
       "      <td>94.000000</td>\n",
       "    </tr>\n",
       "    <tr>\n",
       "      <th>mean</th>\n",
       "      <td>-0.039725</td>\n",
       "      <td>0.007935</td>\n",
       "      <td>-0.029998</td>\n",
       "      <td>-0.162066</td>\n",
       "      <td>0.105502</td>\n",
       "      <td>-0.059875</td>\n",
       "      <td>-0.039083</td>\n",
       "      <td>0.041086</td>\n",
       "      <td>0.005910</td>\n",
       "      <td>0.175033</td>\n",
       "      <td>0.125599</td>\n",
       "      <td>-0.002570</td>\n",
       "      <td>0.018809</td>\n",
       "      <td>0.098847</td>\n",
       "      <td>-0.019342</td>\n",
       "      <td>-0.030541</td>\n",
       "      <td>0.078927</td>\n",
       "      <td>-0.153743</td>\n",
       "      <td>-0.203085</td>\n",
       "    </tr>\n",
       "    <tr>\n",
       "      <th>std</th>\n",
       "      <td>1.033855</td>\n",
       "      <td>0.965297</td>\n",
       "      <td>0.857436</td>\n",
       "      <td>0.959798</td>\n",
       "      <td>0.955151</td>\n",
       "      <td>0.961777</td>\n",
       "      <td>0.986806</td>\n",
       "      <td>1.006278</td>\n",
       "      <td>1.093236</td>\n",
       "      <td>1.441363</td>\n",
       "      <td>1.414106</td>\n",
       "      <td>1.234954</td>\n",
       "      <td>1.128372</td>\n",
       "      <td>1.285664</td>\n",
       "      <td>1.025338</td>\n",
       "      <td>0.992570</td>\n",
       "      <td>0.969684</td>\n",
       "      <td>1.642094</td>\n",
       "      <td>1.035767</td>\n",
       "    </tr>\n",
       "    <tr>\n",
       "      <th>min</th>\n",
       "      <td>-7.038150</td>\n",
       "      <td>-3.580742</td>\n",
       "      <td>-3.212043</td>\n",
       "      <td>-4.187623</td>\n",
       "      <td>-1.418830</td>\n",
       "      <td>-2.025262</td>\n",
       "      <td>-2.905044</td>\n",
       "      <td>-1.651817</td>\n",
       "      <td>-2.783626</td>\n",
       "      <td>-2.289388</td>\n",
       "      <td>-8.154967</td>\n",
       "      <td>-2.789248</td>\n",
       "      <td>-9.068365</td>\n",
       "      <td>-8.151908</td>\n",
       "      <td>-2.047304</td>\n",
       "      <td>-3.235033</td>\n",
       "      <td>-2.042697</td>\n",
       "      <td>-6.014495</td>\n",
       "      <td>-8.023722</td>\n",
       "    </tr>\n",
       "    <tr>\n",
       "      <th>25%</th>\n",
       "      <td>-0.406660</td>\n",
       "      <td>-0.464830</td>\n",
       "      <td>-0.488930</td>\n",
       "      <td>-0.739344</td>\n",
       "      <td>-0.521482</td>\n",
       "      <td>-0.755813</td>\n",
       "      <td>-0.743428</td>\n",
       "      <td>-0.705898</td>\n",
       "      <td>-0.659477</td>\n",
       "      <td>-0.777960</td>\n",
       "      <td>-0.174471</td>\n",
       "      <td>-0.705320</td>\n",
       "      <td>-0.134090</td>\n",
       "      <td>-0.082749</td>\n",
       "      <td>-0.753886</td>\n",
       "      <td>-0.663569</td>\n",
       "      <td>-0.584194</td>\n",
       "      <td>-0.332603</td>\n",
       "      <td>-0.111902</td>\n",
       "    </tr>\n",
       "    <tr>\n",
       "      <th>50%</th>\n",
       "      <td>0.156537</td>\n",
       "      <td>0.020075</td>\n",
       "      <td>-0.062487</td>\n",
       "      <td>-0.157241</td>\n",
       "      <td>-0.085375</td>\n",
       "      <td>-0.154073</td>\n",
       "      <td>0.058996</td>\n",
       "      <td>-0.098348</td>\n",
       "      <td>-0.147656</td>\n",
       "      <td>-0.057829</td>\n",
       "      <td>0.203446</td>\n",
       "      <td>-0.057043</td>\n",
       "      <td>0.118361</td>\n",
       "      <td>0.112455</td>\n",
       "      <td>-0.114992</td>\n",
       "      <td>-0.043259</td>\n",
       "      <td>-0.001132</td>\n",
       "      <td>-0.192884</td>\n",
       "      <td>-0.088470</td>\n",
       "    </tr>\n",
       "    <tr>\n",
       "      <th>75%</th>\n",
       "      <td>0.430470</td>\n",
       "      <td>0.561096</td>\n",
       "      <td>0.439143</td>\n",
       "      <td>0.322455</td>\n",
       "      <td>0.591862</td>\n",
       "      <td>0.618387</td>\n",
       "      <td>0.702137</td>\n",
       "      <td>0.682856</td>\n",
       "      <td>0.767235</td>\n",
       "      <td>0.829421</td>\n",
       "      <td>0.458757</td>\n",
       "      <td>0.457160</td>\n",
       "      <td>0.421551</td>\n",
       "      <td>0.420592</td>\n",
       "      <td>0.517627</td>\n",
       "      <td>0.419153</td>\n",
       "      <td>0.727001</td>\n",
       "      <td>-0.006593</td>\n",
       "      <td>-0.064255</td>\n",
       "    </tr>\n",
       "    <tr>\n",
       "      <th>max</th>\n",
       "      <td>2.087383</td>\n",
       "      <td>3.682805</td>\n",
       "      <td>1.854950</td>\n",
       "      <td>2.749010</td>\n",
       "      <td>3.226772</td>\n",
       "      <td>1.918428</td>\n",
       "      <td>2.596760</td>\n",
       "      <td>2.540483</td>\n",
       "      <td>2.894730</td>\n",
       "      <td>6.535160</td>\n",
       "      <td>6.202835</td>\n",
       "      <td>4.012835</td>\n",
       "      <td>2.102794</td>\n",
       "      <td>5.751485</td>\n",
       "      <td>3.911693</td>\n",
       "      <td>3.125957</td>\n",
       "      <td>2.542070</td>\n",
       "      <td>12.894097</td>\n",
       "      <td>3.734413</td>\n",
       "    </tr>\n",
       "  </tbody>\n",
       "</table>\n",
       "</div>"
      ],
      "text/plain": [
       "       Wage CPI_SS_yun  WTI_SS_yun  Heating Oil_SS_yun  Copper_SS_yun  \\\n",
       "count        94.000000   94.000000           94.000000      94.000000   \n",
       "mean         -0.039725    0.007935           -0.029998      -0.162066   \n",
       "std           1.033855    0.965297            0.857436       0.959798   \n",
       "min          -7.038150   -3.580742           -3.212043      -4.187623   \n",
       "25%          -0.406660   -0.464830           -0.488930      -0.739344   \n",
       "50%           0.156537    0.020075           -0.062487      -0.157241   \n",
       "75%           0.430470    0.561096            0.439143       0.322455   \n",
       "max           2.087383    3.682805            1.854950       2.749010   \n",
       "\n",
       "       Sugar_SS_yun  Natural Gas_SS_yun  Cattle_SS_yun  Lean Hogs_SS_yun  \\\n",
       "count     94.000000           94.000000      94.000000         94.000000   \n",
       "mean       0.105502           -0.059875      -0.039083          0.041086   \n",
       "std        0.955151            0.961777       0.986806          1.006278   \n",
       "min       -1.418830           -2.025262      -2.905044         -1.651817   \n",
       "25%       -0.521482           -0.755813      -0.743428         -0.705898   \n",
       "50%       -0.085375           -0.154073       0.058996         -0.098348   \n",
       "75%        0.591862            0.618387       0.702137          0.682856   \n",
       "max        3.226772            1.918428       2.596760          2.540483   \n",
       "\n",
       "       Soybeans_SS_yun  Lumber_SS_yun  Capacity Utilization_SS_yun  \\\n",
       "count        94.000000      94.000000                    94.000000   \n",
       "mean          0.005910       0.175033                     0.125599   \n",
       "std           1.093236       1.441363                     1.414106   \n",
       "min          -2.783626      -2.289388                    -8.154967   \n",
       "25%          -0.659477      -0.777960                    -0.174471   \n",
       "50%          -0.147656      -0.057829                     0.203446   \n",
       "75%           0.767235       0.829421                     0.458757   \n",
       "max           2.894730       6.535160                     6.202835   \n",
       "\n",
       "       Corn_SS_yun  M2 Velocity_SS_yun  GDP_SS_yun  Wheat_SS_yun  PMI_SS_yun  \\\n",
       "count    94.000000           94.000000   94.000000     94.000000   94.000000   \n",
       "mean     -0.002570            0.018809    0.098847     -0.019342   -0.030541   \n",
       "std       1.234954            1.128372    1.285664      1.025338    0.992570   \n",
       "min      -2.789248           -9.068365   -8.151908     -2.047304   -3.235033   \n",
       "25%      -0.705320           -0.134090   -0.082749     -0.753886   -0.663569   \n",
       "50%      -0.057043            0.118361    0.112455     -0.114992   -0.043259   \n",
       "75%       0.457160            0.421551    0.420592      0.517627    0.419153   \n",
       "max       4.012835            2.102794    5.751485      3.911693    3.125957   \n",
       "\n",
       "       USD Index_SS_yun  Unemployment Rate_SS_yun  \\\n",
       "count         94.000000                 94.000000   \n",
       "mean           0.078927                 -0.153743   \n",
       "std            0.969684                  1.642094   \n",
       "min           -2.042697                 -6.014495   \n",
       "25%           -0.584194                 -0.332603   \n",
       "50%           -0.001132                 -0.192884   \n",
       "75%            0.727001                 -0.006593   \n",
       "max            2.542070                 12.894097   \n",
       "\n",
       "       Initial Jobless Claims_SS_yun  \n",
       "count                      94.000000  \n",
       "mean                       -0.203085  \n",
       "std                         1.035767  \n",
       "min                        -8.023722  \n",
       "25%                        -0.111902  \n",
       "50%                        -0.088470  \n",
       "75%                        -0.064255  \n",
       "max                         3.734413  "
      ]
     },
     "execution_count": 141,
     "metadata": {},
     "output_type": "execute_result"
    }
   ],
   "source": [
    "X_test_SS_y_uns.describe()"
   ]
  },
  {
   "cell_type": "markdown",
   "metadata": {},
   "source": [
    "Although the `mean` & `std` look close to 0 & 1, they are different to those in the scaled `Training` set which was scaled."
   ]
  },
  {
   "cell_type": "markdown",
   "metadata": {},
   "source": [
    "As a reminder, `y_train_SS_y_uns` & `y_test_SS_y_uns` will not be scaled or fit in this section."
   ]
  },
  {
   "cell_type": "markdown",
   "metadata": {},
   "source": [
    "Now to review the results."
   ]
  },
  {
   "cell_type": "code",
   "execution_count": 142,
   "metadata": {},
   "outputs": [
    {
     "name": "stderr",
     "output_type": "stream",
     "text": [
      "C:\\Users\\rands\\anaconda3\\lib\\site-packages\\sklearn\\utils\\validation.py:67: FutureWarning: Pass fit_intercept=     Wage CPI_SS_yun  WTI_SS_yun  Heating Oil_SS_yun  Copper_SS_yun  \\\n",
      "79          0.155334   -0.394343           -0.050438      -0.073618   \n",
      "147         1.806193    1.153919            1.281250      -1.009767   \n",
      "143         0.839935    1.325041            1.617048       1.473924   \n",
      "72         -0.973142   -0.893565           -0.672374      -0.346680   \n",
      "305         0.444882   -0.061075            0.211822      -0.088711   \n",
      "..               ...         ...                 ...            ...   \n",
      "188        -1.619625   -0.629780           -1.164109      -0.048733   \n",
      "71         -1.281868   -1.209998           -0.942590      -0.495741   \n",
      "106         0.204967   -0.983106           -0.285436      -1.062590   \n",
      "270         0.392150    0.245649            0.095304      -0.460876   \n",
      "102        -0.283615    0.735583           -0.011529      -0.040529   \n",
      "\n",
      "     Sugar_SS_yun  Natural Gas_SS_yun  Cattle_SS_yun  Lean Hogs_SS_yun  \\\n",
      "79      -0.719903            1.188751       0.975637         -0.227010   \n",
      "147      0.519004            0.795288      -0.229392         -1.092126   \n",
      "143      0.386982            1.452307      -0.343536          1.043552   \n",
      "72      -0.728908           -0.755915       1.271247         -1.276567   \n",
      "305     -0.318956            1.977440       0.290332         -1.247601   \n",
      "..            ...                 ...            ...               ...   \n",
      "188     -1.157467           -0.365788      -0.565709          1.440260   \n",
      "71      -0.543917           -0.409769       1.277592         -1.346703   \n",
      "106      0.572261           -0.852760       1.112915         -0.332848   \n",
      "270     -1.140062            0.480023      -1.969966          0.467872   \n",
      "102     -0.660335           -1.328428       0.291693         -0.278403   \n",
      "\n",
      "     Soybeans_SS_yun  Lumber_SS_yun  Capacity Utilization_SS_yun  Corn_SS_yun  \\\n",
      "79         -0.047364       0.180722                     0.182841    -0.428209   \n",
      "147         2.638157      -0.672091                     0.285280     2.017779   \n",
      "143         0.860496      -0.402545                    -0.609323     2.134135   \n",
      "72         -2.828086       0.156371                     0.029400    -1.855634   \n",
      "305        -0.172028      -0.234272                    -0.045844    -0.032272   \n",
      "..               ...            ...                          ...          ...   \n",
      "188         0.503756       0.360664                    -0.036059    -0.233310   \n",
      "71         -2.121866      -0.017562                     0.164510    -0.991573   \n",
      "106        -0.520921      -0.326446                     0.570894    -0.428319   \n",
      "270         0.281996      -1.520268                    -0.400204     0.766999   \n",
      "102        -0.378632       0.440708                     0.482965    -0.380845   \n",
      "\n",
      "     M2 Velocity_SS_yun  GDP_SS_yun  Wheat_SS_yun  PMI_SS_yun  \\\n",
      "79            -0.474105   -0.710077     -0.991708   -0.877857   \n",
      "147           -0.752247   -0.968334      0.824884   -0.392888   \n",
      "143           -0.076748    0.011209     -0.313841   -0.144765   \n",
      "72            -0.028845   -0.245840     -1.409963    0.464266   \n",
      "305            0.486909   -0.074694      2.067899   -1.047033   \n",
      "..                  ...         ...           ...         ...   \n",
      "188            0.308787    0.937747      0.276997    0.847730   \n",
      "71            -0.028845   -0.245840     -0.826082    0.125916   \n",
      "106            0.014532    0.210813     -0.314274   -0.663569   \n",
      "270            0.125170   -0.201821     -0.035952   -2.344043   \n",
      "102            0.013694    0.289414     -0.251520    0.148473   \n",
      "\n",
      "     USD Index_SS_yun  Unemployment Rate_SS_yun  Initial Jobless Claims_SS_yun  \n",
      "79          -0.042584                 -0.658613                      -0.074521  \n",
      "147         -1.198573                  0.272845                       0.005413  \n",
      "143         -1.338341                  0.226272                       0.002279  \n",
      "72           1.346968                 -0.472321                      -0.120914  \n",
      "305         -1.610586                  0.272845                      -0.009006  \n",
      "..                ...                       ...                            ...  \n",
      "188         -1.476665                  0.319418                      -0.114331  \n",
      "71           1.767912                 -0.518894                      -0.125302  \n",
      "106          0.508510                 -0.192884                      -0.095523  \n",
      "270         -1.459965                  0.226272                       0.025162  \n",
      "102          0.925135                 -0.658613                      -0.175770  \n",
      "\n",
      "[219 rows x 19 columns], normalize=     Inflation\n",
      "79      -0.111\n",
      "147      0.744\n",
      "143      0.149\n",
      "72      -0.328\n",
      "305     -0.327\n",
      "..         ...\n",
      "188     -0.115\n",
      "71      -0.378\n",
      "106     -0.104\n",
      "270      0.188\n",
      "102     -0.523\n",
      "\n",
      "[219 rows x 1 columns] as keyword args. From version 0.25 passing these as positional arguments will result in an error\n",
      "  warnings.warn(\"Pass {} as keyword args. From version 0.25 \"\n"
     ]
    }
   ],
   "source": [
    "reg_all_SS = LinearRegression(X_train_SS_y_uns,y_train_SS_y_uns)"
   ]
  },
  {
   "cell_type": "code",
   "execution_count": 143,
   "metadata": {},
   "outputs": [],
   "source": [
    "lm = LinearRegression().fit(X_train_SS_y_uns, y_train_SS_y_uns)"
   ]
  },
  {
   "cell_type": "code",
   "execution_count": 144,
   "metadata": {},
   "outputs": [],
   "source": [
    "#Code task 11#\n",
    "#Call the `predict()` method of the model (`lm`) on both the (scaled) train and test data\n",
    "#Assign the predictions to `y_tr_pred` and `y_te_pred`, respectively\n",
    "y_tr_pred_SS_y_uns = lm.predict(X_train_SS_y_uns)\n",
    "y_te_pred_SS_y_uns = lm.predict(X_test_SS_y_uns)"
   ]
  },
  {
   "cell_type": "code",
   "execution_count": 145,
   "metadata": {},
   "outputs": [
    {
     "data": {
      "text/plain": [
       "(0.41337962352692703, 0.3772004106482717)"
      ]
     },
     "execution_count": 145,
     "metadata": {},
     "output_type": "execute_result"
    }
   ],
   "source": [
    "# r^2 - train, test\n",
    "median_r2_SS_y_uns = r2_score(y_train_SS_y_uns, y_tr_pred_SS_y_uns), r2_score(y_test_SS_y_uns, y_te_pred_SS_y_uns)\n",
    "median_r2_SS_y_uns"
   ]
  },
  {
   "cell_type": "code",
   "execution_count": 146,
   "metadata": {},
   "outputs": [
    {
     "data": {
      "text/plain": [
       "(0.4534709209654319, 0.4459291435336488)"
      ]
     },
     "execution_count": 146,
     "metadata": {},
     "output_type": "execute_result"
    }
   ],
   "source": [
    "median_mae_SS_y_uns = mean_absolute_error( y_train_SS_y_uns, y_tr_pred_SS_y_uns), mean_absolute_error( y_test_SS_y_uns, y_te_pred_SS_y_uns )\n",
    "median_mae_SS_y_uns"
   ]
  },
  {
   "cell_type": "code",
   "execution_count": 147,
   "metadata": {},
   "outputs": [
    {
     "data": {
      "text/plain": [
       "(0.42920564341883566, 0.35762754614105596)"
      ]
     },
     "execution_count": 147,
     "metadata": {},
     "output_type": "execute_result"
    }
   ],
   "source": [
    "median_mse_SS_y_uns = mean_squared_error( y_train_SS_y_uns, y_tr_pred_SS_y_uns ), mean_squared_error( y_test_SS_y_uns, y_te_pred_SS_y_uns )\n",
    "median_mse_SS_y_uns"
   ]
  },
  {
   "cell_type": "markdown",
   "metadata": {},
   "source": [
    "The R^2 results are less than impressive ( i.e. less than a simple coin flip ) but we will proceed."
   ]
  },
  {
   "cell_type": "markdown",
   "metadata": {},
   "source": [
    "In this case, I have no missing values so no need to impute."
   ]
  },
  {
   "cell_type": "markdown",
   "metadata": {},
   "source": [
    "## 3.6.5 MinMaxScaler ( X scaled only )<a id='mm_x'></a>"
   ]
  },
  {
   "cell_type": "code",
   "execution_count": 120,
   "metadata": {},
   "outputs": [],
   "source": [
    "MM_scaler = MinMaxScaler()"
   ]
  },
  {
   "cell_type": "markdown",
   "metadata": {},
   "source": [
    "First `X_train_MM_y_uns`"
   ]
  },
  {
   "cell_type": "code",
   "execution_count": 148,
   "metadata": {},
   "outputs": [
    {
     "data": {
      "text/plain": [
       "MinMaxScaler()"
      ]
     },
     "execution_count": 148,
     "metadata": {},
     "output_type": "execute_result"
    }
   ],
   "source": [
    "MM_scaler.fit(X_train_MM_y_uns[['Wage CPI','WTI','Heating Oil','Copper','Sugar',\n",
    "                     'Natural Gas','Cattle','Lean Hogs','Soybeans','Lumber',\n",
    "                     'Capacity Utilization','Corn','M2 Velocity','GDP','Wheat','PMI',\n",
    "                     'USD Index','Unemployment Rate','Initial Jobless Claims']])"
   ]
  },
  {
   "cell_type": "code",
   "execution_count": 149,
   "metadata": {},
   "outputs": [],
   "source": [
    "X_train_MM_y_uns[['Wage CPI_MM','WTI_MM','Heating Oil_MM','Copper_MM','Sugar_MM',\n",
    "                     'Natural Gas_MM','Cattle_MM','Lean Hogs_MM','Soybeans_MM','Lumber_MM',\n",
    "                     'Capacity Utilization_MM','Corn_MM','M2 Velocity_MM','GDP_MM','Wheat_MM','PMI_MM',\n",
    "                     'USD Index_MM','Unemployment Rate_MM','Initial Jobless Claims_MM']] = MM_scaler.transform(X_train_MM_y_uns[[\n",
    "    'Wage CPI','WTI','Heating Oil','Copper','Sugar',\n",
    "                     'Natural Gas','Cattle','Lean Hogs','Soybeans','Lumber',\n",
    "                     'Capacity Utilization','Corn','M2 Velocity','GDP','Wheat','PMI',\n",
    "                     'USD Index','Unemployment Rate','Initial Jobless Claims']])"
   ]
  },
  {
   "cell_type": "code",
   "execution_count": 150,
   "metadata": {},
   "outputs": [
    {
     "data": {
      "text/plain": [
       "Index(['Wage CPI', 'WTI', 'Heating Oil', 'Copper', 'Sugar', 'Natural Gas',\n",
       "       'Cattle', 'Lean Hogs', 'Soybeans', 'Lumber', 'Capacity Utilization',\n",
       "       'Corn', 'M2 Velocity', 'GDP', 'Wheat', 'PMI', 'USD Index',\n",
       "       'Unemployment Rate', 'Initial Jobless Claims', 'Wage CPI_MM', 'WTI_MM',\n",
       "       'Heating Oil_MM', 'Copper_MM', 'Sugar_MM', 'Natural Gas_MM',\n",
       "       'Cattle_MM', 'Lean Hogs_MM', 'Soybeans_MM', 'Lumber_MM',\n",
       "       'Capacity Utilization_MM', 'Corn_MM', 'M2 Velocity_MM', 'GDP_MM',\n",
       "       'Wheat_MM', 'PMI_MM', 'USD Index_MM', 'Unemployment Rate_MM',\n",
       "       'Initial Jobless Claims_MM'],\n",
       "      dtype='object')"
      ]
     },
     "execution_count": 150,
     "metadata": {},
     "output_type": "execute_result"
    }
   ],
   "source": [
    "X_train_MM_y_uns.columns"
   ]
  },
  {
   "cell_type": "code",
   "execution_count": 151,
   "metadata": {},
   "outputs": [],
   "source": [
    "X_train_MM_y_uns.drop(columns=prev_cols, inplace=True)"
   ]
  },
  {
   "cell_type": "code",
   "execution_count": 152,
   "metadata": {},
   "outputs": [
    {
     "data": {
      "text/html": [
       "<div>\n",
       "<style scoped>\n",
       "    .dataframe tbody tr th:only-of-type {\n",
       "        vertical-align: middle;\n",
       "    }\n",
       "\n",
       "    .dataframe tbody tr th {\n",
       "        vertical-align: top;\n",
       "    }\n",
       "\n",
       "    .dataframe thead th {\n",
       "        text-align: right;\n",
       "    }\n",
       "</style>\n",
       "<table border=\"1\" class=\"dataframe\">\n",
       "  <thead>\n",
       "    <tr style=\"text-align: right;\">\n",
       "      <th></th>\n",
       "      <th>Wage CPI_MM</th>\n",
       "      <th>WTI_MM</th>\n",
       "      <th>Heating Oil_MM</th>\n",
       "      <th>Copper_MM</th>\n",
       "      <th>Sugar_MM</th>\n",
       "      <th>Natural Gas_MM</th>\n",
       "      <th>Cattle_MM</th>\n",
       "      <th>Lean Hogs_MM</th>\n",
       "      <th>Soybeans_MM</th>\n",
       "      <th>Lumber_MM</th>\n",
       "      <th>Capacity Utilization_MM</th>\n",
       "      <th>Corn_MM</th>\n",
       "      <th>M2 Velocity_MM</th>\n",
       "      <th>GDP_MM</th>\n",
       "      <th>Wheat_MM</th>\n",
       "      <th>PMI_MM</th>\n",
       "      <th>USD Index_MM</th>\n",
       "      <th>Unemployment Rate_MM</th>\n",
       "      <th>Initial Jobless Claims_MM</th>\n",
       "    </tr>\n",
       "  </thead>\n",
       "  <tbody>\n",
       "    <tr>\n",
       "      <th>count</th>\n",
       "      <td>219.000000</td>\n",
       "      <td>219.000000</td>\n",
       "      <td>219.000000</td>\n",
       "      <td>219.000000</td>\n",
       "      <td>219.000000</td>\n",
       "      <td>219.000000</td>\n",
       "      <td>219.000000</td>\n",
       "      <td>219.000000</td>\n",
       "      <td>219.000000</td>\n",
       "      <td>219.000000</td>\n",
       "      <td>219.000000</td>\n",
       "      <td>219.000000</td>\n",
       "      <td>219.000000</td>\n",
       "      <td>219.000000</td>\n",
       "      <td>219.000000</td>\n",
       "      <td>219.000000</td>\n",
       "      <td>219.000000</td>\n",
       "      <td>219.000000</td>\n",
       "      <td>219.000000</td>\n",
       "    </tr>\n",
       "    <tr>\n",
       "      <th>mean</th>\n",
       "      <td>0.662508</td>\n",
       "      <td>0.577041</td>\n",
       "      <td>0.579799</td>\n",
       "      <td>0.522961</td>\n",
       "      <td>0.390894</td>\n",
       "      <td>0.413894</td>\n",
       "      <td>0.580024</td>\n",
       "      <td>0.485217</td>\n",
       "      <td>0.566264</td>\n",
       "      <td>0.373554</td>\n",
       "      <td>0.794309</td>\n",
       "      <td>0.508240</td>\n",
       "      <td>0.811766</td>\n",
       "      <td>0.586325</td>\n",
       "      <td>0.426985</td>\n",
       "      <td>0.530127</td>\n",
       "      <td>0.378931</td>\n",
       "      <td>0.278614</td>\n",
       "      <td>0.256132</td>\n",
       "    </tr>\n",
       "    <tr>\n",
       "      <th>std</th>\n",
       "      <td>0.109533</td>\n",
       "      <td>0.162724</td>\n",
       "      <td>0.175718</td>\n",
       "      <td>0.122601</td>\n",
       "      <td>0.154561</td>\n",
       "      <td>0.198216</td>\n",
       "      <td>0.178813</td>\n",
       "      <td>0.201573</td>\n",
       "      <td>0.159744</td>\n",
       "      <td>0.152960</td>\n",
       "      <td>0.102133</td>\n",
       "      <td>0.164563</td>\n",
       "      <td>0.089721</td>\n",
       "      <td>0.072090</td>\n",
       "      <td>0.147100</td>\n",
       "      <td>0.131657</td>\n",
       "      <td>0.181541</td>\n",
       "      <td>0.071261</td>\n",
       "      <td>0.066471</td>\n",
       "    </tr>\n",
       "    <tr>\n",
       "      <th>min</th>\n",
       "      <td>0.000000</td>\n",
       "      <td>0.000000</td>\n",
       "      <td>0.000000</td>\n",
       "      <td>0.000000</td>\n",
       "      <td>0.000000</td>\n",
       "      <td>0.000000</td>\n",
       "      <td>0.000000</td>\n",
       "      <td>0.000000</td>\n",
       "      <td>0.000000</td>\n",
       "      <td>0.000000</td>\n",
       "      <td>0.000000</td>\n",
       "      <td>0.000000</td>\n",
       "      <td>0.000000</td>\n",
       "      <td>0.000000</td>\n",
       "      <td>0.000000</td>\n",
       "      <td>0.000000</td>\n",
       "      <td>0.000000</td>\n",
       "      <td>0.000000</td>\n",
       "      <td>0.000000</td>\n",
       "    </tr>\n",
       "    <tr>\n",
       "      <th>25%</th>\n",
       "      <td>0.633849</td>\n",
       "      <td>0.483867</td>\n",
       "      <td>0.490266</td>\n",
       "      <td>0.450746</td>\n",
       "      <td>0.287664</td>\n",
       "      <td>0.289847</td>\n",
       "      <td>0.465963</td>\n",
       "      <td>0.366595</td>\n",
       "      <td>0.484227</td>\n",
       "      <td>0.269900</td>\n",
       "      <td>0.770873</td>\n",
       "      <td>0.411567</td>\n",
       "      <td>0.799482</td>\n",
       "      <td>0.576011</td>\n",
       "      <td>0.334592</td>\n",
       "      <td>0.454815</td>\n",
       "      <td>0.239717</td>\n",
       "      <td>0.258278</td>\n",
       "      <td>0.248654</td>\n",
       "    </tr>\n",
       "    <tr>\n",
       "      <th>50%</th>\n",
       "      <td>0.674935</td>\n",
       "      <td>0.582971</td>\n",
       "      <td>0.579177</td>\n",
       "      <td>0.507337</td>\n",
       "      <td>0.360161</td>\n",
       "      <td>0.378769</td>\n",
       "      <td>0.591162</td>\n",
       "      <td>0.475028</td>\n",
       "      <td>0.560053</td>\n",
       "      <td>0.370353</td>\n",
       "      <td>0.811072</td>\n",
       "      <td>0.491092</td>\n",
       "      <td>0.815527</td>\n",
       "      <td>0.592714</td>\n",
       "      <td>0.415759</td>\n",
       "      <td>0.521481</td>\n",
       "      <td>0.388655</td>\n",
       "      <td>0.268212</td>\n",
       "      <td>0.250566</td>\n",
       "    </tr>\n",
       "    <tr>\n",
       "      <th>75%</th>\n",
       "      <td>0.715643</td>\n",
       "      <td>0.681068</td>\n",
       "      <td>0.690288</td>\n",
       "      <td>0.589250</td>\n",
       "      <td>0.478951</td>\n",
       "      <td>0.517760</td>\n",
       "      <td>0.715109</td>\n",
       "      <td>0.634259</td>\n",
       "      <td>0.644133</td>\n",
       "      <td>0.464474</td>\n",
       "      <td>0.842433</td>\n",
       "      <td>0.596353</td>\n",
       "      <td>0.846585</td>\n",
       "      <td>0.608693</td>\n",
       "      <td>0.509179</td>\n",
       "      <td>0.607407</td>\n",
       "      <td>0.484333</td>\n",
       "      <td>0.284768</td>\n",
       "      <td>0.252999</td>\n",
       "    </tr>\n",
       "    <tr>\n",
       "      <th>max</th>\n",
       "      <td>1.000000</td>\n",
       "      <td>1.000000</td>\n",
       "      <td>1.000000</td>\n",
       "      <td>1.000000</td>\n",
       "      <td>1.000000</td>\n",
       "      <td>1.000000</td>\n",
       "      <td>1.000000</td>\n",
       "      <td>1.000000</td>\n",
       "      <td>1.000000</td>\n",
       "      <td>1.000000</td>\n",
       "      <td>1.000000</td>\n",
       "      <td>1.000000</td>\n",
       "      <td>1.000000</td>\n",
       "      <td>1.000000</td>\n",
       "      <td>1.000000</td>\n",
       "      <td>1.000000</td>\n",
       "      <td>1.000000</td>\n",
       "      <td>1.000000</td>\n",
       "      <td>1.000000</td>\n",
       "    </tr>\n",
       "  </tbody>\n",
       "</table>\n",
       "</div>"
      ],
      "text/plain": [
       "       Wage CPI_MM      WTI_MM  Heating Oil_MM   Copper_MM    Sugar_MM  \\\n",
       "count   219.000000  219.000000      219.000000  219.000000  219.000000   \n",
       "mean      0.662508    0.577041        0.579799    0.522961    0.390894   \n",
       "std       0.109533    0.162724        0.175718    0.122601    0.154561   \n",
       "min       0.000000    0.000000        0.000000    0.000000    0.000000   \n",
       "25%       0.633849    0.483867        0.490266    0.450746    0.287664   \n",
       "50%       0.674935    0.582971        0.579177    0.507337    0.360161   \n",
       "75%       0.715643    0.681068        0.690288    0.589250    0.478951   \n",
       "max       1.000000    1.000000        1.000000    1.000000    1.000000   \n",
       "\n",
       "       Natural Gas_MM   Cattle_MM  Lean Hogs_MM  Soybeans_MM   Lumber_MM  \\\n",
       "count      219.000000  219.000000    219.000000   219.000000  219.000000   \n",
       "mean         0.413894    0.580024      0.485217     0.566264    0.373554   \n",
       "std          0.198216    0.178813      0.201573     0.159744    0.152960   \n",
       "min          0.000000    0.000000      0.000000     0.000000    0.000000   \n",
       "25%          0.289847    0.465963      0.366595     0.484227    0.269900   \n",
       "50%          0.378769    0.591162      0.475028     0.560053    0.370353   \n",
       "75%          0.517760    0.715109      0.634259     0.644133    0.464474   \n",
       "max          1.000000    1.000000      1.000000     1.000000    1.000000   \n",
       "\n",
       "       Capacity Utilization_MM     Corn_MM  M2 Velocity_MM      GDP_MM  \\\n",
       "count               219.000000  219.000000      219.000000  219.000000   \n",
       "mean                  0.794309    0.508240        0.811766    0.586325   \n",
       "std                   0.102133    0.164563        0.089721    0.072090   \n",
       "min                   0.000000    0.000000        0.000000    0.000000   \n",
       "25%                   0.770873    0.411567        0.799482    0.576011   \n",
       "50%                   0.811072    0.491092        0.815527    0.592714   \n",
       "75%                   0.842433    0.596353        0.846585    0.608693   \n",
       "max                   1.000000    1.000000        1.000000    1.000000   \n",
       "\n",
       "         Wheat_MM      PMI_MM  USD Index_MM  Unemployment Rate_MM  \\\n",
       "count  219.000000  219.000000    219.000000            219.000000   \n",
       "mean     0.426985    0.530127      0.378931              0.278614   \n",
       "std      0.147100    0.131657      0.181541              0.071261   \n",
       "min      0.000000    0.000000      0.000000              0.000000   \n",
       "25%      0.334592    0.454815      0.239717              0.258278   \n",
       "50%      0.415759    0.521481      0.388655              0.268212   \n",
       "75%      0.509179    0.607407      0.484333              0.284768   \n",
       "max      1.000000    1.000000      1.000000              1.000000   \n",
       "\n",
       "       Initial Jobless Claims_MM  \n",
       "count                 219.000000  \n",
       "mean                    0.256132  \n",
       "std                     0.066471  \n",
       "min                     0.000000  \n",
       "25%                     0.248654  \n",
       "50%                     0.250566  \n",
       "75%                     0.252999  \n",
       "max                     1.000000  "
      ]
     },
     "execution_count": 152,
     "metadata": {},
     "output_type": "execute_result"
    }
   ],
   "source": [
    "X_train_MM_y_uns.describe()"
   ]
  },
  {
   "cell_type": "markdown",
   "metadata": {},
   "source": [
    "The `Maximum` & `Minimum` are **1 & 0 respectively; it appears to be realigning according to the MinMaxScaler appropriately**"
   ]
  },
  {
   "cell_type": "markdown",
   "metadata": {},
   "source": [
    "`X_test_MM_y_uns` will not be 'fitted'."
   ]
  },
  {
   "cell_type": "code",
   "execution_count": 153,
   "metadata": {},
   "outputs": [],
   "source": [
    "X_test_MM_y_uns[['Wage CPI_MM','WTI_MM','Heating Oil_MM','Copper_MM','Sugar_MM',\n",
    "                     'Natural Gas_MM','Cattle_MM','Lean Hogs_MM','Soybeans_MM','Lumber_MM',\n",
    "                     'Capacity Utilization_MM','Corn_MM','M2 Velocity_MM','GDP_MM','Wheat_MM','PMI_MM',\n",
    "                     'USD Index_MM','Unemployment Rate_MM','Initial Jobless Claims_MM']] = MM_scaler.transform(X_test_MM_y_uns[[\n",
    "    'Wage CPI','WTI','Heating Oil','Copper','Sugar',\n",
    "                     'Natural Gas','Cattle','Lean Hogs','Soybeans','Lumber',\n",
    "                     'Capacity Utilization','Corn','M2 Velocity','GDP','Wheat','PMI',\n",
    "                     'USD Index','Unemployment Rate','Initial Jobless Claims']])"
   ]
  },
  {
   "cell_type": "code",
   "execution_count": 154,
   "metadata": {},
   "outputs": [
    {
     "data": {
      "text/plain": [
       "Index(['Wage CPI', 'WTI', 'Heating Oil', 'Copper', 'Sugar', 'Natural Gas',\n",
       "       'Cattle', 'Lean Hogs', 'Soybeans', 'Lumber', 'Capacity Utilization',\n",
       "       'Corn', 'M2 Velocity', 'GDP', 'Wheat', 'PMI', 'USD Index',\n",
       "       'Unemployment Rate', 'Initial Jobless Claims', 'Wage CPI_MM', 'WTI_MM',\n",
       "       'Heating Oil_MM', 'Copper_MM', 'Sugar_MM', 'Natural Gas_MM',\n",
       "       'Cattle_MM', 'Lean Hogs_MM', 'Soybeans_MM', 'Lumber_MM',\n",
       "       'Capacity Utilization_MM', 'Corn_MM', 'M2 Velocity_MM', 'GDP_MM',\n",
       "       'Wheat_MM', 'PMI_MM', 'USD Index_MM', 'Unemployment Rate_MM',\n",
       "       'Initial Jobless Claims_MM'],\n",
       "      dtype='object')"
      ]
     },
     "execution_count": 154,
     "metadata": {},
     "output_type": "execute_result"
    }
   ],
   "source": [
    "X_test_MM_y_uns.columns"
   ]
  },
  {
   "cell_type": "code",
   "execution_count": 155,
   "metadata": {},
   "outputs": [],
   "source": [
    "X_test_MM_y_uns.drop(columns=prev_cols, inplace=True)"
   ]
  },
  {
   "cell_type": "code",
   "execution_count": 156,
   "metadata": {},
   "outputs": [
    {
     "data": {
      "text/html": [
       "<div>\n",
       "<style scoped>\n",
       "    .dataframe tbody tr th:only-of-type {\n",
       "        vertical-align: middle;\n",
       "    }\n",
       "\n",
       "    .dataframe tbody tr th {\n",
       "        vertical-align: top;\n",
       "    }\n",
       "\n",
       "    .dataframe thead th {\n",
       "        text-align: right;\n",
       "    }\n",
       "</style>\n",
       "<table border=\"1\" class=\"dataframe\">\n",
       "  <thead>\n",
       "    <tr style=\"text-align: right;\">\n",
       "      <th></th>\n",
       "      <th>Wages CPI_MM</th>\n",
       "      <th>WTI_MM</th>\n",
       "      <th>Heating Oil_MM</th>\n",
       "      <th>Copper_MM</th>\n",
       "      <th>Sugar_MM</th>\n",
       "      <th>Natural Gas_MM</th>\n",
       "      <th>Cattle_MM</th>\n",
       "      <th>Lean Hogs_MM</th>\n",
       "      <th>Soybeans_MM</th>\n",
       "      <th>Lumber_MM</th>\n",
       "      <th>Capacity Utilization_MM</th>\n",
       "      <th>Corn_MM</th>\n",
       "      <th>M2 Velocity_MM</th>\n",
       "      <th>GDP_MM</th>\n",
       "      <th>Wheat_MM</th>\n",
       "      <th>PMI_MM</th>\n",
       "      <th>USD Index_MM</th>\n",
       "      <th>Unemployment Rate_MM</th>\n",
       "      <th>Initial Jobless Claims_MM</th>\n",
       "    </tr>\n",
       "  </thead>\n",
       "  <tbody>\n",
       "    <tr>\n",
       "      <th>count</th>\n",
       "      <td>94.000000</td>\n",
       "      <td>94.000000</td>\n",
       "      <td>94.000000</td>\n",
       "      <td>94.000000</td>\n",
       "      <td>94.000000</td>\n",
       "      <td>94.000000</td>\n",
       "      <td>94.000000</td>\n",
       "      <td>94.000000</td>\n",
       "      <td>94.000000</td>\n",
       "      <td>94.000000</td>\n",
       "      <td>94.000000</td>\n",
       "      <td>94.000000</td>\n",
       "      <td>94.000000</td>\n",
       "      <td>94.000000</td>\n",
       "      <td>94.000000</td>\n",
       "      <td>94.000000</td>\n",
       "      <td>94.000000</td>\n",
       "      <td>94.000000</td>\n",
       "      <td>94.000000</td>\n",
       "    </tr>\n",
       "    <tr>\n",
       "      <th>mean</th>\n",
       "      <td>0.658167</td>\n",
       "      <td>0.578329</td>\n",
       "      <td>0.574540</td>\n",
       "      <td>0.503137</td>\n",
       "      <td>0.407163</td>\n",
       "      <td>0.402052</td>\n",
       "      <td>0.573052</td>\n",
       "      <td>0.493480</td>\n",
       "      <td>0.567205</td>\n",
       "      <td>0.400266</td>\n",
       "      <td>0.807107</td>\n",
       "      <td>0.507818</td>\n",
       "      <td>0.813450</td>\n",
       "      <td>0.593435</td>\n",
       "      <td>0.424146</td>\n",
       "      <td>0.526115</td>\n",
       "      <td>0.393227</td>\n",
       "      <td>0.267684</td>\n",
       "      <td>0.242664</td>\n",
       "    </tr>\n",
       "    <tr>\n",
       "      <th>std</th>\n",
       "      <td>0.112983</td>\n",
       "      <td>0.156718</td>\n",
       "      <td>0.150322</td>\n",
       "      <td>0.117403</td>\n",
       "      <td>0.147291</td>\n",
       "      <td>0.190204</td>\n",
       "      <td>0.176050</td>\n",
       "      <td>0.202375</td>\n",
       "      <td>0.174239</td>\n",
       "      <td>0.219967</td>\n",
       "      <td>0.144096</td>\n",
       "      <td>0.202763</td>\n",
       "      <td>0.101008</td>\n",
       "      <td>0.092471</td>\n",
       "      <td>0.150483</td>\n",
       "      <td>0.130380</td>\n",
       "      <td>0.175635</td>\n",
       "      <td>0.116750</td>\n",
       "      <td>0.068691</td>\n",
       "    </tr>\n",
       "    <tr>\n",
       "      <th>min</th>\n",
       "      <td>-0.106642</td>\n",
       "      <td>-0.004300</td>\n",
       "      <td>0.016675</td>\n",
       "      <td>0.010727</td>\n",
       "      <td>0.172100</td>\n",
       "      <td>0.013372</td>\n",
       "      <td>0.061753</td>\n",
       "      <td>0.153016</td>\n",
       "      <td>0.122611</td>\n",
       "      <td>0.024170</td>\n",
       "      <td>-0.036677</td>\n",
       "      <td>0.050282</td>\n",
       "      <td>0.000000</td>\n",
       "      <td>0.000000</td>\n",
       "      <td>0.126514</td>\n",
       "      <td>0.105185</td>\n",
       "      <td>0.008946</td>\n",
       "      <td>-0.149007</td>\n",
       "      <td>-0.275991</td>\n",
       "    </tr>\n",
       "    <tr>\n",
       "      <th>25%</th>\n",
       "      <td>0.618067</td>\n",
       "      <td>0.501575</td>\n",
       "      <td>0.494081</td>\n",
       "      <td>0.432523</td>\n",
       "      <td>0.310477</td>\n",
       "      <td>0.264422</td>\n",
       "      <td>0.447394</td>\n",
       "      <td>0.343252</td>\n",
       "      <td>0.461156</td>\n",
       "      <td>0.254830</td>\n",
       "      <td>0.776530</td>\n",
       "      <td>0.392436</td>\n",
       "      <td>0.799763</td>\n",
       "      <td>0.580373</td>\n",
       "      <td>0.316342</td>\n",
       "      <td>0.442963</td>\n",
       "      <td>0.273118</td>\n",
       "      <td>0.254967</td>\n",
       "      <td>0.248711</td>\n",
       "    </tr>\n",
       "    <tr>\n",
       "      <th>50%</th>\n",
       "      <td>0.679615</td>\n",
       "      <td>0.580300</td>\n",
       "      <td>0.568844</td>\n",
       "      <td>0.503727</td>\n",
       "      <td>0.377728</td>\n",
       "      <td>0.383424</td>\n",
       "      <td>0.590549</td>\n",
       "      <td>0.465438</td>\n",
       "      <td>0.542730</td>\n",
       "      <td>0.364729</td>\n",
       "      <td>0.815040</td>\n",
       "      <td>0.498874</td>\n",
       "      <td>0.822361</td>\n",
       "      <td>0.594413</td>\n",
       "      <td>0.410108</td>\n",
       "      <td>0.524444</td>\n",
       "      <td>0.378726</td>\n",
       "      <td>0.264901</td>\n",
       "      <td>0.250265</td>\n",
       "    </tr>\n",
       "    <tr>\n",
       "      <th>75%</th>\n",
       "      <td>0.709551</td>\n",
       "      <td>0.668136</td>\n",
       "      <td>0.656788</td>\n",
       "      <td>0.562404</td>\n",
       "      <td>0.482163</td>\n",
       "      <td>0.536187</td>\n",
       "      <td>0.705288</td>\n",
       "      <td>0.622547</td>\n",
       "      <td>0.688545</td>\n",
       "      <td>0.500132</td>\n",
       "      <td>0.841056</td>\n",
       "      <td>0.583300</td>\n",
       "      <td>0.849502</td>\n",
       "      <td>0.616576</td>\n",
       "      <td>0.502954</td>\n",
       "      <td>0.585185</td>\n",
       "      <td>0.510609</td>\n",
       "      <td>0.278146</td>\n",
       "      <td>0.251871</td>\n",
       "    </tr>\n",
       "    <tr>\n",
       "      <th>max</th>\n",
       "      <td>0.890624</td>\n",
       "      <td>1.174952</td>\n",
       "      <td>0.905002</td>\n",
       "      <td>0.859222</td>\n",
       "      <td>0.888486</td>\n",
       "      <td>0.793287</td>\n",
       "      <td>1.043296</td>\n",
       "      <td>0.996138</td>\n",
       "      <td>1.027624</td>\n",
       "      <td>1.370886</td>\n",
       "      <td>1.426373</td>\n",
       "      <td>1.167095</td>\n",
       "      <td>1.000000</td>\n",
       "      <td>1.000000</td>\n",
       "      <td>1.001081</td>\n",
       "      <td>0.940741</td>\n",
       "      <td>0.839365</td>\n",
       "      <td>1.195364</td>\n",
       "      <td>0.503794</td>\n",
       "    </tr>\n",
       "  </tbody>\n",
       "</table>\n",
       "</div>"
      ],
      "text/plain": [
       "       Wages CPI_MM     WTI_MM  Heating Oil_MM  Copper_MM   Sugar_MM  \\\n",
       "count     94.000000  94.000000       94.000000  94.000000  94.000000   \n",
       "mean       0.658167   0.578329        0.574540   0.503137   0.407163   \n",
       "std        0.112983   0.156718        0.150322   0.117403   0.147291   \n",
       "min       -0.106642  -0.004300        0.016675   0.010727   0.172100   \n",
       "25%        0.618067   0.501575        0.494081   0.432523   0.310477   \n",
       "50%        0.679615   0.580300        0.568844   0.503727   0.377728   \n",
       "75%        0.709551   0.668136        0.656788   0.562404   0.482163   \n",
       "max        0.890624   1.174952        0.905002   0.859222   0.888486   \n",
       "\n",
       "       Natural Gas_MM  Cattle_MM  Lean Hogs_MM  Soybeans_MM  Lumber_MM  \\\n",
       "count       94.000000  94.000000     94.000000    94.000000  94.000000   \n",
       "mean         0.402052   0.573052      0.493480     0.567205   0.400266   \n",
       "std          0.190204   0.176050      0.202375     0.174239   0.219967   \n",
       "min          0.013372   0.061753      0.153016     0.122611   0.024170   \n",
       "25%          0.264422   0.447394      0.343252     0.461156   0.254830   \n",
       "50%          0.383424   0.590549      0.465438     0.542730   0.364729   \n",
       "75%          0.536187   0.705288      0.622547     0.688545   0.500132   \n",
       "max          0.793287   1.043296      0.996138     1.027624   1.370886   \n",
       "\n",
       "       Capacity Utilization_MM    Corn_MM  M2 Velocity_MM     GDP_MM  \\\n",
       "count                94.000000  94.000000       94.000000  94.000000   \n",
       "mean                  0.807107   0.507818        0.813450   0.593435   \n",
       "std                   0.144096   0.202763        0.101008   0.092471   \n",
       "min                  -0.036677   0.050282        0.000000   0.000000   \n",
       "25%                   0.776530   0.392436        0.799763   0.580373   \n",
       "50%                   0.815040   0.498874        0.822361   0.594413   \n",
       "75%                   0.841056   0.583300        0.849502   0.616576   \n",
       "max                   1.426373   1.167095        1.000000   1.000000   \n",
       "\n",
       "        Wheat_MM     PMI_MM  USD Index_MM  Unemployment Rate_MM  \\\n",
       "count  94.000000  94.000000     94.000000             94.000000   \n",
       "mean    0.424146   0.526115      0.393227              0.267684   \n",
       "std     0.150483   0.130380      0.175635              0.116750   \n",
       "min     0.126514   0.105185      0.008946             -0.149007   \n",
       "25%     0.316342   0.442963      0.273118              0.254967   \n",
       "50%     0.410108   0.524444      0.378726              0.264901   \n",
       "75%     0.502954   0.585185      0.510609              0.278146   \n",
       "max     1.001081   0.940741      0.839365              1.195364   \n",
       "\n",
       "       Initial Jobless Claims_MM  \n",
       "count                  94.000000  \n",
       "mean                    0.242664  \n",
       "std                     0.068691  \n",
       "min                    -0.275991  \n",
       "25%                     0.248711  \n",
       "50%                     0.250265  \n",
       "75%                     0.251871  \n",
       "max                     0.503794  "
      ]
     },
     "execution_count": 156,
     "metadata": {},
     "output_type": "execute_result"
    }
   ],
   "source": [
    "X_test_MM.describe()"
   ]
  },
  {
   "cell_type": "markdown",
   "metadata": {},
   "source": [
    "The `min` & `max` are 0 & 1 confirming it has been scaled properly."
   ]
  },
  {
   "cell_type": "markdown",
   "metadata": {},
   "source": [
    "As a reminder, `y_train_MM_y_uns` & `y_test_MM_y_uns` will not be scaled or fit."
   ]
  },
  {
   "cell_type": "code",
   "execution_count": 157,
   "metadata": {},
   "outputs": [
    {
     "name": "stderr",
     "output_type": "stream",
     "text": [
      "C:\\Users\\rands\\anaconda3\\lib\\site-packages\\sklearn\\utils\\validation.py:67: FutureWarning: Pass fit_intercept=     Wage CPI_MM    WTI_MM  Heating Oil_MM  Copper_MM  Sugar_MM  \\\n",
      "79      0.679484  0.513019        0.570956   0.513956  0.279879   \n",
      "147     0.859895  0.764382        0.804423   0.399445  0.470928   \n",
      "143     0.754299  0.792164        0.863294   0.703253  0.450569   \n",
      "72      0.556161  0.431969        0.461921   0.480554  0.278491   \n",
      "305     0.711126  0.567125        0.616934   0.512109  0.341708   \n",
      "..           ...       ...             ...        ...       ...   \n",
      "188     0.485511  0.474795        0.375711   0.517000  0.212404   \n",
      "71      0.522422  0.380595        0.414547   0.462321  0.307018   \n",
      "106     0.684908  0.417432        0.529757   0.392984  0.479140   \n",
      "270     0.705364  0.616923        0.596507   0.466586  0.215088   \n",
      "102     0.631514  0.696465        0.577777   0.518003  0.289065   \n",
      "\n",
      "     Natural Gas_MM  Cattle_MM  Lean Hogs_MM  Soybeans_MM  Lumber_MM  \\\n",
      "79         0.648984   0.754082      0.439562     0.558715   0.401134   \n",
      "147        0.571172   0.539100      0.265577     0.986731   0.270986   \n",
      "143        0.701106   0.518736      0.695088     0.703409   0.312122   \n",
      "72         0.264402   0.806819      0.228484     0.115525   0.397418   \n",
      "305        0.804958   0.631820      0.234309     0.538846   0.337802   \n",
      "..              ...        ...           ...          ...        ...   \n",
      "188        0.341554   0.479099      0.774870     0.646552   0.428595   \n",
      "71         0.332857   0.807952      0.214378     0.228082   0.370874   \n",
      "106        0.245249   0.778572      0.418277     0.483239   0.323735   \n",
      "270        0.508824   0.228574      0.579311     0.611208   0.141546   \n",
      "102        0.151180   0.632063      0.429226     0.505917   0.440811   \n",
      "\n",
      "     Capacity Utilization_MM   Corn_MM  M2 Velocity_MM    GDP_MM  Wheat_MM  \\\n",
      "79                  0.812940  0.437934        0.769326  0.535253  0.281438   \n",
      "147                 0.823378  0.839533        0.744428  0.516678  0.548048   \n",
      "143                 0.732219  0.858637        0.804896  0.587131  0.380924   \n",
      "72                  0.797305  0.203569        0.809184  0.568643  0.220053   \n",
      "305                 0.789637  0.502941        0.855352  0.580953  0.730478   \n",
      "..                       ...       ...             ...       ...       ...   \n",
      "188                 0.790634  0.469933        0.839407  0.653772  0.467638   \n",
      "71                  0.811072  0.345437        0.809184  0.568643  0.305746   \n",
      "106                 0.852482  0.437916        0.813067  0.601488  0.380861   \n",
      "270                 0.753528  0.634171        0.822971  0.571809  0.421709   \n",
      "102                 0.843522  0.445710        0.812992  0.607141  0.390071   \n",
      "\n",
      "       PMI_MM  USD Index_MM  Unemployment Rate_MM  Initial Jobless Claims_MM  \n",
      "79   0.414815      0.371218              0.231788                   0.251190  \n",
      "147  0.478519      0.161838              0.298013                   0.256491  \n",
      "143  0.511111      0.136523              0.294702                   0.256283  \n",
      "72   0.591111      0.622902              0.245033                   0.248113  \n",
      "305  0.392593      0.087212              0.298013                   0.255535  \n",
      "..        ...           ...                   ...                        ...  \n",
      "188  0.641481      0.111469              0.301325                   0.248550  \n",
      "71   0.546667      0.699145              0.241722                   0.247822  \n",
      "106  0.442963      0.471035              0.264901                   0.249797  \n",
      "270  0.222222      0.114493              0.294702                   0.257801  \n",
      "102  0.549630      0.546497              0.231788                   0.244475  \n",
      "\n",
      "[219 rows x 19 columns], normalize=     Inflation\n",
      "79      -0.111\n",
      "147      0.744\n",
      "143      0.149\n",
      "72      -0.328\n",
      "305     -0.327\n",
      "..         ...\n",
      "188     -0.115\n",
      "71      -0.378\n",
      "106     -0.104\n",
      "270      0.188\n",
      "102     -0.523\n",
      "\n",
      "[219 rows x 1 columns] as keyword args. From version 0.25 passing these as positional arguments will result in an error\n",
      "  warnings.warn(\"Pass {} as keyword args. From version 0.25 \"\n"
     ]
    }
   ],
   "source": [
    "reg_all_MM_y_uns = LinearRegression(X_train_MM_y_uns,y_train_MM_y_uns)"
   ]
  },
  {
   "cell_type": "code",
   "execution_count": 158,
   "metadata": {},
   "outputs": [],
   "source": [
    "lm_MM_y_uns = LinearRegression().fit(X_train_MM_y_uns, y_train_MM_y_uns)"
   ]
  },
  {
   "cell_type": "code",
   "execution_count": 159,
   "metadata": {},
   "outputs": [],
   "source": [
    "y_tr_pred_MM_y_uns = lm.predict(X_train_MM_y_uns)\n",
    "y_te_pred_MM_y_uns = lm.predict(X_test_MM_y_uns)"
   ]
  },
  {
   "cell_type": "code",
   "execution_count": 160,
   "metadata": {},
   "outputs": [
    {
     "data": {
      "text/plain": [
       "(-0.031025366165671864, 0.0436326587288538)"
      ]
     },
     "execution_count": 160,
     "metadata": {},
     "output_type": "execute_result"
    }
   ],
   "source": [
    "median_r2_MM_y_uns = r2_score(y_train_MM_y_uns, y_tr_pred_MM_y_uns), r2_score(y_test_MM_y_uns, y_te_pred_MM_y_uns)\n",
    "median_r2_MM_y_uns"
   ]
  },
  {
   "cell_type": "code",
   "execution_count": 161,
   "metadata": {},
   "outputs": [
    {
     "data": {
      "text/plain": [
       "(0.6081604226182151, 0.5202523810158185)"
      ]
     },
     "execution_count": 161,
     "metadata": {},
     "output_type": "execute_result"
    }
   ],
   "source": [
    "median_mae_MM_y_uns = mean_absolute_error( y_train_MM_y_uns, y_tr_pred_MM_y_uns), mean_absolute_error( y_test_MM_y_uns, y_te_pred_MM_y_uns )\n",
    "median_mae_MM_y_uns"
   ]
  },
  {
   "cell_type": "code",
   "execution_count": 162,
   "metadata": {},
   "outputs": [
    {
     "data": {
      "text/plain": [
       "(0.7543582245247672, 0.5491707305463347)"
      ]
     },
     "execution_count": 162,
     "metadata": {},
     "output_type": "execute_result"
    }
   ],
   "source": [
    "median_mse_MM_y_uns = mean_squared_error( y_train_MM_y_uns, y_tr_pred_MM_y_uns ), mean_squared_error( y_test_MM_y_uns, y_te_pred_MM_y_uns )\n",
    "median_mse_MM_y_uns"
   ]
  },
  {
   "cell_type": "markdown",
   "metadata": {},
   "source": [
    "This scaling approach conveys that it is not appropriate for this data set."
   ]
  },
  {
   "cell_type": "markdown",
   "metadata": {},
   "source": [
    "## 3.6.6 Log Transform ( X scaled only )<a id='log_x'></a>"
   ]
  },
  {
   "cell_type": "code",
   "execution_count": 136,
   "metadata": {},
   "outputs": [],
   "source": [
    "LG_scaler = PowerTransformer()"
   ]
  },
  {
   "cell_type": "markdown",
   "metadata": {},
   "source": [
    "First `X_train_LG_y_uns`"
   ]
  },
  {
   "cell_type": "code",
   "execution_count": 163,
   "metadata": {},
   "outputs": [
    {
     "data": {
      "text/plain": [
       "PowerTransformer()"
      ]
     },
     "execution_count": 163,
     "metadata": {},
     "output_type": "execute_result"
    }
   ],
   "source": [
    "LG_scaler.fit(X_train_LG_y_uns[['Wage CPI','WTI','Heating Oil','Copper','Sugar',\n",
    "                     'Natural Gas','Cattle','Lean Hogs','Soybeans','Lumber',\n",
    "                     'Capacity Utilization','Corn','M2 Velocity','GDP','Wheat','PMI',\n",
    "                     'USD Index','Unemployment Rate','Initial Jobless Claims']])"
   ]
  },
  {
   "cell_type": "code",
   "execution_count": 164,
   "metadata": {},
   "outputs": [],
   "source": [
    "X_train_LG_y_uns[['Wage CPI_LG','WTI_LG','Heating Oil_LG','Copper_LG','Sugar_LG',\n",
    "                     'Natural Gas_LG','Cattle_LG','Lean Hogs_LG','Soybeans_LG','Lumber_LG',\n",
    "                     'Capacity Utilization_LG','Corn_LG','M2 Velocity_LG','GDP_LG','Wheat_LG','PMI_LG',\n",
    "                     'USD Index_LG','Unemployment Rate_LG','Initial Jobless Claims_LG']] = LG_scaler.transform(X_train_LG_y_uns[[\n",
    "    'Wage CPI','WTI','Heating Oil','Copper','Sugar',\n",
    "                     'Natural Gas','Cattle','Lean Hogs','Soybeans','Lumber',\n",
    "                     'Capacity Utilization','Corn','M2 Velocity','GDP','Wheat','PMI',\n",
    "                     'USD Index','Unemployment Rate','Initial Jobless Claims']])"
   ]
  },
  {
   "cell_type": "code",
   "execution_count": 165,
   "metadata": {},
   "outputs": [
    {
     "data": {
      "text/plain": [
       "Index(['Wage CPI', 'WTI', 'Heating Oil', 'Copper', 'Sugar', 'Natural Gas',\n",
       "       'Cattle', 'Lean Hogs', 'Soybeans', 'Lumber', 'Capacity Utilization',\n",
       "       'Corn', 'M2 Velocity', 'GDP', 'Wheat', 'PMI', 'USD Index',\n",
       "       'Unemployment Rate', 'Initial Jobless Claims', 'Wage CPI_LG', 'WTI_LG',\n",
       "       'Heating Oil_LG', 'Copper_LG', 'Sugar_LG', 'Natural Gas_LG',\n",
       "       'Cattle_LG', 'Lean Hogs_LG', 'Soybeans_LG', 'Lumber_LG',\n",
       "       'Capacity Utilization_LG', 'Corn_LG', 'M2 Velocity_LG', 'GDP_LG',\n",
       "       'Wheat_LG', 'PMI_LG', 'USD Index_LG', 'Unemployment Rate_LG',\n",
       "       'Initial Jobless Claims_LG'],\n",
       "      dtype='object')"
      ]
     },
     "execution_count": 165,
     "metadata": {},
     "output_type": "execute_result"
    }
   ],
   "source": [
    "X_train_LG_y_uns.columns"
   ]
  },
  {
   "cell_type": "code",
   "execution_count": 166,
   "metadata": {},
   "outputs": [],
   "source": [
    "X_train_LG_y_uns.drop(columns=prev_cols, inplace=True)"
   ]
  },
  {
   "cell_type": "code",
   "execution_count": 167,
   "metadata": {},
   "outputs": [
    {
     "data": {
      "text/html": [
       "<div>\n",
       "<style scoped>\n",
       "    .dataframe tbody tr th:only-of-type {\n",
       "        vertical-align: middle;\n",
       "    }\n",
       "\n",
       "    .dataframe tbody tr th {\n",
       "        vertical-align: top;\n",
       "    }\n",
       "\n",
       "    .dataframe thead th {\n",
       "        text-align: right;\n",
       "    }\n",
       "</style>\n",
       "<table border=\"1\" class=\"dataframe\">\n",
       "  <thead>\n",
       "    <tr style=\"text-align: right;\">\n",
       "      <th></th>\n",
       "      <th>Wage CPI_LG</th>\n",
       "      <th>WTI_LG</th>\n",
       "      <th>Heating Oil_LG</th>\n",
       "      <th>Copper_LG</th>\n",
       "      <th>Sugar_LG</th>\n",
       "      <th>Natural Gas_LG</th>\n",
       "      <th>Cattle_LG</th>\n",
       "      <th>Lean Hogs_LG</th>\n",
       "      <th>Soybeans_LG</th>\n",
       "      <th>Lumber_LG</th>\n",
       "      <th>Capacity Utilization_LG</th>\n",
       "      <th>Corn_LG</th>\n",
       "      <th>M2 Velocity_LG</th>\n",
       "      <th>GDP_LG</th>\n",
       "      <th>Wheat_LG</th>\n",
       "      <th>PMI_LG</th>\n",
       "      <th>USD Index_LG</th>\n",
       "      <th>Unemployment Rate_LG</th>\n",
       "      <th>Initial Jobless Claims_LG</th>\n",
       "    </tr>\n",
       "  </thead>\n",
       "  <tbody>\n",
       "    <tr>\n",
       "      <th>count</th>\n",
       "      <td>2.190000e+02</td>\n",
       "      <td>2.190000e+02</td>\n",
       "      <td>2.190000e+02</td>\n",
       "      <td>2.190000e+02</td>\n",
       "      <td>2.190000e+02</td>\n",
       "      <td>2.190000e+02</td>\n",
       "      <td>2.190000e+02</td>\n",
       "      <td>2.190000e+02</td>\n",
       "      <td>2.190000e+02</td>\n",
       "      <td>2.190000e+02</td>\n",
       "      <td>2.190000e+02</td>\n",
       "      <td>2.190000e+02</td>\n",
       "      <td>2.190000e+02</td>\n",
       "      <td>2.190000e+02</td>\n",
       "      <td>2.190000e+02</td>\n",
       "      <td>2.190000e+02</td>\n",
       "      <td>2.190000e+02</td>\n",
       "      <td>2.190000e+02</td>\n",
       "      <td>2.190000e+02</td>\n",
       "    </tr>\n",
       "    <tr>\n",
       "      <th>mean</th>\n",
       "      <td>1.158383e-16</td>\n",
       "      <td>1.064597e-17</td>\n",
       "      <td>2.547430e-17</td>\n",
       "      <td>-3.127651e-17</td>\n",
       "      <td>4.207695e-17</td>\n",
       "      <td>1.216683e-17</td>\n",
       "      <td>-2.952990e-17</td>\n",
       "      <td>1.267378e-18</td>\n",
       "      <td>2.914969e-17</td>\n",
       "      <td>1.216683e-17</td>\n",
       "      <td>-2.306628e-17</td>\n",
       "      <td>-4.233042e-17</td>\n",
       "      <td>-2.534756e-18</td>\n",
       "      <td>-1.069667e-16</td>\n",
       "      <td>2.154542e-17</td>\n",
       "      <td>-2.712189e-17</td>\n",
       "      <td>1.267378e-17</td>\n",
       "      <td>1.115293e-17</td>\n",
       "      <td>1.901067e-17</td>\n",
       "    </tr>\n",
       "    <tr>\n",
       "      <th>std</th>\n",
       "      <td>1.002291e+00</td>\n",
       "      <td>1.002291e+00</td>\n",
       "      <td>1.002291e+00</td>\n",
       "      <td>1.002291e+00</td>\n",
       "      <td>1.002291e+00</td>\n",
       "      <td>1.002291e+00</td>\n",
       "      <td>1.002291e+00</td>\n",
       "      <td>1.002291e+00</td>\n",
       "      <td>1.002291e+00</td>\n",
       "      <td>1.002291e+00</td>\n",
       "      <td>1.002291e+00</td>\n",
       "      <td>1.002291e+00</td>\n",
       "      <td>1.002291e+00</td>\n",
       "      <td>1.002291e+00</td>\n",
       "      <td>1.002291e+00</td>\n",
       "      <td>1.002291e+00</td>\n",
       "      <td>1.002291e+00</td>\n",
       "      <td>1.002291e+00</td>\n",
       "      <td>1.002291e+00</td>\n",
       "    </tr>\n",
       "    <tr>\n",
       "      <th>min</th>\n",
       "      <td>-3.864340e+00</td>\n",
       "      <td>-3.004277e+00</td>\n",
       "      <td>-2.834792e+00</td>\n",
       "      <td>-4.919980e+00</td>\n",
       "      <td>-3.368354e+00</td>\n",
       "      <td>-2.596777e+00</td>\n",
       "      <td>-2.833104e+00</td>\n",
       "      <td>-2.399538e+00</td>\n",
       "      <td>-3.462072e+00</td>\n",
       "      <td>-2.860781e+00</td>\n",
       "      <td>-3.452302e+00</td>\n",
       "      <td>-3.293396e+00</td>\n",
       "      <td>-3.954055e+00</td>\n",
       "      <td>-6.042891e+00</td>\n",
       "      <td>-3.854579e+00</td>\n",
       "      <td>-4.603088e+00</td>\n",
       "      <td>-2.312119e+00</td>\n",
       "      <td>-9.160974e+00</td>\n",
       "      <td>-1.052430e+01</td>\n",
       "    </tr>\n",
       "    <tr>\n",
       "      <th>25%</th>\n",
       "      <td>-3.834754e-01</td>\n",
       "      <td>-6.242652e-01</td>\n",
       "      <td>-5.620981e-01</td>\n",
       "      <td>-5.724524e-01</td>\n",
       "      <td>-6.381705e-01</td>\n",
       "      <td>-5.820169e-01</td>\n",
       "      <td>-6.755867e-01</td>\n",
       "      <td>-5.916857e-01</td>\n",
       "      <td>-5.210450e-01</td>\n",
       "      <td>-6.553694e-01</td>\n",
       "      <td>-4.585748e-01</td>\n",
       "      <td>-5.755291e-01</td>\n",
       "      <td>-4.624863e-01</td>\n",
       "      <td>-2.169760e-01</td>\n",
       "      <td>-5.948099e-01</td>\n",
       "      <td>-5.490508e-01</td>\n",
       "      <td>-7.539266e-01</td>\n",
       "      <td>-2.772837e-01</td>\n",
       "      <td>-4.405917e-02</td>\n",
       "    </tr>\n",
       "    <tr>\n",
       "      <th>50%</th>\n",
       "      <td>2.178426e-02</td>\n",
       "      <td>-2.571788e-02</td>\n",
       "      <td>-6.522170e-02</td>\n",
       "      <td>-9.491364e-02</td>\n",
       "      <td>-1.007306e-01</td>\n",
       "      <td>-7.720205e-02</td>\n",
       "      <td>9.754577e-03</td>\n",
       "      <td>-5.351127e-02</td>\n",
       "      <td>-4.740022e-02</td>\n",
       "      <td>4.555298e-02</td>\n",
       "      <td>3.360083e-02</td>\n",
       "      <td>-8.262975e-02</td>\n",
       "      <td>-1.487170e-01</td>\n",
       "      <td>4.385546e-02</td>\n",
       "      <td>1.456877e-02</td>\n",
       "      <td>-1.389741e-02</td>\n",
       "      <td>1.084102e-01</td>\n",
       "      <td>-7.173693e-02</td>\n",
       "      <td>2.018497e-02</td>\n",
       "    </tr>\n",
       "    <tr>\n",
       "      <th>75%</th>\n",
       "      <td>4.560366e-01</td>\n",
       "      <td>6.162618e-01</td>\n",
       "      <td>6.030152e-01</td>\n",
       "      <td>5.686699e-01</td>\n",
       "      <td>6.629737e-01</td>\n",
       "      <td>6.141918e-01</td>\n",
       "      <td>7.416108e-01</td>\n",
       "      <td>7.399005e-01</td>\n",
       "      <td>4.824446e-01</td>\n",
       "      <td>6.462496e-01</td>\n",
       "      <td>4.711906e-01</td>\n",
       "      <td>5.529895e-01</td>\n",
       "      <td>5.433786e-01</td>\n",
       "      <td>3.000042e-01</td>\n",
       "      <td>6.391738e-01</td>\n",
       "      <td>6.175646e-01</td>\n",
       "      <td>6.226227e-01</td>\n",
       "      <td>2.437991e-01</td>\n",
       "      <td>6.372902e-02</td>\n",
       "    </tr>\n",
       "    <tr>\n",
       "      <th>max</th>\n",
       "      <td>4.638354e+00</td>\n",
       "      <td>3.042289e+00</td>\n",
       "      <td>2.742120e+00</td>\n",
       "      <td>3.508829e+00</td>\n",
       "      <td>2.925619e+00</td>\n",
       "      <td>2.399775e+00</td>\n",
       "      <td>2.634560e+00</td>\n",
       "      <td>2.574808e+00</td>\n",
       "      <td>2.775402e+00</td>\n",
       "      <td>3.342907e+00</td>\n",
       "      <td>3.607041e+00</td>\n",
       "      <td>2.839295e+00</td>\n",
       "      <td>6.349962e+00</td>\n",
       "      <td>9.052354e+00</td>\n",
       "      <td>3.001611e+00</td>\n",
       "      <td>3.224333e+00</td>\n",
       "      <td>2.948375e+00</td>\n",
       "      <td>6.018238e+00</td>\n",
       "      <td>7.507126e+00</td>\n",
       "    </tr>\n",
       "  </tbody>\n",
       "</table>\n",
       "</div>"
      ],
      "text/plain": [
       "        Wage CPI_LG        WTI_LG  Heating Oil_LG     Copper_LG      Sugar_LG  \\\n",
       "count  2.190000e+02  2.190000e+02    2.190000e+02  2.190000e+02  2.190000e+02   \n",
       "mean   1.158383e-16  1.064597e-17    2.547430e-17 -3.127651e-17  4.207695e-17   \n",
       "std    1.002291e+00  1.002291e+00    1.002291e+00  1.002291e+00  1.002291e+00   \n",
       "min   -3.864340e+00 -3.004277e+00   -2.834792e+00 -4.919980e+00 -3.368354e+00   \n",
       "25%   -3.834754e-01 -6.242652e-01   -5.620981e-01 -5.724524e-01 -6.381705e-01   \n",
       "50%    2.178426e-02 -2.571788e-02   -6.522170e-02 -9.491364e-02 -1.007306e-01   \n",
       "75%    4.560366e-01  6.162618e-01    6.030152e-01  5.686699e-01  6.629737e-01   \n",
       "max    4.638354e+00  3.042289e+00    2.742120e+00  3.508829e+00  2.925619e+00   \n",
       "\n",
       "       Natural Gas_LG     Cattle_LG  Lean Hogs_LG   Soybeans_LG     Lumber_LG  \\\n",
       "count    2.190000e+02  2.190000e+02  2.190000e+02  2.190000e+02  2.190000e+02   \n",
       "mean     1.216683e-17 -2.952990e-17  1.267378e-18  2.914969e-17  1.216683e-17   \n",
       "std      1.002291e+00  1.002291e+00  1.002291e+00  1.002291e+00  1.002291e+00   \n",
       "min     -2.596777e+00 -2.833104e+00 -2.399538e+00 -3.462072e+00 -2.860781e+00   \n",
       "25%     -5.820169e-01 -6.755867e-01 -5.916857e-01 -5.210450e-01 -6.553694e-01   \n",
       "50%     -7.720205e-02  9.754577e-03 -5.351127e-02 -4.740022e-02  4.555298e-02   \n",
       "75%      6.141918e-01  7.416108e-01  7.399005e-01  4.824446e-01  6.462496e-01   \n",
       "max      2.399775e+00  2.634560e+00  2.574808e+00  2.775402e+00  3.342907e+00   \n",
       "\n",
       "       Capacity Utilization_LG       Corn_LG  M2 Velocity_LG        GDP_LG  \\\n",
       "count             2.190000e+02  2.190000e+02    2.190000e+02  2.190000e+02   \n",
       "mean             -2.306628e-17 -4.233042e-17   -2.534756e-18 -1.069667e-16   \n",
       "std               1.002291e+00  1.002291e+00    1.002291e+00  1.002291e+00   \n",
       "min              -3.452302e+00 -3.293396e+00   -3.954055e+00 -6.042891e+00   \n",
       "25%              -4.585748e-01 -5.755291e-01   -4.624863e-01 -2.169760e-01   \n",
       "50%               3.360083e-02 -8.262975e-02   -1.487170e-01  4.385546e-02   \n",
       "75%               4.711906e-01  5.529895e-01    5.433786e-01  3.000042e-01   \n",
       "max               3.607041e+00  2.839295e+00    6.349962e+00  9.052354e+00   \n",
       "\n",
       "           Wheat_LG        PMI_LG  USD Index_LG  Unemployment Rate_LG  \\\n",
       "count  2.190000e+02  2.190000e+02  2.190000e+02          2.190000e+02   \n",
       "mean   2.154542e-17 -2.712189e-17  1.267378e-17          1.115293e-17   \n",
       "std    1.002291e+00  1.002291e+00  1.002291e+00          1.002291e+00   \n",
       "min   -3.854579e+00 -4.603088e+00 -2.312119e+00         -9.160974e+00   \n",
       "25%   -5.948099e-01 -5.490508e-01 -7.539266e-01         -2.772837e-01   \n",
       "50%    1.456877e-02 -1.389741e-02  1.084102e-01         -7.173693e-02   \n",
       "75%    6.391738e-01  6.175646e-01  6.226227e-01          2.437991e-01   \n",
       "max    3.001611e+00  3.224333e+00  2.948375e+00          6.018238e+00   \n",
       "\n",
       "       Initial Jobless Claims_LG  \n",
       "count               2.190000e+02  \n",
       "mean                1.901067e-17  \n",
       "std                 1.002291e+00  \n",
       "min                -1.052430e+01  \n",
       "25%                -4.405917e-02  \n",
       "50%                 2.018497e-02  \n",
       "75%                 6.372902e-02  \n",
       "max                 7.507126e+00  "
      ]
     },
     "execution_count": 167,
     "metadata": {},
     "output_type": "execute_result"
    }
   ],
   "source": [
    "X_train_LG.describe()"
   ]
  },
  {
   "cell_type": "markdown",
   "metadata": {},
   "source": [
    "All have a **Standard Deviation** `std` of 1 so we will continue to the next."
   ]
  },
  {
   "cell_type": "markdown",
   "metadata": {},
   "source": [
    "`X_test_LG_y_uns` will not be fitted."
   ]
  },
  {
   "cell_type": "code",
   "execution_count": 169,
   "metadata": {},
   "outputs": [],
   "source": [
    "X_test_LG_y_uns[['Wage CPI_LG','WTI_LG','Heating Oil_LG','Copper_LG','Sugar_LG',\n",
    "                     'Natural Gas_LG','Cattle_LG','Lean Hogs_LG','Soybeans_LG','Lumber_LG',\n",
    "                     'Capacity Utilization_LG','Corn_LG','M2 Velocity_LG','GDP_LG','Wheat_LG','PMI_LG',\n",
    "                     'USD Index_LG','Unemployment Rate_LG','Initial Jobless Claims_LG']] = LG_scaler.transform(X_test_LG_y_uns[[\n",
    "    'Wage CPI','WTI','Heating Oil','Copper','Sugar',\n",
    "                     'Natural Gas','Cattle','Lean Hogs','Soybeans','Lumber',\n",
    "                     'Capacity Utilization','Corn','M2 Velocity','GDP','Wheat','PMI',\n",
    "                     'USD Index','Unemployment Rate','Initial Jobless Claims']])"
   ]
  },
  {
   "cell_type": "code",
   "execution_count": 170,
   "metadata": {},
   "outputs": [
    {
     "data": {
      "text/plain": [
       "Index(['Wage CPI', 'WTI', 'Heating Oil', 'Copper', 'Sugar', 'Natural Gas',\n",
       "       'Cattle', 'Lean Hogs', 'Soybeans', 'Lumber', 'Capacity Utilization',\n",
       "       'Corn', 'M2 Velocity', 'GDP', 'Wheat', 'PMI', 'USD Index',\n",
       "       'Unemployment Rate', 'Initial Jobless Claims', 'Wage CPI_LG', 'WTI_LG',\n",
       "       'Heating Oil_LG', 'Copper_LG', 'Sugar_LG', 'Natural Gas_LG',\n",
       "       'Cattle_LG', 'Lean Hogs_LG', 'Soybeans_LG', 'Lumber_LG',\n",
       "       'Capacity Utilization_LG', 'Corn_LG', 'M2 Velocity_LG', 'GDP_LG',\n",
       "       'Wheat_LG', 'PMI_LG', 'USD Index_LG', 'Unemployment Rate_LG',\n",
       "       'Initial Jobless Claims_LG'],\n",
       "      dtype='object')"
      ]
     },
     "execution_count": 170,
     "metadata": {},
     "output_type": "execute_result"
    }
   ],
   "source": [
    "X_test_LG_y_uns.columns"
   ]
  },
  {
   "cell_type": "code",
   "execution_count": 171,
   "metadata": {},
   "outputs": [],
   "source": [
    "X_test_LG_y_uns.drop(columns=prev_cols, inplace=True)"
   ]
  },
  {
   "cell_type": "code",
   "execution_count": 172,
   "metadata": {
    "scrolled": true
   },
   "outputs": [
    {
     "data": {
      "text/html": [
       "<div>\n",
       "<style scoped>\n",
       "    .dataframe tbody tr th:only-of-type {\n",
       "        vertical-align: middle;\n",
       "    }\n",
       "\n",
       "    .dataframe tbody tr th {\n",
       "        vertical-align: top;\n",
       "    }\n",
       "\n",
       "    .dataframe thead th {\n",
       "        text-align: right;\n",
       "    }\n",
       "</style>\n",
       "<table border=\"1\" class=\"dataframe\">\n",
       "  <thead>\n",
       "    <tr style=\"text-align: right;\">\n",
       "      <th></th>\n",
       "      <th>Wage CPI_LG</th>\n",
       "      <th>WTI_LG</th>\n",
       "      <th>Heating Oil_LG</th>\n",
       "      <th>Copper_LG</th>\n",
       "      <th>Sugar_LG</th>\n",
       "      <th>Natural Gas_LG</th>\n",
       "      <th>Cattle_LG</th>\n",
       "      <th>Lean Hogs_LG</th>\n",
       "      <th>Soybeans_LG</th>\n",
       "      <th>Lumber_LG</th>\n",
       "      <th>Capacity Utilization_LG</th>\n",
       "      <th>Corn_LG</th>\n",
       "      <th>M2 Velocity_LG</th>\n",
       "      <th>GDP_LG</th>\n",
       "      <th>Wheat_LG</th>\n",
       "      <th>PMI_LG</th>\n",
       "      <th>USD Index_LG</th>\n",
       "      <th>Unemployment Rate_LG</th>\n",
       "      <th>Initial Jobless Claims_LG</th>\n",
       "    </tr>\n",
       "  </thead>\n",
       "  <tbody>\n",
       "    <tr>\n",
       "      <th>count</th>\n",
       "      <td>94.000000</td>\n",
       "      <td>94.000000</td>\n",
       "      <td>94.000000</td>\n",
       "      <td>94.000000</td>\n",
       "      <td>94.000000</td>\n",
       "      <td>94.000000</td>\n",
       "      <td>94.000000</td>\n",
       "      <td>94.000000</td>\n",
       "      <td>94.000000</td>\n",
       "      <td>94.000000</td>\n",
       "      <td>94.000000</td>\n",
       "      <td>94.000000</td>\n",
       "      <td>94.000000</td>\n",
       "      <td>94.000000</td>\n",
       "      <td>94.000000</td>\n",
       "      <td>94.000000</td>\n",
       "      <td>94.000000</td>\n",
       "      <td>94.000000</td>\n",
       "      <td>94.000000</td>\n",
       "    </tr>\n",
       "    <tr>\n",
       "      <th>mean</th>\n",
       "      <td>-0.048045</td>\n",
       "      <td>0.003998</td>\n",
       "      <td>-0.047118</td>\n",
       "      <td>-0.161938</td>\n",
       "      <td>0.123452</td>\n",
       "      <td>-0.057807</td>\n",
       "      <td>-0.041445</td>\n",
       "      <td>0.041096</td>\n",
       "      <td>0.007478</td>\n",
       "      <td>0.124216</td>\n",
       "      <td>0.531796</td>\n",
       "      <td>-0.013118</td>\n",
       "      <td>0.123268</td>\n",
       "      <td>0.159476</td>\n",
       "      <td>-0.022034</td>\n",
       "      <td>-0.029349</td>\n",
       "      <td>0.083582</td>\n",
       "      <td>-0.422558</td>\n",
       "      <td>-0.431008</td>\n",
       "    </tr>\n",
       "    <tr>\n",
       "      <th>std</th>\n",
       "      <td>0.907698</td>\n",
       "      <td>1.021481</td>\n",
       "      <td>0.853147</td>\n",
       "      <td>0.990601</td>\n",
       "      <td>0.899065</td>\n",
       "      <td>1.013582</td>\n",
       "      <td>0.983241</td>\n",
       "      <td>1.007719</td>\n",
       "      <td>1.095473</td>\n",
       "      <td>1.278398</td>\n",
       "      <td>3.514545</td>\n",
       "      <td>1.220314</td>\n",
       "      <td>1.357368</td>\n",
       "      <td>1.550596</td>\n",
       "      <td>1.001748</td>\n",
       "      <td>0.990415</td>\n",
       "      <td>0.957555</td>\n",
       "      <td>2.500914</td>\n",
       "      <td>2.741489</td>\n",
       "    </tr>\n",
       "    <tr>\n",
       "      <th>min</th>\n",
       "      <td>-4.138783</td>\n",
       "      <td>-3.022382</td>\n",
       "      <td>-2.767646</td>\n",
       "      <td>-4.805847</td>\n",
       "      <td>-1.616651</td>\n",
       "      <td>-2.491133</td>\n",
       "      <td>-2.577495</td>\n",
       "      <td>-1.646983</td>\n",
       "      <td>-2.729864</td>\n",
       "      <td>-2.644070</td>\n",
       "      <td>-3.479724</td>\n",
       "      <td>-2.947103</td>\n",
       "      <td>-3.954055</td>\n",
       "      <td>-6.042891</td>\n",
       "      <td>-2.472956</td>\n",
       "      <td>-3.629967</td>\n",
       "      <td>-2.250001</td>\n",
       "      <td>-16.854763</td>\n",
       "      <td>-23.033517</td>\n",
       "    </tr>\n",
       "    <tr>\n",
       "      <th>25%</th>\n",
       "      <td>-0.530851</td>\n",
       "      <td>-0.520854</td>\n",
       "      <td>-0.541442</td>\n",
       "      <td>-0.729626</td>\n",
       "      <td>-0.462850</td>\n",
       "      <td>-0.735979</td>\n",
       "      <td>-0.772889</td>\n",
       "      <td>-0.707323</td>\n",
       "      <td>-0.664382</td>\n",
       "      <td>-0.766113</td>\n",
       "      <td>-0.393630</td>\n",
       "      <td>-0.695743</td>\n",
       "      <td>-0.457238</td>\n",
       "      <td>-0.149510</td>\n",
       "      <td>-0.741011</td>\n",
       "      <td>-0.647270</td>\n",
       "      <td>-0.553747</td>\n",
       "      <td>-0.348457</td>\n",
       "      <td>-0.042083</td>\n",
       "    </tr>\n",
       "    <tr>\n",
       "      <th>50%</th>\n",
       "      <td>0.070022</td>\n",
       "      <td>-0.042497</td>\n",
       "      <td>-0.124654</td>\n",
       "      <td>-0.124933</td>\n",
       "      <td>0.020949</td>\n",
       "      <td>-0.052213</td>\n",
       "      <td>0.006270</td>\n",
       "      <td>-0.101180</td>\n",
       "      <td>-0.155957</td>\n",
       "      <td>0.007986</td>\n",
       "      <td>0.086237</td>\n",
       "      <td>-0.034993</td>\n",
       "      <td>-0.006430</td>\n",
       "      <td>0.070792</td>\n",
       "      <td>-0.025737</td>\n",
       "      <td>0.008901</td>\n",
       "      <td>0.053312</td>\n",
       "      <td>-0.138910</td>\n",
       "      <td>0.010413</td>\n",
       "    </tr>\n",
       "    <tr>\n",
       "      <th>75%</th>\n",
       "      <td>0.388889</td>\n",
       "      <td>0.528902</td>\n",
       "      <td>0.395991</td>\n",
       "      <td>0.354593</td>\n",
       "      <td>0.681843</td>\n",
       "      <td>0.698256</td>\n",
       "      <td>0.681600</td>\n",
       "      <td>0.681418</td>\n",
       "      <td>0.764234</td>\n",
       "      <td>0.861282</td>\n",
       "      <td>0.450895</td>\n",
       "      <td>0.475157</td>\n",
       "      <td>0.614669</td>\n",
       "      <td>0.428787</td>\n",
       "      <td>0.599602</td>\n",
       "      <td>0.458863</td>\n",
       "      <td>0.758699</td>\n",
       "      <td>0.121570</td>\n",
       "      <td>0.048695</td>\n",
       "    </tr>\n",
       "    <tr>\n",
       "      <th>max</th>\n",
       "      <td>2.758862</td>\n",
       "      <td>4.589840</td>\n",
       "      <td>2.042987</td>\n",
       "      <td>2.563405</td>\n",
       "      <td>2.545349</td>\n",
       "      <td>1.725179</td>\n",
       "      <td>2.948846</td>\n",
       "      <td>2.555352</td>\n",
       "      <td>2.956581</td>\n",
       "      <td>4.746567</td>\n",
       "      <td>29.132633</td>\n",
       "      <td>3.727261</td>\n",
       "      <td>6.349962</td>\n",
       "      <td>9.052354</td>\n",
       "      <td>3.005600</td>\n",
       "      <td>2.845329</td>\n",
       "      <td>2.295675</td>\n",
       "      <td>6.893727</td>\n",
       "      <td>2.709870</td>\n",
       "    </tr>\n",
       "  </tbody>\n",
       "</table>\n",
       "</div>"
      ],
      "text/plain": [
       "       Wage CPI_LG     WTI_LG  Heating Oil_LG  Copper_LG   Sugar_LG  \\\n",
       "count    94.000000  94.000000       94.000000  94.000000  94.000000   \n",
       "mean     -0.048045   0.003998       -0.047118  -0.161938   0.123452   \n",
       "std       0.907698   1.021481        0.853147   0.990601   0.899065   \n",
       "min      -4.138783  -3.022382       -2.767646  -4.805847  -1.616651   \n",
       "25%      -0.530851  -0.520854       -0.541442  -0.729626  -0.462850   \n",
       "50%       0.070022  -0.042497       -0.124654  -0.124933   0.020949   \n",
       "75%       0.388889   0.528902        0.395991   0.354593   0.681843   \n",
       "max       2.758862   4.589840        2.042987   2.563405   2.545349   \n",
       "\n",
       "       Natural Gas_LG  Cattle_LG  Lean Hogs_LG  Soybeans_LG  Lumber_LG  \\\n",
       "count       94.000000  94.000000     94.000000    94.000000  94.000000   \n",
       "mean        -0.057807  -0.041445      0.041096     0.007478   0.124216   \n",
       "std          1.013582   0.983241      1.007719     1.095473   1.278398   \n",
       "min         -2.491133  -2.577495     -1.646983    -2.729864  -2.644070   \n",
       "25%         -0.735979  -0.772889     -0.707323    -0.664382  -0.766113   \n",
       "50%         -0.052213   0.006270     -0.101180    -0.155957   0.007986   \n",
       "75%          0.698256   0.681600      0.681418     0.764234   0.861282   \n",
       "max          1.725179   2.948846      2.555352     2.956581   4.746567   \n",
       "\n",
       "       Capacity Utilization_LG    Corn_LG  M2 Velocity_LG     GDP_LG  \\\n",
       "count                94.000000  94.000000       94.000000  94.000000   \n",
       "mean                  0.531796  -0.013118        0.123268   0.159476   \n",
       "std                   3.514545   1.220314        1.357368   1.550596   \n",
       "min                  -3.479724  -2.947103       -3.954055  -6.042891   \n",
       "25%                  -0.393630  -0.695743       -0.457238  -0.149510   \n",
       "50%                   0.086237  -0.034993       -0.006430   0.070792   \n",
       "75%                   0.450895   0.475157        0.614669   0.428787   \n",
       "max                  29.132633   3.727261        6.349962   9.052354   \n",
       "\n",
       "        Wheat_LG     PMI_LG  USD Index_LG  Unemployment Rate_LG  \\\n",
       "count  94.000000  94.000000     94.000000             94.000000   \n",
       "mean   -0.022034  -0.029349      0.083582             -0.422558   \n",
       "std     1.001748   0.990415      0.957555              2.500914   \n",
       "min    -2.472956  -3.629967     -2.250001            -16.854763   \n",
       "25%    -0.741011  -0.647270     -0.553747             -0.348457   \n",
       "50%    -0.025737   0.008901      0.053312             -0.138910   \n",
       "75%     0.599602   0.458863      0.758699              0.121570   \n",
       "max     3.005600   2.845329      2.295675              6.893727   \n",
       "\n",
       "       Initial Jobless Claims_LG  \n",
       "count                  94.000000  \n",
       "mean                   -0.431008  \n",
       "std                     2.741489  \n",
       "min                   -23.033517  \n",
       "25%                    -0.042083  \n",
       "50%                     0.010413  \n",
       "75%                     0.048695  \n",
       "max                     2.709870  "
      ]
     },
     "execution_count": 172,
     "metadata": {},
     "output_type": "execute_result"
    }
   ],
   "source": [
    "X_test_LG_y_uns.describe()"
   ]
  },
  {
   "cell_type": "markdown",
   "metadata": {},
   "source": [
    "As a reminder, `y_train_LG_y_uns` & `y_test_LG_y_uns` will not be scaled or fit."
   ]
  },
  {
   "cell_type": "code",
   "execution_count": 173,
   "metadata": {},
   "outputs": [
    {
     "name": "stderr",
     "output_type": "stream",
     "text": [
      "C:\\Users\\rands\\anaconda3\\lib\\site-packages\\sklearn\\utils\\validation.py:67: FutureWarning: Pass dual=     Inflation\n",
      "79      -0.111\n",
      "147      0.744\n",
      "143      0.149\n",
      "72      -0.328\n",
      "305     -0.327\n",
      "..         ...\n",
      "188     -0.115\n",
      "71      -0.378\n",
      "106     -0.104\n",
      "270      0.188\n",
      "102     -0.523\n",
      "\n",
      "[219 rows x 1 columns] as keyword args. From version 0.25 passing these as positional arguments will result in an error\n",
      "  warnings.warn(\"Pass {} as keyword args. From version 0.25 \"\n"
     ]
    }
   ],
   "source": [
    "reg_new_LG = LogisticRegression(X_train_LG_y_uns,y_train_LG_y_uns)"
   ]
  },
  {
   "cell_type": "code",
   "execution_count": 174,
   "metadata": {},
   "outputs": [],
   "source": [
    "lm_LG = LinearRegression().fit(X_train_LG_y_uns, y_train_LG_y_uns)"
   ]
  },
  {
   "cell_type": "code",
   "execution_count": 175,
   "metadata": {},
   "outputs": [],
   "source": [
    "y_tr_pred_LG_y_uns = lm_LG.predict(X_train_LG_y_uns)\n",
    "y_te_pred_LG_y_uns = lm_LG.predict(X_test_LG_y_uns)"
   ]
  },
  {
   "cell_type": "code",
   "execution_count": 176,
   "metadata": {},
   "outputs": [
    {
     "data": {
      "text/plain": [
       "(0.4075382667202002, -0.10822673274811723)"
      ]
     },
     "execution_count": 176,
     "metadata": {},
     "output_type": "execute_result"
    }
   ],
   "source": [
    "median_r2_LG_y_uns = r2_score(y_train_LG_y_uns, y_tr_pred_LG_y_uns), r2_score(y_test_LG_y_uns, y_te_pred_LG_y_uns)\n",
    "median_r2_LG_y_uns"
   ]
  },
  {
   "cell_type": "code",
   "execution_count": 177,
   "metadata": {},
   "outputs": [
    {
     "data": {
      "text/plain": [
       "(0.4574079188297128, 0.5198843700805041)"
      ]
     },
     "execution_count": 177,
     "metadata": {},
     "output_type": "execute_result"
    }
   ],
   "source": [
    "median_mae_LG_y_uns = mean_absolute_error( y_train_LG_y_uns, y_tr_pred_LG_y_uns), mean_absolute_error( y_test_LG_y_uns, y_te_pred_LG_y_uns )\n",
    "median_mae_LG_y_uns"
   ]
  },
  {
   "cell_type": "code",
   "execution_count": 178,
   "metadata": {
    "scrolled": false
   },
   "outputs": [
    {
     "data": {
      "text/plain": [
       "(0.43347952037098625, 0.6363722998166571)"
      ]
     },
     "execution_count": 178,
     "metadata": {},
     "output_type": "execute_result"
    }
   ],
   "source": [
    "median_mse_LG_y_uns = mean_squared_error( y_train_LG_y_uns, y_tr_pred_LG_y_uns ), mean_squared_error( y_test_LG_y_uns, y_te_pred_LG_y_uns )\n",
    "median_mse_LG_y_uns"
   ]
  },
  {
   "cell_type": "markdown",
   "metadata": {},
   "source": [
    "## 3.7 Scaling Review<a id='scale_rev'></a>"
   ]
  },
  {
   "cell_type": "markdown",
   "metadata": {},
   "source": [
    "A noteable amount of information was 're-arranged' so we will quickly show the r2-values for all of the scaling approaches side by side:"
   ]
  },
  {
   "cell_type": "code",
   "execution_count": 179,
   "metadata": {},
   "outputs": [
    {
     "name": "stdout",
     "output_type": "stream",
     "text": [
      " Results for X & y scaled below \n",
      " SS Train | 0.4019   Test 0.3856 \n",
      " MM Train | -8.0011   Test -10.8513 \n",
      " LG Train | 0.4049   Test -0.1388 \n",
      " \n",
      " Results for X only scaled below \n",
      " SS Train | 0.4134   Test 0.3772 \n",
      " MM Train | -0.031  Test 0.0436 \n",
      " LG Train | 0.4075   Test -0.1082\n"
     ]
    }
   ],
   "source": [
    "print(' Results for X & y scaled below',\n",
    "    '\\n','SS Train |',round(median_r2_SS[0],4),'  Test', round(median_r2_SS[1],4),\n",
    "      '\\n','MM Train |',round(median_r2_MM[0],4),'  Test', round(median_r2_MM[1],4),\n",
    "      '\\n','LG Train |',round(median_r2_LG[0],4),'  Test', round(median_r2_LG[1],4),'\\n','\\n',\n",
    "     'Results for X only scaled below',\n",
    "    '\\n','SS Train |',round(median_r2_SS_y_uns[0],4),'  Test', round(median_r2_SS_y_uns[1],4),\n",
    "      '\\n','MM Train |',round(median_r2_MM_y_uns[0],4),' Test', round(median_r2_MM_y_uns[1],4),\n",
    "      '\\n','LG Train |',round(median_r2_LG_y_uns[0],4),'  Test', round(median_r2_LG_y_uns[1],4))"
   ]
  },
  {
   "cell_type": "markdown",
   "metadata": {},
   "source": [
    "Of the three ( 3 ) scalers, `MinMax` ( `MM` ) presented poor results on both scaling & unscaling `y`. \n",
    "\n",
    "With the exception of `Log Transformation` ( `LG` ) `Test` data on a both scaled & unscaled `y`, `Standard Scaler` ( `SS` ) & `LG` present the best outcomes. **These results lead me to believe that a healthy combination between `SS` & `LG` \"may\" present even better outcomes if they are balanced correctly. This balancing act will need to be done on an unscaled `y` but I am comfortable with that as:**\n",
    "   * `SS` presented better results on the `Training` data\n",
    "     * <i>marginally worse on the `Test` data </i>\n",
    "   * `LG` presented marginally better results on the `Test` data\n",
    "     * <i>maringally worse on the `Training` data</i>\n",
    "\n",
    "We will now investigate these finds, as per the above, even further in the next section."
   ]
  },
  {
   "cell_type": "markdown",
   "metadata": {},
   "source": [
    "## 3.8 Balancing SS & LG to unscaled y<a id='ss_log'></a>"
   ]
  },
  {
   "cell_type": "markdown",
   "metadata": {},
   "source": [
    "We will now start from the beginning & assign the `Train` / `Test` splits to a new set of variables for both `SS` & `LG`."
   ]
  },
  {
   "cell_type": "markdown",
   "metadata": {},
   "source": [
    "**StandardScaler ( X only ) for the SS & LG Combination** | *Assignment to its respective data frames.*"
   ]
  },
  {
   "cell_type": "code",
   "execution_count": 180,
   "metadata": {},
   "outputs": [],
   "source": [
    "X_tr_SS_y_uns = pd.DataFrame(X_train.copy())\n",
    "X_te_SS_y_uns = pd.DataFrame(X_test.copy())"
   ]
  },
  {
   "cell_type": "markdown",
   "metadata": {},
   "source": [
    "**Log Transformation ( X only ) for the SS & LG Combination** | *Assignment to its respective data frames.*"
   ]
  },
  {
   "cell_type": "code",
   "execution_count": 181,
   "metadata": {},
   "outputs": [],
   "source": [
    "X_tr_LG_y_uns = pd.DataFrame(X_train.copy())\n",
    "X_te_LG_y_uns = pd.DataFrame(X_test.copy())"
   ]
  },
  {
   "cell_type": "markdown",
   "metadata": {},
   "source": [
    "**The y variables for the SS & LG Combination** | *Assignment to its respective data frames.*"
   ]
  },
  {
   "cell_type": "code",
   "execution_count": 182,
   "metadata": {},
   "outputs": [],
   "source": [
    "y_tr_y_uns = pd.DataFrame(y_train.copy())\n",
    "y_te_y_uns = pd.DataFrame(y_test.copy())\n",
    "y_train_pred_y_uns = pd.DataFrame(y_pred.copy())"
   ]
  },
  {
   "cell_type": "markdown",
   "metadata": {},
   "source": [
    "I will now look at the variables with out scaling to determine which ones should be `LG` scaled. This is an entirely visual exercise."
   ]
  },
  {
   "cell_type": "markdown",
   "metadata": {},
   "source": [
    "Further to our previous examination, the following variables may need to be `LG` scale:\n",
    "   * `Wages CPI` ( prob outliers -- take a look at boxplot )\n",
    "   * `Capacity Utilization` ( maybe maybe not -- take a look w/ more buckets and.or boxplot )\n",
    "   * `GDP`\n",
    "   * `M2 Velocity`\n",
    "   * `Initial Jobless Claims` ( maybe maybe not -- take a look w/ more buckets and.or boxplot )\n",
    "   * `Unemployment Rate` ( maybe maybe not -- take a look w/ more buckets and.or boxplot )\n",
    "\n",
    "We will first scale `LG` & remove those not in the list above."
   ]
  },
  {
   "cell_type": "markdown",
   "metadata": {},
   "source": [
    "## 3.8.1 LG to unscaled y<a id='lg_uns'></a>"
   ]
  },
  {
   "cell_type": "code",
   "execution_count": 183,
   "metadata": {},
   "outputs": [],
   "source": [
    "LG_scaler = PowerTransformer()"
   ]
  },
  {
   "cell_type": "markdown",
   "metadata": {},
   "source": [
    "First `X_tr_LG_y_uns`"
   ]
  },
  {
   "cell_type": "code",
   "execution_count": 184,
   "metadata": {},
   "outputs": [
    {
     "data": {
      "text/plain": [
       "PowerTransformer()"
      ]
     },
     "execution_count": 184,
     "metadata": {},
     "output_type": "execute_result"
    }
   ],
   "source": [
    "LG_scaler.fit(X_tr_LG_y_uns[['Wage CPI','WTI','Heating Oil','Copper','Sugar',\n",
    "                     'Natural Gas','Cattle','Lean Hogs','Soybeans','Lumber',\n",
    "                     'Capacity Utilization','Corn','M2 Velocity','GDP','Wheat','PMI',\n",
    "                     'USD Index','Unemployment Rate','Initial Jobless Claims']])"
   ]
  },
  {
   "cell_type": "code",
   "execution_count": 185,
   "metadata": {},
   "outputs": [],
   "source": [
    "X_tr_LG_y_uns[['Wage CPI_LG','WTI_LG','Heating Oil_LG','Copper_LG','Sugar_LG',\n",
    "                     'Natural Gas_LG','Cattle_LG','Lean Hogs_LG','Soybeans_LG','Lumber_LG',\n",
    "                     'Capacity Utilization_LG','Corn_LG','M2 Velocity_LG','GDP_LG','Wheat_LG','PMI_LG',\n",
    "                     'USD Index_LG','Unemployment Rate_LG','Initial Jobless Claims_LG']] = LG_scaler.transform(X_tr_LG_y_uns[[\n",
    "    'Wage CPI','WTI','Heating Oil','Copper','Sugar',\n",
    "                     'Natural Gas','Cattle','Lean Hogs','Soybeans','Lumber',\n",
    "                     'Capacity Utilization','Corn','M2 Velocity','GDP','Wheat','PMI',\n",
    "                     'USD Index','Unemployment Rate','Initial Jobless Claims']])"
   ]
  },
  {
   "cell_type": "code",
   "execution_count": 186,
   "metadata": {},
   "outputs": [
    {
     "data": {
      "text/plain": [
       "Index(['Wage CPI', 'WTI', 'Heating Oil', 'Copper', 'Sugar', 'Natural Gas',\n",
       "       'Cattle', 'Lean Hogs', 'Soybeans', 'Lumber', 'Capacity Utilization',\n",
       "       'Corn', 'M2 Velocity', 'GDP', 'Wheat', 'PMI', 'USD Index',\n",
       "       'Unemployment Rate', 'Initial Jobless Claims', 'Wage CPI_LG', 'WTI_LG',\n",
       "       'Heating Oil_LG', 'Copper_LG', 'Sugar_LG', 'Natural Gas_LG',\n",
       "       'Cattle_LG', 'Lean Hogs_LG', 'Soybeans_LG', 'Lumber_LG',\n",
       "       'Capacity Utilization_LG', 'Corn_LG', 'M2 Velocity_LG', 'GDP_LG',\n",
       "       'Wheat_LG', 'PMI_LG', 'USD Index_LG', 'Unemployment Rate_LG',\n",
       "       'Initial Jobless Claims_LG'],\n",
       "      dtype='object')"
      ]
     },
     "execution_count": 186,
     "metadata": {},
     "output_type": "execute_result"
    }
   ],
   "source": [
    "X_tr_LG_y_uns.columns"
   ]
  },
  {
   "cell_type": "code",
   "execution_count": 187,
   "metadata": {},
   "outputs": [],
   "source": [
    "X_tr_LG_y_uns.drop(columns=prev_cols, inplace=True)"
   ]
  },
  {
   "cell_type": "code",
   "execution_count": 188,
   "metadata": {},
   "outputs": [],
   "source": [
    "non_LG = ['WTI_LG','Copper_LG', 'Soybeans_LG', 'Natural Gas_LG', 'Heating Oil_LG',\n",
    "       'Corn_LG', 'Wheat_LG', 'Cattle_LG', 'Lean Hogs_LG', 'Sugar_LG',\n",
    "       'Lumber_LG', 'PMI_LG', 'USD Index_LG']"
   ]
  },
  {
   "cell_type": "code",
   "execution_count": 189,
   "metadata": {},
   "outputs": [],
   "source": [
    "X_tr_LG_y_uns.drop(columns=non_LG, inplace=True)"
   ]
  },
  {
   "cell_type": "code",
   "execution_count": 190,
   "metadata": {},
   "outputs": [
    {
     "data": {
      "text/html": [
       "<div>\n",
       "<style scoped>\n",
       "    .dataframe tbody tr th:only-of-type {\n",
       "        vertical-align: middle;\n",
       "    }\n",
       "\n",
       "    .dataframe tbody tr th {\n",
       "        vertical-align: top;\n",
       "    }\n",
       "\n",
       "    .dataframe thead th {\n",
       "        text-align: right;\n",
       "    }\n",
       "</style>\n",
       "<table border=\"1\" class=\"dataframe\">\n",
       "  <thead>\n",
       "    <tr style=\"text-align: right;\">\n",
       "      <th></th>\n",
       "      <th>Wage CPI_LG</th>\n",
       "      <th>Capacity Utilization_LG</th>\n",
       "      <th>M2 Velocity_LG</th>\n",
       "      <th>GDP_LG</th>\n",
       "      <th>Unemployment Rate_LG</th>\n",
       "      <th>Initial Jobless Claims_LG</th>\n",
       "    </tr>\n",
       "  </thead>\n",
       "  <tbody>\n",
       "    <tr>\n",
       "      <th>count</th>\n",
       "      <td>2.190000e+02</td>\n",
       "      <td>2.190000e+02</td>\n",
       "      <td>2.190000e+02</td>\n",
       "      <td>2.190000e+02</td>\n",
       "      <td>2.190000e+02</td>\n",
       "      <td>2.190000e+02</td>\n",
       "    </tr>\n",
       "    <tr>\n",
       "      <th>mean</th>\n",
       "      <td>1.158383e-16</td>\n",
       "      <td>-2.306628e-17</td>\n",
       "      <td>-2.534756e-18</td>\n",
       "      <td>-1.069667e-16</td>\n",
       "      <td>1.115293e-17</td>\n",
       "      <td>1.901067e-17</td>\n",
       "    </tr>\n",
       "    <tr>\n",
       "      <th>std</th>\n",
       "      <td>1.002291e+00</td>\n",
       "      <td>1.002291e+00</td>\n",
       "      <td>1.002291e+00</td>\n",
       "      <td>1.002291e+00</td>\n",
       "      <td>1.002291e+00</td>\n",
       "      <td>1.002291e+00</td>\n",
       "    </tr>\n",
       "    <tr>\n",
       "      <th>min</th>\n",
       "      <td>-3.864340e+00</td>\n",
       "      <td>-3.452302e+00</td>\n",
       "      <td>-3.954055e+00</td>\n",
       "      <td>-6.042891e+00</td>\n",
       "      <td>-9.160974e+00</td>\n",
       "      <td>-1.052430e+01</td>\n",
       "    </tr>\n",
       "    <tr>\n",
       "      <th>25%</th>\n",
       "      <td>-3.834754e-01</td>\n",
       "      <td>-4.585748e-01</td>\n",
       "      <td>-4.624863e-01</td>\n",
       "      <td>-2.169760e-01</td>\n",
       "      <td>-2.772837e-01</td>\n",
       "      <td>-4.405917e-02</td>\n",
       "    </tr>\n",
       "    <tr>\n",
       "      <th>50%</th>\n",
       "      <td>2.178426e-02</td>\n",
       "      <td>3.360083e-02</td>\n",
       "      <td>-1.487170e-01</td>\n",
       "      <td>4.385546e-02</td>\n",
       "      <td>-7.173693e-02</td>\n",
       "      <td>2.018497e-02</td>\n",
       "    </tr>\n",
       "    <tr>\n",
       "      <th>75%</th>\n",
       "      <td>4.560366e-01</td>\n",
       "      <td>4.711906e-01</td>\n",
       "      <td>5.433786e-01</td>\n",
       "      <td>3.000042e-01</td>\n",
       "      <td>2.437991e-01</td>\n",
       "      <td>6.372902e-02</td>\n",
       "    </tr>\n",
       "    <tr>\n",
       "      <th>max</th>\n",
       "      <td>4.638354e+00</td>\n",
       "      <td>3.607041e+00</td>\n",
       "      <td>6.349962e+00</td>\n",
       "      <td>9.052354e+00</td>\n",
       "      <td>6.018238e+00</td>\n",
       "      <td>7.507126e+00</td>\n",
       "    </tr>\n",
       "  </tbody>\n",
       "</table>\n",
       "</div>"
      ],
      "text/plain": [
       "        Wage CPI_LG  Capacity Utilization_LG  M2 Velocity_LG        GDP_LG  \\\n",
       "count  2.190000e+02             2.190000e+02    2.190000e+02  2.190000e+02   \n",
       "mean   1.158383e-16            -2.306628e-17   -2.534756e-18 -1.069667e-16   \n",
       "std    1.002291e+00             1.002291e+00    1.002291e+00  1.002291e+00   \n",
       "min   -3.864340e+00            -3.452302e+00   -3.954055e+00 -6.042891e+00   \n",
       "25%   -3.834754e-01            -4.585748e-01   -4.624863e-01 -2.169760e-01   \n",
       "50%    2.178426e-02             3.360083e-02   -1.487170e-01  4.385546e-02   \n",
       "75%    4.560366e-01             4.711906e-01    5.433786e-01  3.000042e-01   \n",
       "max    4.638354e+00             3.607041e+00    6.349962e+00  9.052354e+00   \n",
       "\n",
       "       Unemployment Rate_LG  Initial Jobless Claims_LG  \n",
       "count          2.190000e+02               2.190000e+02  \n",
       "mean           1.115293e-17               1.901067e-17  \n",
       "std            1.002291e+00               1.002291e+00  \n",
       "min           -9.160974e+00              -1.052430e+01  \n",
       "25%           -2.772837e-01              -4.405917e-02  \n",
       "50%           -7.173693e-02               2.018497e-02  \n",
       "75%            2.437991e-01               6.372902e-02  \n",
       "max            6.018238e+00               7.507126e+00  "
      ]
     },
     "execution_count": 190,
     "metadata": {},
     "output_type": "execute_result"
    }
   ],
   "source": [
    "X_tr_LG_y_uns.describe()"
   ]
  },
  {
   "cell_type": "markdown",
   "metadata": {},
   "source": [
    "All have a **Standard Deviation** `std` of 1 so we will continue to the next."
   ]
  },
  {
   "cell_type": "markdown",
   "metadata": {},
   "source": [
    "`X_te_LG_y_uns` will not be fitted."
   ]
  },
  {
   "cell_type": "code",
   "execution_count": 191,
   "metadata": {},
   "outputs": [],
   "source": [
    "X_te_LG_y_uns[['Wage CPI_LG','WTI_LG','Heating Oil_LG','Copper_LG','Sugar_LG',\n",
    "                     'Natural Gas_LG','Cattle_LG','Lean Hogs_LG','Soybeans_LG','Lumber_LG',\n",
    "                     'Capacity Utilization_LG','Corn_LG','M2 Velocity_LG','GDP_LG','Wheat_LG','PMI_LG',\n",
    "                     'USD Index_LG','Unemployment Rate_LG','Initial Jobless Claims_LG']] = LG_scaler.transform(X_te_LG_y_uns[[\n",
    "    'Wage CPI','WTI','Heating Oil','Copper','Sugar',\n",
    "                     'Natural Gas','Cattle','Lean Hogs','Soybeans','Lumber',\n",
    "                     'Capacity Utilization','Corn','M2 Velocity','GDP','Wheat','PMI',\n",
    "                     'USD Index','Unemployment Rate','Initial Jobless Claims']])"
   ]
  },
  {
   "cell_type": "code",
   "execution_count": 192,
   "metadata": {},
   "outputs": [
    {
     "data": {
      "text/plain": [
       "Index(['Wage CPI', 'WTI', 'Heating Oil', 'Copper', 'Sugar', 'Natural Gas',\n",
       "       'Cattle', 'Lean Hogs', 'Soybeans', 'Lumber', 'Capacity Utilization',\n",
       "       'Corn', 'M2 Velocity', 'GDP', 'Wheat', 'PMI', 'USD Index',\n",
       "       'Unemployment Rate', 'Initial Jobless Claims', 'Wage CPI_LG', 'WTI_LG',\n",
       "       'Heating Oil_LG', 'Copper_LG', 'Sugar_LG', 'Natural Gas_LG',\n",
       "       'Cattle_LG', 'Lean Hogs_LG', 'Soybeans_LG', 'Lumber_LG',\n",
       "       'Capacity Utilization_LG', 'Corn_LG', 'M2 Velocity_LG', 'GDP_LG',\n",
       "       'Wheat_LG', 'PMI_LG', 'USD Index_LG', 'Unemployment Rate_LG',\n",
       "       'Initial Jobless Claims_LG'],\n",
       "      dtype='object')"
      ]
     },
     "execution_count": 192,
     "metadata": {},
     "output_type": "execute_result"
    }
   ],
   "source": [
    "X_te_LG_y_uns.columns"
   ]
  },
  {
   "cell_type": "code",
   "execution_count": 193,
   "metadata": {},
   "outputs": [],
   "source": [
    "X_te_LG_y_uns.drop(columns=prev_cols, inplace=True)"
   ]
  },
  {
   "cell_type": "code",
   "execution_count": 194,
   "metadata": {},
   "outputs": [],
   "source": [
    "X_te_LG_y_uns.drop(columns=non_LG, inplace=True)"
   ]
  },
  {
   "cell_type": "code",
   "execution_count": 195,
   "metadata": {
    "scrolled": true
   },
   "outputs": [
    {
     "data": {
      "text/html": [
       "<div>\n",
       "<style scoped>\n",
       "    .dataframe tbody tr th:only-of-type {\n",
       "        vertical-align: middle;\n",
       "    }\n",
       "\n",
       "    .dataframe tbody tr th {\n",
       "        vertical-align: top;\n",
       "    }\n",
       "\n",
       "    .dataframe thead th {\n",
       "        text-align: right;\n",
       "    }\n",
       "</style>\n",
       "<table border=\"1\" class=\"dataframe\">\n",
       "  <thead>\n",
       "    <tr style=\"text-align: right;\">\n",
       "      <th></th>\n",
       "      <th>Wage CPI_LG</th>\n",
       "      <th>Capacity Utilization_LG</th>\n",
       "      <th>M2 Velocity_LG</th>\n",
       "      <th>GDP_LG</th>\n",
       "      <th>Unemployment Rate_LG</th>\n",
       "      <th>Initial Jobless Claims_LG</th>\n",
       "    </tr>\n",
       "  </thead>\n",
       "  <tbody>\n",
       "    <tr>\n",
       "      <th>count</th>\n",
       "      <td>94.000000</td>\n",
       "      <td>94.000000</td>\n",
       "      <td>94.000000</td>\n",
       "      <td>94.000000</td>\n",
       "      <td>94.000000</td>\n",
       "      <td>94.000000</td>\n",
       "    </tr>\n",
       "    <tr>\n",
       "      <th>mean</th>\n",
       "      <td>-0.048045</td>\n",
       "      <td>0.531796</td>\n",
       "      <td>0.123268</td>\n",
       "      <td>0.159476</td>\n",
       "      <td>-0.422558</td>\n",
       "      <td>-0.431008</td>\n",
       "    </tr>\n",
       "    <tr>\n",
       "      <th>std</th>\n",
       "      <td>0.907698</td>\n",
       "      <td>3.514545</td>\n",
       "      <td>1.357368</td>\n",
       "      <td>1.550596</td>\n",
       "      <td>2.500914</td>\n",
       "      <td>2.741489</td>\n",
       "    </tr>\n",
       "    <tr>\n",
       "      <th>min</th>\n",
       "      <td>-4.138783</td>\n",
       "      <td>-3.479724</td>\n",
       "      <td>-3.954055</td>\n",
       "      <td>-6.042891</td>\n",
       "      <td>-16.854763</td>\n",
       "      <td>-23.033517</td>\n",
       "    </tr>\n",
       "    <tr>\n",
       "      <th>25%</th>\n",
       "      <td>-0.530851</td>\n",
       "      <td>-0.393630</td>\n",
       "      <td>-0.457238</td>\n",
       "      <td>-0.149510</td>\n",
       "      <td>-0.348457</td>\n",
       "      <td>-0.042083</td>\n",
       "    </tr>\n",
       "    <tr>\n",
       "      <th>50%</th>\n",
       "      <td>0.070022</td>\n",
       "      <td>0.086237</td>\n",
       "      <td>-0.006430</td>\n",
       "      <td>0.070792</td>\n",
       "      <td>-0.138910</td>\n",
       "      <td>0.010413</td>\n",
       "    </tr>\n",
       "    <tr>\n",
       "      <th>75%</th>\n",
       "      <td>0.388889</td>\n",
       "      <td>0.450895</td>\n",
       "      <td>0.614669</td>\n",
       "      <td>0.428787</td>\n",
       "      <td>0.121570</td>\n",
       "      <td>0.048695</td>\n",
       "    </tr>\n",
       "    <tr>\n",
       "      <th>max</th>\n",
       "      <td>2.758862</td>\n",
       "      <td>29.132633</td>\n",
       "      <td>6.349962</td>\n",
       "      <td>9.052354</td>\n",
       "      <td>6.893727</td>\n",
       "      <td>2.709870</td>\n",
       "    </tr>\n",
       "  </tbody>\n",
       "</table>\n",
       "</div>"
      ],
      "text/plain": [
       "       Wage CPI_LG  Capacity Utilization_LG  M2 Velocity_LG     GDP_LG  \\\n",
       "count    94.000000                94.000000       94.000000  94.000000   \n",
       "mean     -0.048045                 0.531796        0.123268   0.159476   \n",
       "std       0.907698                 3.514545        1.357368   1.550596   \n",
       "min      -4.138783                -3.479724       -3.954055  -6.042891   \n",
       "25%      -0.530851                -0.393630       -0.457238  -0.149510   \n",
       "50%       0.070022                 0.086237       -0.006430   0.070792   \n",
       "75%       0.388889                 0.450895        0.614669   0.428787   \n",
       "max       2.758862                29.132633        6.349962   9.052354   \n",
       "\n",
       "       Unemployment Rate_LG  Initial Jobless Claims_LG  \n",
       "count             94.000000                  94.000000  \n",
       "mean              -0.422558                  -0.431008  \n",
       "std                2.500914                   2.741489  \n",
       "min              -16.854763                 -23.033517  \n",
       "25%               -0.348457                  -0.042083  \n",
       "50%               -0.138910                   0.010413  \n",
       "75%                0.121570                   0.048695  \n",
       "max                6.893727                   2.709870  "
      ]
     },
     "execution_count": 195,
     "metadata": {},
     "output_type": "execute_result"
    }
   ],
   "source": [
    "X_te_LG_y_uns.describe()"
   ]
  },
  {
   "cell_type": "markdown",
   "metadata": {},
   "source": [
    "Looks good."
   ]
  },
  {
   "cell_type": "markdown",
   "metadata": {},
   "source": [
    "## 3.8.2 SS to unscaled y<a id='ss_uns'></a>"
   ]
  },
  {
   "cell_type": "code",
   "execution_count": 196,
   "metadata": {},
   "outputs": [],
   "source": [
    "SS_scaler = StandardScaler()"
   ]
  },
  {
   "cell_type": "markdown",
   "metadata": {},
   "source": [
    "First `X_tr_SS_y_uns`"
   ]
  },
  {
   "cell_type": "code",
   "execution_count": 197,
   "metadata": {},
   "outputs": [
    {
     "data": {
      "text/plain": [
       "StandardScaler()"
      ]
     },
     "execution_count": 197,
     "metadata": {},
     "output_type": "execute_result"
    }
   ],
   "source": [
    "SS_scaler.fit(X_tr_SS_y_uns[['Wage CPI','WTI','Heating Oil','Copper','Sugar',\n",
    "                     'Natural Gas','Cattle','Lean Hogs','Soybeans','Lumber',\n",
    "                     'Capacity Utilization','Corn','M2 Velocity','GDP','Wheat','PMI',\n",
    "                     'USD Index','Unemployment Rate','Initial Jobless Claims']])"
   ]
  },
  {
   "cell_type": "code",
   "execution_count": 198,
   "metadata": {},
   "outputs": [],
   "source": [
    "X_tr_SS_y_uns[['Wage CPI_SS_yun','WTI_SS_yun','Heating Oil_SS_yun','Copper_SS_yun','Sugar_SS_yun',\n",
    "                     'Natural Gas_SS_yun','Cattle_SS_yun','Lean Hogs_SS_yun','Soybeans_SS_yun','Lumber_SS_yun',\n",
    "                     'Capacity Utilization_SS_yun','Corn_SS_yun','M2 Velocity_SS_yun','GDP_SS_yun','Wheat_SS_yun','PMI_SS_yun',\n",
    "                     'USD Index_SS_yun','Unemployment Rate_SS_yun','Initial Jobless Claims_SS_yun']] = SS_scaler.transform(X_tr_SS_y_uns[[\n",
    "    'Wage CPI','WTI','Heating Oil','Copper','Sugar',\n",
    "                     'Natural Gas','Cattle','Lean Hogs','Soybeans','Lumber',\n",
    "                     'Capacity Utilization','Corn','M2 Velocity','GDP','Wheat','PMI',\n",
    "                     'USD Index','Unemployment Rate','Initial Jobless Claims']])"
   ]
  },
  {
   "cell_type": "code",
   "execution_count": 199,
   "metadata": {},
   "outputs": [
    {
     "data": {
      "text/plain": [
       "Index(['Wage CPI', 'WTI', 'Heating Oil', 'Copper', 'Sugar', 'Natural Gas',\n",
       "       'Cattle', 'Lean Hogs', 'Soybeans', 'Lumber', 'Capacity Utilization',\n",
       "       'Corn', 'M2 Velocity', 'GDP', 'Wheat', 'PMI', 'USD Index',\n",
       "       'Unemployment Rate', 'Initial Jobless Claims', 'Wage CPI_SS_yun',\n",
       "       'WTI_SS_yun', 'Heating Oil_SS_yun', 'Copper_SS_yun', 'Sugar_SS_yun',\n",
       "       'Natural Gas_SS_yun', 'Cattle_SS_yun', 'Lean Hogs_SS_yun',\n",
       "       'Soybeans_SS_yun', 'Lumber_SS_yun', 'Capacity Utilization_SS_yun',\n",
       "       'Corn_SS_yun', 'M2 Velocity_SS_yun', 'GDP_SS_yun', 'Wheat_SS_yun',\n",
       "       'PMI_SS_yun', 'USD Index_SS_yun', 'Unemployment Rate_SS_yun',\n",
       "       'Initial Jobless Claims_SS_yun'],\n",
       "      dtype='object')"
      ]
     },
     "execution_count": 199,
     "metadata": {},
     "output_type": "execute_result"
    }
   ],
   "source": [
    "X_tr_SS_y_uns.columns"
   ]
  },
  {
   "cell_type": "code",
   "execution_count": 201,
   "metadata": {},
   "outputs": [],
   "source": [
    "LG_cols = ['Wage CPI_SS_yun','Capacity Utilization_SS_yun', 'GDP_SS_yun', 'M2 Velocity_SS_yun',\n",
    "       'Initial Jobless Claims_SS_yun','Unemployment Rate_SS_yun']"
   ]
  },
  {
   "cell_type": "code",
   "execution_count": 202,
   "metadata": {},
   "outputs": [],
   "source": [
    "X_tr_SS_y_uns.drop(columns=prev_cols, inplace=True)"
   ]
  },
  {
   "cell_type": "code",
   "execution_count": 203,
   "metadata": {},
   "outputs": [],
   "source": [
    "X_tr_SS_y_uns.drop(columns=LG_cols, inplace=True)"
   ]
  },
  {
   "cell_type": "code",
   "execution_count": 205,
   "metadata": {},
   "outputs": [
    {
     "data": {
      "text/html": [
       "<div>\n",
       "<style scoped>\n",
       "    .dataframe tbody tr th:only-of-type {\n",
       "        vertical-align: middle;\n",
       "    }\n",
       "\n",
       "    .dataframe tbody tr th {\n",
       "        vertical-align: top;\n",
       "    }\n",
       "\n",
       "    .dataframe thead th {\n",
       "        text-align: right;\n",
       "    }\n",
       "</style>\n",
       "<table border=\"1\" class=\"dataframe\">\n",
       "  <thead>\n",
       "    <tr style=\"text-align: right;\">\n",
       "      <th></th>\n",
       "      <th>WTI_SS_yun</th>\n",
       "      <th>Heating Oil_SS_yun</th>\n",
       "      <th>Copper_SS_yun</th>\n",
       "      <th>Sugar_SS_yun</th>\n",
       "      <th>Natural Gas_SS_yun</th>\n",
       "      <th>Cattle_SS_yun</th>\n",
       "      <th>Lean Hogs_SS_yun</th>\n",
       "      <th>Soybeans_SS_yun</th>\n",
       "      <th>Lumber_SS_yun</th>\n",
       "      <th>Corn_SS_yun</th>\n",
       "      <th>Wheat_SS_yun</th>\n",
       "      <th>PMI_SS_yun</th>\n",
       "      <th>USD Index_SS_yun</th>\n",
       "    </tr>\n",
       "  </thead>\n",
       "  <tbody>\n",
       "    <tr>\n",
       "      <th>count</th>\n",
       "      <td>2.190000e+02</td>\n",
       "      <td>2.190000e+02</td>\n",
       "      <td>2.190000e+02</td>\n",
       "      <td>2.190000e+02</td>\n",
       "      <td>2.190000e+02</td>\n",
       "      <td>2.190000e+02</td>\n",
       "      <td>2.190000e+02</td>\n",
       "      <td>2.190000e+02</td>\n",
       "      <td>2.190000e+02</td>\n",
       "      <td>2.190000e+02</td>\n",
       "      <td>2.190000e+02</td>\n",
       "      <td>2.190000e+02</td>\n",
       "      <td>2.190000e+02</td>\n",
       "    </tr>\n",
       "    <tr>\n",
       "      <th>mean</th>\n",
       "      <td>5.677853e-17</td>\n",
       "      <td>-5.868752e-17</td>\n",
       "      <td>1.001229e-16</td>\n",
       "      <td>-3.802134e-17</td>\n",
       "      <td>-5.576463e-17</td>\n",
       "      <td>-6.843841e-18</td>\n",
       "      <td>-2.788231e-17</td>\n",
       "      <td>1.292725e-17</td>\n",
       "      <td>1.013902e-18</td>\n",
       "      <td>4.106304e-17</td>\n",
       "      <td>-8.364694e-18</td>\n",
       "      <td>1.191335e-17</td>\n",
       "      <td>-3.041707e-18</td>\n",
       "    </tr>\n",
       "    <tr>\n",
       "      <th>std</th>\n",
       "      <td>1.002291e+00</td>\n",
       "      <td>1.002291e+00</td>\n",
       "      <td>1.002291e+00</td>\n",
       "      <td>1.002291e+00</td>\n",
       "      <td>1.002291e+00</td>\n",
       "      <td>1.002291e+00</td>\n",
       "      <td>1.002291e+00</td>\n",
       "      <td>1.002291e+00</td>\n",
       "      <td>1.002291e+00</td>\n",
       "      <td>1.002291e+00</td>\n",
       "      <td>1.002291e+00</td>\n",
       "      <td>1.002291e+00</td>\n",
       "      <td>1.002291e+00</td>\n",
       "    </tr>\n",
       "    <tr>\n",
       "      <th>min</th>\n",
       "      <td>-3.554258e+00</td>\n",
       "      <td>-3.307158e+00</td>\n",
       "      <td>-4.275317e+00</td>\n",
       "      <td>-2.534857e+00</td>\n",
       "      <td>-2.092879e+00</td>\n",
       "      <td>-3.251186e+00</td>\n",
       "      <td>-2.412667e+00</td>\n",
       "      <td>-3.552930e+00</td>\n",
       "      <td>-2.447766e+00</td>\n",
       "      <td>-3.095494e+00</td>\n",
       "      <td>-2.909327e+00</td>\n",
       "      <td>-4.035795e+00</td>\n",
       "      <td>-2.092087e+00</td>\n",
       "    </tr>\n",
       "    <tr>\n",
       "      <th>25%</th>\n",
       "      <td>-5.738987e-01</td>\n",
       "      <td>-5.106932e-01</td>\n",
       "      <td>-5.903736e-01</td>\n",
       "      <td>-6.694239e-01</td>\n",
       "      <td>-6.272489e-01</td>\n",
       "      <td>-6.393442e-01</td>\n",
       "      <td>-5.898264e-01</td>\n",
       "      <td>-5.147225e-01</td>\n",
       "      <td>-6.792113e-01</td>\n",
       "      <td>-5.887966e-01</td>\n",
       "      <td>-6.295338e-01</td>\n",
       "      <td>-5.733419e-01</td>\n",
       "      <td>-7.686037e-01</td>\n",
       "    </tr>\n",
       "    <tr>\n",
       "      <th>50%</th>\n",
       "      <td>3.652246e-02</td>\n",
       "      <td>-3.546556e-03</td>\n",
       "      <td>-1.277241e-01</td>\n",
       "      <td>-1.992945e-01</td>\n",
       "      <td>-1.776078e-01</td>\n",
       "      <td>6.243175e-02</td>\n",
       "      <td>-5.066135e-02</td>\n",
       "      <td>-3.896558e-02</td>\n",
       "      <td>-2.097464e-02</td>\n",
       "      <td>-1.044398e-01</td>\n",
       "      <td>-7.649249e-02</td>\n",
       "      <td>-6.581613e-02</td>\n",
       "      <td>5.368868e-02</td>\n",
       "    </tr>\n",
       "    <tr>\n",
       "      <th>75%</th>\n",
       "      <td>6.407473e-01</td>\n",
       "      <td>6.302291e-01</td>\n",
       "      <td>5.419286e-01</td>\n",
       "      <td>5.710310e-01</td>\n",
       "      <td>5.252051e-01</td>\n",
       "      <td>7.571885e-01</td>\n",
       "      <td>7.410920e-01</td>\n",
       "      <td>4.885812e-01</td>\n",
       "      <td>5.957653e-01</td>\n",
       "      <td>5.366638e-01</td>\n",
       "      <td>5.600397e-01</td>\n",
       "      <td>5.883282e-01</td>\n",
       "      <td>5.819297e-01</td>\n",
       "    </tr>\n",
       "    <tr>\n",
       "      <th>max</th>\n",
       "      <td>2.605196e+00</td>\n",
       "      <td>2.396819e+00</td>\n",
       "      <td>3.899899e+00</td>\n",
       "      <td>3.949918e+00</td>\n",
       "      <td>2.963685e+00</td>\n",
       "      <td>2.354074e+00</td>\n",
       "      <td>2.559684e+00</td>\n",
       "      <td>2.721410e+00</td>\n",
       "      <td>4.104874e+00</td>\n",
       "      <td>2.995122e+00</td>\n",
       "      <td>3.904325e+00</td>\n",
       "      <td>3.577091e+00</td>\n",
       "      <td>3.428937e+00</td>\n",
       "    </tr>\n",
       "  </tbody>\n",
       "</table>\n",
       "</div>"
      ],
      "text/plain": [
       "         WTI_SS_yun  Heating Oil_SS_yun  Copper_SS_yun  Sugar_SS_yun  \\\n",
       "count  2.190000e+02        2.190000e+02   2.190000e+02  2.190000e+02   \n",
       "mean   5.677853e-17       -5.868752e-17   1.001229e-16 -3.802134e-17   \n",
       "std    1.002291e+00        1.002291e+00   1.002291e+00  1.002291e+00   \n",
       "min   -3.554258e+00       -3.307158e+00  -4.275317e+00 -2.534857e+00   \n",
       "25%   -5.738987e-01       -5.106932e-01  -5.903736e-01 -6.694239e-01   \n",
       "50%    3.652246e-02       -3.546556e-03  -1.277241e-01 -1.992945e-01   \n",
       "75%    6.407473e-01        6.302291e-01   5.419286e-01  5.710310e-01   \n",
       "max    2.605196e+00        2.396819e+00   3.899899e+00  3.949918e+00   \n",
       "\n",
       "       Natural Gas_SS_yun  Cattle_SS_yun  Lean Hogs_SS_yun  Soybeans_SS_yun  \\\n",
       "count        2.190000e+02   2.190000e+02      2.190000e+02     2.190000e+02   \n",
       "mean        -5.576463e-17  -6.843841e-18     -2.788231e-17     1.292725e-17   \n",
       "std          1.002291e+00   1.002291e+00      1.002291e+00     1.002291e+00   \n",
       "min         -2.092879e+00  -3.251186e+00     -2.412667e+00    -3.552930e+00   \n",
       "25%         -6.272489e-01  -6.393442e-01     -5.898264e-01    -5.147225e-01   \n",
       "50%         -1.776078e-01   6.243175e-02     -5.066135e-02    -3.896558e-02   \n",
       "75%          5.252051e-01   7.571885e-01      7.410920e-01     4.885812e-01   \n",
       "max          2.963685e+00   2.354074e+00      2.559684e+00     2.721410e+00   \n",
       "\n",
       "       Lumber_SS_yun   Corn_SS_yun  Wheat_SS_yun    PMI_SS_yun  \\\n",
       "count   2.190000e+02  2.190000e+02  2.190000e+02  2.190000e+02   \n",
       "mean    1.013902e-18  4.106304e-17 -8.364694e-18  1.191335e-17   \n",
       "std     1.002291e+00  1.002291e+00  1.002291e+00  1.002291e+00   \n",
       "min    -2.447766e+00 -3.095494e+00 -2.909327e+00 -4.035795e+00   \n",
       "25%    -6.792113e-01 -5.887966e-01 -6.295338e-01 -5.733419e-01   \n",
       "50%    -2.097464e-02 -1.044398e-01 -7.649249e-02 -6.581613e-02   \n",
       "75%     5.957653e-01  5.366638e-01  5.600397e-01  5.883282e-01   \n",
       "max     4.104874e+00  2.995122e+00  3.904325e+00  3.577091e+00   \n",
       "\n",
       "       USD Index_SS_yun  \n",
       "count      2.190000e+02  \n",
       "mean      -3.041707e-18  \n",
       "std        1.002291e+00  \n",
       "min       -2.092087e+00  \n",
       "25%       -7.686037e-01  \n",
       "50%        5.368868e-02  \n",
       "75%        5.819297e-01  \n",
       "max        3.428937e+00  "
      ]
     },
     "execution_count": 205,
     "metadata": {},
     "output_type": "execute_result"
    }
   ],
   "source": [
    "X_tr_SS_y_uns.describe()"
   ]
  },
  {
   "cell_type": "markdown",
   "metadata": {},
   "source": [
    "The **Mean** & **Standard Deviation** look close enough to 0 & 1 respectively; thus, it was scaled correctly. We will now scale the others."
   ]
  },
  {
   "cell_type": "markdown",
   "metadata": {},
   "source": [
    "`X_te_SS_y_uns` will not be 'fitted'."
   ]
  },
  {
   "cell_type": "code",
   "execution_count": 206,
   "metadata": {},
   "outputs": [],
   "source": [
    "X_te_SS_y_uns[['Wage CPI_SS_yun','WTI_SS_yun','Heating Oil_SS_yun','Copper_SS_yun','Sugar_SS_yun',\n",
    "                     'Natural Gas_SS_yun','Cattle_SS_yun','Lean Hogs_SS_yun','Soybeans_SS_yun','Lumber_SS_yun',\n",
    "                     'Capacity Utilization_SS_yun','Corn_SS_yun','M2 Velocity_SS_yun','GDP_SS_yun','Wheat_SS_yun','PMI_SS_yun',\n",
    "                     'USD Index_SS_yun','Unemployment Rate_SS_yun','Initial Jobless Claims_SS_yun']] = SS_scaler.transform(X_te_SS_y_uns[[\n",
    "    'Wage CPI','WTI','Heating Oil','Copper','Sugar',\n",
    "                     'Natural Gas','Cattle','Lean Hogs','Soybeans','Lumber',\n",
    "                     'Capacity Utilization','Corn','M2 Velocity','GDP','Wheat','PMI',\n",
    "                     'USD Index','Unemployment Rate','Initial Jobless Claims']])"
   ]
  },
  {
   "cell_type": "code",
   "execution_count": 207,
   "metadata": {},
   "outputs": [
    {
     "data": {
      "text/plain": [
       "Index(['Wage CPI', 'WTI', 'Heating Oil', 'Copper', 'Sugar', 'Natural Gas',\n",
       "       'Cattle', 'Lean Hogs', 'Soybeans', 'Lumber', 'Capacity Utilization',\n",
       "       'Corn', 'M2 Velocity', 'GDP', 'Wheat', 'PMI', 'USD Index',\n",
       "       'Unemployment Rate', 'Initial Jobless Claims', 'Wage CPI_SS_yun',\n",
       "       'WTI_SS_yun', 'Heating Oil_SS_yun', 'Copper_SS_yun', 'Sugar_SS_yun',\n",
       "       'Natural Gas_SS_yun', 'Cattle_SS_yun', 'Lean Hogs_SS_yun',\n",
       "       'Soybeans_SS_yun', 'Lumber_SS_yun', 'Capacity Utilization_SS_yun',\n",
       "       'Corn_SS_yun', 'M2 Velocity_SS_yun', 'GDP_SS_yun', 'Wheat_SS_yun',\n",
       "       'PMI_SS_yun', 'USD Index_SS_yun', 'Unemployment Rate_SS_yun',\n",
       "       'Initial Jobless Claims_SS_yun'],\n",
       "      dtype='object')"
      ]
     },
     "execution_count": 207,
     "metadata": {},
     "output_type": "execute_result"
    }
   ],
   "source": [
    "X_te_SS_y_uns.columns"
   ]
  },
  {
   "cell_type": "code",
   "execution_count": 208,
   "metadata": {},
   "outputs": [],
   "source": [
    "X_te_SS_y_uns.drop(columns=prev_cols, inplace=True)"
   ]
  },
  {
   "cell_type": "code",
   "execution_count": 209,
   "metadata": {},
   "outputs": [],
   "source": [
    "X_te_SS_y_uns.drop(columns=LG_cols, inplace=True)"
   ]
  },
  {
   "cell_type": "code",
   "execution_count": 210,
   "metadata": {},
   "outputs": [
    {
     "data": {
      "text/html": [
       "<div>\n",
       "<style scoped>\n",
       "    .dataframe tbody tr th:only-of-type {\n",
       "        vertical-align: middle;\n",
       "    }\n",
       "\n",
       "    .dataframe tbody tr th {\n",
       "        vertical-align: top;\n",
       "    }\n",
       "\n",
       "    .dataframe thead th {\n",
       "        text-align: right;\n",
       "    }\n",
       "</style>\n",
       "<table border=\"1\" class=\"dataframe\">\n",
       "  <thead>\n",
       "    <tr style=\"text-align: right;\">\n",
       "      <th></th>\n",
       "      <th>WTI_SS_yun</th>\n",
       "      <th>Heating Oil_SS_yun</th>\n",
       "      <th>Copper_SS_yun</th>\n",
       "      <th>Sugar_SS_yun</th>\n",
       "      <th>Natural Gas_SS_yun</th>\n",
       "      <th>Cattle_SS_yun</th>\n",
       "      <th>Lean Hogs_SS_yun</th>\n",
       "      <th>Soybeans_SS_yun</th>\n",
       "      <th>Lumber_SS_yun</th>\n",
       "      <th>Corn_SS_yun</th>\n",
       "      <th>Wheat_SS_yun</th>\n",
       "      <th>PMI_SS_yun</th>\n",
       "      <th>USD Index_SS_yun</th>\n",
       "    </tr>\n",
       "  </thead>\n",
       "  <tbody>\n",
       "    <tr>\n",
       "      <th>count</th>\n",
       "      <td>94.000000</td>\n",
       "      <td>94.000000</td>\n",
       "      <td>94.000000</td>\n",
       "      <td>94.000000</td>\n",
       "      <td>94.000000</td>\n",
       "      <td>94.000000</td>\n",
       "      <td>94.000000</td>\n",
       "      <td>94.000000</td>\n",
       "      <td>94.000000</td>\n",
       "      <td>94.000000</td>\n",
       "      <td>94.000000</td>\n",
       "      <td>94.000000</td>\n",
       "      <td>94.000000</td>\n",
       "    </tr>\n",
       "    <tr>\n",
       "      <th>mean</th>\n",
       "      <td>0.007935</td>\n",
       "      <td>-0.029998</td>\n",
       "      <td>-0.162066</td>\n",
       "      <td>0.105502</td>\n",
       "      <td>-0.059875</td>\n",
       "      <td>-0.039083</td>\n",
       "      <td>0.041086</td>\n",
       "      <td>0.005910</td>\n",
       "      <td>0.175033</td>\n",
       "      <td>-0.002570</td>\n",
       "      <td>-0.019342</td>\n",
       "      <td>-0.030541</td>\n",
       "      <td>0.078927</td>\n",
       "    </tr>\n",
       "    <tr>\n",
       "      <th>std</th>\n",
       "      <td>0.965297</td>\n",
       "      <td>0.857436</td>\n",
       "      <td>0.959798</td>\n",
       "      <td>0.955151</td>\n",
       "      <td>0.961777</td>\n",
       "      <td>0.986806</td>\n",
       "      <td>1.006278</td>\n",
       "      <td>1.093236</td>\n",
       "      <td>1.441363</td>\n",
       "      <td>1.234954</td>\n",
       "      <td>1.025338</td>\n",
       "      <td>0.992570</td>\n",
       "      <td>0.969684</td>\n",
       "    </tr>\n",
       "    <tr>\n",
       "      <th>min</th>\n",
       "      <td>-3.580742</td>\n",
       "      <td>-3.212043</td>\n",
       "      <td>-4.187623</td>\n",
       "      <td>-1.418830</td>\n",
       "      <td>-2.025262</td>\n",
       "      <td>-2.905044</td>\n",
       "      <td>-1.651817</td>\n",
       "      <td>-2.783626</td>\n",
       "      <td>-2.289388</td>\n",
       "      <td>-2.789248</td>\n",
       "      <td>-2.047304</td>\n",
       "      <td>-3.235033</td>\n",
       "      <td>-2.042697</td>\n",
       "    </tr>\n",
       "    <tr>\n",
       "      <th>25%</th>\n",
       "      <td>-0.464830</td>\n",
       "      <td>-0.488930</td>\n",
       "      <td>-0.739344</td>\n",
       "      <td>-0.521482</td>\n",
       "      <td>-0.755813</td>\n",
       "      <td>-0.743428</td>\n",
       "      <td>-0.705898</td>\n",
       "      <td>-0.659477</td>\n",
       "      <td>-0.777960</td>\n",
       "      <td>-0.705320</td>\n",
       "      <td>-0.753886</td>\n",
       "      <td>-0.663569</td>\n",
       "      <td>-0.584194</td>\n",
       "    </tr>\n",
       "    <tr>\n",
       "      <th>50%</th>\n",
       "      <td>0.020075</td>\n",
       "      <td>-0.062487</td>\n",
       "      <td>-0.157241</td>\n",
       "      <td>-0.085375</td>\n",
       "      <td>-0.154073</td>\n",
       "      <td>0.058996</td>\n",
       "      <td>-0.098348</td>\n",
       "      <td>-0.147656</td>\n",
       "      <td>-0.057829</td>\n",
       "      <td>-0.057043</td>\n",
       "      <td>-0.114992</td>\n",
       "      <td>-0.043259</td>\n",
       "      <td>-0.001132</td>\n",
       "    </tr>\n",
       "    <tr>\n",
       "      <th>75%</th>\n",
       "      <td>0.561096</td>\n",
       "      <td>0.439143</td>\n",
       "      <td>0.322455</td>\n",
       "      <td>0.591862</td>\n",
       "      <td>0.618387</td>\n",
       "      <td>0.702137</td>\n",
       "      <td>0.682856</td>\n",
       "      <td>0.767235</td>\n",
       "      <td>0.829421</td>\n",
       "      <td>0.457160</td>\n",
       "      <td>0.517627</td>\n",
       "      <td>0.419153</td>\n",
       "      <td>0.727001</td>\n",
       "    </tr>\n",
       "    <tr>\n",
       "      <th>max</th>\n",
       "      <td>3.682805</td>\n",
       "      <td>1.854950</td>\n",
       "      <td>2.749010</td>\n",
       "      <td>3.226772</td>\n",
       "      <td>1.918428</td>\n",
       "      <td>2.596760</td>\n",
       "      <td>2.540483</td>\n",
       "      <td>2.894730</td>\n",
       "      <td>6.535160</td>\n",
       "      <td>4.012835</td>\n",
       "      <td>3.911693</td>\n",
       "      <td>3.125957</td>\n",
       "      <td>2.542070</td>\n",
       "    </tr>\n",
       "  </tbody>\n",
       "</table>\n",
       "</div>"
      ],
      "text/plain": [
       "       WTI_SS_yun  Heating Oil_SS_yun  Copper_SS_yun  Sugar_SS_yun  \\\n",
       "count   94.000000           94.000000      94.000000     94.000000   \n",
       "mean     0.007935           -0.029998      -0.162066      0.105502   \n",
       "std      0.965297            0.857436       0.959798      0.955151   \n",
       "min     -3.580742           -3.212043      -4.187623     -1.418830   \n",
       "25%     -0.464830           -0.488930      -0.739344     -0.521482   \n",
       "50%      0.020075           -0.062487      -0.157241     -0.085375   \n",
       "75%      0.561096            0.439143       0.322455      0.591862   \n",
       "max      3.682805            1.854950       2.749010      3.226772   \n",
       "\n",
       "       Natural Gas_SS_yun  Cattle_SS_yun  Lean Hogs_SS_yun  Soybeans_SS_yun  \\\n",
       "count           94.000000      94.000000         94.000000        94.000000   \n",
       "mean            -0.059875      -0.039083          0.041086         0.005910   \n",
       "std              0.961777       0.986806          1.006278         1.093236   \n",
       "min             -2.025262      -2.905044         -1.651817        -2.783626   \n",
       "25%             -0.755813      -0.743428         -0.705898        -0.659477   \n",
       "50%             -0.154073       0.058996         -0.098348        -0.147656   \n",
       "75%              0.618387       0.702137          0.682856         0.767235   \n",
       "max              1.918428       2.596760          2.540483         2.894730   \n",
       "\n",
       "       Lumber_SS_yun  Corn_SS_yun  Wheat_SS_yun  PMI_SS_yun  USD Index_SS_yun  \n",
       "count      94.000000    94.000000     94.000000   94.000000         94.000000  \n",
       "mean        0.175033    -0.002570     -0.019342   -0.030541          0.078927  \n",
       "std         1.441363     1.234954      1.025338    0.992570          0.969684  \n",
       "min        -2.289388    -2.789248     -2.047304   -3.235033         -2.042697  \n",
       "25%        -0.777960    -0.705320     -0.753886   -0.663569         -0.584194  \n",
       "50%        -0.057829    -0.057043     -0.114992   -0.043259         -0.001132  \n",
       "75%         0.829421     0.457160      0.517627    0.419153          0.727001  \n",
       "max         6.535160     4.012835      3.911693    3.125957          2.542070  "
      ]
     },
     "execution_count": 210,
     "metadata": {},
     "output_type": "execute_result"
    }
   ],
   "source": [
    "X_te_SS_y_uns.describe()"
   ]
  },
  {
   "cell_type": "markdown",
   "metadata": {},
   "source": [
    "Although the `mean` & `std` look close to 0 & 1, they are different to those in the scaled `Training` set which was scaled."
   ]
  },
  {
   "cell_type": "markdown",
   "metadata": {},
   "source": [
    "## 3.8.3 SS & LG together & metrics<a id='together'></a>"
   ]
  },
  {
   "cell_type": "markdown",
   "metadata": {},
   "source": [
    "We will now pull together the `LG` & `SS` metrics together before sending out for metric review."
   ]
  },
  {
   "cell_type": "code",
   "execution_count": 211,
   "metadata": {},
   "outputs": [
    {
     "data": {
      "text/plain": [
       "Index(['WTI_SS_yun', 'Heating Oil_SS_yun', 'Copper_SS_yun', 'Sugar_SS_yun',\n",
       "       'Natural Gas_SS_yun', 'Cattle_SS_yun', 'Lean Hogs_SS_yun',\n",
       "       'Soybeans_SS_yun', 'Lumber_SS_yun', 'Corn_SS_yun', 'Wheat_SS_yun',\n",
       "       'PMI_SS_yun', 'USD Index_SS_yun'],\n",
       "      dtype='object')"
      ]
     },
     "execution_count": 211,
     "metadata": {},
     "output_type": "execute_result"
    }
   ],
   "source": [
    "X_tr_SS_y_uns.columns"
   ]
  },
  {
   "cell_type": "code",
   "execution_count": 212,
   "metadata": {},
   "outputs": [
    {
     "data": {
      "text/plain": [
       "Index(['Wage CPI_LG', 'Capacity Utilization_LG', 'M2 Velocity_LG', 'GDP_LG',\n",
       "       'Unemployment Rate_LG', 'Initial Jobless Claims_LG'],\n",
       "      dtype='object')"
      ]
     },
     "execution_count": 212,
     "metadata": {},
     "output_type": "execute_result"
    }
   ],
   "source": [
    "X_tr_LG_y_uns.columns"
   ]
  },
  {
   "cell_type": "code",
   "execution_count": 213,
   "metadata": {},
   "outputs": [],
   "source": [
    "X_tr_SS_LG = pd.concat([X_tr_SS_y_uns,X_tr_LG_y_uns],\n",
    "                    axis = 1, ignore_index=False)\n",
    "\n",
    "X_tr_SS_LG.columns = ['WTI_SS_yun', 'Copper_SS_yun', 'Soybeans_SS_yun', 'Natural Gas_SS_yun',\n",
    "       'Heating Oil_SS_yun', 'Corn_SS_yun', 'Wheat_SS_yun', 'Cattle_SS_yun',\n",
    "       'Lean Hogs_SS_yun', 'Sugar_SS_yun', 'Lumber_SS_yun', 'PMI_SS_yun',\n",
    "       'USD Index_SS_yun','Wages CPI_LG', 'Capacity Utilization_LG', 'GDP_LG', 'M2 Velocity_LG',\n",
    "       'Initial Jobless Claims_LG', 'Unemployment Rate_LG']"
   ]
  },
  {
   "cell_type": "code",
   "execution_count": 214,
   "metadata": {},
   "outputs": [],
   "source": [
    "X_te_SS_LG = pd.concat([X_te_SS_y_uns,X_te_LG_y_uns],\n",
    "                    axis = 1, ignore_index=False)\n",
    "\n",
    "X_te_SS_LG.columns = ['WTI_SS_yun', 'Copper_SS_yun', 'Soybeans_SS_yun', 'Natural Gas_SS_yun',\n",
    "       'Heating Oil_SS_yun', 'Corn_SS_yun', 'Wheat_SS_yun', 'Cattle_SS_yun',\n",
    "       'Lean Hogs_SS_yun', 'Sugar_SS_yun', 'Lumber_SS_yun', 'PMI_SS_yun',\n",
    "       'USD Index_SS_yun','Wages CPI_LG', 'Capacity Utilization_LG', 'GDP_LG', 'M2 Velocity_LG',\n",
    "       'Initial Jobless Claims_LG', 'Unemployment Rate_LG']"
   ]
  },
  {
   "cell_type": "markdown",
   "metadata": {},
   "source": [
    "As a reminder, `y_tr_y_uns` & `y_te_y_uns` will not be scaled or fit."
   ]
  },
  {
   "cell_type": "code",
   "execution_count": 215,
   "metadata": {},
   "outputs": [
    {
     "name": "stderr",
     "output_type": "stream",
     "text": [
      "C:\\Users\\rands\\anaconda3\\lib\\site-packages\\sklearn\\utils\\validation.py:67: FutureWarning: Pass dual=     Inflation\n",
      "79      -0.111\n",
      "147      0.744\n",
      "143      0.149\n",
      "72      -0.328\n",
      "305     -0.327\n",
      "..         ...\n",
      "188     -0.115\n",
      "71      -0.378\n",
      "106     -0.104\n",
      "270      0.188\n",
      "102     -0.523\n",
      "\n",
      "[219 rows x 1 columns] as keyword args. From version 0.25 passing these as positional arguments will result in an error\n",
      "  warnings.warn(\"Pass {} as keyword args. From version 0.25 \"\n"
     ]
    }
   ],
   "source": [
    "reg_main = LogisticRegression(X_tr_SS_LG,y_tr_y_uns)"
   ]
  },
  {
   "cell_type": "code",
   "execution_count": 216,
   "metadata": {},
   "outputs": [],
   "source": [
    "lm_main = LinearRegression().fit(X_tr_SS_LG, y_tr_y_uns)"
   ]
  },
  {
   "cell_type": "code",
   "execution_count": 217,
   "metadata": {},
   "outputs": [],
   "source": [
    "y_tr_pred_main = lm_main.predict(X_tr_SS_LG)\n",
    "y_te_pred_main = lm_main.predict(X_te_SS_LG)"
   ]
  },
  {
   "cell_type": "code",
   "execution_count": 218,
   "metadata": {},
   "outputs": [
    {
     "data": {
      "text/plain": [
       "(0.40527398267265546, -0.0916328594487199)"
      ]
     },
     "execution_count": 218,
     "metadata": {},
     "output_type": "execute_result"
    }
   ],
   "source": [
    "median_r2_SS_LG = r2_score(y_tr_y_uns, y_tr_pred_main), r2_score(y_te_y_uns, y_te_pred_main)\n",
    "median_r2_SS_LG"
   ]
  },
  {
   "cell_type": "code",
   "execution_count": 219,
   "metadata": {},
   "outputs": [
    {
     "data": {
      "text/plain": [
       "(0.4562256158044459, 0.51435655322085)"
      ]
     },
     "execution_count": 219,
     "metadata": {},
     "output_type": "execute_result"
    }
   ],
   "source": [
    "median_mae_SS_LG = mean_absolute_error(y_tr_y_uns, y_tr_pred_main), mean_absolute_error(y_te_y_uns, y_te_pred_main)\n",
    "median_mae_SS_LG"
   ]
  },
  {
   "cell_type": "code",
   "execution_count": 220,
   "metadata": {
    "scrolled": false
   },
   "outputs": [
    {
     "data": {
      "text/plain": [
       "(0.4351362024953823, 0.6268436708796725)"
      ]
     },
     "execution_count": 220,
     "metadata": {},
     "output_type": "execute_result"
    }
   ],
   "source": [
    "median_mse_SS_LG = mean_squared_error(y_tr_y_uns, y_tr_pred_main), mean_squared_error(y_te_y_uns, y_te_pred_main)\n",
    "median_mse_SS_LG"
   ]
  },
  {
   "cell_type": "markdown",
   "metadata": {},
   "source": [
    "## 3.9 Conclusion<a id='conclusion'></a>"
   ]
  },
  {
   "cell_type": "markdown",
   "metadata": {},
   "source": [
    "A noteable amount of information was 're-arranged' so we will quickly show the r2-values for all of the scaling approaches side by side:"
   ]
  },
  {
   "cell_type": "code",
   "execution_count": 221,
   "metadata": {
    "scrolled": true
   },
   "outputs": [
    {
     "name": "stdout",
     "output_type": "stream",
     "text": [
      " R² results for nothing scaled below \n",
      "                     Test 0.3772 ( nothing scaled ) \n",
      " \n",
      " R² results for X & y scaled below \n",
      " SS Train | 0.4019   Test 0.3856 \n",
      " MM Train | -8.0011   Test -10.8513 \n",
      " LG Train | 0.4049   Test -0.1388 \n",
      " \n",
      " R² results for X only scaled below \n",
      " SS Train | 0.4134   Test 0.3772 \n",
      " MM Train | -0.031  Test 0.0436 \n",
      " LG Train | 0.4075   Test -0.1082 \n",
      " \n",
      " \n",
      " R² results for the LG & SS combination below \n",
      " SS Train | 0.4053   Test -0.0916 \n",
      " \n",
      " R² averages of LG & SS X only scaled below \n",
      " Av. Train | 0.4105   Test 0.1345\n"
     ]
    }
   ],
   "source": [
    "print( ' R² results for nothing scaled below',\n",
    "    '\\n','                    Test', round(r_squared,4),'( nothing scaled )', '\\n','\\n',\n",
    "      \n",
    "    'R² results for X & y scaled below',\n",
    "    '\\n','SS Train |',round(median_r2_SS[0],4),'  Test', round(median_r2_SS[1],4),\n",
    "\n",
    "      '\\n','MM Train |',round(median_r2_MM[0],4),'  Test', round(median_r2_MM[1],4),\n",
    "\n",
    "      '\\n','LG Train |',round(median_r2_LG[0],4),'  Test', round(median_r2_LG[1],4),'\\n','\\n',\n",
    "      \n",
    "     'R² results for X only scaled below',\n",
    "    '\\n','SS Train |',round(median_r2_SS_y_uns[0],4),'  Test', round(median_r2_SS_y_uns[1],4),\n",
    "\n",
    "      '\\n','MM Train |',round(median_r2_MM_y_uns[0],4),' Test', round(median_r2_MM_y_uns[1],4),\n",
    "\n",
    "      '\\n','LG Train |',round(median_r2_LG_y_uns[0],4),'  Test', round(median_r2_LG_y_uns[1],4),'\\n','\\n','\\n',\n",
    "      \n",
    "      'R² results for the LG & SS combination below',\n",
    "    '\\n','SS Train |',round(median_r2_SS_LG[0],4),'  Test', round(median_r2_SS_LG[1],4),'\\n','\\n',\n",
    "      \n",
    "      'R² averages of LG & SS X only scaled below',\n",
    "    '\\n','Av. Train |',round((( median_r2_SS_y_uns[0] + median_r2_LG_y_uns[0] ) / 2),4),\n",
    "      '  Test', round((( median_r2_SS_y_uns[1] + median_r2_LG_y_uns[1] ) / 2),4),\n",
    "     )"
   ]
  },
  {
   "cell_type": "markdown",
   "metadata": {},
   "source": [
    "We will now take a look at the `mae` & `mse` scores as well."
   ]
  },
  {
   "cell_type": "code",
   "execution_count": 222,
   "metadata": {},
   "outputs": [
    {
     "name": "stdout",
     "output_type": "stream",
     "text": [
      " MAE results for nothing scaled below \n",
      "                     Test 0.4459 ( nothing scaled ) \n",
      " \n",
      " MAE results for X & y scaled below \n",
      " SS Train | 0.5271   Test 0.5142 \n",
      " MM Train | 0.2798   Test 0.2865 \n",
      " LG Train | 0.5348   Test 0.6145 \n",
      " \n",
      " MAE results for X only scaled below \n",
      " SS Train | 0.4535   Test 0.4459 \n",
      " MM Train | 0.6082   Test 0.5203 \n",
      " LG Train | 0.4574   Test 0.5199 \n",
      " \n",
      " \n",
      " MAE results for the LG & SS combination below \n",
      " SS Train | 0.4562   Test 0.5144 \n",
      " \n",
      " MAE averages of LG & SS X only scaled below \n",
      " Av. Train | 0.4554  Test 0.4829\n"
     ]
    }
   ],
   "source": [
    "print(' MAE results for nothing scaled below',\n",
    "    '\\n','                    Test', round(mae,4),'( nothing scaled )', '\\n','\\n',\n",
    "      \n",
    "    'MAE results for X & y scaled below',\n",
    "    '\\n','SS Train |',round(median_mae_SS[0],4),'  Test', round(median_mae_SS[1],4),\n",
    "\n",
    "      '\\n','MM Train |',round(median_mae_MM[0],4),'  Test', round(median_mae_MM[1],4),\n",
    "\n",
    "      '\\n','LG Train |',round(median_mae_LG[0],4),'  Test', round(median_mae_LG[1],4),'\\n','\\n',\n",
    "      \n",
    "     'MAE results for X only scaled below',\n",
    "    '\\n','SS Train |',round(median_mae_SS_y_uns[0],4),'  Test', round(median_mae_SS_y_uns[1],4),\n",
    "\n",
    "      '\\n','MM Train |',round(median_mae_MM_y_uns[0],4),'  Test', round(median_mae_MM_y_uns[1],4),\n",
    "\n",
    "      '\\n','LG Train |',round(median_mae_LG_y_uns[0],4),'  Test', round(median_mae_LG_y_uns[1],4),'\\n','\\n','\\n',\n",
    "      \n",
    "      'MAE results for the LG & SS combination below',\n",
    "    '\\n','SS Train |',round(median_mae_SS_LG[0],4),'  Test', round(median_mae_SS_LG[1],4),'\\n','\\n',\n",
    "      \n",
    "      'MAE averages of LG & SS X only scaled below',\n",
    "    '\\n','Av. Train |',round((( median_mae_SS_y_uns[0] + median_mae_LG_y_uns[0] ) / 2),4),\n",
    "      ' Test', round((( median_mae_SS_y_uns[1] + median_mae_LG_y_uns[1] ) / 2),4),\n",
    "\n",
    "     )"
   ]
  },
  {
   "cell_type": "code",
   "execution_count": 223,
   "metadata": {},
   "outputs": [
    {
     "data": {
      "text/plain": [
       "0.48217523158703574"
      ]
     },
     "execution_count": 223,
     "metadata": {},
     "output_type": "execute_result"
    }
   ],
   "source": [
    "median_mse_SS[1]"
   ]
  },
  {
   "cell_type": "code",
   "execution_count": 224,
   "metadata": {},
   "outputs": [
    {
     "name": "stdout",
     "output_type": "stream",
     "text": [
      " MSE results for nothing scaled below \n",
      "                     Test 0.598 ( nothing scaled ) \n",
      " \n",
      " MSE results for X & y scaled below \n",
      " SS Train | 0.5981   Test 0.4822 \n",
      " MM Train | 0.084   Test 0.0868 \n",
      " LG Train | 0.5951   Test 0.8966 \n",
      " \n",
      " MSE results for X only scaled below \n",
      " SS Train | 0.4292   Test 0.3576 \n",
      " MM Train | 0.7544   Test 0.5492 \n",
      " LG Train | 0.4335   Test 0.6364 \n",
      " \n",
      " \n",
      " MSE results for the LG & SS combination below \n",
      " SS Train | 0.4351   Test 0.6268 \n",
      " \n",
      " MSE averages of LG & SS X only scaled below \n",
      " Av. Train | 0.4313  Test 0.497\n"
     ]
    }
   ],
   "source": [
    "print(' MSE results for nothing scaled below',\n",
    "    '\\n','                    Test', round(rmse,4),'( nothing scaled )', '\\n','\\n',\n",
    "      \n",
    "    'MSE results for X & y scaled below',\n",
    "    '\\n','SS Train |',round(median_mse_SS[0],4),'  Test', round(median_mse_SS[1],4),\n",
    "\n",
    "      '\\n','MM Train |',round(median_mse_MM[0],4),'  Test', round(median_mse_MM[1],4),\n",
    "\n",
    "      '\\n','LG Train |',round(median_mse_LG[0],4),'  Test', round(median_mse_LG[1],4),'\\n','\\n',\n",
    "      \n",
    "     'MSE results for X only scaled below',\n",
    "    '\\n','SS Train |',round(median_mse_SS_y_uns[0],4),'  Test', round(median_mse_SS_y_uns[1],4),\n",
    "\n",
    "      '\\n','MM Train |',round(median_mse_MM_y_uns[0],4),'  Test', round(median_mse_MM_y_uns[1],4),\n",
    "\n",
    "      '\\n','LG Train |',round(median_mse_LG_y_uns[0],4),'  Test', round(median_mse_LG_y_uns[1],4),'\\n','\\n','\\n',\n",
    "      \n",
    "      'MSE results for the LG & SS combination below',\n",
    "    '\\n','SS Train |',round(median_mse_SS_LG[0],4),'  Test', round(median_mse_SS_LG[1],4),'\\n','\\n',\n",
    "      \n",
    "      'MSE averages of LG & SS X only scaled below',\n",
    "    '\\n','Av. Train |',round((( median_mse_SS_y_uns[0] + median_mse_LG_y_uns[0] ) / 2),4),\n",
    "      ' Test', round((( median_mse_SS_y_uns[1] + median_mse_LG_y_uns[1] ) / 2),4),\n",
    "     \n",
    "     )"
   ]
  },
  {
   "cell_type": "markdown",
   "metadata": {},
   "source": [
    "The results on both `y` scaled & unscaled for `MM` are not worth pursuing; as such, we will drop those moving forward.\n",
    "\n",
    "The best results in the test sets are presented in the `SS` & `LG` scaled & unscaled `y` as well as a combination of them both; as such, we will proceed forwards with them. The negative territory in `LG` may be a product of a missallocation in the train / test split. \n",
    "\n",
    "To clarify, there are x5 in total; reiterated below:"
   ]
  },
  {
   "cell_type": "code",
   "execution_count": 225,
   "metadata": {},
   "outputs": [
    {
     "name": "stdout",
     "output_type": "stream",
     "text": [
      " R² results for X & y scaled below \n",
      " SS Train | 0.4019   Test 0.3856 \n",
      " LG Train | 0.4049   Test -0.1388 \n",
      " \n",
      " R² results for X only scaled below \n",
      " SS Train | 0.4134   Test 0.3772 \n",
      " LG Train | 0.4075   Test -0.1082 \n",
      " \n",
      " R² results for the LG & SS combination below \n",
      " SS Train | 0.4053   Test -0.0916\n"
     ]
    }
   ],
   "source": [
    "print(' R² results for X & y scaled below',\n",
    "    '\\n','SS Train |',round(median_r2_SS[0],4),'  Test', round(median_r2_SS[1],4),\n",
    "      '\\n','LG Train |',round(median_r2_LG[0],4),'  Test', round(median_r2_LG[1],4),'\\n','\\n',\n",
    "     'R² results for X only scaled below',\n",
    "    '\\n','SS Train |',round(median_r2_SS_y_uns[0],4),'  Test', round(median_r2_SS_y_uns[1],4),\n",
    "      '\\n','LG Train |',round(median_r2_LG_y_uns[0],4),'  Test', round(median_r2_LG_y_uns[1],4),'\\n','\\n',\n",
    "      'R² results for the LG & SS combination below',\n",
    "    '\\n','SS Train |',round(median_r2_SS_LG[0],4),'  Test', round(median_r2_SS_LG[1],4)\n",
    "     )"
   ]
  },
  {
   "cell_type": "markdown",
   "metadata": {},
   "source": [
    "We will now proceed to the modeling section & saving all relevant dataframes below:"
   ]
  },
  {
   "cell_type": "markdown",
   "metadata": {},
   "source": [
    "**`X` & `y` Standard Scaled**"
   ]
  },
  {
   "cell_type": "code",
   "execution_count": 226,
   "metadata": {},
   "outputs": [
    {
     "name": "stdout",
     "output_type": "stream",
     "text": [
      "Finished on all\n"
     ]
    }
   ],
   "source": [
    "# Training Data\n",
    "X_train_SS_csv = pd.DataFrame(X_train_SS)\n",
    "X_train_SS_csv.to_excel('./_Capstone_One_Inflation/data/4.0 Pre Processing Data/X_train_SS.xlsx')\n",
    "\n",
    "y_train_SS_csv = pd.DataFrame(y_train_SS)\n",
    "y_train_SS_csv.to_excel('./_Capstone_One_Inflation/data/4.0 Pre Processing Data/y_train_SS.xlsx')\n",
    "\n",
    "X_test_SS_csv = pd.DataFrame(X_test_SS)\n",
    "X_test_SS_csv.to_excel('./_Capstone_One_Inflation/data/4.0 Pre Processing Data/X_test_SS.xlsx')\n",
    "\n",
    "y_test_SS_csv = pd.DataFrame(y_test_SS)\n",
    "y_test_SS_csv.to_excel('./_Capstone_One_Inflation/data/4.0 Pre Processing Data/y_test_SS.xlsx')\n",
    "\n",
    "print('Finished on all')"
   ]
  },
  {
   "cell_type": "markdown",
   "metadata": {},
   "source": [
    "**`X` only Standard Scaled**"
   ]
  },
  {
   "cell_type": "code",
   "execution_count": 227,
   "metadata": {},
   "outputs": [
    {
     "name": "stdout",
     "output_type": "stream",
     "text": [
      "Finished on all\n"
     ]
    }
   ],
   "source": [
    "# Training Data\n",
    "X_train_SS_y_uns_csv = pd.DataFrame(X_train_SS_y_uns)\n",
    "X_train_SS_y_uns_csv.to_excel('./_Capstone_One_Inflation/data/4.0 Pre Processing Data/X_train_SS_y_uns.xlsx')\n",
    "\n",
    "y_train_SS_y_uns_csv = pd.DataFrame(y_train_SS_y_uns)\n",
    "y_train_SS_y_uns_csv.to_excel('./_Capstone_One_Inflation/data/4.0 Pre Processing Data/y_train_SS_y_uns.xlsx')\n",
    "\n",
    "# Test Data\n",
    "X_test_SS_y_uns_csv = pd.DataFrame(X_test_SS_y_uns)\n",
    "X_test_SS_y_uns_csv.to_excel('./_Capstone_One_Inflation/data/4.0 Pre Processing Data/X_test_SS_y_uns.xlsx')\n",
    "\n",
    "y_test_SS_y_uns_csv = pd.DataFrame(y_test_SS)\n",
    "y_test_SS_y_uns_csv.to_excel('./_Capstone_One_Inflation/data/4.0 Pre Processing Data/y_test_SS_y_uns.xlsx')\n",
    "\n",
    "print('Finished on all')"
   ]
  },
  {
   "cell_type": "markdown",
   "metadata": {},
   "source": [
    "**`X` & `y` Log Scaled**"
   ]
  },
  {
   "cell_type": "code",
   "execution_count": 228,
   "metadata": {},
   "outputs": [
    {
     "name": "stdout",
     "output_type": "stream",
     "text": [
      "Finished on all\n"
     ]
    }
   ],
   "source": [
    "# Training Data\n",
    "X_train_LG_csv = pd.DataFrame(X_train_LG)\n",
    "X_train_LG_csv.to_excel('./_Capstone_One_Inflation/data/4.0 Pre Processing Data/X_train_LG.xlsx')\n",
    "\n",
    "y_train_LG_csv = pd.DataFrame(y_train_LG)\n",
    "y_train_LG_csv.to_excel('./_Capstone_One_Inflation/data/4.0 Pre Processing Data/y_train_LG.xlsx')\n",
    "\n",
    "# Test Data\n",
    "X_test_LG_csv = pd.DataFrame(X_test_LG)\n",
    "X_test_LG_csv.to_excel('./_Capstone_One_Inflation/data/4.0 Pre Processing Data/X_test_LG.xlsx')\n",
    "\n",
    "y_test_LG_csv = pd.DataFrame(y_test_LG)\n",
    "y_test_LG_csv.to_excel('./_Capstone_One_Inflation/data/4.0 Pre Processing Data/y_test_LG.xlsx')\n",
    "\n",
    "print('Finished on all')"
   ]
  },
  {
   "cell_type": "markdown",
   "metadata": {},
   "source": [
    "**`X` only Log Scaled**"
   ]
  },
  {
   "cell_type": "code",
   "execution_count": 229,
   "metadata": {},
   "outputs": [
    {
     "name": "stdout",
     "output_type": "stream",
     "text": [
      "Finished on all\n"
     ]
    }
   ],
   "source": [
    "# Training Data\n",
    "X_train_LG_y_uns_csv = pd.DataFrame(X_train_LG_y_uns)\n",
    "X_train_LG_y_uns_csv.to_excel('./_Capstone_One_Inflation/data/4.0 Pre Processing Data/X_train_LG_y_uns.xlsx')\n",
    "\n",
    "y_train_LG_y_uns_csv = pd.DataFrame(y_train_LG_y_uns)\n",
    "y_train_LG_y_uns_csv.to_excel('./_Capstone_One_Inflation/data/4.0 Pre Processing Data/y_train_LG_y_uns.xlsx')\n",
    "\n",
    "# Test Data\n",
    "X_test_LG_y_uns_csv = pd.DataFrame(X_test_LG_y_uns)\n",
    "X_test_LG_y_uns_csv.to_excel('./_Capstone_One_Inflation/data/4.0 Pre Processing Data/X_test_LG_y_uns.xlsx')\n",
    "\n",
    "y_test_LG_y_uns_csv = pd.DataFrame(y_test_LG)\n",
    "y_test_LG_y_uns_csv.to_excel('./_Capstone_One_Inflation/data/4.0 Pre Processing Data/y_test_LG_y_uns.xlsx')\n",
    "\n",
    "print('Finished on all')"
   ]
  },
  {
   "cell_type": "markdown",
   "metadata": {},
   "source": [
    "**`X` & `y` `SS` & `LG` Combination**"
   ]
  },
  {
   "cell_type": "code",
   "execution_count": 230,
   "metadata": {},
   "outputs": [
    {
     "name": "stdout",
     "output_type": "stream",
     "text": [
      "Finished on all\n"
     ]
    }
   ],
   "source": [
    "# Training Data\n",
    "X_tr_SS_LG_csv = pd.DataFrame(X_tr_SS_LG)\n",
    "X_tr_SS_LG_csv.to_excel('./_Capstone_One_Inflation/data/4.0 Pre Processing Data/X_tr_SS_LG.xlsx')\n",
    "\n",
    "y_tr_y_uns_csv = pd.DataFrame(y_tr_y_uns)\n",
    "y_tr_y_uns_csv.to_excel('./_Capstone_One_Inflation/data/4.0 Pre Processing Data/y_tr_y_uns.xlsx')\n",
    "\n",
    "# Test Data\n",
    "X_te_SS_LG_csv = pd.DataFrame(X_te_SS_LG)\n",
    "X_te_SS_LG_csv.to_excel('./_Capstone_One_Inflation/data/4.0 Pre Processing Data/X_te_SS_LG.xlsx')\n",
    "\n",
    "y_te_y_uns_csv = pd.DataFrame(y_te_y_uns)\n",
    "y_te_y_uns_csv.to_excel('./_Capstone_One_Inflation/data/4.0 Pre Processing Data/y_te_y_uns.xlsx')\n",
    "\n",
    "print('Finished on all')"
   ]
  },
  {
   "cell_type": "code",
   "execution_count": null,
   "metadata": {},
   "outputs": [],
   "source": []
  }
 ],
 "metadata": {
  "kernelspec": {
   "display_name": "Python 3",
   "language": "python",
   "name": "python3"
  },
  "language_info": {
   "codemirror_mode": {
    "name": "ipython",
    "version": 3
   },
   "file_extension": ".py",
   "mimetype": "text/x-python",
   "name": "python",
   "nbconvert_exporter": "python",
   "pygments_lexer": "ipython3",
   "version": "3.8.10"
  },
  "varInspector": {
   "cols": {
    "lenName": 16,
    "lenType": 16,
    "lenVar": 40
   },
   "kernels_config": {
    "python": {
     "delete_cmd_postfix": "",
     "delete_cmd_prefix": "del ",
     "library": "var_list.py",
     "varRefreshCmd": "print(var_dic_list())"
    },
    "r": {
     "delete_cmd_postfix": ") ",
     "delete_cmd_prefix": "rm(",
     "library": "var_list.r",
     "varRefreshCmd": "cat(var_dic_list()) "
    }
   },
   "types_to_exclude": [
    "module",
    "function",
    "builtin_function_or_method",
    "instance",
    "_Feature"
   ],
   "window_display": false
  }
 },
 "nbformat": 4,
 "nbformat_minor": 4
}
