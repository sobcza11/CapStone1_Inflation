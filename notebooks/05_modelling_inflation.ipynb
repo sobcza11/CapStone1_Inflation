{
 "cells": [
  {
   "cell_type": "markdown",
   "metadata": {},
   "source": [
    "# Modeling | US Inflation"
   ]
  },
  {
   "cell_type": "markdown",
   "metadata": {},
   "source": [
    "# Table of Contents<a id='#home'></a>\n",
    "* [5.0 Modeling](#data_m)\n",
    "  * [5.1 Content](#content)\n",
    "  * [5.2 Import Libs](#libs)\n",
    "  * [5.3 File Imports](#files)\n",
    "  * [5.4 Modeling](#modeling)\n",
    "    * [5.4.1 Standard Scaler X & y (SS)](#ss_both)\n",
    "    * [5.4.2 Standard Scaler X only (SS_y_uns)](#ss_y_un)\n",
    "    * [5.4.3 Log Transformation X & y (LG)](#lg_both)\n",
    "    * [5.4.4 Log Transformation X only (LG_y_uns)](#lg_y_un)\n",
    "    * [5.4.5 Combination of Standard Scaler & Log Transformation for X only (SS_LG)](#combo)\n",
    "  * [5.5 Initial Findings](#int_find)\n",
    "  * [5.6 Modeling with Most important Variables](#mod_imp)\n",
    "    * [5.6.1 Standard Scaler X & y (SS_two)](#ss_imp)\n",
    "    * [5.6.2 Standard Scaler 2 X only (SS_y_uns_two)](#ss_imp_uns)\n",
    "    * [5.6.3 Log Transformation X & y (LG_two)](#lg_imp)\n",
    "    * [5.6.4 Log Transformation X & y (LG_y_uns_two)](#ss_lg_imp)\n",
    "    * [5.6.5 Combination of Standard Scaler & Log Transformation for X only (SS_LG_two)](#ss_lg_imp_n)\n",
    "  * [5.7 Conclusion](#conclusion)\n"
   ]
  },
  {
   "cell_type": "markdown",
   "metadata": {},
   "source": [
    "## 5.1 Content<a id='content'></a>"
   ]
  },
  {
   "cell_type": "markdown",
   "metadata": {},
   "source": [
    "In this notebook, we now take our model for `Inflation` gain some insights into what explicitly drives `Inflation`. "
   ]
  },
  {
   "cell_type": "markdown",
   "metadata": {},
   "source": [
    "## 5.2 Libraries<a id='libs'></a>"
   ]
  },
  {
   "cell_type": "code",
   "execution_count": 1,
   "metadata": {},
   "outputs": [],
   "source": [
    "import pandas as pd\n",
    "import matplotlib.pyplot as plt\n",
    "import matplotlib.colors as colors\n",
    "import seaborn as sns\n",
    "import os\n",
    "import lxml\n",
    "import datetime\n",
    "import requests\n",
    "import json\n",
    "import collections\n",
    "import seaborn as sns\n",
    "from scipy import stats\n",
    "import numpy as np\n",
    "import pickle\n",
    "from sklearn.preprocessing import StandardScaler, PowerTransformer\n",
    "\n",
    "from sklearn import __version__ as sklearn_version\n",
    "from sklearn.model_selection import cross_validate\n",
    "\n",
    "# may not need these but better to include\n",
    "from sklearn import __version__ as sklearn_version\n",
    "from sklearn.decomposition import PCA\n",
    "from sklearn.preprocessing import scale\n",
    "from sklearn.model_selection import train_test_split, cross_validate, GridSearchCV, learning_curve\n",
    "from sklearn.dummy import DummyRegressor\n",
    "from sklearn.linear_model import LinearRegression\n",
    "from sklearn.linear_model import LogisticRegression\n",
    "from sklearn.ensemble import RandomForestRegressor\n",
    "from sklearn.metrics import r2_score, mean_squared_error, mean_absolute_error\n",
    "from sklearn.pipeline import make_pipeline\n",
    "from sklearn.impute import SimpleImputer\n",
    "from sklearn.feature_selection import SelectKBest, f_regression\n"
   ]
  },
  {
   "cell_type": "markdown",
   "metadata": {},
   "source": [
    "## 5.3 File Imports<a id='files'></a>"
   ]
  },
  {
   "cell_type": "code",
   "execution_count": 2,
   "metadata": {},
   "outputs": [
    {
     "name": "stdout",
     "output_type": "stream",
     "text": [
      "C:\\Users\\rands\n"
     ]
    }
   ],
   "source": [
    "cd"
   ]
  },
  {
   "cell_type": "code",
   "execution_count": 3,
   "metadata": {
    "scrolled": true
   },
   "outputs": [
    {
     "name": "stdout",
     "output_type": "stream",
     "text": [
      "Finished; proceed.\n"
     ]
    }
   ],
   "source": [
    "# StandardScaler | X & y scaled\n",
    "X_train_SS = pd.read_excel('./_Capstone_One_Inflation/data/4.0 Pre Processing Data/X_train_SS.xlsx', index_col=None)\n",
    "y_train_SS = pd.read_excel('./_Capstone_One_Inflation/data/4.0 Pre Processing Data/y_train_SS.xlsx', index_col=None)\n",
    "X_test_SS = pd.read_excel('./_Capstone_One_Inflation/data/4.0 Pre Processing Data/X_test_SS.xlsx', index_col=None)\n",
    "y_test_SS = pd.read_excel('./_Capstone_One_Inflation/data/4.0 Pre Processing Data/y_test_SS.xlsx', index_col=None)\n",
    "\n",
    "# Standard Scaler | X only scaled\n",
    "X_train_SS_y_uns = pd.read_excel('./_Capstone_One_Inflation/data/4.0 Pre Processing Data/X_train_SS_y_uns.xlsx', index_col=None)\n",
    "y_train_SS_y_uns = pd.read_excel('./_Capstone_One_Inflation/data/4.0 Pre Processing Data/y_train_SS_y_uns.xlsx', index_col=None)\n",
    "X_test_SS_y_uns = pd.read_excel('./_Capstone_One_Inflation/data/4.0 Pre Processing Data/X_test_SS_y_uns.xlsx', index_col=None)\n",
    "y_test_SS_y_uns = pd.read_excel('./_Capstone_One_Inflation/data/4.0 Pre Processing Data/y_test_SS_y_uns.xlsx', index_col=None)\n",
    "\n",
    "# Log Scaler | X & y scaled\n",
    "X_train_LG = pd.read_excel('./_Capstone_One_Inflation/data/4.0 Pre Processing Data/X_train_LG.xlsx', index_col=None)\n",
    "y_train_LG = pd.read_excel('./_Capstone_One_Inflation/data/4.0 Pre Processing Data/y_train_LG.xlsx', index_col=None)\n",
    "X_test_LG = pd.read_excel('./_Capstone_One_Inflation/data/4.0 Pre Processing Data/X_test_LG.xlsx', index_col=None)\n",
    "y_test_LG = pd.read_excel('./_Capstone_One_Inflation/data/4.0 Pre Processing Data/y_test_LG.xlsx', index_col=None)\n",
    "\n",
    "# Log Scaler | X only scaled\n",
    "X_train_LG_y_uns = pd.read_excel('./_Capstone_One_Inflation/data/4.0 Pre Processing Data/X_train_LG_y_uns.xlsx', index_col=None)\n",
    "y_train_LG_y_uns = pd.read_excel('./_Capstone_One_Inflation/data/4.0 Pre Processing Data/y_train_LG_y_uns.xlsx', index_col=None)\n",
    "X_test_LG_y_uns = pd.read_excel('./_Capstone_One_Inflation/data/4.0 Pre Processing Data/X_test_LG_y_uns.xlsx', index_col=None)\n",
    "y_test_LG_y_uns = pd.read_excel('./_Capstone_One_Inflation/data/4.0 Pre Processing Data/y_test_LG.xlsx', index_col=None)\n",
    "\n",
    "# StandardScaler & Log Combined | X only scaled\n",
    "X_tr_SS_LG = pd.read_excel('./_Capstone_One_Inflation/data/4.0 Pre Processing Data/X_tr_SS_LG.xlsx', index_col=None)\n",
    "y_tr_y_uns = pd.read_excel('./_Capstone_One_Inflation/data/4.0 Pre Processing Data/y_tr_y_uns.xlsx', index_col=None)\n",
    "X_te_SS_LG = pd.read_excel('./_Capstone_One_Inflation/data/4.0 Pre Processing Data/X_te_SS_LG.xlsx', index_col=None)\n",
    "y_te_y_uns = pd.read_excel('./_Capstone_One_Inflation/data/4.0 Pre Processing Data/y_te_y_uns.xlsx', index_col=None)\n",
    "\n",
    "print('Finished; proceed.')"
   ]
  },
  {
   "cell_type": "markdown",
   "metadata": {},
   "source": [
    "**Confirming the files were imported / saved correctly**"
   ]
  },
  {
   "cell_type": "markdown",
   "metadata": {},
   "source": [
    "In this section **we will double review the process is moving smoothly**; i.e. what was saved & imported is correct via the describe method; apologies in advance if this is long; **prudent to assume they are correct if I continue thereafter so please feel free to skip.**"
   ]
  },
  {
   "cell_type": "markdown",
   "metadata": {},
   "source": [
    "`Mean` should be 0 `Std` should be 1"
   ]
  },
  {
   "cell_type": "code",
   "execution_count": 4,
   "metadata": {},
   "outputs": [
    {
     "data": {
      "text/html": [
       "<div>\n",
       "<style scoped>\n",
       "    .dataframe tbody tr th:only-of-type {\n",
       "        vertical-align: middle;\n",
       "    }\n",
       "\n",
       "    .dataframe tbody tr th {\n",
       "        vertical-align: top;\n",
       "    }\n",
       "\n",
       "    .dataframe thead th {\n",
       "        text-align: right;\n",
       "    }\n",
       "</style>\n",
       "<table border=\"1\" class=\"dataframe\">\n",
       "  <thead>\n",
       "    <tr style=\"text-align: right;\">\n",
       "      <th></th>\n",
       "      <th>Unnamed: 0</th>\n",
       "      <th>Wages CPI_SS</th>\n",
       "      <th>WTI_SS</th>\n",
       "      <th>Heating Oil_SS</th>\n",
       "      <th>Copper_SS</th>\n",
       "      <th>Sugar_SS</th>\n",
       "      <th>Natural Gas_SS</th>\n",
       "      <th>Cattle_SS</th>\n",
       "      <th>Lean Hogs_SS</th>\n",
       "      <th>Soybeans_SS</th>\n",
       "      <th>Lumber_SS</th>\n",
       "      <th>Capacity Utilization_SS</th>\n",
       "      <th>Corn_SS</th>\n",
       "      <th>M2 Velocity_SS</th>\n",
       "      <th>GDP_SS</th>\n",
       "      <th>Wheat_SS</th>\n",
       "      <th>PMI_SS</th>\n",
       "      <th>USD Index_SS</th>\n",
       "      <th>Unemployment Rate_SS</th>\n",
       "      <th>Initial Jobless Claims_SS</th>\n",
       "    </tr>\n",
       "  </thead>\n",
       "  <tbody>\n",
       "    <tr>\n",
       "      <th>count</th>\n",
       "      <td>219.000000</td>\n",
       "      <td>2.190000e+02</td>\n",
       "      <td>2.190000e+02</td>\n",
       "      <td>2.190000e+02</td>\n",
       "      <td>2.190000e+02</td>\n",
       "      <td>2.190000e+02</td>\n",
       "      <td>2.190000e+02</td>\n",
       "      <td>2.190000e+02</td>\n",
       "      <td>2.190000e+02</td>\n",
       "      <td>2.190000e+02</td>\n",
       "      <td>2.190000e+02</td>\n",
       "      <td>2.190000e+02</td>\n",
       "      <td>2.190000e+02</td>\n",
       "      <td>2.190000e+02</td>\n",
       "      <td>2.190000e+02</td>\n",
       "      <td>2.190000e+02</td>\n",
       "      <td>2.190000e+02</td>\n",
       "      <td>2.190000e+02</td>\n",
       "      <td>2.190000e+02</td>\n",
       "      <td>2.190000e+02</td>\n",
       "    </tr>\n",
       "    <tr>\n",
       "      <th>mean</th>\n",
       "      <td>156.726027</td>\n",
       "      <td>5.931328e-17</td>\n",
       "      <td>3.700743e-17</td>\n",
       "      <td>-5.132088e-17</td>\n",
       "      <td>6.666408e-17</td>\n",
       "      <td>-4.816036e-17</td>\n",
       "      <td>-5.272292e-17</td>\n",
       "      <td>-2.712189e-17</td>\n",
       "      <td>-1.419463e-17</td>\n",
       "      <td>8.618170e-18</td>\n",
       "      <td>-7.097316e-18</td>\n",
       "      <td>5.829938e-18</td>\n",
       "      <td>4.511865e-17</td>\n",
       "      <td>-3.097155e-18</td>\n",
       "      <td>-8.998383e-17</td>\n",
       "      <td>-2.382670e-17</td>\n",
       "      <td>2.192564e-17</td>\n",
       "      <td>2.838926e-17</td>\n",
       "      <td>-1.013902e-18</td>\n",
       "      <td>2.585451e-17</td>\n",
       "    </tr>\n",
       "    <tr>\n",
       "      <th>std</th>\n",
       "      <td>89.981485</td>\n",
       "      <td>1.002291e+00</td>\n",
       "      <td>1.002291e+00</td>\n",
       "      <td>1.002291e+00</td>\n",
       "      <td>1.002291e+00</td>\n",
       "      <td>1.002291e+00</td>\n",
       "      <td>1.002291e+00</td>\n",
       "      <td>1.002291e+00</td>\n",
       "      <td>1.002291e+00</td>\n",
       "      <td>1.002291e+00</td>\n",
       "      <td>1.002291e+00</td>\n",
       "      <td>1.002291e+00</td>\n",
       "      <td>1.002291e+00</td>\n",
       "      <td>1.002291e+00</td>\n",
       "      <td>1.002291e+00</td>\n",
       "      <td>1.002291e+00</td>\n",
       "      <td>1.002291e+00</td>\n",
       "      <td>1.002291e+00</td>\n",
       "      <td>1.002291e+00</td>\n",
       "      <td>1.002291e+00</td>\n",
       "    </tr>\n",
       "    <tr>\n",
       "      <th>min</th>\n",
       "      <td>0.000000</td>\n",
       "      <td>-6.062318e+00</td>\n",
       "      <td>-3.554258e+00</td>\n",
       "      <td>-3.307158e+00</td>\n",
       "      <td>-4.275317e+00</td>\n",
       "      <td>-2.534857e+00</td>\n",
       "      <td>-2.092879e+00</td>\n",
       "      <td>-3.251186e+00</td>\n",
       "      <td>-2.412667e+00</td>\n",
       "      <td>-3.552930e+00</td>\n",
       "      <td>-2.447766e+00</td>\n",
       "      <td>-7.795038e+00</td>\n",
       "      <td>-3.095494e+00</td>\n",
       "      <td>-9.068365e+00</td>\n",
       "      <td>-8.151908e+00</td>\n",
       "      <td>-2.909327e+00</td>\n",
       "      <td>-4.035795e+00</td>\n",
       "      <td>-2.092087e+00</td>\n",
       "      <td>-3.918715e+00</td>\n",
       "      <td>-3.862139e+00</td>\n",
       "    </tr>\n",
       "    <tr>\n",
       "      <th>25%</th>\n",
       "      <td>80.500000</td>\n",
       "      <td>-2.622508e-01</td>\n",
       "      <td>-5.738987e-01</td>\n",
       "      <td>-5.106932e-01</td>\n",
       "      <td>-5.903736e-01</td>\n",
       "      <td>-6.694239e-01</td>\n",
       "      <td>-6.272489e-01</td>\n",
       "      <td>-6.393442e-01</td>\n",
       "      <td>-5.898264e-01</td>\n",
       "      <td>-5.147225e-01</td>\n",
       "      <td>-6.792113e-01</td>\n",
       "      <td>-2.299928e-01</td>\n",
       "      <td>-5.887966e-01</td>\n",
       "      <td>-1.372215e-01</td>\n",
       "      <td>-1.434068e-01</td>\n",
       "      <td>-6.295338e-01</td>\n",
       "      <td>-5.733419e-01</td>\n",
       "      <td>-7.686037e-01</td>\n",
       "      <td>-2.860298e-01</td>\n",
       "      <td>-1.127636e-01</td>\n",
       "    </tr>\n",
       "    <tr>\n",
       "      <th>50%</th>\n",
       "      <td>156.000000</td>\n",
       "      <td>1.137130e-01</td>\n",
       "      <td>3.652246e-02</td>\n",
       "      <td>-3.546556e-03</td>\n",
       "      <td>-1.277241e-01</td>\n",
       "      <td>-1.992945e-01</td>\n",
       "      <td>-1.776078e-01</td>\n",
       "      <td>6.243175e-02</td>\n",
       "      <td>-5.066135e-02</td>\n",
       "      <td>-3.896558e-02</td>\n",
       "      <td>-2.097464e-02</td>\n",
       "      <td>1.645101e-01</td>\n",
       "      <td>-1.044398e-01</td>\n",
       "      <td>4.201600e-02</td>\n",
       "      <td>8.882293e-02</td>\n",
       "      <td>-7.649249e-02</td>\n",
       "      <td>-6.581613e-02</td>\n",
       "      <td>5.368868e-02</td>\n",
       "      <td>-1.463112e-01</td>\n",
       "      <td>-8.392462e-02</td>\n",
       "    </tr>\n",
       "    <tr>\n",
       "      <th>75%</th>\n",
       "      <td>234.500000</td>\n",
       "      <td>4.862085e-01</td>\n",
       "      <td>6.407473e-01</td>\n",
       "      <td>6.302291e-01</td>\n",
       "      <td>5.419286e-01</td>\n",
       "      <td>5.710310e-01</td>\n",
       "      <td>5.252051e-01</td>\n",
       "      <td>7.571885e-01</td>\n",
       "      <td>7.410920e-01</td>\n",
       "      <td>4.885812e-01</td>\n",
       "      <td>5.957653e-01</td>\n",
       "      <td>4.722769e-01</td>\n",
       "      <td>5.366638e-01</td>\n",
       "      <td>3.889674e-01</td>\n",
       "      <td>3.109964e-01</td>\n",
       "      <td>5.600397e-01</td>\n",
       "      <td>5.883282e-01</td>\n",
       "      <td>5.819297e-01</td>\n",
       "      <td>8.655327e-02</td>\n",
       "      <td>-4.724902e-02</td>\n",
       "    </tr>\n",
       "    <tr>\n",
       "      <th>max</th>\n",
       "      <td>312.000000</td>\n",
       "      <td>3.088234e+00</td>\n",
       "      <td>2.605196e+00</td>\n",
       "      <td>2.396819e+00</td>\n",
       "      <td>3.899899e+00</td>\n",
       "      <td>3.949918e+00</td>\n",
       "      <td>2.963685e+00</td>\n",
       "      <td>2.354074e+00</td>\n",
       "      <td>2.559684e+00</td>\n",
       "      <td>2.721410e+00</td>\n",
       "      <td>4.104874e+00</td>\n",
       "      <td>2.018575e+00</td>\n",
       "      <td>2.995122e+00</td>\n",
       "      <td>2.102794e+00</td>\n",
       "      <td>5.751485e+00</td>\n",
       "      <td>3.904325e+00</td>\n",
       "      <td>3.577091e+00</td>\n",
       "      <td>3.428937e+00</td>\n",
       "      <td>1.014630e+01</td>\n",
       "      <td>1.121655e+01</td>\n",
       "    </tr>\n",
       "  </tbody>\n",
       "</table>\n",
       "</div>"
      ],
      "text/plain": [
       "       Unnamed: 0  Wages CPI_SS        WTI_SS  Heating Oil_SS     Copper_SS  \\\n",
       "count  219.000000  2.190000e+02  2.190000e+02    2.190000e+02  2.190000e+02   \n",
       "mean   156.726027  5.931328e-17  3.700743e-17   -5.132088e-17  6.666408e-17   \n",
       "std     89.981485  1.002291e+00  1.002291e+00    1.002291e+00  1.002291e+00   \n",
       "min      0.000000 -6.062318e+00 -3.554258e+00   -3.307158e+00 -4.275317e+00   \n",
       "25%     80.500000 -2.622508e-01 -5.738987e-01   -5.106932e-01 -5.903736e-01   \n",
       "50%    156.000000  1.137130e-01  3.652246e-02   -3.546556e-03 -1.277241e-01   \n",
       "75%    234.500000  4.862085e-01  6.407473e-01    6.302291e-01  5.419286e-01   \n",
       "max    312.000000  3.088234e+00  2.605196e+00    2.396819e+00  3.899899e+00   \n",
       "\n",
       "           Sugar_SS  Natural Gas_SS     Cattle_SS  Lean Hogs_SS   Soybeans_SS  \\\n",
       "count  2.190000e+02    2.190000e+02  2.190000e+02  2.190000e+02  2.190000e+02   \n",
       "mean  -4.816036e-17   -5.272292e-17 -2.712189e-17 -1.419463e-17  8.618170e-18   \n",
       "std    1.002291e+00    1.002291e+00  1.002291e+00  1.002291e+00  1.002291e+00   \n",
       "min   -2.534857e+00   -2.092879e+00 -3.251186e+00 -2.412667e+00 -3.552930e+00   \n",
       "25%   -6.694239e-01   -6.272489e-01 -6.393442e-01 -5.898264e-01 -5.147225e-01   \n",
       "50%   -1.992945e-01   -1.776078e-01  6.243175e-02 -5.066135e-02 -3.896558e-02   \n",
       "75%    5.710310e-01    5.252051e-01  7.571885e-01  7.410920e-01  4.885812e-01   \n",
       "max    3.949918e+00    2.963685e+00  2.354074e+00  2.559684e+00  2.721410e+00   \n",
       "\n",
       "          Lumber_SS  Capacity Utilization_SS       Corn_SS  M2 Velocity_SS  \\\n",
       "count  2.190000e+02             2.190000e+02  2.190000e+02    2.190000e+02   \n",
       "mean  -7.097316e-18             5.829938e-18  4.511865e-17   -3.097155e-18   \n",
       "std    1.002291e+00             1.002291e+00  1.002291e+00    1.002291e+00   \n",
       "min   -2.447766e+00            -7.795038e+00 -3.095494e+00   -9.068365e+00   \n",
       "25%   -6.792113e-01            -2.299928e-01 -5.887966e-01   -1.372215e-01   \n",
       "50%   -2.097464e-02             1.645101e-01 -1.044398e-01    4.201600e-02   \n",
       "75%    5.957653e-01             4.722769e-01  5.366638e-01    3.889674e-01   \n",
       "max    4.104874e+00             2.018575e+00  2.995122e+00    2.102794e+00   \n",
       "\n",
       "             GDP_SS      Wheat_SS        PMI_SS  USD Index_SS  \\\n",
       "count  2.190000e+02  2.190000e+02  2.190000e+02  2.190000e+02   \n",
       "mean  -8.998383e-17 -2.382670e-17  2.192564e-17  2.838926e-17   \n",
       "std    1.002291e+00  1.002291e+00  1.002291e+00  1.002291e+00   \n",
       "min   -8.151908e+00 -2.909327e+00 -4.035795e+00 -2.092087e+00   \n",
       "25%   -1.434068e-01 -6.295338e-01 -5.733419e-01 -7.686037e-01   \n",
       "50%    8.882293e-02 -7.649249e-02 -6.581613e-02  5.368868e-02   \n",
       "75%    3.109964e-01  5.600397e-01  5.883282e-01  5.819297e-01   \n",
       "max    5.751485e+00  3.904325e+00  3.577091e+00  3.428937e+00   \n",
       "\n",
       "       Unemployment Rate_SS  Initial Jobless Claims_SS  \n",
       "count          2.190000e+02               2.190000e+02  \n",
       "mean          -1.013902e-18               2.585451e-17  \n",
       "std            1.002291e+00               1.002291e+00  \n",
       "min           -3.918715e+00              -3.862139e+00  \n",
       "25%           -2.860298e-01              -1.127636e-01  \n",
       "50%           -1.463112e-01              -8.392462e-02  \n",
       "75%            8.655327e-02              -4.724902e-02  \n",
       "max            1.014630e+01               1.121655e+01  "
      ]
     },
     "execution_count": 4,
     "metadata": {},
     "output_type": "execute_result"
    }
   ],
   "source": [
    "X_train_SS.describe()"
   ]
  },
  {
   "cell_type": "code",
   "execution_count": 5,
   "metadata": {},
   "outputs": [
    {
     "data": {
      "text/html": [
       "<div>\n",
       "<style scoped>\n",
       "    .dataframe tbody tr th:only-of-type {\n",
       "        vertical-align: middle;\n",
       "    }\n",
       "\n",
       "    .dataframe tbody tr th {\n",
       "        vertical-align: top;\n",
       "    }\n",
       "\n",
       "    .dataframe thead th {\n",
       "        text-align: right;\n",
       "    }\n",
       "</style>\n",
       "<table border=\"1\" class=\"dataframe\">\n",
       "  <thead>\n",
       "    <tr style=\"text-align: right;\">\n",
       "      <th></th>\n",
       "      <th>Unnamed: 0</th>\n",
       "      <th>Wages CPI_SS</th>\n",
       "      <th>WTI_SS</th>\n",
       "      <th>Heating Oil_SS</th>\n",
       "      <th>Copper_SS</th>\n",
       "      <th>Sugar_SS</th>\n",
       "      <th>Natural Gas_SS</th>\n",
       "      <th>Cattle_SS</th>\n",
       "      <th>Lean Hogs_SS</th>\n",
       "      <th>Soybeans_SS</th>\n",
       "      <th>Lumber_SS</th>\n",
       "      <th>Capacity Utilization_SS</th>\n",
       "      <th>Corn_SS</th>\n",
       "      <th>M2 Velocity_SS</th>\n",
       "      <th>GDP_SS</th>\n",
       "      <th>Wheat_SS</th>\n",
       "      <th>PMI_SS</th>\n",
       "      <th>USD Index_SS</th>\n",
       "      <th>Unemployment Rate_SS</th>\n",
       "      <th>Initial Jobless Claims_SS</th>\n",
       "    </tr>\n",
       "  </thead>\n",
       "  <tbody>\n",
       "    <tr>\n",
       "      <th>0</th>\n",
       "      <td>79</td>\n",
       "      <td>0.155334</td>\n",
       "      <td>-0.394343</td>\n",
       "      <td>-0.050438</td>\n",
       "      <td>-0.073618</td>\n",
       "      <td>-0.719903</td>\n",
       "      <td>1.188751</td>\n",
       "      <td>0.975637</td>\n",
       "      <td>-0.227010</td>\n",
       "      <td>-0.047364</td>\n",
       "      <td>0.180722</td>\n",
       "      <td>0.182841</td>\n",
       "      <td>-0.428209</td>\n",
       "      <td>-0.474105</td>\n",
       "      <td>-0.710077</td>\n",
       "      <td>-0.991708</td>\n",
       "      <td>-0.877857</td>\n",
       "      <td>-0.042584</td>\n",
       "      <td>-0.658613</td>\n",
       "      <td>-0.074521</td>\n",
       "    </tr>\n",
       "    <tr>\n",
       "      <th>1</th>\n",
       "      <td>147</td>\n",
       "      <td>1.806193</td>\n",
       "      <td>1.153919</td>\n",
       "      <td>1.281250</td>\n",
       "      <td>-1.009767</td>\n",
       "      <td>0.519004</td>\n",
       "      <td>0.795288</td>\n",
       "      <td>-0.229392</td>\n",
       "      <td>-1.092126</td>\n",
       "      <td>2.638157</td>\n",
       "      <td>-0.672091</td>\n",
       "      <td>0.285280</td>\n",
       "      <td>2.017779</td>\n",
       "      <td>-0.752247</td>\n",
       "      <td>-0.968334</td>\n",
       "      <td>0.824884</td>\n",
       "      <td>-0.392888</td>\n",
       "      <td>-1.198573</td>\n",
       "      <td>0.272845</td>\n",
       "      <td>0.005413</td>\n",
       "    </tr>\n",
       "    <tr>\n",
       "      <th>2</th>\n",
       "      <td>143</td>\n",
       "      <td>0.839935</td>\n",
       "      <td>1.325041</td>\n",
       "      <td>1.617048</td>\n",
       "      <td>1.473924</td>\n",
       "      <td>0.386982</td>\n",
       "      <td>1.452307</td>\n",
       "      <td>-0.343536</td>\n",
       "      <td>1.043552</td>\n",
       "      <td>0.860496</td>\n",
       "      <td>-0.402545</td>\n",
       "      <td>-0.609323</td>\n",
       "      <td>2.134135</td>\n",
       "      <td>-0.076748</td>\n",
       "      <td>0.011209</td>\n",
       "      <td>-0.313841</td>\n",
       "      <td>-0.144765</td>\n",
       "      <td>-1.338341</td>\n",
       "      <td>0.226272</td>\n",
       "      <td>0.002279</td>\n",
       "    </tr>\n",
       "    <tr>\n",
       "      <th>3</th>\n",
       "      <td>72</td>\n",
       "      <td>-0.973142</td>\n",
       "      <td>-0.893565</td>\n",
       "      <td>-0.672374</td>\n",
       "      <td>-0.346680</td>\n",
       "      <td>-0.728908</td>\n",
       "      <td>-0.755915</td>\n",
       "      <td>1.271247</td>\n",
       "      <td>-1.276567</td>\n",
       "      <td>-2.828086</td>\n",
       "      <td>0.156371</td>\n",
       "      <td>0.029400</td>\n",
       "      <td>-1.855634</td>\n",
       "      <td>-0.028845</td>\n",
       "      <td>-0.245840</td>\n",
       "      <td>-1.409963</td>\n",
       "      <td>0.464266</td>\n",
       "      <td>1.346968</td>\n",
       "      <td>-0.472321</td>\n",
       "      <td>-0.120914</td>\n",
       "    </tr>\n",
       "    <tr>\n",
       "      <th>4</th>\n",
       "      <td>305</td>\n",
       "      <td>0.444882</td>\n",
       "      <td>-0.061075</td>\n",
       "      <td>0.211822</td>\n",
       "      <td>-0.088711</td>\n",
       "      <td>-0.318956</td>\n",
       "      <td>1.977440</td>\n",
       "      <td>0.290332</td>\n",
       "      <td>-1.247601</td>\n",
       "      <td>-0.172028</td>\n",
       "      <td>-0.234272</td>\n",
       "      <td>-0.045844</td>\n",
       "      <td>-0.032272</td>\n",
       "      <td>0.486909</td>\n",
       "      <td>-0.074694</td>\n",
       "      <td>2.067899</td>\n",
       "      <td>-1.047033</td>\n",
       "      <td>-1.610586</td>\n",
       "      <td>0.272845</td>\n",
       "      <td>-0.009006</td>\n",
       "    </tr>\n",
       "  </tbody>\n",
       "</table>\n",
       "</div>"
      ],
      "text/plain": [
       "   Unnamed: 0  Wages CPI_SS    WTI_SS  Heating Oil_SS  Copper_SS  Sugar_SS  \\\n",
       "0          79      0.155334 -0.394343       -0.050438  -0.073618 -0.719903   \n",
       "1         147      1.806193  1.153919        1.281250  -1.009767  0.519004   \n",
       "2         143      0.839935  1.325041        1.617048   1.473924  0.386982   \n",
       "3          72     -0.973142 -0.893565       -0.672374  -0.346680 -0.728908   \n",
       "4         305      0.444882 -0.061075        0.211822  -0.088711 -0.318956   \n",
       "\n",
       "   Natural Gas_SS  Cattle_SS  Lean Hogs_SS  Soybeans_SS  Lumber_SS  \\\n",
       "0        1.188751   0.975637     -0.227010    -0.047364   0.180722   \n",
       "1        0.795288  -0.229392     -1.092126     2.638157  -0.672091   \n",
       "2        1.452307  -0.343536      1.043552     0.860496  -0.402545   \n",
       "3       -0.755915   1.271247     -1.276567    -2.828086   0.156371   \n",
       "4        1.977440   0.290332     -1.247601    -0.172028  -0.234272   \n",
       "\n",
       "   Capacity Utilization_SS   Corn_SS  M2 Velocity_SS    GDP_SS  Wheat_SS  \\\n",
       "0                 0.182841 -0.428209       -0.474105 -0.710077 -0.991708   \n",
       "1                 0.285280  2.017779       -0.752247 -0.968334  0.824884   \n",
       "2                -0.609323  2.134135       -0.076748  0.011209 -0.313841   \n",
       "3                 0.029400 -1.855634       -0.028845 -0.245840 -1.409963   \n",
       "4                -0.045844 -0.032272        0.486909 -0.074694  2.067899   \n",
       "\n",
       "     PMI_SS  USD Index_SS  Unemployment Rate_SS  Initial Jobless Claims_SS  \n",
       "0 -0.877857     -0.042584             -0.658613                  -0.074521  \n",
       "1 -0.392888     -1.198573              0.272845                   0.005413  \n",
       "2 -0.144765     -1.338341              0.226272                   0.002279  \n",
       "3  0.464266      1.346968             -0.472321                  -0.120914  \n",
       "4 -1.047033     -1.610586              0.272845                  -0.009006  "
      ]
     },
     "execution_count": 5,
     "metadata": {},
     "output_type": "execute_result"
    }
   ],
   "source": [
    "X_train_SS.head()"
   ]
  },
  {
   "cell_type": "code",
   "execution_count": 6,
   "metadata": {},
   "outputs": [],
   "source": [
    "X_train_SS = X_train_SS.drop(['Unnamed: 0'], axis=1)"
   ]
  },
  {
   "cell_type": "code",
   "execution_count": 7,
   "metadata": {},
   "outputs": [
    {
     "data": {
      "text/html": [
       "<div>\n",
       "<style scoped>\n",
       "    .dataframe tbody tr th:only-of-type {\n",
       "        vertical-align: middle;\n",
       "    }\n",
       "\n",
       "    .dataframe tbody tr th {\n",
       "        vertical-align: top;\n",
       "    }\n",
       "\n",
       "    .dataframe thead th {\n",
       "        text-align: right;\n",
       "    }\n",
       "</style>\n",
       "<table border=\"1\" class=\"dataframe\">\n",
       "  <thead>\n",
       "    <tr style=\"text-align: right;\">\n",
       "      <th></th>\n",
       "      <th>Unnamed: 0</th>\n",
       "      <th>Inflation_SS</th>\n",
       "    </tr>\n",
       "  </thead>\n",
       "  <tbody>\n",
       "    <tr>\n",
       "      <th>count</th>\n",
       "      <td>219.000000</td>\n",
       "      <td>2.190000e+02</td>\n",
       "    </tr>\n",
       "    <tr>\n",
       "      <th>mean</th>\n",
       "      <td>156.726027</td>\n",
       "      <td>-4.258390e-17</td>\n",
       "    </tr>\n",
       "    <tr>\n",
       "      <th>std</th>\n",
       "      <td>89.981485</td>\n",
       "      <td>1.002291e+00</td>\n",
       "    </tr>\n",
       "    <tr>\n",
       "      <th>min</th>\n",
       "      <td>0.000000</td>\n",
       "      <td>-5.602840e+00</td>\n",
       "    </tr>\n",
       "    <tr>\n",
       "      <th>25%</th>\n",
       "      <td>80.500000</td>\n",
       "      <td>-4.524383e-01</td>\n",
       "    </tr>\n",
       "    <tr>\n",
       "      <th>50%</th>\n",
       "      <td>156.000000</td>\n",
       "      <td>2.396356e-02</td>\n",
       "    </tr>\n",
       "    <tr>\n",
       "      <th>75%</th>\n",
       "      <td>234.500000</td>\n",
       "      <td>4.389885e-01</td>\n",
       "    </tr>\n",
       "    <tr>\n",
       "      <th>max</th>\n",
       "      <td>312.000000</td>\n",
       "      <td>4.747064e+00</td>\n",
       "    </tr>\n",
       "  </tbody>\n",
       "</table>\n",
       "</div>"
      ],
      "text/plain": [
       "       Unnamed: 0  Inflation_SS\n",
       "count  219.000000  2.190000e+02\n",
       "mean   156.726027 -4.258390e-17\n",
       "std     89.981485  1.002291e+00\n",
       "min      0.000000 -5.602840e+00\n",
       "25%     80.500000 -4.524383e-01\n",
       "50%    156.000000  2.396356e-02\n",
       "75%    234.500000  4.389885e-01\n",
       "max    312.000000  4.747064e+00"
      ]
     },
     "execution_count": 7,
     "metadata": {},
     "output_type": "execute_result"
    }
   ],
   "source": [
    "y_train_SS.describe()"
   ]
  },
  {
   "cell_type": "code",
   "execution_count": 8,
   "metadata": {},
   "outputs": [],
   "source": [
    "y_train_SS = y_train_SS.drop(['Unnamed: 0'], axis=1)"
   ]
  },
  {
   "cell_type": "code",
   "execution_count": 9,
   "metadata": {},
   "outputs": [
    {
     "data": {
      "text/html": [
       "<div>\n",
       "<style scoped>\n",
       "    .dataframe tbody tr th:only-of-type {\n",
       "        vertical-align: middle;\n",
       "    }\n",
       "\n",
       "    .dataframe tbody tr th {\n",
       "        vertical-align: top;\n",
       "    }\n",
       "\n",
       "    .dataframe thead th {\n",
       "        text-align: right;\n",
       "    }\n",
       "</style>\n",
       "<table border=\"1\" class=\"dataframe\">\n",
       "  <thead>\n",
       "    <tr style=\"text-align: right;\">\n",
       "      <th></th>\n",
       "      <th>Unnamed: 0</th>\n",
       "      <th>Wages CPI_SS</th>\n",
       "      <th>WTI_SS</th>\n",
       "      <th>Heating Oil_SS</th>\n",
       "      <th>Copper_SS</th>\n",
       "      <th>Sugar_SS</th>\n",
       "      <th>Natural Gas_SS</th>\n",
       "      <th>Cattle_SS</th>\n",
       "      <th>Lean Hogs_SS</th>\n",
       "      <th>Soybeans_SS</th>\n",
       "      <th>Lumber_SS</th>\n",
       "      <th>Capacity Utilization_SS</th>\n",
       "      <th>Corn_SS</th>\n",
       "      <th>M2 Velocity_SS</th>\n",
       "      <th>GDP_SS</th>\n",
       "      <th>Wheat_SS</th>\n",
       "      <th>PMI_SS</th>\n",
       "      <th>USD Index_SS</th>\n",
       "      <th>Unemployment Rate_SS</th>\n",
       "      <th>Initial Jobless Claims_SS</th>\n",
       "    </tr>\n",
       "  </thead>\n",
       "  <tbody>\n",
       "    <tr>\n",
       "      <th>count</th>\n",
       "      <td>94.000000</td>\n",
       "      <td>94.000000</td>\n",
       "      <td>94.000000</td>\n",
       "      <td>94.000000</td>\n",
       "      <td>94.000000</td>\n",
       "      <td>94.000000</td>\n",
       "      <td>94.000000</td>\n",
       "      <td>94.000000</td>\n",
       "      <td>94.000000</td>\n",
       "      <td>94.000000</td>\n",
       "      <td>94.000000</td>\n",
       "      <td>94.000000</td>\n",
       "      <td>94.000000</td>\n",
       "      <td>94.000000</td>\n",
       "      <td>94.000000</td>\n",
       "      <td>94.000000</td>\n",
       "      <td>94.000000</td>\n",
       "      <td>94.000000</td>\n",
       "      <td>94.000000</td>\n",
       "      <td>94.000000</td>\n",
       "    </tr>\n",
       "    <tr>\n",
       "      <th>mean</th>\n",
       "      <td>154.308511</td>\n",
       "      <td>-0.039725</td>\n",
       "      <td>0.007935</td>\n",
       "      <td>-0.029998</td>\n",
       "      <td>-0.162066</td>\n",
       "      <td>0.105502</td>\n",
       "      <td>-0.059875</td>\n",
       "      <td>-0.039083</td>\n",
       "      <td>0.041086</td>\n",
       "      <td>0.005910</td>\n",
       "      <td>0.175033</td>\n",
       "      <td>0.125599</td>\n",
       "      <td>-0.002570</td>\n",
       "      <td>0.018809</td>\n",
       "      <td>0.098847</td>\n",
       "      <td>-0.019342</td>\n",
       "      <td>-0.030541</td>\n",
       "      <td>0.078927</td>\n",
       "      <td>-0.153743</td>\n",
       "      <td>-0.203085</td>\n",
       "    </tr>\n",
       "    <tr>\n",
       "      <th>std</th>\n",
       "      <td>92.158935</td>\n",
       "      <td>1.033855</td>\n",
       "      <td>0.965297</td>\n",
       "      <td>0.857436</td>\n",
       "      <td>0.959798</td>\n",
       "      <td>0.955151</td>\n",
       "      <td>0.961777</td>\n",
       "      <td>0.986806</td>\n",
       "      <td>1.006278</td>\n",
       "      <td>1.093236</td>\n",
       "      <td>1.441363</td>\n",
       "      <td>1.414106</td>\n",
       "      <td>1.234954</td>\n",
       "      <td>1.128372</td>\n",
       "      <td>1.285664</td>\n",
       "      <td>1.025338</td>\n",
       "      <td>0.992570</td>\n",
       "      <td>0.969684</td>\n",
       "      <td>1.642094</td>\n",
       "      <td>1.035767</td>\n",
       "    </tr>\n",
       "    <tr>\n",
       "      <th>min</th>\n",
       "      <td>3.000000</td>\n",
       "      <td>-7.038150</td>\n",
       "      <td>-3.580742</td>\n",
       "      <td>-3.212043</td>\n",
       "      <td>-4.187623</td>\n",
       "      <td>-1.418830</td>\n",
       "      <td>-2.025262</td>\n",
       "      <td>-2.905044</td>\n",
       "      <td>-1.651817</td>\n",
       "      <td>-2.783626</td>\n",
       "      <td>-2.289388</td>\n",
       "      <td>-8.154967</td>\n",
       "      <td>-2.789248</td>\n",
       "      <td>-9.068365</td>\n",
       "      <td>-8.151908</td>\n",
       "      <td>-2.047304</td>\n",
       "      <td>-3.235033</td>\n",
       "      <td>-2.042697</td>\n",
       "      <td>-6.014495</td>\n",
       "      <td>-8.023722</td>\n",
       "    </tr>\n",
       "    <tr>\n",
       "      <th>25%</th>\n",
       "      <td>76.250000</td>\n",
       "      <td>-0.406660</td>\n",
       "      <td>-0.464830</td>\n",
       "      <td>-0.488930</td>\n",
       "      <td>-0.739344</td>\n",
       "      <td>-0.521482</td>\n",
       "      <td>-0.755813</td>\n",
       "      <td>-0.743428</td>\n",
       "      <td>-0.705898</td>\n",
       "      <td>-0.659477</td>\n",
       "      <td>-0.777960</td>\n",
       "      <td>-0.174471</td>\n",
       "      <td>-0.705320</td>\n",
       "      <td>-0.134090</td>\n",
       "      <td>-0.082749</td>\n",
       "      <td>-0.753886</td>\n",
       "      <td>-0.663569</td>\n",
       "      <td>-0.584194</td>\n",
       "      <td>-0.332603</td>\n",
       "      <td>-0.111902</td>\n",
       "    </tr>\n",
       "    <tr>\n",
       "      <th>50%</th>\n",
       "      <td>152.500000</td>\n",
       "      <td>0.156537</td>\n",
       "      <td>0.020075</td>\n",
       "      <td>-0.062487</td>\n",
       "      <td>-0.157241</td>\n",
       "      <td>-0.085375</td>\n",
       "      <td>-0.154073</td>\n",
       "      <td>0.058996</td>\n",
       "      <td>-0.098348</td>\n",
       "      <td>-0.147656</td>\n",
       "      <td>-0.057829</td>\n",
       "      <td>0.203446</td>\n",
       "      <td>-0.057043</td>\n",
       "      <td>0.118361</td>\n",
       "      <td>0.112455</td>\n",
       "      <td>-0.114992</td>\n",
       "      <td>-0.043259</td>\n",
       "      <td>-0.001132</td>\n",
       "      <td>-0.192884</td>\n",
       "      <td>-0.088470</td>\n",
       "    </tr>\n",
       "    <tr>\n",
       "      <th>75%</th>\n",
       "      <td>228.750000</td>\n",
       "      <td>0.430470</td>\n",
       "      <td>0.561096</td>\n",
       "      <td>0.439143</td>\n",
       "      <td>0.322455</td>\n",
       "      <td>0.591862</td>\n",
       "      <td>0.618387</td>\n",
       "      <td>0.702137</td>\n",
       "      <td>0.682856</td>\n",
       "      <td>0.767235</td>\n",
       "      <td>0.829421</td>\n",
       "      <td>0.458757</td>\n",
       "      <td>0.457160</td>\n",
       "      <td>0.421551</td>\n",
       "      <td>0.420592</td>\n",
       "      <td>0.517627</td>\n",
       "      <td>0.419153</td>\n",
       "      <td>0.727001</td>\n",
       "      <td>-0.006593</td>\n",
       "      <td>-0.064255</td>\n",
       "    </tr>\n",
       "    <tr>\n",
       "      <th>max</th>\n",
       "      <td>310.000000</td>\n",
       "      <td>2.087383</td>\n",
       "      <td>3.682805</td>\n",
       "      <td>1.854950</td>\n",
       "      <td>2.749010</td>\n",
       "      <td>3.226772</td>\n",
       "      <td>1.918428</td>\n",
       "      <td>2.596760</td>\n",
       "      <td>2.540483</td>\n",
       "      <td>2.894730</td>\n",
       "      <td>6.535160</td>\n",
       "      <td>6.202835</td>\n",
       "      <td>4.012835</td>\n",
       "      <td>2.102794</td>\n",
       "      <td>5.751485</td>\n",
       "      <td>3.911693</td>\n",
       "      <td>3.125957</td>\n",
       "      <td>2.542070</td>\n",
       "      <td>12.894097</td>\n",
       "      <td>3.734413</td>\n",
       "    </tr>\n",
       "  </tbody>\n",
       "</table>\n",
       "</div>"
      ],
      "text/plain": [
       "       Unnamed: 0  Wages CPI_SS     WTI_SS  Heating Oil_SS  Copper_SS  \\\n",
       "count   94.000000     94.000000  94.000000       94.000000  94.000000   \n",
       "mean   154.308511     -0.039725   0.007935       -0.029998  -0.162066   \n",
       "std     92.158935      1.033855   0.965297        0.857436   0.959798   \n",
       "min      3.000000     -7.038150  -3.580742       -3.212043  -4.187623   \n",
       "25%     76.250000     -0.406660  -0.464830       -0.488930  -0.739344   \n",
       "50%    152.500000      0.156537   0.020075       -0.062487  -0.157241   \n",
       "75%    228.750000      0.430470   0.561096        0.439143   0.322455   \n",
       "max    310.000000      2.087383   3.682805        1.854950   2.749010   \n",
       "\n",
       "        Sugar_SS  Natural Gas_SS  Cattle_SS  Lean Hogs_SS  Soybeans_SS  \\\n",
       "count  94.000000       94.000000  94.000000     94.000000    94.000000   \n",
       "mean    0.105502       -0.059875  -0.039083      0.041086     0.005910   \n",
       "std     0.955151        0.961777   0.986806      1.006278     1.093236   \n",
       "min    -1.418830       -2.025262  -2.905044     -1.651817    -2.783626   \n",
       "25%    -0.521482       -0.755813  -0.743428     -0.705898    -0.659477   \n",
       "50%    -0.085375       -0.154073   0.058996     -0.098348    -0.147656   \n",
       "75%     0.591862        0.618387   0.702137      0.682856     0.767235   \n",
       "max     3.226772        1.918428   2.596760      2.540483     2.894730   \n",
       "\n",
       "       Lumber_SS  Capacity Utilization_SS    Corn_SS  M2 Velocity_SS  \\\n",
       "count  94.000000                94.000000  94.000000       94.000000   \n",
       "mean    0.175033                 0.125599  -0.002570        0.018809   \n",
       "std     1.441363                 1.414106   1.234954        1.128372   \n",
       "min    -2.289388                -8.154967  -2.789248       -9.068365   \n",
       "25%    -0.777960                -0.174471  -0.705320       -0.134090   \n",
       "50%    -0.057829                 0.203446  -0.057043        0.118361   \n",
       "75%     0.829421                 0.458757   0.457160        0.421551   \n",
       "max     6.535160                 6.202835   4.012835        2.102794   \n",
       "\n",
       "          GDP_SS   Wheat_SS     PMI_SS  USD Index_SS  Unemployment Rate_SS  \\\n",
       "count  94.000000  94.000000  94.000000     94.000000             94.000000   \n",
       "mean    0.098847  -0.019342  -0.030541      0.078927             -0.153743   \n",
       "std     1.285664   1.025338   0.992570      0.969684              1.642094   \n",
       "min    -8.151908  -2.047304  -3.235033     -2.042697             -6.014495   \n",
       "25%    -0.082749  -0.753886  -0.663569     -0.584194             -0.332603   \n",
       "50%     0.112455  -0.114992  -0.043259     -0.001132             -0.192884   \n",
       "75%     0.420592   0.517627   0.419153      0.727001             -0.006593   \n",
       "max     5.751485   3.911693   3.125957      2.542070             12.894097   \n",
       "\n",
       "       Initial Jobless Claims_SS  \n",
       "count                  94.000000  \n",
       "mean                   -0.203085  \n",
       "std                     1.035767  \n",
       "min                    -8.023722  \n",
       "25%                    -0.111902  \n",
       "50%                    -0.088470  \n",
       "75%                    -0.064255  \n",
       "max                     3.734413  "
      ]
     },
     "execution_count": 9,
     "metadata": {},
     "output_type": "execute_result"
    }
   ],
   "source": [
    "X_test_SS.describe()"
   ]
  },
  {
   "cell_type": "code",
   "execution_count": 10,
   "metadata": {},
   "outputs": [],
   "source": [
    "X_test_SS = X_test_SS.drop(['Unnamed: 0'], axis=1)"
   ]
  },
  {
   "cell_type": "code",
   "execution_count": 11,
   "metadata": {},
   "outputs": [
    {
     "data": {
      "text/html": [
       "<div>\n",
       "<style scoped>\n",
       "    .dataframe tbody tr th:only-of-type {\n",
       "        vertical-align: middle;\n",
       "    }\n",
       "\n",
       "    .dataframe tbody tr th {\n",
       "        vertical-align: top;\n",
       "    }\n",
       "\n",
       "    .dataframe thead th {\n",
       "        text-align: right;\n",
       "    }\n",
       "</style>\n",
       "<table border=\"1\" class=\"dataframe\">\n",
       "  <thead>\n",
       "    <tr style=\"text-align: right;\">\n",
       "      <th></th>\n",
       "      <th>Unnamed: 0</th>\n",
       "      <th>Inflation_SS</th>\n",
       "    </tr>\n",
       "  </thead>\n",
       "  <tbody>\n",
       "    <tr>\n",
       "      <th>count</th>\n",
       "      <td>94.000000</td>\n",
       "      <td>94.000000</td>\n",
       "    </tr>\n",
       "    <tr>\n",
       "      <th>mean</th>\n",
       "      <td>154.308511</td>\n",
       "      <td>0.120276</td>\n",
       "    </tr>\n",
       "    <tr>\n",
       "      <th>std</th>\n",
       "      <td>92.158935</td>\n",
       "      <td>0.890655</td>\n",
       "    </tr>\n",
       "    <tr>\n",
       "      <th>min</th>\n",
       "      <td>3.000000</td>\n",
       "      <td>-4.175388</td>\n",
       "    </tr>\n",
       "    <tr>\n",
       "      <th>25%</th>\n",
       "      <td>76.250000</td>\n",
       "      <td>-0.288767</td>\n",
       "    </tr>\n",
       "    <tr>\n",
       "      <th>50%</th>\n",
       "      <td>152.500000</td>\n",
       "      <td>0.063128</td>\n",
       "    </tr>\n",
       "    <tr>\n",
       "      <th>75%</th>\n",
       "      <td>228.750000</td>\n",
       "      <td>0.502411</td>\n",
       "    </tr>\n",
       "    <tr>\n",
       "      <th>max</th>\n",
       "      <td>310.000000</td>\n",
       "      <td>3.346501</td>\n",
       "    </tr>\n",
       "  </tbody>\n",
       "</table>\n",
       "</div>"
      ],
      "text/plain": [
       "       Unnamed: 0  Inflation_SS\n",
       "count   94.000000     94.000000\n",
       "mean   154.308511      0.120276\n",
       "std     92.158935      0.890655\n",
       "min      3.000000     -4.175388\n",
       "25%     76.250000     -0.288767\n",
       "50%    152.500000      0.063128\n",
       "75%    228.750000      0.502411\n",
       "max    310.000000      3.346501"
      ]
     },
     "execution_count": 11,
     "metadata": {},
     "output_type": "execute_result"
    }
   ],
   "source": [
    "y_test_SS.describe()"
   ]
  },
  {
   "cell_type": "code",
   "execution_count": 12,
   "metadata": {},
   "outputs": [],
   "source": [
    "y_test_SS = y_test_SS.drop(['Unnamed: 0'], axis=1)"
   ]
  },
  {
   "cell_type": "markdown",
   "metadata": {},
   "source": [
    "`Mean` should be 0 `Std` should be 1 for `X` but not `y`"
   ]
  },
  {
   "cell_type": "code",
   "execution_count": 13,
   "metadata": {},
   "outputs": [
    {
     "data": {
      "text/html": [
       "<div>\n",
       "<style scoped>\n",
       "    .dataframe tbody tr th:only-of-type {\n",
       "        vertical-align: middle;\n",
       "    }\n",
       "\n",
       "    .dataframe tbody tr th {\n",
       "        vertical-align: top;\n",
       "    }\n",
       "\n",
       "    .dataframe thead th {\n",
       "        text-align: right;\n",
       "    }\n",
       "</style>\n",
       "<table border=\"1\" class=\"dataframe\">\n",
       "  <thead>\n",
       "    <tr style=\"text-align: right;\">\n",
       "      <th></th>\n",
       "      <th>Unnamed: 0</th>\n",
       "      <th>Wage CPI_SS_yun</th>\n",
       "      <th>WTI_SS_yun</th>\n",
       "      <th>Heating Oil_SS_yun</th>\n",
       "      <th>Copper_SS_yun</th>\n",
       "      <th>Sugar_SS_yun</th>\n",
       "      <th>Natural Gas_SS_yun</th>\n",
       "      <th>Cattle_SS_yun</th>\n",
       "      <th>Lean Hogs_SS_yun</th>\n",
       "      <th>Soybeans_SS_yun</th>\n",
       "      <th>Lumber_SS_yun</th>\n",
       "      <th>Capacity Utilization_SS_yun</th>\n",
       "      <th>Corn_SS_yun</th>\n",
       "      <th>M2 Velocity_SS_yun</th>\n",
       "      <th>GDP_SS_yun</th>\n",
       "      <th>Wheat_SS_yun</th>\n",
       "      <th>PMI_SS_yun</th>\n",
       "      <th>USD Index_SS_yun</th>\n",
       "      <th>Unemployment Rate_SS_yun</th>\n",
       "      <th>Initial Jobless Claims_SS_yun</th>\n",
       "    </tr>\n",
       "  </thead>\n",
       "  <tbody>\n",
       "    <tr>\n",
       "      <th>count</th>\n",
       "      <td>219.000000</td>\n",
       "      <td>2.190000e+02</td>\n",
       "      <td>2.190000e+02</td>\n",
       "      <td>2.190000e+02</td>\n",
       "      <td>2.190000e+02</td>\n",
       "      <td>2.190000e+02</td>\n",
       "      <td>2.190000e+02</td>\n",
       "      <td>2.190000e+02</td>\n",
       "      <td>2.190000e+02</td>\n",
       "      <td>2.190000e+02</td>\n",
       "      <td>2.190000e+02</td>\n",
       "      <td>2.190000e+02</td>\n",
       "      <td>2.190000e+02</td>\n",
       "      <td>2.190000e+02</td>\n",
       "      <td>2.190000e+02</td>\n",
       "      <td>2.190000e+02</td>\n",
       "      <td>2.190000e+02</td>\n",
       "      <td>2.190000e+02</td>\n",
       "      <td>2.190000e+02</td>\n",
       "      <td>2.190000e+02</td>\n",
       "    </tr>\n",
       "    <tr>\n",
       "      <th>mean</th>\n",
       "      <td>156.726027</td>\n",
       "      <td>5.931328e-17</td>\n",
       "      <td>3.700743e-17</td>\n",
       "      <td>-5.132088e-17</td>\n",
       "      <td>6.666408e-17</td>\n",
       "      <td>-4.816036e-17</td>\n",
       "      <td>-5.272292e-17</td>\n",
       "      <td>-2.712189e-17</td>\n",
       "      <td>-1.419463e-17</td>\n",
       "      <td>8.618170e-18</td>\n",
       "      <td>-7.097316e-18</td>\n",
       "      <td>5.829938e-18</td>\n",
       "      <td>4.511865e-17</td>\n",
       "      <td>-3.097155e-18</td>\n",
       "      <td>-8.998383e-17</td>\n",
       "      <td>-2.382670e-17</td>\n",
       "      <td>2.192564e-17</td>\n",
       "      <td>2.838926e-17</td>\n",
       "      <td>-1.013902e-18</td>\n",
       "      <td>2.585451e-17</td>\n",
       "    </tr>\n",
       "    <tr>\n",
       "      <th>std</th>\n",
       "      <td>89.981485</td>\n",
       "      <td>1.002291e+00</td>\n",
       "      <td>1.002291e+00</td>\n",
       "      <td>1.002291e+00</td>\n",
       "      <td>1.002291e+00</td>\n",
       "      <td>1.002291e+00</td>\n",
       "      <td>1.002291e+00</td>\n",
       "      <td>1.002291e+00</td>\n",
       "      <td>1.002291e+00</td>\n",
       "      <td>1.002291e+00</td>\n",
       "      <td>1.002291e+00</td>\n",
       "      <td>1.002291e+00</td>\n",
       "      <td>1.002291e+00</td>\n",
       "      <td>1.002291e+00</td>\n",
       "      <td>1.002291e+00</td>\n",
       "      <td>1.002291e+00</td>\n",
       "      <td>1.002291e+00</td>\n",
       "      <td>1.002291e+00</td>\n",
       "      <td>1.002291e+00</td>\n",
       "      <td>1.002291e+00</td>\n",
       "    </tr>\n",
       "    <tr>\n",
       "      <th>min</th>\n",
       "      <td>0.000000</td>\n",
       "      <td>-6.062318e+00</td>\n",
       "      <td>-3.554258e+00</td>\n",
       "      <td>-3.307158e+00</td>\n",
       "      <td>-4.275317e+00</td>\n",
       "      <td>-2.534857e+00</td>\n",
       "      <td>-2.092879e+00</td>\n",
       "      <td>-3.251186e+00</td>\n",
       "      <td>-2.412667e+00</td>\n",
       "      <td>-3.552930e+00</td>\n",
       "      <td>-2.447766e+00</td>\n",
       "      <td>-7.795038e+00</td>\n",
       "      <td>-3.095494e+00</td>\n",
       "      <td>-9.068365e+00</td>\n",
       "      <td>-8.151908e+00</td>\n",
       "      <td>-2.909327e+00</td>\n",
       "      <td>-4.035795e+00</td>\n",
       "      <td>-2.092087e+00</td>\n",
       "      <td>-3.918715e+00</td>\n",
       "      <td>-3.862139e+00</td>\n",
       "    </tr>\n",
       "    <tr>\n",
       "      <th>25%</th>\n",
       "      <td>80.500000</td>\n",
       "      <td>-2.622508e-01</td>\n",
       "      <td>-5.738987e-01</td>\n",
       "      <td>-5.106932e-01</td>\n",
       "      <td>-5.903736e-01</td>\n",
       "      <td>-6.694239e-01</td>\n",
       "      <td>-6.272489e-01</td>\n",
       "      <td>-6.393442e-01</td>\n",
       "      <td>-5.898264e-01</td>\n",
       "      <td>-5.147225e-01</td>\n",
       "      <td>-6.792113e-01</td>\n",
       "      <td>-2.299928e-01</td>\n",
       "      <td>-5.887966e-01</td>\n",
       "      <td>-1.372215e-01</td>\n",
       "      <td>-1.434068e-01</td>\n",
       "      <td>-6.295338e-01</td>\n",
       "      <td>-5.733419e-01</td>\n",
       "      <td>-7.686037e-01</td>\n",
       "      <td>-2.860298e-01</td>\n",
       "      <td>-1.127636e-01</td>\n",
       "    </tr>\n",
       "    <tr>\n",
       "      <th>50%</th>\n",
       "      <td>156.000000</td>\n",
       "      <td>1.137130e-01</td>\n",
       "      <td>3.652246e-02</td>\n",
       "      <td>-3.546556e-03</td>\n",
       "      <td>-1.277241e-01</td>\n",
       "      <td>-1.992945e-01</td>\n",
       "      <td>-1.776078e-01</td>\n",
       "      <td>6.243175e-02</td>\n",
       "      <td>-5.066135e-02</td>\n",
       "      <td>-3.896558e-02</td>\n",
       "      <td>-2.097464e-02</td>\n",
       "      <td>1.645101e-01</td>\n",
       "      <td>-1.044398e-01</td>\n",
       "      <td>4.201600e-02</td>\n",
       "      <td>8.882293e-02</td>\n",
       "      <td>-7.649249e-02</td>\n",
       "      <td>-6.581613e-02</td>\n",
       "      <td>5.368868e-02</td>\n",
       "      <td>-1.463112e-01</td>\n",
       "      <td>-8.392462e-02</td>\n",
       "    </tr>\n",
       "    <tr>\n",
       "      <th>75%</th>\n",
       "      <td>234.500000</td>\n",
       "      <td>4.862085e-01</td>\n",
       "      <td>6.407473e-01</td>\n",
       "      <td>6.302291e-01</td>\n",
       "      <td>5.419286e-01</td>\n",
       "      <td>5.710310e-01</td>\n",
       "      <td>5.252051e-01</td>\n",
       "      <td>7.571885e-01</td>\n",
       "      <td>7.410920e-01</td>\n",
       "      <td>4.885812e-01</td>\n",
       "      <td>5.957653e-01</td>\n",
       "      <td>4.722769e-01</td>\n",
       "      <td>5.366638e-01</td>\n",
       "      <td>3.889674e-01</td>\n",
       "      <td>3.109964e-01</td>\n",
       "      <td>5.600397e-01</td>\n",
       "      <td>5.883282e-01</td>\n",
       "      <td>5.819297e-01</td>\n",
       "      <td>8.655327e-02</td>\n",
       "      <td>-4.724902e-02</td>\n",
       "    </tr>\n",
       "    <tr>\n",
       "      <th>max</th>\n",
       "      <td>312.000000</td>\n",
       "      <td>3.088234e+00</td>\n",
       "      <td>2.605196e+00</td>\n",
       "      <td>2.396819e+00</td>\n",
       "      <td>3.899899e+00</td>\n",
       "      <td>3.949918e+00</td>\n",
       "      <td>2.963685e+00</td>\n",
       "      <td>2.354074e+00</td>\n",
       "      <td>2.559684e+00</td>\n",
       "      <td>2.721410e+00</td>\n",
       "      <td>4.104874e+00</td>\n",
       "      <td>2.018575e+00</td>\n",
       "      <td>2.995122e+00</td>\n",
       "      <td>2.102794e+00</td>\n",
       "      <td>5.751485e+00</td>\n",
       "      <td>3.904325e+00</td>\n",
       "      <td>3.577091e+00</td>\n",
       "      <td>3.428937e+00</td>\n",
       "      <td>1.014630e+01</td>\n",
       "      <td>1.121655e+01</td>\n",
       "    </tr>\n",
       "  </tbody>\n",
       "</table>\n",
       "</div>"
      ],
      "text/plain": [
       "       Unnamed: 0  Wage CPI_SS_yun    WTI_SS_yun  Heating Oil_SS_yun  \\\n",
       "count  219.000000     2.190000e+02  2.190000e+02        2.190000e+02   \n",
       "mean   156.726027     5.931328e-17  3.700743e-17       -5.132088e-17   \n",
       "std     89.981485     1.002291e+00  1.002291e+00        1.002291e+00   \n",
       "min      0.000000    -6.062318e+00 -3.554258e+00       -3.307158e+00   \n",
       "25%     80.500000    -2.622508e-01 -5.738987e-01       -5.106932e-01   \n",
       "50%    156.000000     1.137130e-01  3.652246e-02       -3.546556e-03   \n",
       "75%    234.500000     4.862085e-01  6.407473e-01        6.302291e-01   \n",
       "max    312.000000     3.088234e+00  2.605196e+00        2.396819e+00   \n",
       "\n",
       "       Copper_SS_yun  Sugar_SS_yun  Natural Gas_SS_yun  Cattle_SS_yun  \\\n",
       "count   2.190000e+02  2.190000e+02        2.190000e+02   2.190000e+02   \n",
       "mean    6.666408e-17 -4.816036e-17       -5.272292e-17  -2.712189e-17   \n",
       "std     1.002291e+00  1.002291e+00        1.002291e+00   1.002291e+00   \n",
       "min    -4.275317e+00 -2.534857e+00       -2.092879e+00  -3.251186e+00   \n",
       "25%    -5.903736e-01 -6.694239e-01       -6.272489e-01  -6.393442e-01   \n",
       "50%    -1.277241e-01 -1.992945e-01       -1.776078e-01   6.243175e-02   \n",
       "75%     5.419286e-01  5.710310e-01        5.252051e-01   7.571885e-01   \n",
       "max     3.899899e+00  3.949918e+00        2.963685e+00   2.354074e+00   \n",
       "\n",
       "       Lean Hogs_SS_yun  Soybeans_SS_yun  Lumber_SS_yun  \\\n",
       "count      2.190000e+02     2.190000e+02   2.190000e+02   \n",
       "mean      -1.419463e-17     8.618170e-18  -7.097316e-18   \n",
       "std        1.002291e+00     1.002291e+00   1.002291e+00   \n",
       "min       -2.412667e+00    -3.552930e+00  -2.447766e+00   \n",
       "25%       -5.898264e-01    -5.147225e-01  -6.792113e-01   \n",
       "50%       -5.066135e-02    -3.896558e-02  -2.097464e-02   \n",
       "75%        7.410920e-01     4.885812e-01   5.957653e-01   \n",
       "max        2.559684e+00     2.721410e+00   4.104874e+00   \n",
       "\n",
       "       Capacity Utilization_SS_yun   Corn_SS_yun  M2 Velocity_SS_yun  \\\n",
       "count                 2.190000e+02  2.190000e+02        2.190000e+02   \n",
       "mean                  5.829938e-18  4.511865e-17       -3.097155e-18   \n",
       "std                   1.002291e+00  1.002291e+00        1.002291e+00   \n",
       "min                  -7.795038e+00 -3.095494e+00       -9.068365e+00   \n",
       "25%                  -2.299928e-01 -5.887966e-01       -1.372215e-01   \n",
       "50%                   1.645101e-01 -1.044398e-01        4.201600e-02   \n",
       "75%                   4.722769e-01  5.366638e-01        3.889674e-01   \n",
       "max                   2.018575e+00  2.995122e+00        2.102794e+00   \n",
       "\n",
       "         GDP_SS_yun  Wheat_SS_yun    PMI_SS_yun  USD Index_SS_yun  \\\n",
       "count  2.190000e+02  2.190000e+02  2.190000e+02      2.190000e+02   \n",
       "mean  -8.998383e-17 -2.382670e-17  2.192564e-17      2.838926e-17   \n",
       "std    1.002291e+00  1.002291e+00  1.002291e+00      1.002291e+00   \n",
       "min   -8.151908e+00 -2.909327e+00 -4.035795e+00     -2.092087e+00   \n",
       "25%   -1.434068e-01 -6.295338e-01 -5.733419e-01     -7.686037e-01   \n",
       "50%    8.882293e-02 -7.649249e-02 -6.581613e-02      5.368868e-02   \n",
       "75%    3.109964e-01  5.600397e-01  5.883282e-01      5.819297e-01   \n",
       "max    5.751485e+00  3.904325e+00  3.577091e+00      3.428937e+00   \n",
       "\n",
       "       Unemployment Rate_SS_yun  Initial Jobless Claims_SS_yun  \n",
       "count              2.190000e+02                   2.190000e+02  \n",
       "mean              -1.013902e-18                   2.585451e-17  \n",
       "std                1.002291e+00                   1.002291e+00  \n",
       "min               -3.918715e+00                  -3.862139e+00  \n",
       "25%               -2.860298e-01                  -1.127636e-01  \n",
       "50%               -1.463112e-01                  -8.392462e-02  \n",
       "75%                8.655327e-02                  -4.724902e-02  \n",
       "max                1.014630e+01                   1.121655e+01  "
      ]
     },
     "execution_count": 13,
     "metadata": {},
     "output_type": "execute_result"
    }
   ],
   "source": [
    "X_train_SS_y_uns.describe()"
   ]
  },
  {
   "cell_type": "code",
   "execution_count": 14,
   "metadata": {},
   "outputs": [],
   "source": [
    "X_train_SS_y_uns = X_train_SS_y_uns.drop(['Unnamed: 0'], axis=1)"
   ]
  },
  {
   "cell_type": "code",
   "execution_count": 15,
   "metadata": {},
   "outputs": [
    {
     "data": {
      "text/html": [
       "<div>\n",
       "<style scoped>\n",
       "    .dataframe tbody tr th:only-of-type {\n",
       "        vertical-align: middle;\n",
       "    }\n",
       "\n",
       "    .dataframe tbody tr th {\n",
       "        vertical-align: top;\n",
       "    }\n",
       "\n",
       "    .dataframe thead th {\n",
       "        text-align: right;\n",
       "    }\n",
       "</style>\n",
       "<table border=\"1\" class=\"dataframe\">\n",
       "  <thead>\n",
       "    <tr style=\"text-align: right;\">\n",
       "      <th></th>\n",
       "      <th>Unnamed: 0</th>\n",
       "      <th>Inflation</th>\n",
       "    </tr>\n",
       "  </thead>\n",
       "  <tbody>\n",
       "    <tr>\n",
       "      <th>count</th>\n",
       "      <td>219.000000</td>\n",
       "      <td>219.000000</td>\n",
       "    </tr>\n",
       "    <tr>\n",
       "      <th>mean</th>\n",
       "      <td>156.726027</td>\n",
       "      <td>-0.053498</td>\n",
       "    </tr>\n",
       "    <tr>\n",
       "      <th>std</th>\n",
       "      <td>89.981485</td>\n",
       "      <td>0.857330</td>\n",
       "    </tr>\n",
       "    <tr>\n",
       "      <th>min</th>\n",
       "      <td>0.000000</td>\n",
       "      <td>-4.846000</td>\n",
       "    </tr>\n",
       "    <tr>\n",
       "      <th>25%</th>\n",
       "      <td>80.500000</td>\n",
       "      <td>-0.440500</td>\n",
       "    </tr>\n",
       "    <tr>\n",
       "      <th>50%</th>\n",
       "      <td>156.000000</td>\n",
       "      <td>-0.033000</td>\n",
       "    </tr>\n",
       "    <tr>\n",
       "      <th>75%</th>\n",
       "      <td>234.500000</td>\n",
       "      <td>0.322000</td>\n",
       "    </tr>\n",
       "    <tr>\n",
       "      <th>max</th>\n",
       "      <td>312.000000</td>\n",
       "      <td>4.007000</td>\n",
       "    </tr>\n",
       "  </tbody>\n",
       "</table>\n",
       "</div>"
      ],
      "text/plain": [
       "       Unnamed: 0   Inflation\n",
       "count  219.000000  219.000000\n",
       "mean   156.726027   -0.053498\n",
       "std     89.981485    0.857330\n",
       "min      0.000000   -4.846000\n",
       "25%     80.500000   -0.440500\n",
       "50%    156.000000   -0.033000\n",
       "75%    234.500000    0.322000\n",
       "max    312.000000    4.007000"
      ]
     },
     "execution_count": 15,
     "metadata": {},
     "output_type": "execute_result"
    }
   ],
   "source": [
    "y_train_SS_y_uns.describe()"
   ]
  },
  {
   "cell_type": "code",
   "execution_count": 16,
   "metadata": {},
   "outputs": [],
   "source": [
    "y_train_SS_y_uns = y_train_SS_y_uns.drop(['Unnamed: 0'], axis=1)"
   ]
  },
  {
   "cell_type": "code",
   "execution_count": 17,
   "metadata": {},
   "outputs": [
    {
     "data": {
      "text/html": [
       "<div>\n",
       "<style scoped>\n",
       "    .dataframe tbody tr th:only-of-type {\n",
       "        vertical-align: middle;\n",
       "    }\n",
       "\n",
       "    .dataframe tbody tr th {\n",
       "        vertical-align: top;\n",
       "    }\n",
       "\n",
       "    .dataframe thead th {\n",
       "        text-align: right;\n",
       "    }\n",
       "</style>\n",
       "<table border=\"1\" class=\"dataframe\">\n",
       "  <thead>\n",
       "    <tr style=\"text-align: right;\">\n",
       "      <th></th>\n",
       "      <th>Unnamed: 0</th>\n",
       "      <th>Wage CPI_SS_yun</th>\n",
       "      <th>WTI_SS_yun</th>\n",
       "      <th>Heating Oil_SS_yun</th>\n",
       "      <th>Copper_SS_yun</th>\n",
       "      <th>Sugar_SS_yun</th>\n",
       "      <th>Natural Gas_SS_yun</th>\n",
       "      <th>Cattle_SS_yun</th>\n",
       "      <th>Lean Hogs_SS_yun</th>\n",
       "      <th>Soybeans_SS_yun</th>\n",
       "      <th>Lumber_SS_yun</th>\n",
       "      <th>Capacity Utilization_SS_yun</th>\n",
       "      <th>Corn_SS_yun</th>\n",
       "      <th>M2 Velocity_SS_yun</th>\n",
       "      <th>GDP_SS_yun</th>\n",
       "      <th>Wheat_SS_yun</th>\n",
       "      <th>PMI_SS_yun</th>\n",
       "      <th>USD Index_SS_yun</th>\n",
       "      <th>Unemployment Rate_SS_yun</th>\n",
       "      <th>Initial Jobless Claims_SS_yun</th>\n",
       "    </tr>\n",
       "  </thead>\n",
       "  <tbody>\n",
       "    <tr>\n",
       "      <th>count</th>\n",
       "      <td>94.000000</td>\n",
       "      <td>94.000000</td>\n",
       "      <td>94.000000</td>\n",
       "      <td>94.000000</td>\n",
       "      <td>94.000000</td>\n",
       "      <td>94.000000</td>\n",
       "      <td>94.000000</td>\n",
       "      <td>94.000000</td>\n",
       "      <td>94.000000</td>\n",
       "      <td>94.000000</td>\n",
       "      <td>94.000000</td>\n",
       "      <td>94.000000</td>\n",
       "      <td>94.000000</td>\n",
       "      <td>94.000000</td>\n",
       "      <td>94.000000</td>\n",
       "      <td>94.000000</td>\n",
       "      <td>94.000000</td>\n",
       "      <td>94.000000</td>\n",
       "      <td>94.000000</td>\n",
       "      <td>94.000000</td>\n",
       "    </tr>\n",
       "    <tr>\n",
       "      <th>mean</th>\n",
       "      <td>154.308511</td>\n",
       "      <td>-0.039725</td>\n",
       "      <td>0.007935</td>\n",
       "      <td>-0.029998</td>\n",
       "      <td>-0.162066</td>\n",
       "      <td>0.105502</td>\n",
       "      <td>-0.059875</td>\n",
       "      <td>-0.039083</td>\n",
       "      <td>0.041086</td>\n",
       "      <td>0.005910</td>\n",
       "      <td>0.175033</td>\n",
       "      <td>0.125599</td>\n",
       "      <td>-0.002570</td>\n",
       "      <td>0.018809</td>\n",
       "      <td>0.098847</td>\n",
       "      <td>-0.019342</td>\n",
       "      <td>-0.030541</td>\n",
       "      <td>0.078927</td>\n",
       "      <td>-0.153743</td>\n",
       "      <td>-0.203085</td>\n",
       "    </tr>\n",
       "    <tr>\n",
       "      <th>std</th>\n",
       "      <td>92.158935</td>\n",
       "      <td>1.033855</td>\n",
       "      <td>0.965297</td>\n",
       "      <td>0.857436</td>\n",
       "      <td>0.959798</td>\n",
       "      <td>0.955151</td>\n",
       "      <td>0.961777</td>\n",
       "      <td>0.986806</td>\n",
       "      <td>1.006278</td>\n",
       "      <td>1.093236</td>\n",
       "      <td>1.441363</td>\n",
       "      <td>1.414106</td>\n",
       "      <td>1.234954</td>\n",
       "      <td>1.128372</td>\n",
       "      <td>1.285664</td>\n",
       "      <td>1.025338</td>\n",
       "      <td>0.992570</td>\n",
       "      <td>0.969684</td>\n",
       "      <td>1.642094</td>\n",
       "      <td>1.035767</td>\n",
       "    </tr>\n",
       "    <tr>\n",
       "      <th>min</th>\n",
       "      <td>3.000000</td>\n",
       "      <td>-7.038150</td>\n",
       "      <td>-3.580742</td>\n",
       "      <td>-3.212043</td>\n",
       "      <td>-4.187623</td>\n",
       "      <td>-1.418830</td>\n",
       "      <td>-2.025262</td>\n",
       "      <td>-2.905044</td>\n",
       "      <td>-1.651817</td>\n",
       "      <td>-2.783626</td>\n",
       "      <td>-2.289388</td>\n",
       "      <td>-8.154967</td>\n",
       "      <td>-2.789248</td>\n",
       "      <td>-9.068365</td>\n",
       "      <td>-8.151908</td>\n",
       "      <td>-2.047304</td>\n",
       "      <td>-3.235033</td>\n",
       "      <td>-2.042697</td>\n",
       "      <td>-6.014495</td>\n",
       "      <td>-8.023722</td>\n",
       "    </tr>\n",
       "    <tr>\n",
       "      <th>25%</th>\n",
       "      <td>76.250000</td>\n",
       "      <td>-0.406660</td>\n",
       "      <td>-0.464830</td>\n",
       "      <td>-0.488930</td>\n",
       "      <td>-0.739344</td>\n",
       "      <td>-0.521482</td>\n",
       "      <td>-0.755813</td>\n",
       "      <td>-0.743428</td>\n",
       "      <td>-0.705898</td>\n",
       "      <td>-0.659477</td>\n",
       "      <td>-0.777960</td>\n",
       "      <td>-0.174471</td>\n",
       "      <td>-0.705320</td>\n",
       "      <td>-0.134090</td>\n",
       "      <td>-0.082749</td>\n",
       "      <td>-0.753886</td>\n",
       "      <td>-0.663569</td>\n",
       "      <td>-0.584194</td>\n",
       "      <td>-0.332603</td>\n",
       "      <td>-0.111902</td>\n",
       "    </tr>\n",
       "    <tr>\n",
       "      <th>50%</th>\n",
       "      <td>152.500000</td>\n",
       "      <td>0.156537</td>\n",
       "      <td>0.020075</td>\n",
       "      <td>-0.062487</td>\n",
       "      <td>-0.157241</td>\n",
       "      <td>-0.085375</td>\n",
       "      <td>-0.154073</td>\n",
       "      <td>0.058996</td>\n",
       "      <td>-0.098348</td>\n",
       "      <td>-0.147656</td>\n",
       "      <td>-0.057829</td>\n",
       "      <td>0.203446</td>\n",
       "      <td>-0.057043</td>\n",
       "      <td>0.118361</td>\n",
       "      <td>0.112455</td>\n",
       "      <td>-0.114992</td>\n",
       "      <td>-0.043259</td>\n",
       "      <td>-0.001132</td>\n",
       "      <td>-0.192884</td>\n",
       "      <td>-0.088470</td>\n",
       "    </tr>\n",
       "    <tr>\n",
       "      <th>75%</th>\n",
       "      <td>228.750000</td>\n",
       "      <td>0.430470</td>\n",
       "      <td>0.561096</td>\n",
       "      <td>0.439143</td>\n",
       "      <td>0.322455</td>\n",
       "      <td>0.591862</td>\n",
       "      <td>0.618387</td>\n",
       "      <td>0.702137</td>\n",
       "      <td>0.682856</td>\n",
       "      <td>0.767235</td>\n",
       "      <td>0.829421</td>\n",
       "      <td>0.458757</td>\n",
       "      <td>0.457160</td>\n",
       "      <td>0.421551</td>\n",
       "      <td>0.420592</td>\n",
       "      <td>0.517627</td>\n",
       "      <td>0.419153</td>\n",
       "      <td>0.727001</td>\n",
       "      <td>-0.006593</td>\n",
       "      <td>-0.064255</td>\n",
       "    </tr>\n",
       "    <tr>\n",
       "      <th>max</th>\n",
       "      <td>310.000000</td>\n",
       "      <td>2.087383</td>\n",
       "      <td>3.682805</td>\n",
       "      <td>1.854950</td>\n",
       "      <td>2.749010</td>\n",
       "      <td>3.226772</td>\n",
       "      <td>1.918428</td>\n",
       "      <td>2.596760</td>\n",
       "      <td>2.540483</td>\n",
       "      <td>2.894730</td>\n",
       "      <td>6.535160</td>\n",
       "      <td>6.202835</td>\n",
       "      <td>4.012835</td>\n",
       "      <td>2.102794</td>\n",
       "      <td>5.751485</td>\n",
       "      <td>3.911693</td>\n",
       "      <td>3.125957</td>\n",
       "      <td>2.542070</td>\n",
       "      <td>12.894097</td>\n",
       "      <td>3.734413</td>\n",
       "    </tr>\n",
       "  </tbody>\n",
       "</table>\n",
       "</div>"
      ],
      "text/plain": [
       "       Unnamed: 0  Wage CPI_SS_yun  WTI_SS_yun  Heating Oil_SS_yun  \\\n",
       "count   94.000000        94.000000   94.000000           94.000000   \n",
       "mean   154.308511        -0.039725    0.007935           -0.029998   \n",
       "std     92.158935         1.033855    0.965297            0.857436   \n",
       "min      3.000000        -7.038150   -3.580742           -3.212043   \n",
       "25%     76.250000        -0.406660   -0.464830           -0.488930   \n",
       "50%    152.500000         0.156537    0.020075           -0.062487   \n",
       "75%    228.750000         0.430470    0.561096            0.439143   \n",
       "max    310.000000         2.087383    3.682805            1.854950   \n",
       "\n",
       "       Copper_SS_yun  Sugar_SS_yun  Natural Gas_SS_yun  Cattle_SS_yun  \\\n",
       "count      94.000000     94.000000           94.000000      94.000000   \n",
       "mean       -0.162066      0.105502           -0.059875      -0.039083   \n",
       "std         0.959798      0.955151            0.961777       0.986806   \n",
       "min        -4.187623     -1.418830           -2.025262      -2.905044   \n",
       "25%        -0.739344     -0.521482           -0.755813      -0.743428   \n",
       "50%        -0.157241     -0.085375           -0.154073       0.058996   \n",
       "75%         0.322455      0.591862            0.618387       0.702137   \n",
       "max         2.749010      3.226772            1.918428       2.596760   \n",
       "\n",
       "       Lean Hogs_SS_yun  Soybeans_SS_yun  Lumber_SS_yun  \\\n",
       "count         94.000000        94.000000      94.000000   \n",
       "mean           0.041086         0.005910       0.175033   \n",
       "std            1.006278         1.093236       1.441363   \n",
       "min           -1.651817        -2.783626      -2.289388   \n",
       "25%           -0.705898        -0.659477      -0.777960   \n",
       "50%           -0.098348        -0.147656      -0.057829   \n",
       "75%            0.682856         0.767235       0.829421   \n",
       "max            2.540483         2.894730       6.535160   \n",
       "\n",
       "       Capacity Utilization_SS_yun  Corn_SS_yun  M2 Velocity_SS_yun  \\\n",
       "count                    94.000000    94.000000           94.000000   \n",
       "mean                      0.125599    -0.002570            0.018809   \n",
       "std                       1.414106     1.234954            1.128372   \n",
       "min                      -8.154967    -2.789248           -9.068365   \n",
       "25%                      -0.174471    -0.705320           -0.134090   \n",
       "50%                       0.203446    -0.057043            0.118361   \n",
       "75%                       0.458757     0.457160            0.421551   \n",
       "max                       6.202835     4.012835            2.102794   \n",
       "\n",
       "       GDP_SS_yun  Wheat_SS_yun  PMI_SS_yun  USD Index_SS_yun  \\\n",
       "count   94.000000     94.000000   94.000000         94.000000   \n",
       "mean     0.098847     -0.019342   -0.030541          0.078927   \n",
       "std      1.285664      1.025338    0.992570          0.969684   \n",
       "min     -8.151908     -2.047304   -3.235033         -2.042697   \n",
       "25%     -0.082749     -0.753886   -0.663569         -0.584194   \n",
       "50%      0.112455     -0.114992   -0.043259         -0.001132   \n",
       "75%      0.420592      0.517627    0.419153          0.727001   \n",
       "max      5.751485      3.911693    3.125957          2.542070   \n",
       "\n",
       "       Unemployment Rate_SS_yun  Initial Jobless Claims_SS_yun  \n",
       "count                 94.000000                      94.000000  \n",
       "mean                  -0.153743                      -0.203085  \n",
       "std                    1.642094                       1.035767  \n",
       "min                   -6.014495                      -8.023722  \n",
       "25%                   -0.332603                      -0.111902  \n",
       "50%                   -0.192884                      -0.088470  \n",
       "75%                   -0.006593                      -0.064255  \n",
       "max                   12.894097                       3.734413  "
      ]
     },
     "execution_count": 17,
     "metadata": {},
     "output_type": "execute_result"
    }
   ],
   "source": [
    "X_test_SS_y_uns.describe()"
   ]
  },
  {
   "cell_type": "code",
   "execution_count": 18,
   "metadata": {},
   "outputs": [],
   "source": [
    "X_test_SS_y_uns = X_test_SS_y_uns.drop(['Unnamed: 0'], axis=1)"
   ]
  },
  {
   "cell_type": "code",
   "execution_count": 19,
   "metadata": {},
   "outputs": [
    {
     "data": {
      "text/html": [
       "<div>\n",
       "<style scoped>\n",
       "    .dataframe tbody tr th:only-of-type {\n",
       "        vertical-align: middle;\n",
       "    }\n",
       "\n",
       "    .dataframe tbody tr th {\n",
       "        vertical-align: top;\n",
       "    }\n",
       "\n",
       "    .dataframe thead th {\n",
       "        text-align: right;\n",
       "    }\n",
       "</style>\n",
       "<table border=\"1\" class=\"dataframe\">\n",
       "  <thead>\n",
       "    <tr style=\"text-align: right;\">\n",
       "      <th></th>\n",
       "      <th>Unnamed: 0</th>\n",
       "      <th>Inflation_SS</th>\n",
       "    </tr>\n",
       "  </thead>\n",
       "  <tbody>\n",
       "    <tr>\n",
       "      <th>count</th>\n",
       "      <td>94.000000</td>\n",
       "      <td>94.000000</td>\n",
       "    </tr>\n",
       "    <tr>\n",
       "      <th>mean</th>\n",
       "      <td>154.308511</td>\n",
       "      <td>0.120276</td>\n",
       "    </tr>\n",
       "    <tr>\n",
       "      <th>std</th>\n",
       "      <td>92.158935</td>\n",
       "      <td>0.890655</td>\n",
       "    </tr>\n",
       "    <tr>\n",
       "      <th>min</th>\n",
       "      <td>3.000000</td>\n",
       "      <td>-4.175388</td>\n",
       "    </tr>\n",
       "    <tr>\n",
       "      <th>25%</th>\n",
       "      <td>76.250000</td>\n",
       "      <td>-0.288767</td>\n",
       "    </tr>\n",
       "    <tr>\n",
       "      <th>50%</th>\n",
       "      <td>152.500000</td>\n",
       "      <td>0.063128</td>\n",
       "    </tr>\n",
       "    <tr>\n",
       "      <th>75%</th>\n",
       "      <td>228.750000</td>\n",
       "      <td>0.502411</td>\n",
       "    </tr>\n",
       "    <tr>\n",
       "      <th>max</th>\n",
       "      <td>310.000000</td>\n",
       "      <td>3.346501</td>\n",
       "    </tr>\n",
       "  </tbody>\n",
       "</table>\n",
       "</div>"
      ],
      "text/plain": [
       "       Unnamed: 0  Inflation_SS\n",
       "count   94.000000     94.000000\n",
       "mean   154.308511      0.120276\n",
       "std     92.158935      0.890655\n",
       "min      3.000000     -4.175388\n",
       "25%     76.250000     -0.288767\n",
       "50%    152.500000      0.063128\n",
       "75%    228.750000      0.502411\n",
       "max    310.000000      3.346501"
      ]
     },
     "execution_count": 19,
     "metadata": {},
     "output_type": "execute_result"
    }
   ],
   "source": [
    "y_test_SS_y_uns.describe()"
   ]
  },
  {
   "cell_type": "code",
   "execution_count": 20,
   "metadata": {},
   "outputs": [],
   "source": [
    "y_test_SS_y_uns = y_test_SS_y_uns.drop(['Unnamed: 0'], axis=1)"
   ]
  },
  {
   "cell_type": "markdown",
   "metadata": {},
   "source": [
    "`Mean` should be 0 `Std` should be 1"
   ]
  },
  {
   "cell_type": "code",
   "execution_count": 21,
   "metadata": {},
   "outputs": [
    {
     "data": {
      "text/html": [
       "<div>\n",
       "<style scoped>\n",
       "    .dataframe tbody tr th:only-of-type {\n",
       "        vertical-align: middle;\n",
       "    }\n",
       "\n",
       "    .dataframe tbody tr th {\n",
       "        vertical-align: top;\n",
       "    }\n",
       "\n",
       "    .dataframe thead th {\n",
       "        text-align: right;\n",
       "    }\n",
       "</style>\n",
       "<table border=\"1\" class=\"dataframe\">\n",
       "  <thead>\n",
       "    <tr style=\"text-align: right;\">\n",
       "      <th></th>\n",
       "      <th>Unnamed: 0</th>\n",
       "      <th>Wage CPI_LG</th>\n",
       "      <th>WTI_LG</th>\n",
       "      <th>Heating Oil_LG</th>\n",
       "      <th>Copper_LG</th>\n",
       "      <th>Sugar_LG</th>\n",
       "      <th>Natural Gas_LG</th>\n",
       "      <th>Cattle_LG</th>\n",
       "      <th>Lean Hogs_LG</th>\n",
       "      <th>Soybeans_LG</th>\n",
       "      <th>Lumber_LG</th>\n",
       "      <th>Capacity Utilization_LG</th>\n",
       "      <th>Corn_LG</th>\n",
       "      <th>M2 Velocity_LG</th>\n",
       "      <th>GDP_LG</th>\n",
       "      <th>Wheat_LG</th>\n",
       "      <th>PMI_LG</th>\n",
       "      <th>USD Index_LG</th>\n",
       "      <th>Unemployment Rate_LG</th>\n",
       "      <th>Initial Jobless Claims_LG</th>\n",
       "    </tr>\n",
       "  </thead>\n",
       "  <tbody>\n",
       "    <tr>\n",
       "      <th>count</th>\n",
       "      <td>219.000000</td>\n",
       "      <td>2.190000e+02</td>\n",
       "      <td>2.190000e+02</td>\n",
       "      <td>2.190000e+02</td>\n",
       "      <td>2.190000e+02</td>\n",
       "      <td>2.190000e+02</td>\n",
       "      <td>2.190000e+02</td>\n",
       "      <td>2.190000e+02</td>\n",
       "      <td>2.190000e+02</td>\n",
       "      <td>2.190000e+02</td>\n",
       "      <td>2.190000e+02</td>\n",
       "      <td>2.190000e+02</td>\n",
       "      <td>2.190000e+02</td>\n",
       "      <td>2.190000e+02</td>\n",
       "      <td>2.190000e+02</td>\n",
       "      <td>2.190000e+02</td>\n",
       "      <td>2.190000e+02</td>\n",
       "      <td>2.190000e+02</td>\n",
       "      <td>2.190000e+02</td>\n",
       "      <td>2.190000e+02</td>\n",
       "    </tr>\n",
       "    <tr>\n",
       "      <th>mean</th>\n",
       "      <td>156.726027</td>\n",
       "      <td>1.112758e-16</td>\n",
       "      <td>4.106304e-17</td>\n",
       "      <td>2.116521e-17</td>\n",
       "      <td>-3.330827e-17</td>\n",
       "      <td>9.632072e-18</td>\n",
       "      <td>5.373682e-17</td>\n",
       "      <td>-5.677853e-17</td>\n",
       "      <td>2.788231e-17</td>\n",
       "      <td>2.686841e-17</td>\n",
       "      <td>-5.322987e-18</td>\n",
       "      <td>-4.537213e-17</td>\n",
       "      <td>-6.362237e-17</td>\n",
       "      <td>-1.774329e-17</td>\n",
       "      <td>-8.668865e-17</td>\n",
       "      <td>4.080957e-17</td>\n",
       "      <td>-4.118978e-17</td>\n",
       "      <td>4.562560e-18</td>\n",
       "      <td>1.622244e-17</td>\n",
       "      <td>1.977109e-17</td>\n",
       "    </tr>\n",
       "    <tr>\n",
       "      <th>std</th>\n",
       "      <td>89.981485</td>\n",
       "      <td>1.002291e+00</td>\n",
       "      <td>1.002291e+00</td>\n",
       "      <td>1.002291e+00</td>\n",
       "      <td>1.002291e+00</td>\n",
       "      <td>1.002291e+00</td>\n",
       "      <td>1.002291e+00</td>\n",
       "      <td>1.002291e+00</td>\n",
       "      <td>1.002291e+00</td>\n",
       "      <td>1.002291e+00</td>\n",
       "      <td>1.002291e+00</td>\n",
       "      <td>1.002291e+00</td>\n",
       "      <td>1.002291e+00</td>\n",
       "      <td>1.002291e+00</td>\n",
       "      <td>1.002291e+00</td>\n",
       "      <td>1.002291e+00</td>\n",
       "      <td>1.002291e+00</td>\n",
       "      <td>1.002291e+00</td>\n",
       "      <td>1.002291e+00</td>\n",
       "      <td>1.002291e+00</td>\n",
       "    </tr>\n",
       "    <tr>\n",
       "      <th>min</th>\n",
       "      <td>0.000000</td>\n",
       "      <td>-3.864340e+00</td>\n",
       "      <td>-3.004277e+00</td>\n",
       "      <td>-2.834792e+00</td>\n",
       "      <td>-4.919980e+00</td>\n",
       "      <td>-3.368354e+00</td>\n",
       "      <td>-2.596777e+00</td>\n",
       "      <td>-2.833104e+00</td>\n",
       "      <td>-2.399538e+00</td>\n",
       "      <td>-3.462072e+00</td>\n",
       "      <td>-2.860781e+00</td>\n",
       "      <td>-3.452302e+00</td>\n",
       "      <td>-3.293396e+00</td>\n",
       "      <td>-3.954055e+00</td>\n",
       "      <td>-6.042891e+00</td>\n",
       "      <td>-3.854579e+00</td>\n",
       "      <td>-4.603088e+00</td>\n",
       "      <td>-2.312119e+00</td>\n",
       "      <td>-9.160974e+00</td>\n",
       "      <td>-1.052430e+01</td>\n",
       "    </tr>\n",
       "    <tr>\n",
       "      <th>25%</th>\n",
       "      <td>80.500000</td>\n",
       "      <td>-3.834754e-01</td>\n",
       "      <td>-6.242652e-01</td>\n",
       "      <td>-5.620981e-01</td>\n",
       "      <td>-5.724524e-01</td>\n",
       "      <td>-6.381705e-01</td>\n",
       "      <td>-5.820169e-01</td>\n",
       "      <td>-6.755867e-01</td>\n",
       "      <td>-5.916857e-01</td>\n",
       "      <td>-5.210450e-01</td>\n",
       "      <td>-6.553694e-01</td>\n",
       "      <td>-4.585748e-01</td>\n",
       "      <td>-5.755291e-01</td>\n",
       "      <td>-4.624863e-01</td>\n",
       "      <td>-2.169760e-01</td>\n",
       "      <td>-5.948099e-01</td>\n",
       "      <td>-5.490508e-01</td>\n",
       "      <td>-7.539266e-01</td>\n",
       "      <td>-2.772837e-01</td>\n",
       "      <td>-4.405917e-02</td>\n",
       "    </tr>\n",
       "    <tr>\n",
       "      <th>50%</th>\n",
       "      <td>156.000000</td>\n",
       "      <td>2.178426e-02</td>\n",
       "      <td>-2.571788e-02</td>\n",
       "      <td>-6.522170e-02</td>\n",
       "      <td>-9.491364e-02</td>\n",
       "      <td>-1.007306e-01</td>\n",
       "      <td>-7.720205e-02</td>\n",
       "      <td>9.754577e-03</td>\n",
       "      <td>-5.351127e-02</td>\n",
       "      <td>-4.740022e-02</td>\n",
       "      <td>4.555298e-02</td>\n",
       "      <td>3.360083e-02</td>\n",
       "      <td>-8.262975e-02</td>\n",
       "      <td>-1.487170e-01</td>\n",
       "      <td>4.385546e-02</td>\n",
       "      <td>1.456877e-02</td>\n",
       "      <td>-1.389741e-02</td>\n",
       "      <td>1.084102e-01</td>\n",
       "      <td>-7.173693e-02</td>\n",
       "      <td>2.018497e-02</td>\n",
       "    </tr>\n",
       "    <tr>\n",
       "      <th>75%</th>\n",
       "      <td>234.500000</td>\n",
       "      <td>4.560366e-01</td>\n",
       "      <td>6.162618e-01</td>\n",
       "      <td>6.030152e-01</td>\n",
       "      <td>5.686699e-01</td>\n",
       "      <td>6.629737e-01</td>\n",
       "      <td>6.141918e-01</td>\n",
       "      <td>7.416108e-01</td>\n",
       "      <td>7.399005e-01</td>\n",
       "      <td>4.824446e-01</td>\n",
       "      <td>6.462496e-01</td>\n",
       "      <td>4.711906e-01</td>\n",
       "      <td>5.529895e-01</td>\n",
       "      <td>5.433786e-01</td>\n",
       "      <td>3.000042e-01</td>\n",
       "      <td>6.391738e-01</td>\n",
       "      <td>6.175646e-01</td>\n",
       "      <td>6.226227e-01</td>\n",
       "      <td>2.437991e-01</td>\n",
       "      <td>6.372902e-02</td>\n",
       "    </tr>\n",
       "    <tr>\n",
       "      <th>max</th>\n",
       "      <td>312.000000</td>\n",
       "      <td>4.638354e+00</td>\n",
       "      <td>3.042289e+00</td>\n",
       "      <td>2.742120e+00</td>\n",
       "      <td>3.508829e+00</td>\n",
       "      <td>2.925619e+00</td>\n",
       "      <td>2.399775e+00</td>\n",
       "      <td>2.634560e+00</td>\n",
       "      <td>2.574808e+00</td>\n",
       "      <td>2.775402e+00</td>\n",
       "      <td>3.342907e+00</td>\n",
       "      <td>3.607041e+00</td>\n",
       "      <td>2.839295e+00</td>\n",
       "      <td>6.349962e+00</td>\n",
       "      <td>9.052354e+00</td>\n",
       "      <td>3.001611e+00</td>\n",
       "      <td>3.224333e+00</td>\n",
       "      <td>2.948375e+00</td>\n",
       "      <td>6.018238e+00</td>\n",
       "      <td>7.507126e+00</td>\n",
       "    </tr>\n",
       "  </tbody>\n",
       "</table>\n",
       "</div>"
      ],
      "text/plain": [
       "       Unnamed: 0   Wage CPI_LG        WTI_LG  Heating Oil_LG     Copper_LG  \\\n",
       "count  219.000000  2.190000e+02  2.190000e+02    2.190000e+02  2.190000e+02   \n",
       "mean   156.726027  1.112758e-16  4.106304e-17    2.116521e-17 -3.330827e-17   \n",
       "std     89.981485  1.002291e+00  1.002291e+00    1.002291e+00  1.002291e+00   \n",
       "min      0.000000 -3.864340e+00 -3.004277e+00   -2.834792e+00 -4.919980e+00   \n",
       "25%     80.500000 -3.834754e-01 -6.242652e-01   -5.620981e-01 -5.724524e-01   \n",
       "50%    156.000000  2.178426e-02 -2.571788e-02   -6.522170e-02 -9.491364e-02   \n",
       "75%    234.500000  4.560366e-01  6.162618e-01    6.030152e-01  5.686699e-01   \n",
       "max    312.000000  4.638354e+00  3.042289e+00    2.742120e+00  3.508829e+00   \n",
       "\n",
       "           Sugar_LG  Natural Gas_LG     Cattle_LG  Lean Hogs_LG   Soybeans_LG  \\\n",
       "count  2.190000e+02    2.190000e+02  2.190000e+02  2.190000e+02  2.190000e+02   \n",
       "mean   9.632072e-18    5.373682e-17 -5.677853e-17  2.788231e-17  2.686841e-17   \n",
       "std    1.002291e+00    1.002291e+00  1.002291e+00  1.002291e+00  1.002291e+00   \n",
       "min   -3.368354e+00   -2.596777e+00 -2.833104e+00 -2.399538e+00 -3.462072e+00   \n",
       "25%   -6.381705e-01   -5.820169e-01 -6.755867e-01 -5.916857e-01 -5.210450e-01   \n",
       "50%   -1.007306e-01   -7.720205e-02  9.754577e-03 -5.351127e-02 -4.740022e-02   \n",
       "75%    6.629737e-01    6.141918e-01  7.416108e-01  7.399005e-01  4.824446e-01   \n",
       "max    2.925619e+00    2.399775e+00  2.634560e+00  2.574808e+00  2.775402e+00   \n",
       "\n",
       "          Lumber_LG  Capacity Utilization_LG       Corn_LG  M2 Velocity_LG  \\\n",
       "count  2.190000e+02             2.190000e+02  2.190000e+02    2.190000e+02   \n",
       "mean  -5.322987e-18            -4.537213e-17 -6.362237e-17   -1.774329e-17   \n",
       "std    1.002291e+00             1.002291e+00  1.002291e+00    1.002291e+00   \n",
       "min   -2.860781e+00            -3.452302e+00 -3.293396e+00   -3.954055e+00   \n",
       "25%   -6.553694e-01            -4.585748e-01 -5.755291e-01   -4.624863e-01   \n",
       "50%    4.555298e-02             3.360083e-02 -8.262975e-02   -1.487170e-01   \n",
       "75%    6.462496e-01             4.711906e-01  5.529895e-01    5.433786e-01   \n",
       "max    3.342907e+00             3.607041e+00  2.839295e+00    6.349962e+00   \n",
       "\n",
       "             GDP_LG      Wheat_LG        PMI_LG  USD Index_LG  \\\n",
       "count  2.190000e+02  2.190000e+02  2.190000e+02  2.190000e+02   \n",
       "mean  -8.668865e-17  4.080957e-17 -4.118978e-17  4.562560e-18   \n",
       "std    1.002291e+00  1.002291e+00  1.002291e+00  1.002291e+00   \n",
       "min   -6.042891e+00 -3.854579e+00 -4.603088e+00 -2.312119e+00   \n",
       "25%   -2.169760e-01 -5.948099e-01 -5.490508e-01 -7.539266e-01   \n",
       "50%    4.385546e-02  1.456877e-02 -1.389741e-02  1.084102e-01   \n",
       "75%    3.000042e-01  6.391738e-01  6.175646e-01  6.226227e-01   \n",
       "max    9.052354e+00  3.001611e+00  3.224333e+00  2.948375e+00   \n",
       "\n",
       "       Unemployment Rate_LG  Initial Jobless Claims_LG  \n",
       "count          2.190000e+02               2.190000e+02  \n",
       "mean           1.622244e-17               1.977109e-17  \n",
       "std            1.002291e+00               1.002291e+00  \n",
       "min           -9.160974e+00              -1.052430e+01  \n",
       "25%           -2.772837e-01              -4.405917e-02  \n",
       "50%           -7.173693e-02               2.018497e-02  \n",
       "75%            2.437991e-01               6.372902e-02  \n",
       "max            6.018238e+00               7.507126e+00  "
      ]
     },
     "execution_count": 21,
     "metadata": {},
     "output_type": "execute_result"
    }
   ],
   "source": [
    "X_train_LG.describe()"
   ]
  },
  {
   "cell_type": "code",
   "execution_count": 22,
   "metadata": {},
   "outputs": [],
   "source": [
    "X_train_LG = X_train_LG.drop(['Unnamed: 0'], axis=1)"
   ]
  },
  {
   "cell_type": "code",
   "execution_count": 23,
   "metadata": {},
   "outputs": [
    {
     "data": {
      "text/html": [
       "<div>\n",
       "<style scoped>\n",
       "    .dataframe tbody tr th:only-of-type {\n",
       "        vertical-align: middle;\n",
       "    }\n",
       "\n",
       "    .dataframe tbody tr th {\n",
       "        vertical-align: top;\n",
       "    }\n",
       "\n",
       "    .dataframe thead th {\n",
       "        text-align: right;\n",
       "    }\n",
       "</style>\n",
       "<table border=\"1\" class=\"dataframe\">\n",
       "  <thead>\n",
       "    <tr style=\"text-align: right;\">\n",
       "      <th></th>\n",
       "      <th>Unnamed: 0</th>\n",
       "      <th>Inflation_LG</th>\n",
       "    </tr>\n",
       "  </thead>\n",
       "  <tbody>\n",
       "    <tr>\n",
       "      <th>count</th>\n",
       "      <td>219.000000</td>\n",
       "      <td>2.190000e+02</td>\n",
       "    </tr>\n",
       "    <tr>\n",
       "      <th>mean</th>\n",
       "      <td>156.726027</td>\n",
       "      <td>-7.604267e-18</td>\n",
       "    </tr>\n",
       "    <tr>\n",
       "      <th>std</th>\n",
       "      <td>89.981485</td>\n",
       "      <td>1.002291e+00</td>\n",
       "    </tr>\n",
       "    <tr>\n",
       "      <th>min</th>\n",
       "      <td>0.000000</td>\n",
       "      <td>-5.316536e+00</td>\n",
       "    </tr>\n",
       "    <tr>\n",
       "      <th>25%</th>\n",
       "      <td>80.500000</td>\n",
       "      <td>-4.631936e-01</td>\n",
       "    </tr>\n",
       "    <tr>\n",
       "      <th>50%</th>\n",
       "      <td>156.000000</td>\n",
       "      <td>9.613664e-03</td>\n",
       "    </tr>\n",
       "    <tr>\n",
       "      <th>75%</th>\n",
       "      <td>234.500000</td>\n",
       "      <td>4.287203e-01</td>\n",
       "    </tr>\n",
       "    <tr>\n",
       "      <th>max</th>\n",
       "      <td>312.000000</td>\n",
       "      <td>4.998598e+00</td>\n",
       "    </tr>\n",
       "  </tbody>\n",
       "</table>\n",
       "</div>"
      ],
      "text/plain": [
       "       Unnamed: 0  Inflation_LG\n",
       "count  219.000000  2.190000e+02\n",
       "mean   156.726027 -7.604267e-18\n",
       "std     89.981485  1.002291e+00\n",
       "min      0.000000 -5.316536e+00\n",
       "25%     80.500000 -4.631936e-01\n",
       "50%    156.000000  9.613664e-03\n",
       "75%    234.500000  4.287203e-01\n",
       "max    312.000000  4.998598e+00"
      ]
     },
     "execution_count": 23,
     "metadata": {},
     "output_type": "execute_result"
    }
   ],
   "source": [
    "y_train_LG.describe()"
   ]
  },
  {
   "cell_type": "code",
   "execution_count": 24,
   "metadata": {},
   "outputs": [],
   "source": [
    "y_train_LG = y_train_LG.drop(['Unnamed: 0'], axis=1)"
   ]
  },
  {
   "cell_type": "code",
   "execution_count": 25,
   "metadata": {},
   "outputs": [
    {
     "data": {
      "text/html": [
       "<div>\n",
       "<style scoped>\n",
       "    .dataframe tbody tr th:only-of-type {\n",
       "        vertical-align: middle;\n",
       "    }\n",
       "\n",
       "    .dataframe tbody tr th {\n",
       "        vertical-align: top;\n",
       "    }\n",
       "\n",
       "    .dataframe thead th {\n",
       "        text-align: right;\n",
       "    }\n",
       "</style>\n",
       "<table border=\"1\" class=\"dataframe\">\n",
       "  <thead>\n",
       "    <tr style=\"text-align: right;\">\n",
       "      <th></th>\n",
       "      <th>Unnamed: 0</th>\n",
       "      <th>Wage CPI_LG</th>\n",
       "      <th>WTI_LG</th>\n",
       "      <th>Heating Oil_LG</th>\n",
       "      <th>Copper_LG</th>\n",
       "      <th>Sugar_LG</th>\n",
       "      <th>Natural Gas_LG</th>\n",
       "      <th>Cattle_LG</th>\n",
       "      <th>Lean Hogs_LG</th>\n",
       "      <th>Soybeans_LG</th>\n",
       "      <th>Lumber_LG</th>\n",
       "      <th>Capacity Utilization_LG</th>\n",
       "      <th>Corn_LG</th>\n",
       "      <th>M2 Velocity_LG</th>\n",
       "      <th>GDP_LG</th>\n",
       "      <th>Wheat_LG</th>\n",
       "      <th>PMI_LG</th>\n",
       "      <th>USD Index_LG</th>\n",
       "      <th>Unemployment Rate_LG</th>\n",
       "      <th>Initial Jobless Claims_LG</th>\n",
       "    </tr>\n",
       "  </thead>\n",
       "  <tbody>\n",
       "    <tr>\n",
       "      <th>count</th>\n",
       "      <td>94.000000</td>\n",
       "      <td>94.000000</td>\n",
       "      <td>94.000000</td>\n",
       "      <td>94.000000</td>\n",
       "      <td>94.000000</td>\n",
       "      <td>94.000000</td>\n",
       "      <td>94.000000</td>\n",
       "      <td>94.000000</td>\n",
       "      <td>94.000000</td>\n",
       "      <td>94.000000</td>\n",
       "      <td>94.000000</td>\n",
       "      <td>94.000000</td>\n",
       "      <td>94.000000</td>\n",
       "      <td>94.000000</td>\n",
       "      <td>94.000000</td>\n",
       "      <td>94.000000</td>\n",
       "      <td>94.000000</td>\n",
       "      <td>94.000000</td>\n",
       "      <td>94.000000</td>\n",
       "      <td>94.000000</td>\n",
       "    </tr>\n",
       "    <tr>\n",
       "      <th>mean</th>\n",
       "      <td>154.308511</td>\n",
       "      <td>-0.048045</td>\n",
       "      <td>0.003998</td>\n",
       "      <td>-0.047118</td>\n",
       "      <td>-0.161938</td>\n",
       "      <td>0.123452</td>\n",
       "      <td>-0.057807</td>\n",
       "      <td>-0.041445</td>\n",
       "      <td>0.041096</td>\n",
       "      <td>0.007478</td>\n",
       "      <td>0.124216</td>\n",
       "      <td>0.531796</td>\n",
       "      <td>-0.013118</td>\n",
       "      <td>0.123268</td>\n",
       "      <td>0.159476</td>\n",
       "      <td>-0.022034</td>\n",
       "      <td>-0.029349</td>\n",
       "      <td>0.083582</td>\n",
       "      <td>-0.422558</td>\n",
       "      <td>-0.431008</td>\n",
       "    </tr>\n",
       "    <tr>\n",
       "      <th>std</th>\n",
       "      <td>92.158935</td>\n",
       "      <td>0.907698</td>\n",
       "      <td>1.021481</td>\n",
       "      <td>0.853147</td>\n",
       "      <td>0.990601</td>\n",
       "      <td>0.899065</td>\n",
       "      <td>1.013582</td>\n",
       "      <td>0.983241</td>\n",
       "      <td>1.007719</td>\n",
       "      <td>1.095473</td>\n",
       "      <td>1.278398</td>\n",
       "      <td>3.514545</td>\n",
       "      <td>1.220314</td>\n",
       "      <td>1.357368</td>\n",
       "      <td>1.550596</td>\n",
       "      <td>1.001748</td>\n",
       "      <td>0.990415</td>\n",
       "      <td>0.957555</td>\n",
       "      <td>2.500914</td>\n",
       "      <td>2.741489</td>\n",
       "    </tr>\n",
       "    <tr>\n",
       "      <th>min</th>\n",
       "      <td>3.000000</td>\n",
       "      <td>-4.138783</td>\n",
       "      <td>-3.022382</td>\n",
       "      <td>-2.767646</td>\n",
       "      <td>-4.805847</td>\n",
       "      <td>-1.616651</td>\n",
       "      <td>-2.491133</td>\n",
       "      <td>-2.577495</td>\n",
       "      <td>-1.646983</td>\n",
       "      <td>-2.729864</td>\n",
       "      <td>-2.644070</td>\n",
       "      <td>-3.479724</td>\n",
       "      <td>-2.947103</td>\n",
       "      <td>-3.954055</td>\n",
       "      <td>-6.042891</td>\n",
       "      <td>-2.472956</td>\n",
       "      <td>-3.629967</td>\n",
       "      <td>-2.250001</td>\n",
       "      <td>-16.854763</td>\n",
       "      <td>-23.033517</td>\n",
       "    </tr>\n",
       "    <tr>\n",
       "      <th>25%</th>\n",
       "      <td>76.250000</td>\n",
       "      <td>-0.530851</td>\n",
       "      <td>-0.520854</td>\n",
       "      <td>-0.541442</td>\n",
       "      <td>-0.729626</td>\n",
       "      <td>-0.462850</td>\n",
       "      <td>-0.735979</td>\n",
       "      <td>-0.772889</td>\n",
       "      <td>-0.707323</td>\n",
       "      <td>-0.664382</td>\n",
       "      <td>-0.766113</td>\n",
       "      <td>-0.393630</td>\n",
       "      <td>-0.695743</td>\n",
       "      <td>-0.457238</td>\n",
       "      <td>-0.149510</td>\n",
       "      <td>-0.741011</td>\n",
       "      <td>-0.647270</td>\n",
       "      <td>-0.553747</td>\n",
       "      <td>-0.348457</td>\n",
       "      <td>-0.042083</td>\n",
       "    </tr>\n",
       "    <tr>\n",
       "      <th>50%</th>\n",
       "      <td>152.500000</td>\n",
       "      <td>0.070022</td>\n",
       "      <td>-0.042497</td>\n",
       "      <td>-0.124654</td>\n",
       "      <td>-0.124933</td>\n",
       "      <td>0.020949</td>\n",
       "      <td>-0.052213</td>\n",
       "      <td>0.006270</td>\n",
       "      <td>-0.101180</td>\n",
       "      <td>-0.155957</td>\n",
       "      <td>0.007986</td>\n",
       "      <td>0.086237</td>\n",
       "      <td>-0.034993</td>\n",
       "      <td>-0.006430</td>\n",
       "      <td>0.070792</td>\n",
       "      <td>-0.025737</td>\n",
       "      <td>0.008901</td>\n",
       "      <td>0.053312</td>\n",
       "      <td>-0.138910</td>\n",
       "      <td>0.010413</td>\n",
       "    </tr>\n",
       "    <tr>\n",
       "      <th>75%</th>\n",
       "      <td>228.750000</td>\n",
       "      <td>0.388889</td>\n",
       "      <td>0.528902</td>\n",
       "      <td>0.395991</td>\n",
       "      <td>0.354593</td>\n",
       "      <td>0.681843</td>\n",
       "      <td>0.698256</td>\n",
       "      <td>0.681600</td>\n",
       "      <td>0.681418</td>\n",
       "      <td>0.764234</td>\n",
       "      <td>0.861282</td>\n",
       "      <td>0.450895</td>\n",
       "      <td>0.475157</td>\n",
       "      <td>0.614669</td>\n",
       "      <td>0.428787</td>\n",
       "      <td>0.599602</td>\n",
       "      <td>0.458863</td>\n",
       "      <td>0.758699</td>\n",
       "      <td>0.121570</td>\n",
       "      <td>0.048695</td>\n",
       "    </tr>\n",
       "    <tr>\n",
       "      <th>max</th>\n",
       "      <td>310.000000</td>\n",
       "      <td>2.758862</td>\n",
       "      <td>4.589840</td>\n",
       "      <td>2.042987</td>\n",
       "      <td>2.563405</td>\n",
       "      <td>2.545349</td>\n",
       "      <td>1.725179</td>\n",
       "      <td>2.948846</td>\n",
       "      <td>2.555352</td>\n",
       "      <td>2.956581</td>\n",
       "      <td>4.746567</td>\n",
       "      <td>29.132633</td>\n",
       "      <td>3.727261</td>\n",
       "      <td>6.349962</td>\n",
       "      <td>9.052354</td>\n",
       "      <td>3.005600</td>\n",
       "      <td>2.845329</td>\n",
       "      <td>2.295675</td>\n",
       "      <td>6.893727</td>\n",
       "      <td>2.709870</td>\n",
       "    </tr>\n",
       "  </tbody>\n",
       "</table>\n",
       "</div>"
      ],
      "text/plain": [
       "       Unnamed: 0  Wage CPI_LG     WTI_LG  Heating Oil_LG  Copper_LG  \\\n",
       "count   94.000000    94.000000  94.000000       94.000000  94.000000   \n",
       "mean   154.308511    -0.048045   0.003998       -0.047118  -0.161938   \n",
       "std     92.158935     0.907698   1.021481        0.853147   0.990601   \n",
       "min      3.000000    -4.138783  -3.022382       -2.767646  -4.805847   \n",
       "25%     76.250000    -0.530851  -0.520854       -0.541442  -0.729626   \n",
       "50%    152.500000     0.070022  -0.042497       -0.124654  -0.124933   \n",
       "75%    228.750000     0.388889   0.528902        0.395991   0.354593   \n",
       "max    310.000000     2.758862   4.589840        2.042987   2.563405   \n",
       "\n",
       "        Sugar_LG  Natural Gas_LG  Cattle_LG  Lean Hogs_LG  Soybeans_LG  \\\n",
       "count  94.000000       94.000000  94.000000     94.000000    94.000000   \n",
       "mean    0.123452       -0.057807  -0.041445      0.041096     0.007478   \n",
       "std     0.899065        1.013582   0.983241      1.007719     1.095473   \n",
       "min    -1.616651       -2.491133  -2.577495     -1.646983    -2.729864   \n",
       "25%    -0.462850       -0.735979  -0.772889     -0.707323    -0.664382   \n",
       "50%     0.020949       -0.052213   0.006270     -0.101180    -0.155957   \n",
       "75%     0.681843        0.698256   0.681600      0.681418     0.764234   \n",
       "max     2.545349        1.725179   2.948846      2.555352     2.956581   \n",
       "\n",
       "       Lumber_LG  Capacity Utilization_LG    Corn_LG  M2 Velocity_LG  \\\n",
       "count  94.000000                94.000000  94.000000       94.000000   \n",
       "mean    0.124216                 0.531796  -0.013118        0.123268   \n",
       "std     1.278398                 3.514545   1.220314        1.357368   \n",
       "min    -2.644070                -3.479724  -2.947103       -3.954055   \n",
       "25%    -0.766113                -0.393630  -0.695743       -0.457238   \n",
       "50%     0.007986                 0.086237  -0.034993       -0.006430   \n",
       "75%     0.861282                 0.450895   0.475157        0.614669   \n",
       "max     4.746567                29.132633   3.727261        6.349962   \n",
       "\n",
       "          GDP_LG   Wheat_LG     PMI_LG  USD Index_LG  Unemployment Rate_LG  \\\n",
       "count  94.000000  94.000000  94.000000     94.000000             94.000000   \n",
       "mean    0.159476  -0.022034  -0.029349      0.083582             -0.422558   \n",
       "std     1.550596   1.001748   0.990415      0.957555              2.500914   \n",
       "min    -6.042891  -2.472956  -3.629967     -2.250001            -16.854763   \n",
       "25%    -0.149510  -0.741011  -0.647270     -0.553747             -0.348457   \n",
       "50%     0.070792  -0.025737   0.008901      0.053312             -0.138910   \n",
       "75%     0.428787   0.599602   0.458863      0.758699              0.121570   \n",
       "max     9.052354   3.005600   2.845329      2.295675              6.893727   \n",
       "\n",
       "       Initial Jobless Claims_LG  \n",
       "count                  94.000000  \n",
       "mean                   -0.431008  \n",
       "std                     2.741489  \n",
       "min                   -23.033517  \n",
       "25%                    -0.042083  \n",
       "50%                     0.010413  \n",
       "75%                     0.048695  \n",
       "max                     2.709870  "
      ]
     },
     "execution_count": 25,
     "metadata": {},
     "output_type": "execute_result"
    }
   ],
   "source": [
    "X_test_LG.describe()"
   ]
  },
  {
   "cell_type": "code",
   "execution_count": 26,
   "metadata": {},
   "outputs": [],
   "source": [
    "X_test_LG = X_test_LG.drop(['Unnamed: 0'], axis=1)"
   ]
  },
  {
   "cell_type": "code",
   "execution_count": 27,
   "metadata": {},
   "outputs": [
    {
     "data": {
      "text/html": [
       "<div>\n",
       "<style scoped>\n",
       "    .dataframe tbody tr th:only-of-type {\n",
       "        vertical-align: middle;\n",
       "    }\n",
       "\n",
       "    .dataframe tbody tr th {\n",
       "        vertical-align: top;\n",
       "    }\n",
       "\n",
       "    .dataframe thead th {\n",
       "        text-align: right;\n",
       "    }\n",
       "</style>\n",
       "<table border=\"1\" class=\"dataframe\">\n",
       "  <thead>\n",
       "    <tr style=\"text-align: right;\">\n",
       "      <th></th>\n",
       "      <th>Unnamed: 0</th>\n",
       "      <th>Inflation_LG</th>\n",
       "    </tr>\n",
       "  </thead>\n",
       "  <tbody>\n",
       "    <tr>\n",
       "      <th>count</th>\n",
       "      <td>94.000000</td>\n",
       "      <td>94.000000</td>\n",
       "    </tr>\n",
       "    <tr>\n",
       "      <th>mean</th>\n",
       "      <td>154.308511</td>\n",
       "      <td>0.117902</td>\n",
       "    </tr>\n",
       "    <tr>\n",
       "      <th>std</th>\n",
       "      <td>92.158935</td>\n",
       "      <td>0.892094</td>\n",
       "    </tr>\n",
       "    <tr>\n",
       "      <th>min</th>\n",
       "      <td>3.000000</td>\n",
       "      <td>-4.000923</td>\n",
       "    </tr>\n",
       "    <tr>\n",
       "      <th>25%</th>\n",
       "      <td>76.250000</td>\n",
       "      <td>-0.301644</td>\n",
       "    </tr>\n",
       "    <tr>\n",
       "      <th>50%</th>\n",
       "      <td>152.500000</td>\n",
       "      <td>0.048869</td>\n",
       "    </tr>\n",
       "    <tr>\n",
       "      <th>75%</th>\n",
       "      <td>228.750000</td>\n",
       "      <td>0.493321</td>\n",
       "    </tr>\n",
       "    <tr>\n",
       "      <th>max</th>\n",
       "      <td>310.000000</td>\n",
       "      <td>3.483072</td>\n",
       "    </tr>\n",
       "  </tbody>\n",
       "</table>\n",
       "</div>"
      ],
      "text/plain": [
       "       Unnamed: 0  Inflation_LG\n",
       "count   94.000000     94.000000\n",
       "mean   154.308511      0.117902\n",
       "std     92.158935      0.892094\n",
       "min      3.000000     -4.000923\n",
       "25%     76.250000     -0.301644\n",
       "50%    152.500000      0.048869\n",
       "75%    228.750000      0.493321\n",
       "max    310.000000      3.483072"
      ]
     },
     "execution_count": 27,
     "metadata": {},
     "output_type": "execute_result"
    }
   ],
   "source": [
    "y_test_LG.describe()"
   ]
  },
  {
   "cell_type": "code",
   "execution_count": 28,
   "metadata": {},
   "outputs": [],
   "source": [
    "y_test_LG = y_test_LG.drop(['Unnamed: 0'], axis=1)"
   ]
  },
  {
   "cell_type": "markdown",
   "metadata": {},
   "source": [
    "`Mean` should be 0 `Std` should be 1 for `X` but not `y`"
   ]
  },
  {
   "cell_type": "code",
   "execution_count": 29,
   "metadata": {},
   "outputs": [
    {
     "data": {
      "text/html": [
       "<div>\n",
       "<style scoped>\n",
       "    .dataframe tbody tr th:only-of-type {\n",
       "        vertical-align: middle;\n",
       "    }\n",
       "\n",
       "    .dataframe tbody tr th {\n",
       "        vertical-align: top;\n",
       "    }\n",
       "\n",
       "    .dataframe thead th {\n",
       "        text-align: right;\n",
       "    }\n",
       "</style>\n",
       "<table border=\"1\" class=\"dataframe\">\n",
       "  <thead>\n",
       "    <tr style=\"text-align: right;\">\n",
       "      <th></th>\n",
       "      <th>Unnamed: 0</th>\n",
       "      <th>Wage CPI_LG</th>\n",
       "      <th>WTI_LG</th>\n",
       "      <th>Heating Oil_LG</th>\n",
       "      <th>Copper_LG</th>\n",
       "      <th>Sugar_LG</th>\n",
       "      <th>Natural Gas_LG</th>\n",
       "      <th>Cattle_LG</th>\n",
       "      <th>Lean Hogs_LG</th>\n",
       "      <th>Soybeans_LG</th>\n",
       "      <th>Lumber_LG</th>\n",
       "      <th>Capacity Utilization_LG</th>\n",
       "      <th>Corn_LG</th>\n",
       "      <th>M2 Velocity_LG</th>\n",
       "      <th>GDP_LG</th>\n",
       "      <th>Wheat_LG</th>\n",
       "      <th>PMI_LG</th>\n",
       "      <th>USD Index_LG</th>\n",
       "      <th>Unemployment Rate_LG</th>\n",
       "      <th>Initial Jobless Claims_LG</th>\n",
       "    </tr>\n",
       "  </thead>\n",
       "  <tbody>\n",
       "    <tr>\n",
       "      <th>count</th>\n",
       "      <td>219.000000</td>\n",
       "      <td>2.190000e+02</td>\n",
       "      <td>2.190000e+02</td>\n",
       "      <td>2.190000e+02</td>\n",
       "      <td>2.190000e+02</td>\n",
       "      <td>2.190000e+02</td>\n",
       "      <td>2.190000e+02</td>\n",
       "      <td>2.190000e+02</td>\n",
       "      <td>2.190000e+02</td>\n",
       "      <td>2.190000e+02</td>\n",
       "      <td>2.190000e+02</td>\n",
       "      <td>2.190000e+02</td>\n",
       "      <td>2.190000e+02</td>\n",
       "      <td>2.190000e+02</td>\n",
       "      <td>2.190000e+02</td>\n",
       "      <td>2.190000e+02</td>\n",
       "      <td>2.190000e+02</td>\n",
       "      <td>2.190000e+02</td>\n",
       "      <td>2.190000e+02</td>\n",
       "      <td>2.190000e+02</td>\n",
       "    </tr>\n",
       "    <tr>\n",
       "      <th>mean</th>\n",
       "      <td>156.726027</td>\n",
       "      <td>1.112758e-16</td>\n",
       "      <td>4.106304e-17</td>\n",
       "      <td>2.116521e-17</td>\n",
       "      <td>-3.330827e-17</td>\n",
       "      <td>9.632072e-18</td>\n",
       "      <td>5.373682e-17</td>\n",
       "      <td>-5.677853e-17</td>\n",
       "      <td>2.788231e-17</td>\n",
       "      <td>2.686841e-17</td>\n",
       "      <td>-5.322987e-18</td>\n",
       "      <td>-4.537213e-17</td>\n",
       "      <td>-6.362237e-17</td>\n",
       "      <td>-1.774329e-17</td>\n",
       "      <td>-8.668865e-17</td>\n",
       "      <td>4.080957e-17</td>\n",
       "      <td>-4.118978e-17</td>\n",
       "      <td>4.562560e-18</td>\n",
       "      <td>1.622244e-17</td>\n",
       "      <td>1.977109e-17</td>\n",
       "    </tr>\n",
       "    <tr>\n",
       "      <th>std</th>\n",
       "      <td>89.981485</td>\n",
       "      <td>1.002291e+00</td>\n",
       "      <td>1.002291e+00</td>\n",
       "      <td>1.002291e+00</td>\n",
       "      <td>1.002291e+00</td>\n",
       "      <td>1.002291e+00</td>\n",
       "      <td>1.002291e+00</td>\n",
       "      <td>1.002291e+00</td>\n",
       "      <td>1.002291e+00</td>\n",
       "      <td>1.002291e+00</td>\n",
       "      <td>1.002291e+00</td>\n",
       "      <td>1.002291e+00</td>\n",
       "      <td>1.002291e+00</td>\n",
       "      <td>1.002291e+00</td>\n",
       "      <td>1.002291e+00</td>\n",
       "      <td>1.002291e+00</td>\n",
       "      <td>1.002291e+00</td>\n",
       "      <td>1.002291e+00</td>\n",
       "      <td>1.002291e+00</td>\n",
       "      <td>1.002291e+00</td>\n",
       "    </tr>\n",
       "    <tr>\n",
       "      <th>min</th>\n",
       "      <td>0.000000</td>\n",
       "      <td>-3.864340e+00</td>\n",
       "      <td>-3.004277e+00</td>\n",
       "      <td>-2.834792e+00</td>\n",
       "      <td>-4.919980e+00</td>\n",
       "      <td>-3.368354e+00</td>\n",
       "      <td>-2.596777e+00</td>\n",
       "      <td>-2.833104e+00</td>\n",
       "      <td>-2.399538e+00</td>\n",
       "      <td>-3.462072e+00</td>\n",
       "      <td>-2.860781e+00</td>\n",
       "      <td>-3.452302e+00</td>\n",
       "      <td>-3.293396e+00</td>\n",
       "      <td>-3.954055e+00</td>\n",
       "      <td>-6.042891e+00</td>\n",
       "      <td>-3.854579e+00</td>\n",
       "      <td>-4.603088e+00</td>\n",
       "      <td>-2.312119e+00</td>\n",
       "      <td>-9.160974e+00</td>\n",
       "      <td>-1.052430e+01</td>\n",
       "    </tr>\n",
       "    <tr>\n",
       "      <th>25%</th>\n",
       "      <td>80.500000</td>\n",
       "      <td>-3.834754e-01</td>\n",
       "      <td>-6.242652e-01</td>\n",
       "      <td>-5.620981e-01</td>\n",
       "      <td>-5.724524e-01</td>\n",
       "      <td>-6.381705e-01</td>\n",
       "      <td>-5.820169e-01</td>\n",
       "      <td>-6.755867e-01</td>\n",
       "      <td>-5.916857e-01</td>\n",
       "      <td>-5.210450e-01</td>\n",
       "      <td>-6.553694e-01</td>\n",
       "      <td>-4.585748e-01</td>\n",
       "      <td>-5.755291e-01</td>\n",
       "      <td>-4.624863e-01</td>\n",
       "      <td>-2.169760e-01</td>\n",
       "      <td>-5.948099e-01</td>\n",
       "      <td>-5.490508e-01</td>\n",
       "      <td>-7.539266e-01</td>\n",
       "      <td>-2.772837e-01</td>\n",
       "      <td>-4.405917e-02</td>\n",
       "    </tr>\n",
       "    <tr>\n",
       "      <th>50%</th>\n",
       "      <td>156.000000</td>\n",
       "      <td>2.178426e-02</td>\n",
       "      <td>-2.571788e-02</td>\n",
       "      <td>-6.522170e-02</td>\n",
       "      <td>-9.491364e-02</td>\n",
       "      <td>-1.007306e-01</td>\n",
       "      <td>-7.720205e-02</td>\n",
       "      <td>9.754577e-03</td>\n",
       "      <td>-5.351127e-02</td>\n",
       "      <td>-4.740022e-02</td>\n",
       "      <td>4.555298e-02</td>\n",
       "      <td>3.360083e-02</td>\n",
       "      <td>-8.262975e-02</td>\n",
       "      <td>-1.487170e-01</td>\n",
       "      <td>4.385546e-02</td>\n",
       "      <td>1.456877e-02</td>\n",
       "      <td>-1.389741e-02</td>\n",
       "      <td>1.084102e-01</td>\n",
       "      <td>-7.173693e-02</td>\n",
       "      <td>2.018497e-02</td>\n",
       "    </tr>\n",
       "    <tr>\n",
       "      <th>75%</th>\n",
       "      <td>234.500000</td>\n",
       "      <td>4.560366e-01</td>\n",
       "      <td>6.162618e-01</td>\n",
       "      <td>6.030152e-01</td>\n",
       "      <td>5.686699e-01</td>\n",
       "      <td>6.629737e-01</td>\n",
       "      <td>6.141918e-01</td>\n",
       "      <td>7.416108e-01</td>\n",
       "      <td>7.399005e-01</td>\n",
       "      <td>4.824446e-01</td>\n",
       "      <td>6.462496e-01</td>\n",
       "      <td>4.711906e-01</td>\n",
       "      <td>5.529895e-01</td>\n",
       "      <td>5.433786e-01</td>\n",
       "      <td>3.000042e-01</td>\n",
       "      <td>6.391738e-01</td>\n",
       "      <td>6.175646e-01</td>\n",
       "      <td>6.226227e-01</td>\n",
       "      <td>2.437991e-01</td>\n",
       "      <td>6.372902e-02</td>\n",
       "    </tr>\n",
       "    <tr>\n",
       "      <th>max</th>\n",
       "      <td>312.000000</td>\n",
       "      <td>4.638354e+00</td>\n",
       "      <td>3.042289e+00</td>\n",
       "      <td>2.742120e+00</td>\n",
       "      <td>3.508829e+00</td>\n",
       "      <td>2.925619e+00</td>\n",
       "      <td>2.399775e+00</td>\n",
       "      <td>2.634560e+00</td>\n",
       "      <td>2.574808e+00</td>\n",
       "      <td>2.775402e+00</td>\n",
       "      <td>3.342907e+00</td>\n",
       "      <td>3.607041e+00</td>\n",
       "      <td>2.839295e+00</td>\n",
       "      <td>6.349962e+00</td>\n",
       "      <td>9.052354e+00</td>\n",
       "      <td>3.001611e+00</td>\n",
       "      <td>3.224333e+00</td>\n",
       "      <td>2.948375e+00</td>\n",
       "      <td>6.018238e+00</td>\n",
       "      <td>7.507126e+00</td>\n",
       "    </tr>\n",
       "  </tbody>\n",
       "</table>\n",
       "</div>"
      ],
      "text/plain": [
       "       Unnamed: 0   Wage CPI_LG        WTI_LG  Heating Oil_LG     Copper_LG  \\\n",
       "count  219.000000  2.190000e+02  2.190000e+02    2.190000e+02  2.190000e+02   \n",
       "mean   156.726027  1.112758e-16  4.106304e-17    2.116521e-17 -3.330827e-17   \n",
       "std     89.981485  1.002291e+00  1.002291e+00    1.002291e+00  1.002291e+00   \n",
       "min      0.000000 -3.864340e+00 -3.004277e+00   -2.834792e+00 -4.919980e+00   \n",
       "25%     80.500000 -3.834754e-01 -6.242652e-01   -5.620981e-01 -5.724524e-01   \n",
       "50%    156.000000  2.178426e-02 -2.571788e-02   -6.522170e-02 -9.491364e-02   \n",
       "75%    234.500000  4.560366e-01  6.162618e-01    6.030152e-01  5.686699e-01   \n",
       "max    312.000000  4.638354e+00  3.042289e+00    2.742120e+00  3.508829e+00   \n",
       "\n",
       "           Sugar_LG  Natural Gas_LG     Cattle_LG  Lean Hogs_LG   Soybeans_LG  \\\n",
       "count  2.190000e+02    2.190000e+02  2.190000e+02  2.190000e+02  2.190000e+02   \n",
       "mean   9.632072e-18    5.373682e-17 -5.677853e-17  2.788231e-17  2.686841e-17   \n",
       "std    1.002291e+00    1.002291e+00  1.002291e+00  1.002291e+00  1.002291e+00   \n",
       "min   -3.368354e+00   -2.596777e+00 -2.833104e+00 -2.399538e+00 -3.462072e+00   \n",
       "25%   -6.381705e-01   -5.820169e-01 -6.755867e-01 -5.916857e-01 -5.210450e-01   \n",
       "50%   -1.007306e-01   -7.720205e-02  9.754577e-03 -5.351127e-02 -4.740022e-02   \n",
       "75%    6.629737e-01    6.141918e-01  7.416108e-01  7.399005e-01  4.824446e-01   \n",
       "max    2.925619e+00    2.399775e+00  2.634560e+00  2.574808e+00  2.775402e+00   \n",
       "\n",
       "          Lumber_LG  Capacity Utilization_LG       Corn_LG  M2 Velocity_LG  \\\n",
       "count  2.190000e+02             2.190000e+02  2.190000e+02    2.190000e+02   \n",
       "mean  -5.322987e-18            -4.537213e-17 -6.362237e-17   -1.774329e-17   \n",
       "std    1.002291e+00             1.002291e+00  1.002291e+00    1.002291e+00   \n",
       "min   -2.860781e+00            -3.452302e+00 -3.293396e+00   -3.954055e+00   \n",
       "25%   -6.553694e-01            -4.585748e-01 -5.755291e-01   -4.624863e-01   \n",
       "50%    4.555298e-02             3.360083e-02 -8.262975e-02   -1.487170e-01   \n",
       "75%    6.462496e-01             4.711906e-01  5.529895e-01    5.433786e-01   \n",
       "max    3.342907e+00             3.607041e+00  2.839295e+00    6.349962e+00   \n",
       "\n",
       "             GDP_LG      Wheat_LG        PMI_LG  USD Index_LG  \\\n",
       "count  2.190000e+02  2.190000e+02  2.190000e+02  2.190000e+02   \n",
       "mean  -8.668865e-17  4.080957e-17 -4.118978e-17  4.562560e-18   \n",
       "std    1.002291e+00  1.002291e+00  1.002291e+00  1.002291e+00   \n",
       "min   -6.042891e+00 -3.854579e+00 -4.603088e+00 -2.312119e+00   \n",
       "25%   -2.169760e-01 -5.948099e-01 -5.490508e-01 -7.539266e-01   \n",
       "50%    4.385546e-02  1.456877e-02 -1.389741e-02  1.084102e-01   \n",
       "75%    3.000042e-01  6.391738e-01  6.175646e-01  6.226227e-01   \n",
       "max    9.052354e+00  3.001611e+00  3.224333e+00  2.948375e+00   \n",
       "\n",
       "       Unemployment Rate_LG  Initial Jobless Claims_LG  \n",
       "count          2.190000e+02               2.190000e+02  \n",
       "mean           1.622244e-17               1.977109e-17  \n",
       "std            1.002291e+00               1.002291e+00  \n",
       "min           -9.160974e+00              -1.052430e+01  \n",
       "25%           -2.772837e-01              -4.405917e-02  \n",
       "50%           -7.173693e-02               2.018497e-02  \n",
       "75%            2.437991e-01               6.372902e-02  \n",
       "max            6.018238e+00               7.507126e+00  "
      ]
     },
     "execution_count": 29,
     "metadata": {},
     "output_type": "execute_result"
    }
   ],
   "source": [
    "X_train_LG_y_uns.describe()"
   ]
  },
  {
   "cell_type": "code",
   "execution_count": 30,
   "metadata": {},
   "outputs": [],
   "source": [
    "X_train_LG_y_uns = X_train_LG_y_uns.drop(['Unnamed: 0'], axis=1)"
   ]
  },
  {
   "cell_type": "code",
   "execution_count": 31,
   "metadata": {},
   "outputs": [
    {
     "data": {
      "text/html": [
       "<div>\n",
       "<style scoped>\n",
       "    .dataframe tbody tr th:only-of-type {\n",
       "        vertical-align: middle;\n",
       "    }\n",
       "\n",
       "    .dataframe tbody tr th {\n",
       "        vertical-align: top;\n",
       "    }\n",
       "\n",
       "    .dataframe thead th {\n",
       "        text-align: right;\n",
       "    }\n",
       "</style>\n",
       "<table border=\"1\" class=\"dataframe\">\n",
       "  <thead>\n",
       "    <tr style=\"text-align: right;\">\n",
       "      <th></th>\n",
       "      <th>Unnamed: 0</th>\n",
       "      <th>Inflation</th>\n",
       "    </tr>\n",
       "  </thead>\n",
       "  <tbody>\n",
       "    <tr>\n",
       "      <th>count</th>\n",
       "      <td>219.000000</td>\n",
       "      <td>219.000000</td>\n",
       "    </tr>\n",
       "    <tr>\n",
       "      <th>mean</th>\n",
       "      <td>156.726027</td>\n",
       "      <td>-0.053498</td>\n",
       "    </tr>\n",
       "    <tr>\n",
       "      <th>std</th>\n",
       "      <td>89.981485</td>\n",
       "      <td>0.857330</td>\n",
       "    </tr>\n",
       "    <tr>\n",
       "      <th>min</th>\n",
       "      <td>0.000000</td>\n",
       "      <td>-4.846000</td>\n",
       "    </tr>\n",
       "    <tr>\n",
       "      <th>25%</th>\n",
       "      <td>80.500000</td>\n",
       "      <td>-0.440500</td>\n",
       "    </tr>\n",
       "    <tr>\n",
       "      <th>50%</th>\n",
       "      <td>156.000000</td>\n",
       "      <td>-0.033000</td>\n",
       "    </tr>\n",
       "    <tr>\n",
       "      <th>75%</th>\n",
       "      <td>234.500000</td>\n",
       "      <td>0.322000</td>\n",
       "    </tr>\n",
       "    <tr>\n",
       "      <th>max</th>\n",
       "      <td>312.000000</td>\n",
       "      <td>4.007000</td>\n",
       "    </tr>\n",
       "  </tbody>\n",
       "</table>\n",
       "</div>"
      ],
      "text/plain": [
       "       Unnamed: 0   Inflation\n",
       "count  219.000000  219.000000\n",
       "mean   156.726027   -0.053498\n",
       "std     89.981485    0.857330\n",
       "min      0.000000   -4.846000\n",
       "25%     80.500000   -0.440500\n",
       "50%    156.000000   -0.033000\n",
       "75%    234.500000    0.322000\n",
       "max    312.000000    4.007000"
      ]
     },
     "execution_count": 31,
     "metadata": {},
     "output_type": "execute_result"
    }
   ],
   "source": [
    "y_train_LG_y_uns.describe()"
   ]
  },
  {
   "cell_type": "code",
   "execution_count": 32,
   "metadata": {},
   "outputs": [],
   "source": [
    "y_train_LG_y_uns = y_train_LG_y_uns.drop(['Unnamed: 0'], axis=1)"
   ]
  },
  {
   "cell_type": "code",
   "execution_count": 33,
   "metadata": {},
   "outputs": [
    {
     "data": {
      "text/html": [
       "<div>\n",
       "<style scoped>\n",
       "    .dataframe tbody tr th:only-of-type {\n",
       "        vertical-align: middle;\n",
       "    }\n",
       "\n",
       "    .dataframe tbody tr th {\n",
       "        vertical-align: top;\n",
       "    }\n",
       "\n",
       "    .dataframe thead th {\n",
       "        text-align: right;\n",
       "    }\n",
       "</style>\n",
       "<table border=\"1\" class=\"dataframe\">\n",
       "  <thead>\n",
       "    <tr style=\"text-align: right;\">\n",
       "      <th></th>\n",
       "      <th>Unnamed: 0</th>\n",
       "      <th>Wage CPI_LG</th>\n",
       "      <th>WTI_LG</th>\n",
       "      <th>Heating Oil_LG</th>\n",
       "      <th>Copper_LG</th>\n",
       "      <th>Sugar_LG</th>\n",
       "      <th>Natural Gas_LG</th>\n",
       "      <th>Cattle_LG</th>\n",
       "      <th>Lean Hogs_LG</th>\n",
       "      <th>Soybeans_LG</th>\n",
       "      <th>Lumber_LG</th>\n",
       "      <th>Capacity Utilization_LG</th>\n",
       "      <th>Corn_LG</th>\n",
       "      <th>M2 Velocity_LG</th>\n",
       "      <th>GDP_LG</th>\n",
       "      <th>Wheat_LG</th>\n",
       "      <th>PMI_LG</th>\n",
       "      <th>USD Index_LG</th>\n",
       "      <th>Unemployment Rate_LG</th>\n",
       "      <th>Initial Jobless Claims_LG</th>\n",
       "    </tr>\n",
       "  </thead>\n",
       "  <tbody>\n",
       "    <tr>\n",
       "      <th>count</th>\n",
       "      <td>94.000000</td>\n",
       "      <td>94.000000</td>\n",
       "      <td>94.000000</td>\n",
       "      <td>94.000000</td>\n",
       "      <td>94.000000</td>\n",
       "      <td>94.000000</td>\n",
       "      <td>94.000000</td>\n",
       "      <td>94.000000</td>\n",
       "      <td>94.000000</td>\n",
       "      <td>94.000000</td>\n",
       "      <td>94.000000</td>\n",
       "      <td>94.000000</td>\n",
       "      <td>94.000000</td>\n",
       "      <td>94.000000</td>\n",
       "      <td>94.000000</td>\n",
       "      <td>94.000000</td>\n",
       "      <td>94.000000</td>\n",
       "      <td>94.000000</td>\n",
       "      <td>94.000000</td>\n",
       "      <td>94.000000</td>\n",
       "    </tr>\n",
       "    <tr>\n",
       "      <th>mean</th>\n",
       "      <td>154.308511</td>\n",
       "      <td>-0.048045</td>\n",
       "      <td>0.003998</td>\n",
       "      <td>-0.047118</td>\n",
       "      <td>-0.161938</td>\n",
       "      <td>0.123452</td>\n",
       "      <td>-0.057807</td>\n",
       "      <td>-0.041445</td>\n",
       "      <td>0.041096</td>\n",
       "      <td>0.007478</td>\n",
       "      <td>0.124216</td>\n",
       "      <td>0.531796</td>\n",
       "      <td>-0.013118</td>\n",
       "      <td>0.123268</td>\n",
       "      <td>0.159476</td>\n",
       "      <td>-0.022034</td>\n",
       "      <td>-0.029349</td>\n",
       "      <td>0.083582</td>\n",
       "      <td>-0.422558</td>\n",
       "      <td>-0.431008</td>\n",
       "    </tr>\n",
       "    <tr>\n",
       "      <th>std</th>\n",
       "      <td>92.158935</td>\n",
       "      <td>0.907698</td>\n",
       "      <td>1.021481</td>\n",
       "      <td>0.853147</td>\n",
       "      <td>0.990601</td>\n",
       "      <td>0.899065</td>\n",
       "      <td>1.013582</td>\n",
       "      <td>0.983241</td>\n",
       "      <td>1.007719</td>\n",
       "      <td>1.095473</td>\n",
       "      <td>1.278398</td>\n",
       "      <td>3.514545</td>\n",
       "      <td>1.220314</td>\n",
       "      <td>1.357368</td>\n",
       "      <td>1.550596</td>\n",
       "      <td>1.001748</td>\n",
       "      <td>0.990415</td>\n",
       "      <td>0.957555</td>\n",
       "      <td>2.500914</td>\n",
       "      <td>2.741489</td>\n",
       "    </tr>\n",
       "    <tr>\n",
       "      <th>min</th>\n",
       "      <td>3.000000</td>\n",
       "      <td>-4.138783</td>\n",
       "      <td>-3.022382</td>\n",
       "      <td>-2.767646</td>\n",
       "      <td>-4.805847</td>\n",
       "      <td>-1.616651</td>\n",
       "      <td>-2.491133</td>\n",
       "      <td>-2.577495</td>\n",
       "      <td>-1.646983</td>\n",
       "      <td>-2.729864</td>\n",
       "      <td>-2.644070</td>\n",
       "      <td>-3.479724</td>\n",
       "      <td>-2.947103</td>\n",
       "      <td>-3.954055</td>\n",
       "      <td>-6.042891</td>\n",
       "      <td>-2.472956</td>\n",
       "      <td>-3.629967</td>\n",
       "      <td>-2.250001</td>\n",
       "      <td>-16.854763</td>\n",
       "      <td>-23.033517</td>\n",
       "    </tr>\n",
       "    <tr>\n",
       "      <th>25%</th>\n",
       "      <td>76.250000</td>\n",
       "      <td>-0.530851</td>\n",
       "      <td>-0.520854</td>\n",
       "      <td>-0.541442</td>\n",
       "      <td>-0.729626</td>\n",
       "      <td>-0.462850</td>\n",
       "      <td>-0.735979</td>\n",
       "      <td>-0.772889</td>\n",
       "      <td>-0.707323</td>\n",
       "      <td>-0.664382</td>\n",
       "      <td>-0.766113</td>\n",
       "      <td>-0.393630</td>\n",
       "      <td>-0.695743</td>\n",
       "      <td>-0.457238</td>\n",
       "      <td>-0.149510</td>\n",
       "      <td>-0.741011</td>\n",
       "      <td>-0.647270</td>\n",
       "      <td>-0.553747</td>\n",
       "      <td>-0.348457</td>\n",
       "      <td>-0.042083</td>\n",
       "    </tr>\n",
       "    <tr>\n",
       "      <th>50%</th>\n",
       "      <td>152.500000</td>\n",
       "      <td>0.070022</td>\n",
       "      <td>-0.042497</td>\n",
       "      <td>-0.124654</td>\n",
       "      <td>-0.124933</td>\n",
       "      <td>0.020949</td>\n",
       "      <td>-0.052213</td>\n",
       "      <td>0.006270</td>\n",
       "      <td>-0.101180</td>\n",
       "      <td>-0.155957</td>\n",
       "      <td>0.007986</td>\n",
       "      <td>0.086237</td>\n",
       "      <td>-0.034993</td>\n",
       "      <td>-0.006430</td>\n",
       "      <td>0.070792</td>\n",
       "      <td>-0.025737</td>\n",
       "      <td>0.008901</td>\n",
       "      <td>0.053312</td>\n",
       "      <td>-0.138910</td>\n",
       "      <td>0.010413</td>\n",
       "    </tr>\n",
       "    <tr>\n",
       "      <th>75%</th>\n",
       "      <td>228.750000</td>\n",
       "      <td>0.388889</td>\n",
       "      <td>0.528902</td>\n",
       "      <td>0.395991</td>\n",
       "      <td>0.354593</td>\n",
       "      <td>0.681843</td>\n",
       "      <td>0.698256</td>\n",
       "      <td>0.681600</td>\n",
       "      <td>0.681418</td>\n",
       "      <td>0.764234</td>\n",
       "      <td>0.861282</td>\n",
       "      <td>0.450895</td>\n",
       "      <td>0.475157</td>\n",
       "      <td>0.614669</td>\n",
       "      <td>0.428787</td>\n",
       "      <td>0.599602</td>\n",
       "      <td>0.458863</td>\n",
       "      <td>0.758699</td>\n",
       "      <td>0.121570</td>\n",
       "      <td>0.048695</td>\n",
       "    </tr>\n",
       "    <tr>\n",
       "      <th>max</th>\n",
       "      <td>310.000000</td>\n",
       "      <td>2.758862</td>\n",
       "      <td>4.589840</td>\n",
       "      <td>2.042987</td>\n",
       "      <td>2.563405</td>\n",
       "      <td>2.545349</td>\n",
       "      <td>1.725179</td>\n",
       "      <td>2.948846</td>\n",
       "      <td>2.555352</td>\n",
       "      <td>2.956581</td>\n",
       "      <td>4.746567</td>\n",
       "      <td>29.132633</td>\n",
       "      <td>3.727261</td>\n",
       "      <td>6.349962</td>\n",
       "      <td>9.052354</td>\n",
       "      <td>3.005600</td>\n",
       "      <td>2.845329</td>\n",
       "      <td>2.295675</td>\n",
       "      <td>6.893727</td>\n",
       "      <td>2.709870</td>\n",
       "    </tr>\n",
       "  </tbody>\n",
       "</table>\n",
       "</div>"
      ],
      "text/plain": [
       "       Unnamed: 0  Wage CPI_LG     WTI_LG  Heating Oil_LG  Copper_LG  \\\n",
       "count   94.000000    94.000000  94.000000       94.000000  94.000000   \n",
       "mean   154.308511    -0.048045   0.003998       -0.047118  -0.161938   \n",
       "std     92.158935     0.907698   1.021481        0.853147   0.990601   \n",
       "min      3.000000    -4.138783  -3.022382       -2.767646  -4.805847   \n",
       "25%     76.250000    -0.530851  -0.520854       -0.541442  -0.729626   \n",
       "50%    152.500000     0.070022  -0.042497       -0.124654  -0.124933   \n",
       "75%    228.750000     0.388889   0.528902        0.395991   0.354593   \n",
       "max    310.000000     2.758862   4.589840        2.042987   2.563405   \n",
       "\n",
       "        Sugar_LG  Natural Gas_LG  Cattle_LG  Lean Hogs_LG  Soybeans_LG  \\\n",
       "count  94.000000       94.000000  94.000000     94.000000    94.000000   \n",
       "mean    0.123452       -0.057807  -0.041445      0.041096     0.007478   \n",
       "std     0.899065        1.013582   0.983241      1.007719     1.095473   \n",
       "min    -1.616651       -2.491133  -2.577495     -1.646983    -2.729864   \n",
       "25%    -0.462850       -0.735979  -0.772889     -0.707323    -0.664382   \n",
       "50%     0.020949       -0.052213   0.006270     -0.101180    -0.155957   \n",
       "75%     0.681843        0.698256   0.681600      0.681418     0.764234   \n",
       "max     2.545349        1.725179   2.948846      2.555352     2.956581   \n",
       "\n",
       "       Lumber_LG  Capacity Utilization_LG    Corn_LG  M2 Velocity_LG  \\\n",
       "count  94.000000                94.000000  94.000000       94.000000   \n",
       "mean    0.124216                 0.531796  -0.013118        0.123268   \n",
       "std     1.278398                 3.514545   1.220314        1.357368   \n",
       "min    -2.644070                -3.479724  -2.947103       -3.954055   \n",
       "25%    -0.766113                -0.393630  -0.695743       -0.457238   \n",
       "50%     0.007986                 0.086237  -0.034993       -0.006430   \n",
       "75%     0.861282                 0.450895   0.475157        0.614669   \n",
       "max     4.746567                29.132633   3.727261        6.349962   \n",
       "\n",
       "          GDP_LG   Wheat_LG     PMI_LG  USD Index_LG  Unemployment Rate_LG  \\\n",
       "count  94.000000  94.000000  94.000000     94.000000             94.000000   \n",
       "mean    0.159476  -0.022034  -0.029349      0.083582             -0.422558   \n",
       "std     1.550596   1.001748   0.990415      0.957555              2.500914   \n",
       "min    -6.042891  -2.472956  -3.629967     -2.250001            -16.854763   \n",
       "25%    -0.149510  -0.741011  -0.647270     -0.553747             -0.348457   \n",
       "50%     0.070792  -0.025737   0.008901      0.053312             -0.138910   \n",
       "75%     0.428787   0.599602   0.458863      0.758699              0.121570   \n",
       "max     9.052354   3.005600   2.845329      2.295675              6.893727   \n",
       "\n",
       "       Initial Jobless Claims_LG  \n",
       "count                  94.000000  \n",
       "mean                   -0.431008  \n",
       "std                     2.741489  \n",
       "min                   -23.033517  \n",
       "25%                    -0.042083  \n",
       "50%                     0.010413  \n",
       "75%                     0.048695  \n",
       "max                     2.709870  "
      ]
     },
     "execution_count": 33,
     "metadata": {},
     "output_type": "execute_result"
    }
   ],
   "source": [
    "X_test_LG_y_uns.describe()"
   ]
  },
  {
   "cell_type": "code",
   "execution_count": 34,
   "metadata": {},
   "outputs": [],
   "source": [
    "X_test_LG_y_uns = X_test_LG_y_uns.drop(['Unnamed: 0'], axis=1)"
   ]
  },
  {
   "cell_type": "code",
   "execution_count": 35,
   "metadata": {},
   "outputs": [
    {
     "data": {
      "text/html": [
       "<div>\n",
       "<style scoped>\n",
       "    .dataframe tbody tr th:only-of-type {\n",
       "        vertical-align: middle;\n",
       "    }\n",
       "\n",
       "    .dataframe tbody tr th {\n",
       "        vertical-align: top;\n",
       "    }\n",
       "\n",
       "    .dataframe thead th {\n",
       "        text-align: right;\n",
       "    }\n",
       "</style>\n",
       "<table border=\"1\" class=\"dataframe\">\n",
       "  <thead>\n",
       "    <tr style=\"text-align: right;\">\n",
       "      <th></th>\n",
       "      <th>Unnamed: 0</th>\n",
       "      <th>Inflation_LG</th>\n",
       "    </tr>\n",
       "  </thead>\n",
       "  <tbody>\n",
       "    <tr>\n",
       "      <th>count</th>\n",
       "      <td>94.000000</td>\n",
       "      <td>94.000000</td>\n",
       "    </tr>\n",
       "    <tr>\n",
       "      <th>mean</th>\n",
       "      <td>154.308511</td>\n",
       "      <td>0.117902</td>\n",
       "    </tr>\n",
       "    <tr>\n",
       "      <th>std</th>\n",
       "      <td>92.158935</td>\n",
       "      <td>0.892094</td>\n",
       "    </tr>\n",
       "    <tr>\n",
       "      <th>min</th>\n",
       "      <td>3.000000</td>\n",
       "      <td>-4.000923</td>\n",
       "    </tr>\n",
       "    <tr>\n",
       "      <th>25%</th>\n",
       "      <td>76.250000</td>\n",
       "      <td>-0.301644</td>\n",
       "    </tr>\n",
       "    <tr>\n",
       "      <th>50%</th>\n",
       "      <td>152.500000</td>\n",
       "      <td>0.048869</td>\n",
       "    </tr>\n",
       "    <tr>\n",
       "      <th>75%</th>\n",
       "      <td>228.750000</td>\n",
       "      <td>0.493321</td>\n",
       "    </tr>\n",
       "    <tr>\n",
       "      <th>max</th>\n",
       "      <td>310.000000</td>\n",
       "      <td>3.483072</td>\n",
       "    </tr>\n",
       "  </tbody>\n",
       "</table>\n",
       "</div>"
      ],
      "text/plain": [
       "       Unnamed: 0  Inflation_LG\n",
       "count   94.000000     94.000000\n",
       "mean   154.308511      0.117902\n",
       "std     92.158935      0.892094\n",
       "min      3.000000     -4.000923\n",
       "25%     76.250000     -0.301644\n",
       "50%    152.500000      0.048869\n",
       "75%    228.750000      0.493321\n",
       "max    310.000000      3.483072"
      ]
     },
     "execution_count": 35,
     "metadata": {},
     "output_type": "execute_result"
    }
   ],
   "source": [
    "y_test_LG_y_uns.describe()"
   ]
  },
  {
   "cell_type": "code",
   "execution_count": 36,
   "metadata": {},
   "outputs": [],
   "source": [
    "y_test_LG_y_uns = y_test_LG_y_uns.drop(['Unnamed: 0'], axis=1)"
   ]
  },
  {
   "cell_type": "markdown",
   "metadata": {},
   "source": [
    "`Mean` should be 0 `Std` should be 1 for `X` but not `y`"
   ]
  },
  {
   "cell_type": "code",
   "execution_count": 37,
   "metadata": {},
   "outputs": [
    {
     "data": {
      "text/html": [
       "<div>\n",
       "<style scoped>\n",
       "    .dataframe tbody tr th:only-of-type {\n",
       "        vertical-align: middle;\n",
       "    }\n",
       "\n",
       "    .dataframe tbody tr th {\n",
       "        vertical-align: top;\n",
       "    }\n",
       "\n",
       "    .dataframe thead th {\n",
       "        text-align: right;\n",
       "    }\n",
       "</style>\n",
       "<table border=\"1\" class=\"dataframe\">\n",
       "  <thead>\n",
       "    <tr style=\"text-align: right;\">\n",
       "      <th></th>\n",
       "      <th>Unnamed: 0</th>\n",
       "      <th>WTI_SS_yun</th>\n",
       "      <th>Copper_SS_yun</th>\n",
       "      <th>Soybeans_SS_yun</th>\n",
       "      <th>Natural Gas_SS_yun</th>\n",
       "      <th>Heating Oil_SS_yun</th>\n",
       "      <th>Corn_SS_yun</th>\n",
       "      <th>Wheat_SS_yun</th>\n",
       "      <th>Cattle_SS_yun</th>\n",
       "      <th>Lean Hogs_SS_yun</th>\n",
       "      <th>Sugar_SS_yun</th>\n",
       "      <th>Lumber_SS_yun</th>\n",
       "      <th>PMI_SS_yun</th>\n",
       "      <th>USD Index_SS_yun</th>\n",
       "      <th>Wages CPI_LG</th>\n",
       "      <th>Capacity Utilization_LG</th>\n",
       "      <th>GDP_LG</th>\n",
       "      <th>M2 Velocity_LG</th>\n",
       "      <th>Initial Jobless Claims_LG</th>\n",
       "      <th>Unemployment Rate_LG</th>\n",
       "    </tr>\n",
       "  </thead>\n",
       "  <tbody>\n",
       "    <tr>\n",
       "      <th>count</th>\n",
       "      <td>219.000000</td>\n",
       "      <td>2.190000e+02</td>\n",
       "      <td>2.190000e+02</td>\n",
       "      <td>2.190000e+02</td>\n",
       "      <td>2.190000e+02</td>\n",
       "      <td>2.190000e+02</td>\n",
       "      <td>2.190000e+02</td>\n",
       "      <td>2.190000e+02</td>\n",
       "      <td>2.190000e+02</td>\n",
       "      <td>2.190000e+02</td>\n",
       "      <td>2.190000e+02</td>\n",
       "      <td>2.190000e+02</td>\n",
       "      <td>2.190000e+02</td>\n",
       "      <td>2.190000e+02</td>\n",
       "      <td>2.190000e+02</td>\n",
       "      <td>2.190000e+02</td>\n",
       "      <td>2.190000e+02</td>\n",
       "      <td>2.190000e+02</td>\n",
       "      <td>2.190000e+02</td>\n",
       "      <td>2.190000e+02</td>\n",
       "    </tr>\n",
       "    <tr>\n",
       "      <th>mean</th>\n",
       "      <td>156.726027</td>\n",
       "      <td>3.700743e-17</td>\n",
       "      <td>-5.132088e-17</td>\n",
       "      <td>6.666408e-17</td>\n",
       "      <td>-4.816036e-17</td>\n",
       "      <td>-5.272292e-17</td>\n",
       "      <td>-2.712189e-17</td>\n",
       "      <td>-1.419463e-17</td>\n",
       "      <td>8.618170e-18</td>\n",
       "      <td>-7.097316e-18</td>\n",
       "      <td>4.511865e-17</td>\n",
       "      <td>-2.382670e-17</td>\n",
       "      <td>2.192564e-17</td>\n",
       "      <td>2.838926e-17</td>\n",
       "      <td>1.112758e-16</td>\n",
       "      <td>-4.537213e-17</td>\n",
       "      <td>-1.774329e-17</td>\n",
       "      <td>-8.668865e-17</td>\n",
       "      <td>1.622244e-17</td>\n",
       "      <td>1.977109e-17</td>\n",
       "    </tr>\n",
       "    <tr>\n",
       "      <th>std</th>\n",
       "      <td>89.981485</td>\n",
       "      <td>1.002291e+00</td>\n",
       "      <td>1.002291e+00</td>\n",
       "      <td>1.002291e+00</td>\n",
       "      <td>1.002291e+00</td>\n",
       "      <td>1.002291e+00</td>\n",
       "      <td>1.002291e+00</td>\n",
       "      <td>1.002291e+00</td>\n",
       "      <td>1.002291e+00</td>\n",
       "      <td>1.002291e+00</td>\n",
       "      <td>1.002291e+00</td>\n",
       "      <td>1.002291e+00</td>\n",
       "      <td>1.002291e+00</td>\n",
       "      <td>1.002291e+00</td>\n",
       "      <td>1.002291e+00</td>\n",
       "      <td>1.002291e+00</td>\n",
       "      <td>1.002291e+00</td>\n",
       "      <td>1.002291e+00</td>\n",
       "      <td>1.002291e+00</td>\n",
       "      <td>1.002291e+00</td>\n",
       "    </tr>\n",
       "    <tr>\n",
       "      <th>min</th>\n",
       "      <td>0.000000</td>\n",
       "      <td>-3.554258e+00</td>\n",
       "      <td>-3.307158e+00</td>\n",
       "      <td>-4.275317e+00</td>\n",
       "      <td>-2.534857e+00</td>\n",
       "      <td>-2.092879e+00</td>\n",
       "      <td>-3.251186e+00</td>\n",
       "      <td>-2.412667e+00</td>\n",
       "      <td>-3.552930e+00</td>\n",
       "      <td>-2.447766e+00</td>\n",
       "      <td>-3.095494e+00</td>\n",
       "      <td>-2.909327e+00</td>\n",
       "      <td>-4.035795e+00</td>\n",
       "      <td>-2.092087e+00</td>\n",
       "      <td>-3.864340e+00</td>\n",
       "      <td>-3.452302e+00</td>\n",
       "      <td>-3.954055e+00</td>\n",
       "      <td>-6.042891e+00</td>\n",
       "      <td>-9.160974e+00</td>\n",
       "      <td>-1.052430e+01</td>\n",
       "    </tr>\n",
       "    <tr>\n",
       "      <th>25%</th>\n",
       "      <td>80.500000</td>\n",
       "      <td>-5.738987e-01</td>\n",
       "      <td>-5.106932e-01</td>\n",
       "      <td>-5.903736e-01</td>\n",
       "      <td>-6.694239e-01</td>\n",
       "      <td>-6.272489e-01</td>\n",
       "      <td>-6.393442e-01</td>\n",
       "      <td>-5.898264e-01</td>\n",
       "      <td>-5.147225e-01</td>\n",
       "      <td>-6.792113e-01</td>\n",
       "      <td>-5.887966e-01</td>\n",
       "      <td>-6.295338e-01</td>\n",
       "      <td>-5.733419e-01</td>\n",
       "      <td>-7.686037e-01</td>\n",
       "      <td>-3.834754e-01</td>\n",
       "      <td>-4.585748e-01</td>\n",
       "      <td>-4.624863e-01</td>\n",
       "      <td>-2.169760e-01</td>\n",
       "      <td>-2.772837e-01</td>\n",
       "      <td>-4.405917e-02</td>\n",
       "    </tr>\n",
       "    <tr>\n",
       "      <th>50%</th>\n",
       "      <td>156.000000</td>\n",
       "      <td>3.652246e-02</td>\n",
       "      <td>-3.546556e-03</td>\n",
       "      <td>-1.277241e-01</td>\n",
       "      <td>-1.992945e-01</td>\n",
       "      <td>-1.776078e-01</td>\n",
       "      <td>6.243175e-02</td>\n",
       "      <td>-5.066135e-02</td>\n",
       "      <td>-3.896558e-02</td>\n",
       "      <td>-2.097464e-02</td>\n",
       "      <td>-1.044398e-01</td>\n",
       "      <td>-7.649249e-02</td>\n",
       "      <td>-6.581613e-02</td>\n",
       "      <td>5.368868e-02</td>\n",
       "      <td>2.178426e-02</td>\n",
       "      <td>3.360083e-02</td>\n",
       "      <td>-1.487170e-01</td>\n",
       "      <td>4.385546e-02</td>\n",
       "      <td>-7.173693e-02</td>\n",
       "      <td>2.018497e-02</td>\n",
       "    </tr>\n",
       "    <tr>\n",
       "      <th>75%</th>\n",
       "      <td>234.500000</td>\n",
       "      <td>6.407473e-01</td>\n",
       "      <td>6.302291e-01</td>\n",
       "      <td>5.419286e-01</td>\n",
       "      <td>5.710310e-01</td>\n",
       "      <td>5.252051e-01</td>\n",
       "      <td>7.571885e-01</td>\n",
       "      <td>7.410920e-01</td>\n",
       "      <td>4.885812e-01</td>\n",
       "      <td>5.957653e-01</td>\n",
       "      <td>5.366638e-01</td>\n",
       "      <td>5.600397e-01</td>\n",
       "      <td>5.883282e-01</td>\n",
       "      <td>5.819297e-01</td>\n",
       "      <td>4.560366e-01</td>\n",
       "      <td>4.711906e-01</td>\n",
       "      <td>5.433786e-01</td>\n",
       "      <td>3.000042e-01</td>\n",
       "      <td>2.437991e-01</td>\n",
       "      <td>6.372902e-02</td>\n",
       "    </tr>\n",
       "    <tr>\n",
       "      <th>max</th>\n",
       "      <td>312.000000</td>\n",
       "      <td>2.605196e+00</td>\n",
       "      <td>2.396819e+00</td>\n",
       "      <td>3.899899e+00</td>\n",
       "      <td>3.949918e+00</td>\n",
       "      <td>2.963685e+00</td>\n",
       "      <td>2.354074e+00</td>\n",
       "      <td>2.559684e+00</td>\n",
       "      <td>2.721410e+00</td>\n",
       "      <td>4.104874e+00</td>\n",
       "      <td>2.995122e+00</td>\n",
       "      <td>3.904325e+00</td>\n",
       "      <td>3.577091e+00</td>\n",
       "      <td>3.428937e+00</td>\n",
       "      <td>4.638354e+00</td>\n",
       "      <td>3.607041e+00</td>\n",
       "      <td>6.349962e+00</td>\n",
       "      <td>9.052354e+00</td>\n",
       "      <td>6.018238e+00</td>\n",
       "      <td>7.507126e+00</td>\n",
       "    </tr>\n",
       "  </tbody>\n",
       "</table>\n",
       "</div>"
      ],
      "text/plain": [
       "       Unnamed: 0    WTI_SS_yun  Copper_SS_yun  Soybeans_SS_yun  \\\n",
       "count  219.000000  2.190000e+02   2.190000e+02     2.190000e+02   \n",
       "mean   156.726027  3.700743e-17  -5.132088e-17     6.666408e-17   \n",
       "std     89.981485  1.002291e+00   1.002291e+00     1.002291e+00   \n",
       "min      0.000000 -3.554258e+00  -3.307158e+00    -4.275317e+00   \n",
       "25%     80.500000 -5.738987e-01  -5.106932e-01    -5.903736e-01   \n",
       "50%    156.000000  3.652246e-02  -3.546556e-03    -1.277241e-01   \n",
       "75%    234.500000  6.407473e-01   6.302291e-01     5.419286e-01   \n",
       "max    312.000000  2.605196e+00   2.396819e+00     3.899899e+00   \n",
       "\n",
       "       Natural Gas_SS_yun  Heating Oil_SS_yun   Corn_SS_yun  Wheat_SS_yun  \\\n",
       "count        2.190000e+02        2.190000e+02  2.190000e+02  2.190000e+02   \n",
       "mean        -4.816036e-17       -5.272292e-17 -2.712189e-17 -1.419463e-17   \n",
       "std          1.002291e+00        1.002291e+00  1.002291e+00  1.002291e+00   \n",
       "min         -2.534857e+00       -2.092879e+00 -3.251186e+00 -2.412667e+00   \n",
       "25%         -6.694239e-01       -6.272489e-01 -6.393442e-01 -5.898264e-01   \n",
       "50%         -1.992945e-01       -1.776078e-01  6.243175e-02 -5.066135e-02   \n",
       "75%          5.710310e-01        5.252051e-01  7.571885e-01  7.410920e-01   \n",
       "max          3.949918e+00        2.963685e+00  2.354074e+00  2.559684e+00   \n",
       "\n",
       "       Cattle_SS_yun  Lean Hogs_SS_yun  Sugar_SS_yun  Lumber_SS_yun  \\\n",
       "count   2.190000e+02      2.190000e+02  2.190000e+02   2.190000e+02   \n",
       "mean    8.618170e-18     -7.097316e-18  4.511865e-17  -2.382670e-17   \n",
       "std     1.002291e+00      1.002291e+00  1.002291e+00   1.002291e+00   \n",
       "min    -3.552930e+00     -2.447766e+00 -3.095494e+00  -2.909327e+00   \n",
       "25%    -5.147225e-01     -6.792113e-01 -5.887966e-01  -6.295338e-01   \n",
       "50%    -3.896558e-02     -2.097464e-02 -1.044398e-01  -7.649249e-02   \n",
       "75%     4.885812e-01      5.957653e-01  5.366638e-01   5.600397e-01   \n",
       "max     2.721410e+00      4.104874e+00  2.995122e+00   3.904325e+00   \n",
       "\n",
       "         PMI_SS_yun  USD Index_SS_yun  Wages CPI_LG  Capacity Utilization_LG  \\\n",
       "count  2.190000e+02      2.190000e+02  2.190000e+02             2.190000e+02   \n",
       "mean   2.192564e-17      2.838926e-17  1.112758e-16            -4.537213e-17   \n",
       "std    1.002291e+00      1.002291e+00  1.002291e+00             1.002291e+00   \n",
       "min   -4.035795e+00     -2.092087e+00 -3.864340e+00            -3.452302e+00   \n",
       "25%   -5.733419e-01     -7.686037e-01 -3.834754e-01            -4.585748e-01   \n",
       "50%   -6.581613e-02      5.368868e-02  2.178426e-02             3.360083e-02   \n",
       "75%    5.883282e-01      5.819297e-01  4.560366e-01             4.711906e-01   \n",
       "max    3.577091e+00      3.428937e+00  4.638354e+00             3.607041e+00   \n",
       "\n",
       "             GDP_LG  M2 Velocity_LG  Initial Jobless Claims_LG  \\\n",
       "count  2.190000e+02    2.190000e+02               2.190000e+02   \n",
       "mean  -1.774329e-17   -8.668865e-17               1.622244e-17   \n",
       "std    1.002291e+00    1.002291e+00               1.002291e+00   \n",
       "min   -3.954055e+00   -6.042891e+00              -9.160974e+00   \n",
       "25%   -4.624863e-01   -2.169760e-01              -2.772837e-01   \n",
       "50%   -1.487170e-01    4.385546e-02              -7.173693e-02   \n",
       "75%    5.433786e-01    3.000042e-01               2.437991e-01   \n",
       "max    6.349962e+00    9.052354e+00               6.018238e+00   \n",
       "\n",
       "       Unemployment Rate_LG  \n",
       "count          2.190000e+02  \n",
       "mean           1.977109e-17  \n",
       "std            1.002291e+00  \n",
       "min           -1.052430e+01  \n",
       "25%           -4.405917e-02  \n",
       "50%            2.018497e-02  \n",
       "75%            6.372902e-02  \n",
       "max            7.507126e+00  "
      ]
     },
     "execution_count": 37,
     "metadata": {},
     "output_type": "execute_result"
    }
   ],
   "source": [
    "X_tr_SS_LG.describe()"
   ]
  },
  {
   "cell_type": "code",
   "execution_count": 38,
   "metadata": {},
   "outputs": [],
   "source": [
    "X_tr_SS_LG = X_tr_SS_LG.drop(['Unnamed: 0'], axis=1)"
   ]
  },
  {
   "cell_type": "code",
   "execution_count": 39,
   "metadata": {},
   "outputs": [
    {
     "data": {
      "text/html": [
       "<div>\n",
       "<style scoped>\n",
       "    .dataframe tbody tr th:only-of-type {\n",
       "        vertical-align: middle;\n",
       "    }\n",
       "\n",
       "    .dataframe tbody tr th {\n",
       "        vertical-align: top;\n",
       "    }\n",
       "\n",
       "    .dataframe thead th {\n",
       "        text-align: right;\n",
       "    }\n",
       "</style>\n",
       "<table border=\"1\" class=\"dataframe\">\n",
       "  <thead>\n",
       "    <tr style=\"text-align: right;\">\n",
       "      <th></th>\n",
       "      <th>Unnamed: 0</th>\n",
       "      <th>Inflation</th>\n",
       "    </tr>\n",
       "  </thead>\n",
       "  <tbody>\n",
       "    <tr>\n",
       "      <th>count</th>\n",
       "      <td>219.000000</td>\n",
       "      <td>219.000000</td>\n",
       "    </tr>\n",
       "    <tr>\n",
       "      <th>mean</th>\n",
       "      <td>156.726027</td>\n",
       "      <td>-0.053498</td>\n",
       "    </tr>\n",
       "    <tr>\n",
       "      <th>std</th>\n",
       "      <td>89.981485</td>\n",
       "      <td>0.857330</td>\n",
       "    </tr>\n",
       "    <tr>\n",
       "      <th>min</th>\n",
       "      <td>0.000000</td>\n",
       "      <td>-4.846000</td>\n",
       "    </tr>\n",
       "    <tr>\n",
       "      <th>25%</th>\n",
       "      <td>80.500000</td>\n",
       "      <td>-0.440500</td>\n",
       "    </tr>\n",
       "    <tr>\n",
       "      <th>50%</th>\n",
       "      <td>156.000000</td>\n",
       "      <td>-0.033000</td>\n",
       "    </tr>\n",
       "    <tr>\n",
       "      <th>75%</th>\n",
       "      <td>234.500000</td>\n",
       "      <td>0.322000</td>\n",
       "    </tr>\n",
       "    <tr>\n",
       "      <th>max</th>\n",
       "      <td>312.000000</td>\n",
       "      <td>4.007000</td>\n",
       "    </tr>\n",
       "  </tbody>\n",
       "</table>\n",
       "</div>"
      ],
      "text/plain": [
       "       Unnamed: 0   Inflation\n",
       "count  219.000000  219.000000\n",
       "mean   156.726027   -0.053498\n",
       "std     89.981485    0.857330\n",
       "min      0.000000   -4.846000\n",
       "25%     80.500000   -0.440500\n",
       "50%    156.000000   -0.033000\n",
       "75%    234.500000    0.322000\n",
       "max    312.000000    4.007000"
      ]
     },
     "execution_count": 39,
     "metadata": {},
     "output_type": "execute_result"
    }
   ],
   "source": [
    "y_tr_y_uns.describe()"
   ]
  },
  {
   "cell_type": "code",
   "execution_count": 40,
   "metadata": {},
   "outputs": [],
   "source": [
    "y_tr_y_uns = y_tr_y_uns.drop(['Unnamed: 0'], axis=1)"
   ]
  },
  {
   "cell_type": "code",
   "execution_count": 41,
   "metadata": {},
   "outputs": [
    {
     "data": {
      "text/html": [
       "<div>\n",
       "<style scoped>\n",
       "    .dataframe tbody tr th:only-of-type {\n",
       "        vertical-align: middle;\n",
       "    }\n",
       "\n",
       "    .dataframe tbody tr th {\n",
       "        vertical-align: top;\n",
       "    }\n",
       "\n",
       "    .dataframe thead th {\n",
       "        text-align: right;\n",
       "    }\n",
       "</style>\n",
       "<table border=\"1\" class=\"dataframe\">\n",
       "  <thead>\n",
       "    <tr style=\"text-align: right;\">\n",
       "      <th></th>\n",
       "      <th>Unnamed: 0</th>\n",
       "      <th>WTI_SS_yun</th>\n",
       "      <th>Copper_SS_yun</th>\n",
       "      <th>Soybeans_SS_yun</th>\n",
       "      <th>Natural Gas_SS_yun</th>\n",
       "      <th>Heating Oil_SS_yun</th>\n",
       "      <th>Corn_SS_yun</th>\n",
       "      <th>Wheat_SS_yun</th>\n",
       "      <th>Cattle_SS_yun</th>\n",
       "      <th>Lean Hogs_SS_yun</th>\n",
       "      <th>Sugar_SS_yun</th>\n",
       "      <th>Lumber_SS_yun</th>\n",
       "      <th>PMI_SS_yun</th>\n",
       "      <th>USD Index_SS_yun</th>\n",
       "      <th>Wages CPI_LG</th>\n",
       "      <th>Capacity Utilization_LG</th>\n",
       "      <th>GDP_LG</th>\n",
       "      <th>M2 Velocity_LG</th>\n",
       "      <th>Initial Jobless Claims_LG</th>\n",
       "      <th>Unemployment Rate_LG</th>\n",
       "    </tr>\n",
       "  </thead>\n",
       "  <tbody>\n",
       "    <tr>\n",
       "      <th>count</th>\n",
       "      <td>94.000000</td>\n",
       "      <td>94.000000</td>\n",
       "      <td>94.000000</td>\n",
       "      <td>94.000000</td>\n",
       "      <td>94.000000</td>\n",
       "      <td>94.000000</td>\n",
       "      <td>94.000000</td>\n",
       "      <td>94.000000</td>\n",
       "      <td>94.000000</td>\n",
       "      <td>94.000000</td>\n",
       "      <td>94.000000</td>\n",
       "      <td>94.000000</td>\n",
       "      <td>94.000000</td>\n",
       "      <td>94.000000</td>\n",
       "      <td>94.000000</td>\n",
       "      <td>94.000000</td>\n",
       "      <td>94.000000</td>\n",
       "      <td>94.000000</td>\n",
       "      <td>94.000000</td>\n",
       "      <td>94.000000</td>\n",
       "    </tr>\n",
       "    <tr>\n",
       "      <th>mean</th>\n",
       "      <td>154.308511</td>\n",
       "      <td>0.007935</td>\n",
       "      <td>-0.029998</td>\n",
       "      <td>-0.162066</td>\n",
       "      <td>0.105502</td>\n",
       "      <td>-0.059875</td>\n",
       "      <td>-0.039083</td>\n",
       "      <td>0.041086</td>\n",
       "      <td>0.005910</td>\n",
       "      <td>0.175033</td>\n",
       "      <td>-0.002570</td>\n",
       "      <td>-0.019342</td>\n",
       "      <td>-0.030541</td>\n",
       "      <td>0.078927</td>\n",
       "      <td>-0.048045</td>\n",
       "      <td>0.531796</td>\n",
       "      <td>0.123268</td>\n",
       "      <td>0.159476</td>\n",
       "      <td>-0.422558</td>\n",
       "      <td>-0.431008</td>\n",
       "    </tr>\n",
       "    <tr>\n",
       "      <th>std</th>\n",
       "      <td>92.158935</td>\n",
       "      <td>0.965297</td>\n",
       "      <td>0.857436</td>\n",
       "      <td>0.959798</td>\n",
       "      <td>0.955151</td>\n",
       "      <td>0.961777</td>\n",
       "      <td>0.986806</td>\n",
       "      <td>1.006278</td>\n",
       "      <td>1.093236</td>\n",
       "      <td>1.441363</td>\n",
       "      <td>1.234954</td>\n",
       "      <td>1.025338</td>\n",
       "      <td>0.992570</td>\n",
       "      <td>0.969684</td>\n",
       "      <td>0.907698</td>\n",
       "      <td>3.514545</td>\n",
       "      <td>1.357368</td>\n",
       "      <td>1.550596</td>\n",
       "      <td>2.500914</td>\n",
       "      <td>2.741489</td>\n",
       "    </tr>\n",
       "    <tr>\n",
       "      <th>min</th>\n",
       "      <td>3.000000</td>\n",
       "      <td>-3.580742</td>\n",
       "      <td>-3.212043</td>\n",
       "      <td>-4.187623</td>\n",
       "      <td>-1.418830</td>\n",
       "      <td>-2.025262</td>\n",
       "      <td>-2.905044</td>\n",
       "      <td>-1.651817</td>\n",
       "      <td>-2.783626</td>\n",
       "      <td>-2.289388</td>\n",
       "      <td>-2.789248</td>\n",
       "      <td>-2.047304</td>\n",
       "      <td>-3.235033</td>\n",
       "      <td>-2.042697</td>\n",
       "      <td>-4.138783</td>\n",
       "      <td>-3.479724</td>\n",
       "      <td>-3.954055</td>\n",
       "      <td>-6.042891</td>\n",
       "      <td>-16.854763</td>\n",
       "      <td>-23.033517</td>\n",
       "    </tr>\n",
       "    <tr>\n",
       "      <th>25%</th>\n",
       "      <td>76.250000</td>\n",
       "      <td>-0.464830</td>\n",
       "      <td>-0.488930</td>\n",
       "      <td>-0.739344</td>\n",
       "      <td>-0.521482</td>\n",
       "      <td>-0.755813</td>\n",
       "      <td>-0.743428</td>\n",
       "      <td>-0.705898</td>\n",
       "      <td>-0.659477</td>\n",
       "      <td>-0.777960</td>\n",
       "      <td>-0.705320</td>\n",
       "      <td>-0.753886</td>\n",
       "      <td>-0.663569</td>\n",
       "      <td>-0.584194</td>\n",
       "      <td>-0.530851</td>\n",
       "      <td>-0.393630</td>\n",
       "      <td>-0.457238</td>\n",
       "      <td>-0.149510</td>\n",
       "      <td>-0.348457</td>\n",
       "      <td>-0.042083</td>\n",
       "    </tr>\n",
       "    <tr>\n",
       "      <th>50%</th>\n",
       "      <td>152.500000</td>\n",
       "      <td>0.020075</td>\n",
       "      <td>-0.062487</td>\n",
       "      <td>-0.157241</td>\n",
       "      <td>-0.085375</td>\n",
       "      <td>-0.154073</td>\n",
       "      <td>0.058996</td>\n",
       "      <td>-0.098348</td>\n",
       "      <td>-0.147656</td>\n",
       "      <td>-0.057829</td>\n",
       "      <td>-0.057043</td>\n",
       "      <td>-0.114992</td>\n",
       "      <td>-0.043259</td>\n",
       "      <td>-0.001132</td>\n",
       "      <td>0.070022</td>\n",
       "      <td>0.086237</td>\n",
       "      <td>-0.006430</td>\n",
       "      <td>0.070792</td>\n",
       "      <td>-0.138910</td>\n",
       "      <td>0.010413</td>\n",
       "    </tr>\n",
       "    <tr>\n",
       "      <th>75%</th>\n",
       "      <td>228.750000</td>\n",
       "      <td>0.561096</td>\n",
       "      <td>0.439143</td>\n",
       "      <td>0.322455</td>\n",
       "      <td>0.591862</td>\n",
       "      <td>0.618387</td>\n",
       "      <td>0.702137</td>\n",
       "      <td>0.682856</td>\n",
       "      <td>0.767235</td>\n",
       "      <td>0.829421</td>\n",
       "      <td>0.457160</td>\n",
       "      <td>0.517627</td>\n",
       "      <td>0.419153</td>\n",
       "      <td>0.727001</td>\n",
       "      <td>0.388889</td>\n",
       "      <td>0.450895</td>\n",
       "      <td>0.614669</td>\n",
       "      <td>0.428787</td>\n",
       "      <td>0.121570</td>\n",
       "      <td>0.048695</td>\n",
       "    </tr>\n",
       "    <tr>\n",
       "      <th>max</th>\n",
       "      <td>310.000000</td>\n",
       "      <td>3.682805</td>\n",
       "      <td>1.854950</td>\n",
       "      <td>2.749010</td>\n",
       "      <td>3.226772</td>\n",
       "      <td>1.918428</td>\n",
       "      <td>2.596760</td>\n",
       "      <td>2.540483</td>\n",
       "      <td>2.894730</td>\n",
       "      <td>6.535160</td>\n",
       "      <td>4.012835</td>\n",
       "      <td>3.911693</td>\n",
       "      <td>3.125957</td>\n",
       "      <td>2.542070</td>\n",
       "      <td>2.758862</td>\n",
       "      <td>29.132633</td>\n",
       "      <td>6.349962</td>\n",
       "      <td>9.052354</td>\n",
       "      <td>6.893727</td>\n",
       "      <td>2.709870</td>\n",
       "    </tr>\n",
       "  </tbody>\n",
       "</table>\n",
       "</div>"
      ],
      "text/plain": [
       "       Unnamed: 0  WTI_SS_yun  Copper_SS_yun  Soybeans_SS_yun  \\\n",
       "count   94.000000   94.000000      94.000000        94.000000   \n",
       "mean   154.308511    0.007935      -0.029998        -0.162066   \n",
       "std     92.158935    0.965297       0.857436         0.959798   \n",
       "min      3.000000   -3.580742      -3.212043        -4.187623   \n",
       "25%     76.250000   -0.464830      -0.488930        -0.739344   \n",
       "50%    152.500000    0.020075      -0.062487        -0.157241   \n",
       "75%    228.750000    0.561096       0.439143         0.322455   \n",
       "max    310.000000    3.682805       1.854950         2.749010   \n",
       "\n",
       "       Natural Gas_SS_yun  Heating Oil_SS_yun  Corn_SS_yun  Wheat_SS_yun  \\\n",
       "count           94.000000           94.000000    94.000000     94.000000   \n",
       "mean             0.105502           -0.059875    -0.039083      0.041086   \n",
       "std              0.955151            0.961777     0.986806      1.006278   \n",
       "min             -1.418830           -2.025262    -2.905044     -1.651817   \n",
       "25%             -0.521482           -0.755813    -0.743428     -0.705898   \n",
       "50%             -0.085375           -0.154073     0.058996     -0.098348   \n",
       "75%              0.591862            0.618387     0.702137      0.682856   \n",
       "max              3.226772            1.918428     2.596760      2.540483   \n",
       "\n",
       "       Cattle_SS_yun  Lean Hogs_SS_yun  Sugar_SS_yun  Lumber_SS_yun  \\\n",
       "count      94.000000         94.000000     94.000000      94.000000   \n",
       "mean        0.005910          0.175033     -0.002570      -0.019342   \n",
       "std         1.093236          1.441363      1.234954       1.025338   \n",
       "min        -2.783626         -2.289388     -2.789248      -2.047304   \n",
       "25%        -0.659477         -0.777960     -0.705320      -0.753886   \n",
       "50%        -0.147656         -0.057829     -0.057043      -0.114992   \n",
       "75%         0.767235          0.829421      0.457160       0.517627   \n",
       "max         2.894730          6.535160      4.012835       3.911693   \n",
       "\n",
       "       PMI_SS_yun  USD Index_SS_yun  Wages CPI_LG  Capacity Utilization_LG  \\\n",
       "count   94.000000         94.000000     94.000000                94.000000   \n",
       "mean    -0.030541          0.078927     -0.048045                 0.531796   \n",
       "std      0.992570          0.969684      0.907698                 3.514545   \n",
       "min     -3.235033         -2.042697     -4.138783                -3.479724   \n",
       "25%     -0.663569         -0.584194     -0.530851                -0.393630   \n",
       "50%     -0.043259         -0.001132      0.070022                 0.086237   \n",
       "75%      0.419153          0.727001      0.388889                 0.450895   \n",
       "max      3.125957          2.542070      2.758862                29.132633   \n",
       "\n",
       "          GDP_LG  M2 Velocity_LG  Initial Jobless Claims_LG  \\\n",
       "count  94.000000       94.000000                  94.000000   \n",
       "mean    0.123268        0.159476                  -0.422558   \n",
       "std     1.357368        1.550596                   2.500914   \n",
       "min    -3.954055       -6.042891                 -16.854763   \n",
       "25%    -0.457238       -0.149510                  -0.348457   \n",
       "50%    -0.006430        0.070792                  -0.138910   \n",
       "75%     0.614669        0.428787                   0.121570   \n",
       "max     6.349962        9.052354                   6.893727   \n",
       "\n",
       "       Unemployment Rate_LG  \n",
       "count             94.000000  \n",
       "mean              -0.431008  \n",
       "std                2.741489  \n",
       "min              -23.033517  \n",
       "25%               -0.042083  \n",
       "50%                0.010413  \n",
       "75%                0.048695  \n",
       "max                2.709870  "
      ]
     },
     "execution_count": 41,
     "metadata": {},
     "output_type": "execute_result"
    }
   ],
   "source": [
    "X_te_SS_LG.describe()"
   ]
  },
  {
   "cell_type": "code",
   "execution_count": 42,
   "metadata": {},
   "outputs": [],
   "source": [
    "X_te_SS_LG = X_te_SS_LG.drop(['Unnamed: 0'], axis=1)"
   ]
  },
  {
   "cell_type": "code",
   "execution_count": 43,
   "metadata": {},
   "outputs": [
    {
     "data": {
      "text/html": [
       "<div>\n",
       "<style scoped>\n",
       "    .dataframe tbody tr th:only-of-type {\n",
       "        vertical-align: middle;\n",
       "    }\n",
       "\n",
       "    .dataframe tbody tr th {\n",
       "        vertical-align: top;\n",
       "    }\n",
       "\n",
       "    .dataframe thead th {\n",
       "        text-align: right;\n",
       "    }\n",
       "</style>\n",
       "<table border=\"1\" class=\"dataframe\">\n",
       "  <thead>\n",
       "    <tr style=\"text-align: right;\">\n",
       "      <th></th>\n",
       "      <th>Unnamed: 0</th>\n",
       "      <th>Inflation</th>\n",
       "    </tr>\n",
       "  </thead>\n",
       "  <tbody>\n",
       "    <tr>\n",
       "      <th>count</th>\n",
       "      <td>94.000000</td>\n",
       "      <td>94.000000</td>\n",
       "    </tr>\n",
       "    <tr>\n",
       "      <th>mean</th>\n",
       "      <td>154.308511</td>\n",
       "      <td>0.049383</td>\n",
       "    </tr>\n",
       "    <tr>\n",
       "      <th>std</th>\n",
       "      <td>92.158935</td>\n",
       "      <td>0.761840</td>\n",
       "    </tr>\n",
       "    <tr>\n",
       "      <th>min</th>\n",
       "      <td>3.000000</td>\n",
       "      <td>-3.625000</td>\n",
       "    </tr>\n",
       "    <tr>\n",
       "      <th>25%</th>\n",
       "      <td>76.250000</td>\n",
       "      <td>-0.300500</td>\n",
       "    </tr>\n",
       "    <tr>\n",
       "      <th>50%</th>\n",
       "      <td>152.500000</td>\n",
       "      <td>0.000500</td>\n",
       "    </tr>\n",
       "    <tr>\n",
       "      <th>75%</th>\n",
       "      <td>228.750000</td>\n",
       "      <td>0.376250</td>\n",
       "    </tr>\n",
       "    <tr>\n",
       "      <th>max</th>\n",
       "      <td>310.000000</td>\n",
       "      <td>2.809000</td>\n",
       "    </tr>\n",
       "  </tbody>\n",
       "</table>\n",
       "</div>"
      ],
      "text/plain": [
       "       Unnamed: 0  Inflation\n",
       "count   94.000000  94.000000\n",
       "mean   154.308511   0.049383\n",
       "std     92.158935   0.761840\n",
       "min      3.000000  -3.625000\n",
       "25%     76.250000  -0.300500\n",
       "50%    152.500000   0.000500\n",
       "75%    228.750000   0.376250\n",
       "max    310.000000   2.809000"
      ]
     },
     "execution_count": 43,
     "metadata": {},
     "output_type": "execute_result"
    }
   ],
   "source": [
    "y_te_y_uns.describe()"
   ]
  },
  {
   "cell_type": "code",
   "execution_count": 44,
   "metadata": {},
   "outputs": [],
   "source": [
    "y_te_y_uns = y_te_y_uns.drop(['Unnamed: 0'], axis=1)"
   ]
  },
  {
   "cell_type": "markdown",
   "metadata": {},
   "source": [
    "They all look correct; we will proceed to modelling."
   ]
  },
  {
   "cell_type": "markdown",
   "metadata": {},
   "source": [
    "## 5.4 Modelling<a id='modeling'></a>"
   ]
  },
  {
   "cell_type": "markdown",
   "metadata": {},
   "source": [
    "We will now proceed modeling with all five (5) scaling approaches; notably the below:\n",
    "   * StandardScaler ( `_SS` )\n",
    "      * `X` & `y`\n",
    "   * StandardScaler ( `_SS_y_uns` )\n",
    "      * `X` only\n",
    "   * Log Transformation ( `_LG` )\n",
    "      * `X` & `y`\n",
    "   * Log Transformation ( `_LG_y_uns` )\n",
    "      * `X` only   \n",
    "   * Combination of `SS` & `LG` ( `_SS_LG` )\n",
    "      * `X` only\n",
    "\n",
    "The modeling approach is described below:\n",
    "   * GridSearch\n",
    "   * RandomForest\n",
    "   * Hyperparameter search using GridSearchCV\n",
    "   * Final Outcome(s)\n"
   ]
  },
  {
   "cell_type": "markdown",
   "metadata": {},
   "source": [
    "**5.4.1 X & y ( `_SS` )**<a id='ss_both'></a>"
   ]
  },
  {
   "cell_type": "code",
   "execution_count": 45,
   "metadata": {},
   "outputs": [],
   "source": [
    "pipe = make_pipeline(\n",
    "    SimpleImputer(strategy='median'), \n",
    "    StandardScaler(),\n",
    "    SelectKBest(f_regression),\n",
    "    LinearRegression()\n",
    ")"
   ]
  },
  {
   "cell_type": "code",
   "execution_count": 46,
   "metadata": {},
   "outputs": [],
   "source": [
    "k_SS = [k_SS+1 for k_SS in range(len(X_train_SS.columns))]\n",
    "grid_params_SS = {'selectkbest__k': k_SS}"
   ]
  },
  {
   "cell_type": "code",
   "execution_count": 47,
   "metadata": {
    "scrolled": true
   },
   "outputs": [],
   "source": [
    "lr_grid_cv_SS = GridSearchCV(pipe, param_grid=grid_params_SS, cv=5, n_jobs=-1)"
   ]
  },
  {
   "cell_type": "code",
   "execution_count": 48,
   "metadata": {},
   "outputs": [
    {
     "name": "stderr",
     "output_type": "stream",
     "text": [
      "C:\\Users\\rands\\anaconda3\\lib\\site-packages\\sklearn\\utils\\validation.py:72: DataConversionWarning: A column-vector y was passed when a 1d array was expected. Please change the shape of y to (n_samples, ), for example using ravel().\n",
      "  return f(**kwargs)\n"
     ]
    },
    {
     "data": {
      "text/plain": [
       "GridSearchCV(cv=5,\n",
       "             estimator=Pipeline(steps=[('simpleimputer',\n",
       "                                        SimpleImputer(strategy='median')),\n",
       "                                       ('standardscaler', StandardScaler()),\n",
       "                                       ('selectkbest',\n",
       "                                        SelectKBest(score_func=<function f_regression at 0x00000246984865E0>)),\n",
       "                                       ('linearregression',\n",
       "                                        LinearRegression())]),\n",
       "             n_jobs=-1,\n",
       "             param_grid={'selectkbest__k': [1, 2, 3, 4, 5, 6, 7, 8, 9, 10, 11,\n",
       "                                            12, 13, 14, 15, 16, 17, 18, 19]})"
      ]
     },
     "execution_count": 48,
     "metadata": {},
     "output_type": "execute_result"
    }
   ],
   "source": [
    "lr_grid_cv_SS.fit(X_train_SS, y_train_SS)"
   ]
  },
  {
   "cell_type": "code",
   "execution_count": 49,
   "metadata": {},
   "outputs": [],
   "source": [
    "score_mean_SS = lr_grid_cv_SS.cv_results_['mean_test_score']\n",
    "score_std_SS = lr_grid_cv_SS.cv_results_['std_test_score']\n",
    "cv_k_SS = [k_SS for k_SS in lr_grid_cv_SS.cv_results_['param_selectkbest__k']]"
   ]
  },
  {
   "cell_type": "code",
   "execution_count": 50,
   "metadata": {},
   "outputs": [
    {
     "data": {
      "text/plain": [
       "{'selectkbest__k': 9}"
      ]
     },
     "execution_count": 50,
     "metadata": {},
     "output_type": "execute_result"
    }
   ],
   "source": [
    "lr_grid_cv_SS.best_params_"
   ]
  },
  {
   "cell_type": "code",
   "execution_count": 51,
   "metadata": {
    "scrolled": true
   },
   "outputs": [
    {
     "data": {
      "image/png": "[encoded data removed]",
      "text/plain": [
       "<Figure size 720x360 with 1 Axes>"
      ]
     },
     "metadata": {
      "needs_background": "light"
     },
     "output_type": "display_data"
    }
   ],
   "source": [
    "best_k_SS = lr_grid_cv_SS.best_params_['selectkbest__k']\n",
    "plt.subplots(figsize=(10, 5))\n",
    "plt.errorbar(cv_k_SS, score_mean_SS, yerr=score_std_SS)\n",
    "plt.axvline(x=best_k_SS, c='r', ls='--', alpha=.5)\n",
    "plt.xlabel('k')\n",
    "plt.ylabel('SS ( X & y )  |  CV score (r-squared)')\n",
    "plt.title('SS ( X & y )  |  Pipeline mean CV score (error bars +/- 1sd)');"
   ]
  },
  {
   "cell_type": "code",
   "execution_count": null,
   "metadata": {},
   "outputs": [],
   "source": []
  },
  {
   "cell_type": "markdown",
   "metadata": {},
   "source": [
    "**Fit & assess performance using cross-validation**"
   ]
  },
  {
   "cell_type": "code",
   "execution_count": 52,
   "metadata": {},
   "outputs": [],
   "source": [
    "RF_pipe = make_pipeline(\n",
    "    SimpleImputer(strategy='median'),\n",
    "    StandardScaler(),\n",
    "    RandomForestRegressor(random_state=47)\n",
    ")"
   ]
  },
  {
   "cell_type": "code",
   "execution_count": 53,
   "metadata": {},
   "outputs": [
    {
     "name": "stderr",
     "output_type": "stream",
     "text": [
      "C:\\Users\\rands\\anaconda3\\lib\\site-packages\\sklearn\\pipeline.py:335: DataConversionWarning: A column-vector y was passed when a 1d array was expected. Please change the shape of y to (n_samples,), for example using ravel().\n",
      "  self._final_estimator.fit(Xt, y, **fit_params_last_step)\n",
      "C:\\Users\\rands\\anaconda3\\lib\\site-packages\\sklearn\\pipeline.py:335: DataConversionWarning: A column-vector y was passed when a 1d array was expected. Please change the shape of y to (n_samples,), for example using ravel().\n",
      "  self._final_estimator.fit(Xt, y, **fit_params_last_step)\n",
      "C:\\Users\\rands\\anaconda3\\lib\\site-packages\\sklearn\\pipeline.py:335: DataConversionWarning: A column-vector y was passed when a 1d array was expected. Please change the shape of y to (n_samples,), for example using ravel().\n",
      "  self._final_estimator.fit(Xt, y, **fit_params_last_step)\n",
      "C:\\Users\\rands\\anaconda3\\lib\\site-packages\\sklearn\\pipeline.py:335: DataConversionWarning: A column-vector y was passed when a 1d array was expected. Please change the shape of y to (n_samples,), for example using ravel().\n",
      "  self._final_estimator.fit(Xt, y, **fit_params_last_step)\n",
      "C:\\Users\\rands\\anaconda3\\lib\\site-packages\\sklearn\\pipeline.py:335: DataConversionWarning: A column-vector y was passed when a 1d array was expected. Please change the shape of y to (n_samples,), for example using ravel().\n",
      "  self._final_estimator.fit(Xt, y, **fit_params_last_step)\n"
     ]
    }
   ],
   "source": [
    "rf_default_cv_results = cross_validate(RF_pipe, X_train_SS, y_train_SS, cv=5)"
   ]
  },
  {
   "cell_type": "code",
   "execution_count": 54,
   "metadata": {},
   "outputs": [
    {
     "data": {
      "text/plain": [
       "array([0.54288899, 0.26566395, 0.40444542, 0.38399338, 0.12439777])"
      ]
     },
     "execution_count": 54,
     "metadata": {},
     "output_type": "execute_result"
    }
   ],
   "source": [
    "rf_cv_scores = rf_default_cv_results['test_score']\n",
    "rf_cv_scores"
   ]
  },
  {
   "cell_type": "code",
   "execution_count": 55,
   "metadata": {},
   "outputs": [
    {
     "data": {
      "text/plain": [
       "(0.3442779000921818, 0.14083411580502048)"
      ]
     },
     "execution_count": 55,
     "metadata": {},
     "output_type": "execute_result"
    }
   ],
   "source": [
    "np.mean(rf_cv_scores), np.std(rf_cv_scores)"
   ]
  },
  {
   "cell_type": "markdown",
   "metadata": {},
   "source": [
    "**Hyperparameter search using GridSearchCV**"
   ]
  },
  {
   "cell_type": "code",
   "execution_count": 56,
   "metadata": {},
   "outputs": [
    {
     "data": {
      "text/plain": [
       "{'randomforestregressor__n_estimators': [10,\n",
       "  12,\n",
       "  16,\n",
       "  20,\n",
       "  26,\n",
       "  33,\n",
       "  42,\n",
       "  54,\n",
       "  69,\n",
       "  88,\n",
       "  112,\n",
       "  143,\n",
       "  183,\n",
       "  233,\n",
       "  297,\n",
       "  379,\n",
       "  483,\n",
       "  615,\n",
       "  784,\n",
       "  1000],\n",
       " 'standardscaler': [StandardScaler(), None],\n",
       " 'simpleimputer__strategy': ['mean', 'median']}"
      ]
     },
     "execution_count": 56,
     "metadata": {},
     "output_type": "execute_result"
    }
   ],
   "source": [
    "n_est = [int(n) for n in np.logspace(start=1, stop=3, num=20)]\n",
    "grid_params = {\n",
    "        'randomforestregressor__n_estimators': n_est,\n",
    "        'standardscaler': [StandardScaler(), None],\n",
    "        'simpleimputer__strategy': ['mean', 'median']\n",
    "}\n",
    "grid_params"
   ]
  },
  {
   "cell_type": "code",
   "execution_count": 57,
   "metadata": {},
   "outputs": [],
   "source": [
    "rf_grid_cv = GridSearchCV(RF_pipe, param_grid=grid_params, cv=5, n_jobs=-1)"
   ]
  },
  {
   "cell_type": "code",
   "execution_count": 58,
   "metadata": {},
   "outputs": [
    {
     "name": "stderr",
     "output_type": "stream",
     "text": [
      "C:\\Users\\rands\\anaconda3\\lib\\site-packages\\sklearn\\pipeline.py:335: DataConversionWarning: A column-vector y was passed when a 1d array was expected. Please change the shape of y to (n_samples,), for example using ravel().\n",
      "  self._final_estimator.fit(Xt, y, **fit_params_last_step)\n"
     ]
    },
    {
     "data": {
      "text/plain": [
       "GridSearchCV(cv=5,\n",
       "             estimator=Pipeline(steps=[('simpleimputer',\n",
       "                                        SimpleImputer(strategy='median')),\n",
       "                                       ('standardscaler', StandardScaler()),\n",
       "                                       ('randomforestregressor',\n",
       "                                        RandomForestRegressor(random_state=47))]),\n",
       "             n_jobs=-1,\n",
       "             param_grid={'randomforestregressor__n_estimators': [10, 12, 16, 20,\n",
       "                                                                 26, 33, 42, 54,\n",
       "                                                                 69, 88, 112,\n",
       "                                                                 143, 183, 233,\n",
       "                                                                 297, 379, 483,\n",
       "                                                                 615, 784,\n",
       "                                                                 1000],\n",
       "                         'simpleimputer__strategy': ['mean', 'median'],\n",
       "                         'standardscaler': [StandardScaler(), None]})"
      ]
     },
     "execution_count": 58,
     "metadata": {},
     "output_type": "execute_result"
    }
   ],
   "source": [
    "rf_grid_cv.fit(X_train_SS, y_train_SS)"
   ]
  },
  {
   "cell_type": "code",
   "execution_count": 59,
   "metadata": {},
   "outputs": [
    {
     "data": {
      "text/plain": [
       "{'randomforestregressor__n_estimators': 297,\n",
       " 'simpleimputer__strategy': 'mean',\n",
       " 'standardscaler': StandardScaler()}"
      ]
     },
     "execution_count": 59,
     "metadata": {},
     "output_type": "execute_result"
    }
   ],
   "source": [
    "rf_grid_cv.best_params_"
   ]
  },
  {
   "cell_type": "code",
   "execution_count": 60,
   "metadata": {},
   "outputs": [
    {
     "name": "stderr",
     "output_type": "stream",
     "text": [
      "C:\\Users\\rands\\anaconda3\\lib\\site-packages\\sklearn\\pipeline.py:335: DataConversionWarning: A column-vector y was passed when a 1d array was expected. Please change the shape of y to (n_samples,), for example using ravel().\n",
      "  self._final_estimator.fit(Xt, y, **fit_params_last_step)\n",
      "C:\\Users\\rands\\anaconda3\\lib\\site-packages\\sklearn\\pipeline.py:335: DataConversionWarning: A column-vector y was passed when a 1d array was expected. Please change the shape of y to (n_samples,), for example using ravel().\n",
      "  self._final_estimator.fit(Xt, y, **fit_params_last_step)\n",
      "C:\\Users\\rands\\anaconda3\\lib\\site-packages\\sklearn\\pipeline.py:335: DataConversionWarning: A column-vector y was passed when a 1d array was expected. Please change the shape of y to (n_samples,), for example using ravel().\n",
      "  self._final_estimator.fit(Xt, y, **fit_params_last_step)\n",
      "C:\\Users\\rands\\anaconda3\\lib\\site-packages\\sklearn\\pipeline.py:335: DataConversionWarning: A column-vector y was passed when a 1d array was expected. Please change the shape of y to (n_samples,), for example using ravel().\n",
      "  self._final_estimator.fit(Xt, y, **fit_params_last_step)\n",
      "C:\\Users\\rands\\anaconda3\\lib\\site-packages\\sklearn\\pipeline.py:335: DataConversionWarning: A column-vector y was passed when a 1d array was expected. Please change the shape of y to (n_samples,), for example using ravel().\n",
      "  self._final_estimator.fit(Xt, y, **fit_params_last_step)\n"
     ]
    },
    {
     "data": {
      "text/plain": [
       "array([0.56615285, 0.30593241, 0.40056841, 0.35763306, 0.1452982 ])"
      ]
     },
     "execution_count": 60,
     "metadata": {},
     "output_type": "execute_result"
    }
   ],
   "source": [
    "rf_best_cv_results = cross_validate(rf_grid_cv.best_estimator_, X_train_SS, y_train_SS, cv=5)\n",
    "rf_best_scores = rf_best_cv_results['test_score']\n",
    "rf_best_scores"
   ]
  },
  {
   "cell_type": "code",
   "execution_count": 61,
   "metadata": {},
   "outputs": [
    {
     "data": {
      "text/plain": [
       "(0.3551169856347564, 0.13641945761999008)"
      ]
     },
     "execution_count": 61,
     "metadata": {},
     "output_type": "execute_result"
    }
   ],
   "source": [
    "np.mean(rf_best_scores), np.std(rf_best_scores)"
   ]
  },
  {
   "cell_type": "code",
   "execution_count": 62,
   "metadata": {
    "scrolled": true
   },
   "outputs": [
    {
     "data": {
      "image/png": "[encoded data removed]",
      "text/plain": [
       "<Figure size 720x360 with 1 Axes>"
      ]
     },
     "metadata": {
      "needs_background": "light"
     },
     "output_type": "display_data"
    }
   ],
   "source": [
    "plt.subplots(figsize=(10, 5))\n",
    "imps = rf_grid_cv.best_estimator_.named_steps.randomforestregressor.feature_importances_\n",
    "rf_feat_imps = pd.Series(imps, index=X_train_SS.columns).sort_values(ascending=False)\n",
    "rf_feat_imps.plot(kind='bar')\n",
    "plt.xlabel('Variables')\n",
    "plt.ylabel('SS ( X & y )  |  importance')\n",
    "plt.title('Best random forest regressor of variable importances');"
   ]
  },
  {
   "cell_type": "code",
   "execution_count": null,
   "metadata": {},
   "outputs": [],
   "source": []
  },
  {
   "cell_type": "code",
   "execution_count": null,
   "metadata": {},
   "outputs": [],
   "source": []
  },
  {
   "cell_type": "markdown",
   "metadata": {},
   "source": [
    "**5.4.2 X only ( `_SS_y_uns` )**<a id='ss_y_un'></a>"
   ]
  },
  {
   "cell_type": "code",
   "execution_count": 63,
   "metadata": {},
   "outputs": [],
   "source": [
    "pipe_SS_y_uns = make_pipeline(\n",
    "    SimpleImputer(strategy='median'), \n",
    "    StandardScaler(),\n",
    "    SelectKBest(f_regression),\n",
    "    LinearRegression()\n",
    ")"
   ]
  },
  {
   "cell_type": "code",
   "execution_count": 64,
   "metadata": {},
   "outputs": [],
   "source": [
    "k_SS_y_uns = [k_SS_y_uns+1 for k_SS_y_uns in range(len(X_train_SS_y_uns.columns))]\n",
    "grid_params_SS_y_uns = {'selectkbest__k': k_SS_y_uns}"
   ]
  },
  {
   "cell_type": "code",
   "execution_count": 65,
   "metadata": {
    "scrolled": true
   },
   "outputs": [],
   "source": [
    "lr_grid_cv_SS_y_uns = GridSearchCV(pipe_SS_y_uns, param_grid=grid_params_SS_y_uns, cv=5, n_jobs=-1)"
   ]
  },
  {
   "cell_type": "code",
   "execution_count": 66,
   "metadata": {},
   "outputs": [
    {
     "name": "stderr",
     "output_type": "stream",
     "text": [
      "C:\\Users\\rands\\anaconda3\\lib\\site-packages\\sklearn\\utils\\validation.py:72: DataConversionWarning: A column-vector y was passed when a 1d array was expected. Please change the shape of y to (n_samples, ), for example using ravel().\n",
      "  return f(**kwargs)\n"
     ]
    },
    {
     "data": {
      "text/plain": [
       "GridSearchCV(cv=5,\n",
       "             estimator=Pipeline(steps=[('simpleimputer',\n",
       "                                        SimpleImputer(strategy='median')),\n",
       "                                       ('standardscaler', StandardScaler()),\n",
       "                                       ('selectkbest',\n",
       "                                        SelectKBest(score_func=<function f_regression at 0x00000246984865E0>)),\n",
       "                                       ('linearregression',\n",
       "                                        LinearRegression())]),\n",
       "             n_jobs=-1,\n",
       "             param_grid={'selectkbest__k': [1, 2, 3, 4, 5, 6, 7, 8, 9, 10, 11,\n",
       "                                            12, 13, 14, 15, 16, 17, 18, 19]})"
      ]
     },
     "execution_count": 66,
     "metadata": {},
     "output_type": "execute_result"
    }
   ],
   "source": [
    "lr_grid_cv_SS_y_uns.fit(X_train_SS_y_uns, y_train_SS_y_uns)"
   ]
  },
  {
   "cell_type": "code",
   "execution_count": 67,
   "metadata": {},
   "outputs": [],
   "source": [
    "score_mean_SS_y_uns = lr_grid_cv_SS_y_uns.cv_results_['mean_test_score']\n",
    "score_std_SS_y_uns = lr_grid_cv_SS_y_uns.cv_results_['std_test_score']\n",
    "cv_k_SS_y_uns = [k_SS_y_uns for k_SS_y_uns in lr_grid_cv_SS_y_uns.cv_results_['param_selectkbest__k']]"
   ]
  },
  {
   "cell_type": "code",
   "execution_count": 68,
   "metadata": {},
   "outputs": [
    {
     "data": {
      "text/plain": [
       "{'selectkbest__k': 9}"
      ]
     },
     "execution_count": 68,
     "metadata": {},
     "output_type": "execute_result"
    }
   ],
   "source": [
    "lr_grid_cv_SS_y_uns.best_params_"
   ]
  },
  {
   "cell_type": "code",
   "execution_count": 69,
   "metadata": {
    "scrolled": false
   },
   "outputs": [
    {
     "data": {
      "image/png": "[encoded data removed]",
      "text/plain": [
       "<Figure size 720x360 with 1 Axes>"
      ]
     },
     "metadata": {
      "needs_background": "light"
     },
     "output_type": "display_data"
    }
   ],
   "source": [
    "best_k_SS_y_uns = lr_grid_cv_SS_y_uns.best_params_['selectkbest__k']\n",
    "plt.subplots(figsize=(10, 5))\n",
    "plt.errorbar(cv_k_SS_y_uns, score_mean_SS_y_uns, yerr=score_std_SS_y_uns)\n",
    "plt.axvline(x=best_k_SS_y_uns, c='r', ls='--', alpha=.5)\n",
    "plt.xlabel('k')\n",
    "plt.ylabel('SS ( X only )  |  CV score (r-squared)')\n",
    "plt.title('SS ( X only )  |  Pipeline mean CV score (error bars +/- 1sd)');"
   ]
  },
  {
   "cell_type": "code",
   "execution_count": 70,
   "metadata": {},
   "outputs": [],
   "source": [
    "RF_pipe_y_uns = make_pipeline(\n",
    "    SimpleImputer(strategy='median'),\n",
    "    StandardScaler(),\n",
    "    RandomForestRegressor(random_state=47)\n",
    ")"
   ]
  },
  {
   "cell_type": "markdown",
   "metadata": {},
   "source": [
    "**Fit & assess performance using cross-validation**"
   ]
  },
  {
   "cell_type": "code",
   "execution_count": 71,
   "metadata": {},
   "outputs": [
    {
     "name": "stderr",
     "output_type": "stream",
     "text": [
      "C:\\Users\\rands\\anaconda3\\lib\\site-packages\\sklearn\\pipeline.py:335: DataConversionWarning: A column-vector y was passed when a 1d array was expected. Please change the shape of y to (n_samples,), for example using ravel().\n",
      "  self._final_estimator.fit(Xt, y, **fit_params_last_step)\n",
      "C:\\Users\\rands\\anaconda3\\lib\\site-packages\\sklearn\\pipeline.py:335: DataConversionWarning: A column-vector y was passed when a 1d array was expected. Please change the shape of y to (n_samples,), for example using ravel().\n",
      "  self._final_estimator.fit(Xt, y, **fit_params_last_step)\n",
      "C:\\Users\\rands\\anaconda3\\lib\\site-packages\\sklearn\\pipeline.py:335: DataConversionWarning: A column-vector y was passed when a 1d array was expected. Please change the shape of y to (n_samples,), for example using ravel().\n",
      "  self._final_estimator.fit(Xt, y, **fit_params_last_step)\n",
      "C:\\Users\\rands\\anaconda3\\lib\\site-packages\\sklearn\\pipeline.py:335: DataConversionWarning: A column-vector y was passed when a 1d array was expected. Please change the shape of y to (n_samples,), for example using ravel().\n",
      "  self._final_estimator.fit(Xt, y, **fit_params_last_step)\n",
      "C:\\Users\\rands\\anaconda3\\lib\\site-packages\\sklearn\\pipeline.py:335: DataConversionWarning: A column-vector y was passed when a 1d array was expected. Please change the shape of y to (n_samples,), for example using ravel().\n",
      "  self._final_estimator.fit(Xt, y, **fit_params_last_step)\n"
     ]
    }
   ],
   "source": [
    "rf_default_cv_results_y_uns = cross_validate(RF_pipe_y_uns, X_train_SS_y_uns, y_train_SS_y_uns, cv=5)"
   ]
  },
  {
   "cell_type": "code",
   "execution_count": 72,
   "metadata": {},
   "outputs": [
    {
     "data": {
      "text/plain": [
       "array([0.53539096, 0.26432601, 0.39997215, 0.37873998, 0.11896142])"
      ]
     },
     "execution_count": 72,
     "metadata": {},
     "output_type": "execute_result"
    }
   ],
   "source": [
    "rf_cv_scores_y_uns = rf_default_cv_results_y_uns['test_score']\n",
    "rf_cv_scores_y_uns"
   ]
  },
  {
   "cell_type": "code",
   "execution_count": 73,
   "metadata": {},
   "outputs": [
    {
     "data": {
      "text/plain": [
       "(0.3394781031499834, 0.13989876138772697)"
      ]
     },
     "execution_count": 73,
     "metadata": {},
     "output_type": "execute_result"
    }
   ],
   "source": [
    "np.mean(rf_cv_scores_y_uns), np.std(rf_cv_scores_y_uns)"
   ]
  },
  {
   "cell_type": "markdown",
   "metadata": {},
   "source": [
    "**Hyperparameter search using GridSearchCV**"
   ]
  },
  {
   "cell_type": "code",
   "execution_count": 74,
   "metadata": {},
   "outputs": [
    {
     "data": {
      "text/plain": [
       "{'randomforestregressor__n_estimators': [10,\n",
       "  12,\n",
       "  16,\n",
       "  20,\n",
       "  26,\n",
       "  33,\n",
       "  42,\n",
       "  54,\n",
       "  69,\n",
       "  88,\n",
       "  112,\n",
       "  143,\n",
       "  183,\n",
       "  233,\n",
       "  297,\n",
       "  379,\n",
       "  483,\n",
       "  615,\n",
       "  784,\n",
       "  1000],\n",
       " 'standardscaler': [StandardScaler(), None],\n",
       " 'simpleimputer__strategy': ['mean', 'median']}"
      ]
     },
     "execution_count": 74,
     "metadata": {},
     "output_type": "execute_result"
    }
   ],
   "source": [
    "n_est_y_uns = [int(n) for n in np.logspace(start=1, stop=3, num=20)]\n",
    "grid_params_y_uns = {\n",
    "        'randomforestregressor__n_estimators': n_est,\n",
    "        'standardscaler': [StandardScaler(), None],\n",
    "        'simpleimputer__strategy': ['mean', 'median']\n",
    "}\n",
    "grid_params_y_uns"
   ]
  },
  {
   "cell_type": "code",
   "execution_count": 75,
   "metadata": {},
   "outputs": [],
   "source": [
    "rf_grid_cv_y_uns = GridSearchCV(RF_pipe_y_uns, param_grid=grid_params_y_uns, cv=5, n_jobs=-1)"
   ]
  },
  {
   "cell_type": "code",
   "execution_count": 76,
   "metadata": {},
   "outputs": [
    {
     "name": "stderr",
     "output_type": "stream",
     "text": [
      "C:\\Users\\rands\\anaconda3\\lib\\site-packages\\sklearn\\pipeline.py:335: DataConversionWarning: A column-vector y was passed when a 1d array was expected. Please change the shape of y to (n_samples,), for example using ravel().\n",
      "  self._final_estimator.fit(Xt, y, **fit_params_last_step)\n"
     ]
    },
    {
     "data": {
      "text/plain": [
       "GridSearchCV(cv=5,\n",
       "             estimator=Pipeline(steps=[('simpleimputer',\n",
       "                                        SimpleImputer(strategy='median')),\n",
       "                                       ('standardscaler', StandardScaler()),\n",
       "                                       ('randomforestregressor',\n",
       "                                        RandomForestRegressor(random_state=47))]),\n",
       "             n_jobs=-1,\n",
       "             param_grid={'randomforestregressor__n_estimators': [10, 12, 16, 20,\n",
       "                                                                 26, 33, 42, 54,\n",
       "                                                                 69, 88, 112,\n",
       "                                                                 143, 183, 233,\n",
       "                                                                 297, 379, 483,\n",
       "                                                                 615, 784,\n",
       "                                                                 1000],\n",
       "                         'simpleimputer__strategy': ['mean', 'median'],\n",
       "                         'standardscaler': [StandardScaler(), None]})"
      ]
     },
     "execution_count": 76,
     "metadata": {},
     "output_type": "execute_result"
    }
   ],
   "source": [
    "rf_grid_cv_y_uns.fit(X_train_SS_y_uns, y_train_SS_y_uns)"
   ]
  },
  {
   "cell_type": "code",
   "execution_count": 77,
   "metadata": {},
   "outputs": [
    {
     "data": {
      "text/plain": [
       "{'randomforestregressor__n_estimators': 297,\n",
       " 'simpleimputer__strategy': 'mean',\n",
       " 'standardscaler': StandardScaler()}"
      ]
     },
     "execution_count": 77,
     "metadata": {},
     "output_type": "execute_result"
    }
   ],
   "source": [
    "rf_grid_cv_y_uns.best_params_"
   ]
  },
  {
   "cell_type": "code",
   "execution_count": 78,
   "metadata": {},
   "outputs": [
    {
     "name": "stderr",
     "output_type": "stream",
     "text": [
      "C:\\Users\\rands\\anaconda3\\lib\\site-packages\\sklearn\\pipeline.py:335: DataConversionWarning: A column-vector y was passed when a 1d array was expected. Please change the shape of y to (n_samples,), for example using ravel().\n",
      "  self._final_estimator.fit(Xt, y, **fit_params_last_step)\n",
      "C:\\Users\\rands\\anaconda3\\lib\\site-packages\\sklearn\\pipeline.py:335: DataConversionWarning: A column-vector y was passed when a 1d array was expected. Please change the shape of y to (n_samples,), for example using ravel().\n",
      "  self._final_estimator.fit(Xt, y, **fit_params_last_step)\n",
      "C:\\Users\\rands\\anaconda3\\lib\\site-packages\\sklearn\\pipeline.py:335: DataConversionWarning: A column-vector y was passed when a 1d array was expected. Please change the shape of y to (n_samples,), for example using ravel().\n",
      "  self._final_estimator.fit(Xt, y, **fit_params_last_step)\n",
      "C:\\Users\\rands\\anaconda3\\lib\\site-packages\\sklearn\\pipeline.py:335: DataConversionWarning: A column-vector y was passed when a 1d array was expected. Please change the shape of y to (n_samples,), for example using ravel().\n",
      "  self._final_estimator.fit(Xt, y, **fit_params_last_step)\n",
      "C:\\Users\\rands\\anaconda3\\lib\\site-packages\\sklearn\\pipeline.py:335: DataConversionWarning: A column-vector y was passed when a 1d array was expected. Please change the shape of y to (n_samples,), for example using ravel().\n",
      "  self._final_estimator.fit(Xt, y, **fit_params_last_step)\n"
     ]
    },
    {
     "data": {
      "text/plain": [
       "array([0.56638598, 0.3017069 , 0.38953623, 0.35249636, 0.13432597])"
      ]
     },
     "execution_count": 78,
     "metadata": {},
     "output_type": "execute_result"
    }
   ],
   "source": [
    "rf_best_cv_results_y_uns = cross_validate(rf_grid_cv_y_uns.best_estimator_, X_train_SS_y_uns, y_train_SS_y_uns, cv=5)\n",
    "rf_best_scores_y_uns = rf_best_cv_results_y_uns['test_score']\n",
    "rf_best_scores_y_uns"
   ]
  },
  {
   "cell_type": "code",
   "execution_count": 79,
   "metadata": {},
   "outputs": [
    {
     "data": {
      "text/plain": [
       "(0.34889028742307254, 0.13945149015711306)"
      ]
     },
     "execution_count": 79,
     "metadata": {},
     "output_type": "execute_result"
    }
   ],
   "source": [
    "np.mean(rf_best_scores_y_uns), np.std(rf_best_scores_y_uns)"
   ]
  },
  {
   "cell_type": "code",
   "execution_count": 80,
   "metadata": {
    "scrolled": true
   },
   "outputs": [
    {
     "data": {
      "image/png": "[encoded data removed]",
      "text/plain": [
       "<Figure size 720x360 with 1 Axes>"
      ]
     },
     "metadata": {
      "needs_background": "light"
     },
     "output_type": "display_data"
    }
   ],
   "source": [
    "plt.subplots(figsize=(10, 5))\n",
    "imps_y_uns = rf_grid_cv.best_estimator_.named_steps.randomforestregressor.feature_importances_\n",
    "rf_feat_imps_y_uns = pd.Series(imps_y_uns, index=X_train_SS_y_uns.columns).sort_values(ascending=False)\n",
    "rf_feat_imps_y_uns.plot(kind='bar')\n",
    "plt.xlabel('variables')\n",
    "plt.ylabel('SS ( X only )  |  importance')\n",
    "plt.title('Best random forest regressor of variable importances');"
   ]
  },
  {
   "cell_type": "code",
   "execution_count": null,
   "metadata": {},
   "outputs": [],
   "source": []
  },
  {
   "cell_type": "code",
   "execution_count": null,
   "metadata": {},
   "outputs": [],
   "source": []
  },
  {
   "cell_type": "markdown",
   "metadata": {},
   "source": [
    "**5.4.3 X & y ( `_LG` )**<a id='lg_both'></a>"
   ]
  },
  {
   "cell_type": "code",
   "execution_count": 81,
   "metadata": {},
   "outputs": [],
   "source": [
    "pipe_LG = make_pipeline(\n",
    "    SimpleImputer(strategy='median'), \n",
    "    PowerTransformer(),\n",
    "    SelectKBest(f_regression),\n",
    "    LinearRegression() # LogisticRegression() is for predicting 0 & 1\n",
    ")"
   ]
  },
  {
   "cell_type": "code",
   "execution_count": 82,
   "metadata": {},
   "outputs": [],
   "source": [
    "k_LG = [k_LG+1 for k_LG in range(len(X_train_LG.columns))]\n",
    "grid_params_LG = {'selectkbest__k': k_LG}"
   ]
  },
  {
   "cell_type": "code",
   "execution_count": 83,
   "metadata": {
    "scrolled": true
   },
   "outputs": [],
   "source": [
    "lr_grid_cv_LG = GridSearchCV(pipe_LG, param_grid=grid_params_LG, cv=5, n_jobs=-1)"
   ]
  },
  {
   "cell_type": "code",
   "execution_count": 84,
   "metadata": {},
   "outputs": [
    {
     "name": "stderr",
     "output_type": "stream",
     "text": [
      "C:\\Users\\rands\\anaconda3\\lib\\site-packages\\sklearn\\utils\\validation.py:72: DataConversionWarning: A column-vector y was passed when a 1d array was expected. Please change the shape of y to (n_samples, ), for example using ravel().\n",
      "  return f(**kwargs)\n"
     ]
    },
    {
     "data": {
      "text/plain": [
       "GridSearchCV(cv=5,\n",
       "             estimator=Pipeline(steps=[('simpleimputer',\n",
       "                                        SimpleImputer(strategy='median')),\n",
       "                                       ('powertransformer', PowerTransformer()),\n",
       "                                       ('selectkbest',\n",
       "                                        SelectKBest(score_func=<function f_regression at 0x00000246984865E0>)),\n",
       "                                       ('linearregression',\n",
       "                                        LinearRegression())]),\n",
       "             n_jobs=-1,\n",
       "             param_grid={'selectkbest__k': [1, 2, 3, 4, 5, 6, 7, 8, 9, 10, 11,\n",
       "                                            12, 13, 14, 15, 16, 17, 18, 19]})"
      ]
     },
     "execution_count": 84,
     "metadata": {},
     "output_type": "execute_result"
    }
   ],
   "source": [
    "lr_grid_cv_LG.fit(X_train_LG, y_train_LG)"
   ]
  },
  {
   "cell_type": "code",
   "execution_count": 85,
   "metadata": {},
   "outputs": [],
   "source": [
    "score_mean_LG = lr_grid_cv_LG.cv_results_['mean_test_score']\n",
    "score_std_LG = lr_grid_cv_LG.cv_results_['std_test_score']\n",
    "cv_k_LG = [k_LG for k_LG in lr_grid_cv_LG.cv_results_['param_selectkbest__k']]"
   ]
  },
  {
   "cell_type": "code",
   "execution_count": 86,
   "metadata": {},
   "outputs": [
    {
     "data": {
      "text/plain": [
       "{'selectkbest__k': 16}"
      ]
     },
     "execution_count": 86,
     "metadata": {},
     "output_type": "execute_result"
    }
   ],
   "source": [
    "lr_grid_cv_LG.best_params_"
   ]
  },
  {
   "cell_type": "code",
   "execution_count": 87,
   "metadata": {
    "scrolled": true
   },
   "outputs": [
    {
     "data": {
      "image/png": "[encoded data removed]",
      "text/plain": [
       "<Figure size 720x360 with 1 Axes>"
      ]
     },
     "metadata": {
      "needs_background": "light"
     },
     "output_type": "display_data"
    }
   ],
   "source": [
    "best_k_LG = lr_grid_cv_LG.best_params_['selectkbest__k']\n",
    "plt.subplots(figsize=(10, 5))\n",
    "plt.errorbar(cv_k_LG, score_mean_LG, yerr=score_std_LG)\n",
    "plt.axvline(x=best_k_LG, c='r', ls='--', alpha=.5)\n",
    "plt.xlabel('k')\n",
    "plt.ylabel('LG ( X & y )  |  CV score (r-squared)')\n",
    "plt.title('LG ( X & y )  |  Pipeline mean CV score (error bars +/- 1sd)');"
   ]
  },
  {
   "cell_type": "code",
   "execution_count": 88,
   "metadata": {},
   "outputs": [],
   "source": [
    "RF_pipe_LG = make_pipeline(\n",
    "    SimpleImputer(strategy='median'),\n",
    "    PowerTransformer(),\n",
    "    RandomForestRegressor(random_state=47)\n",
    ")"
   ]
  },
  {
   "cell_type": "markdown",
   "metadata": {},
   "source": [
    "**Fit & assess performance using cross-validation**"
   ]
  },
  {
   "cell_type": "code",
   "execution_count": 89,
   "metadata": {},
   "outputs": [
    {
     "name": "stderr",
     "output_type": "stream",
     "text": [
      "C:\\Users\\rands\\anaconda3\\lib\\site-packages\\sklearn\\pipeline.py:335: DataConversionWarning: A column-vector y was passed when a 1d array was expected. Please change the shape of y to (n_samples,), for example using ravel().\n",
      "  self._final_estimator.fit(Xt, y, **fit_params_last_step)\n",
      "C:\\Users\\rands\\anaconda3\\lib\\site-packages\\sklearn\\pipeline.py:335: DataConversionWarning: A column-vector y was passed when a 1d array was expected. Please change the shape of y to (n_samples,), for example using ravel().\n",
      "  self._final_estimator.fit(Xt, y, **fit_params_last_step)\n",
      "C:\\Users\\rands\\anaconda3\\lib\\site-packages\\sklearn\\pipeline.py:335: DataConversionWarning: A column-vector y was passed when a 1d array was expected. Please change the shape of y to (n_samples,), for example using ravel().\n",
      "  self._final_estimator.fit(Xt, y, **fit_params_last_step)\n",
      "C:\\Users\\rands\\anaconda3\\lib\\site-packages\\sklearn\\pipeline.py:335: DataConversionWarning: A column-vector y was passed when a 1d array was expected. Please change the shape of y to (n_samples,), for example using ravel().\n",
      "  self._final_estimator.fit(Xt, y, **fit_params_last_step)\n",
      "C:\\Users\\rands\\anaconda3\\lib\\site-packages\\sklearn\\pipeline.py:335: DataConversionWarning: A column-vector y was passed when a 1d array was expected. Please change the shape of y to (n_samples,), for example using ravel().\n",
      "  self._final_estimator.fit(Xt, y, **fit_params_last_step)\n"
     ]
    }
   ],
   "source": [
    "rf_default_cv_results_LG = cross_validate(RF_pipe_LG, X_train_LG, y_train_LG, cv=5)"
   ]
  },
  {
   "cell_type": "code",
   "execution_count": 90,
   "metadata": {},
   "outputs": [
    {
     "data": {
      "text/plain": [
       "array([0.55640777, 0.26929799, 0.43065444, 0.37313693, 0.11771625])"
      ]
     },
     "execution_count": 90,
     "metadata": {},
     "output_type": "execute_result"
    }
   ],
   "source": [
    "rf_cv_scores_LG = rf_default_cv_results_LG['test_score']\n",
    "rf_cv_scores_LG"
   ]
  },
  {
   "cell_type": "code",
   "execution_count": 91,
   "metadata": {},
   "outputs": [
    {
     "data": {
      "text/plain": [
       "(0.34944267576644605, 0.1483992081611681)"
      ]
     },
     "execution_count": 91,
     "metadata": {},
     "output_type": "execute_result"
    }
   ],
   "source": [
    "np.mean(rf_cv_scores_LG), np.std(rf_cv_scores_LG)"
   ]
  },
  {
   "cell_type": "markdown",
   "metadata": {},
   "source": [
    "**Hyperparameter search using GridSearchCV**"
   ]
  },
  {
   "cell_type": "code",
   "execution_count": 92,
   "metadata": {},
   "outputs": [
    {
     "data": {
      "text/plain": [
       "{'randomforestregressor__n_estimators': [10,\n",
       "  12,\n",
       "  16,\n",
       "  20,\n",
       "  26,\n",
       "  33,\n",
       "  42,\n",
       "  54,\n",
       "  69,\n",
       "  88,\n",
       "  112,\n",
       "  143,\n",
       "  183,\n",
       "  233,\n",
       "  297,\n",
       "  379,\n",
       "  483,\n",
       "  615,\n",
       "  784,\n",
       "  1000],\n",
       " 'powertransformer': [PowerTransformer(), None],\n",
       " 'simpleimputer__strategy': ['mean', 'median']}"
      ]
     },
     "execution_count": 92,
     "metadata": {},
     "output_type": "execute_result"
    }
   ],
   "source": [
    "n_est_LG = [int(n) for n in np.logspace(start=1, stop=3, num=20)]\n",
    "grid_params_LG = {\n",
    "        'randomforestregressor__n_estimators': n_est,\n",
    "        'powertransformer': [PowerTransformer(), None],\n",
    "        'simpleimputer__strategy': ['mean', 'median']\n",
    "}\n",
    "grid_params_LG"
   ]
  },
  {
   "cell_type": "code",
   "execution_count": 93,
   "metadata": {},
   "outputs": [],
   "source": [
    "rf_grid_cv_LG = GridSearchCV(RF_pipe_LG, param_grid=grid_params_LG, cv=5, n_jobs=-1)"
   ]
  },
  {
   "cell_type": "code",
   "execution_count": 94,
   "metadata": {},
   "outputs": [
    {
     "name": "stderr",
     "output_type": "stream",
     "text": [
      "C:\\Users\\rands\\anaconda3\\lib\\site-packages\\sklearn\\pipeline.py:335: DataConversionWarning: A column-vector y was passed when a 1d array was expected. Please change the shape of y to (n_samples,), for example using ravel().\n",
      "  self._final_estimator.fit(Xt, y, **fit_params_last_step)\n"
     ]
    },
    {
     "data": {
      "text/plain": [
       "GridSearchCV(cv=5,\n",
       "             estimator=Pipeline(steps=[('simpleimputer',\n",
       "                                        SimpleImputer(strategy='median')),\n",
       "                                       ('powertransformer', PowerTransformer()),\n",
       "                                       ('randomforestregressor',\n",
       "                                        RandomForestRegressor(random_state=47))]),\n",
       "             n_jobs=-1,\n",
       "             param_grid={'powertransformer': [PowerTransformer(), None],\n",
       "                         'randomforestregressor__n_estimators': [10, 12, 16, 20,\n",
       "                                                                 26, 33, 42, 54,\n",
       "                                                                 69, 88, 112,\n",
       "                                                                 143, 183, 233,\n",
       "                                                                 297, 379, 483,\n",
       "                                                                 615, 784,\n",
       "                                                                 1000],\n",
       "                         'simpleimputer__strategy': ['mean', 'median']})"
      ]
     },
     "execution_count": 94,
     "metadata": {},
     "output_type": "execute_result"
    }
   ],
   "source": [
    "rf_grid_cv_LG.fit(X_train_LG, y_train_LG)"
   ]
  },
  {
   "cell_type": "code",
   "execution_count": 95,
   "metadata": {},
   "outputs": [
    {
     "data": {
      "text/plain": [
       "{'powertransformer': None,\n",
       " 'randomforestregressor__n_estimators': 42,\n",
       " 'simpleimputer__strategy': 'mean'}"
      ]
     },
     "execution_count": 95,
     "metadata": {},
     "output_type": "execute_result"
    }
   ],
   "source": [
    "rf_grid_cv_LG.best_params_"
   ]
  },
  {
   "cell_type": "code",
   "execution_count": 96,
   "metadata": {},
   "outputs": [
    {
     "name": "stderr",
     "output_type": "stream",
     "text": [
      "C:\\Users\\rands\\anaconda3\\lib\\site-packages\\sklearn\\pipeline.py:335: DataConversionWarning: A column-vector y was passed when a 1d array was expected. Please change the shape of y to (n_samples,), for example using ravel().\n",
      "  self._final_estimator.fit(Xt, y, **fit_params_last_step)\n",
      "C:\\Users\\rands\\anaconda3\\lib\\site-packages\\sklearn\\pipeline.py:335: DataConversionWarning: A column-vector y was passed when a 1d array was expected. Please change the shape of y to (n_samples,), for example using ravel().\n",
      "  self._final_estimator.fit(Xt, y, **fit_params_last_step)\n",
      "C:\\Users\\rands\\anaconda3\\lib\\site-packages\\sklearn\\pipeline.py:335: DataConversionWarning: A column-vector y was passed when a 1d array was expected. Please change the shape of y to (n_samples,), for example using ravel().\n",
      "  self._final_estimator.fit(Xt, y, **fit_params_last_step)\n",
      "C:\\Users\\rands\\anaconda3\\lib\\site-packages\\sklearn\\pipeline.py:335: DataConversionWarning: A column-vector y was passed when a 1d array was expected. Please change the shape of y to (n_samples,), for example using ravel().\n",
      "  self._final_estimator.fit(Xt, y, **fit_params_last_step)\n",
      "C:\\Users\\rands\\anaconda3\\lib\\site-packages\\sklearn\\pipeline.py:335: DataConversionWarning: A column-vector y was passed when a 1d array was expected. Please change the shape of y to (n_samples,), for example using ravel().\n",
      "  self._final_estimator.fit(Xt, y, **fit_params_last_step)\n"
     ]
    },
    {
     "data": {
      "text/plain": [
       "array([0.54688214, 0.23298632, 0.47792003, 0.3867005 , 0.12515904])"
      ]
     },
     "execution_count": 96,
     "metadata": {},
     "output_type": "execute_result"
    }
   ],
   "source": [
    "rf_best_cv_results_LG = cross_validate(rf_grid_cv_LG.best_estimator_, X_train_LG, y_train_LG, cv=5)\n",
    "rf_best_scores_LG = rf_best_cv_results_LG['test_score']\n",
    "rf_best_scores_LG"
   ]
  },
  {
   "cell_type": "code",
   "execution_count": 97,
   "metadata": {
    "scrolled": true
   },
   "outputs": [
    {
     "data": {
      "text/plain": [
       "(0.3539296070966673, 0.15533285907550348)"
      ]
     },
     "execution_count": 97,
     "metadata": {},
     "output_type": "execute_result"
    }
   ],
   "source": [
    "np.mean(rf_best_scores_LG), np.std(rf_best_scores_LG)"
   ]
  },
  {
   "cell_type": "code",
   "execution_count": 98,
   "metadata": {
    "scrolled": true
   },
   "outputs": [
    {
     "data": {
      "image/png": "[encoded data removed]",
      "text/plain": [
       "<Figure size 720x360 with 1 Axes>"
      ]
     },
     "metadata": {
      "needs_background": "light"
     },
     "output_type": "display_data"
    }
   ],
   "source": [
    "plt.subplots(figsize=(10, 5))\n",
    "imps_LG = rf_grid_cv_LG.best_estimator_.named_steps.randomforestregressor.feature_importances_\n",
    "rf_feat_imps_LG = pd.Series(imps_LG, index=X_train_LG.columns).sort_values(ascending=False)\n",
    "rf_feat_imps_LG.plot(kind='bar')\n",
    "plt.xlabel('variables')\n",
    "plt.ylabel('LG ( X & y )  |  importance')\n",
    "plt.title('Best random forest regressor of variable importances');"
   ]
  },
  {
   "cell_type": "code",
   "execution_count": null,
   "metadata": {},
   "outputs": [],
   "source": []
  },
  {
   "cell_type": "code",
   "execution_count": null,
   "metadata": {},
   "outputs": [],
   "source": []
  },
  {
   "cell_type": "markdown",
   "metadata": {},
   "source": [
    "**5.4.4 X only ( `_LG_y_uns` )**<a id='lg_y_un'></a>"
   ]
  },
  {
   "cell_type": "code",
   "execution_count": 99,
   "metadata": {},
   "outputs": [],
   "source": [
    "pipe_LG_y_uns = make_pipeline(\n",
    "    SimpleImputer(strategy='median'), \n",
    "    PowerTransformer(),\n",
    "    SelectKBest(f_regression),\n",
    "    LinearRegression() # should this be LogisticRegression()\n",
    ")"
   ]
  },
  {
   "cell_type": "code",
   "execution_count": 100,
   "metadata": {},
   "outputs": [],
   "source": [
    "k_LG_y_uns = [k_LG_y_uns+1 for k_LG_y_uns in range(len(X_train_LG_y_uns.columns))]\n",
    "grid_params_LG_y_uns = {'selectkbest__k': k_LG_y_uns}"
   ]
  },
  {
   "cell_type": "code",
   "execution_count": 101,
   "metadata": {
    "scrolled": true
   },
   "outputs": [],
   "source": [
    "lr_grid_cv_LG_y_uns = GridSearchCV(pipe_LG_y_uns, param_grid=grid_params_LG_y_uns, cv=5, n_jobs=-1)"
   ]
  },
  {
   "cell_type": "code",
   "execution_count": 102,
   "metadata": {},
   "outputs": [
    {
     "name": "stderr",
     "output_type": "stream",
     "text": [
      "C:\\Users\\rands\\anaconda3\\lib\\site-packages\\sklearn\\utils\\validation.py:72: DataConversionWarning: A column-vector y was passed when a 1d array was expected. Please change the shape of y to (n_samples, ), for example using ravel().\n",
      "  return f(**kwargs)\n"
     ]
    },
    {
     "data": {
      "text/plain": [
       "GridSearchCV(cv=5,\n",
       "             estimator=Pipeline(steps=[('simpleimputer',\n",
       "                                        SimpleImputer(strategy='median')),\n",
       "                                       ('powertransformer', PowerTransformer()),\n",
       "                                       ('selectkbest',\n",
       "                                        SelectKBest(score_func=<function f_regression at 0x00000246984865E0>)),\n",
       "                                       ('linearregression',\n",
       "                                        LinearRegression())]),\n",
       "             n_jobs=-1,\n",
       "             param_grid={'selectkbest__k': [1, 2, 3, 4, 5, 6, 7, 8, 9, 10, 11,\n",
       "                                            12, 13, 14, 15, 16, 17, 18, 19]})"
      ]
     },
     "execution_count": 102,
     "metadata": {},
     "output_type": "execute_result"
    }
   ],
   "source": [
    "lr_grid_cv_LG_y_uns.fit(X_train_LG_y_uns, y_train_LG_y_uns)"
   ]
  },
  {
   "cell_type": "code",
   "execution_count": 103,
   "metadata": {},
   "outputs": [],
   "source": [
    "score_mean_LG_y_uns = lr_grid_cv_LG_y_uns.cv_results_['mean_test_score']\n",
    "score_std_LG_y_uns = lr_grid_cv_LG_y_uns.cv_results_['std_test_score']\n",
    "cv_k_LG_y_uns = [k_LG_y_uns for k_LG_y_uns in lr_grid_cv_LG_y_uns.cv_results_['param_selectkbest__k']]"
   ]
  },
  {
   "cell_type": "code",
   "execution_count": 104,
   "metadata": {},
   "outputs": [
    {
     "data": {
      "text/plain": [
       "{'selectkbest__k': 2}"
      ]
     },
     "execution_count": 104,
     "metadata": {},
     "output_type": "execute_result"
    }
   ],
   "source": [
    "lr_grid_cv_LG_y_uns.best_params_"
   ]
  },
  {
   "cell_type": "code",
   "execution_count": 105,
   "metadata": {
    "scrolled": false
   },
   "outputs": [
    {
     "data": {
      "image/png": "[encoded data removed]",
      "text/plain": [
       "<Figure size 720x360 with 1 Axes>"
      ]
     },
     "metadata": {
      "needs_background": "light"
     },
     "output_type": "display_data"
    }
   ],
   "source": [
    "best_k_LG_y_uns = lr_grid_cv_LG_y_uns.best_params_['selectkbest__k']\n",
    "plt.subplots(figsize=(10, 5))\n",
    "plt.errorbar(cv_k_LG_y_uns, score_mean_LG_y_uns, yerr=score_std_LG_y_uns)\n",
    "plt.axvline(x=best_k_LG_y_uns, c='r', ls='--', alpha=.5)\n",
    "plt.xlabel('k')\n",
    "plt.ylabel('LG ( X only )  |  CV score (r-squared)')\n",
    "plt.title('LG ( X only )  |  Pipeline mean CV score (error bars +/- 1sd)');"
   ]
  },
  {
   "cell_type": "code",
   "execution_count": 106,
   "metadata": {},
   "outputs": [],
   "source": [
    "RF_pipe_LG_y_uns = make_pipeline(\n",
    "    SimpleImputer(strategy='median'),\n",
    "    PowerTransformer(),\n",
    "    RandomForestRegressor(random_state=47)\n",
    ")"
   ]
  },
  {
   "cell_type": "markdown",
   "metadata": {},
   "source": [
    "**Fit & assess performance using cross-validation**"
   ]
  },
  {
   "cell_type": "code",
   "execution_count": 107,
   "metadata": {},
   "outputs": [
    {
     "name": "stderr",
     "output_type": "stream",
     "text": [
      "C:\\Users\\rands\\anaconda3\\lib\\site-packages\\sklearn\\pipeline.py:335: DataConversionWarning: A column-vector y was passed when a 1d array was expected. Please change the shape of y to (n_samples,), for example using ravel().\n",
      "  self._final_estimator.fit(Xt, y, **fit_params_last_step)\n",
      "C:\\Users\\rands\\anaconda3\\lib\\site-packages\\sklearn\\pipeline.py:335: DataConversionWarning: A column-vector y was passed when a 1d array was expected. Please change the shape of y to (n_samples,), for example using ravel().\n",
      "  self._final_estimator.fit(Xt, y, **fit_params_last_step)\n",
      "C:\\Users\\rands\\anaconda3\\lib\\site-packages\\sklearn\\pipeline.py:335: DataConversionWarning: A column-vector y was passed when a 1d array was expected. Please change the shape of y to (n_samples,), for example using ravel().\n",
      "  self._final_estimator.fit(Xt, y, **fit_params_last_step)\n",
      "C:\\Users\\rands\\anaconda3\\lib\\site-packages\\sklearn\\pipeline.py:335: DataConversionWarning: A column-vector y was passed when a 1d array was expected. Please change the shape of y to (n_samples,), for example using ravel().\n",
      "  self._final_estimator.fit(Xt, y, **fit_params_last_step)\n",
      "C:\\Users\\rands\\anaconda3\\lib\\site-packages\\sklearn\\pipeline.py:335: DataConversionWarning: A column-vector y was passed when a 1d array was expected. Please change the shape of y to (n_samples,), for example using ravel().\n",
      "  self._final_estimator.fit(Xt, y, **fit_params_last_step)\n"
     ]
    }
   ],
   "source": [
    "rf_default_cv_results_LG_y_uns = cross_validate(RF_pipe_LG_y_uns, X_train_LG_y_uns, y_train_LG_y_uns, cv=5)"
   ]
  },
  {
   "cell_type": "code",
   "execution_count": 108,
   "metadata": {},
   "outputs": [
    {
     "data": {
      "text/plain": [
       "array([0.53508732, 0.26454595, 0.40680349, 0.38122595, 0.11746395])"
      ]
     },
     "execution_count": 108,
     "metadata": {},
     "output_type": "execute_result"
    }
   ],
   "source": [
    "rf_cv_scores_LG_y_uns = rf_default_cv_results_LG_y_uns['test_score']\n",
    "rf_cv_scores_LG_y_uns"
   ]
  },
  {
   "cell_type": "code",
   "execution_count": 109,
   "metadata": {},
   "outputs": [
    {
     "data": {
      "text/plain": [
       "(0.3410253318268131, 0.14101893198510382)"
      ]
     },
     "execution_count": 109,
     "metadata": {},
     "output_type": "execute_result"
    }
   ],
   "source": [
    "np.mean(rf_cv_scores_LG_y_uns), np.std(rf_cv_scores_LG_y_uns)"
   ]
  },
  {
   "cell_type": "markdown",
   "metadata": {},
   "source": [
    "**Hyperparameter search using GridSearchCV**"
   ]
  },
  {
   "cell_type": "code",
   "execution_count": 110,
   "metadata": {},
   "outputs": [
    {
     "data": {
      "text/plain": [
       "{'randomforestregressor__n_estimators': [10,\n",
       "  12,\n",
       "  16,\n",
       "  20,\n",
       "  26,\n",
       "  33,\n",
       "  42,\n",
       "  54,\n",
       "  69,\n",
       "  88,\n",
       "  112,\n",
       "  143,\n",
       "  183,\n",
       "  233,\n",
       "  297,\n",
       "  379,\n",
       "  483,\n",
       "  615,\n",
       "  784,\n",
       "  1000],\n",
       " 'powertransformer': [PowerTransformer(), None],\n",
       " 'simpleimputer__strategy': ['mean', 'median']}"
      ]
     },
     "execution_count": 110,
     "metadata": {},
     "output_type": "execute_result"
    }
   ],
   "source": [
    "n_est_LG_y_uns = [int(n) for n in np.logspace(start=1, stop=3, num=20)]\n",
    "grid_params_LG_y_uns = {\n",
    "        'randomforestregressor__n_estimators': n_est,\n",
    "        'powertransformer': [PowerTransformer(), None],\n",
    "        'simpleimputer__strategy': ['mean', 'median']\n",
    "}\n",
    "grid_params_LG_y_uns"
   ]
  },
  {
   "cell_type": "code",
   "execution_count": 111,
   "metadata": {},
   "outputs": [],
   "source": [
    "rf_grid_cv_LG_y_uns = GridSearchCV(RF_pipe_LG_y_uns, param_grid=grid_params_LG_y_uns, cv=5, n_jobs=-1)"
   ]
  },
  {
   "cell_type": "code",
   "execution_count": 112,
   "metadata": {},
   "outputs": [
    {
     "name": "stderr",
     "output_type": "stream",
     "text": [
      "C:\\Users\\rands\\anaconda3\\lib\\site-packages\\sklearn\\pipeline.py:335: DataConversionWarning: A column-vector y was passed when a 1d array was expected. Please change the shape of y to (n_samples,), for example using ravel().\n",
      "  self._final_estimator.fit(Xt, y, **fit_params_last_step)\n"
     ]
    },
    {
     "data": {
      "text/plain": [
       "GridSearchCV(cv=5,\n",
       "             estimator=Pipeline(steps=[('simpleimputer',\n",
       "                                        SimpleImputer(strategy='median')),\n",
       "                                       ('powertransformer', PowerTransformer()),\n",
       "                                       ('randomforestregressor',\n",
       "                                        RandomForestRegressor(random_state=47))]),\n",
       "             n_jobs=-1,\n",
       "             param_grid={'powertransformer': [PowerTransformer(), None],\n",
       "                         'randomforestregressor__n_estimators': [10, 12, 16, 20,\n",
       "                                                                 26, 33, 42, 54,\n",
       "                                                                 69, 88, 112,\n",
       "                                                                 143, 183, 233,\n",
       "                                                                 297, 379, 483,\n",
       "                                                                 615, 784,\n",
       "                                                                 1000],\n",
       "                         'simpleimputer__strategy': ['mean', 'median']})"
      ]
     },
     "execution_count": 112,
     "metadata": {},
     "output_type": "execute_result"
    }
   ],
   "source": [
    "rf_grid_cv_LG_y_uns.fit(X_train_LG_y_uns, y_train_LG_y_uns)"
   ]
  },
  {
   "cell_type": "code",
   "execution_count": 113,
   "metadata": {},
   "outputs": [
    {
     "data": {
      "text/plain": [
       "{'powertransformer': PowerTransformer(),\n",
       " 'randomforestregressor__n_estimators': 297,\n",
       " 'simpleimputer__strategy': 'mean'}"
      ]
     },
     "execution_count": 113,
     "metadata": {},
     "output_type": "execute_result"
    }
   ],
   "source": [
    "rf_grid_cv_LG_y_uns.best_params_"
   ]
  },
  {
   "cell_type": "code",
   "execution_count": 114,
   "metadata": {},
   "outputs": [
    {
     "name": "stderr",
     "output_type": "stream",
     "text": [
      "C:\\Users\\rands\\anaconda3\\lib\\site-packages\\sklearn\\pipeline.py:335: DataConversionWarning: A column-vector y was passed when a 1d array was expected. Please change the shape of y to (n_samples,), for example using ravel().\n",
      "  self._final_estimator.fit(Xt, y, **fit_params_last_step)\n",
      "C:\\Users\\rands\\anaconda3\\lib\\site-packages\\sklearn\\pipeline.py:335: DataConversionWarning: A column-vector y was passed when a 1d array was expected. Please change the shape of y to (n_samples,), for example using ravel().\n",
      "  self._final_estimator.fit(Xt, y, **fit_params_last_step)\n",
      "C:\\Users\\rands\\anaconda3\\lib\\site-packages\\sklearn\\pipeline.py:335: DataConversionWarning: A column-vector y was passed when a 1d array was expected. Please change the shape of y to (n_samples,), for example using ravel().\n",
      "  self._final_estimator.fit(Xt, y, **fit_params_last_step)\n",
      "C:\\Users\\rands\\anaconda3\\lib\\site-packages\\sklearn\\pipeline.py:335: DataConversionWarning: A column-vector y was passed when a 1d array was expected. Please change the shape of y to (n_samples,), for example using ravel().\n",
      "  self._final_estimator.fit(Xt, y, **fit_params_last_step)\n",
      "C:\\Users\\rands\\anaconda3\\lib\\site-packages\\sklearn\\pipeline.py:335: DataConversionWarning: A column-vector y was passed when a 1d array was expected. Please change the shape of y to (n_samples,), for example using ravel().\n",
      "  self._final_estimator.fit(Xt, y, **fit_params_last_step)\n"
     ]
    },
    {
     "data": {
      "text/plain": [
       "array([0.56609839, 0.29861832, 0.39369591, 0.35292386, 0.13431136])"
      ]
     },
     "execution_count": 114,
     "metadata": {},
     "output_type": "execute_result"
    }
   ],
   "source": [
    "rf_best_cv_results_LG_y_uns = cross_validate(rf_grid_cv_LG_y_uns.best_estimator_, X_train_LG_y_uns, y_train_LG_y_uns, cv=5)\n",
    "rf_best_scores_LG_y_uns = rf_best_cv_results_LG_y_uns['test_score']\n",
    "rf_best_scores_LG_y_uns"
   ]
  },
  {
   "cell_type": "code",
   "execution_count": 115,
   "metadata": {},
   "outputs": [
    {
     "data": {
      "text/plain": [
       "(0.34912956945386736, 0.13983867311674578)"
      ]
     },
     "execution_count": 115,
     "metadata": {},
     "output_type": "execute_result"
    }
   ],
   "source": [
    "np.mean(rf_best_scores_LG_y_uns), np.std(rf_best_scores_LG_y_uns)"
   ]
  },
  {
   "cell_type": "code",
   "execution_count": 116,
   "metadata": {
    "scrolled": true
   },
   "outputs": [
    {
     "data": {
      "image/png": "[encoded data removed]",
      "text/plain": [
       "<Figure size 720x360 with 1 Axes>"
      ]
     },
     "metadata": {
      "needs_background": "light"
     },
     "output_type": "display_data"
    }
   ],
   "source": [
    "plt.subplots(figsize=(10, 5))\n",
    "imps_LG_y_uns = rf_grid_cv_LG_y_uns.best_estimator_.named_steps.randomforestregressor.feature_importances_\n",
    "rf_feat_imps_LG_y_uns = pd.Series(imps_LG_y_uns, index=X_train_LG_y_uns.columns).sort_values(ascending=False)\n",
    "rf_feat_imps_LG_y_uns.plot(kind='bar')\n",
    "plt.xlabel('variables')\n",
    "plt.ylabel('LG ( X only )  |  importance')\n",
    "plt.title('BestBest random forest regressor of variable importances');"
   ]
  },
  {
   "cell_type": "markdown",
   "metadata": {},
   "source": [
    "**5.4.5 Combination of `SS` & `LG` for X only ( `_SS_LG` )**<a id='combo'></a>"
   ]
  },
  {
   "cell_type": "code",
   "execution_count": 117,
   "metadata": {},
   "outputs": [],
   "source": [
    "pipe__SS_LG = make_pipeline(\n",
    "    SimpleImputer(strategy='median'), \n",
    "    StandardScaler(),\n",
    "    SelectKBest(f_regression),\n",
    "    LinearRegression() # should this be LogisticRegression()\n",
    ")"
   ]
  },
  {
   "cell_type": "code",
   "execution_count": 118,
   "metadata": {},
   "outputs": [],
   "source": [
    "k_SS_LG = [k_SS_LG+1 for k_SS_LG in range(len(X_tr_SS_LG.columns))]\n",
    "grid_params_SS_LG = {'selectkbest__k': k_SS_LG}"
   ]
  },
  {
   "cell_type": "code",
   "execution_count": 119,
   "metadata": {
    "scrolled": true
   },
   "outputs": [],
   "source": [
    "lr_grid_cv_SS_LG = GridSearchCV(pipe__SS_LG, param_grid=grid_params_SS_LG, cv=5, n_jobs=-1)"
   ]
  },
  {
   "cell_type": "code",
   "execution_count": 120,
   "metadata": {},
   "outputs": [
    {
     "name": "stderr",
     "output_type": "stream",
     "text": [
      "C:\\Users\\rands\\anaconda3\\lib\\site-packages\\sklearn\\utils\\validation.py:72: DataConversionWarning: A column-vector y was passed when a 1d array was expected. Please change the shape of y to (n_samples, ), for example using ravel().\n",
      "  return f(**kwargs)\n"
     ]
    },
    {
     "data": {
      "text/plain": [
       "GridSearchCV(cv=5,\n",
       "             estimator=Pipeline(steps=[('simpleimputer',\n",
       "                                        SimpleImputer(strategy='median')),\n",
       "                                       ('standardscaler', StandardScaler()),\n",
       "                                       ('selectkbest',\n",
       "                                        SelectKBest(score_func=<function f_regression at 0x00000246984865E0>)),\n",
       "                                       ('linearregression',\n",
       "                                        LinearRegression())]),\n",
       "             n_jobs=-1,\n",
       "             param_grid={'selectkbest__k': [1, 2, 3, 4, 5, 6, 7, 8, 9, 10, 11,\n",
       "                                            12, 13, 14, 15, 16, 17, 18, 19]})"
      ]
     },
     "execution_count": 120,
     "metadata": {},
     "output_type": "execute_result"
    }
   ],
   "source": [
    "lr_grid_cv_SS_LG.fit(X_tr_SS_LG, y_tr_y_uns)"
   ]
  },
  {
   "cell_type": "code",
   "execution_count": 121,
   "metadata": {},
   "outputs": [],
   "source": [
    "score_mean_SS_LG = lr_grid_cv_SS_LG.cv_results_['mean_test_score']\n",
    "score_std_SS_LG = lr_grid_cv_SS_LG.cv_results_['std_test_score']\n",
    "cv_k_SS_LG = [k_SS_LG for k_SS_LG in lr_grid_cv_SS_LG.cv_results_['param_selectkbest__k']]"
   ]
  },
  {
   "cell_type": "code",
   "execution_count": 122,
   "metadata": {},
   "outputs": [
    {
     "data": {
      "text/plain": [
       "{'selectkbest__k': 7}"
      ]
     },
     "execution_count": 122,
     "metadata": {},
     "output_type": "execute_result"
    }
   ],
   "source": [
    "lr_grid_cv_SS_LG.best_params_"
   ]
  },
  {
   "cell_type": "code",
   "execution_count": 123,
   "metadata": {
    "scrolled": false
   },
   "outputs": [
    {
     "data": {
      "image/png": "[encoded data removed]",
      "text/plain": [
       "<Figure size 720x360 with 1 Axes>"
      ]
     },
     "metadata": {
      "needs_background": "light"
     },
     "output_type": "display_data"
    }
   ],
   "source": [
    "best_k_SS_LG = lr_grid_cv_SS_LG.best_params_['selectkbest__k']\n",
    "plt.subplots(figsize=(10, 5))\n",
    "plt.errorbar(cv_k_SS_LG, score_mean_SS_LG, yerr=score_std_SS_LG)\n",
    "plt.axvline(x=best_k_SS_LG, c='r', ls='--', alpha=.5)\n",
    "plt.xlabel('k')\n",
    "plt.ylabel('SS & LG ( X only )  |  CV score (r-squared)')\n",
    "plt.title('SS & LG ( X only )  |  Pipeline mean CV score (error bars +/- 1sd)');"
   ]
  },
  {
   "cell_type": "code",
   "execution_count": 124,
   "metadata": {},
   "outputs": [],
   "source": [
    "RF_pipe_SS_LG = make_pipeline(\n",
    "    SimpleImputer(strategy='median'),\n",
    "    StandardScaler(),\n",
    "    RandomForestRegressor(random_state=47)\n",
    ")"
   ]
  },
  {
   "cell_type": "markdown",
   "metadata": {},
   "source": [
    "**Fit & assess performance using cross-validation**"
   ]
  },
  {
   "cell_type": "code",
   "execution_count": 125,
   "metadata": {},
   "outputs": [
    {
     "name": "stderr",
     "output_type": "stream",
     "text": [
      "C:\\Users\\rands\\anaconda3\\lib\\site-packages\\sklearn\\pipeline.py:335: DataConversionWarning: A column-vector y was passed when a 1d array was expected. Please change the shape of y to (n_samples,), for example using ravel().\n",
      "  self._final_estimator.fit(Xt, y, **fit_params_last_step)\n",
      "C:\\Users\\rands\\anaconda3\\lib\\site-packages\\sklearn\\pipeline.py:335: DataConversionWarning: A column-vector y was passed when a 1d array was expected. Please change the shape of y to (n_samples,), for example using ravel().\n",
      "  self._final_estimator.fit(Xt, y, **fit_params_last_step)\n",
      "C:\\Users\\rands\\anaconda3\\lib\\site-packages\\sklearn\\pipeline.py:335: DataConversionWarning: A column-vector y was passed when a 1d array was expected. Please change the shape of y to (n_samples,), for example using ravel().\n",
      "  self._final_estimator.fit(Xt, y, **fit_params_last_step)\n",
      "C:\\Users\\rands\\anaconda3\\lib\\site-packages\\sklearn\\pipeline.py:335: DataConversionWarning: A column-vector y was passed when a 1d array was expected. Please change the shape of y to (n_samples,), for example using ravel().\n",
      "  self._final_estimator.fit(Xt, y, **fit_params_last_step)\n",
      "C:\\Users\\rands\\anaconda3\\lib\\site-packages\\sklearn\\pipeline.py:335: DataConversionWarning: A column-vector y was passed when a 1d array was expected. Please change the shape of y to (n_samples,), for example using ravel().\n",
      "  self._final_estimator.fit(Xt, y, **fit_params_last_step)\n"
     ]
    }
   ],
   "source": [
    "rf_default_cv_results_SS_LG = cross_validate(RF_pipe_SS_LG, X_tr_SS_LG, y_tr_y_uns, cv=5)"
   ]
  },
  {
   "cell_type": "code",
   "execution_count": 126,
   "metadata": {},
   "outputs": [
    {
     "data": {
      "text/plain": [
       "array([0.52747076, 0.26722429, 0.41757566, 0.36677184, 0.12027908])"
      ]
     },
     "execution_count": 126,
     "metadata": {},
     "output_type": "execute_result"
    }
   ],
   "source": [
    "rf_cv_scores_SS_LG = rf_default_cv_results_SS_LG['test_score']\n",
    "rf_cv_scores_SS_LG"
   ]
  },
  {
   "cell_type": "code",
   "execution_count": 127,
   "metadata": {},
   "outputs": [
    {
     "data": {
      "text/plain": [
       "(0.3398643267525429, 0.13816909323560148)"
      ]
     },
     "execution_count": 127,
     "metadata": {},
     "output_type": "execute_result"
    }
   ],
   "source": [
    "np.mean(rf_cv_scores_SS_LG), np.std(rf_cv_scores_SS_LG)"
   ]
  },
  {
   "cell_type": "markdown",
   "metadata": {},
   "source": [
    "**Hyperparameter search using GridSearchCV**"
   ]
  },
  {
   "cell_type": "code",
   "execution_count": 128,
   "metadata": {},
   "outputs": [
    {
     "data": {
      "text/plain": [
       "{'randomforestregressor__n_estimators': [10,\n",
       "  12,\n",
       "  16,\n",
       "  20,\n",
       "  26,\n",
       "  33,\n",
       "  42,\n",
       "  54,\n",
       "  69,\n",
       "  88,\n",
       "  112,\n",
       "  143,\n",
       "  183,\n",
       "  233,\n",
       "  297,\n",
       "  379,\n",
       "  483,\n",
       "  615,\n",
       "  784,\n",
       "  1000],\n",
       " 'standardscaler': [StandardScaler(), None],\n",
       " 'simpleimputer__strategy': ['mean', 'median']}"
      ]
     },
     "execution_count": 128,
     "metadata": {},
     "output_type": "execute_result"
    }
   ],
   "source": [
    "n_est_SS_LG = [int(n) for n in np.logspace(start=1, stop=3, num=20)]\n",
    "grid_params_SS_LG = {\n",
    "        'randomforestregressor__n_estimators': n_est,\n",
    "        'standardscaler': [StandardScaler(), None],\n",
    "        'simpleimputer__strategy': ['mean', 'median']\n",
    "}\n",
    "grid_params_SS_LG"
   ]
  },
  {
   "cell_type": "code",
   "execution_count": 129,
   "metadata": {},
   "outputs": [],
   "source": [
    "rf_grid_cv_SS_LG = GridSearchCV(RF_pipe_SS_LG, param_grid=grid_params_SS_LG, cv=5, n_jobs=-1)"
   ]
  },
  {
   "cell_type": "code",
   "execution_count": 130,
   "metadata": {},
   "outputs": [
    {
     "name": "stderr",
     "output_type": "stream",
     "text": [
      "C:\\Users\\rands\\anaconda3\\lib\\site-packages\\sklearn\\pipeline.py:335: DataConversionWarning: A column-vector y was passed when a 1d array was expected. Please change the shape of y to (n_samples,), for example using ravel().\n",
      "  self._final_estimator.fit(Xt, y, **fit_params_last_step)\n"
     ]
    },
    {
     "data": {
      "text/plain": [
       "GridSearchCV(cv=5,\n",
       "             estimator=Pipeline(steps=[('simpleimputer',\n",
       "                                        SimpleImputer(strategy='median')),\n",
       "                                       ('standardscaler', StandardScaler()),\n",
       "                                       ('randomforestregressor',\n",
       "                                        RandomForestRegressor(random_state=47))]),\n",
       "             n_jobs=-1,\n",
       "             param_grid={'randomforestregressor__n_estimators': [10, 12, 16, 20,\n",
       "                                                                 26, 33, 42, 54,\n",
       "                                                                 69, 88, 112,\n",
       "                                                                 143, 183, 233,\n",
       "                                                                 297, 379, 483,\n",
       "                                                                 615, 784,\n",
       "                                                                 1000],\n",
       "                         'simpleimputer__strategy': ['mean', 'median'],\n",
       "                         'standardscaler': [StandardScaler(), None]})"
      ]
     },
     "execution_count": 130,
     "metadata": {},
     "output_type": "execute_result"
    }
   ],
   "source": [
    "rf_grid_cv_SS_LG.fit(X_tr_SS_LG, y_tr_y_uns)"
   ]
  },
  {
   "cell_type": "code",
   "execution_count": 131,
   "metadata": {},
   "outputs": [
    {
     "data": {
      "text/plain": [
       "{'randomforestregressor__n_estimators': 297,\n",
       " 'simpleimputer__strategy': 'mean',\n",
       " 'standardscaler': None}"
      ]
     },
     "execution_count": 131,
     "metadata": {},
     "output_type": "execute_result"
    }
   ],
   "source": [
    "rf_grid_cv_SS_LG.best_params_"
   ]
  },
  {
   "cell_type": "code",
   "execution_count": 132,
   "metadata": {},
   "outputs": [
    {
     "name": "stderr",
     "output_type": "stream",
     "text": [
      "C:\\Users\\rands\\anaconda3\\lib\\site-packages\\sklearn\\pipeline.py:335: DataConversionWarning: A column-vector y was passed when a 1d array was expected. Please change the shape of y to (n_samples,), for example using ravel().\n",
      "  self._final_estimator.fit(Xt, y, **fit_params_last_step)\n",
      "C:\\Users\\rands\\anaconda3\\lib\\site-packages\\sklearn\\pipeline.py:335: DataConversionWarning: A column-vector y was passed when a 1d array was expected. Please change the shape of y to (n_samples,), for example using ravel().\n",
      "  self._final_estimator.fit(Xt, y, **fit_params_last_step)\n",
      "C:\\Users\\rands\\anaconda3\\lib\\site-packages\\sklearn\\pipeline.py:335: DataConversionWarning: A column-vector y was passed when a 1d array was expected. Please change the shape of y to (n_samples,), for example using ravel().\n",
      "  self._final_estimator.fit(Xt, y, **fit_params_last_step)\n",
      "C:\\Users\\rands\\anaconda3\\lib\\site-packages\\sklearn\\pipeline.py:335: DataConversionWarning: A column-vector y was passed when a 1d array was expected. Please change the shape of y to (n_samples,), for example using ravel().\n",
      "  self._final_estimator.fit(Xt, y, **fit_params_last_step)\n",
      "C:\\Users\\rands\\anaconda3\\lib\\site-packages\\sklearn\\pipeline.py:335: DataConversionWarning: A column-vector y was passed when a 1d array was expected. Please change the shape of y to (n_samples,), for example using ravel().\n",
      "  self._final_estimator.fit(Xt, y, **fit_params_last_step)\n"
     ]
    },
    {
     "data": {
      "text/plain": [
       "array([0.56954685, 0.29943012, 0.4075392 , 0.35284671, 0.14347374])"
      ]
     },
     "execution_count": 132,
     "metadata": {},
     "output_type": "execute_result"
    }
   ],
   "source": [
    "rf_best_cv_results_SS_LG = cross_validate(rf_grid_cv_SS_LG.best_estimator_, X_tr_SS_LG, y_tr_y_uns, cv=5)\n",
    "rf_best_scores_SS_LG = rf_best_cv_results_SS_LG['test_score']\n",
    "rf_best_scores_SS_LG"
   ]
  },
  {
   "cell_type": "code",
   "execution_count": 133,
   "metadata": {
    "scrolled": true
   },
   "outputs": [
    {
     "data": {
      "text/plain": [
       "(0.3545673242113222, 0.139014953785226)"
      ]
     },
     "execution_count": 133,
     "metadata": {},
     "output_type": "execute_result"
    }
   ],
   "source": [
    "np.mean(rf_best_scores_SS_LG), np.std(rf_best_scores_SS_LG)"
   ]
  },
  {
   "cell_type": "code",
   "execution_count": 134,
   "metadata": {
    "scrolled": true
   },
   "outputs": [
    {
     "data": {
      "image/png": "[encoded data removed]",
      "text/plain": [
       "<Figure size 720x360 with 1 Axes>"
      ]
     },
     "metadata": {
      "needs_background": "light"
     },
     "output_type": "display_data"
    }
   ],
   "source": [
    "plt.subplots(figsize=(10, 5))\n",
    "imps_SS_LG = rf_grid_cv_SS_LG.best_estimator_.named_steps.randomforestregressor.feature_importances_\n",
    "rf_feat_imps_SS_LG = pd.Series(imps_SS_LG, index=X_tr_SS_LG.columns).sort_values(ascending=False)\n",
    "rf_feat_imps_SS_LG.plot(kind='bar')\n",
    "plt.xlabel('variables')\n",
    "plt.ylabel('SS & LG ( X only )  |  importance')\n",
    "plt.title('Best random forest regressor of variable importances');"
   ]
  },
  {
   "cell_type": "markdown",
   "metadata": {},
   "source": [
    "## 5.5 Initial Findings<a id='int_find'></a>"
   ]
  },
  {
   "cell_type": "markdown",
   "metadata": {},
   "source": [
    "By and large, `Wages CPI` is a dominate variable in the model. This makes sense due to it's connection with `Inflation` itself. `Wages CPI` may also summarize `Initial Jobless Claims` & `Unemployment Rate` leaving them potentially redundant.\n",
    "\n",
    "Although Financial data may be difficult to model, `WTI` is #2 on all approaches. I believe this makes sense given it's incorporated in just about every activity & purchase that is made in the United States. Take for example a loaf of bread. The grains required to make dough are usually plowed by a tractor using gasoline ( which is made with oil ). It is then transported to a bakery ( using gasoline ). It's then transported to a store, purchased by a customer & driven home ( all using a derivative of oil ). "
   ]
  },
  {
   "cell_type": "markdown",
   "metadata": {},
   "source": [
    "## 5.6 Modeling with Most important Variables<a id='mod_imp'></a>"
   ]
  },
  {
   "cell_type": "markdown",
   "metadata": {},
   "source": [
    "We will now rerun the modeling process using only `Wages CPI` & `WTI`. Before so, we will pull back in fresh sets of data to ensure cleanliness​ & then drop \"the others\"."
   ]
  },
  {
   "cell_type": "code",
   "execution_count": 135,
   "metadata": {},
   "outputs": [
    {
     "name": "stdout",
     "output_type": "stream",
     "text": [
      "Finished; proceed.\n"
     ]
    }
   ],
   "source": [
    "# StandardScaler | X & y scaled\n",
    "X_train_SS_two = pd.read_excel('./_Capstone_One_Inflation/data/4.0 Pre Processing Data/X_train_SS.xlsx', index_col=None)\n",
    "y_train_SS_two = pd.read_excel('./_Capstone_One_Inflation/data/4.0 Pre Processing Data/y_train_SS.xlsx', index_col=None)\n",
    "X_test_SS_two = pd.read_excel('./_Capstone_One_Inflation/data/4.0 Pre Processing Data/X_test_SS.xlsx', index_col=None)\n",
    "y_test_SS_two = pd.read_excel('./_Capstone_One_Inflation/data/4.0 Pre Processing Data/y_test_SS.xlsx', index_col=None)\n",
    "\n",
    "# Standard Scaler | X only scaled\n",
    "X_train_SS_y_uns_two = pd.read_excel('./_Capstone_One_Inflation/data/4.0 Pre Processing Data/X_train_SS_y_uns.xlsx', index_col=None)\n",
    "y_train_SS_y_uns_two = pd.read_excel('./_Capstone_One_Inflation/data/4.0 Pre Processing Data/y_train_SS_y_uns.xlsx', index_col=None)\n",
    "X_test_SS_y_uns_two = pd.read_excel('./_Capstone_One_Inflation/data/4.0 Pre Processing Data/X_test_SS_y_uns.xlsx', index_col=None)\n",
    "y_test_SS_y_uns_two = pd.read_excel('./_Capstone_One_Inflation/data/4.0 Pre Processing Data/y_test_SS_y_uns.xlsx', index_col=None)\n",
    "\n",
    "# Log Scaler | X & y scaled\n",
    "X_train_LG_two = pd.read_excel('./_Capstone_One_Inflation/data/4.0 Pre Processing Data/X_train_LG.xlsx', index_col=None)\n",
    "y_train_LG_two = pd.read_excel('./_Capstone_One_Inflation/data/4.0 Pre Processing Data/y_train_LG.xlsx', index_col=None)\n",
    "X_test_LG_two = pd.read_excel('./_Capstone_One_Inflation/data/4.0 Pre Processing Data/X_test_LG.xlsx', index_col=None)\n",
    "y_test_LG_two = pd.read_excel('./_Capstone_One_Inflation/data/4.0 Pre Processing Data/y_test_LG.xlsx', index_col=None)\n",
    "\n",
    "# Log Scaler | X only scaled\n",
    "X_train_LG_y_uns_two = pd.read_excel('./_Capstone_One_Inflation/data/4.0 Pre Processing Data/X_train_LG_y_uns.xlsx', index_col=None)\n",
    "y_train_LG_y_uns_two = pd.read_excel('./_Capstone_One_Inflation/data/4.0 Pre Processing Data/y_train_LG_y_uns.xlsx', index_col=None)\n",
    "X_test_LG_y_uns_two = pd.read_excel('./_Capstone_One_Inflation/data/4.0 Pre Processing Data/X_test_LG_y_uns.xlsx', index_col=None)\n",
    "y_test_LG_y_uns_two = pd.read_excel('./_Capstone_One_Inflation/data/4.0 Pre Processing Data/y_test_LG.xlsx', index_col=None)\n",
    "\n",
    "# StandardScaler & Log Combined | X only scaled\n",
    "X_tr_SS_LG_two = pd.read_excel('./_Capstone_One_Inflation/data/4.0 Pre Processing Data/X_tr_SS_LG.xlsx', index_col=None)\n",
    "y_tr_y_uns_two = pd.read_excel('./_Capstone_One_Inflation/data/4.0 Pre Processing Data/y_tr_y_uns.xlsx', index_col=None)\n",
    "X_te_SS_LG_two = pd.read_excel('./_Capstone_One_Inflation/data/4.0 Pre Processing Data/X_te_SS_LG.xlsx', index_col=None)\n",
    "y_te_y_uns_two = pd.read_excel('./_Capstone_One_Inflation/data/4.0 Pre Processing Data/y_te_y_uns.xlsx', index_col=None)\n",
    "\n",
    "print('Finished; proceed.')"
   ]
  },
  {
   "cell_type": "markdown",
   "metadata": {},
   "source": [
    "Below we will assign the columns to drop on both the `X` & `y` data sets."
   ]
  },
  {
   "cell_type": "code",
   "execution_count": 137,
   "metadata": {},
   "outputs": [],
   "source": [
    "y_prev_cols = ['Unnamed: 0']"
   ]
  },
  {
   "cell_type": "code",
   "execution_count": 138,
   "metadata": {},
   "outputs": [],
   "source": [
    "X_prev_cols_SS = ['Unnamed: 0','Copper_SS', 'Soybeans_SS',\n",
    "       'Natural Gas_SS', 'Heating Oil_SS', 'Corn_SS', 'Wheat_SS', 'Cattle_SS',\n",
    "       'Lean Hogs_SS', 'Sugar_SS', 'Lumber_SS', 'Capacity Utilization_SS',\n",
    "       'GDP_SS', 'M2 Velocity_SS', 'PMI_SS', 'USD Index_SS',\n",
    "       'Initial Jobless Claims_SS', 'Unemployment Rate_SS']"
   ]
  },
  {
   "cell_type": "markdown",
   "metadata": {},
   "source": [
    "We will now drop them."
   ]
  },
  {
   "cell_type": "code",
   "execution_count": 139,
   "metadata": {},
   "outputs": [
    {
     "name": "stdout",
     "output_type": "stream",
     "text": [
      "Finished; proceed.\n"
     ]
    }
   ],
   "source": [
    "# StandardScaler | X & y scaled\n",
    "X_train_SS_two.drop(columns=X_prev_cols_SS, inplace=True)\n",
    "y_train_SS_two.drop(columns=y_prev_cols, inplace=True)\n",
    "X_test_SS_two.drop(columns=X_prev_cols_SS, inplace=True)\n",
    "y_test_SS_two.drop(columns=y_prev_cols, inplace=True)\n",
    "\n",
    "print('Finished; proceed.')"
   ]
  },
  {
   "cell_type": "code",
   "execution_count": 140,
   "metadata": {},
   "outputs": [],
   "source": [
    "X_prev_cols_SS_yun = ['Unnamed: 0', 'Copper_SS_yun',\n",
    "       'Soybeans_SS_yun', 'Natural Gas_SS_yun', 'Heating Oil_SS_yun',\n",
    "       'Corn_SS_yun', 'Wheat_SS_yun', 'Cattle_SS_yun', 'Lean Hogs_SS_yun',\n",
    "       'Sugar_SS_yun', 'Lumber_SS_yun', 'Capacity Utilization_SS_yun',\n",
    "       'GDP_SS_yun', 'M2 Velocity_SS_yun', 'PMI_SS_yun', 'USD Index_SS_yun',\n",
    "       'Initial Jobless Claims_SS_yun', 'Unemployment Rate_SS_yun']"
   ]
  },
  {
   "cell_type": "code",
   "execution_count": 141,
   "metadata": {},
   "outputs": [
    {
     "name": "stdout",
     "output_type": "stream",
     "text": [
      "Finished; proceed.\n"
     ]
    }
   ],
   "source": [
    "# Standard Scaler | X only scaled\n",
    "X_train_SS_y_uns_two.drop(columns=X_prev_cols_SS_yun, inplace=True)\n",
    "y_train_SS_y_uns_two.drop(columns=y_prev_cols, inplace=True)\n",
    "X_test_SS_y_uns_two.drop(columns=X_prev_cols_SS_yun, inplace=True)\n",
    "y_test_SS_y_uns_two.drop(columns=y_prev_cols, inplace=True)\n",
    "print('Finished; proceed.')"
   ]
  },
  {
   "cell_type": "code",
   "execution_count": 142,
   "metadata": {},
   "outputs": [],
   "source": [
    "X_prev_cols_LG = ['Unnamed: 0', 'Copper_LG', 'Soybeans_LG',\n",
    "       'Natural Gas_LG', 'Heating Oil_LG', 'Corn_LG', 'Wheat_LG', 'Cattle_LG',\n",
    "       'Lean Hogs_LG', 'Sugar_LG', 'Lumber_LG', 'Capacity Utilization_LG',\n",
    "       'GDP_LG', 'M2 Velocity_LG', 'PMI_LG', 'USD Index_LG',\n",
    "       'Initial Jobless Claims_LG', 'Unemployment Rate_LG']"
   ]
  },
  {
   "cell_type": "code",
   "execution_count": 143,
   "metadata": {},
   "outputs": [
    {
     "name": "stdout",
     "output_type": "stream",
     "text": [
      "Finished; proceed.\n"
     ]
    }
   ],
   "source": [
    "# Log Scaler | X & y scaled\n",
    "X_train_LG_two.drop(columns=X_prev_cols_LG, inplace=True)\n",
    "y_train_LG_two.drop(columns=y_prev_cols, inplace=True)\n",
    "X_test_LG_two.drop(columns=X_prev_cols_LG, inplace=True)\n",
    "y_test_LG_two.drop(columns=y_prev_cols, inplace=True)\n",
    "print('Finished; proceed.')"
   ]
  },
  {
   "cell_type": "code",
   "execution_count": 144,
   "metadata": {},
   "outputs": [],
   "source": [
    "X_prev_cols_LG_y_uns = ['Unnamed: 0','Copper_LG', 'Soybeans_LG',\n",
    "       'Natural Gas_LG', 'Heating Oil_LG', 'Corn_LG', 'Wheat_LG', 'Cattle_LG',\n",
    "       'Lean Hogs_LG', 'Sugar_LG', 'Lumber_LG', 'Capacity Utilization_LG',\n",
    "       'GDP_LG', 'M2 Velocity_LG', 'PMI_LG', 'USD Index_LG',\n",
    "       'Initial Jobless Claims_LG', 'Unemployment Rate_LG']"
   ]
  },
  {
   "cell_type": "code",
   "execution_count": 145,
   "metadata": {},
   "outputs": [
    {
     "name": "stdout",
     "output_type": "stream",
     "text": [
      "Finished; proceed.\n"
     ]
    }
   ],
   "source": [
    "# Log Scaler | X only scaled\n",
    "X_train_LG_y_uns_two.drop(columns=X_prev_cols_LG_y_uns, inplace=True)\n",
    "y_train_LG_y_uns_two.drop(columns=y_prev_cols, inplace=True)\n",
    "X_test_LG_y_uns_two.drop(columns=X_prev_cols_LG_y_uns, inplace=True)\n",
    "y_test_LG_y_uns_two.drop(columns=y_prev_cols, inplace=True)\n",
    "print('Finished; proceed.')"
   ]
  },
  {
   "cell_type": "code",
   "execution_count": 146,
   "metadata": {},
   "outputs": [],
   "source": [
    "X_prev_cols_LG_y_uns = ['Unnamed: 0','Copper_SS_yun', 'Soybeans_SS_yun',\n",
    "       'Natural Gas_SS_yun', 'Heating Oil_SS_yun', 'Corn_SS_yun',\n",
    "       'Wheat_SS_yun', 'Cattle_SS_yun', 'Lean Hogs_SS_yun', 'Sugar_SS_yun',\n",
    "       'Lumber_SS_yun', 'PMI_SS_yun', 'USD Index_SS_yun',\n",
    "       'Capacity Utilization_LG', 'GDP_LG', 'M2 Velocity_LG',\n",
    "       'Initial Jobless Claims_LG', 'Unemployment Rate_LG']"
   ]
  },
  {
   "cell_type": "code",
   "execution_count": 147,
   "metadata": {},
   "outputs": [
    {
     "name": "stdout",
     "output_type": "stream",
     "text": [
      "Finished; proceed.\n"
     ]
    }
   ],
   "source": [
    "# StandardScaler & Log Combined | X only scaled\n",
    "X_tr_SS_LG_two.drop(columns=X_prev_cols_LG_y_uns, inplace=True)\n",
    "y_tr_y_uns_two.drop(columns=y_prev_cols, inplace=True)\n",
    "X_te_SS_LG_two.drop(columns=X_prev_cols_LG_y_uns, inplace=True)\n",
    "y_te_y_uns_two.drop(columns=y_prev_cols, inplace=True)\n",
    "print('Finished; proceed.')"
   ]
  },
  {
   "cell_type": "code",
   "execution_count": null,
   "metadata": {},
   "outputs": [],
   "source": []
  },
  {
   "cell_type": "markdown",
   "metadata": {},
   "source": [
    "**5.6.1 X & y ( `_SS_two` )**<a id='ss_imp'></a>"
   ]
  },
  {
   "cell_type": "code",
   "execution_count": 148,
   "metadata": {},
   "outputs": [
    {
     "name": "stderr",
     "output_type": "stream",
     "text": [
      "C:\\Users\\rands\\anaconda3\\lib\\site-packages\\sklearn\\utils\\validation.py:67: FutureWarning: Pass fit_intercept=     Wages CPI_SS    WTI_SS\n",
      "0       -0.272503  0.770139\n",
      "1        0.081334 -0.036542\n",
      "2       -0.668041 -0.496463\n",
      "3        0.427689  0.697303\n",
      "4        0.073309 -0.130975\n",
      "..            ...       ...\n",
      "213     -1.469548 -1.079604\n",
      "214     -0.956924 -0.948540\n",
      "215      0.171832 -1.022849\n",
      "216      0.323446  0.420422\n",
      "217     -0.263450  0.806356\n",
      "\n",
      "[218 rows x 2 columns], normalize=     Inflation_SS\n",
      "0       -0.562434\n",
      "1        0.804029\n",
      "2       -0.426288\n",
      "3        0.062092\n",
      "4        0.466785\n",
      "..            ...\n",
      "213     -1.043320\n",
      "214     -0.318869\n",
      "215      0.476777\n",
      "216      0.494264\n",
      "217     -0.658611\n",
      "\n",
      "[218 rows x 1 columns] as keyword args. From version 0.25 passing these as positional arguments will result in an error\n",
      "  warnings.warn(\"Pass {} as keyword args. From version 0.25 \"\n"
     ]
    }
   ],
   "source": [
    "reg_all_SS = LinearRegression(X_train_SS_two,y_train_SS_two)"
   ]
  },
  {
   "cell_type": "code",
   "execution_count": 149,
   "metadata": {},
   "outputs": [],
   "source": [
    "lm = LinearRegression().fit(X_train_SS_two,y_train_SS_two)"
   ]
  },
  {
   "cell_type": "code",
   "execution_count": 150,
   "metadata": {},
   "outputs": [],
   "source": [
    "y_tr_pred_SS_two = lm.predict(X_train_SS_two)\n",
    "y_te_pred_SS_two = lm.predict(X_test_SS_two)"
   ]
  },
  {
   "cell_type": "code",
   "execution_count": 151,
   "metadata": {},
   "outputs": [
    {
     "data": {
      "text/plain": [
       "(0.2923681313966007, 0.4240302078454755)"
      ]
     },
     "execution_count": 151,
     "metadata": {},
     "output_type": "execute_result"
    }
   ],
   "source": [
    "median_r2_SS = r2_score(y_train_SS_two, y_tr_pred_SS_two), r2_score(y_test_SS_two, y_te_pred_SS_two)\n",
    "median_r2_SS"
   ]
  },
  {
   "cell_type": "code",
   "execution_count": 152,
   "metadata": {},
   "outputs": [
    {
     "data": {
      "text/plain": [
       "(0.5639042268290253, 0.5810986097687129)"
      ]
     },
     "execution_count": 152,
     "metadata": {},
     "output_type": "execute_result"
    }
   ],
   "source": [
    "median_mae_SS = mean_absolute_error( y_train_SS_two, y_tr_pred_SS_two ), mean_absolute_error( y_test_SS_two, y_te_pred_SS_two )\n",
    "median_mae_SS"
   ]
  },
  {
   "cell_type": "code",
   "execution_count": 153,
   "metadata": {
    "scrolled": true
   },
   "outputs": [
    {
     "data": {
      "text/plain": [
       "(0.7076318686033993, 0.6877395599516605)"
      ]
     },
     "execution_count": 153,
     "metadata": {},
     "output_type": "execute_result"
    }
   ],
   "source": [
    "median_mse_SS = mean_squared_error( y_train_SS_two, y_tr_pred_SS_two ), mean_squared_error( y_test_SS_two, y_te_pred_SS_two )\n",
    "median_mse_SS"
   ]
  },
  {
   "cell_type": "code",
   "execution_count": null,
   "metadata": {},
   "outputs": [],
   "source": []
  },
  {
   "cell_type": "markdown",
   "metadata": {},
   "source": [
    "**5.6.2 X only ( `_SS_y_uns_two` )**<a id='ss_imp_uns'></a>"
   ]
  },
  {
   "cell_type": "code",
   "execution_count": 154,
   "metadata": {},
   "outputs": [
    {
     "name": "stderr",
     "output_type": "stream",
     "text": [
      "C:\\Users\\rands\\anaconda3\\lib\\site-packages\\sklearn\\utils\\validation.py:67: FutureWarning: Pass fit_intercept=     Wages CPI_SS_yun  WTI_SS_yun\n",
      "0           -0.272503    0.770139\n",
      "1            0.081334   -0.036542\n",
      "2           -0.668041   -0.496463\n",
      "3            0.427689    0.697303\n",
      "4            0.073309   -0.130975\n",
      "..                ...         ...\n",
      "213         -1.469548   -1.079604\n",
      "214         -0.956924   -0.948540\n",
      "215          0.171832   -1.022849\n",
      "216          0.323446    0.420422\n",
      "217         -0.263450    0.806356\n",
      "\n",
      "[218 rows x 2 columns], normalize=     Inflation\n",
      "0       -0.523\n",
      "1        0.571\n",
      "2       -0.414\n",
      "3       -0.023\n",
      "4        0.301\n",
      "..         ...\n",
      "213     -0.908\n",
      "214     -0.328\n",
      "215      0.309\n",
      "216      0.323\n",
      "217     -0.600\n",
      "\n",
      "[218 rows x 1 columns] as keyword args. From version 0.25 passing these as positional arguments will result in an error\n",
      "  warnings.warn(\"Pass {} as keyword args. From version 0.25 \"\n"
     ]
    }
   ],
   "source": [
    "reg_all_SS_y_uns = LinearRegression(X_train_SS_y_uns_two,y_train_SS_y_uns_two)"
   ]
  },
  {
   "cell_type": "code",
   "execution_count": 155,
   "metadata": {},
   "outputs": [],
   "source": [
    "lm = LinearRegression().fit(X_train_SS_y_uns_two,y_train_SS_y_uns_two)"
   ]
  },
  {
   "cell_type": "code",
   "execution_count": 156,
   "metadata": {},
   "outputs": [],
   "source": [
    "y_tr_pred_SS_y_uns_two = lm.predict(X_train_SS_y_uns_two)\n",
    "y_te_pred_SS_y_uns_two = lm.predict(X_test_SS_y_uns_two)"
   ]
  },
  {
   "cell_type": "code",
   "execution_count": 157,
   "metadata": {},
   "outputs": [
    {
     "data": {
      "text/plain": [
       "(0.29236813139660045, 0.34892190460918115)"
      ]
     },
     "execution_count": 157,
     "metadata": {},
     "output_type": "execute_result"
    }
   ],
   "source": [
    "median_r2_SS_y_uns_two = r2_score(y_train_SS_y_uns_two, y_tr_pred_SS_y_uns_two), r2_score(y_test_SS_y_uns_two, y_te_pred_SS_y_uns_two)\n",
    "median_r2_SS_y_uns_two"
   ]
  },
  {
   "cell_type": "code",
   "execution_count": 158,
   "metadata": {},
   "outputs": [
    {
     "data": {
      "text/plain": [
       "(0.4514656985846598, 0.6126980813030144)"
      ]
     },
     "execution_count": 158,
     "metadata": {},
     "output_type": "execute_result"
    }
   ],
   "source": [
    "median_mae_SS_y_uns_two = mean_absolute_error( y_train_SS_y_uns_two, y_tr_pred_SS_y_uns_two ), mean_absolute_error( y_test_SS_y_uns_two, y_te_pred_SS_y_uns_two )\n",
    "median_mae_SS_y_uns_two"
   ]
  },
  {
   "cell_type": "code",
   "execution_count": 159,
   "metadata": {
    "scrolled": true
   },
   "outputs": [
    {
     "data": {
      "text/plain": [
       "(0.45357196346904216, 0.7774229984237021)"
      ]
     },
     "execution_count": 159,
     "metadata": {},
     "output_type": "execute_result"
    }
   ],
   "source": [
    "median_mse_SS_y_uns_two = mean_squared_error( y_train_SS_y_uns_two, y_tr_pred_SS_y_uns_two ), mean_squared_error( y_test_SS_y_uns_two, y_te_pred_SS_y_uns_two )\n",
    "median_mse_SS_y_uns_two"
   ]
  },
  {
   "cell_type": "markdown",
   "metadata": {},
   "source": [
    "**5.6.3 X & y ( `_LG_two` )**<a id='lg_imp'></a>"
   ]
  },
  {
   "cell_type": "code",
   "execution_count": 160,
   "metadata": {},
   "outputs": [
    {
     "name": "stderr",
     "output_type": "stream",
     "text": [
      "C:\\Users\\rands\\anaconda3\\lib\\site-packages\\sklearn\\utils\\validation.py:67: FutureWarning: Pass fit_intercept=     Wages CPI_LG    WTI_LG\n",
      "0       -0.397872  0.760495\n",
      "1       -0.011931 -0.081808\n",
      "2       -0.796923 -0.534214\n",
      "3        0.394366  0.681918\n",
      "4       -0.021002 -0.176343\n",
      "..            ...       ...\n",
      "213     -1.511169 -1.080798\n",
      "214     -1.068244 -0.960407\n",
      "215      0.091424 -1.028833\n",
      "216      0.268994  0.387757\n",
      "217     -0.388347  0.799750\n",
      "\n",
      "[218 rows x 2 columns], normalize=     Inflation_LG\n",
      "0       -0.554933\n",
      "1        0.808334\n",
      "2       -0.416118\n",
      "3        0.076718\n",
      "4        0.478078\n",
      "..            ...\n",
      "213     -1.049346\n",
      "214     -0.307001\n",
      "215      0.487913\n",
      "216      0.505117\n",
      "217     -0.653323\n",
      "\n",
      "[218 rows x 1 columns] as keyword args. From version 0.25 passing these as positional arguments will result in an error\n",
      "  warnings.warn(\"Pass {} as keyword args. From version 0.25 \"\n"
     ]
    }
   ],
   "source": [
    "reg_all_LG_two = LinearRegression(X_train_LG_two,y_train_LG_two)"
   ]
  },
  {
   "cell_type": "code",
   "execution_count": 161,
   "metadata": {},
   "outputs": [],
   "source": [
    "lm = LinearRegression().fit(X_train_LG_two,y_train_LG_two)"
   ]
  },
  {
   "cell_type": "code",
   "execution_count": 162,
   "metadata": {},
   "outputs": [],
   "source": [
    "y_tr_pred_LG_two = lm.predict(X_train_LG_two)\n",
    "y_te_pred_LG_two = lm.predict(X_test_LG_two)"
   ]
  },
  {
   "cell_type": "code",
   "execution_count": 163,
   "metadata": {},
   "outputs": [
    {
     "data": {
      "text/plain": [
       "(0.28147110772740536, 0.3673257337177088)"
      ]
     },
     "execution_count": 163,
     "metadata": {},
     "output_type": "execute_result"
    }
   ],
   "source": [
    "median_r2_LG_two = r2_score(y_train_LG_two, y_tr_pred_LG_two), r2_score(y_test_LG_two, y_te_pred_LG_two)\n",
    "median_r2_LG_two"
   ]
  },
  {
   "cell_type": "code",
   "execution_count": 164,
   "metadata": {},
   "outputs": [
    {
     "data": {
      "text/plain": [
       "(0.572734312022224, 0.5979566321547266)"
      ]
     },
     "execution_count": 164,
     "metadata": {},
     "output_type": "execute_result"
    }
   ],
   "source": [
    "median_mae_LG_two = mean_absolute_error( y_train_LG_two, y_tr_pred_LG_two ), mean_absolute_error( y_test_LG_two, y_te_pred_LG_two )\n",
    "median_mae_LG_two"
   ]
  },
  {
   "cell_type": "code",
   "execution_count": 165,
   "metadata": {
    "scrolled": false
   },
   "outputs": [
    {
     "data": {
      "text/plain": [
       "(0.7185288922725946, 0.7762905719353863)"
      ]
     },
     "execution_count": 165,
     "metadata": {},
     "output_type": "execute_result"
    }
   ],
   "source": [
    "median_mse_LG_two = mean_squared_error( y_train_LG_two, y_tr_pred_LG_two ), mean_squared_error( y_test_LG_two, y_te_pred_LG_two )\n",
    "median_mse_LG_two"
   ]
  },
  {
   "cell_type": "code",
   "execution_count": null,
   "metadata": {},
   "outputs": [],
   "source": []
  },
  {
   "cell_type": "markdown",
   "metadata": {},
   "source": [
    "**5.6.4 X & y ( `_LG_y_uns_two` )**<a id='ss_lg_imp'></a>"
   ]
  },
  {
   "cell_type": "code",
   "execution_count": 166,
   "metadata": {},
   "outputs": [
    {
     "name": "stderr",
     "output_type": "stream",
     "text": [
      "C:\\Users\\rands\\anaconda3\\lib\\site-packages\\sklearn\\utils\\validation.py:67: FutureWarning: Pass fit_intercept=     Wages CPI_LG    WTI_LG\n",
      "0       -0.397872  0.760495\n",
      "1       -0.011931 -0.081808\n",
      "2       -0.796923 -0.534214\n",
      "3        0.394366  0.681918\n",
      "4       -0.021002 -0.176343\n",
      "..            ...       ...\n",
      "213     -1.511169 -1.080798\n",
      "214     -1.068244 -0.960407\n",
      "215      0.091424 -1.028833\n",
      "216      0.268994  0.387757\n",
      "217     -0.388347  0.799750\n",
      "\n",
      "[218 rows x 2 columns], normalize=     Inflation\n",
      "0       -0.523\n",
      "1        0.571\n",
      "2       -0.414\n",
      "3       -0.023\n",
      "4        0.301\n",
      "..         ...\n",
      "213     -0.908\n",
      "214     -0.328\n",
      "215      0.309\n",
      "216      0.323\n",
      "217     -0.600\n",
      "\n",
      "[218 rows x 1 columns] as keyword args. From version 0.25 passing these as positional arguments will result in an error\n",
      "  warnings.warn(\"Pass {} as keyword args. From version 0.25 \"\n"
     ]
    }
   ],
   "source": [
    "reg_all_LG_y_uns_two = LinearRegression(X_train_LG_y_uns_two,y_train_LG_y_uns_two)"
   ]
  },
  {
   "cell_type": "code",
   "execution_count": 167,
   "metadata": {},
   "outputs": [],
   "source": [
    "lm = LinearRegression().fit(X_train_LG_y_uns_two,y_train_LG_y_uns_two)"
   ]
  },
  {
   "cell_type": "code",
   "execution_count": 168,
   "metadata": {},
   "outputs": [],
   "source": [
    "y_tr_pred_LG_y_uns_two = lm.predict(X_train_LG_y_uns_two)\n",
    "y_te_pred_LG_y_uns_two = lm.predict(X_test_LG_y_uns_two)"
   ]
  },
  {
   "cell_type": "code",
   "execution_count": 169,
   "metadata": {},
   "outputs": [
    {
     "data": {
      "text/plain": [
       "(0.2778182024710858, 0.2979043416106304)"
      ]
     },
     "execution_count": 169,
     "metadata": {},
     "output_type": "execute_result"
    }
   ],
   "source": [
    "median_r2_LG_y_uns_two = r2_score(y_train_LG_y_uns_two, y_tr_pred_LG_y_uns_two), r2_score(y_test_LG_y_uns_two, y_te_pred_LG_y_uns_two)\n",
    "median_r2_LG_y_uns_two"
   ]
  },
  {
   "cell_type": "code",
   "execution_count": 170,
   "metadata": {},
   "outputs": [
    {
     "data": {
      "text/plain": [
       "(0.45723904177514785, 0.627202595874049)"
      ]
     },
     "execution_count": 170,
     "metadata": {},
     "output_type": "execute_result"
    }
   ],
   "source": [
    "median_mae_LG_y_uns_two = mean_absolute_error( y_train_LG_y_uns_two, y_tr_pred_LG_y_uns_two ), mean_absolute_error( y_test_LG_y_uns_two, y_te_pred_LG_y_uns_two )\n",
    "median_mae_LG_y_uns_two"
   ]
  },
  {
   "cell_type": "code",
   "execution_count": 171,
   "metadata": {
    "scrolled": false
   },
   "outputs": [
    {
     "data": {
      "text/plain": [
       "(0.46289805535931483, 0.8614705374491236)"
      ]
     },
     "execution_count": 171,
     "metadata": {},
     "output_type": "execute_result"
    }
   ],
   "source": [
    "median_mse_LG_y_uns_two = mean_squared_error( y_train_LG_y_uns_two, y_tr_pred_LG_y_uns_two ), mean_squared_error( y_test_LG_y_uns_two, y_te_pred_LG_y_uns_two )\n",
    "median_mse_LG_y_uns_two"
   ]
  },
  {
   "cell_type": "code",
   "execution_count": null,
   "metadata": {},
   "outputs": [],
   "source": []
  },
  {
   "cell_type": "markdown",
   "metadata": {},
   "source": [
    "**5.6.5 X only ( `_SS_LG_two` )**<a id='ss_lg_imp_n'></a>"
   ]
  },
  {
   "cell_type": "code",
   "execution_count": 172,
   "metadata": {},
   "outputs": [
    {
     "name": "stderr",
     "output_type": "stream",
     "text": [
      "C:\\Users\\rands\\anaconda3\\lib\\site-packages\\sklearn\\utils\\validation.py:67: FutureWarning: Pass fit_intercept=     WTI_SS_yun  Wages CPI_LG\n",
      "0      0.770139     -0.397872\n",
      "1     -0.036542     -0.011931\n",
      "2     -0.496463     -0.796923\n",
      "3      0.697303      0.394366\n",
      "4     -0.130975     -0.021002\n",
      "..          ...           ...\n",
      "213   -1.079604     -1.511169\n",
      "214   -0.948540     -1.068244\n",
      "215   -1.022849      0.091424\n",
      "216    0.420422      0.268994\n",
      "217    0.806356     -0.388347\n",
      "\n",
      "[218 rows x 2 columns], normalize=     Inflation\n",
      "0       -0.523\n",
      "1        0.571\n",
      "2       -0.414\n",
      "3       -0.023\n",
      "4        0.301\n",
      "..         ...\n",
      "213     -0.908\n",
      "214     -0.328\n",
      "215      0.309\n",
      "216      0.323\n",
      "217     -0.600\n",
      "\n",
      "[218 rows x 1 columns] as keyword args. From version 0.25 passing these as positional arguments will result in an error\n",
      "  warnings.warn(\"Pass {} as keyword args. From version 0.25 \"\n"
     ]
    }
   ],
   "source": [
    "reg_all_SS_LG_two = LinearRegression(X_tr_SS_LG_two,y_tr_y_uns_two)"
   ]
  },
  {
   "cell_type": "code",
   "execution_count": 173,
   "metadata": {},
   "outputs": [],
   "source": [
    "lm = LinearRegression().fit(X_tr_SS_LG_two,y_tr_y_uns_two)"
   ]
  },
  {
   "cell_type": "code",
   "execution_count": 174,
   "metadata": {},
   "outputs": [],
   "source": [
    "y_tr_pred_SS_LG_two = lm.predict(X_tr_SS_LG_two)\n",
    "y_te_pred_SS_LG_two = lm.predict(X_te_SS_LG_two)"
   ]
  },
  {
   "cell_type": "code",
   "execution_count": 175,
   "metadata": {},
   "outputs": [
    {
     "data": {
      "text/plain": [
       "(0.2840045428629028, 0.37606902602990677)"
      ]
     },
     "execution_count": 175,
     "metadata": {},
     "output_type": "execute_result"
    }
   ],
   "source": [
    "median_r2_SS_LG_two = r2_score(y_tr_y_uns_two, y_tr_pred_SS_LG_two), r2_score(y_te_y_uns_two, y_te_pred_SS_LG_two)\n",
    "median_r2_SS_LG_two"
   ]
  },
  {
   "cell_type": "code",
   "execution_count": 176,
   "metadata": {},
   "outputs": [
    {
     "data": {
      "text/plain": [
       "(0.45723904177514785, 0.627202595874049)"
      ]
     },
     "execution_count": 176,
     "metadata": {},
     "output_type": "execute_result"
    }
   ],
   "source": [
    "median_mae_SS_LG_two = mean_absolute_error( y_train_LG_y_uns_two, y_tr_pred_LG_y_uns_two ), mean_absolute_error( y_test_LG_y_uns_two, y_te_pred_LG_y_uns_two )\n",
    "median_mae_SS_LG_two"
   ]
  },
  {
   "cell_type": "code",
   "execution_count": 177,
   "metadata": {
    "scrolled": false
   },
   "outputs": [
    {
     "data": {
      "text/plain": [
       "(0.46289805535931483, 0.8614705374491236)"
      ]
     },
     "execution_count": 177,
     "metadata": {},
     "output_type": "execute_result"
    }
   ],
   "source": [
    "median_mse_SS_LG_two = mean_squared_error( y_train_LG_y_uns_two, y_tr_pred_LG_y_uns_two ), mean_squared_error( y_test_LG_y_uns_two, y_te_pred_LG_y_uns_two )\n",
    "median_mse_SS_LG_two"
   ]
  },
  {
   "cell_type": "markdown",
   "metadata": {},
   "source": [
    "## 5.7 Conclusion<a id='conclusion'></a>"
   ]
  },
  {
   "cell_type": "markdown",
   "metadata": {},
   "source": [
    "We utilized the random forest model to determine which variables were of most importance in understanding `Inflation`; there are `Wages CPI` & `WTI`. \n",
    "\n",
    "We then isolated these two ( 2 ) variables to model against `Inflation`; we will summarize the findings below:"
   ]
  },
  {
   "cell_type": "code",
   "execution_count": 178,
   "metadata": {},
   "outputs": [
    {
     "name": "stdout",
     "output_type": "stream",
     "text": [
      " R² results for X & y scaled below \n",
      " SS Train | 0.2924   Test 0.424 \n",
      " LG Train | 0.2815   Test 0.3673 \n",
      " \n",
      " R² results for X only scaled below \n",
      " SS Train | 0.2924   Test 0.3489 \n",
      " LG Train | 0.2778   Test 0.2979 \n",
      " \n",
      " R² results for the LG & SS combination below \n",
      " SS Train | 0.284   Test 0.3761\n"
     ]
    }
   ],
   "source": [
    "print(' R² results for X & y scaled below',\n",
    "    '\\n','SS Train |',round(median_r2_SS[0],4),'  Test', round(median_r2_SS[1],4),\n",
    "\n",
    "      '\\n','LG Train |',round(median_r2_LG_two[0],4),'  Test', round(median_r2_LG_two[1],4),'\\n','\\n',\n",
    "\n",
    "     'R² results for X only scaled below',\n",
    "    '\\n','SS Train |',round(median_r2_SS_y_uns_two[0],4),'  Test', round(median_r2_SS_y_uns_two[1],4),\n",
    "\n",
    "      '\\n','LG Train |',round(median_r2_LG_y_uns_two[0],4),'  Test', round(median_r2_LG_y_uns_two[1],4),'\\n','\\n'\n",
    "\n",
    "      ' R² results for the LG & SS combination below',\n",
    "    '\\n','SS Train |',round(median_r2_SS_LG_two[0],4),'  Test', round(median_r2_SS_LG_two[1],4),\n",
    "\n",
    "     )"
   ]
  },
  {
   "cell_type": "markdown",
   "metadata": {},
   "source": [
    "After removing variables which were deemed to be hurting the performance with the Random Forest Model, the results show a marginal benifit. The `SS` on the `X` & `y` scaled proved to be the best. This benifit is most notably shown as no negative outputs on either the training or test sets. \n",
    "\n",
    "Below we will look at the `mae` & `mse` scores as well."
   ]
  },
  {
   "cell_type": "code",
   "execution_count": 179,
   "metadata": {},
   "outputs": [
    {
     "name": "stdout",
     "output_type": "stream",
     "text": [
      " MAE results for X & y scaled below \n",
      " SS Train | 0.5639   Test 0.5811 \n",
      " LG Train | 0.5727   Test 0.598 \n",
      " \n",
      " MAE results for X only scaled below \n",
      " SS Train | 0.4515   Test 0.6127 \n",
      " LG Train | 0.4572   Test 0.6272 \n",
      " \n",
      " MAE results for the LG & SS combination below \n",
      " SS Train | 0.4572   Test 0.6272\n"
     ]
    }
   ],
   "source": [
    "print(' MAE results for X & y scaled below',\n",
    "    '\\n','SS Train |',round(median_mae_SS[0],4),'  Test', round(median_mae_SS[1],4),\n",
    "     \n",
    "      '\\n','LG Train |',round(median_mae_LG_two[0],4),'  Test', round(median_mae_LG_two[1],4),'\\n','\\n',\n",
    "      \n",
    "     'MAE results for X only scaled below',\n",
    "    '\\n','SS Train |',round(median_mae_SS_y_uns_two[0],4),'  Test', round(median_mae_SS_y_uns_two[1],4),\n",
    "     \n",
    "      '\\n','LG Train |',round(median_mae_LG_y_uns_two[0],4),'  Test', round(median_mae_LG_y_uns_two[1],4),'\\n','\\n',\n",
    "      \n",
    "      'MAE results for the LG & SS combination below',\n",
    "    '\\n','SS Train |',round(median_mae_SS_LG_two[0],4),'  Test', round(median_mae_SS_LG_two[1],4),\n",
    "      \n",
    "     )"
   ]
  },
  {
   "cell_type": "code",
   "execution_count": 180,
   "metadata": {},
   "outputs": [
    {
     "name": "stdout",
     "output_type": "stream",
     "text": [
      " MSE results for X & y scaled below \n",
      " SS Train | 0.7076   Test 0.6877 \n",
      " LG Train | 0.7185   Test 0.7763 \n",
      " \n",
      " MSE results for X only scaled below \n",
      " SS Train | 0.4536   Test 0.7774 \n",
      " LG Train | 0.4629   Test 0.8615 \n",
      " \n",
      " MSE results for the LG & SS combination below \n",
      " SS Train | 0.4629   Test 0.8615\n"
     ]
    }
   ],
   "source": [
    "print(' MSE results for X & y scaled below',\n",
    "    '\\n','SS Train |',round(median_mse_SS[0],4),'  Test', round(median_mse_SS[1],4),\n",
    "      \n",
    "      '\\n','LG Train |',round(median_mse_LG_two[0],4),'  Test', round(median_mse_LG_two[1],4),\n",
    "      '\\n','\\n',\n",
    "     'MSE results for X only scaled below',\n",
    "    '\\n','SS Train |',round(median_mse_SS_y_uns_two[0],4),'  Test', round(median_mse_SS_y_uns_two[1],4),\n",
    "      \n",
    "      '\\n','LG Train |',round(median_mse_LG_y_uns_two[0],4),'  Test', round(median_mse_LG_y_uns_two[1],4),\n",
    "      '\\n','\\n',\n",
    "      'MSE results for the LG & SS combination below',\n",
    "    '\\n','SS Train |',round(median_mse_SS_LG_two[0],4),'  Test', round(median_mse_SS_LG_two[1],4),\n",
    "     \n",
    "     )"
   ]
  },
  {
   "cell_type": "markdown",
   "metadata": {},
   "source": [
    "These show drops in all with the exception of `SS` `X only` which saw an increase of 3.5 bps & 14.4 bps on `MAE` & `MSE` respectively. \n",
    "\n",
    "As the `R²` for `SS` `X & y` in the test set presented the best results with the lowest `mae` & `mse`, I confirm this is the final selection as the test set is the arbiter.\n",
    "\n",
    "As for a recap, we have now gone through the machine learning process with the help of Random Forests to:\n",
    "   * Scale the data effectively\n",
    "   * Identify the most important variables\n",
    "\n",
    "I will end with a comparison of where we started to where we ended. \n",
    "\n",
    "We started with 19 variables which best correlated with `Inflation`. We then used discrete tacks to fill the data gaps & using a rolling average on all was determined the best: results below:"
   ]
  },
  {
   "cell_type": "code",
   "execution_count": 181,
   "metadata": {},
   "outputs": [
    {
     "name": "stdout",
     "output_type": "stream",
     "text": [
      " R2   |   0.254 \n",
      " MAE  |   0.563 \n",
      " MSE  |   0.7556\n"
     ]
    }
   ],
   "source": [
    "r_squared_rolling = 0.2540058046120104\n",
    "mae_rolling = 0.5629835145954647\n",
    "mse_rolling = 0.7556127599870052\n",
    "\n",
    "print(' R2   |  ', round(0.2540058046120104,4),'\\n',\n",
    "      'MAE  |  ', round(0.5629835145954647,4),'\\n',\n",
    "      'MSE  |  ', round(0.7556127599870052,4)\n",
    "\n",
    ")"
   ]
  },
  {
   "cell_type": "markdown",
   "metadata": {},
   "source": [
    "We then reviewed `Standard Scaling` (`SS`), `MinMax Scaling` (`MM`) & `Log Transformation` (`LG`) on the X & y variables; as well as X only.\n",
    "\n",
    "During the process it was determined that a potential combination of `SS` & `LG` may work. `y` was not scaled while all the `X` variables were scaled with `SS` with the exception of the below which were scaled with `LG`:\n",
    "   * `Wages CPI`\n",
    "   * `Capacity Utilization`\n",
    "   * `GDP`\n",
    "   * `M2 Velocity`\n",
    "   * `Initial Jobless Claims`\n",
    "   * `Unemployment Rate`"
   ]
  },
  {
   "cell_type": "code",
   "execution_count": 182,
   "metadata": {},
   "outputs": [
    {
     "name": "stdout",
     "output_type": "stream",
     "text": [
      " R² results for X & y scaled below \n",
      " SS Train | 0.3966   Test 0.2796 \n",
      " MM Train | 0.0424   Test -0.1085 \n",
      " LG Train | 0.4149   Test -23.8319 \n",
      " \n",
      " R² results for X only scaled below \n",
      " SS Train | 0.4185   Test 0.254 \n",
      " MM Train | -0.2444  Test -0.0533 \n",
      " LG Train | 0.4142   Test -23.4693 \n",
      " \n",
      " R² results for the LG & SS combination below \n",
      " SS Train | 0.4067   Test -22.811 \n",
      " \n",
      " R² averages of LG & SS X only scaled below \n",
      " Av. Train | 0.4164   Test -11.6077\n"
     ]
    }
   ],
   "source": [
    "print( ' R² results for X & y scaled below',\n",
    "    '\\n','SS Train |',round(0.3966,4),'  Test', round(0.2796,4),\n",
    "\n",
    "      '\\n','MM Train |',round(0.0424,4),'  Test', round(-0.1085,4),\n",
    "\n",
    "      '\\n','LG Train |',round(0.4149,4),'  Test', round(-23.8319,4),'\\n','\\n',\n",
    "      \n",
    "     'R² results for X only scaled below',\n",
    "    '\\n','SS Train |',round(0.4185,4),'  Test', round(0.254,4),\n",
    "\n",
    "      '\\n','MM Train |',round(-0.2444,4),' Test', round(-0.0533,4),\n",
    "\n",
    "      '\\n','LG Train |',round(0.4142,4),'  Test', round(-23.4693,4),'\\n','\\n',\n",
    "      \n",
    "      'R² results for the LG & SS combination below',\n",
    "    '\\n','SS Train |',round(0.4067,4),'  Test', round(-22.811,4),'\\n','\\n',\n",
    "      \n",
    "      'R² averages of LG & SS X only scaled below',\n",
    "    '\\n','Av. Train |',round(0.4164,4),\n",
    "      '  Test', round(-11.6077,4),\n",
    "     )"
   ]
  },
  {
   "cell_type": "markdown",
   "metadata": {},
   "source": [
    "It was determined that `MM` did not work. We then ran the others through Random Forest modeling to determine which variables were best helping our cause. I am presenting below the results for `SS` on both `X` & `y` below but all of the x5 configurations showed the same result:"
   ]
  },
  {
   "cell_type": "code",
   "execution_count": 183,
   "metadata": {},
   "outputs": [
    {
     "data": {
      "image/png": "[encoded data removed]",
      "text/plain": [
       "<Figure size 648x288 with 1 Axes>"
      ]
     },
     "metadata": {
      "needs_background": "light"
     },
     "output_type": "display_data"
    }
   ],
   "source": [
    "plt.subplots(figsize=(9, 4))\n",
    "imps = rf_grid_cv.best_estimator_.named_steps.randomforestregressor.feature_importances_\n",
    "rf_feat_imps = pd.Series(imps, index=X_train_SS.columns).sort_values(ascending=False)\n",
    "rf_feat_imps.plot(kind='bar')\n",
    "plt.xlabel('variables')\n",
    "plt.ylabel('SS ( X & y )  |  importance')\n",
    "plt.title('Best random forest regressor of variable importances');"
   ]
  },
  {
   "cell_type": "markdown",
   "metadata": {},
   "source": [
    "With this, `Wages CPI` & `WTI` were chosen to run against `Inflation` alone on a `SS` on both `X` & `y` configuration. The results below:"
   ]
  },
  {
   "cell_type": "code",
   "execution_count": 184,
   "metadata": {},
   "outputs": [
    {
     "name": "stdout",
     "output_type": "stream",
     "text": [
      " R² results for X & y scaled below \n",
      " Train | 0.2924   Test 0.424 \n",
      " \n",
      " MAE results for X & y scaled below \n",
      " Train | 0.5639   Test 0.5811 \n",
      " \n",
      " MSE results for X & y scaled below \n",
      " Train | 0.7076   Test 0.6877\n"
     ]
    }
   ],
   "source": [
    "print(' R² results for X & y scaled below',\n",
    "    '\\n','Train |',round(median_r2_SS[0],4),'  Test', round(median_r2_SS[1],4),'\\n','\\n',\n",
    "\n",
    "     'MAE results for X & y scaled below',\n",
    "    '\\n','Train |',round(median_mae_SS[0],4),'  Test', round(median_mae_SS[1],4),'\\n','\\n'\n",
    "\n",
    "      ' MSE results for X & y scaled below',\n",
    "    '\\n','Train |',round(median_mse_SS[0],4),'  Test', round(median_mse_SS[1],4),\n",
    "\n",
    "     )"
   ]
  },
  {
   "cell_type": "markdown",
   "metadata": {},
   "source": [
    "So how do these test results compare to those seen **after rolling averages on the unscaled 19 variables?** ( see below )"
   ]
  },
  {
   "cell_type": "code",
   "execution_count": 185,
   "metadata": {},
   "outputs": [
    {
     "name": "stdout",
     "output_type": "stream",
     "text": [
      " A 17.0 bps increase in R²; 66.94 % increase. \n",
      " \n",
      " A 1.81 bps increase in MAE. \n",
      " \n",
      " A -6.79 bps decrease in MSE.\n"
     ]
    }
   ],
   "source": [
    "print(' A', round(((median_r2_SS[1] - r_squared_rolling)*100),2), 'bps increase in R²;',\n",
    "      round((((median_r2_SS[1] / r_squared_rolling)-1)*100),2),'% increase.','\\n','\\n',\n",
    "\n",
    "     'A', round(((median_mae_SS[1] - mae_rolling)*100),2), 'bps increase in MAE.','\\n','\\n',\n",
    "\n",
    "      'A', round(((median_mse_SS[1] - mse_rolling)*100),2), 'bps decrease in MSE.')"
   ]
  },
  {
   "cell_type": "markdown",
   "metadata": {},
   "source": [
    "Further to this, how do these test results compare to those seen **after rolling averages on the `SS` `X & y` scaled 19 variables** ( the best of the scaling approaches )? ( see below )"
   ]
  },
  {
   "cell_type": "code",
   "execution_count": 186,
   "metadata": {
    "scrolled": true
   },
   "outputs": [
    {
     "name": "stdout",
     "output_type": "stream",
     "text": [
      " A 14.44 bps increase in R²; 51.64 % increase. \n",
      " \n",
      " A -10.29 bps decrease in MAE. \n",
      " \n",
      " A -17.24 bps decrease in MSE.\n"
     ]
    }
   ],
   "source": [
    "r_squared_SS = 0.27963587900831854\n",
    "mae_SS = 0.684026744163606\n",
    "mse_SS = 0.860154317681419\n",
    "\n",
    "print(' A', round(((median_r2_SS[1] - r_squared_SS)*100),2), 'bps increase in R²;',\n",
    "      round((((median_r2_SS[1] / r_squared_SS)-1)*100),2),'% increase.','\\n','\\n',\n",
    "\n",
    "     'A', round(((median_mae_SS[1] - mae_SS)*100),2), 'bps decrease in MAE.','\\n','\\n',\n",
    "\n",
    "      'A', round(((median_mse_SS[1] - mse_SS)*100),2), 'bps decrease in MSE.',)"
   ]
  },
  {
   "cell_type": "markdown",
   "metadata": {},
   "source": [
    "Thus, `Wages CPI` & `WTI` it is. Thanks"
   ]
  },
  {
   "cell_type": "code",
   "execution_count": null,
   "metadata": {},
   "outputs": [],
   "source": []
  }
 ],
 "metadata": {
  "kernelspec": {
   "display_name": "Python 3",
   "language": "python",
   "name": "python3"
  },
  "language_info": {
   "codemirror_mode": {
    "name": "ipython",
    "version": 3
   },
   "file_extension": ".py",
   "mimetype": "text/x-python",
   "name": "python",
   "nbconvert_exporter": "python",
   "pygments_lexer": "ipython3",
   "version": "3.8.10"
  },
  "varInspector": {
   "cols": {
    "lenName": 16,
    "lenType": 16,
    "lenVar": 40
   },
   "kernels_config": {
    "python": {
     "delete_cmd_postfix": "",
     "delete_cmd_prefix": "del ",
     "library": "var_list.py",
     "varRefreshCmd": "print(var_dic_list())"
    },
    "r": {
     "delete_cmd_postfix": ") ",
     "delete_cmd_prefix": "rm(",
     "library": "var_list.r",
     "varRefreshCmd": "cat(var_dic_list()) "
    }
   },
   "types_to_exclude": [
    "module",
    "function",
    "builtin_function_or_method",
    "instance",
    "_Feature"
   ],
   "window_display": false
  }
 },
 "nbformat": 4,
 "nbformat_minor": 4
}
