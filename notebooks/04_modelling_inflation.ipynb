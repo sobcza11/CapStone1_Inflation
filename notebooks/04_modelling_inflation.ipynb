{
 "cells": [
  {
   "cell_type": "markdown",
   "metadata": {},
   "source": [
    "# 4.0 Modelling"
   ]
  },
  {
   "cell_type": "markdown",
   "metadata": {},
   "source": [
    "**4.0 Introduction**"
   ]
  },
  {
   "cell_type": "markdown",
   "metadata": {},
   "source": []
  },
  {
   "cell_type": "markdown",
   "metadata": {},
   "source": [
    "**4.0.1 Library Imports**"
   ]
  },
  {
   "cell_type": "code",
   "execution_count": 1,
   "metadata": {},
   "outputs": [],
   "source": [
    "import pandas as pd\n",
    "import matplotlib.pyplot as plt\n",
    "import matplotlib.colors as colors\n",
    "import seaborn as sns\n",
    "import os\n",
    "import lxml\n",
    "import datetime\n",
    "import requests\n",
    "import json\n",
    "import collections\n",
    "import seaborn as sns\n",
    "from scipy import stats\n",
    "import numpy as np\n",
    "import pickle\n",
    "from sklearn.preprocessing import StandardScaler, PowerTransformer\n",
    "\n",
    "from sklearn import __version__ as sklearn_version\n",
    "from sklearn.model_selection import cross_validate\n",
    "\n",
    "# may not need these but better to include\n",
    "from sklearn import __version__ as sklearn_version\n",
    "from sklearn.decomposition import PCA\n",
    "from sklearn.preprocessing import scale\n",
    "from sklearn.model_selection import train_test_split, cross_validate, GridSearchCV, learning_curve\n",
    "from sklearn.dummy import DummyRegressor\n",
    "from sklearn.linear_model import LinearRegression\n",
    "from sklearn.linear_model import LogisticRegression\n",
    "from sklearn.ensemble import RandomForestRegressor\n",
    "from sklearn.metrics import r2_score, mean_squared_error, mean_absolute_error\n",
    "from sklearn.pipeline import make_pipeline\n",
    "from sklearn.impute import SimpleImputer\n",
    "from sklearn.feature_selection import SelectKBest, f_regression\n"
   ]
  },
  {
   "cell_type": "markdown",
   "metadata": {},
   "source": [
    "**4.0.2 File Imports**"
   ]
  },
  {
   "cell_type": "markdown",
   "metadata": {},
   "source": []
  },
  {
   "cell_type": "code",
   "execution_count": 2,
   "metadata": {},
   "outputs": [
    {
     "name": "stdout",
     "output_type": "stream",
     "text": [
      "C:\\Users\\rands\n"
     ]
    }
   ],
   "source": [
    "cd"
   ]
  },
  {
   "cell_type": "code",
   "execution_count": 3,
   "metadata": {
    "scrolled": true
   },
   "outputs": [
    {
     "name": "stdout",
     "output_type": "stream",
     "text": [
      "Finished; proceed.\n"
     ]
    }
   ],
   "source": [
    "# StandardScaler | X & y scaled\n",
    "X_train_SS = pd.read_excel('./_Capstone_One_Inflation/data/4.0 Pre Processing Data/X_train_SS.xlsx', index_col=None)\n",
    "y_train_SS = pd.read_excel('./_Capstone_One_Inflation/data/4.0 Pre Processing Data/y_train_SS.xlsx', index_col=None)\n",
    "X_test_SS = pd.read_excel('./_Capstone_One_Inflation/data/4.0 Pre Processing Data/X_test_SS.xlsx', index_col=None)\n",
    "y_test_SS = pd.read_excel('./_Capstone_One_Inflation/data/4.0 Pre Processing Data/y_test_SS.xlsx', index_col=None)\n",
    "\n",
    "# Standard Scaler | X only scaled\n",
    "X_train_SS_y_uns = pd.read_excel('./_Capstone_One_Inflation/data/4.0 Pre Processing Data/X_train_SS_y_uns.xlsx', index_col=None)\n",
    "y_train_SS_y_uns = pd.read_excel('./_Capstone_One_Inflation/data/4.0 Pre Processing Data/y_train_SS_y_uns.xlsx', index_col=None)\n",
    "X_test_SS_y_uns = pd.read_excel('./_Capstone_One_Inflation/data/4.0 Pre Processing Data/X_test_SS_y_uns.xlsx', index_col=None)\n",
    "y_test_SS_y_uns = pd.read_excel('./_Capstone_One_Inflation/data/4.0 Pre Processing Data/y_test_SS_y_uns.xlsx', index_col=None)\n",
    "\n",
    "# Log Scaler | X & y scaled\n",
    "X_train_LG = pd.read_excel('./_Capstone_One_Inflation/data/4.0 Pre Processing Data/X_train_LG.xlsx', index_col=None)\n",
    "y_train_LG = pd.read_excel('./_Capstone_One_Inflation/data/4.0 Pre Processing Data/y_train_LG.xlsx', index_col=None)\n",
    "X_test_LG = pd.read_excel('./_Capstone_One_Inflation/data/4.0 Pre Processing Data/X_test_LG.xlsx', index_col=None)\n",
    "y_test_LG = pd.read_excel('./_Capstone_One_Inflation/data/4.0 Pre Processing Data/y_test_LG.xlsx', index_col=None)\n",
    "\n",
    "# Log Scaler | X only scaled\n",
    "X_train_LG_y_uns = pd.read_excel('./_Capstone_One_Inflation/data/4.0 Pre Processing Data/X_train_LG_y_uns.xlsx', index_col=None)\n",
    "y_train_LG_y_uns = pd.read_excel('./_Capstone_One_Inflation/data/4.0 Pre Processing Data/y_train_LG_y_uns.xlsx', index_col=None)\n",
    "X_test_LG_y_uns = pd.read_excel('./_Capstone_One_Inflation/data/4.0 Pre Processing Data/X_test_LG_y_uns.xlsx', index_col=None)\n",
    "y_test_LG_y_uns = pd.read_excel('./_Capstone_One_Inflation/data/4.0 Pre Processing Data/y_test_LG.xlsx', index_col=None)\n",
    "\n",
    "# StandardScaler & Log Combined | X only scaled\n",
    "X_tr_SS_LG = pd.read_excel('./_Capstone_One_Inflation/data/4.0 Pre Processing Data/X_tr_SS_LG.xlsx', index_col=None)\n",
    "y_tr_y_uns = pd.read_excel('./_Capstone_One_Inflation/data/4.0 Pre Processing Data/y_tr_y_uns.xlsx', index_col=None)\n",
    "X_te_SS_LG = pd.read_excel('./_Capstone_One_Inflation/data/4.0 Pre Processing Data/X_te_SS_LG.xlsx', index_col=None)\n",
    "y_te_y_uns = pd.read_excel('./_Capstone_One_Inflation/data/4.0 Pre Processing Data/y_te_y_uns.xlsx', index_col=None)\n",
    "\n",
    "print('Finished; proceed.')"
   ]
  },
  {
   "cell_type": "markdown",
   "metadata": {},
   "source": [
    "**4.0.3 Confirming the files were imported / saved correctly**"
   ]
  },
  {
   "cell_type": "markdown",
   "metadata": {},
   "source": [
    "In this section **we will double review the process is moving smoothly**; i.e. what was saved & imported is correct via the describe method; apologies in advance if this is long; **prudent to assume they are correct if I continue thereafter so please feel free to skip.**"
   ]
  },
  {
   "cell_type": "markdown",
   "metadata": {},
   "source": [
    "`Mean` should be 0 `Std` should be 1"
   ]
  },
  {
   "cell_type": "code",
   "execution_count": 4,
   "metadata": {},
   "outputs": [
    {
     "data": {
      "text/html": [
       "<div>\n",
       "<style scoped>\n",
       "    .dataframe tbody tr th:only-of-type {\n",
       "        vertical-align: middle;\n",
       "    }\n",
       "\n",
       "    .dataframe tbody tr th {\n",
       "        vertical-align: top;\n",
       "    }\n",
       "\n",
       "    .dataframe thead th {\n",
       "        text-align: right;\n",
       "    }\n",
       "</style>\n",
       "<table border=\"1\" class=\"dataframe\">\n",
       "  <thead>\n",
       "    <tr style=\"text-align: right;\">\n",
       "      <th></th>\n",
       "      <th>Unnamed: 0</th>\n",
       "      <th>Wages CPI_SS</th>\n",
       "      <th>WTI_SS</th>\n",
       "      <th>Copper_SS</th>\n",
       "      <th>Soybeans_SS</th>\n",
       "      <th>Natural Gas_SS</th>\n",
       "      <th>Heating Oil_SS</th>\n",
       "      <th>Corn_SS</th>\n",
       "      <th>Wheat_SS</th>\n",
       "      <th>Cattle_SS</th>\n",
       "      <th>Lean Hogs_SS</th>\n",
       "      <th>Sugar_SS</th>\n",
       "      <th>Lumber_SS</th>\n",
       "      <th>Capacity Utilization_SS</th>\n",
       "      <th>GDP_SS</th>\n",
       "      <th>M2 Velocity_SS</th>\n",
       "      <th>PMI_SS</th>\n",
       "      <th>USD Index_SS</th>\n",
       "      <th>Initial Jobless Claims_SS</th>\n",
       "      <th>Unemployment Rate_SS</th>\n",
       "    </tr>\n",
       "  </thead>\n",
       "  <tbody>\n",
       "    <tr>\n",
       "      <th>count</th>\n",
       "      <td>218.000000</td>\n",
       "      <td>2.180000e+02</td>\n",
       "      <td>2.180000e+02</td>\n",
       "      <td>2.180000e+02</td>\n",
       "      <td>2.180000e+02</td>\n",
       "      <td>2.180000e+02</td>\n",
       "      <td>2.180000e+02</td>\n",
       "      <td>2.180000e+02</td>\n",
       "      <td>2.180000e+02</td>\n",
       "      <td>2.180000e+02</td>\n",
       "      <td>2.180000e+02</td>\n",
       "      <td>2.180000e+02</td>\n",
       "      <td>2.180000e+02</td>\n",
       "      <td>2.180000e+02</td>\n",
       "      <td>2.180000e+02</td>\n",
       "      <td>2.180000e+02</td>\n",
       "      <td>2.180000e+02</td>\n",
       "      <td>2.180000e+02</td>\n",
       "      <td>2.180000e+02</td>\n",
       "      <td>2.180000e+02</td>\n",
       "    </tr>\n",
       "    <tr>\n",
       "      <th>mean</th>\n",
       "      <td>157.711009</td>\n",
       "      <td>-3.564936e-17</td>\n",
       "      <td>-5.092766e-18</td>\n",
       "      <td>3.514009e-17</td>\n",
       "      <td>-3.768647e-17</td>\n",
       "      <td>-2.444528e-17</td>\n",
       "      <td>1.655149e-18</td>\n",
       "      <td>2.902877e-17</td>\n",
       "      <td>-1.069481e-17</td>\n",
       "      <td>1.527830e-18</td>\n",
       "      <td>3.564936e-18</td>\n",
       "      <td>-8.657702e-18</td>\n",
       "      <td>-2.762826e-17</td>\n",
       "      <td>-4.558026e-17</td>\n",
       "      <td>6.773379e-17</td>\n",
       "      <td>2.323575e-17</td>\n",
       "      <td>-2.976085e-17</td>\n",
       "      <td>1.425975e-17</td>\n",
       "      <td>8.657702e-18</td>\n",
       "      <td>9.676256e-18</td>\n",
       "    </tr>\n",
       "    <tr>\n",
       "      <th>std</th>\n",
       "      <td>90.901141</td>\n",
       "      <td>1.002301e+00</td>\n",
       "      <td>1.002301e+00</td>\n",
       "      <td>1.002301e+00</td>\n",
       "      <td>1.002301e+00</td>\n",
       "      <td>1.002301e+00</td>\n",
       "      <td>1.002301e+00</td>\n",
       "      <td>1.002301e+00</td>\n",
       "      <td>1.002301e+00</td>\n",
       "      <td>1.002301e+00</td>\n",
       "      <td>1.002301e+00</td>\n",
       "      <td>1.002301e+00</td>\n",
       "      <td>1.002301e+00</td>\n",
       "      <td>1.002301e+00</td>\n",
       "      <td>1.002301e+00</td>\n",
       "      <td>1.002301e+00</td>\n",
       "      <td>1.002301e+00</td>\n",
       "      <td>1.002301e+00</td>\n",
       "      <td>1.002301e+00</td>\n",
       "      <td>1.002301e+00</td>\n",
       "    </tr>\n",
       "    <tr>\n",
       "      <th>min</th>\n",
       "      <td>0.000000</td>\n",
       "      <td>-6.977019e+00</td>\n",
       "      <td>-3.783391e+00</td>\n",
       "      <td>-4.194080e+00</td>\n",
       "      <td>-3.280162e+00</td>\n",
       "      <td>-1.969069e+00</td>\n",
       "      <td>-3.380414e+00</td>\n",
       "      <td>-2.641519e+00</td>\n",
       "      <td>-2.034743e+00</td>\n",
       "      <td>-2.966145e+00</td>\n",
       "      <td>-2.453932e+00</td>\n",
       "      <td>-2.521716e+00</td>\n",
       "      <td>-2.522608e+00</td>\n",
       "      <td>-7.680682e+00</td>\n",
       "      <td>-8.837955e+00</td>\n",
       "      <td>-8.988479e+00</td>\n",
       "      <td>-3.333833e+00</td>\n",
       "      <td>-2.094012e+00</td>\n",
       "      <td>-3.190713e+00</td>\n",
       "      <td>-4.802520e+00</td>\n",
       "    </tr>\n",
       "    <tr>\n",
       "      <th>25%</th>\n",
       "      <td>81.500000</td>\n",
       "      <td>-2.671202e-01</td>\n",
       "      <td>-5.665365e-01</td>\n",
       "      <td>-5.924217e-01</td>\n",
       "      <td>-5.064631e-01</td>\n",
       "      <td>-6.724566e-01</td>\n",
       "      <td>-5.422759e-01</td>\n",
       "      <td>-6.269477e-01</td>\n",
       "      <td>-6.723267e-01</td>\n",
       "      <td>-6.458132e-01</td>\n",
       "      <td>-6.201385e-01</td>\n",
       "      <td>-6.977306e-01</td>\n",
       "      <td>-6.930695e-01</td>\n",
       "      <td>-2.313524e-01</td>\n",
       "      <td>-1.414367e-01</td>\n",
       "      <td>-9.686651e-02</td>\n",
       "      <td>-5.828489e-01</td>\n",
       "      <td>-7.944049e-01</td>\n",
       "      <td>-1.277904e-01</td>\n",
       "      <td>-2.348593e-01</td>\n",
       "    </tr>\n",
       "    <tr>\n",
       "      <th>50%</th>\n",
       "      <td>157.000000</td>\n",
       "      <td>1.153214e-01</td>\n",
       "      <td>-3.959852e-02</td>\n",
       "      <td>-9.739427e-02</td>\n",
       "      <td>-5.652283e-02</td>\n",
       "      <td>-1.579051e-01</td>\n",
       "      <td>-4.040096e-02</td>\n",
       "      <td>-5.827166e-02</td>\n",
       "      <td>-4.863862e-02</td>\n",
       "      <td>7.426409e-02</td>\n",
       "      <td>-4.506087e-02</td>\n",
       "      <td>-2.081390e-01</td>\n",
       "      <td>-3.689083e-02</td>\n",
       "      <td>1.477523e-01</td>\n",
       "      <td>1.250461e-01</td>\n",
       "      <td>8.804844e-02</td>\n",
       "      <td>-1.545851e-02</td>\n",
       "      <td>3.527433e-02</td>\n",
       "      <td>-8.785599e-02</td>\n",
       "      <td>-1.102867e-01</td>\n",
       "    </tr>\n",
       "    <tr>\n",
       "      <th>75%</th>\n",
       "      <td>235.750000</td>\n",
       "      <td>4.280369e-01</td>\n",
       "      <td>6.677299e-01</td>\n",
       "      <td>5.366898e-01</td>\n",
       "      <td>5.316750e-01</td>\n",
       "      <td>5.625160e-01</td>\n",
       "      <td>6.352366e-01</td>\n",
       "      <td>5.203411e-01</td>\n",
       "      <td>5.954279e-01</td>\n",
       "      <td>7.339765e-01</td>\n",
       "      <td>7.269682e-01</td>\n",
       "      <td>5.484182e-01</td>\n",
       "      <td>6.135977e-01</td>\n",
       "      <td>4.357818e-01</td>\n",
       "      <td>4.008007e-01</td>\n",
       "      <td>3.751039e-01</td>\n",
       "      <td>5.576631e-01</td>\n",
       "      <td>6.282367e-01</td>\n",
       "      <td>-4.770693e-02</td>\n",
       "      <td>5.581003e-02</td>\n",
       "    </tr>\n",
       "    <tr>\n",
       "      <th>max</th>\n",
       "      <td>311.000000</td>\n",
       "      <td>3.074376e+00</td>\n",
       "      <td>2.742497e+00</td>\n",
       "      <td>3.913407e+00</td>\n",
       "      <td>2.811401e+00</td>\n",
       "      <td>2.994870e+00</td>\n",
       "      <td>2.428936e+00</td>\n",
       "      <td>3.277006e+00</td>\n",
       "      <td>4.032564e+00</td>\n",
       "      <td>2.428476e+00</td>\n",
       "      <td>2.661448e+00</td>\n",
       "      <td>3.888003e+00</td>\n",
       "      <td>5.231216e+00</td>\n",
       "      <td>3.864717e+00</td>\n",
       "      <td>1.198672e+00</td>\n",
       "      <td>9.832153e-01</td>\n",
       "      <td>3.589476e+00</td>\n",
       "      <td>2.666820e+00</td>\n",
       "      <td>1.241375e+01</td>\n",
       "      <td>1.151649e+01</td>\n",
       "    </tr>\n",
       "  </tbody>\n",
       "</table>\n",
       "</div>"
      ],
      "text/plain": [
       "       Unnamed: 0  Wages CPI_SS        WTI_SS     Copper_SS   Soybeans_SS  \\\n",
       "count  218.000000  2.180000e+02  2.180000e+02  2.180000e+02  2.180000e+02   \n",
       "mean   157.711009 -3.564936e-17 -5.092766e-18  3.514009e-17 -3.768647e-17   \n",
       "std     90.901141  1.002301e+00  1.002301e+00  1.002301e+00  1.002301e+00   \n",
       "min      0.000000 -6.977019e+00 -3.783391e+00 -4.194080e+00 -3.280162e+00   \n",
       "25%     81.500000 -2.671202e-01 -5.665365e-01 -5.924217e-01 -5.064631e-01   \n",
       "50%    157.000000  1.153214e-01 -3.959852e-02 -9.739427e-02 -5.652283e-02   \n",
       "75%    235.750000  4.280369e-01  6.677299e-01  5.366898e-01  5.316750e-01   \n",
       "max    311.000000  3.074376e+00  2.742497e+00  3.913407e+00  2.811401e+00   \n",
       "\n",
       "       Natural Gas_SS  Heating Oil_SS       Corn_SS      Wheat_SS  \\\n",
       "count    2.180000e+02    2.180000e+02  2.180000e+02  2.180000e+02   \n",
       "mean    -2.444528e-17    1.655149e-18  2.902877e-17 -1.069481e-17   \n",
       "std      1.002301e+00    1.002301e+00  1.002301e+00  1.002301e+00   \n",
       "min     -1.969069e+00   -3.380414e+00 -2.641519e+00 -2.034743e+00   \n",
       "25%     -6.724566e-01   -5.422759e-01 -6.269477e-01 -6.723267e-01   \n",
       "50%     -1.579051e-01   -4.040096e-02 -5.827166e-02 -4.863862e-02   \n",
       "75%      5.625160e-01    6.352366e-01  5.203411e-01  5.954279e-01   \n",
       "max      2.994870e+00    2.428936e+00  3.277006e+00  4.032564e+00   \n",
       "\n",
       "          Cattle_SS  Lean Hogs_SS      Sugar_SS     Lumber_SS  \\\n",
       "count  2.180000e+02  2.180000e+02  2.180000e+02  2.180000e+02   \n",
       "mean   1.527830e-18  3.564936e-18 -8.657702e-18 -2.762826e-17   \n",
       "std    1.002301e+00  1.002301e+00  1.002301e+00  1.002301e+00   \n",
       "min   -2.966145e+00 -2.453932e+00 -2.521716e+00 -2.522608e+00   \n",
       "25%   -6.458132e-01 -6.201385e-01 -6.977306e-01 -6.930695e-01   \n",
       "50%    7.426409e-02 -4.506087e-02 -2.081390e-01 -3.689083e-02   \n",
       "75%    7.339765e-01  7.269682e-01  5.484182e-01  6.135977e-01   \n",
       "max    2.428476e+00  2.661448e+00  3.888003e+00  5.231216e+00   \n",
       "\n",
       "       Capacity Utilization_SS        GDP_SS  M2 Velocity_SS        PMI_SS  \\\n",
       "count             2.180000e+02  2.180000e+02    2.180000e+02  2.180000e+02   \n",
       "mean             -4.558026e-17  6.773379e-17    2.323575e-17 -2.976085e-17   \n",
       "std               1.002301e+00  1.002301e+00    1.002301e+00  1.002301e+00   \n",
       "min              -7.680682e+00 -8.837955e+00   -8.988479e+00 -3.333833e+00   \n",
       "25%              -2.313524e-01 -1.414367e-01   -9.686651e-02 -5.828489e-01   \n",
       "50%               1.477523e-01  1.250461e-01    8.804844e-02 -1.545851e-02   \n",
       "75%               4.357818e-01  4.008007e-01    3.751039e-01  5.576631e-01   \n",
       "max               3.864717e+00  1.198672e+00    9.832153e-01  3.589476e+00   \n",
       "\n",
       "       USD Index_SS  Initial Jobless Claims_SS  Unemployment Rate_SS  \n",
       "count  2.180000e+02               2.180000e+02          2.180000e+02  \n",
       "mean   1.425975e-17               8.657702e-18          9.676256e-18  \n",
       "std    1.002301e+00               1.002301e+00          1.002301e+00  \n",
       "min   -2.094012e+00              -3.190713e+00         -4.802520e+00  \n",
       "25%   -7.944049e-01              -1.277904e-01         -2.348593e-01  \n",
       "50%    3.527433e-02              -8.785599e-02         -1.102867e-01  \n",
       "75%    6.282367e-01              -4.770693e-02          5.581003e-02  \n",
       "max    2.666820e+00               1.241375e+01          1.151649e+01  "
      ]
     },
     "execution_count": 4,
     "metadata": {},
     "output_type": "execute_result"
    }
   ],
   "source": [
    "X_train_SS.describe()"
   ]
  },
  {
   "cell_type": "code",
   "execution_count": 5,
   "metadata": {},
   "outputs": [
    {
     "data": {
      "text/html": [
       "<div>\n",
       "<style scoped>\n",
       "    .dataframe tbody tr th:only-of-type {\n",
       "        vertical-align: middle;\n",
       "    }\n",
       "\n",
       "    .dataframe tbody tr th {\n",
       "        vertical-align: top;\n",
       "    }\n",
       "\n",
       "    .dataframe thead th {\n",
       "        text-align: right;\n",
       "    }\n",
       "</style>\n",
       "<table border=\"1\" class=\"dataframe\">\n",
       "  <thead>\n",
       "    <tr style=\"text-align: right;\">\n",
       "      <th></th>\n",
       "      <th>Unnamed: 0</th>\n",
       "      <th>Wages CPI_SS</th>\n",
       "      <th>WTI_SS</th>\n",
       "      <th>Copper_SS</th>\n",
       "      <th>Soybeans_SS</th>\n",
       "      <th>Natural Gas_SS</th>\n",
       "      <th>Heating Oil_SS</th>\n",
       "      <th>Corn_SS</th>\n",
       "      <th>Wheat_SS</th>\n",
       "      <th>Cattle_SS</th>\n",
       "      <th>Lean Hogs_SS</th>\n",
       "      <th>Sugar_SS</th>\n",
       "      <th>Lumber_SS</th>\n",
       "      <th>Capacity Utilization_SS</th>\n",
       "      <th>GDP_SS</th>\n",
       "      <th>M2 Velocity_SS</th>\n",
       "      <th>PMI_SS</th>\n",
       "      <th>USD Index_SS</th>\n",
       "      <th>Initial Jobless Claims_SS</th>\n",
       "      <th>Unemployment Rate_SS</th>\n",
       "    </tr>\n",
       "  </thead>\n",
       "  <tbody>\n",
       "    <tr>\n",
       "      <th>0</th>\n",
       "      <td>101</td>\n",
       "      <td>-0.272503</td>\n",
       "      <td>0.770139</td>\n",
       "      <td>-0.036749</td>\n",
       "      <td>-0.345722</td>\n",
       "      <td>-1.319337</td>\n",
       "      <td>-0.037380</td>\n",
       "      <td>-0.285358</td>\n",
       "      <td>-0.204055</td>\n",
       "      <td>0.312957</td>\n",
       "      <td>-0.252625</td>\n",
       "      <td>-0.668891</td>\n",
       "      <td>0.439447</td>\n",
       "      <td>0.444293</td>\n",
       "      <td>0.327651</td>\n",
       "      <td>0.088048</td>\n",
       "      <td>0.104897</td>\n",
       "      <td>0.915147</td>\n",
       "      <td>-0.214959</td>\n",
       "      <td>-0.567053</td>\n",
       "    </tr>\n",
       "    <tr>\n",
       "      <th>1</th>\n",
       "      <td>193</td>\n",
       "      <td>0.081334</td>\n",
       "      <td>-0.036542</td>\n",
       "      <td>0.451293</td>\n",
       "      <td>0.090576</td>\n",
       "      <td>1.639295</td>\n",
       "      <td>0.380561</td>\n",
       "      <td>-0.663352</td>\n",
       "      <td>-0.617169</td>\n",
       "      <td>1.900844</td>\n",
       "      <td>1.529011</td>\n",
       "      <td>1.137352</td>\n",
       "      <td>-0.317918</td>\n",
       "      <td>0.248713</td>\n",
       "      <td>-0.010664</td>\n",
       "      <td>-0.085279</td>\n",
       "      <td>0.104897</td>\n",
       "      <td>-1.046777</td>\n",
       "      <td>-0.107179</td>\n",
       "      <td>0.221907</td>\n",
       "    </tr>\n",
       "    <tr>\n",
       "      <th>2</th>\n",
       "      <td>72</td>\n",
       "      <td>-0.668041</td>\n",
       "      <td>-0.496463</td>\n",
       "      <td>-0.027826</td>\n",
       "      <td>-2.795000</td>\n",
       "      <td>-0.849965</td>\n",
       "      <td>-0.474246</td>\n",
       "      <td>-2.149208</td>\n",
       "      <td>-1.865332</td>\n",
       "      <td>1.183761</td>\n",
       "      <td>-0.549095</td>\n",
       "      <td>-0.621201</td>\n",
       "      <td>0.115848</td>\n",
       "      <td>0.171740</td>\n",
       "      <td>0.532148</td>\n",
       "      <td>0.348245</td>\n",
       "      <td>0.379995</td>\n",
       "      <td>0.729546</td>\n",
       "      <td>-0.163431</td>\n",
       "      <td>-0.193335</td>\n",
       "    </tr>\n",
       "    <tr>\n",
       "      <th>3</th>\n",
       "      <td>298</td>\n",
       "      <td>0.427689</td>\n",
       "      <td>0.697303</td>\n",
       "      <td>0.255910</td>\n",
       "      <td>0.133888</td>\n",
       "      <td>1.354380</td>\n",
       "      <td>0.616009</td>\n",
       "      <td>-0.538420</td>\n",
       "      <td>-1.155926</td>\n",
       "      <td>-1.041654</td>\n",
       "      <td>0.884238</td>\n",
       "      <td>0.927774</td>\n",
       "      <td>-0.556024</td>\n",
       "      <td>0.514892</td>\n",
       "      <td>0.385034</td>\n",
       "      <td>0.824372</td>\n",
       "      <td>0.299758</td>\n",
       "      <td>-1.225237</td>\n",
       "      <td>-0.096444</td>\n",
       "      <td>0.346479</td>\n",
       "    </tr>\n",
       "    <tr>\n",
       "      <th>4</th>\n",
       "      <td>15</td>\n",
       "      <td>0.073309</td>\n",
       "      <td>-0.130975</td>\n",
       "      <td>-0.288996</td>\n",
       "      <td>0.162870</td>\n",
       "      <td>0.314771</td>\n",
       "      <td>0.046900</td>\n",
       "      <td>-0.808623</td>\n",
       "      <td>0.012178</td>\n",
       "      <td>0.252933</td>\n",
       "      <td>-1.249591</td>\n",
       "      <td>-0.089238</td>\n",
       "      <td>0.442115</td>\n",
       "      <td>-0.198803</td>\n",
       "      <td>-0.053374</td>\n",
       "      <td>-0.276863</td>\n",
       "      <td>-0.869410</td>\n",
       "      <td>0.266966</td>\n",
       "      <td>-0.081844</td>\n",
       "      <td>-0.110287</td>\n",
       "    </tr>\n",
       "  </tbody>\n",
       "</table>\n",
       "</div>"
      ],
      "text/plain": [
       "   Unnamed: 0  Wages CPI_SS    WTI_SS  Copper_SS  Soybeans_SS  Natural Gas_SS  \\\n",
       "0         101     -0.272503  0.770139  -0.036749    -0.345722       -1.319337   \n",
       "1         193      0.081334 -0.036542   0.451293     0.090576        1.639295   \n",
       "2          72     -0.668041 -0.496463  -0.027826    -2.795000       -0.849965   \n",
       "3         298      0.427689  0.697303   0.255910     0.133888        1.354380   \n",
       "4          15      0.073309 -0.130975  -0.288996     0.162870        0.314771   \n",
       "\n",
       "   Heating Oil_SS   Corn_SS  Wheat_SS  Cattle_SS  Lean Hogs_SS  Sugar_SS  \\\n",
       "0       -0.037380 -0.285358 -0.204055   0.312957     -0.252625 -0.668891   \n",
       "1        0.380561 -0.663352 -0.617169   1.900844      1.529011  1.137352   \n",
       "2       -0.474246 -2.149208 -1.865332   1.183761     -0.549095 -0.621201   \n",
       "3        0.616009 -0.538420 -1.155926  -1.041654      0.884238  0.927774   \n",
       "4        0.046900 -0.808623  0.012178   0.252933     -1.249591 -0.089238   \n",
       "\n",
       "   Lumber_SS  Capacity Utilization_SS    GDP_SS  M2 Velocity_SS    PMI_SS  \\\n",
       "0   0.439447                 0.444293  0.327651        0.088048  0.104897   \n",
       "1  -0.317918                 0.248713 -0.010664       -0.085279  0.104897   \n",
       "2   0.115848                 0.171740  0.532148        0.348245  0.379995   \n",
       "3  -0.556024                 0.514892  0.385034        0.824372  0.299758   \n",
       "4   0.442115                -0.198803 -0.053374       -0.276863 -0.869410   \n",
       "\n",
       "   USD Index_SS  Initial Jobless Claims_SS  Unemployment Rate_SS  \n",
       "0      0.915147                  -0.214959             -0.567053  \n",
       "1     -1.046777                  -0.107179              0.221907  \n",
       "2      0.729546                  -0.163431             -0.193335  \n",
       "3     -1.225237                  -0.096444              0.346479  \n",
       "4      0.266966                  -0.081844             -0.110287  "
      ]
     },
     "execution_count": 5,
     "metadata": {},
     "output_type": "execute_result"
    }
   ],
   "source": [
    "X_train_SS.head()"
   ]
  },
  {
   "cell_type": "code",
   "execution_count": 6,
   "metadata": {},
   "outputs": [],
   "source": [
    "X_train_SS = X_train_SS.drop(['Unnamed: 0'], axis=1)"
   ]
  },
  {
   "cell_type": "code",
   "execution_count": 7,
   "metadata": {},
   "outputs": [
    {
     "data": {
      "text/html": [
       "<div>\n",
       "<style scoped>\n",
       "    .dataframe tbody tr th:only-of-type {\n",
       "        vertical-align: middle;\n",
       "    }\n",
       "\n",
       "    .dataframe tbody tr th {\n",
       "        vertical-align: top;\n",
       "    }\n",
       "\n",
       "    .dataframe thead th {\n",
       "        text-align: right;\n",
       "    }\n",
       "</style>\n",
       "<table border=\"1\" class=\"dataframe\">\n",
       "  <thead>\n",
       "    <tr style=\"text-align: right;\">\n",
       "      <th></th>\n",
       "      <th>Unnamed: 0</th>\n",
       "      <th>Inflation_SS</th>\n",
       "    </tr>\n",
       "  </thead>\n",
       "  <tbody>\n",
       "    <tr>\n",
       "      <th>count</th>\n",
       "      <td>218.000000</td>\n",
       "      <td>2.180000e+02</td>\n",
       "    </tr>\n",
       "    <tr>\n",
       "      <th>mean</th>\n",
       "      <td>157.711009</td>\n",
       "      <td>-6.111319e-18</td>\n",
       "    </tr>\n",
       "    <tr>\n",
       "      <th>std</th>\n",
       "      <td>90.901141</td>\n",
       "      <td>1.002301e+00</td>\n",
       "    </tr>\n",
       "    <tr>\n",
       "      <th>min</th>\n",
       "      <td>0.000000</td>\n",
       "      <td>-4.436994e+00</td>\n",
       "    </tr>\n",
       "    <tr>\n",
       "      <th>25%</th>\n",
       "      <td>81.500000</td>\n",
       "      <td>-4.187935e-01</td>\n",
       "    </tr>\n",
       "    <tr>\n",
       "      <th>50%</th>\n",
       "      <td>157.000000</td>\n",
       "      <td>-1.285149e-02</td>\n",
       "    </tr>\n",
       "    <tr>\n",
       "      <th>75%</th>\n",
       "      <td>235.750000</td>\n",
       "      <td>4.430526e-01</td>\n",
       "    </tr>\n",
       "    <tr>\n",
       "      <th>max</th>\n",
       "      <td>311.000000</td>\n",
       "      <td>5.095772e+00</td>\n",
       "    </tr>\n",
       "  </tbody>\n",
       "</table>\n",
       "</div>"
      ],
      "text/plain": [
       "       Unnamed: 0  Inflation_SS\n",
       "count  218.000000  2.180000e+02\n",
       "mean   157.711009 -6.111319e-18\n",
       "std     90.901141  1.002301e+00\n",
       "min      0.000000 -4.436994e+00\n",
       "25%     81.500000 -4.187935e-01\n",
       "50%    157.000000 -1.285149e-02\n",
       "75%    235.750000  4.430526e-01\n",
       "max    311.000000  5.095772e+00"
      ]
     },
     "execution_count": 7,
     "metadata": {},
     "output_type": "execute_result"
    }
   ],
   "source": [
    "y_train_SS.describe()"
   ]
  },
  {
   "cell_type": "code",
   "execution_count": 8,
   "metadata": {},
   "outputs": [],
   "source": [
    "y_train_SS = y_train_SS.drop(['Unnamed: 0'], axis=1)"
   ]
  },
  {
   "cell_type": "code",
   "execution_count": 9,
   "metadata": {},
   "outputs": [
    {
     "data": {
      "text/html": [
       "<div>\n",
       "<style scoped>\n",
       "    .dataframe tbody tr th:only-of-type {\n",
       "        vertical-align: middle;\n",
       "    }\n",
       "\n",
       "    .dataframe tbody tr th {\n",
       "        vertical-align: top;\n",
       "    }\n",
       "\n",
       "    .dataframe thead th {\n",
       "        text-align: right;\n",
       "    }\n",
       "</style>\n",
       "<table border=\"1\" class=\"dataframe\">\n",
       "  <thead>\n",
       "    <tr style=\"text-align: right;\">\n",
       "      <th></th>\n",
       "      <th>Unnamed: 0</th>\n",
       "      <th>Wages CPI_SS</th>\n",
       "      <th>WTI_SS</th>\n",
       "      <th>Copper_SS</th>\n",
       "      <th>Soybeans_SS</th>\n",
       "      <th>Natural Gas_SS</th>\n",
       "      <th>Heating Oil_SS</th>\n",
       "      <th>Corn_SS</th>\n",
       "      <th>Wheat_SS</th>\n",
       "      <th>Cattle_SS</th>\n",
       "      <th>Lean Hogs_SS</th>\n",
       "      <th>Sugar_SS</th>\n",
       "      <th>Lumber_SS</th>\n",
       "      <th>Capacity Utilization_SS</th>\n",
       "      <th>GDP_SS</th>\n",
       "      <th>M2 Velocity_SS</th>\n",
       "      <th>PMI_SS</th>\n",
       "      <th>USD Index_SS</th>\n",
       "      <th>Initial Jobless Claims_SS</th>\n",
       "      <th>Unemployment Rate_SS</th>\n",
       "    </tr>\n",
       "  </thead>\n",
       "  <tbody>\n",
       "    <tr>\n",
       "      <th>count</th>\n",
       "      <td>94.000000</td>\n",
       "      <td>94.000000</td>\n",
       "      <td>94.000000</td>\n",
       "      <td>94.000000</td>\n",
       "      <td>94.000000</td>\n",
       "      <td>94.000000</td>\n",
       "      <td>94.000000</td>\n",
       "      <td>94.000000</td>\n",
       "      <td>94.000000</td>\n",
       "      <td>94.000000</td>\n",
       "      <td>94.000000</td>\n",
       "      <td>94.000000</td>\n",
       "      <td>94.000000</td>\n",
       "      <td>94.000000</td>\n",
       "      <td>94.000000</td>\n",
       "      <td>94.000000</td>\n",
       "      <td>94.000000</td>\n",
       "      <td>94.000000</td>\n",
       "      <td>94.000000</td>\n",
       "      <td>94.000000</td>\n",
       "    </tr>\n",
       "    <tr>\n",
       "      <th>mean</th>\n",
       "      <td>150.372340</td>\n",
       "      <td>-0.039446</td>\n",
       "      <td>-0.046560</td>\n",
       "      <td>-0.151935</td>\n",
       "      <td>0.158702</td>\n",
       "      <td>-0.001416</td>\n",
       "      <td>-0.153214</td>\n",
       "      <td>0.271715</td>\n",
       "      <td>0.147639</td>\n",
       "      <td>-0.020189</td>\n",
       "      <td>0.150634</td>\n",
       "      <td>0.042247</td>\n",
       "      <td>0.105954</td>\n",
       "      <td>0.085988</td>\n",
       "      <td>0.114837</td>\n",
       "      <td>-0.011819</td>\n",
       "      <td>-0.177030</td>\n",
       "      <td>0.007469</td>\n",
       "      <td>-0.191525</td>\n",
       "      <td>-0.065229</td>\n",
       "    </tr>\n",
       "    <tr>\n",
       "      <th>std</th>\n",
       "      <td>88.858107</td>\n",
       "      <td>1.003180</td>\n",
       "      <td>1.116542</td>\n",
       "      <td>0.986746</td>\n",
       "      <td>1.140603</td>\n",
       "      <td>0.975567</td>\n",
       "      <td>0.963172</td>\n",
       "      <td>1.089934</td>\n",
       "      <td>1.083590</td>\n",
       "      <td>1.040120</td>\n",
       "      <td>1.097781</td>\n",
       "      <td>0.918600</td>\n",
       "      <td>1.470259</td>\n",
       "      <td>1.232635</td>\n",
       "      <td>1.525901</td>\n",
       "      <td>1.104324</td>\n",
       "      <td>1.048915</td>\n",
       "      <td>1.020621</td>\n",
       "      <td>2.410044</td>\n",
       "      <td>1.295092</td>\n",
       "    </tr>\n",
       "    <tr>\n",
       "      <th>min</th>\n",
       "      <td>3.000000</td>\n",
       "      <td>-6.008413</td>\n",
       "      <td>-3.755452</td>\n",
       "      <td>-4.281991</td>\n",
       "      <td>-3.578469</td>\n",
       "      <td>-2.087724</td>\n",
       "      <td>-3.479765</td>\n",
       "      <td>-2.917356</td>\n",
       "      <td>-2.913521</td>\n",
       "      <td>-3.321206</td>\n",
       "      <td>-2.026099</td>\n",
       "      <td>-1.857711</td>\n",
       "      <td>-2.360196</td>\n",
       "      <td>-7.342127</td>\n",
       "      <td>-8.837955</td>\n",
       "      <td>-8.988479</td>\n",
       "      <td>-4.147665</td>\n",
       "      <td>-2.129319</td>\n",
       "      <td>-12.599764</td>\n",
       "      <td>-5.342334</td>\n",
       "    </tr>\n",
       "    <tr>\n",
       "      <th>25%</th>\n",
       "      <td>76.250000</td>\n",
       "      <td>-0.383316</td>\n",
       "      <td>-0.529745</td>\n",
       "      <td>-0.692793</td>\n",
       "      <td>-0.534923</td>\n",
       "      <td>-0.585450</td>\n",
       "      <td>-0.578672</td>\n",
       "      <td>-0.322636</td>\n",
       "      <td>-0.559743</td>\n",
       "      <td>-0.760703</td>\n",
       "      <td>-0.704479</td>\n",
       "      <td>-0.517446</td>\n",
       "      <td>-0.778532</td>\n",
       "      <td>-0.172902</td>\n",
       "      <td>-0.221962</td>\n",
       "      <td>-0.236393</td>\n",
       "      <td>-0.866544</td>\n",
       "      <td>-0.610996</td>\n",
       "      <td>-0.129723</td>\n",
       "      <td>-0.276383</td>\n",
       "    </tr>\n",
       "    <tr>\n",
       "      <th>50%</th>\n",
       "      <td>147.500000</td>\n",
       "      <td>0.169963</td>\n",
       "      <td>0.082344</td>\n",
       "      <td>-0.298726</td>\n",
       "      <td>0.027747</td>\n",
       "      <td>-0.078682</td>\n",
       "      <td>-0.033070</td>\n",
       "      <td>0.158283</td>\n",
       "      <td>-0.041941</td>\n",
       "      <td>0.073698</td>\n",
       "      <td>0.035594</td>\n",
       "      <td>-0.128461</td>\n",
       "      <td>-0.174865</td>\n",
       "      <td>0.168818</td>\n",
       "      <td>0.068250</td>\n",
       "      <td>0.043185</td>\n",
       "      <td>-0.319213</td>\n",
       "      <td>-0.060458</td>\n",
       "      <td>-0.097518</td>\n",
       "      <td>-0.151811</td>\n",
       "    </tr>\n",
       "    <tr>\n",
       "      <th>75%</th>\n",
       "      <td>224.750000</td>\n",
       "      <td>0.452194</td>\n",
       "      <td>0.515139</td>\n",
       "      <td>0.412443</td>\n",
       "      <td>0.796244</td>\n",
       "      <td>0.688486</td>\n",
       "      <td>0.506057</td>\n",
       "      <td>0.848489</td>\n",
       "      <td>0.678288</td>\n",
       "      <td>0.811777</td>\n",
       "      <td>0.896525</td>\n",
       "      <td>0.528436</td>\n",
       "      <td>0.723928</td>\n",
       "      <td>0.421522</td>\n",
       "      <td>0.282676</td>\n",
       "      <td>0.402552</td>\n",
       "      <td>0.342742</td>\n",
       "      <td>0.589525</td>\n",
       "      <td>-0.054792</td>\n",
       "      <td>0.014286</td>\n",
       "    </tr>\n",
       "    <tr>\n",
       "      <th>max</th>\n",
       "      <td>309.000000</td>\n",
       "      <td>1.801829</td>\n",
       "      <td>3.879327</td>\n",
       "      <td>2.759676</td>\n",
       "      <td>2.987912</td>\n",
       "      <td>2.562655</td>\n",
       "      <td>1.748558</td>\n",
       "      <td>3.974551</td>\n",
       "      <td>4.040076</td>\n",
       "      <td>1.834564</td>\n",
       "      <td>2.674612</td>\n",
       "      <td>3.173226</td>\n",
       "      <td>6.689149</td>\n",
       "      <td>5.824493</td>\n",
       "      <td>6.258379</td>\n",
       "      <td>2.067133</td>\n",
       "      <td>3.130979</td>\n",
       "      <td>3.441559</td>\n",
       "      <td>17.266415</td>\n",
       "      <td>9.066558</td>\n",
       "    </tr>\n",
       "  </tbody>\n",
       "</table>\n",
       "</div>"
      ],
      "text/plain": [
       "       Unnamed: 0  Wages CPI_SS     WTI_SS  Copper_SS  Soybeans_SS  \\\n",
       "count   94.000000     94.000000  94.000000  94.000000    94.000000   \n",
       "mean   150.372340     -0.039446  -0.046560  -0.151935     0.158702   \n",
       "std     88.858107      1.003180   1.116542   0.986746     1.140603   \n",
       "min      3.000000     -6.008413  -3.755452  -4.281991    -3.578469   \n",
       "25%     76.250000     -0.383316  -0.529745  -0.692793    -0.534923   \n",
       "50%    147.500000      0.169963   0.082344  -0.298726     0.027747   \n",
       "75%    224.750000      0.452194   0.515139   0.412443     0.796244   \n",
       "max    309.000000      1.801829   3.879327   2.759676     2.987912   \n",
       "\n",
       "       Natural Gas_SS  Heating Oil_SS    Corn_SS   Wheat_SS  Cattle_SS  \\\n",
       "count       94.000000       94.000000  94.000000  94.000000  94.000000   \n",
       "mean        -0.001416       -0.153214   0.271715   0.147639  -0.020189   \n",
       "std          0.975567        0.963172   1.089934   1.083590   1.040120   \n",
       "min         -2.087724       -3.479765  -2.917356  -2.913521  -3.321206   \n",
       "25%         -0.585450       -0.578672  -0.322636  -0.559743  -0.760703   \n",
       "50%         -0.078682       -0.033070   0.158283  -0.041941   0.073698   \n",
       "75%          0.688486        0.506057   0.848489   0.678288   0.811777   \n",
       "max          2.562655        1.748558   3.974551   4.040076   1.834564   \n",
       "\n",
       "       Lean Hogs_SS   Sugar_SS  Lumber_SS  Capacity Utilization_SS     GDP_SS  \\\n",
       "count     94.000000  94.000000  94.000000                94.000000  94.000000   \n",
       "mean       0.150634   0.042247   0.105954                 0.085988   0.114837   \n",
       "std        1.097781   0.918600   1.470259                 1.232635   1.525901   \n",
       "min       -2.026099  -1.857711  -2.360196                -7.342127  -8.837955   \n",
       "25%       -0.704479  -0.517446  -0.778532                -0.172902  -0.221962   \n",
       "50%        0.035594  -0.128461  -0.174865                 0.168818   0.068250   \n",
       "75%        0.896525   0.528436   0.723928                 0.421522   0.282676   \n",
       "max        2.674612   3.173226   6.689149                 5.824493   6.258379   \n",
       "\n",
       "       M2 Velocity_SS     PMI_SS  USD Index_SS  Initial Jobless Claims_SS  \\\n",
       "count       94.000000  94.000000     94.000000                  94.000000   \n",
       "mean        -0.011819  -0.177030      0.007469                  -0.191525   \n",
       "std          1.104324   1.048915      1.020621                   2.410044   \n",
       "min         -8.988479  -4.147665     -2.129319                 -12.599764   \n",
       "25%         -0.236393  -0.866544     -0.610996                  -0.129723   \n",
       "50%          0.043185  -0.319213     -0.060458                  -0.097518   \n",
       "75%          0.402552   0.342742      0.589525                  -0.054792   \n",
       "max          2.067133   3.130979      3.441559                  17.266415   \n",
       "\n",
       "       Unemployment Rate_SS  \n",
       "count             94.000000  \n",
       "mean              -0.065229  \n",
       "std                1.295092  \n",
       "min               -5.342334  \n",
       "25%               -0.276383  \n",
       "50%               -0.151811  \n",
       "75%                0.014286  \n",
       "max                9.066558  "
      ]
     },
     "execution_count": 9,
     "metadata": {},
     "output_type": "execute_result"
    }
   ],
   "source": [
    "X_test_SS.describe()"
   ]
  },
  {
   "cell_type": "code",
   "execution_count": 10,
   "metadata": {},
   "outputs": [],
   "source": [
    "X_test_SS = X_test_SS.drop(['Unnamed: 0'], axis=1)"
   ]
  },
  {
   "cell_type": "code",
   "execution_count": 11,
   "metadata": {},
   "outputs": [
    {
     "data": {
      "text/html": [
       "<div>\n",
       "<style scoped>\n",
       "    .dataframe tbody tr th:only-of-type {\n",
       "        vertical-align: middle;\n",
       "    }\n",
       "\n",
       "    .dataframe tbody tr th {\n",
       "        vertical-align: top;\n",
       "    }\n",
       "\n",
       "    .dataframe thead th {\n",
       "        text-align: right;\n",
       "    }\n",
       "</style>\n",
       "<table border=\"1\" class=\"dataframe\">\n",
       "  <thead>\n",
       "    <tr style=\"text-align: right;\">\n",
       "      <th></th>\n",
       "      <th>Unnamed: 0</th>\n",
       "      <th>Inflation_SS</th>\n",
       "    </tr>\n",
       "  </thead>\n",
       "  <tbody>\n",
       "    <tr>\n",
       "      <th>count</th>\n",
       "      <td>94.000000</td>\n",
       "      <td>94.000000</td>\n",
       "    </tr>\n",
       "    <tr>\n",
       "      <th>mean</th>\n",
       "      <td>150.372340</td>\n",
       "      <td>0.173736</td>\n",
       "    </tr>\n",
       "    <tr>\n",
       "      <th>std</th>\n",
       "      <td>88.858107</td>\n",
       "      <td>1.098587</td>\n",
       "    </tr>\n",
       "    <tr>\n",
       "      <th>min</th>\n",
       "      <td>3.000000</td>\n",
       "      <td>-5.962087</td>\n",
       "    </tr>\n",
       "    <tr>\n",
       "      <th>25%</th>\n",
       "      <td>76.250000</td>\n",
       "      <td>-0.369456</td>\n",
       "    </tr>\n",
       "    <tr>\n",
       "      <th>50%</th>\n",
       "      <td>147.500000</td>\n",
       "      <td>0.190744</td>\n",
       "    </tr>\n",
       "    <tr>\n",
       "      <th>75%</th>\n",
       "      <td>224.750000</td>\n",
       "      <td>0.720967</td>\n",
       "    </tr>\n",
       "    <tr>\n",
       "      <th>max</th>\n",
       "      <td>309.000000</td>\n",
       "      <td>3.599407</td>\n",
       "    </tr>\n",
       "  </tbody>\n",
       "</table>\n",
       "</div>"
      ],
      "text/plain": [
       "       Unnamed: 0  Inflation_SS\n",
       "count   94.000000     94.000000\n",
       "mean   150.372340      0.173736\n",
       "std     88.858107      1.098587\n",
       "min      3.000000     -5.962087\n",
       "25%     76.250000     -0.369456\n",
       "50%    147.500000      0.190744\n",
       "75%    224.750000      0.720967\n",
       "max    309.000000      3.599407"
      ]
     },
     "execution_count": 11,
     "metadata": {},
     "output_type": "execute_result"
    }
   ],
   "source": [
    "y_test_SS.describe()"
   ]
  },
  {
   "cell_type": "code",
   "execution_count": 12,
   "metadata": {},
   "outputs": [],
   "source": [
    "y_test_SS = y_test_SS.drop(['Unnamed: 0'], axis=1)"
   ]
  },
  {
   "cell_type": "markdown",
   "metadata": {},
   "source": [
    "`Mean` should be 0 `Std` should be 1 for `X` but not `y`"
   ]
  },
  {
   "cell_type": "code",
   "execution_count": 13,
   "metadata": {},
   "outputs": [
    {
     "data": {
      "text/html": [
       "<div>\n",
       "<style scoped>\n",
       "    .dataframe tbody tr th:only-of-type {\n",
       "        vertical-align: middle;\n",
       "    }\n",
       "\n",
       "    .dataframe tbody tr th {\n",
       "        vertical-align: top;\n",
       "    }\n",
       "\n",
       "    .dataframe thead th {\n",
       "        text-align: right;\n",
       "    }\n",
       "</style>\n",
       "<table border=\"1\" class=\"dataframe\">\n",
       "  <thead>\n",
       "    <tr style=\"text-align: right;\">\n",
       "      <th></th>\n",
       "      <th>Unnamed: 0</th>\n",
       "      <th>Wages CPI_SS_yun</th>\n",
       "      <th>WTI_SS_yun</th>\n",
       "      <th>Copper_SS_yun</th>\n",
       "      <th>Soybeans_SS_yun</th>\n",
       "      <th>Natural Gas_SS_yun</th>\n",
       "      <th>Heating Oil_SS_yun</th>\n",
       "      <th>Corn_SS_yun</th>\n",
       "      <th>Wheat_SS_yun</th>\n",
       "      <th>Cattle_SS_yun</th>\n",
       "      <th>Lean Hogs_SS_yun</th>\n",
       "      <th>Sugar_SS_yun</th>\n",
       "      <th>Lumber_SS_yun</th>\n",
       "      <th>Capacity Utilization_SS_yun</th>\n",
       "      <th>GDP_SS_yun</th>\n",
       "      <th>M2 Velocity_SS_yun</th>\n",
       "      <th>PMI_SS_yun</th>\n",
       "      <th>USD Index_SS_yun</th>\n",
       "      <th>Initial Jobless Claims_SS_yun</th>\n",
       "      <th>Unemployment Rate_SS_yun</th>\n",
       "    </tr>\n",
       "  </thead>\n",
       "  <tbody>\n",
       "    <tr>\n",
       "      <th>count</th>\n",
       "      <td>218.000000</td>\n",
       "      <td>2.180000e+02</td>\n",
       "      <td>2.180000e+02</td>\n",
       "      <td>2.180000e+02</td>\n",
       "      <td>2.180000e+02</td>\n",
       "      <td>2.180000e+02</td>\n",
       "      <td>2.180000e+02</td>\n",
       "      <td>2.180000e+02</td>\n",
       "      <td>2.180000e+02</td>\n",
       "      <td>2.180000e+02</td>\n",
       "      <td>2.180000e+02</td>\n",
       "      <td>2.180000e+02</td>\n",
       "      <td>2.180000e+02</td>\n",
       "      <td>2.180000e+02</td>\n",
       "      <td>2.180000e+02</td>\n",
       "      <td>2.180000e+02</td>\n",
       "      <td>2.180000e+02</td>\n",
       "      <td>2.180000e+02</td>\n",
       "      <td>2.180000e+02</td>\n",
       "      <td>2.180000e+02</td>\n",
       "    </tr>\n",
       "    <tr>\n",
       "      <th>mean</th>\n",
       "      <td>157.711009</td>\n",
       "      <td>-3.564936e-17</td>\n",
       "      <td>-5.092766e-18</td>\n",
       "      <td>3.514009e-17</td>\n",
       "      <td>-3.768647e-17</td>\n",
       "      <td>-2.444528e-17</td>\n",
       "      <td>1.655149e-18</td>\n",
       "      <td>2.902877e-17</td>\n",
       "      <td>-1.069481e-17</td>\n",
       "      <td>1.527830e-18</td>\n",
       "      <td>3.564936e-18</td>\n",
       "      <td>-8.657702e-18</td>\n",
       "      <td>-2.762826e-17</td>\n",
       "      <td>-4.558026e-17</td>\n",
       "      <td>6.773379e-17</td>\n",
       "      <td>2.323575e-17</td>\n",
       "      <td>-2.976085e-17</td>\n",
       "      <td>1.425975e-17</td>\n",
       "      <td>8.657702e-18</td>\n",
       "      <td>9.676256e-18</td>\n",
       "    </tr>\n",
       "    <tr>\n",
       "      <th>std</th>\n",
       "      <td>90.901141</td>\n",
       "      <td>1.002301e+00</td>\n",
       "      <td>1.002301e+00</td>\n",
       "      <td>1.002301e+00</td>\n",
       "      <td>1.002301e+00</td>\n",
       "      <td>1.002301e+00</td>\n",
       "      <td>1.002301e+00</td>\n",
       "      <td>1.002301e+00</td>\n",
       "      <td>1.002301e+00</td>\n",
       "      <td>1.002301e+00</td>\n",
       "      <td>1.002301e+00</td>\n",
       "      <td>1.002301e+00</td>\n",
       "      <td>1.002301e+00</td>\n",
       "      <td>1.002301e+00</td>\n",
       "      <td>1.002301e+00</td>\n",
       "      <td>1.002301e+00</td>\n",
       "      <td>1.002301e+00</td>\n",
       "      <td>1.002301e+00</td>\n",
       "      <td>1.002301e+00</td>\n",
       "      <td>1.002301e+00</td>\n",
       "    </tr>\n",
       "    <tr>\n",
       "      <th>min</th>\n",
       "      <td>0.000000</td>\n",
       "      <td>-6.977019e+00</td>\n",
       "      <td>-3.783391e+00</td>\n",
       "      <td>-4.194080e+00</td>\n",
       "      <td>-3.280162e+00</td>\n",
       "      <td>-1.969069e+00</td>\n",
       "      <td>-3.380414e+00</td>\n",
       "      <td>-2.641519e+00</td>\n",
       "      <td>-2.034743e+00</td>\n",
       "      <td>-2.966145e+00</td>\n",
       "      <td>-2.453932e+00</td>\n",
       "      <td>-2.521716e+00</td>\n",
       "      <td>-2.522608e+00</td>\n",
       "      <td>-7.680682e+00</td>\n",
       "      <td>-8.837955e+00</td>\n",
       "      <td>-8.988479e+00</td>\n",
       "      <td>-3.333833e+00</td>\n",
       "      <td>-2.094012e+00</td>\n",
       "      <td>-3.190713e+00</td>\n",
       "      <td>-4.802520e+00</td>\n",
       "    </tr>\n",
       "    <tr>\n",
       "      <th>25%</th>\n",
       "      <td>81.500000</td>\n",
       "      <td>-2.671202e-01</td>\n",
       "      <td>-5.665365e-01</td>\n",
       "      <td>-5.924217e-01</td>\n",
       "      <td>-5.064631e-01</td>\n",
       "      <td>-6.724566e-01</td>\n",
       "      <td>-5.422759e-01</td>\n",
       "      <td>-6.269477e-01</td>\n",
       "      <td>-6.723267e-01</td>\n",
       "      <td>-6.458132e-01</td>\n",
       "      <td>-6.201385e-01</td>\n",
       "      <td>-6.977306e-01</td>\n",
       "      <td>-6.930695e-01</td>\n",
       "      <td>-2.313524e-01</td>\n",
       "      <td>-1.414367e-01</td>\n",
       "      <td>-9.686651e-02</td>\n",
       "      <td>-5.828489e-01</td>\n",
       "      <td>-7.944049e-01</td>\n",
       "      <td>-1.277904e-01</td>\n",
       "      <td>-2.348593e-01</td>\n",
       "    </tr>\n",
       "    <tr>\n",
       "      <th>50%</th>\n",
       "      <td>157.000000</td>\n",
       "      <td>1.153214e-01</td>\n",
       "      <td>-3.959852e-02</td>\n",
       "      <td>-9.739427e-02</td>\n",
       "      <td>-5.652283e-02</td>\n",
       "      <td>-1.579051e-01</td>\n",
       "      <td>-4.040096e-02</td>\n",
       "      <td>-5.827166e-02</td>\n",
       "      <td>-4.863862e-02</td>\n",
       "      <td>7.426409e-02</td>\n",
       "      <td>-4.506087e-02</td>\n",
       "      <td>-2.081390e-01</td>\n",
       "      <td>-3.689083e-02</td>\n",
       "      <td>1.477523e-01</td>\n",
       "      <td>1.250461e-01</td>\n",
       "      <td>8.804844e-02</td>\n",
       "      <td>-1.545851e-02</td>\n",
       "      <td>3.527433e-02</td>\n",
       "      <td>-8.785599e-02</td>\n",
       "      <td>-1.102867e-01</td>\n",
       "    </tr>\n",
       "    <tr>\n",
       "      <th>75%</th>\n",
       "      <td>235.750000</td>\n",
       "      <td>4.280369e-01</td>\n",
       "      <td>6.677299e-01</td>\n",
       "      <td>5.366898e-01</td>\n",
       "      <td>5.316750e-01</td>\n",
       "      <td>5.625160e-01</td>\n",
       "      <td>6.352366e-01</td>\n",
       "      <td>5.203411e-01</td>\n",
       "      <td>5.954279e-01</td>\n",
       "      <td>7.339765e-01</td>\n",
       "      <td>7.269682e-01</td>\n",
       "      <td>5.484182e-01</td>\n",
       "      <td>6.135977e-01</td>\n",
       "      <td>4.357818e-01</td>\n",
       "      <td>4.008007e-01</td>\n",
       "      <td>3.751039e-01</td>\n",
       "      <td>5.576631e-01</td>\n",
       "      <td>6.282367e-01</td>\n",
       "      <td>-4.770693e-02</td>\n",
       "      <td>5.581003e-02</td>\n",
       "    </tr>\n",
       "    <tr>\n",
       "      <th>max</th>\n",
       "      <td>311.000000</td>\n",
       "      <td>3.074376e+00</td>\n",
       "      <td>2.742497e+00</td>\n",
       "      <td>3.913407e+00</td>\n",
       "      <td>2.811401e+00</td>\n",
       "      <td>2.994870e+00</td>\n",
       "      <td>2.428936e+00</td>\n",
       "      <td>3.277006e+00</td>\n",
       "      <td>4.032564e+00</td>\n",
       "      <td>2.428476e+00</td>\n",
       "      <td>2.661448e+00</td>\n",
       "      <td>3.888003e+00</td>\n",
       "      <td>5.231216e+00</td>\n",
       "      <td>3.864717e+00</td>\n",
       "      <td>1.198672e+00</td>\n",
       "      <td>9.832153e-01</td>\n",
       "      <td>3.589476e+00</td>\n",
       "      <td>2.666820e+00</td>\n",
       "      <td>1.241375e+01</td>\n",
       "      <td>1.151649e+01</td>\n",
       "    </tr>\n",
       "  </tbody>\n",
       "</table>\n",
       "</div>"
      ],
      "text/plain": [
       "       Unnamed: 0  Wages CPI_SS_yun    WTI_SS_yun  Copper_SS_yun  \\\n",
       "count  218.000000      2.180000e+02  2.180000e+02   2.180000e+02   \n",
       "mean   157.711009     -3.564936e-17 -5.092766e-18   3.514009e-17   \n",
       "std     90.901141      1.002301e+00  1.002301e+00   1.002301e+00   \n",
       "min      0.000000     -6.977019e+00 -3.783391e+00  -4.194080e+00   \n",
       "25%     81.500000     -2.671202e-01 -5.665365e-01  -5.924217e-01   \n",
       "50%    157.000000      1.153214e-01 -3.959852e-02  -9.739427e-02   \n",
       "75%    235.750000      4.280369e-01  6.677299e-01   5.366898e-01   \n",
       "max    311.000000      3.074376e+00  2.742497e+00   3.913407e+00   \n",
       "\n",
       "       Soybeans_SS_yun  Natural Gas_SS_yun  Heating Oil_SS_yun   Corn_SS_yun  \\\n",
       "count     2.180000e+02        2.180000e+02        2.180000e+02  2.180000e+02   \n",
       "mean     -3.768647e-17       -2.444528e-17        1.655149e-18  2.902877e-17   \n",
       "std       1.002301e+00        1.002301e+00        1.002301e+00  1.002301e+00   \n",
       "min      -3.280162e+00       -1.969069e+00       -3.380414e+00 -2.641519e+00   \n",
       "25%      -5.064631e-01       -6.724566e-01       -5.422759e-01 -6.269477e-01   \n",
       "50%      -5.652283e-02       -1.579051e-01       -4.040096e-02 -5.827166e-02   \n",
       "75%       5.316750e-01        5.625160e-01        6.352366e-01  5.203411e-01   \n",
       "max       2.811401e+00        2.994870e+00        2.428936e+00  3.277006e+00   \n",
       "\n",
       "       Wheat_SS_yun  Cattle_SS_yun  Lean Hogs_SS_yun  Sugar_SS_yun  \\\n",
       "count  2.180000e+02   2.180000e+02      2.180000e+02  2.180000e+02   \n",
       "mean  -1.069481e-17   1.527830e-18      3.564936e-18 -8.657702e-18   \n",
       "std    1.002301e+00   1.002301e+00      1.002301e+00  1.002301e+00   \n",
       "min   -2.034743e+00  -2.966145e+00     -2.453932e+00 -2.521716e+00   \n",
       "25%   -6.723267e-01  -6.458132e-01     -6.201385e-01 -6.977306e-01   \n",
       "50%   -4.863862e-02   7.426409e-02     -4.506087e-02 -2.081390e-01   \n",
       "75%    5.954279e-01   7.339765e-01      7.269682e-01  5.484182e-01   \n",
       "max    4.032564e+00   2.428476e+00      2.661448e+00  3.888003e+00   \n",
       "\n",
       "       Lumber_SS_yun  Capacity Utilization_SS_yun    GDP_SS_yun  \\\n",
       "count   2.180000e+02                 2.180000e+02  2.180000e+02   \n",
       "mean   -2.762826e-17                -4.558026e-17  6.773379e-17   \n",
       "std     1.002301e+00                 1.002301e+00  1.002301e+00   \n",
       "min    -2.522608e+00                -7.680682e+00 -8.837955e+00   \n",
       "25%    -6.930695e-01                -2.313524e-01 -1.414367e-01   \n",
       "50%    -3.689083e-02                 1.477523e-01  1.250461e-01   \n",
       "75%     6.135977e-01                 4.357818e-01  4.008007e-01   \n",
       "max     5.231216e+00                 3.864717e+00  1.198672e+00   \n",
       "\n",
       "       M2 Velocity_SS_yun    PMI_SS_yun  USD Index_SS_yun  \\\n",
       "count        2.180000e+02  2.180000e+02      2.180000e+02   \n",
       "mean         2.323575e-17 -2.976085e-17      1.425975e-17   \n",
       "std          1.002301e+00  1.002301e+00      1.002301e+00   \n",
       "min         -8.988479e+00 -3.333833e+00     -2.094012e+00   \n",
       "25%         -9.686651e-02 -5.828489e-01     -7.944049e-01   \n",
       "50%          8.804844e-02 -1.545851e-02      3.527433e-02   \n",
       "75%          3.751039e-01  5.576631e-01      6.282367e-01   \n",
       "max          9.832153e-01  3.589476e+00      2.666820e+00   \n",
       "\n",
       "       Initial Jobless Claims_SS_yun  Unemployment Rate_SS_yun  \n",
       "count                   2.180000e+02              2.180000e+02  \n",
       "mean                    8.657702e-18              9.676256e-18  \n",
       "std                     1.002301e+00              1.002301e+00  \n",
       "min                    -3.190713e+00             -4.802520e+00  \n",
       "25%                    -1.277904e-01             -2.348593e-01  \n",
       "50%                    -8.785599e-02             -1.102867e-01  \n",
       "75%                    -4.770693e-02              5.581003e-02  \n",
       "max                     1.241375e+01              1.151649e+01  "
      ]
     },
     "execution_count": 13,
     "metadata": {},
     "output_type": "execute_result"
    }
   ],
   "source": [
    "X_train_SS_y_uns.describe()"
   ]
  },
  {
   "cell_type": "code",
   "execution_count": 14,
   "metadata": {},
   "outputs": [],
   "source": [
    "X_train_SS_y_uns = X_train_SS_y_uns.drop(['Unnamed: 0'], axis=1)"
   ]
  },
  {
   "cell_type": "code",
   "execution_count": 15,
   "metadata": {},
   "outputs": [
    {
     "data": {
      "text/html": [
       "<div>\n",
       "<style scoped>\n",
       "    .dataframe tbody tr th:only-of-type {\n",
       "        vertical-align: middle;\n",
       "    }\n",
       "\n",
       "    .dataframe tbody tr th {\n",
       "        vertical-align: top;\n",
       "    }\n",
       "\n",
       "    .dataframe thead th {\n",
       "        text-align: right;\n",
       "    }\n",
       "</style>\n",
       "<table border=\"1\" class=\"dataframe\">\n",
       "  <thead>\n",
       "    <tr style=\"text-align: right;\">\n",
       "      <th></th>\n",
       "      <th>Unnamed: 0</th>\n",
       "      <th>Inflation</th>\n",
       "    </tr>\n",
       "  </thead>\n",
       "  <tbody>\n",
       "    <tr>\n",
       "      <th>count</th>\n",
       "      <td>218.000000</td>\n",
       "      <td>218.000000</td>\n",
       "    </tr>\n",
       "    <tr>\n",
       "      <th>mean</th>\n",
       "      <td>157.711009</td>\n",
       "      <td>-0.072711</td>\n",
       "    </tr>\n",
       "    <tr>\n",
       "      <th>std</th>\n",
       "      <td>90.901141</td>\n",
       "      <td>0.802450</td>\n",
       "    </tr>\n",
       "    <tr>\n",
       "      <th>min</th>\n",
       "      <td>0.000000</td>\n",
       "      <td>-3.625000</td>\n",
       "    </tr>\n",
       "    <tr>\n",
       "      <th>25%</th>\n",
       "      <td>81.500000</td>\n",
       "      <td>-0.408000</td>\n",
       "    </tr>\n",
       "    <tr>\n",
       "      <th>50%</th>\n",
       "      <td>157.000000</td>\n",
       "      <td>-0.083000</td>\n",
       "    </tr>\n",
       "    <tr>\n",
       "      <th>75%</th>\n",
       "      <td>235.750000</td>\n",
       "      <td>0.282000</td>\n",
       "    </tr>\n",
       "    <tr>\n",
       "      <th>max</th>\n",
       "      <td>311.000000</td>\n",
       "      <td>4.007000</td>\n",
       "    </tr>\n",
       "  </tbody>\n",
       "</table>\n",
       "</div>"
      ],
      "text/plain": [
       "       Unnamed: 0   Inflation\n",
       "count  218.000000  218.000000\n",
       "mean   157.711009   -0.072711\n",
       "std     90.901141    0.802450\n",
       "min      0.000000   -3.625000\n",
       "25%     81.500000   -0.408000\n",
       "50%    157.000000   -0.083000\n",
       "75%    235.750000    0.282000\n",
       "max    311.000000    4.007000"
      ]
     },
     "execution_count": 15,
     "metadata": {},
     "output_type": "execute_result"
    }
   ],
   "source": [
    "y_train_SS_y_uns.describe()"
   ]
  },
  {
   "cell_type": "code",
   "execution_count": 16,
   "metadata": {},
   "outputs": [],
   "source": [
    "y_train_SS_y_uns = y_train_SS_y_uns.drop(['Unnamed: 0'], axis=1)"
   ]
  },
  {
   "cell_type": "code",
   "execution_count": 17,
   "metadata": {},
   "outputs": [
    {
     "data": {
      "text/html": [
       "<div>\n",
       "<style scoped>\n",
       "    .dataframe tbody tr th:only-of-type {\n",
       "        vertical-align: middle;\n",
       "    }\n",
       "\n",
       "    .dataframe tbody tr th {\n",
       "        vertical-align: top;\n",
       "    }\n",
       "\n",
       "    .dataframe thead th {\n",
       "        text-align: right;\n",
       "    }\n",
       "</style>\n",
       "<table border=\"1\" class=\"dataframe\">\n",
       "  <thead>\n",
       "    <tr style=\"text-align: right;\">\n",
       "      <th></th>\n",
       "      <th>Unnamed: 0</th>\n",
       "      <th>Wages CPI_SS_yun</th>\n",
       "      <th>WTI_SS_yun</th>\n",
       "      <th>Copper_SS_yun</th>\n",
       "      <th>Soybeans_SS_yun</th>\n",
       "      <th>Natural Gas_SS_yun</th>\n",
       "      <th>Heating Oil_SS_yun</th>\n",
       "      <th>Corn_SS_yun</th>\n",
       "      <th>Wheat_SS_yun</th>\n",
       "      <th>Cattle_SS_yun</th>\n",
       "      <th>Lean Hogs_SS_yun</th>\n",
       "      <th>Sugar_SS_yun</th>\n",
       "      <th>Lumber_SS_yun</th>\n",
       "      <th>Capacity Utilization_SS_yun</th>\n",
       "      <th>GDP_SS_yun</th>\n",
       "      <th>M2 Velocity_SS_yun</th>\n",
       "      <th>PMI_SS_yun</th>\n",
       "      <th>USD Index_SS_yun</th>\n",
       "      <th>Initial Jobless Claims_SS_yun</th>\n",
       "      <th>Unemployment Rate_SS_yun</th>\n",
       "    </tr>\n",
       "  </thead>\n",
       "  <tbody>\n",
       "    <tr>\n",
       "      <th>count</th>\n",
       "      <td>94.000000</td>\n",
       "      <td>94.000000</td>\n",
       "      <td>94.000000</td>\n",
       "      <td>94.000000</td>\n",
       "      <td>94.000000</td>\n",
       "      <td>94.000000</td>\n",
       "      <td>94.000000</td>\n",
       "      <td>94.000000</td>\n",
       "      <td>94.000000</td>\n",
       "      <td>94.000000</td>\n",
       "      <td>94.000000</td>\n",
       "      <td>94.000000</td>\n",
       "      <td>94.000000</td>\n",
       "      <td>94.000000</td>\n",
       "      <td>94.000000</td>\n",
       "      <td>94.000000</td>\n",
       "      <td>94.000000</td>\n",
       "      <td>94.000000</td>\n",
       "      <td>94.000000</td>\n",
       "      <td>94.000000</td>\n",
       "    </tr>\n",
       "    <tr>\n",
       "      <th>mean</th>\n",
       "      <td>150.372340</td>\n",
       "      <td>-0.039446</td>\n",
       "      <td>-0.046560</td>\n",
       "      <td>-0.151935</td>\n",
       "      <td>0.158702</td>\n",
       "      <td>-0.001416</td>\n",
       "      <td>-0.153214</td>\n",
       "      <td>0.271715</td>\n",
       "      <td>0.147639</td>\n",
       "      <td>-0.020189</td>\n",
       "      <td>0.150634</td>\n",
       "      <td>0.042247</td>\n",
       "      <td>0.105954</td>\n",
       "      <td>0.085988</td>\n",
       "      <td>0.114837</td>\n",
       "      <td>-0.011819</td>\n",
       "      <td>-0.177030</td>\n",
       "      <td>0.007469</td>\n",
       "      <td>-0.191525</td>\n",
       "      <td>-0.065229</td>\n",
       "    </tr>\n",
       "    <tr>\n",
       "      <th>std</th>\n",
       "      <td>88.858107</td>\n",
       "      <td>1.003180</td>\n",
       "      <td>1.116542</td>\n",
       "      <td>0.986746</td>\n",
       "      <td>1.140603</td>\n",
       "      <td>0.975567</td>\n",
       "      <td>0.963172</td>\n",
       "      <td>1.089934</td>\n",
       "      <td>1.083590</td>\n",
       "      <td>1.040120</td>\n",
       "      <td>1.097781</td>\n",
       "      <td>0.918600</td>\n",
       "      <td>1.470259</td>\n",
       "      <td>1.232635</td>\n",
       "      <td>1.525901</td>\n",
       "      <td>1.104324</td>\n",
       "      <td>1.048915</td>\n",
       "      <td>1.020621</td>\n",
       "      <td>2.410044</td>\n",
       "      <td>1.295092</td>\n",
       "    </tr>\n",
       "    <tr>\n",
       "      <th>min</th>\n",
       "      <td>3.000000</td>\n",
       "      <td>-6.008413</td>\n",
       "      <td>-3.755452</td>\n",
       "      <td>-4.281991</td>\n",
       "      <td>-3.578469</td>\n",
       "      <td>-2.087724</td>\n",
       "      <td>-3.479765</td>\n",
       "      <td>-2.917356</td>\n",
       "      <td>-2.913521</td>\n",
       "      <td>-3.321206</td>\n",
       "      <td>-2.026099</td>\n",
       "      <td>-1.857711</td>\n",
       "      <td>-2.360196</td>\n",
       "      <td>-7.342127</td>\n",
       "      <td>-8.837955</td>\n",
       "      <td>-8.988479</td>\n",
       "      <td>-4.147665</td>\n",
       "      <td>-2.129319</td>\n",
       "      <td>-12.599764</td>\n",
       "      <td>-5.342334</td>\n",
       "    </tr>\n",
       "    <tr>\n",
       "      <th>25%</th>\n",
       "      <td>76.250000</td>\n",
       "      <td>-0.383316</td>\n",
       "      <td>-0.529745</td>\n",
       "      <td>-0.692793</td>\n",
       "      <td>-0.534923</td>\n",
       "      <td>-0.585450</td>\n",
       "      <td>-0.578672</td>\n",
       "      <td>-0.322636</td>\n",
       "      <td>-0.559743</td>\n",
       "      <td>-0.760703</td>\n",
       "      <td>-0.704479</td>\n",
       "      <td>-0.517446</td>\n",
       "      <td>-0.778532</td>\n",
       "      <td>-0.172902</td>\n",
       "      <td>-0.221962</td>\n",
       "      <td>-0.236393</td>\n",
       "      <td>-0.866544</td>\n",
       "      <td>-0.610996</td>\n",
       "      <td>-0.129723</td>\n",
       "      <td>-0.276383</td>\n",
       "    </tr>\n",
       "    <tr>\n",
       "      <th>50%</th>\n",
       "      <td>147.500000</td>\n",
       "      <td>0.169963</td>\n",
       "      <td>0.082344</td>\n",
       "      <td>-0.298726</td>\n",
       "      <td>0.027747</td>\n",
       "      <td>-0.078682</td>\n",
       "      <td>-0.033070</td>\n",
       "      <td>0.158283</td>\n",
       "      <td>-0.041941</td>\n",
       "      <td>0.073698</td>\n",
       "      <td>0.035594</td>\n",
       "      <td>-0.128461</td>\n",
       "      <td>-0.174865</td>\n",
       "      <td>0.168818</td>\n",
       "      <td>0.068250</td>\n",
       "      <td>0.043185</td>\n",
       "      <td>-0.319213</td>\n",
       "      <td>-0.060458</td>\n",
       "      <td>-0.097518</td>\n",
       "      <td>-0.151811</td>\n",
       "    </tr>\n",
       "    <tr>\n",
       "      <th>75%</th>\n",
       "      <td>224.750000</td>\n",
       "      <td>0.452194</td>\n",
       "      <td>0.515139</td>\n",
       "      <td>0.412443</td>\n",
       "      <td>0.796244</td>\n",
       "      <td>0.688486</td>\n",
       "      <td>0.506057</td>\n",
       "      <td>0.848489</td>\n",
       "      <td>0.678288</td>\n",
       "      <td>0.811777</td>\n",
       "      <td>0.896525</td>\n",
       "      <td>0.528436</td>\n",
       "      <td>0.723928</td>\n",
       "      <td>0.421522</td>\n",
       "      <td>0.282676</td>\n",
       "      <td>0.402552</td>\n",
       "      <td>0.342742</td>\n",
       "      <td>0.589525</td>\n",
       "      <td>-0.054792</td>\n",
       "      <td>0.014286</td>\n",
       "    </tr>\n",
       "    <tr>\n",
       "      <th>max</th>\n",
       "      <td>309.000000</td>\n",
       "      <td>1.801829</td>\n",
       "      <td>3.879327</td>\n",
       "      <td>2.759676</td>\n",
       "      <td>2.987912</td>\n",
       "      <td>2.562655</td>\n",
       "      <td>1.748558</td>\n",
       "      <td>3.974551</td>\n",
       "      <td>4.040076</td>\n",
       "      <td>1.834564</td>\n",
       "      <td>2.674612</td>\n",
       "      <td>3.173226</td>\n",
       "      <td>6.689149</td>\n",
       "      <td>5.824493</td>\n",
       "      <td>6.258379</td>\n",
       "      <td>2.067133</td>\n",
       "      <td>3.130979</td>\n",
       "      <td>3.441559</td>\n",
       "      <td>17.266415</td>\n",
       "      <td>9.066558</td>\n",
       "    </tr>\n",
       "  </tbody>\n",
       "</table>\n",
       "</div>"
      ],
      "text/plain": [
       "       Unnamed: 0  Wages CPI_SS_yun  WTI_SS_yun  Copper_SS_yun  \\\n",
       "count   94.000000         94.000000   94.000000      94.000000   \n",
       "mean   150.372340         -0.039446   -0.046560      -0.151935   \n",
       "std     88.858107          1.003180    1.116542       0.986746   \n",
       "min      3.000000         -6.008413   -3.755452      -4.281991   \n",
       "25%     76.250000         -0.383316   -0.529745      -0.692793   \n",
       "50%    147.500000          0.169963    0.082344      -0.298726   \n",
       "75%    224.750000          0.452194    0.515139       0.412443   \n",
       "max    309.000000          1.801829    3.879327       2.759676   \n",
       "\n",
       "       Soybeans_SS_yun  Natural Gas_SS_yun  Heating Oil_SS_yun  Corn_SS_yun  \\\n",
       "count        94.000000           94.000000           94.000000    94.000000   \n",
       "mean          0.158702           -0.001416           -0.153214     0.271715   \n",
       "std           1.140603            0.975567            0.963172     1.089934   \n",
       "min          -3.578469           -2.087724           -3.479765    -2.917356   \n",
       "25%          -0.534923           -0.585450           -0.578672    -0.322636   \n",
       "50%           0.027747           -0.078682           -0.033070     0.158283   \n",
       "75%           0.796244            0.688486            0.506057     0.848489   \n",
       "max           2.987912            2.562655            1.748558     3.974551   \n",
       "\n",
       "       Wheat_SS_yun  Cattle_SS_yun  Lean Hogs_SS_yun  Sugar_SS_yun  \\\n",
       "count     94.000000      94.000000         94.000000     94.000000   \n",
       "mean       0.147639      -0.020189          0.150634      0.042247   \n",
       "std        1.083590       1.040120          1.097781      0.918600   \n",
       "min       -2.913521      -3.321206         -2.026099     -1.857711   \n",
       "25%       -0.559743      -0.760703         -0.704479     -0.517446   \n",
       "50%       -0.041941       0.073698          0.035594     -0.128461   \n",
       "75%        0.678288       0.811777          0.896525      0.528436   \n",
       "max        4.040076       1.834564          2.674612      3.173226   \n",
       "\n",
       "       Lumber_SS_yun  Capacity Utilization_SS_yun  GDP_SS_yun  \\\n",
       "count      94.000000                    94.000000   94.000000   \n",
       "mean        0.105954                     0.085988    0.114837   \n",
       "std         1.470259                     1.232635    1.525901   \n",
       "min        -2.360196                    -7.342127   -8.837955   \n",
       "25%        -0.778532                    -0.172902   -0.221962   \n",
       "50%        -0.174865                     0.168818    0.068250   \n",
       "75%         0.723928                     0.421522    0.282676   \n",
       "max         6.689149                     5.824493    6.258379   \n",
       "\n",
       "       M2 Velocity_SS_yun  PMI_SS_yun  USD Index_SS_yun  \\\n",
       "count           94.000000   94.000000         94.000000   \n",
       "mean            -0.011819   -0.177030          0.007469   \n",
       "std              1.104324    1.048915          1.020621   \n",
       "min             -8.988479   -4.147665         -2.129319   \n",
       "25%             -0.236393   -0.866544         -0.610996   \n",
       "50%              0.043185   -0.319213         -0.060458   \n",
       "75%              0.402552    0.342742          0.589525   \n",
       "max              2.067133    3.130979          3.441559   \n",
       "\n",
       "       Initial Jobless Claims_SS_yun  Unemployment Rate_SS_yun  \n",
       "count                      94.000000                 94.000000  \n",
       "mean                       -0.191525                 -0.065229  \n",
       "std                         2.410044                  1.295092  \n",
       "min                       -12.599764                 -5.342334  \n",
       "25%                        -0.129723                 -0.276383  \n",
       "50%                        -0.097518                 -0.151811  \n",
       "75%                        -0.054792                  0.014286  \n",
       "max                        17.266415                  9.066558  "
      ]
     },
     "execution_count": 17,
     "metadata": {},
     "output_type": "execute_result"
    }
   ],
   "source": [
    "X_test_SS_y_uns.describe()"
   ]
  },
  {
   "cell_type": "code",
   "execution_count": 18,
   "metadata": {},
   "outputs": [],
   "source": [
    "X_test_SS_y_uns = X_test_SS_y_uns.drop(['Unnamed: 0'], axis=1)"
   ]
  },
  {
   "cell_type": "code",
   "execution_count": 19,
   "metadata": {},
   "outputs": [
    {
     "data": {
      "text/html": [
       "<div>\n",
       "<style scoped>\n",
       "    .dataframe tbody tr th:only-of-type {\n",
       "        vertical-align: middle;\n",
       "    }\n",
       "\n",
       "    .dataframe tbody tr th {\n",
       "        vertical-align: top;\n",
       "    }\n",
       "\n",
       "    .dataframe thead th {\n",
       "        text-align: right;\n",
       "    }\n",
       "</style>\n",
       "<table border=\"1\" class=\"dataframe\">\n",
       "  <thead>\n",
       "    <tr style=\"text-align: right;\">\n",
       "      <th></th>\n",
       "      <th>Unnamed: 0</th>\n",
       "      <th>Inflation_SS</th>\n",
       "    </tr>\n",
       "  </thead>\n",
       "  <tbody>\n",
       "    <tr>\n",
       "      <th>count</th>\n",
       "      <td>94.000000</td>\n",
       "      <td>94.000000</td>\n",
       "    </tr>\n",
       "    <tr>\n",
       "      <th>mean</th>\n",
       "      <td>150.372340</td>\n",
       "      <td>0.173736</td>\n",
       "    </tr>\n",
       "    <tr>\n",
       "      <th>std</th>\n",
       "      <td>88.858107</td>\n",
       "      <td>1.098587</td>\n",
       "    </tr>\n",
       "    <tr>\n",
       "      <th>min</th>\n",
       "      <td>3.000000</td>\n",
       "      <td>-5.962087</td>\n",
       "    </tr>\n",
       "    <tr>\n",
       "      <th>25%</th>\n",
       "      <td>76.250000</td>\n",
       "      <td>-0.369456</td>\n",
       "    </tr>\n",
       "    <tr>\n",
       "      <th>50%</th>\n",
       "      <td>147.500000</td>\n",
       "      <td>0.190744</td>\n",
       "    </tr>\n",
       "    <tr>\n",
       "      <th>75%</th>\n",
       "      <td>224.750000</td>\n",
       "      <td>0.720967</td>\n",
       "    </tr>\n",
       "    <tr>\n",
       "      <th>max</th>\n",
       "      <td>309.000000</td>\n",
       "      <td>3.599407</td>\n",
       "    </tr>\n",
       "  </tbody>\n",
       "</table>\n",
       "</div>"
      ],
      "text/plain": [
       "       Unnamed: 0  Inflation_SS\n",
       "count   94.000000     94.000000\n",
       "mean   150.372340      0.173736\n",
       "std     88.858107      1.098587\n",
       "min      3.000000     -5.962087\n",
       "25%     76.250000     -0.369456\n",
       "50%    147.500000      0.190744\n",
       "75%    224.750000      0.720967\n",
       "max    309.000000      3.599407"
      ]
     },
     "execution_count": 19,
     "metadata": {},
     "output_type": "execute_result"
    }
   ],
   "source": [
    "y_test_SS_y_uns.describe()"
   ]
  },
  {
   "cell_type": "code",
   "execution_count": 20,
   "metadata": {},
   "outputs": [],
   "source": [
    "y_test_SS_y_uns = y_test_SS_y_uns.drop(['Unnamed: 0'], axis=1)"
   ]
  },
  {
   "cell_type": "markdown",
   "metadata": {},
   "source": [
    "`Mean` should be 0 `Std` should be 1"
   ]
  },
  {
   "cell_type": "code",
   "execution_count": 21,
   "metadata": {},
   "outputs": [
    {
     "data": {
      "text/html": [
       "<div>\n",
       "<style scoped>\n",
       "    .dataframe tbody tr th:only-of-type {\n",
       "        vertical-align: middle;\n",
       "    }\n",
       "\n",
       "    .dataframe tbody tr th {\n",
       "        vertical-align: top;\n",
       "    }\n",
       "\n",
       "    .dataframe thead th {\n",
       "        text-align: right;\n",
       "    }\n",
       "</style>\n",
       "<table border=\"1\" class=\"dataframe\">\n",
       "  <thead>\n",
       "    <tr style=\"text-align: right;\">\n",
       "      <th></th>\n",
       "      <th>Unnamed: 0</th>\n",
       "      <th>Wages CPI_LG</th>\n",
       "      <th>WTI_LG</th>\n",
       "      <th>Copper_LG</th>\n",
       "      <th>Soybeans_LG</th>\n",
       "      <th>Natural Gas_LG</th>\n",
       "      <th>Heating Oil_LG</th>\n",
       "      <th>Corn_LG</th>\n",
       "      <th>Wheat_LG</th>\n",
       "      <th>Cattle_LG</th>\n",
       "      <th>Lean Hogs_LG</th>\n",
       "      <th>Sugar_LG</th>\n",
       "      <th>Lumber_LG</th>\n",
       "      <th>Capacity Utilization_LG</th>\n",
       "      <th>GDP_LG</th>\n",
       "      <th>M2 Velocity_LG</th>\n",
       "      <th>PMI_LG</th>\n",
       "      <th>USD Index_LG</th>\n",
       "      <th>Initial Jobless Claims_LG</th>\n",
       "      <th>Unemployment Rate_LG</th>\n",
       "    </tr>\n",
       "  </thead>\n",
       "  <tbody>\n",
       "    <tr>\n",
       "      <th>count</th>\n",
       "      <td>218.000000</td>\n",
       "      <td>2.180000e+02</td>\n",
       "      <td>2.180000e+02</td>\n",
       "      <td>2.180000e+02</td>\n",
       "      <td>2.180000e+02</td>\n",
       "      <td>2.180000e+02</td>\n",
       "      <td>2.180000e+02</td>\n",
       "      <td>2.180000e+02</td>\n",
       "      <td>2.180000e+02</td>\n",
       "      <td>2.180000e+02</td>\n",
       "      <td>2.180000e+02</td>\n",
       "      <td>2.180000e+02</td>\n",
       "      <td>2.180000e+02</td>\n",
       "      <td>2.180000e+02</td>\n",
       "      <td>2.180000e+02</td>\n",
       "      <td>2.180000e+02</td>\n",
       "      <td>2.180000e+02</td>\n",
       "      <td>218.000000</td>\n",
       "      <td>2.180000e+02</td>\n",
       "      <td>2.180000e+02</td>\n",
       "    </tr>\n",
       "    <tr>\n",
       "      <th>mean</th>\n",
       "      <td>157.711009</td>\n",
       "      <td>-2.263735e-16</td>\n",
       "      <td>-2.648238e-17</td>\n",
       "      <td>3.768647e-17</td>\n",
       "      <td>1.833396e-17</td>\n",
       "      <td>3.463081e-17</td>\n",
       "      <td>2.673702e-18</td>\n",
       "      <td>8.810485e-17</td>\n",
       "      <td>-3.564936e-18</td>\n",
       "      <td>5.016375e-17</td>\n",
       "      <td>-2.266281e-17</td>\n",
       "      <td>-1.425975e-17</td>\n",
       "      <td>-4.066255e-18</td>\n",
       "      <td>-4.456170e-18</td>\n",
       "      <td>-2.416518e-16</td>\n",
       "      <td>2.406332e-17</td>\n",
       "      <td>-1.947983e-17</td>\n",
       "      <td>-0.012799</td>\n",
       "      <td>3.412153e-17</td>\n",
       "      <td>2.851949e-17</td>\n",
       "    </tr>\n",
       "    <tr>\n",
       "      <th>std</th>\n",
       "      <td>90.901141</td>\n",
       "      <td>1.002301e+00</td>\n",
       "      <td>1.002301e+00</td>\n",
       "      <td>1.002301e+00</td>\n",
       "      <td>1.002301e+00</td>\n",
       "      <td>1.002301e+00</td>\n",
       "      <td>1.002301e+00</td>\n",
       "      <td>1.002301e+00</td>\n",
       "      <td>1.002301e+00</td>\n",
       "      <td>1.002301e+00</td>\n",
       "      <td>1.002301e+00</td>\n",
       "      <td>1.002301e+00</td>\n",
       "      <td>1.002301e+00</td>\n",
       "      <td>1.002301e+00</td>\n",
       "      <td>1.002301e+00</td>\n",
       "      <td>1.002301e+00</td>\n",
       "      <td>1.002301e+00</td>\n",
       "      <td>0.012007</td>\n",
       "      <td>1.002301e+00</td>\n",
       "      <td>1.002301e+00</td>\n",
       "    </tr>\n",
       "    <tr>\n",
       "      <th>min</th>\n",
       "      <td>0.000000</td>\n",
       "      <td>-4.203779e+00</td>\n",
       "      <td>-3.308051e+00</td>\n",
       "      <td>-4.790893e+00</td>\n",
       "      <td>-3.256541e+00</td>\n",
       "      <td>-2.351455e+00</td>\n",
       "      <td>-2.941212e+00</td>\n",
       "      <td>-2.924180e+00</td>\n",
       "      <td>-2.556952e+00</td>\n",
       "      <td>-2.633208e+00</td>\n",
       "      <td>-2.438256e+00</td>\n",
       "      <td>-3.468529e+00</td>\n",
       "      <td>-3.038505e+00</td>\n",
       "      <td>-4.520455e+00</td>\n",
       "      <td>-3.102066e+00</td>\n",
       "      <td>-3.155028e+00</td>\n",
       "      <td>-3.893245e+00</td>\n",
       "      <td>-0.037961</td>\n",
       "      <td>-1.037009e+01</td>\n",
       "      <td>-9.181910e+00</td>\n",
       "    </tr>\n",
       "    <tr>\n",
       "      <th>25%</th>\n",
       "      <td>81.500000</td>\n",
       "      <td>-3.922100e-01</td>\n",
       "      <td>-6.014282e-01</td>\n",
       "      <td>-5.750684e-01</td>\n",
       "      <td>-5.083560e-01</td>\n",
       "      <td>-6.365610e-01</td>\n",
       "      <td>-5.845875e-01</td>\n",
       "      <td>-6.062502e-01</td>\n",
       "      <td>-6.420350e-01</td>\n",
       "      <td>-6.802635e-01</td>\n",
       "      <td>-6.221477e-01</td>\n",
       "      <td>-6.725542e-01</td>\n",
       "      <td>-6.727191e-01</td>\n",
       "      <td>-3.616021e-01</td>\n",
       "      <td>-5.612664e-01</td>\n",
       "      <td>-4.877854e-01</td>\n",
       "      <td>-5.535478e-01</td>\n",
       "      <td>-0.022312</td>\n",
       "      <td>-5.411911e-02</td>\n",
       "      <td>-2.153957e-01</td>\n",
       "    </tr>\n",
       "    <tr>\n",
       "      <th>50%</th>\n",
       "      <td>157.000000</td>\n",
       "      <td>2.665979e-02</td>\n",
       "      <td>-8.488108e-02</td>\n",
       "      <td>-6.524111e-02</td>\n",
       "      <td>-5.906084e-02</td>\n",
       "      <td>-6.468975e-02</td>\n",
       "      <td>-9.381907e-02</td>\n",
       "      <td>-1.671215e-02</td>\n",
       "      <td>6.137467e-02</td>\n",
       "      <td>2.357134e-02</td>\n",
       "      <td>-4.833773e-02</td>\n",
       "      <td>-1.004732e-01</td>\n",
       "      <td>3.617663e-02</td>\n",
       "      <td>6.764572e-02</td>\n",
       "      <td>-5.308771e-02</td>\n",
       "      <td>-1.275063e-01</td>\n",
       "      <td>5.063059e-02</td>\n",
       "      <td>-0.012357</td>\n",
       "      <td>5.152233e-02</td>\n",
       "      <td>-5.318401e-02</td>\n",
       "    </tr>\n",
       "    <tr>\n",
       "      <th>75%</th>\n",
       "      <td>235.750000</td>\n",
       "      <td>3.947888e-01</td>\n",
       "      <td>6.501558e-01</td>\n",
       "      <td>5.626163e-01</td>\n",
       "      <td>5.299037e-01</td>\n",
       "      <td>6.392270e-01</td>\n",
       "      <td>6.113677e-01</td>\n",
       "      <td>5.536605e-01</td>\n",
       "      <td>6.883328e-01</td>\n",
       "      <td>7.166612e-01</td>\n",
       "      <td>7.255195e-01</td>\n",
       "      <td>6.539755e-01</td>\n",
       "      <td>6.712153e-01</td>\n",
       "      <td>4.176488e-01</td>\n",
       "      <td>5.796108e-01</td>\n",
       "      <td>5.338289e-01</td>\n",
       "      <td>5.976906e-01</td>\n",
       "      <td>-0.005258</td>\n",
       "      <td>1.047383e-01</td>\n",
       "      <td>1.530685e-01</td>\n",
       "    </tr>\n",
       "    <tr>\n",
       "      <th>max</th>\n",
       "      <td>311.000000</td>\n",
       "      <td>4.675375e+00</td>\n",
       "      <td>3.071756e+00</td>\n",
       "      <td>3.530729e+00</td>\n",
       "      <td>2.828528e+00</td>\n",
       "      <td>2.453249e+00</td>\n",
       "      <td>2.727610e+00</td>\n",
       "      <td>2.942093e+00</td>\n",
       "      <td>2.934426e+00</td>\n",
       "      <td>2.718479e+00</td>\n",
       "      <td>2.680506e+00</td>\n",
       "      <td>2.825044e+00</td>\n",
       "      <td>3.940244e+00</td>\n",
       "      <td>6.673082e+00</td>\n",
       "      <td>3.243365e+00</td>\n",
       "      <td>2.464245e+00</td>\n",
       "      <td>3.163166e+00</td>\n",
       "      <td>0.019044</td>\n",
       "      <td>7.995727e+00</td>\n",
       "      <td>7.548036e+00</td>\n",
       "    </tr>\n",
       "  </tbody>\n",
       "</table>\n",
       "</div>"
      ],
      "text/plain": [
       "       Unnamed: 0  Wages CPI_LG        WTI_LG     Copper_LG   Soybeans_LG  \\\n",
       "count  218.000000  2.180000e+02  2.180000e+02  2.180000e+02  2.180000e+02   \n",
       "mean   157.711009 -2.263735e-16 -2.648238e-17  3.768647e-17  1.833396e-17   \n",
       "std     90.901141  1.002301e+00  1.002301e+00  1.002301e+00  1.002301e+00   \n",
       "min      0.000000 -4.203779e+00 -3.308051e+00 -4.790893e+00 -3.256541e+00   \n",
       "25%     81.500000 -3.922100e-01 -6.014282e-01 -5.750684e-01 -5.083560e-01   \n",
       "50%    157.000000  2.665979e-02 -8.488108e-02 -6.524111e-02 -5.906084e-02   \n",
       "75%    235.750000  3.947888e-01  6.501558e-01  5.626163e-01  5.299037e-01   \n",
       "max    311.000000  4.675375e+00  3.071756e+00  3.530729e+00  2.828528e+00   \n",
       "\n",
       "       Natural Gas_LG  Heating Oil_LG       Corn_LG      Wheat_LG  \\\n",
       "count    2.180000e+02    2.180000e+02  2.180000e+02  2.180000e+02   \n",
       "mean     3.463081e-17    2.673702e-18  8.810485e-17 -3.564936e-18   \n",
       "std      1.002301e+00    1.002301e+00  1.002301e+00  1.002301e+00   \n",
       "min     -2.351455e+00   -2.941212e+00 -2.924180e+00 -2.556952e+00   \n",
       "25%     -6.365610e-01   -5.845875e-01 -6.062502e-01 -6.420350e-01   \n",
       "50%     -6.468975e-02   -9.381907e-02 -1.671215e-02  6.137467e-02   \n",
       "75%      6.392270e-01    6.113677e-01  5.536605e-01  6.883328e-01   \n",
       "max      2.453249e+00    2.727610e+00  2.942093e+00  2.934426e+00   \n",
       "\n",
       "          Cattle_LG  Lean Hogs_LG      Sugar_LG     Lumber_LG  \\\n",
       "count  2.180000e+02  2.180000e+02  2.180000e+02  2.180000e+02   \n",
       "mean   5.016375e-17 -2.266281e-17 -1.425975e-17 -4.066255e-18   \n",
       "std    1.002301e+00  1.002301e+00  1.002301e+00  1.002301e+00   \n",
       "min   -2.633208e+00 -2.438256e+00 -3.468529e+00 -3.038505e+00   \n",
       "25%   -6.802635e-01 -6.221477e-01 -6.725542e-01 -6.727191e-01   \n",
       "50%    2.357134e-02 -4.833773e-02 -1.004732e-01  3.617663e-02   \n",
       "75%    7.166612e-01  7.255195e-01  6.539755e-01  6.712153e-01   \n",
       "max    2.718479e+00  2.680506e+00  2.825044e+00  3.940244e+00   \n",
       "\n",
       "       Capacity Utilization_LG        GDP_LG  M2 Velocity_LG        PMI_LG  \\\n",
       "count             2.180000e+02  2.180000e+02    2.180000e+02  2.180000e+02   \n",
       "mean             -4.456170e-18 -2.416518e-16    2.406332e-17 -1.947983e-17   \n",
       "std               1.002301e+00  1.002301e+00    1.002301e+00  1.002301e+00   \n",
       "min              -4.520455e+00 -3.102066e+00   -3.155028e+00 -3.893245e+00   \n",
       "25%              -3.616021e-01 -5.612664e-01   -4.877854e-01 -5.535478e-01   \n",
       "50%               6.764572e-02 -5.308771e-02   -1.275063e-01  5.063059e-02   \n",
       "75%               4.176488e-01  5.796108e-01    5.338289e-01  5.976906e-01   \n",
       "max               6.673082e+00  3.243365e+00    2.464245e+00  3.163166e+00   \n",
       "\n",
       "       USD Index_LG  Initial Jobless Claims_LG  Unemployment Rate_LG  \n",
       "count    218.000000               2.180000e+02          2.180000e+02  \n",
       "mean      -0.012799               3.412153e-17          2.851949e-17  \n",
       "std        0.012007               1.002301e+00          1.002301e+00  \n",
       "min       -0.037961              -1.037009e+01         -9.181910e+00  \n",
       "25%       -0.022312              -5.411911e-02         -2.153957e-01  \n",
       "50%       -0.012357               5.152233e-02         -5.318401e-02  \n",
       "75%       -0.005258               1.047383e-01          1.530685e-01  \n",
       "max        0.019044               7.995727e+00          7.548036e+00  "
      ]
     },
     "execution_count": 21,
     "metadata": {},
     "output_type": "execute_result"
    }
   ],
   "source": [
    "X_train_LG.describe()"
   ]
  },
  {
   "cell_type": "code",
   "execution_count": 22,
   "metadata": {},
   "outputs": [],
   "source": [
    "X_train_LG = X_train_LG.drop(['Unnamed: 0'], axis=1)"
   ]
  },
  {
   "cell_type": "code",
   "execution_count": 23,
   "metadata": {},
   "outputs": [
    {
     "data": {
      "text/html": [
       "<div>\n",
       "<style scoped>\n",
       "    .dataframe tbody tr th:only-of-type {\n",
       "        vertical-align: middle;\n",
       "    }\n",
       "\n",
       "    .dataframe tbody tr th {\n",
       "        vertical-align: top;\n",
       "    }\n",
       "\n",
       "    .dataframe thead th {\n",
       "        text-align: right;\n",
       "    }\n",
       "</style>\n",
       "<table border=\"1\" class=\"dataframe\">\n",
       "  <thead>\n",
       "    <tr style=\"text-align: right;\">\n",
       "      <th></th>\n",
       "      <th>Unnamed: 0</th>\n",
       "      <th>Inflation_LG</th>\n",
       "    </tr>\n",
       "  </thead>\n",
       "  <tbody>\n",
       "    <tr>\n",
       "      <th>count</th>\n",
       "      <td>218.000000</td>\n",
       "      <td>2.180000e+02</td>\n",
       "    </tr>\n",
       "    <tr>\n",
       "      <th>mean</th>\n",
       "      <td>157.711009</td>\n",
       "      <td>5.092766e-19</td>\n",
       "    </tr>\n",
       "    <tr>\n",
       "      <th>std</th>\n",
       "      <td>90.901141</td>\n",
       "      <td>1.002301e+00</td>\n",
       "    </tr>\n",
       "    <tr>\n",
       "      <th>min</th>\n",
       "      <td>0.000000</td>\n",
       "      <td>-4.657212e+00</td>\n",
       "    </tr>\n",
       "    <tr>\n",
       "      <th>25%</th>\n",
       "      <td>81.500000</td>\n",
       "      <td>-4.084960e-01</td>\n",
       "    </tr>\n",
       "    <tr>\n",
       "      <th>50%</th>\n",
       "      <td>157.000000</td>\n",
       "      <td>1.670749e-03</td>\n",
       "    </tr>\n",
       "    <tr>\n",
       "      <th>75%</th>\n",
       "      <td>235.750000</td>\n",
       "      <td>4.547053e-01</td>\n",
       "    </tr>\n",
       "    <tr>\n",
       "      <th>max</th>\n",
       "      <td>311.000000</td>\n",
       "      <td>4.837648e+00</td>\n",
       "    </tr>\n",
       "  </tbody>\n",
       "</table>\n",
       "</div>"
      ],
      "text/plain": [
       "       Unnamed: 0  Inflation_LG\n",
       "count  218.000000  2.180000e+02\n",
       "mean   157.711009  5.092766e-19\n",
       "std     90.901141  1.002301e+00\n",
       "min      0.000000 -4.657212e+00\n",
       "25%     81.500000 -4.084960e-01\n",
       "50%    157.000000  1.670749e-03\n",
       "75%    235.750000  4.547053e-01\n",
       "max    311.000000  4.837648e+00"
      ]
     },
     "execution_count": 23,
     "metadata": {},
     "output_type": "execute_result"
    }
   ],
   "source": [
    "y_train_LG.describe()"
   ]
  },
  {
   "cell_type": "code",
   "execution_count": 24,
   "metadata": {},
   "outputs": [],
   "source": [
    "y_train_LG = y_train_LG.drop(['Unnamed: 0'], axis=1)"
   ]
  },
  {
   "cell_type": "code",
   "execution_count": 25,
   "metadata": {},
   "outputs": [
    {
     "data": {
      "text/html": [
       "<div>\n",
       "<style scoped>\n",
       "    .dataframe tbody tr th:only-of-type {\n",
       "        vertical-align: middle;\n",
       "    }\n",
       "\n",
       "    .dataframe tbody tr th {\n",
       "        vertical-align: top;\n",
       "    }\n",
       "\n",
       "    .dataframe thead th {\n",
       "        text-align: right;\n",
       "    }\n",
       "</style>\n",
       "<table border=\"1\" class=\"dataframe\">\n",
       "  <thead>\n",
       "    <tr style=\"text-align: right;\">\n",
       "      <th></th>\n",
       "      <th>Unnamed: 0</th>\n",
       "      <th>Wages CPI_LG</th>\n",
       "      <th>WTI_LG</th>\n",
       "      <th>Copper_LG</th>\n",
       "      <th>Soybeans_LG</th>\n",
       "      <th>Natural Gas_LG</th>\n",
       "      <th>Heating Oil_LG</th>\n",
       "      <th>Corn_LG</th>\n",
       "      <th>Wheat_LG</th>\n",
       "      <th>Cattle_LG</th>\n",
       "      <th>Lean Hogs_LG</th>\n",
       "      <th>Sugar_LG</th>\n",
       "      <th>Lumber_LG</th>\n",
       "      <th>Capacity Utilization_LG</th>\n",
       "      <th>GDP_LG</th>\n",
       "      <th>M2 Velocity_LG</th>\n",
       "      <th>PMI_LG</th>\n",
       "      <th>USD Index_LG</th>\n",
       "      <th>Initial Jobless Claims_LG</th>\n",
       "      <th>Unemployment Rate_LG</th>\n",
       "    </tr>\n",
       "  </thead>\n",
       "  <tbody>\n",
       "    <tr>\n",
       "      <th>count</th>\n",
       "      <td>94.000000</td>\n",
       "      <td>94.000000</td>\n",
       "      <td>94.000000</td>\n",
       "      <td>94.000000</td>\n",
       "      <td>94.000000</td>\n",
       "      <td>94.000000</td>\n",
       "      <td>94.000000</td>\n",
       "      <td>94.000000</td>\n",
       "      <td>94.000000</td>\n",
       "      <td>94.000000</td>\n",
       "      <td>94.000000</td>\n",
       "      <td>94.000000</td>\n",
       "      <td>94.000000</td>\n",
       "      <td>94.000000</td>\n",
       "      <td>94.000000</td>\n",
       "      <td>94.000000</td>\n",
       "      <td>94.000000</td>\n",
       "      <td>94.000000</td>\n",
       "      <td>94.000000</td>\n",
       "      <td>94.000000</td>\n",
       "    </tr>\n",
       "    <tr>\n",
       "      <th>mean</th>\n",
       "      <td>150.372340</td>\n",
       "      <td>-0.047693</td>\n",
       "      <td>-0.037448</td>\n",
       "      <td>-0.153213</td>\n",
       "      <td>0.159483</td>\n",
       "      <td>0.002810</td>\n",
       "      <td>-0.159143</td>\n",
       "      <td>0.264644</td>\n",
       "      <td>0.138916</td>\n",
       "      <td>-0.017094</td>\n",
       "      <td>0.151326</td>\n",
       "      <td>0.065967</td>\n",
       "      <td>0.042307</td>\n",
       "      <td>0.176193</td>\n",
       "      <td>5.586587</td>\n",
       "      <td>0.120131</td>\n",
       "      <td>-0.186320</td>\n",
       "      <td>-0.012710</td>\n",
       "      <td>-0.909727</td>\n",
       "      <td>-0.150826</td>\n",
       "    </tr>\n",
       "    <tr>\n",
       "      <th>std</th>\n",
       "      <td>88.858107</td>\n",
       "      <td>0.936789</td>\n",
       "      <td>1.128672</td>\n",
       "      <td>1.012834</td>\n",
       "      <td>1.141851</td>\n",
       "      <td>0.997253</td>\n",
       "      <td>0.929729</td>\n",
       "      <td>1.064146</td>\n",
       "      <td>1.049302</td>\n",
       "      <td>1.028891</td>\n",
       "      <td>1.100073</td>\n",
       "      <td>0.895027</td>\n",
       "      <td>1.322624</td>\n",
       "      <td>1.686065</td>\n",
       "      <td>31.889558</td>\n",
       "      <td>1.803137</td>\n",
       "      <td>1.077949</td>\n",
       "      <td>0.012223</td>\n",
       "      <td>5.822624</td>\n",
       "      <td>1.526160</td>\n",
       "    </tr>\n",
       "    <tr>\n",
       "      <th>min</th>\n",
       "      <td>3.000000</td>\n",
       "      <td>-3.920954</td>\n",
       "      <td>-3.287139</td>\n",
       "      <td>-4.904334</td>\n",
       "      <td>-3.550108</td>\n",
       "      <td>-2.528186</td>\n",
       "      <td>-3.013564</td>\n",
       "      <td>-3.268768</td>\n",
       "      <td>-4.099501</td>\n",
       "      <td>-2.896506</td>\n",
       "      <td>-2.016261</td>\n",
       "      <td>-2.322866</td>\n",
       "      <td>-2.804925</td>\n",
       "      <td>-4.434456</td>\n",
       "      <td>-3.102066</td>\n",
       "      <td>-3.155028</td>\n",
       "      <td>-4.946035</td>\n",
       "      <td>-0.038387</td>\n",
       "      <td>-45.855891</td>\n",
       "      <td>-10.531449</td>\n",
       "    </tr>\n",
       "    <tr>\n",
       "      <th>25%</th>\n",
       "      <td>76.250000</td>\n",
       "      <td>-0.512638</td>\n",
       "      <td>-0.566183</td>\n",
       "      <td>-0.680598</td>\n",
       "      <td>-0.536740</td>\n",
       "      <td>-0.535525</td>\n",
       "      <td>-0.619124</td>\n",
       "      <td>-0.287157</td>\n",
       "      <td>-0.507488</td>\n",
       "      <td>-0.787777</td>\n",
       "      <td>-0.706116</td>\n",
       "      <td>-0.453744</td>\n",
       "      <td>-0.770490</td>\n",
       "      <td>-0.297658</td>\n",
       "      <td>-0.696151</td>\n",
       "      <td>-0.730212</td>\n",
       "      <td>-0.873789</td>\n",
       "      <td>-0.020109</td>\n",
       "      <td>-0.059427</td>\n",
       "      <td>-0.270843</td>\n",
       "    </tr>\n",
       "    <tr>\n",
       "      <th>50%</th>\n",
       "      <td>147.500000</td>\n",
       "      <td>0.089276</td>\n",
       "      <td>0.038451</td>\n",
       "      <td>-0.270453</td>\n",
       "      <td>0.025206</td>\n",
       "      <td>0.017914</td>\n",
       "      <td>-0.086442</td>\n",
       "      <td>0.200127</td>\n",
       "      <td>0.068382</td>\n",
       "      <td>0.022997</td>\n",
       "      <td>0.032323</td>\n",
       "      <td>-0.013983</td>\n",
       "      <td>-0.106885</td>\n",
       "      <td>0.092531</td>\n",
       "      <td>-0.168892</td>\n",
       "      <td>-0.219277</td>\n",
       "      <td>-0.265238</td>\n",
       "      <td>-0.013504</td>\n",
       "      <td>0.026916</td>\n",
       "      <td>-0.106555</td>\n",
       "    </tr>\n",
       "    <tr>\n",
       "      <th>75%</th>\n",
       "      <td>224.750000</td>\n",
       "      <td>0.424234</td>\n",
       "      <td>0.487573</td>\n",
       "      <td>0.441645</td>\n",
       "      <td>0.795398</td>\n",
       "      <td>0.752372</td>\n",
       "      <td>0.472593</td>\n",
       "      <td>0.864834</td>\n",
       "      <td>0.762557</td>\n",
       "      <td>0.801550</td>\n",
       "      <td>0.895996</td>\n",
       "      <td>0.635791</td>\n",
       "      <td>0.772985</td>\n",
       "      <td>0.399815</td>\n",
       "      <td>0.294391</td>\n",
       "      <td>0.604431</td>\n",
       "      <td>0.397687</td>\n",
       "      <td>-0.005721</td>\n",
       "      <td>0.098485</td>\n",
       "      <td>0.102587</td>\n",
       "    </tr>\n",
       "    <tr>\n",
       "      <th>max</th>\n",
       "      <td>309.000000</td>\n",
       "      <td>2.326684</td>\n",
       "      <td>4.558602</td>\n",
       "      <td>2.577670</td>\n",
       "      <td>3.007478</td>\n",
       "      <td>2.178059</td>\n",
       "      <td>1.883646</td>\n",
       "      <td>3.477895</td>\n",
       "      <td>2.937958</td>\n",
       "      <td>1.979732</td>\n",
       "      <td>2.693881</td>\n",
       "      <td>2.469022</td>\n",
       "      <td>4.689258</td>\n",
       "      <td>12.738059</td>\n",
       "      <td>180.209518</td>\n",
       "      <td>8.746628</td>\n",
       "      <td>2.793352</td>\n",
       "      <td>0.028239</td>\n",
       "      <td>10.843220</td>\n",
       "      <td>6.385635</td>\n",
       "    </tr>\n",
       "  </tbody>\n",
       "</table>\n",
       "</div>"
      ],
      "text/plain": [
       "       Unnamed: 0  Wages CPI_LG     WTI_LG  Copper_LG  Soybeans_LG  \\\n",
       "count   94.000000     94.000000  94.000000  94.000000    94.000000   \n",
       "mean   150.372340     -0.047693  -0.037448  -0.153213     0.159483   \n",
       "std     88.858107      0.936789   1.128672   1.012834     1.141851   \n",
       "min      3.000000     -3.920954  -3.287139  -4.904334    -3.550108   \n",
       "25%     76.250000     -0.512638  -0.566183  -0.680598    -0.536740   \n",
       "50%    147.500000      0.089276   0.038451  -0.270453     0.025206   \n",
       "75%    224.750000      0.424234   0.487573   0.441645     0.795398   \n",
       "max    309.000000      2.326684   4.558602   2.577670     3.007478   \n",
       "\n",
       "       Natural Gas_LG  Heating Oil_LG    Corn_LG   Wheat_LG  Cattle_LG  \\\n",
       "count       94.000000       94.000000  94.000000  94.000000  94.000000   \n",
       "mean         0.002810       -0.159143   0.264644   0.138916  -0.017094   \n",
       "std          0.997253        0.929729   1.064146   1.049302   1.028891   \n",
       "min         -2.528186       -3.013564  -3.268768  -4.099501  -2.896506   \n",
       "25%         -0.535525       -0.619124  -0.287157  -0.507488  -0.787777   \n",
       "50%          0.017914       -0.086442   0.200127   0.068382   0.022997   \n",
       "75%          0.752372        0.472593   0.864834   0.762557   0.801550   \n",
       "max          2.178059        1.883646   3.477895   2.937958   1.979732   \n",
       "\n",
       "       Lean Hogs_LG   Sugar_LG  Lumber_LG  Capacity Utilization_LG  \\\n",
       "count     94.000000  94.000000  94.000000                94.000000   \n",
       "mean       0.151326   0.065967   0.042307                 0.176193   \n",
       "std        1.100073   0.895027   1.322624                 1.686065   \n",
       "min       -2.016261  -2.322866  -2.804925                -4.434456   \n",
       "25%       -0.706116  -0.453744  -0.770490                -0.297658   \n",
       "50%        0.032323  -0.013983  -0.106885                 0.092531   \n",
       "75%        0.895996   0.635791   0.772985                 0.399815   \n",
       "max        2.693881   2.469022   4.689258                12.738059   \n",
       "\n",
       "           GDP_LG  M2 Velocity_LG     PMI_LG  USD Index_LG  \\\n",
       "count   94.000000       94.000000  94.000000     94.000000   \n",
       "mean     5.586587        0.120131  -0.186320     -0.012710   \n",
       "std     31.889558        1.803137   1.077949      0.012223   \n",
       "min     -3.102066       -3.155028  -4.946035     -0.038387   \n",
       "25%     -0.696151       -0.730212  -0.873789     -0.020109   \n",
       "50%     -0.168892       -0.219277  -0.265238     -0.013504   \n",
       "75%      0.294391        0.604431   0.397687     -0.005721   \n",
       "max    180.209518        8.746628   2.793352      0.028239   \n",
       "\n",
       "       Initial Jobless Claims_LG  Unemployment Rate_LG  \n",
       "count                  94.000000             94.000000  \n",
       "mean                   -0.909727             -0.150826  \n",
       "std                     5.822624              1.526160  \n",
       "min                   -45.855891            -10.531449  \n",
       "25%                    -0.059427             -0.270843  \n",
       "50%                     0.026916             -0.106555  \n",
       "75%                     0.098485              0.102587  \n",
       "max                    10.843220              6.385635  "
      ]
     },
     "execution_count": 25,
     "metadata": {},
     "output_type": "execute_result"
    }
   ],
   "source": [
    "X_test_LG.describe()"
   ]
  },
  {
   "cell_type": "code",
   "execution_count": 26,
   "metadata": {},
   "outputs": [],
   "source": [
    "X_test_LG = X_test_LG.drop(['Unnamed: 0'], axis=1)"
   ]
  },
  {
   "cell_type": "code",
   "execution_count": 27,
   "metadata": {},
   "outputs": [
    {
     "data": {
      "text/html": [
       "<div>\n",
       "<style scoped>\n",
       "    .dataframe tbody tr th:only-of-type {\n",
       "        vertical-align: middle;\n",
       "    }\n",
       "\n",
       "    .dataframe tbody tr th {\n",
       "        vertical-align: top;\n",
       "    }\n",
       "\n",
       "    .dataframe thead th {\n",
       "        text-align: right;\n",
       "    }\n",
       "</style>\n",
       "<table border=\"1\" class=\"dataframe\">\n",
       "  <thead>\n",
       "    <tr style=\"text-align: right;\">\n",
       "      <th></th>\n",
       "      <th>Unnamed: 0</th>\n",
       "      <th>Inflation_LG</th>\n",
       "    </tr>\n",
       "  </thead>\n",
       "  <tbody>\n",
       "    <tr>\n",
       "      <th>count</th>\n",
       "      <td>94.000000</td>\n",
       "      <td>94.000000</td>\n",
       "    </tr>\n",
       "    <tr>\n",
       "      <th>mean</th>\n",
       "      <td>150.372340</td>\n",
       "      <td>0.171549</td>\n",
       "    </tr>\n",
       "    <tr>\n",
       "      <th>std</th>\n",
       "      <td>88.858107</td>\n",
       "      <td>1.113639</td>\n",
       "    </tr>\n",
       "    <tr>\n",
       "      <th>min</th>\n",
       "      <td>3.000000</td>\n",
       "      <td>-6.322960</td>\n",
       "    </tr>\n",
       "    <tr>\n",
       "      <th>25%</th>\n",
       "      <td>76.250000</td>\n",
       "      <td>-0.358347</td>\n",
       "    </tr>\n",
       "    <tr>\n",
       "      <th>50%</th>\n",
       "      <td>147.500000</td>\n",
       "      <td>0.204995</td>\n",
       "    </tr>\n",
       "    <tr>\n",
       "      <th>75%</th>\n",
       "      <td>224.750000</td>\n",
       "      <td>0.727292</td>\n",
       "    </tr>\n",
       "    <tr>\n",
       "      <th>max</th>\n",
       "      <td>309.000000</td>\n",
       "      <td>3.458603</td>\n",
       "    </tr>\n",
       "  </tbody>\n",
       "</table>\n",
       "</div>"
      ],
      "text/plain": [
       "       Unnamed: 0  Inflation_LG\n",
       "count   94.000000     94.000000\n",
       "mean   150.372340      0.171549\n",
       "std     88.858107      1.113639\n",
       "min      3.000000     -6.322960\n",
       "25%     76.250000     -0.358347\n",
       "50%    147.500000      0.204995\n",
       "75%    224.750000      0.727292\n",
       "max    309.000000      3.458603"
      ]
     },
     "execution_count": 27,
     "metadata": {},
     "output_type": "execute_result"
    }
   ],
   "source": [
    "y_test_LG.describe()"
   ]
  },
  {
   "cell_type": "code",
   "execution_count": 28,
   "metadata": {},
   "outputs": [],
   "source": [
    "y_test_LG = y_test_LG.drop(['Unnamed: 0'], axis=1)"
   ]
  },
  {
   "cell_type": "markdown",
   "metadata": {},
   "source": [
    "`Mean` should be 0 `Std` should be 1 for `X` but not `y`"
   ]
  },
  {
   "cell_type": "code",
   "execution_count": 29,
   "metadata": {},
   "outputs": [
    {
     "data": {
      "text/html": [
       "<div>\n",
       "<style scoped>\n",
       "    .dataframe tbody tr th:only-of-type {\n",
       "        vertical-align: middle;\n",
       "    }\n",
       "\n",
       "    .dataframe tbody tr th {\n",
       "        vertical-align: top;\n",
       "    }\n",
       "\n",
       "    .dataframe thead th {\n",
       "        text-align: right;\n",
       "    }\n",
       "</style>\n",
       "<table border=\"1\" class=\"dataframe\">\n",
       "  <thead>\n",
       "    <tr style=\"text-align: right;\">\n",
       "      <th></th>\n",
       "      <th>Unnamed: 0</th>\n",
       "      <th>Wages CPI_LG</th>\n",
       "      <th>WTI_LG</th>\n",
       "      <th>Copper_LG</th>\n",
       "      <th>Soybeans_LG</th>\n",
       "      <th>Natural Gas_LG</th>\n",
       "      <th>Heating Oil_LG</th>\n",
       "      <th>Corn_LG</th>\n",
       "      <th>Wheat_LG</th>\n",
       "      <th>Cattle_LG</th>\n",
       "      <th>Lean Hogs_LG</th>\n",
       "      <th>Sugar_LG</th>\n",
       "      <th>Lumber_LG</th>\n",
       "      <th>Capacity Utilization_LG</th>\n",
       "      <th>GDP_LG</th>\n",
       "      <th>M2 Velocity_LG</th>\n",
       "      <th>PMI_LG</th>\n",
       "      <th>USD Index_LG</th>\n",
       "      <th>Initial Jobless Claims_LG</th>\n",
       "      <th>Unemployment Rate_LG</th>\n",
       "    </tr>\n",
       "  </thead>\n",
       "  <tbody>\n",
       "    <tr>\n",
       "      <th>count</th>\n",
       "      <td>218.000000</td>\n",
       "      <td>2.180000e+02</td>\n",
       "      <td>2.180000e+02</td>\n",
       "      <td>2.180000e+02</td>\n",
       "      <td>2.180000e+02</td>\n",
       "      <td>2.180000e+02</td>\n",
       "      <td>2.180000e+02</td>\n",
       "      <td>2.180000e+02</td>\n",
       "      <td>2.180000e+02</td>\n",
       "      <td>2.180000e+02</td>\n",
       "      <td>2.180000e+02</td>\n",
       "      <td>2.180000e+02</td>\n",
       "      <td>2.180000e+02</td>\n",
       "      <td>2.180000e+02</td>\n",
       "      <td>2.180000e+02</td>\n",
       "      <td>2.180000e+02</td>\n",
       "      <td>2.180000e+02</td>\n",
       "      <td>218.000000</td>\n",
       "      <td>2.180000e+02</td>\n",
       "      <td>2.180000e+02</td>\n",
       "    </tr>\n",
       "    <tr>\n",
       "      <th>mean</th>\n",
       "      <td>157.711009</td>\n",
       "      <td>-2.263735e-16</td>\n",
       "      <td>-2.648238e-17</td>\n",
       "      <td>3.768647e-17</td>\n",
       "      <td>1.833396e-17</td>\n",
       "      <td>3.463081e-17</td>\n",
       "      <td>2.673702e-18</td>\n",
       "      <td>8.810485e-17</td>\n",
       "      <td>-3.564936e-18</td>\n",
       "      <td>5.016375e-17</td>\n",
       "      <td>-2.266281e-17</td>\n",
       "      <td>-1.425975e-17</td>\n",
       "      <td>-4.066255e-18</td>\n",
       "      <td>-4.456170e-18</td>\n",
       "      <td>-2.416518e-16</td>\n",
       "      <td>2.406332e-17</td>\n",
       "      <td>-1.947983e-17</td>\n",
       "      <td>-0.012799</td>\n",
       "      <td>3.412153e-17</td>\n",
       "      <td>2.851949e-17</td>\n",
       "    </tr>\n",
       "    <tr>\n",
       "      <th>std</th>\n",
       "      <td>90.901141</td>\n",
       "      <td>1.002301e+00</td>\n",
       "      <td>1.002301e+00</td>\n",
       "      <td>1.002301e+00</td>\n",
       "      <td>1.002301e+00</td>\n",
       "      <td>1.002301e+00</td>\n",
       "      <td>1.002301e+00</td>\n",
       "      <td>1.002301e+00</td>\n",
       "      <td>1.002301e+00</td>\n",
       "      <td>1.002301e+00</td>\n",
       "      <td>1.002301e+00</td>\n",
       "      <td>1.002301e+00</td>\n",
       "      <td>1.002301e+00</td>\n",
       "      <td>1.002301e+00</td>\n",
       "      <td>1.002301e+00</td>\n",
       "      <td>1.002301e+00</td>\n",
       "      <td>1.002301e+00</td>\n",
       "      <td>0.012007</td>\n",
       "      <td>1.002301e+00</td>\n",
       "      <td>1.002301e+00</td>\n",
       "    </tr>\n",
       "    <tr>\n",
       "      <th>min</th>\n",
       "      <td>0.000000</td>\n",
       "      <td>-4.203779e+00</td>\n",
       "      <td>-3.308051e+00</td>\n",
       "      <td>-4.790893e+00</td>\n",
       "      <td>-3.256541e+00</td>\n",
       "      <td>-2.351455e+00</td>\n",
       "      <td>-2.941212e+00</td>\n",
       "      <td>-2.924180e+00</td>\n",
       "      <td>-2.556952e+00</td>\n",
       "      <td>-2.633208e+00</td>\n",
       "      <td>-2.438256e+00</td>\n",
       "      <td>-3.468529e+00</td>\n",
       "      <td>-3.038505e+00</td>\n",
       "      <td>-4.520455e+00</td>\n",
       "      <td>-3.102066e+00</td>\n",
       "      <td>-3.155028e+00</td>\n",
       "      <td>-3.893245e+00</td>\n",
       "      <td>-0.037961</td>\n",
       "      <td>-1.037009e+01</td>\n",
       "      <td>-9.181910e+00</td>\n",
       "    </tr>\n",
       "    <tr>\n",
       "      <th>25%</th>\n",
       "      <td>81.500000</td>\n",
       "      <td>-3.922100e-01</td>\n",
       "      <td>-6.014282e-01</td>\n",
       "      <td>-5.750684e-01</td>\n",
       "      <td>-5.083560e-01</td>\n",
       "      <td>-6.365610e-01</td>\n",
       "      <td>-5.845875e-01</td>\n",
       "      <td>-6.062502e-01</td>\n",
       "      <td>-6.420350e-01</td>\n",
       "      <td>-6.802635e-01</td>\n",
       "      <td>-6.221477e-01</td>\n",
       "      <td>-6.725542e-01</td>\n",
       "      <td>-6.727191e-01</td>\n",
       "      <td>-3.616021e-01</td>\n",
       "      <td>-5.612664e-01</td>\n",
       "      <td>-4.877854e-01</td>\n",
       "      <td>-5.535478e-01</td>\n",
       "      <td>-0.022312</td>\n",
       "      <td>-5.411911e-02</td>\n",
       "      <td>-2.153957e-01</td>\n",
       "    </tr>\n",
       "    <tr>\n",
       "      <th>50%</th>\n",
       "      <td>157.000000</td>\n",
       "      <td>2.665979e-02</td>\n",
       "      <td>-8.488108e-02</td>\n",
       "      <td>-6.524111e-02</td>\n",
       "      <td>-5.906084e-02</td>\n",
       "      <td>-6.468975e-02</td>\n",
       "      <td>-9.381907e-02</td>\n",
       "      <td>-1.671215e-02</td>\n",
       "      <td>6.137467e-02</td>\n",
       "      <td>2.357134e-02</td>\n",
       "      <td>-4.833773e-02</td>\n",
       "      <td>-1.004732e-01</td>\n",
       "      <td>3.617663e-02</td>\n",
       "      <td>6.764572e-02</td>\n",
       "      <td>-5.308771e-02</td>\n",
       "      <td>-1.275063e-01</td>\n",
       "      <td>5.063059e-02</td>\n",
       "      <td>-0.012357</td>\n",
       "      <td>5.152233e-02</td>\n",
       "      <td>-5.318401e-02</td>\n",
       "    </tr>\n",
       "    <tr>\n",
       "      <th>75%</th>\n",
       "      <td>235.750000</td>\n",
       "      <td>3.947888e-01</td>\n",
       "      <td>6.501558e-01</td>\n",
       "      <td>5.626163e-01</td>\n",
       "      <td>5.299037e-01</td>\n",
       "      <td>6.392270e-01</td>\n",
       "      <td>6.113677e-01</td>\n",
       "      <td>5.536605e-01</td>\n",
       "      <td>6.883328e-01</td>\n",
       "      <td>7.166612e-01</td>\n",
       "      <td>7.255195e-01</td>\n",
       "      <td>6.539755e-01</td>\n",
       "      <td>6.712153e-01</td>\n",
       "      <td>4.176488e-01</td>\n",
       "      <td>5.796108e-01</td>\n",
       "      <td>5.338289e-01</td>\n",
       "      <td>5.976906e-01</td>\n",
       "      <td>-0.005258</td>\n",
       "      <td>1.047383e-01</td>\n",
       "      <td>1.530685e-01</td>\n",
       "    </tr>\n",
       "    <tr>\n",
       "      <th>max</th>\n",
       "      <td>311.000000</td>\n",
       "      <td>4.675375e+00</td>\n",
       "      <td>3.071756e+00</td>\n",
       "      <td>3.530729e+00</td>\n",
       "      <td>2.828528e+00</td>\n",
       "      <td>2.453249e+00</td>\n",
       "      <td>2.727610e+00</td>\n",
       "      <td>2.942093e+00</td>\n",
       "      <td>2.934426e+00</td>\n",
       "      <td>2.718479e+00</td>\n",
       "      <td>2.680506e+00</td>\n",
       "      <td>2.825044e+00</td>\n",
       "      <td>3.940244e+00</td>\n",
       "      <td>6.673082e+00</td>\n",
       "      <td>3.243365e+00</td>\n",
       "      <td>2.464245e+00</td>\n",
       "      <td>3.163166e+00</td>\n",
       "      <td>0.019044</td>\n",
       "      <td>7.995727e+00</td>\n",
       "      <td>7.548036e+00</td>\n",
       "    </tr>\n",
       "  </tbody>\n",
       "</table>\n",
       "</div>"
      ],
      "text/plain": [
       "       Unnamed: 0  Wages CPI_LG        WTI_LG     Copper_LG   Soybeans_LG  \\\n",
       "count  218.000000  2.180000e+02  2.180000e+02  2.180000e+02  2.180000e+02   \n",
       "mean   157.711009 -2.263735e-16 -2.648238e-17  3.768647e-17  1.833396e-17   \n",
       "std     90.901141  1.002301e+00  1.002301e+00  1.002301e+00  1.002301e+00   \n",
       "min      0.000000 -4.203779e+00 -3.308051e+00 -4.790893e+00 -3.256541e+00   \n",
       "25%     81.500000 -3.922100e-01 -6.014282e-01 -5.750684e-01 -5.083560e-01   \n",
       "50%    157.000000  2.665979e-02 -8.488108e-02 -6.524111e-02 -5.906084e-02   \n",
       "75%    235.750000  3.947888e-01  6.501558e-01  5.626163e-01  5.299037e-01   \n",
       "max    311.000000  4.675375e+00  3.071756e+00  3.530729e+00  2.828528e+00   \n",
       "\n",
       "       Natural Gas_LG  Heating Oil_LG       Corn_LG      Wheat_LG  \\\n",
       "count    2.180000e+02    2.180000e+02  2.180000e+02  2.180000e+02   \n",
       "mean     3.463081e-17    2.673702e-18  8.810485e-17 -3.564936e-18   \n",
       "std      1.002301e+00    1.002301e+00  1.002301e+00  1.002301e+00   \n",
       "min     -2.351455e+00   -2.941212e+00 -2.924180e+00 -2.556952e+00   \n",
       "25%     -6.365610e-01   -5.845875e-01 -6.062502e-01 -6.420350e-01   \n",
       "50%     -6.468975e-02   -9.381907e-02 -1.671215e-02  6.137467e-02   \n",
       "75%      6.392270e-01    6.113677e-01  5.536605e-01  6.883328e-01   \n",
       "max      2.453249e+00    2.727610e+00  2.942093e+00  2.934426e+00   \n",
       "\n",
       "          Cattle_LG  Lean Hogs_LG      Sugar_LG     Lumber_LG  \\\n",
       "count  2.180000e+02  2.180000e+02  2.180000e+02  2.180000e+02   \n",
       "mean   5.016375e-17 -2.266281e-17 -1.425975e-17 -4.066255e-18   \n",
       "std    1.002301e+00  1.002301e+00  1.002301e+00  1.002301e+00   \n",
       "min   -2.633208e+00 -2.438256e+00 -3.468529e+00 -3.038505e+00   \n",
       "25%   -6.802635e-01 -6.221477e-01 -6.725542e-01 -6.727191e-01   \n",
       "50%    2.357134e-02 -4.833773e-02 -1.004732e-01  3.617663e-02   \n",
       "75%    7.166612e-01  7.255195e-01  6.539755e-01  6.712153e-01   \n",
       "max    2.718479e+00  2.680506e+00  2.825044e+00  3.940244e+00   \n",
       "\n",
       "       Capacity Utilization_LG        GDP_LG  M2 Velocity_LG        PMI_LG  \\\n",
       "count             2.180000e+02  2.180000e+02    2.180000e+02  2.180000e+02   \n",
       "mean             -4.456170e-18 -2.416518e-16    2.406332e-17 -1.947983e-17   \n",
       "std               1.002301e+00  1.002301e+00    1.002301e+00  1.002301e+00   \n",
       "min              -4.520455e+00 -3.102066e+00   -3.155028e+00 -3.893245e+00   \n",
       "25%              -3.616021e-01 -5.612664e-01   -4.877854e-01 -5.535478e-01   \n",
       "50%               6.764572e-02 -5.308771e-02   -1.275063e-01  5.063059e-02   \n",
       "75%               4.176488e-01  5.796108e-01    5.338289e-01  5.976906e-01   \n",
       "max               6.673082e+00  3.243365e+00    2.464245e+00  3.163166e+00   \n",
       "\n",
       "       USD Index_LG  Initial Jobless Claims_LG  Unemployment Rate_LG  \n",
       "count    218.000000               2.180000e+02          2.180000e+02  \n",
       "mean      -0.012799               3.412153e-17          2.851949e-17  \n",
       "std        0.012007               1.002301e+00          1.002301e+00  \n",
       "min       -0.037961              -1.037009e+01         -9.181910e+00  \n",
       "25%       -0.022312              -5.411911e-02         -2.153957e-01  \n",
       "50%       -0.012357               5.152233e-02         -5.318401e-02  \n",
       "75%       -0.005258               1.047383e-01          1.530685e-01  \n",
       "max        0.019044               7.995727e+00          7.548036e+00  "
      ]
     },
     "execution_count": 29,
     "metadata": {},
     "output_type": "execute_result"
    }
   ],
   "source": [
    "X_train_LG_y_uns.describe()"
   ]
  },
  {
   "cell_type": "code",
   "execution_count": 30,
   "metadata": {},
   "outputs": [],
   "source": [
    "X_train_LG_y_uns = X_train_LG_y_uns.drop(['Unnamed: 0'], axis=1)"
   ]
  },
  {
   "cell_type": "code",
   "execution_count": 31,
   "metadata": {},
   "outputs": [
    {
     "data": {
      "text/html": [
       "<div>\n",
       "<style scoped>\n",
       "    .dataframe tbody tr th:only-of-type {\n",
       "        vertical-align: middle;\n",
       "    }\n",
       "\n",
       "    .dataframe tbody tr th {\n",
       "        vertical-align: top;\n",
       "    }\n",
       "\n",
       "    .dataframe thead th {\n",
       "        text-align: right;\n",
       "    }\n",
       "</style>\n",
       "<table border=\"1\" class=\"dataframe\">\n",
       "  <thead>\n",
       "    <tr style=\"text-align: right;\">\n",
       "      <th></th>\n",
       "      <th>Unnamed: 0</th>\n",
       "      <th>Inflation</th>\n",
       "    </tr>\n",
       "  </thead>\n",
       "  <tbody>\n",
       "    <tr>\n",
       "      <th>count</th>\n",
       "      <td>218.000000</td>\n",
       "      <td>218.000000</td>\n",
       "    </tr>\n",
       "    <tr>\n",
       "      <th>mean</th>\n",
       "      <td>157.711009</td>\n",
       "      <td>-0.072711</td>\n",
       "    </tr>\n",
       "    <tr>\n",
       "      <th>std</th>\n",
       "      <td>90.901141</td>\n",
       "      <td>0.802450</td>\n",
       "    </tr>\n",
       "    <tr>\n",
       "      <th>min</th>\n",
       "      <td>0.000000</td>\n",
       "      <td>-3.625000</td>\n",
       "    </tr>\n",
       "    <tr>\n",
       "      <th>25%</th>\n",
       "      <td>81.500000</td>\n",
       "      <td>-0.408000</td>\n",
       "    </tr>\n",
       "    <tr>\n",
       "      <th>50%</th>\n",
       "      <td>157.000000</td>\n",
       "      <td>-0.083000</td>\n",
       "    </tr>\n",
       "    <tr>\n",
       "      <th>75%</th>\n",
       "      <td>235.750000</td>\n",
       "      <td>0.282000</td>\n",
       "    </tr>\n",
       "    <tr>\n",
       "      <th>max</th>\n",
       "      <td>311.000000</td>\n",
       "      <td>4.007000</td>\n",
       "    </tr>\n",
       "  </tbody>\n",
       "</table>\n",
       "</div>"
      ],
      "text/plain": [
       "       Unnamed: 0   Inflation\n",
       "count  218.000000  218.000000\n",
       "mean   157.711009   -0.072711\n",
       "std     90.901141    0.802450\n",
       "min      0.000000   -3.625000\n",
       "25%     81.500000   -0.408000\n",
       "50%    157.000000   -0.083000\n",
       "75%    235.750000    0.282000\n",
       "max    311.000000    4.007000"
      ]
     },
     "execution_count": 31,
     "metadata": {},
     "output_type": "execute_result"
    }
   ],
   "source": [
    "y_train_LG_y_uns.describe()"
   ]
  },
  {
   "cell_type": "code",
   "execution_count": 32,
   "metadata": {},
   "outputs": [],
   "source": [
    "y_train_LG_y_uns = y_train_LG_y_uns.drop(['Unnamed: 0'], axis=1)"
   ]
  },
  {
   "cell_type": "code",
   "execution_count": 33,
   "metadata": {},
   "outputs": [
    {
     "data": {
      "text/html": [
       "<div>\n",
       "<style scoped>\n",
       "    .dataframe tbody tr th:only-of-type {\n",
       "        vertical-align: middle;\n",
       "    }\n",
       "\n",
       "    .dataframe tbody tr th {\n",
       "        vertical-align: top;\n",
       "    }\n",
       "\n",
       "    .dataframe thead th {\n",
       "        text-align: right;\n",
       "    }\n",
       "</style>\n",
       "<table border=\"1\" class=\"dataframe\">\n",
       "  <thead>\n",
       "    <tr style=\"text-align: right;\">\n",
       "      <th></th>\n",
       "      <th>Unnamed: 0</th>\n",
       "      <th>Wages CPI_LG</th>\n",
       "      <th>WTI_LG</th>\n",
       "      <th>Copper_LG</th>\n",
       "      <th>Soybeans_LG</th>\n",
       "      <th>Natural Gas_LG</th>\n",
       "      <th>Heating Oil_LG</th>\n",
       "      <th>Corn_LG</th>\n",
       "      <th>Wheat_LG</th>\n",
       "      <th>Cattle_LG</th>\n",
       "      <th>Lean Hogs_LG</th>\n",
       "      <th>Sugar_LG</th>\n",
       "      <th>Lumber_LG</th>\n",
       "      <th>Capacity Utilization_LG</th>\n",
       "      <th>GDP_LG</th>\n",
       "      <th>M2 Velocity_LG</th>\n",
       "      <th>PMI_LG</th>\n",
       "      <th>USD Index_LG</th>\n",
       "      <th>Initial Jobless Claims_LG</th>\n",
       "      <th>Unemployment Rate_LG</th>\n",
       "    </tr>\n",
       "  </thead>\n",
       "  <tbody>\n",
       "    <tr>\n",
       "      <th>count</th>\n",
       "      <td>94.000000</td>\n",
       "      <td>94.000000</td>\n",
       "      <td>94.000000</td>\n",
       "      <td>94.000000</td>\n",
       "      <td>94.000000</td>\n",
       "      <td>94.000000</td>\n",
       "      <td>94.000000</td>\n",
       "      <td>94.000000</td>\n",
       "      <td>94.000000</td>\n",
       "      <td>94.000000</td>\n",
       "      <td>94.000000</td>\n",
       "      <td>94.000000</td>\n",
       "      <td>94.000000</td>\n",
       "      <td>94.000000</td>\n",
       "      <td>94.000000</td>\n",
       "      <td>94.000000</td>\n",
       "      <td>94.000000</td>\n",
       "      <td>94.000000</td>\n",
       "      <td>94.000000</td>\n",
       "      <td>94.000000</td>\n",
       "    </tr>\n",
       "    <tr>\n",
       "      <th>mean</th>\n",
       "      <td>150.372340</td>\n",
       "      <td>-0.047693</td>\n",
       "      <td>-0.037448</td>\n",
       "      <td>-0.153213</td>\n",
       "      <td>0.159483</td>\n",
       "      <td>0.002810</td>\n",
       "      <td>-0.159143</td>\n",
       "      <td>0.264644</td>\n",
       "      <td>0.138916</td>\n",
       "      <td>-0.017094</td>\n",
       "      <td>0.151326</td>\n",
       "      <td>0.065967</td>\n",
       "      <td>0.042307</td>\n",
       "      <td>0.176193</td>\n",
       "      <td>5.586587</td>\n",
       "      <td>0.120131</td>\n",
       "      <td>-0.186320</td>\n",
       "      <td>-0.012710</td>\n",
       "      <td>-0.909727</td>\n",
       "      <td>-0.150826</td>\n",
       "    </tr>\n",
       "    <tr>\n",
       "      <th>std</th>\n",
       "      <td>88.858107</td>\n",
       "      <td>0.936789</td>\n",
       "      <td>1.128672</td>\n",
       "      <td>1.012834</td>\n",
       "      <td>1.141851</td>\n",
       "      <td>0.997253</td>\n",
       "      <td>0.929729</td>\n",
       "      <td>1.064146</td>\n",
       "      <td>1.049302</td>\n",
       "      <td>1.028891</td>\n",
       "      <td>1.100073</td>\n",
       "      <td>0.895027</td>\n",
       "      <td>1.322624</td>\n",
       "      <td>1.686065</td>\n",
       "      <td>31.889558</td>\n",
       "      <td>1.803137</td>\n",
       "      <td>1.077949</td>\n",
       "      <td>0.012223</td>\n",
       "      <td>5.822624</td>\n",
       "      <td>1.526160</td>\n",
       "    </tr>\n",
       "    <tr>\n",
       "      <th>min</th>\n",
       "      <td>3.000000</td>\n",
       "      <td>-3.920954</td>\n",
       "      <td>-3.287139</td>\n",
       "      <td>-4.904334</td>\n",
       "      <td>-3.550108</td>\n",
       "      <td>-2.528186</td>\n",
       "      <td>-3.013564</td>\n",
       "      <td>-3.268768</td>\n",
       "      <td>-4.099501</td>\n",
       "      <td>-2.896506</td>\n",
       "      <td>-2.016261</td>\n",
       "      <td>-2.322866</td>\n",
       "      <td>-2.804925</td>\n",
       "      <td>-4.434456</td>\n",
       "      <td>-3.102066</td>\n",
       "      <td>-3.155028</td>\n",
       "      <td>-4.946035</td>\n",
       "      <td>-0.038387</td>\n",
       "      <td>-45.855891</td>\n",
       "      <td>-10.531449</td>\n",
       "    </tr>\n",
       "    <tr>\n",
       "      <th>25%</th>\n",
       "      <td>76.250000</td>\n",
       "      <td>-0.512638</td>\n",
       "      <td>-0.566183</td>\n",
       "      <td>-0.680598</td>\n",
       "      <td>-0.536740</td>\n",
       "      <td>-0.535525</td>\n",
       "      <td>-0.619124</td>\n",
       "      <td>-0.287157</td>\n",
       "      <td>-0.507488</td>\n",
       "      <td>-0.787777</td>\n",
       "      <td>-0.706116</td>\n",
       "      <td>-0.453744</td>\n",
       "      <td>-0.770490</td>\n",
       "      <td>-0.297658</td>\n",
       "      <td>-0.696151</td>\n",
       "      <td>-0.730212</td>\n",
       "      <td>-0.873789</td>\n",
       "      <td>-0.020109</td>\n",
       "      <td>-0.059427</td>\n",
       "      <td>-0.270843</td>\n",
       "    </tr>\n",
       "    <tr>\n",
       "      <th>50%</th>\n",
       "      <td>147.500000</td>\n",
       "      <td>0.089276</td>\n",
       "      <td>0.038451</td>\n",
       "      <td>-0.270453</td>\n",
       "      <td>0.025206</td>\n",
       "      <td>0.017914</td>\n",
       "      <td>-0.086442</td>\n",
       "      <td>0.200127</td>\n",
       "      <td>0.068382</td>\n",
       "      <td>0.022997</td>\n",
       "      <td>0.032323</td>\n",
       "      <td>-0.013983</td>\n",
       "      <td>-0.106885</td>\n",
       "      <td>0.092531</td>\n",
       "      <td>-0.168892</td>\n",
       "      <td>-0.219277</td>\n",
       "      <td>-0.265238</td>\n",
       "      <td>-0.013504</td>\n",
       "      <td>0.026916</td>\n",
       "      <td>-0.106555</td>\n",
       "    </tr>\n",
       "    <tr>\n",
       "      <th>75%</th>\n",
       "      <td>224.750000</td>\n",
       "      <td>0.424234</td>\n",
       "      <td>0.487573</td>\n",
       "      <td>0.441645</td>\n",
       "      <td>0.795398</td>\n",
       "      <td>0.752372</td>\n",
       "      <td>0.472593</td>\n",
       "      <td>0.864834</td>\n",
       "      <td>0.762557</td>\n",
       "      <td>0.801550</td>\n",
       "      <td>0.895996</td>\n",
       "      <td>0.635791</td>\n",
       "      <td>0.772985</td>\n",
       "      <td>0.399815</td>\n",
       "      <td>0.294391</td>\n",
       "      <td>0.604431</td>\n",
       "      <td>0.397687</td>\n",
       "      <td>-0.005721</td>\n",
       "      <td>0.098485</td>\n",
       "      <td>0.102587</td>\n",
       "    </tr>\n",
       "    <tr>\n",
       "      <th>max</th>\n",
       "      <td>309.000000</td>\n",
       "      <td>2.326684</td>\n",
       "      <td>4.558602</td>\n",
       "      <td>2.577670</td>\n",
       "      <td>3.007478</td>\n",
       "      <td>2.178059</td>\n",
       "      <td>1.883646</td>\n",
       "      <td>3.477895</td>\n",
       "      <td>2.937958</td>\n",
       "      <td>1.979732</td>\n",
       "      <td>2.693881</td>\n",
       "      <td>2.469022</td>\n",
       "      <td>4.689258</td>\n",
       "      <td>12.738059</td>\n",
       "      <td>180.209518</td>\n",
       "      <td>8.746628</td>\n",
       "      <td>2.793352</td>\n",
       "      <td>0.028239</td>\n",
       "      <td>10.843220</td>\n",
       "      <td>6.385635</td>\n",
       "    </tr>\n",
       "  </tbody>\n",
       "</table>\n",
       "</div>"
      ],
      "text/plain": [
       "       Unnamed: 0  Wages CPI_LG     WTI_LG  Copper_LG  Soybeans_LG  \\\n",
       "count   94.000000     94.000000  94.000000  94.000000    94.000000   \n",
       "mean   150.372340     -0.047693  -0.037448  -0.153213     0.159483   \n",
       "std     88.858107      0.936789   1.128672   1.012834     1.141851   \n",
       "min      3.000000     -3.920954  -3.287139  -4.904334    -3.550108   \n",
       "25%     76.250000     -0.512638  -0.566183  -0.680598    -0.536740   \n",
       "50%    147.500000      0.089276   0.038451  -0.270453     0.025206   \n",
       "75%    224.750000      0.424234   0.487573   0.441645     0.795398   \n",
       "max    309.000000      2.326684   4.558602   2.577670     3.007478   \n",
       "\n",
       "       Natural Gas_LG  Heating Oil_LG    Corn_LG   Wheat_LG  Cattle_LG  \\\n",
       "count       94.000000       94.000000  94.000000  94.000000  94.000000   \n",
       "mean         0.002810       -0.159143   0.264644   0.138916  -0.017094   \n",
       "std          0.997253        0.929729   1.064146   1.049302   1.028891   \n",
       "min         -2.528186       -3.013564  -3.268768  -4.099501  -2.896506   \n",
       "25%         -0.535525       -0.619124  -0.287157  -0.507488  -0.787777   \n",
       "50%          0.017914       -0.086442   0.200127   0.068382   0.022997   \n",
       "75%          0.752372        0.472593   0.864834   0.762557   0.801550   \n",
       "max          2.178059        1.883646   3.477895   2.937958   1.979732   \n",
       "\n",
       "       Lean Hogs_LG   Sugar_LG  Lumber_LG  Capacity Utilization_LG  \\\n",
       "count     94.000000  94.000000  94.000000                94.000000   \n",
       "mean       0.151326   0.065967   0.042307                 0.176193   \n",
       "std        1.100073   0.895027   1.322624                 1.686065   \n",
       "min       -2.016261  -2.322866  -2.804925                -4.434456   \n",
       "25%       -0.706116  -0.453744  -0.770490                -0.297658   \n",
       "50%        0.032323  -0.013983  -0.106885                 0.092531   \n",
       "75%        0.895996   0.635791   0.772985                 0.399815   \n",
       "max        2.693881   2.469022   4.689258                12.738059   \n",
       "\n",
       "           GDP_LG  M2 Velocity_LG     PMI_LG  USD Index_LG  \\\n",
       "count   94.000000       94.000000  94.000000     94.000000   \n",
       "mean     5.586587        0.120131  -0.186320     -0.012710   \n",
       "std     31.889558        1.803137   1.077949      0.012223   \n",
       "min     -3.102066       -3.155028  -4.946035     -0.038387   \n",
       "25%     -0.696151       -0.730212  -0.873789     -0.020109   \n",
       "50%     -0.168892       -0.219277  -0.265238     -0.013504   \n",
       "75%      0.294391        0.604431   0.397687     -0.005721   \n",
       "max    180.209518        8.746628   2.793352      0.028239   \n",
       "\n",
       "       Initial Jobless Claims_LG  Unemployment Rate_LG  \n",
       "count                  94.000000             94.000000  \n",
       "mean                   -0.909727             -0.150826  \n",
       "std                     5.822624              1.526160  \n",
       "min                   -45.855891            -10.531449  \n",
       "25%                    -0.059427             -0.270843  \n",
       "50%                     0.026916             -0.106555  \n",
       "75%                     0.098485              0.102587  \n",
       "max                    10.843220              6.385635  "
      ]
     },
     "execution_count": 33,
     "metadata": {},
     "output_type": "execute_result"
    }
   ],
   "source": [
    "X_test_LG_y_uns.describe()"
   ]
  },
  {
   "cell_type": "code",
   "execution_count": 34,
   "metadata": {},
   "outputs": [],
   "source": [
    "X_test_LG_y_uns = X_test_LG_y_uns.drop(['Unnamed: 0'], axis=1)"
   ]
  },
  {
   "cell_type": "code",
   "execution_count": 35,
   "metadata": {},
   "outputs": [
    {
     "data": {
      "text/html": [
       "<div>\n",
       "<style scoped>\n",
       "    .dataframe tbody tr th:only-of-type {\n",
       "        vertical-align: middle;\n",
       "    }\n",
       "\n",
       "    .dataframe tbody tr th {\n",
       "        vertical-align: top;\n",
       "    }\n",
       "\n",
       "    .dataframe thead th {\n",
       "        text-align: right;\n",
       "    }\n",
       "</style>\n",
       "<table border=\"1\" class=\"dataframe\">\n",
       "  <thead>\n",
       "    <tr style=\"text-align: right;\">\n",
       "      <th></th>\n",
       "      <th>Unnamed: 0</th>\n",
       "      <th>Inflation_LG</th>\n",
       "    </tr>\n",
       "  </thead>\n",
       "  <tbody>\n",
       "    <tr>\n",
       "      <th>count</th>\n",
       "      <td>94.000000</td>\n",
       "      <td>94.000000</td>\n",
       "    </tr>\n",
       "    <tr>\n",
       "      <th>mean</th>\n",
       "      <td>150.372340</td>\n",
       "      <td>0.171549</td>\n",
       "    </tr>\n",
       "    <tr>\n",
       "      <th>std</th>\n",
       "      <td>88.858107</td>\n",
       "      <td>1.113639</td>\n",
       "    </tr>\n",
       "    <tr>\n",
       "      <th>min</th>\n",
       "      <td>3.000000</td>\n",
       "      <td>-6.322960</td>\n",
       "    </tr>\n",
       "    <tr>\n",
       "      <th>25%</th>\n",
       "      <td>76.250000</td>\n",
       "      <td>-0.358347</td>\n",
       "    </tr>\n",
       "    <tr>\n",
       "      <th>50%</th>\n",
       "      <td>147.500000</td>\n",
       "      <td>0.204995</td>\n",
       "    </tr>\n",
       "    <tr>\n",
       "      <th>75%</th>\n",
       "      <td>224.750000</td>\n",
       "      <td>0.727292</td>\n",
       "    </tr>\n",
       "    <tr>\n",
       "      <th>max</th>\n",
       "      <td>309.000000</td>\n",
       "      <td>3.458603</td>\n",
       "    </tr>\n",
       "  </tbody>\n",
       "</table>\n",
       "</div>"
      ],
      "text/plain": [
       "       Unnamed: 0  Inflation_LG\n",
       "count   94.000000     94.000000\n",
       "mean   150.372340      0.171549\n",
       "std     88.858107      1.113639\n",
       "min      3.000000     -6.322960\n",
       "25%     76.250000     -0.358347\n",
       "50%    147.500000      0.204995\n",
       "75%    224.750000      0.727292\n",
       "max    309.000000      3.458603"
      ]
     },
     "execution_count": 35,
     "metadata": {},
     "output_type": "execute_result"
    }
   ],
   "source": [
    "y_test_LG_y_uns.describe()"
   ]
  },
  {
   "cell_type": "code",
   "execution_count": 36,
   "metadata": {},
   "outputs": [],
   "source": [
    "y_test_LG_y_uns = y_test_LG_y_uns.drop(['Unnamed: 0'], axis=1)"
   ]
  },
  {
   "cell_type": "markdown",
   "metadata": {},
   "source": [
    "`Mean` should be 0 `Std` should be 1 for `X` but not `y`"
   ]
  },
  {
   "cell_type": "code",
   "execution_count": 37,
   "metadata": {},
   "outputs": [
    {
     "data": {
      "text/html": [
       "<div>\n",
       "<style scoped>\n",
       "    .dataframe tbody tr th:only-of-type {\n",
       "        vertical-align: middle;\n",
       "    }\n",
       "\n",
       "    .dataframe tbody tr th {\n",
       "        vertical-align: top;\n",
       "    }\n",
       "\n",
       "    .dataframe thead th {\n",
       "        text-align: right;\n",
       "    }\n",
       "</style>\n",
       "<table border=\"1\" class=\"dataframe\">\n",
       "  <thead>\n",
       "    <tr style=\"text-align: right;\">\n",
       "      <th></th>\n",
       "      <th>Unnamed: 0</th>\n",
       "      <th>WTI_SS_yun</th>\n",
       "      <th>Copper_SS_yun</th>\n",
       "      <th>Soybeans_SS_yun</th>\n",
       "      <th>Natural Gas_SS_yun</th>\n",
       "      <th>Heating Oil_SS_yun</th>\n",
       "      <th>Corn_SS_yun</th>\n",
       "      <th>Wheat_SS_yun</th>\n",
       "      <th>Cattle_SS_yun</th>\n",
       "      <th>Lean Hogs_SS_yun</th>\n",
       "      <th>Sugar_SS_yun</th>\n",
       "      <th>Lumber_SS_yun</th>\n",
       "      <th>PMI_SS_yun</th>\n",
       "      <th>USD Index_SS_yun</th>\n",
       "      <th>Wages CPI_LG</th>\n",
       "      <th>Capacity Utilization_LG</th>\n",
       "      <th>GDP_LG</th>\n",
       "      <th>M2 Velocity_LG</th>\n",
       "      <th>Initial Jobless Claims_LG</th>\n",
       "      <th>Unemployment Rate_LG</th>\n",
       "    </tr>\n",
       "  </thead>\n",
       "  <tbody>\n",
       "    <tr>\n",
       "      <th>count</th>\n",
       "      <td>218.000000</td>\n",
       "      <td>2.180000e+02</td>\n",
       "      <td>2.180000e+02</td>\n",
       "      <td>2.180000e+02</td>\n",
       "      <td>2.180000e+02</td>\n",
       "      <td>2.180000e+02</td>\n",
       "      <td>2.180000e+02</td>\n",
       "      <td>2.180000e+02</td>\n",
       "      <td>2.180000e+02</td>\n",
       "      <td>2.180000e+02</td>\n",
       "      <td>2.180000e+02</td>\n",
       "      <td>2.180000e+02</td>\n",
       "      <td>2.180000e+02</td>\n",
       "      <td>2.180000e+02</td>\n",
       "      <td>2.180000e+02</td>\n",
       "      <td>2.180000e+02</td>\n",
       "      <td>2.180000e+02</td>\n",
       "      <td>2.180000e+02</td>\n",
       "      <td>2.180000e+02</td>\n",
       "      <td>2.180000e+02</td>\n",
       "    </tr>\n",
       "    <tr>\n",
       "      <th>mean</th>\n",
       "      <td>157.711009</td>\n",
       "      <td>-5.092766e-18</td>\n",
       "      <td>3.514009e-17</td>\n",
       "      <td>-3.768647e-17</td>\n",
       "      <td>-2.444528e-17</td>\n",
       "      <td>1.655149e-18</td>\n",
       "      <td>2.902877e-17</td>\n",
       "      <td>-1.069481e-17</td>\n",
       "      <td>1.527830e-18</td>\n",
       "      <td>3.564936e-18</td>\n",
       "      <td>-8.657702e-18</td>\n",
       "      <td>-2.762826e-17</td>\n",
       "      <td>-2.976085e-17</td>\n",
       "      <td>1.425975e-17</td>\n",
       "      <td>-2.263735e-16</td>\n",
       "      <td>-4.456170e-18</td>\n",
       "      <td>-2.416518e-16</td>\n",
       "      <td>2.406332e-17</td>\n",
       "      <td>3.412153e-17</td>\n",
       "      <td>2.851949e-17</td>\n",
       "    </tr>\n",
       "    <tr>\n",
       "      <th>std</th>\n",
       "      <td>90.901141</td>\n",
       "      <td>1.002301e+00</td>\n",
       "      <td>1.002301e+00</td>\n",
       "      <td>1.002301e+00</td>\n",
       "      <td>1.002301e+00</td>\n",
       "      <td>1.002301e+00</td>\n",
       "      <td>1.002301e+00</td>\n",
       "      <td>1.002301e+00</td>\n",
       "      <td>1.002301e+00</td>\n",
       "      <td>1.002301e+00</td>\n",
       "      <td>1.002301e+00</td>\n",
       "      <td>1.002301e+00</td>\n",
       "      <td>1.002301e+00</td>\n",
       "      <td>1.002301e+00</td>\n",
       "      <td>1.002301e+00</td>\n",
       "      <td>1.002301e+00</td>\n",
       "      <td>1.002301e+00</td>\n",
       "      <td>1.002301e+00</td>\n",
       "      <td>1.002301e+00</td>\n",
       "      <td>1.002301e+00</td>\n",
       "    </tr>\n",
       "    <tr>\n",
       "      <th>min</th>\n",
       "      <td>0.000000</td>\n",
       "      <td>-3.783391e+00</td>\n",
       "      <td>-4.194080e+00</td>\n",
       "      <td>-3.280162e+00</td>\n",
       "      <td>-1.969069e+00</td>\n",
       "      <td>-3.380414e+00</td>\n",
       "      <td>-2.641519e+00</td>\n",
       "      <td>-2.034743e+00</td>\n",
       "      <td>-2.966145e+00</td>\n",
       "      <td>-2.453932e+00</td>\n",
       "      <td>-2.521716e+00</td>\n",
       "      <td>-2.522608e+00</td>\n",
       "      <td>-3.333833e+00</td>\n",
       "      <td>-2.094012e+00</td>\n",
       "      <td>-4.203779e+00</td>\n",
       "      <td>-4.520455e+00</td>\n",
       "      <td>-3.102066e+00</td>\n",
       "      <td>-3.155028e+00</td>\n",
       "      <td>-1.037009e+01</td>\n",
       "      <td>-9.181910e+00</td>\n",
       "    </tr>\n",
       "    <tr>\n",
       "      <th>25%</th>\n",
       "      <td>81.500000</td>\n",
       "      <td>-5.665365e-01</td>\n",
       "      <td>-5.924217e-01</td>\n",
       "      <td>-5.064631e-01</td>\n",
       "      <td>-6.724566e-01</td>\n",
       "      <td>-5.422759e-01</td>\n",
       "      <td>-6.269477e-01</td>\n",
       "      <td>-6.723267e-01</td>\n",
       "      <td>-6.458132e-01</td>\n",
       "      <td>-6.201385e-01</td>\n",
       "      <td>-6.977306e-01</td>\n",
       "      <td>-6.930695e-01</td>\n",
       "      <td>-5.828489e-01</td>\n",
       "      <td>-7.944049e-01</td>\n",
       "      <td>-3.922100e-01</td>\n",
       "      <td>-3.616021e-01</td>\n",
       "      <td>-5.612664e-01</td>\n",
       "      <td>-4.877854e-01</td>\n",
       "      <td>-5.411911e-02</td>\n",
       "      <td>-2.153957e-01</td>\n",
       "    </tr>\n",
       "    <tr>\n",
       "      <th>50%</th>\n",
       "      <td>157.000000</td>\n",
       "      <td>-3.959852e-02</td>\n",
       "      <td>-9.739427e-02</td>\n",
       "      <td>-5.652283e-02</td>\n",
       "      <td>-1.579051e-01</td>\n",
       "      <td>-4.040096e-02</td>\n",
       "      <td>-5.827166e-02</td>\n",
       "      <td>-4.863862e-02</td>\n",
       "      <td>7.426409e-02</td>\n",
       "      <td>-4.506087e-02</td>\n",
       "      <td>-2.081390e-01</td>\n",
       "      <td>-3.689083e-02</td>\n",
       "      <td>-1.545851e-02</td>\n",
       "      <td>3.527433e-02</td>\n",
       "      <td>2.665979e-02</td>\n",
       "      <td>6.764572e-02</td>\n",
       "      <td>-5.308771e-02</td>\n",
       "      <td>-1.275063e-01</td>\n",
       "      <td>5.152233e-02</td>\n",
       "      <td>-5.318401e-02</td>\n",
       "    </tr>\n",
       "    <tr>\n",
       "      <th>75%</th>\n",
       "      <td>235.750000</td>\n",
       "      <td>6.677299e-01</td>\n",
       "      <td>5.366898e-01</td>\n",
       "      <td>5.316750e-01</td>\n",
       "      <td>5.625160e-01</td>\n",
       "      <td>6.352366e-01</td>\n",
       "      <td>5.203411e-01</td>\n",
       "      <td>5.954279e-01</td>\n",
       "      <td>7.339765e-01</td>\n",
       "      <td>7.269682e-01</td>\n",
       "      <td>5.484182e-01</td>\n",
       "      <td>6.135977e-01</td>\n",
       "      <td>5.576631e-01</td>\n",
       "      <td>6.282367e-01</td>\n",
       "      <td>3.947888e-01</td>\n",
       "      <td>4.176488e-01</td>\n",
       "      <td>5.796108e-01</td>\n",
       "      <td>5.338289e-01</td>\n",
       "      <td>1.047383e-01</td>\n",
       "      <td>1.530685e-01</td>\n",
       "    </tr>\n",
       "    <tr>\n",
       "      <th>max</th>\n",
       "      <td>311.000000</td>\n",
       "      <td>2.742497e+00</td>\n",
       "      <td>3.913407e+00</td>\n",
       "      <td>2.811401e+00</td>\n",
       "      <td>2.994870e+00</td>\n",
       "      <td>2.428936e+00</td>\n",
       "      <td>3.277006e+00</td>\n",
       "      <td>4.032564e+00</td>\n",
       "      <td>2.428476e+00</td>\n",
       "      <td>2.661448e+00</td>\n",
       "      <td>3.888003e+00</td>\n",
       "      <td>5.231216e+00</td>\n",
       "      <td>3.589476e+00</td>\n",
       "      <td>2.666820e+00</td>\n",
       "      <td>4.675375e+00</td>\n",
       "      <td>6.673082e+00</td>\n",
       "      <td>3.243365e+00</td>\n",
       "      <td>2.464245e+00</td>\n",
       "      <td>7.995727e+00</td>\n",
       "      <td>7.548036e+00</td>\n",
       "    </tr>\n",
       "  </tbody>\n",
       "</table>\n",
       "</div>"
      ],
      "text/plain": [
       "       Unnamed: 0    WTI_SS_yun  Copper_SS_yun  Soybeans_SS_yun  \\\n",
       "count  218.000000  2.180000e+02   2.180000e+02     2.180000e+02   \n",
       "mean   157.711009 -5.092766e-18   3.514009e-17    -3.768647e-17   \n",
       "std     90.901141  1.002301e+00   1.002301e+00     1.002301e+00   \n",
       "min      0.000000 -3.783391e+00  -4.194080e+00    -3.280162e+00   \n",
       "25%     81.500000 -5.665365e-01  -5.924217e-01    -5.064631e-01   \n",
       "50%    157.000000 -3.959852e-02  -9.739427e-02    -5.652283e-02   \n",
       "75%    235.750000  6.677299e-01   5.366898e-01     5.316750e-01   \n",
       "max    311.000000  2.742497e+00   3.913407e+00     2.811401e+00   \n",
       "\n",
       "       Natural Gas_SS_yun  Heating Oil_SS_yun   Corn_SS_yun  Wheat_SS_yun  \\\n",
       "count        2.180000e+02        2.180000e+02  2.180000e+02  2.180000e+02   \n",
       "mean        -2.444528e-17        1.655149e-18  2.902877e-17 -1.069481e-17   \n",
       "std          1.002301e+00        1.002301e+00  1.002301e+00  1.002301e+00   \n",
       "min         -1.969069e+00       -3.380414e+00 -2.641519e+00 -2.034743e+00   \n",
       "25%         -6.724566e-01       -5.422759e-01 -6.269477e-01 -6.723267e-01   \n",
       "50%         -1.579051e-01       -4.040096e-02 -5.827166e-02 -4.863862e-02   \n",
       "75%          5.625160e-01        6.352366e-01  5.203411e-01  5.954279e-01   \n",
       "max          2.994870e+00        2.428936e+00  3.277006e+00  4.032564e+00   \n",
       "\n",
       "       Cattle_SS_yun  Lean Hogs_SS_yun  Sugar_SS_yun  Lumber_SS_yun  \\\n",
       "count   2.180000e+02      2.180000e+02  2.180000e+02   2.180000e+02   \n",
       "mean    1.527830e-18      3.564936e-18 -8.657702e-18  -2.762826e-17   \n",
       "std     1.002301e+00      1.002301e+00  1.002301e+00   1.002301e+00   \n",
       "min    -2.966145e+00     -2.453932e+00 -2.521716e+00  -2.522608e+00   \n",
       "25%    -6.458132e-01     -6.201385e-01 -6.977306e-01  -6.930695e-01   \n",
       "50%     7.426409e-02     -4.506087e-02 -2.081390e-01  -3.689083e-02   \n",
       "75%     7.339765e-01      7.269682e-01  5.484182e-01   6.135977e-01   \n",
       "max     2.428476e+00      2.661448e+00  3.888003e+00   5.231216e+00   \n",
       "\n",
       "         PMI_SS_yun  USD Index_SS_yun  Wages CPI_LG  Capacity Utilization_LG  \\\n",
       "count  2.180000e+02      2.180000e+02  2.180000e+02             2.180000e+02   \n",
       "mean  -2.976085e-17      1.425975e-17 -2.263735e-16            -4.456170e-18   \n",
       "std    1.002301e+00      1.002301e+00  1.002301e+00             1.002301e+00   \n",
       "min   -3.333833e+00     -2.094012e+00 -4.203779e+00            -4.520455e+00   \n",
       "25%   -5.828489e-01     -7.944049e-01 -3.922100e-01            -3.616021e-01   \n",
       "50%   -1.545851e-02      3.527433e-02  2.665979e-02             6.764572e-02   \n",
       "75%    5.576631e-01      6.282367e-01  3.947888e-01             4.176488e-01   \n",
       "max    3.589476e+00      2.666820e+00  4.675375e+00             6.673082e+00   \n",
       "\n",
       "             GDP_LG  M2 Velocity_LG  Initial Jobless Claims_LG  \\\n",
       "count  2.180000e+02    2.180000e+02               2.180000e+02   \n",
       "mean  -2.416518e-16    2.406332e-17               3.412153e-17   \n",
       "std    1.002301e+00    1.002301e+00               1.002301e+00   \n",
       "min   -3.102066e+00   -3.155028e+00              -1.037009e+01   \n",
       "25%   -5.612664e-01   -4.877854e-01              -5.411911e-02   \n",
       "50%   -5.308771e-02   -1.275063e-01               5.152233e-02   \n",
       "75%    5.796108e-01    5.338289e-01               1.047383e-01   \n",
       "max    3.243365e+00    2.464245e+00               7.995727e+00   \n",
       "\n",
       "       Unemployment Rate_LG  \n",
       "count          2.180000e+02  \n",
       "mean           2.851949e-17  \n",
       "std            1.002301e+00  \n",
       "min           -9.181910e+00  \n",
       "25%           -2.153957e-01  \n",
       "50%           -5.318401e-02  \n",
       "75%            1.530685e-01  \n",
       "max            7.548036e+00  "
      ]
     },
     "execution_count": 37,
     "metadata": {},
     "output_type": "execute_result"
    }
   ],
   "source": [
    "X_tr_SS_LG.describe()"
   ]
  },
  {
   "cell_type": "code",
   "execution_count": 38,
   "metadata": {},
   "outputs": [],
   "source": [
    "X_tr_SS_LG = X_tr_SS_LG.drop(['Unnamed: 0'], axis=1)"
   ]
  },
  {
   "cell_type": "code",
   "execution_count": 39,
   "metadata": {},
   "outputs": [
    {
     "data": {
      "text/html": [
       "<div>\n",
       "<style scoped>\n",
       "    .dataframe tbody tr th:only-of-type {\n",
       "        vertical-align: middle;\n",
       "    }\n",
       "\n",
       "    .dataframe tbody tr th {\n",
       "        vertical-align: top;\n",
       "    }\n",
       "\n",
       "    .dataframe thead th {\n",
       "        text-align: right;\n",
       "    }\n",
       "</style>\n",
       "<table border=\"1\" class=\"dataframe\">\n",
       "  <thead>\n",
       "    <tr style=\"text-align: right;\">\n",
       "      <th></th>\n",
       "      <th>Unnamed: 0</th>\n",
       "      <th>Inflation</th>\n",
       "    </tr>\n",
       "  </thead>\n",
       "  <tbody>\n",
       "    <tr>\n",
       "      <th>count</th>\n",
       "      <td>218.000000</td>\n",
       "      <td>218.000000</td>\n",
       "    </tr>\n",
       "    <tr>\n",
       "      <th>mean</th>\n",
       "      <td>157.711009</td>\n",
       "      <td>-0.072711</td>\n",
       "    </tr>\n",
       "    <tr>\n",
       "      <th>std</th>\n",
       "      <td>90.901141</td>\n",
       "      <td>0.802450</td>\n",
       "    </tr>\n",
       "    <tr>\n",
       "      <th>min</th>\n",
       "      <td>0.000000</td>\n",
       "      <td>-3.625000</td>\n",
       "    </tr>\n",
       "    <tr>\n",
       "      <th>25%</th>\n",
       "      <td>81.500000</td>\n",
       "      <td>-0.408000</td>\n",
       "    </tr>\n",
       "    <tr>\n",
       "      <th>50%</th>\n",
       "      <td>157.000000</td>\n",
       "      <td>-0.083000</td>\n",
       "    </tr>\n",
       "    <tr>\n",
       "      <th>75%</th>\n",
       "      <td>235.750000</td>\n",
       "      <td>0.282000</td>\n",
       "    </tr>\n",
       "    <tr>\n",
       "      <th>max</th>\n",
       "      <td>311.000000</td>\n",
       "      <td>4.007000</td>\n",
       "    </tr>\n",
       "  </tbody>\n",
       "</table>\n",
       "</div>"
      ],
      "text/plain": [
       "       Unnamed: 0   Inflation\n",
       "count  218.000000  218.000000\n",
       "mean   157.711009   -0.072711\n",
       "std     90.901141    0.802450\n",
       "min      0.000000   -3.625000\n",
       "25%     81.500000   -0.408000\n",
       "50%    157.000000   -0.083000\n",
       "75%    235.750000    0.282000\n",
       "max    311.000000    4.007000"
      ]
     },
     "execution_count": 39,
     "metadata": {},
     "output_type": "execute_result"
    }
   ],
   "source": [
    "y_tr_y_uns.describe()"
   ]
  },
  {
   "cell_type": "code",
   "execution_count": 40,
   "metadata": {},
   "outputs": [],
   "source": [
    "y_tr_y_uns = y_tr_y_uns.drop(['Unnamed: 0'], axis=1)"
   ]
  },
  {
   "cell_type": "code",
   "execution_count": 41,
   "metadata": {},
   "outputs": [
    {
     "data": {
      "text/html": [
       "<div>\n",
       "<style scoped>\n",
       "    .dataframe tbody tr th:only-of-type {\n",
       "        vertical-align: middle;\n",
       "    }\n",
       "\n",
       "    .dataframe tbody tr th {\n",
       "        vertical-align: top;\n",
       "    }\n",
       "\n",
       "    .dataframe thead th {\n",
       "        text-align: right;\n",
       "    }\n",
       "</style>\n",
       "<table border=\"1\" class=\"dataframe\">\n",
       "  <thead>\n",
       "    <tr style=\"text-align: right;\">\n",
       "      <th></th>\n",
       "      <th>Unnamed: 0</th>\n",
       "      <th>WTI_SS_yun</th>\n",
       "      <th>Copper_SS_yun</th>\n",
       "      <th>Soybeans_SS_yun</th>\n",
       "      <th>Natural Gas_SS_yun</th>\n",
       "      <th>Heating Oil_SS_yun</th>\n",
       "      <th>Corn_SS_yun</th>\n",
       "      <th>Wheat_SS_yun</th>\n",
       "      <th>Cattle_SS_yun</th>\n",
       "      <th>Lean Hogs_SS_yun</th>\n",
       "      <th>Sugar_SS_yun</th>\n",
       "      <th>Lumber_SS_yun</th>\n",
       "      <th>PMI_SS_yun</th>\n",
       "      <th>USD Index_SS_yun</th>\n",
       "      <th>Wages CPI_LG</th>\n",
       "      <th>Capacity Utilization_LG</th>\n",
       "      <th>GDP_LG</th>\n",
       "      <th>M2 Velocity_LG</th>\n",
       "      <th>Initial Jobless Claims_LG</th>\n",
       "      <th>Unemployment Rate_LG</th>\n",
       "    </tr>\n",
       "  </thead>\n",
       "  <tbody>\n",
       "    <tr>\n",
       "      <th>count</th>\n",
       "      <td>94.000000</td>\n",
       "      <td>94.000000</td>\n",
       "      <td>94.000000</td>\n",
       "      <td>94.000000</td>\n",
       "      <td>94.000000</td>\n",
       "      <td>94.000000</td>\n",
       "      <td>94.000000</td>\n",
       "      <td>94.000000</td>\n",
       "      <td>94.000000</td>\n",
       "      <td>94.000000</td>\n",
       "      <td>94.000000</td>\n",
       "      <td>94.000000</td>\n",
       "      <td>94.000000</td>\n",
       "      <td>94.000000</td>\n",
       "      <td>94.000000</td>\n",
       "      <td>94.000000</td>\n",
       "      <td>94.000000</td>\n",
       "      <td>94.000000</td>\n",
       "      <td>94.000000</td>\n",
       "      <td>94.000000</td>\n",
       "    </tr>\n",
       "    <tr>\n",
       "      <th>mean</th>\n",
       "      <td>150.372340</td>\n",
       "      <td>-0.046560</td>\n",
       "      <td>-0.151935</td>\n",
       "      <td>0.158702</td>\n",
       "      <td>-0.001416</td>\n",
       "      <td>-0.153214</td>\n",
       "      <td>0.271715</td>\n",
       "      <td>0.147639</td>\n",
       "      <td>-0.020189</td>\n",
       "      <td>0.150634</td>\n",
       "      <td>0.042247</td>\n",
       "      <td>0.105954</td>\n",
       "      <td>-0.177030</td>\n",
       "      <td>0.007469</td>\n",
       "      <td>-0.047693</td>\n",
       "      <td>0.176193</td>\n",
       "      <td>5.586587</td>\n",
       "      <td>0.120131</td>\n",
       "      <td>-0.909727</td>\n",
       "      <td>-0.150826</td>\n",
       "    </tr>\n",
       "    <tr>\n",
       "      <th>std</th>\n",
       "      <td>88.858107</td>\n",
       "      <td>1.116542</td>\n",
       "      <td>0.986746</td>\n",
       "      <td>1.140603</td>\n",
       "      <td>0.975567</td>\n",
       "      <td>0.963172</td>\n",
       "      <td>1.089934</td>\n",
       "      <td>1.083590</td>\n",
       "      <td>1.040120</td>\n",
       "      <td>1.097781</td>\n",
       "      <td>0.918600</td>\n",
       "      <td>1.470259</td>\n",
       "      <td>1.048915</td>\n",
       "      <td>1.020621</td>\n",
       "      <td>0.936789</td>\n",
       "      <td>1.686065</td>\n",
       "      <td>31.889558</td>\n",
       "      <td>1.803137</td>\n",
       "      <td>5.822624</td>\n",
       "      <td>1.526160</td>\n",
       "    </tr>\n",
       "    <tr>\n",
       "      <th>min</th>\n",
       "      <td>3.000000</td>\n",
       "      <td>-3.755452</td>\n",
       "      <td>-4.281991</td>\n",
       "      <td>-3.578469</td>\n",
       "      <td>-2.087724</td>\n",
       "      <td>-3.479765</td>\n",
       "      <td>-2.917356</td>\n",
       "      <td>-2.913521</td>\n",
       "      <td>-3.321206</td>\n",
       "      <td>-2.026099</td>\n",
       "      <td>-1.857711</td>\n",
       "      <td>-2.360196</td>\n",
       "      <td>-4.147665</td>\n",
       "      <td>-2.129319</td>\n",
       "      <td>-3.920954</td>\n",
       "      <td>-4.434456</td>\n",
       "      <td>-3.102066</td>\n",
       "      <td>-3.155028</td>\n",
       "      <td>-45.855891</td>\n",
       "      <td>-10.531449</td>\n",
       "    </tr>\n",
       "    <tr>\n",
       "      <th>25%</th>\n",
       "      <td>76.250000</td>\n",
       "      <td>-0.529745</td>\n",
       "      <td>-0.692793</td>\n",
       "      <td>-0.534923</td>\n",
       "      <td>-0.585450</td>\n",
       "      <td>-0.578672</td>\n",
       "      <td>-0.322636</td>\n",
       "      <td>-0.559743</td>\n",
       "      <td>-0.760703</td>\n",
       "      <td>-0.704479</td>\n",
       "      <td>-0.517446</td>\n",
       "      <td>-0.778532</td>\n",
       "      <td>-0.866544</td>\n",
       "      <td>-0.610996</td>\n",
       "      <td>-0.512638</td>\n",
       "      <td>-0.297658</td>\n",
       "      <td>-0.696151</td>\n",
       "      <td>-0.730212</td>\n",
       "      <td>-0.059427</td>\n",
       "      <td>-0.270843</td>\n",
       "    </tr>\n",
       "    <tr>\n",
       "      <th>50%</th>\n",
       "      <td>147.500000</td>\n",
       "      <td>0.082344</td>\n",
       "      <td>-0.298726</td>\n",
       "      <td>0.027747</td>\n",
       "      <td>-0.078682</td>\n",
       "      <td>-0.033070</td>\n",
       "      <td>0.158283</td>\n",
       "      <td>-0.041941</td>\n",
       "      <td>0.073698</td>\n",
       "      <td>0.035594</td>\n",
       "      <td>-0.128461</td>\n",
       "      <td>-0.174865</td>\n",
       "      <td>-0.319213</td>\n",
       "      <td>-0.060458</td>\n",
       "      <td>0.089276</td>\n",
       "      <td>0.092531</td>\n",
       "      <td>-0.168892</td>\n",
       "      <td>-0.219277</td>\n",
       "      <td>0.026916</td>\n",
       "      <td>-0.106555</td>\n",
       "    </tr>\n",
       "    <tr>\n",
       "      <th>75%</th>\n",
       "      <td>224.750000</td>\n",
       "      <td>0.515139</td>\n",
       "      <td>0.412443</td>\n",
       "      <td>0.796244</td>\n",
       "      <td>0.688486</td>\n",
       "      <td>0.506057</td>\n",
       "      <td>0.848489</td>\n",
       "      <td>0.678288</td>\n",
       "      <td>0.811777</td>\n",
       "      <td>0.896525</td>\n",
       "      <td>0.528436</td>\n",
       "      <td>0.723928</td>\n",
       "      <td>0.342742</td>\n",
       "      <td>0.589525</td>\n",
       "      <td>0.424234</td>\n",
       "      <td>0.399815</td>\n",
       "      <td>0.294391</td>\n",
       "      <td>0.604431</td>\n",
       "      <td>0.098485</td>\n",
       "      <td>0.102587</td>\n",
       "    </tr>\n",
       "    <tr>\n",
       "      <th>max</th>\n",
       "      <td>309.000000</td>\n",
       "      <td>3.879327</td>\n",
       "      <td>2.759676</td>\n",
       "      <td>2.987912</td>\n",
       "      <td>2.562655</td>\n",
       "      <td>1.748558</td>\n",
       "      <td>3.974551</td>\n",
       "      <td>4.040076</td>\n",
       "      <td>1.834564</td>\n",
       "      <td>2.674612</td>\n",
       "      <td>3.173226</td>\n",
       "      <td>6.689149</td>\n",
       "      <td>3.130979</td>\n",
       "      <td>3.441559</td>\n",
       "      <td>2.326684</td>\n",
       "      <td>12.738059</td>\n",
       "      <td>180.209518</td>\n",
       "      <td>8.746628</td>\n",
       "      <td>10.843220</td>\n",
       "      <td>6.385635</td>\n",
       "    </tr>\n",
       "  </tbody>\n",
       "</table>\n",
       "</div>"
      ],
      "text/plain": [
       "       Unnamed: 0  WTI_SS_yun  Copper_SS_yun  Soybeans_SS_yun  \\\n",
       "count   94.000000   94.000000      94.000000        94.000000   \n",
       "mean   150.372340   -0.046560      -0.151935         0.158702   \n",
       "std     88.858107    1.116542       0.986746         1.140603   \n",
       "min      3.000000   -3.755452      -4.281991        -3.578469   \n",
       "25%     76.250000   -0.529745      -0.692793        -0.534923   \n",
       "50%    147.500000    0.082344      -0.298726         0.027747   \n",
       "75%    224.750000    0.515139       0.412443         0.796244   \n",
       "max    309.000000    3.879327       2.759676         2.987912   \n",
       "\n",
       "       Natural Gas_SS_yun  Heating Oil_SS_yun  Corn_SS_yun  Wheat_SS_yun  \\\n",
       "count           94.000000           94.000000    94.000000     94.000000   \n",
       "mean            -0.001416           -0.153214     0.271715      0.147639   \n",
       "std              0.975567            0.963172     1.089934      1.083590   \n",
       "min             -2.087724           -3.479765    -2.917356     -2.913521   \n",
       "25%             -0.585450           -0.578672    -0.322636     -0.559743   \n",
       "50%             -0.078682           -0.033070     0.158283     -0.041941   \n",
       "75%              0.688486            0.506057     0.848489      0.678288   \n",
       "max              2.562655            1.748558     3.974551      4.040076   \n",
       "\n",
       "       Cattle_SS_yun  Lean Hogs_SS_yun  Sugar_SS_yun  Lumber_SS_yun  \\\n",
       "count      94.000000         94.000000     94.000000      94.000000   \n",
       "mean       -0.020189          0.150634      0.042247       0.105954   \n",
       "std         1.040120          1.097781      0.918600       1.470259   \n",
       "min        -3.321206         -2.026099     -1.857711      -2.360196   \n",
       "25%        -0.760703         -0.704479     -0.517446      -0.778532   \n",
       "50%         0.073698          0.035594     -0.128461      -0.174865   \n",
       "75%         0.811777          0.896525      0.528436       0.723928   \n",
       "max         1.834564          2.674612      3.173226       6.689149   \n",
       "\n",
       "       PMI_SS_yun  USD Index_SS_yun  Wages CPI_LG  Capacity Utilization_LG  \\\n",
       "count   94.000000         94.000000     94.000000                94.000000   \n",
       "mean    -0.177030          0.007469     -0.047693                 0.176193   \n",
       "std      1.048915          1.020621      0.936789                 1.686065   \n",
       "min     -4.147665         -2.129319     -3.920954                -4.434456   \n",
       "25%     -0.866544         -0.610996     -0.512638                -0.297658   \n",
       "50%     -0.319213         -0.060458      0.089276                 0.092531   \n",
       "75%      0.342742          0.589525      0.424234                 0.399815   \n",
       "max      3.130979          3.441559      2.326684                12.738059   \n",
       "\n",
       "           GDP_LG  M2 Velocity_LG  Initial Jobless Claims_LG  \\\n",
       "count   94.000000       94.000000                  94.000000   \n",
       "mean     5.586587        0.120131                  -0.909727   \n",
       "std     31.889558        1.803137                   5.822624   \n",
       "min     -3.102066       -3.155028                 -45.855891   \n",
       "25%     -0.696151       -0.730212                  -0.059427   \n",
       "50%     -0.168892       -0.219277                   0.026916   \n",
       "75%      0.294391        0.604431                   0.098485   \n",
       "max    180.209518        8.746628                  10.843220   \n",
       "\n",
       "       Unemployment Rate_LG  \n",
       "count             94.000000  \n",
       "mean              -0.150826  \n",
       "std                1.526160  \n",
       "min              -10.531449  \n",
       "25%               -0.270843  \n",
       "50%               -0.106555  \n",
       "75%                0.102587  \n",
       "max                6.385635  "
      ]
     },
     "execution_count": 41,
     "metadata": {},
     "output_type": "execute_result"
    }
   ],
   "source": [
    "X_te_SS_LG.describe()"
   ]
  },
  {
   "cell_type": "code",
   "execution_count": 42,
   "metadata": {},
   "outputs": [],
   "source": [
    "X_te_SS_LG = X_te_SS_LG.drop(['Unnamed: 0'], axis=1)"
   ]
  },
  {
   "cell_type": "code",
   "execution_count": 43,
   "metadata": {},
   "outputs": [
    {
     "data": {
      "text/html": [
       "<div>\n",
       "<style scoped>\n",
       "    .dataframe tbody tr th:only-of-type {\n",
       "        vertical-align: middle;\n",
       "    }\n",
       "\n",
       "    .dataframe tbody tr th {\n",
       "        vertical-align: top;\n",
       "    }\n",
       "\n",
       "    .dataframe thead th {\n",
       "        text-align: right;\n",
       "    }\n",
       "</style>\n",
       "<table border=\"1\" class=\"dataframe\">\n",
       "  <thead>\n",
       "    <tr style=\"text-align: right;\">\n",
       "      <th></th>\n",
       "      <th>Unnamed: 0</th>\n",
       "      <th>Inflation</th>\n",
       "    </tr>\n",
       "  </thead>\n",
       "  <tbody>\n",
       "    <tr>\n",
       "      <th>count</th>\n",
       "      <td>94.000000</td>\n",
       "      <td>94.000000</td>\n",
       "    </tr>\n",
       "    <tr>\n",
       "      <th>mean</th>\n",
       "      <td>150.372340</td>\n",
       "      <td>0.066383</td>\n",
       "    </tr>\n",
       "    <tr>\n",
       "      <th>std</th>\n",
       "      <td>88.858107</td>\n",
       "      <td>0.879537</td>\n",
       "    </tr>\n",
       "    <tr>\n",
       "      <th>min</th>\n",
       "      <td>3.000000</td>\n",
       "      <td>-4.846000</td>\n",
       "    </tr>\n",
       "    <tr>\n",
       "      <th>25%</th>\n",
       "      <td>76.250000</td>\n",
       "      <td>-0.368500</td>\n",
       "    </tr>\n",
       "    <tr>\n",
       "      <th>50%</th>\n",
       "      <td>147.500000</td>\n",
       "      <td>0.080000</td>\n",
       "    </tr>\n",
       "    <tr>\n",
       "      <th>75%</th>\n",
       "      <td>224.750000</td>\n",
       "      <td>0.504500</td>\n",
       "    </tr>\n",
       "    <tr>\n",
       "      <th>max</th>\n",
       "      <td>309.000000</td>\n",
       "      <td>2.809000</td>\n",
       "    </tr>\n",
       "  </tbody>\n",
       "</table>\n",
       "</div>"
      ],
      "text/plain": [
       "       Unnamed: 0  Inflation\n",
       "count   94.000000  94.000000\n",
       "mean   150.372340   0.066383\n",
       "std     88.858107   0.879537\n",
       "min      3.000000  -4.846000\n",
       "25%     76.250000  -0.368500\n",
       "50%    147.500000   0.080000\n",
       "75%    224.750000   0.504500\n",
       "max    309.000000   2.809000"
      ]
     },
     "execution_count": 43,
     "metadata": {},
     "output_type": "execute_result"
    }
   ],
   "source": [
    "y_te_y_uns.describe()"
   ]
  },
  {
   "cell_type": "code",
   "execution_count": 44,
   "metadata": {},
   "outputs": [],
   "source": [
    "y_te_y_uns = y_te_y_uns.drop(['Unnamed: 0'], axis=1)"
   ]
  },
  {
   "cell_type": "markdown",
   "metadata": {},
   "source": [
    "They all look correct; we will proceed to modelling."
   ]
  },
  {
   "cell_type": "markdown",
   "metadata": {},
   "source": [
    "# 4.1 Modelling"
   ]
  },
  {
   "cell_type": "markdown",
   "metadata": {},
   "source": [
    "We will now proceed modeling with all five (5) scaling approaches; notably the below:\n",
    "   * StandardScaler ( `_SS` )\n",
    "      * `X` & `y`\n",
    "   * StandardScaler ( `_SS_y_uns` )\n",
    "      * `X` only\n",
    "   * Log Transformation ( `_LG` )\n",
    "      * `X` & `y`\n",
    "   * Log Transformation ( `_LG_y_uns` )\n",
    "      * `X` only   \n",
    "   * Combination of `SS` & `LG` ( `_SS_LG` )\n",
    "      * `X` only\n",
    "\n",
    "The modeling approach is described below:\n",
    "   * GridSearch\n",
    "   * RandomForest\n",
    "   * Hyperparameter search using GridSearchCV\n",
    "   * Final Outcome(s)\n"
   ]
  },
  {
   "cell_type": "markdown",
   "metadata": {},
   "source": [
    "**4.1.1 X & y ( `_SS` )**"
   ]
  },
  {
   "cell_type": "code",
   "execution_count": 45,
   "metadata": {},
   "outputs": [],
   "source": [
    "pipe = make_pipeline(\n",
    "    SimpleImputer(strategy='median'), \n",
    "    StandardScaler(),\n",
    "    SelectKBest(f_regression),\n",
    "    LinearRegression()\n",
    ")"
   ]
  },
  {
   "cell_type": "code",
   "execution_count": 46,
   "metadata": {},
   "outputs": [],
   "source": [
    "k_SS = [k_SS+1 for k_SS in range(len(X_train_SS.columns))]\n",
    "grid_params_SS = {'selectkbest__k': k_SS}"
   ]
  },
  {
   "cell_type": "code",
   "execution_count": 47,
   "metadata": {
    "scrolled": true
   },
   "outputs": [],
   "source": [
    "lr_grid_cv_SS = GridSearchCV(pipe, param_grid=grid_params_SS, cv=5, n_jobs=-1)"
   ]
  },
  {
   "cell_type": "code",
   "execution_count": 48,
   "metadata": {},
   "outputs": [
    {
     "name": "stderr",
     "output_type": "stream",
     "text": [
      "C:\\Users\\rands\\anaconda3\\lib\\site-packages\\sklearn\\utils\\validation.py:72: DataConversionWarning: A column-vector y was passed when a 1d array was expected. Please change the shape of y to (n_samples, ), for example using ravel().\n",
      "  return f(**kwargs)\n"
     ]
    },
    {
     "data": {
      "text/plain": [
       "GridSearchCV(cv=5,\n",
       "             estimator=Pipeline(steps=[('simpleimputer',\n",
       "                                        SimpleImputer(strategy='median')),\n",
       "                                       ('standardscaler', StandardScaler()),\n",
       "                                       ('selectkbest',\n",
       "                                        SelectKBest(score_func=<function f_regression at 0x000002787D8EE310>)),\n",
       "                                       ('linearregression',\n",
       "                                        LinearRegression())]),\n",
       "             n_jobs=-1,\n",
       "             param_grid={'selectkbest__k': [1, 2, 3, 4, 5, 6, 7, 8, 9, 10, 11,\n",
       "                                            12, 13, 14, 15, 16, 17, 18, 19]})"
      ]
     },
     "execution_count": 48,
     "metadata": {},
     "output_type": "execute_result"
    }
   ],
   "source": [
    "lr_grid_cv_SS.fit(X_train_SS, y_train_SS)"
   ]
  },
  {
   "cell_type": "code",
   "execution_count": 49,
   "metadata": {},
   "outputs": [],
   "source": [
    "score_mean_SS = lr_grid_cv_SS.cv_results_['mean_test_score']\n",
    "score_std_SS = lr_grid_cv_SS.cv_results_['std_test_score']\n",
    "cv_k_SS = [k_SS for k_SS in lr_grid_cv_SS.cv_results_['param_selectkbest__k']]"
   ]
  },
  {
   "cell_type": "code",
   "execution_count": 50,
   "metadata": {},
   "outputs": [
    {
     "data": {
      "text/plain": [
       "{'selectkbest__k': 2}"
      ]
     },
     "execution_count": 50,
     "metadata": {},
     "output_type": "execute_result"
    }
   ],
   "source": [
    "lr_grid_cv_SS.best_params_"
   ]
  },
  {
   "cell_type": "code",
   "execution_count": 51,
   "metadata": {
    "scrolled": true
   },
   "outputs": [
    {
     "data": {
      "image/png": "[encoded data removed]",
      "text/plain": [
       "<Figure size 720x360 with 1 Axes>"
      ]
     },
     "metadata": {
      "needs_background": "light"
     },
     "output_type": "display_data"
    }
   ],
   "source": [
    "best_k_SS = lr_grid_cv_SS.best_params_['selectkbest__k']\n",
    "plt.subplots(figsize=(10, 5))\n",
    "plt.errorbar(cv_k_SS, score_mean_SS, yerr=score_std_SS)\n",
    "plt.axvline(x=best_k_SS, c='r', ls='--', alpha=.5)\n",
    "plt.xlabel('k')\n",
    "plt.ylabel('SS ( X & y )  |  CV score (r-squared)')\n",
    "plt.title('SS ( X & y )  |  Pipeline mean CV score (error bars +/- 1sd)');"
   ]
  },
  {
   "cell_type": "code",
   "execution_count": null,
   "metadata": {},
   "outputs": [],
   "source": []
  },
  {
   "cell_type": "markdown",
   "metadata": {},
   "source": [
    "**4.1.1.1 Fit & assess performance using cross-validation**"
   ]
  },
  {
   "cell_type": "code",
   "execution_count": 52,
   "metadata": {},
   "outputs": [],
   "source": [
    "RF_pipe = make_pipeline(\n",
    "    SimpleImputer(strategy='median'),\n",
    "    StandardScaler(),\n",
    "    RandomForestRegressor(random_state=47)\n",
    ")"
   ]
  },
  {
   "cell_type": "code",
   "execution_count": 53,
   "metadata": {},
   "outputs": [
    {
     "name": "stderr",
     "output_type": "stream",
     "text": [
      "C:\\Users\\rands\\anaconda3\\lib\\site-packages\\sklearn\\pipeline.py:335: DataConversionWarning: A column-vector y was passed when a 1d array was expected. Please change the shape of y to (n_samples,), for example using ravel().\n",
      "  self._final_estimator.fit(Xt, y, **fit_params_last_step)\n",
      "C:\\Users\\rands\\anaconda3\\lib\\site-packages\\sklearn\\pipeline.py:335: DataConversionWarning: A column-vector y was passed when a 1d array was expected. Please change the shape of y to (n_samples,), for example using ravel().\n",
      "  self._final_estimator.fit(Xt, y, **fit_params_last_step)\n",
      "C:\\Users\\rands\\anaconda3\\lib\\site-packages\\sklearn\\pipeline.py:335: DataConversionWarning: A column-vector y was passed when a 1d array was expected. Please change the shape of y to (n_samples,), for example using ravel().\n",
      "  self._final_estimator.fit(Xt, y, **fit_params_last_step)\n",
      "C:\\Users\\rands\\anaconda3\\lib\\site-packages\\sklearn\\pipeline.py:335: DataConversionWarning: A column-vector y was passed when a 1d array was expected. Please change the shape of y to (n_samples,), for example using ravel().\n",
      "  self._final_estimator.fit(Xt, y, **fit_params_last_step)\n",
      "C:\\Users\\rands\\anaconda3\\lib\\site-packages\\sklearn\\pipeline.py:335: DataConversionWarning: A column-vector y was passed when a 1d array was expected. Please change the shape of y to (n_samples,), for example using ravel().\n",
      "  self._final_estimator.fit(Xt, y, **fit_params_last_step)\n"
     ]
    }
   ],
   "source": [
    "rf_default_cv_results = cross_validate(RF_pipe, X_train_SS, y_train_SS, cv=5)"
   ]
  },
  {
   "cell_type": "code",
   "execution_count": 54,
   "metadata": {},
   "outputs": [
    {
     "data": {
      "text/plain": [
       "array([ 0.48854403,  0.29888839,  0.36485315,  0.20871414, -0.20828454])"
      ]
     },
     "execution_count": 54,
     "metadata": {},
     "output_type": "execute_result"
    }
   ],
   "source": [
    "rf_cv_scores = rf_default_cv_results['test_score']\n",
    "rf_cv_scores"
   ]
  },
  {
   "cell_type": "code",
   "execution_count": 55,
   "metadata": {},
   "outputs": [
    {
     "data": {
      "text/plain": [
       "(0.23054303239842983, 0.237621948208338)"
      ]
     },
     "execution_count": 55,
     "metadata": {},
     "output_type": "execute_result"
    }
   ],
   "source": [
    "np.mean(rf_cv_scores), np.std(rf_cv_scores)"
   ]
  },
  {
   "cell_type": "markdown",
   "metadata": {},
   "source": [
    "**4.1.1.2 Hyperparameter search using GridSearchCV**"
   ]
  },
  {
   "cell_type": "code",
   "execution_count": 56,
   "metadata": {},
   "outputs": [
    {
     "data": {
      "text/plain": [
       "{'randomforestregressor__n_estimators': [10,\n",
       "  12,\n",
       "  16,\n",
       "  20,\n",
       "  26,\n",
       "  33,\n",
       "  42,\n",
       "  54,\n",
       "  69,\n",
       "  88,\n",
       "  112,\n",
       "  143,\n",
       "  183,\n",
       "  233,\n",
       "  297,\n",
       "  379,\n",
       "  483,\n",
       "  615,\n",
       "  784,\n",
       "  1000],\n",
       " 'standardscaler': [StandardScaler(), None],\n",
       " 'simpleimputer__strategy': ['mean', 'median']}"
      ]
     },
     "execution_count": 56,
     "metadata": {},
     "output_type": "execute_result"
    }
   ],
   "source": [
    "n_est = [int(n) for n in np.logspace(start=1, stop=3, num=20)]\n",
    "grid_params = {\n",
    "        'randomforestregressor__n_estimators': n_est,\n",
    "        'standardscaler': [StandardScaler(), None],\n",
    "        'simpleimputer__strategy': ['mean', 'median']\n",
    "}\n",
    "grid_params"
   ]
  },
  {
   "cell_type": "code",
   "execution_count": 57,
   "metadata": {},
   "outputs": [],
   "source": [
    "rf_grid_cv = GridSearchCV(RF_pipe, param_grid=grid_params, cv=5, n_jobs=-1)"
   ]
  },
  {
   "cell_type": "code",
   "execution_count": 58,
   "metadata": {},
   "outputs": [
    {
     "name": "stderr",
     "output_type": "stream",
     "text": [
      "C:\\Users\\rands\\anaconda3\\lib\\site-packages\\sklearn\\pipeline.py:335: DataConversionWarning: A column-vector y was passed when a 1d array was expected. Please change the shape of y to (n_samples,), for example using ravel().\n",
      "  self._final_estimator.fit(Xt, y, **fit_params_last_step)\n"
     ]
    },
    {
     "data": {
      "text/plain": [
       "GridSearchCV(cv=5,\n",
       "             estimator=Pipeline(steps=[('simpleimputer',\n",
       "                                        SimpleImputer(strategy='median')),\n",
       "                                       ('standardscaler', StandardScaler()),\n",
       "                                       ('randomforestregressor',\n",
       "                                        RandomForestRegressor(random_state=47))]),\n",
       "             n_jobs=-1,\n",
       "             param_grid={'randomforestregressor__n_estimators': [10, 12, 16, 20,\n",
       "                                                                 26, 33, 42, 54,\n",
       "                                                                 69, 88, 112,\n",
       "                                                                 143, 183, 233,\n",
       "                                                                 297, 379, 483,\n",
       "                                                                 615, 784,\n",
       "                                                                 1000],\n",
       "                         'simpleimputer__strategy': ['mean', 'median'],\n",
       "                         'standardscaler': [StandardScaler(), None]})"
      ]
     },
     "execution_count": 58,
     "metadata": {},
     "output_type": "execute_result"
    }
   ],
   "source": [
    "rf_grid_cv.fit(X_train_SS, y_train_SS)"
   ]
  },
  {
   "cell_type": "code",
   "execution_count": 59,
   "metadata": {},
   "outputs": [
    {
     "data": {
      "text/plain": [
       "{'randomforestregressor__n_estimators': 233,\n",
       " 'simpleimputer__strategy': 'mean',\n",
       " 'standardscaler': None}"
      ]
     },
     "execution_count": 59,
     "metadata": {},
     "output_type": "execute_result"
    }
   ],
   "source": [
    "rf_grid_cv.best_params_"
   ]
  },
  {
   "cell_type": "code",
   "execution_count": 60,
   "metadata": {},
   "outputs": [
    {
     "name": "stderr",
     "output_type": "stream",
     "text": [
      "C:\\Users\\rands\\anaconda3\\lib\\site-packages\\sklearn\\pipeline.py:335: DataConversionWarning: A column-vector y was passed when a 1d array was expected. Please change the shape of y to (n_samples,), for example using ravel().\n",
      "  self._final_estimator.fit(Xt, y, **fit_params_last_step)\n",
      "C:\\Users\\rands\\anaconda3\\lib\\site-packages\\sklearn\\pipeline.py:335: DataConversionWarning: A column-vector y was passed when a 1d array was expected. Please change the shape of y to (n_samples,), for example using ravel().\n",
      "  self._final_estimator.fit(Xt, y, **fit_params_last_step)\n",
      "C:\\Users\\rands\\anaconda3\\lib\\site-packages\\sklearn\\pipeline.py:335: DataConversionWarning: A column-vector y was passed when a 1d array was expected. Please change the shape of y to (n_samples,), for example using ravel().\n",
      "  self._final_estimator.fit(Xt, y, **fit_params_last_step)\n",
      "C:\\Users\\rands\\anaconda3\\lib\\site-packages\\sklearn\\pipeline.py:335: DataConversionWarning: A column-vector y was passed when a 1d array was expected. Please change the shape of y to (n_samples,), for example using ravel().\n",
      "  self._final_estimator.fit(Xt, y, **fit_params_last_step)\n",
      "C:\\Users\\rands\\anaconda3\\lib\\site-packages\\sklearn\\pipeline.py:335: DataConversionWarning: A column-vector y was passed when a 1d array was expected. Please change the shape of y to (n_samples,), for example using ravel().\n",
      "  self._final_estimator.fit(Xt, y, **fit_params_last_step)\n"
     ]
    },
    {
     "data": {
      "text/plain": [
       "array([ 0.47691526,  0.2930633 ,  0.36804236,  0.26142254, -0.17465156])"
      ]
     },
     "execution_count": 60,
     "metadata": {},
     "output_type": "execute_result"
    }
   ],
   "source": [
    "rf_best_cv_results = cross_validate(rf_grid_cv.best_estimator_, X_train_SS, y_train_SS, cv=5)\n",
    "rf_best_scores = rf_best_cv_results['test_score']\n",
    "rf_best_scores"
   ]
  },
  {
   "cell_type": "code",
   "execution_count": 61,
   "metadata": {},
   "outputs": [
    {
     "data": {
      "text/plain": [
       "(0.24495838033953787, 0.222535983002939)"
      ]
     },
     "execution_count": 61,
     "metadata": {},
     "output_type": "execute_result"
    }
   ],
   "source": [
    "np.mean(rf_best_scores), np.std(rf_best_scores)"
   ]
  },
  {
   "cell_type": "code",
   "execution_count": 62,
   "metadata": {
    "scrolled": true
   },
   "outputs": [
    {
     "data": {
      "image/png": "[encoded data removed]",
      "text/plain": [
       "<Figure size 720x360 with 1 Axes>"
      ]
     },
     "metadata": {
      "needs_background": "light"
     },
     "output_type": "display_data"
    }
   ],
   "source": [
    "plt.subplots(figsize=(10, 5))\n",
    "imps = rf_grid_cv.best_estimator_.named_steps.randomforestregressor.feature_importances_\n",
    "rf_feat_imps = pd.Series(imps, index=X_train_SS.columns).sort_values(ascending=False)\n",
    "rf_feat_imps.plot(kind='bar')\n",
    "plt.xlabel('features')\n",
    "plt.ylabel('SS ( X & y )  |  importance')\n",
    "plt.title('Best random forest regressor feature importances');"
   ]
  },
  {
   "cell_type": "code",
   "execution_count": null,
   "metadata": {},
   "outputs": [],
   "source": []
  },
  {
   "cell_type": "code",
   "execution_count": null,
   "metadata": {},
   "outputs": [],
   "source": []
  },
  {
   "cell_type": "markdown",
   "metadata": {},
   "source": [
    "**4.1.2 X only ( `_SS_y_uns` )**"
   ]
  },
  {
   "cell_type": "code",
   "execution_count": 63,
   "metadata": {},
   "outputs": [],
   "source": [
    "pipe_SS_y_uns = make_pipeline(\n",
    "    SimpleImputer(strategy='median'), \n",
    "    StandardScaler(),\n",
    "    SelectKBest(f_regression),\n",
    "    LinearRegression()\n",
    ")"
   ]
  },
  {
   "cell_type": "code",
   "execution_count": 64,
   "metadata": {},
   "outputs": [],
   "source": [
    "k_SS_y_uns = [k_SS_y_uns+1 for k_SS_y_uns in range(len(X_train_SS_y_uns.columns))]\n",
    "grid_params_SS_y_uns = {'selectkbest__k': k_SS_y_uns}"
   ]
  },
  {
   "cell_type": "code",
   "execution_count": 65,
   "metadata": {
    "scrolled": true
   },
   "outputs": [],
   "source": [
    "lr_grid_cv_SS_y_uns = GridSearchCV(pipe_SS_y_uns, param_grid=grid_params_SS_y_uns, cv=5, n_jobs=-1)"
   ]
  },
  {
   "cell_type": "code",
   "execution_count": 66,
   "metadata": {},
   "outputs": [
    {
     "name": "stderr",
     "output_type": "stream",
     "text": [
      "C:\\Users\\rands\\anaconda3\\lib\\site-packages\\sklearn\\utils\\validation.py:72: DataConversionWarning: A column-vector y was passed when a 1d array was expected. Please change the shape of y to (n_samples, ), for example using ravel().\n",
      "  return f(**kwargs)\n"
     ]
    },
    {
     "data": {
      "text/plain": [
       "GridSearchCV(cv=5,\n",
       "             estimator=Pipeline(steps=[('simpleimputer',\n",
       "                                        SimpleImputer(strategy='median')),\n",
       "                                       ('standardscaler', StandardScaler()),\n",
       "                                       ('selectkbest',\n",
       "                                        SelectKBest(score_func=<function f_regression at 0x000002787D8EE310>)),\n",
       "                                       ('linearregression',\n",
       "                                        LinearRegression())]),\n",
       "             n_jobs=-1,\n",
       "             param_grid={'selectkbest__k': [1, 2, 3, 4, 5, 6, 7, 8, 9, 10, 11,\n",
       "                                            12, 13, 14, 15, 16, 17, 18, 19]})"
      ]
     },
     "execution_count": 66,
     "metadata": {},
     "output_type": "execute_result"
    }
   ],
   "source": [
    "lr_grid_cv_SS_y_uns.fit(X_train_SS_y_uns, y_train_SS_y_uns)"
   ]
  },
  {
   "cell_type": "code",
   "execution_count": 67,
   "metadata": {},
   "outputs": [],
   "source": [
    "score_mean_SS_y_uns = lr_grid_cv_SS_y_uns.cv_results_['mean_test_score']\n",
    "score_std_SS_y_uns = lr_grid_cv_SS_y_uns.cv_results_['std_test_score']\n",
    "cv_k_SS_y_uns = [k_SS_y_uns for k_SS_y_uns in lr_grid_cv_SS_y_uns.cv_results_['param_selectkbest__k']]"
   ]
  },
  {
   "cell_type": "code",
   "execution_count": 68,
   "metadata": {},
   "outputs": [
    {
     "data": {
      "text/plain": [
       "{'selectkbest__k': 2}"
      ]
     },
     "execution_count": 68,
     "metadata": {},
     "output_type": "execute_result"
    }
   ],
   "source": [
    "lr_grid_cv_SS_y_uns.best_params_"
   ]
  },
  {
   "cell_type": "code",
   "execution_count": 69,
   "metadata": {
    "scrolled": false
   },
   "outputs": [
    {
     "data": {
      "image/png": "[encoded data removed]",
      "text/plain": [
       "<Figure size 720x360 with 1 Axes>"
      ]
     },
     "metadata": {
      "needs_background": "light"
     },
     "output_type": "display_data"
    }
   ],
   "source": [
    "best_k_SS_y_uns = lr_grid_cv_SS_y_uns.best_params_['selectkbest__k']\n",
    "plt.subplots(figsize=(10, 5))\n",
    "plt.errorbar(cv_k_SS_y_uns, score_mean_SS_y_uns, yerr=score_std_SS_y_uns)\n",
    "plt.axvline(x=best_k_SS_y_uns, c='r', ls='--', alpha=.5)\n",
    "plt.xlabel('k')\n",
    "plt.ylabel('SS ( X only )  |  CV score (r-squared)')\n",
    "plt.title('SS ( X only )  |  Pipeline mean CV score (error bars +/- 1sd)');"
   ]
  },
  {
   "cell_type": "code",
   "execution_count": 70,
   "metadata": {},
   "outputs": [],
   "source": [
    "RF_pipe_y_uns = make_pipeline(\n",
    "    SimpleImputer(strategy='median'),\n",
    "    StandardScaler(),\n",
    "    RandomForestRegressor(random_state=47)\n",
    ")"
   ]
  },
  {
   "cell_type": "markdown",
   "metadata": {},
   "source": [
    "**4.1.2.1 Fit & assess performance using cross-validation**"
   ]
  },
  {
   "cell_type": "code",
   "execution_count": 71,
   "metadata": {},
   "outputs": [
    {
     "name": "stderr",
     "output_type": "stream",
     "text": [
      "C:\\Users\\rands\\anaconda3\\lib\\site-packages\\sklearn\\pipeline.py:335: DataConversionWarning: A column-vector y was passed when a 1d array was expected. Please change the shape of y to (n_samples,), for example using ravel().\n",
      "  self._final_estimator.fit(Xt, y, **fit_params_last_step)\n",
      "C:\\Users\\rands\\anaconda3\\lib\\site-packages\\sklearn\\pipeline.py:335: DataConversionWarning: A column-vector y was passed when a 1d array was expected. Please change the shape of y to (n_samples,), for example using ravel().\n",
      "  self._final_estimator.fit(Xt, y, **fit_params_last_step)\n",
      "C:\\Users\\rands\\anaconda3\\lib\\site-packages\\sklearn\\pipeline.py:335: DataConversionWarning: A column-vector y was passed when a 1d array was expected. Please change the shape of y to (n_samples,), for example using ravel().\n",
      "  self._final_estimator.fit(Xt, y, **fit_params_last_step)\n",
      "C:\\Users\\rands\\anaconda3\\lib\\site-packages\\sklearn\\pipeline.py:335: DataConversionWarning: A column-vector y was passed when a 1d array was expected. Please change the shape of y to (n_samples,), for example using ravel().\n",
      "  self._final_estimator.fit(Xt, y, **fit_params_last_step)\n",
      "C:\\Users\\rands\\anaconda3\\lib\\site-packages\\sklearn\\pipeline.py:335: DataConversionWarning: A column-vector y was passed when a 1d array was expected. Please change the shape of y to (n_samples,), for example using ravel().\n",
      "  self._final_estimator.fit(Xt, y, **fit_params_last_step)\n"
     ]
    }
   ],
   "source": [
    "rf_default_cv_results_y_uns = cross_validate(RF_pipe_y_uns, X_train_SS_y_uns, y_train_SS_y_uns, cv=5)"
   ]
  },
  {
   "cell_type": "code",
   "execution_count": 72,
   "metadata": {},
   "outputs": [
    {
     "data": {
      "text/plain": [
       "array([ 0.47401884,  0.29547331,  0.35018815,  0.17950671, -0.20548066])"
      ]
     },
     "execution_count": 72,
     "metadata": {},
     "output_type": "execute_result"
    }
   ],
   "source": [
    "rf_cv_scores_y_uns = rf_default_cv_results_y_uns['test_score']\n",
    "rf_cv_scores_y_uns"
   ]
  },
  {
   "cell_type": "code",
   "execution_count": 73,
   "metadata": {},
   "outputs": [
    {
     "data": {
      "text/plain": [
       "(0.21874127062410578, 0.23230855696864927)"
      ]
     },
     "execution_count": 73,
     "metadata": {},
     "output_type": "execute_result"
    }
   ],
   "source": [
    "np.mean(rf_cv_scores_y_uns), np.std(rf_cv_scores_y_uns)"
   ]
  },
  {
   "cell_type": "markdown",
   "metadata": {},
   "source": [
    "**4.1.2.2  Hyperparameter search using GridSearchCV**"
   ]
  },
  {
   "cell_type": "code",
   "execution_count": 74,
   "metadata": {},
   "outputs": [
    {
     "data": {
      "text/plain": [
       "{'randomforestregressor__n_estimators': [10,\n",
       "  12,\n",
       "  16,\n",
       "  20,\n",
       "  26,\n",
       "  33,\n",
       "  42,\n",
       "  54,\n",
       "  69,\n",
       "  88,\n",
       "  112,\n",
       "  143,\n",
       "  183,\n",
       "  233,\n",
       "  297,\n",
       "  379,\n",
       "  483,\n",
       "  615,\n",
       "  784,\n",
       "  1000],\n",
       " 'standardscaler': [StandardScaler(), None],\n",
       " 'simpleimputer__strategy': ['mean', 'median']}"
      ]
     },
     "execution_count": 74,
     "metadata": {},
     "output_type": "execute_result"
    }
   ],
   "source": [
    "n_est_y_uns = [int(n) for n in np.logspace(start=1, stop=3, num=20)]\n",
    "grid_params_y_uns = {\n",
    "        'randomforestregressor__n_estimators': n_est,\n",
    "        'standardscaler': [StandardScaler(), None],\n",
    "        'simpleimputer__strategy': ['mean', 'median']\n",
    "}\n",
    "grid_params_y_uns"
   ]
  },
  {
   "cell_type": "code",
   "execution_count": 75,
   "metadata": {},
   "outputs": [],
   "source": [
    "rf_grid_cv_y_uns = GridSearchCV(RF_pipe_y_uns, param_grid=grid_params_y_uns, cv=5, n_jobs=-1)"
   ]
  },
  {
   "cell_type": "code",
   "execution_count": 76,
   "metadata": {},
   "outputs": [
    {
     "name": "stderr",
     "output_type": "stream",
     "text": [
      "C:\\Users\\rands\\anaconda3\\lib\\site-packages\\sklearn\\pipeline.py:335: DataConversionWarning: A column-vector y was passed when a 1d array was expected. Please change the shape of y to (n_samples,), for example using ravel().\n",
      "  self._final_estimator.fit(Xt, y, **fit_params_last_step)\n"
     ]
    },
    {
     "data": {
      "text/plain": [
       "GridSearchCV(cv=5,\n",
       "             estimator=Pipeline(steps=[('simpleimputer',\n",
       "                                        SimpleImputer(strategy='median')),\n",
       "                                       ('standardscaler', StandardScaler()),\n",
       "                                       ('randomforestregressor',\n",
       "                                        RandomForestRegressor(random_state=47))]),\n",
       "             n_jobs=-1,\n",
       "             param_grid={'randomforestregressor__n_estimators': [10, 12, 16, 20,\n",
       "                                                                 26, 33, 42, 54,\n",
       "                                                                 69, 88, 112,\n",
       "                                                                 143, 183, 233,\n",
       "                                                                 297, 379, 483,\n",
       "                                                                 615, 784,\n",
       "                                                                 1000],\n",
       "                         'simpleimputer__strategy': ['mean', 'median'],\n",
       "                         'standardscaler': [StandardScaler(), None]})"
      ]
     },
     "execution_count": 76,
     "metadata": {},
     "output_type": "execute_result"
    }
   ],
   "source": [
    "rf_grid_cv_y_uns.fit(X_train_SS_y_uns, y_train_SS_y_uns)"
   ]
  },
  {
   "cell_type": "code",
   "execution_count": 77,
   "metadata": {},
   "outputs": [
    {
     "data": {
      "text/plain": [
       "{'randomforestregressor__n_estimators': 297,\n",
       " 'simpleimputer__strategy': 'mean',\n",
       " 'standardscaler': None}"
      ]
     },
     "execution_count": 77,
     "metadata": {},
     "output_type": "execute_result"
    }
   ],
   "source": [
    "rf_grid_cv_y_uns.best_params_"
   ]
  },
  {
   "cell_type": "code",
   "execution_count": 78,
   "metadata": {},
   "outputs": [
    {
     "name": "stderr",
     "output_type": "stream",
     "text": [
      "C:\\Users\\rands\\anaconda3\\lib\\site-packages\\sklearn\\pipeline.py:335: DataConversionWarning: A column-vector y was passed when a 1d array was expected. Please change the shape of y to (n_samples,), for example using ravel().\n",
      "  self._final_estimator.fit(Xt, y, **fit_params_last_step)\n",
      "C:\\Users\\rands\\anaconda3\\lib\\site-packages\\sklearn\\pipeline.py:335: DataConversionWarning: A column-vector y was passed when a 1d array was expected. Please change the shape of y to (n_samples,), for example using ravel().\n",
      "  self._final_estimator.fit(Xt, y, **fit_params_last_step)\n",
      "C:\\Users\\rands\\anaconda3\\lib\\site-packages\\sklearn\\pipeline.py:335: DataConversionWarning: A column-vector y was passed when a 1d array was expected. Please change the shape of y to (n_samples,), for example using ravel().\n",
      "  self._final_estimator.fit(Xt, y, **fit_params_last_step)\n",
      "C:\\Users\\rands\\anaconda3\\lib\\site-packages\\sklearn\\pipeline.py:335: DataConversionWarning: A column-vector y was passed when a 1d array was expected. Please change the shape of y to (n_samples,), for example using ravel().\n",
      "  self._final_estimator.fit(Xt, y, **fit_params_last_step)\n",
      "C:\\Users\\rands\\anaconda3\\lib\\site-packages\\sklearn\\pipeline.py:335: DataConversionWarning: A column-vector y was passed when a 1d array was expected. Please change the shape of y to (n_samples,), for example using ravel().\n",
      "  self._final_estimator.fit(Xt, y, **fit_params_last_step)\n"
     ]
    },
    {
     "data": {
      "text/plain": [
       "array([ 0.47705886,  0.29413716,  0.37244342,  0.24021046, -0.17273298])"
      ]
     },
     "execution_count": 78,
     "metadata": {},
     "output_type": "execute_result"
    }
   ],
   "source": [
    "rf_best_cv_results_y_uns = cross_validate(rf_grid_cv_y_uns.best_estimator_, X_train_SS_y_uns, y_train_SS_y_uns, cv=5)\n",
    "rf_best_scores_y_uns = rf_best_cv_results_y_uns['test_score']\n",
    "rf_best_scores_y_uns"
   ]
  },
  {
   "cell_type": "code",
   "execution_count": 79,
   "metadata": {},
   "outputs": [
    {
     "data": {
      "text/plain": [
       "(0.2422233841355784, 0.22225788461740145)"
      ]
     },
     "execution_count": 79,
     "metadata": {},
     "output_type": "execute_result"
    }
   ],
   "source": [
    "np.mean(rf_best_scores_y_uns), np.std(rf_best_scores_y_uns)"
   ]
  },
  {
   "cell_type": "code",
   "execution_count": 80,
   "metadata": {
    "scrolled": true
   },
   "outputs": [
    {
     "data": {
      "image/png": "[encoded data removed]",
      "text/plain": [
       "<Figure size 720x360 with 1 Axes>"
      ]
     },
     "metadata": {
      "needs_background": "light"
     },
     "output_type": "display_data"
    }
   ],
   "source": [
    "plt.subplots(figsize=(10, 5))\n",
    "imps_y_uns = rf_grid_cv.best_estimator_.named_steps.randomforestregressor.feature_importances_\n",
    "rf_feat_imps_y_uns = pd.Series(imps_y_uns, index=X_train_SS_y_uns.columns).sort_values(ascending=False)\n",
    "rf_feat_imps_y_uns.plot(kind='bar')\n",
    "plt.xlabel('features')\n",
    "plt.ylabel('SS ( X only )  |  importance')\n",
    "plt.title('Best random forest regressor feature importances');"
   ]
  },
  {
   "cell_type": "code",
   "execution_count": null,
   "metadata": {},
   "outputs": [],
   "source": []
  },
  {
   "cell_type": "code",
   "execution_count": null,
   "metadata": {},
   "outputs": [],
   "source": []
  },
  {
   "cell_type": "markdown",
   "metadata": {},
   "source": [
    "**4.1.3 X & y ( `_LG` )**"
   ]
  },
  {
   "cell_type": "code",
   "execution_count": 81,
   "metadata": {},
   "outputs": [],
   "source": [
    "pipe_LG = make_pipeline(\n",
    "    SimpleImputer(strategy='median'), \n",
    "    PowerTransformer(),\n",
    "    SelectKBest(f_regression),\n",
    "    LinearRegression() # LogisticRegression() is for predicting 0 & 1\n",
    ")"
   ]
  },
  {
   "cell_type": "code",
   "execution_count": 82,
   "metadata": {},
   "outputs": [],
   "source": [
    "k_LG = [k_LG+1 for k_LG in range(len(X_train_LG.columns))]\n",
    "grid_params_LG = {'selectkbest__k': k_LG}"
   ]
  },
  {
   "cell_type": "code",
   "execution_count": 83,
   "metadata": {
    "scrolled": true
   },
   "outputs": [],
   "source": [
    "lr_grid_cv_LG = GridSearchCV(pipe_LG, param_grid=grid_params_LG, cv=5, n_jobs=-1)"
   ]
  },
  {
   "cell_type": "code",
   "execution_count": 84,
   "metadata": {},
   "outputs": [
    {
     "name": "stderr",
     "output_type": "stream",
     "text": [
      "C:\\Users\\rands\\anaconda3\\lib\\site-packages\\sklearn\\utils\\validation.py:72: DataConversionWarning: A column-vector y was passed when a 1d array was expected. Please change the shape of y to (n_samples, ), for example using ravel().\n",
      "  return f(**kwargs)\n"
     ]
    },
    {
     "data": {
      "text/plain": [
       "GridSearchCV(cv=5,\n",
       "             estimator=Pipeline(steps=[('simpleimputer',\n",
       "                                        SimpleImputer(strategy='median')),\n",
       "                                       ('powertransformer', PowerTransformer()),\n",
       "                                       ('selectkbest',\n",
       "                                        SelectKBest(score_func=<function f_regression at 0x000002787D8EE310>)),\n",
       "                                       ('linearregression',\n",
       "                                        LinearRegression())]),\n",
       "             n_jobs=-1,\n",
       "             param_grid={'selectkbest__k': [1, 2, 3, 4, 5, 6, 7, 8, 9, 10, 11,\n",
       "                                            12, 13, 14, 15, 16, 17, 18, 19]})"
      ]
     },
     "execution_count": 84,
     "metadata": {},
     "output_type": "execute_result"
    }
   ],
   "source": [
    "lr_grid_cv_LG.fit(X_train_LG, y_train_LG)"
   ]
  },
  {
   "cell_type": "code",
   "execution_count": 85,
   "metadata": {},
   "outputs": [],
   "source": [
    "score_mean_LG = lr_grid_cv_LG.cv_results_['mean_test_score']\n",
    "score_std_LG = lr_grid_cv_LG.cv_results_['std_test_score']\n",
    "cv_k_LG = [k_LG for k_LG in lr_grid_cv_LG.cv_results_['param_selectkbest__k']]"
   ]
  },
  {
   "cell_type": "code",
   "execution_count": 86,
   "metadata": {},
   "outputs": [
    {
     "data": {
      "text/plain": [
       "{'selectkbest__k': 2}"
      ]
     },
     "execution_count": 86,
     "metadata": {},
     "output_type": "execute_result"
    }
   ],
   "source": [
    "lr_grid_cv_LG.best_params_"
   ]
  },
  {
   "cell_type": "code",
   "execution_count": 87,
   "metadata": {
    "scrolled": true
   },
   "outputs": [
    {
     "data": {
      "image/png": "[encoded data removed]",
      "text/plain": [
       "<Figure size 720x360 with 1 Axes>"
      ]
     },
     "metadata": {
      "needs_background": "light"
     },
     "output_type": "display_data"
    }
   ],
   "source": [
    "best_k_LG = lr_grid_cv_LG.best_params_['selectkbest__k']\n",
    "plt.subplots(figsize=(10, 5))\n",
    "plt.errorbar(cv_k_LG, score_mean_LG, yerr=score_std_LG)\n",
    "plt.axvline(x=best_k_LG, c='r', ls='--', alpha=.5)\n",
    "plt.xlabel('k')\n",
    "plt.ylabel('LG ( X & y )  |  CV score (r-squared)')\n",
    "plt.title('LG ( X & y )  |  Pipeline mean CV score (error bars +/- 1sd)');"
   ]
  },
  {
   "cell_type": "code",
   "execution_count": 88,
   "metadata": {},
   "outputs": [],
   "source": [
    "RF_pipe_LG = make_pipeline(\n",
    "    SimpleImputer(strategy='median'),\n",
    "    PowerTransformer(),\n",
    "    RandomForestRegressor(random_state=47)\n",
    ")"
   ]
  },
  {
   "cell_type": "markdown",
   "metadata": {},
   "source": [
    "**4.1.3.1  Fit & assess performance using cross-validation**"
   ]
  },
  {
   "cell_type": "code",
   "execution_count": 89,
   "metadata": {},
   "outputs": [
    {
     "name": "stderr",
     "output_type": "stream",
     "text": [
      "C:\\Users\\rands\\anaconda3\\lib\\site-packages\\sklearn\\pipeline.py:335: DataConversionWarning: A column-vector y was passed when a 1d array was expected. Please change the shape of y to (n_samples,), for example using ravel().\n",
      "  self._final_estimator.fit(Xt, y, **fit_params_last_step)\n",
      "C:\\Users\\rands\\anaconda3\\lib\\site-packages\\sklearn\\pipeline.py:335: DataConversionWarning: A column-vector y was passed when a 1d array was expected. Please change the shape of y to (n_samples,), for example using ravel().\n",
      "  self._final_estimator.fit(Xt, y, **fit_params_last_step)\n",
      "C:\\Users\\rands\\anaconda3\\lib\\site-packages\\sklearn\\pipeline.py:335: DataConversionWarning: A column-vector y was passed when a 1d array was expected. Please change the shape of y to (n_samples,), for example using ravel().\n",
      "  self._final_estimator.fit(Xt, y, **fit_params_last_step)\n",
      "C:\\Users\\rands\\anaconda3\\lib\\site-packages\\sklearn\\pipeline.py:335: DataConversionWarning: A column-vector y was passed when a 1d array was expected. Please change the shape of y to (n_samples,), for example using ravel().\n",
      "  self._final_estimator.fit(Xt, y, **fit_params_last_step)\n",
      "C:\\Users\\rands\\anaconda3\\lib\\site-packages\\sklearn\\pipeline.py:335: DataConversionWarning: A column-vector y was passed when a 1d array was expected. Please change the shape of y to (n_samples,), for example using ravel().\n",
      "  self._final_estimator.fit(Xt, y, **fit_params_last_step)\n"
     ]
    }
   ],
   "source": [
    "rf_default_cv_results_LG = cross_validate(RF_pipe_LG, X_train_LG, y_train_LG, cv=5)"
   ]
  },
  {
   "cell_type": "code",
   "execution_count": 90,
   "metadata": {},
   "outputs": [
    {
     "data": {
      "text/plain": [
       "array([ 0.48470773,  0.30720991,  0.34482142,  0.18603711, -0.15241307])"
      ]
     },
     "execution_count": 90,
     "metadata": {},
     "output_type": "execute_result"
    }
   ],
   "source": [
    "rf_cv_scores_LG = rf_default_cv_results_LG['test_score']\n",
    "rf_cv_scores_LG"
   ]
  },
  {
   "cell_type": "code",
   "execution_count": 91,
   "metadata": {},
   "outputs": [
    {
     "data": {
      "text/plain": [
       "(0.23407261893650885, 0.21545807708300357)"
      ]
     },
     "execution_count": 91,
     "metadata": {},
     "output_type": "execute_result"
    }
   ],
   "source": [
    "np.mean(rf_cv_scores_LG), np.std(rf_cv_scores_LG)"
   ]
  },
  {
   "cell_type": "markdown",
   "metadata": {},
   "source": [
    "**4.1.3.2 Hyperparameter search using GridSearchCV**"
   ]
  },
  {
   "cell_type": "code",
   "execution_count": 92,
   "metadata": {},
   "outputs": [
    {
     "data": {
      "text/plain": [
       "{'randomforestregressor__n_estimators': [10,\n",
       "  12,\n",
       "  16,\n",
       "  20,\n",
       "  26,\n",
       "  33,\n",
       "  42,\n",
       "  54,\n",
       "  69,\n",
       "  88,\n",
       "  112,\n",
       "  143,\n",
       "  183,\n",
       "  233,\n",
       "  297,\n",
       "  379,\n",
       "  483,\n",
       "  615,\n",
       "  784,\n",
       "  1000],\n",
       " 'powertransformer': [PowerTransformer(), None],\n",
       " 'simpleimputer__strategy': ['mean', 'median']}"
      ]
     },
     "execution_count": 92,
     "metadata": {},
     "output_type": "execute_result"
    }
   ],
   "source": [
    "n_est_LG = [int(n) for n in np.logspace(start=1, stop=3, num=20)]\n",
    "grid_params_LG = {\n",
    "        'randomforestregressor__n_estimators': n_est,\n",
    "        'powertransformer': [PowerTransformer(), None],\n",
    "        'simpleimputer__strategy': ['mean', 'median']\n",
    "}\n",
    "grid_params_LG"
   ]
  },
  {
   "cell_type": "code",
   "execution_count": 93,
   "metadata": {},
   "outputs": [],
   "source": [
    "rf_grid_cv_LG = GridSearchCV(RF_pipe_LG, param_grid=grid_params_LG, cv=5, n_jobs=-1)"
   ]
  },
  {
   "cell_type": "code",
   "execution_count": 94,
   "metadata": {},
   "outputs": [
    {
     "name": "stderr",
     "output_type": "stream",
     "text": [
      "C:\\Users\\rands\\anaconda3\\lib\\site-packages\\sklearn\\pipeline.py:335: DataConversionWarning: A column-vector y was passed when a 1d array was expected. Please change the shape of y to (n_samples,), for example using ravel().\n",
      "  self._final_estimator.fit(Xt, y, **fit_params_last_step)\n"
     ]
    },
    {
     "data": {
      "text/plain": [
       "GridSearchCV(cv=5,\n",
       "             estimator=Pipeline(steps=[('simpleimputer',\n",
       "                                        SimpleImputer(strategy='median')),\n",
       "                                       ('powertransformer', PowerTransformer()),\n",
       "                                       ('randomforestregressor',\n",
       "                                        RandomForestRegressor(random_state=47))]),\n",
       "             n_jobs=-1,\n",
       "             param_grid={'powertransformer': [PowerTransformer(), None],\n",
       "                         'randomforestregressor__n_estimators': [10, 12, 16, 20,\n",
       "                                                                 26, 33, 42, 54,\n",
       "                                                                 69, 88, 112,\n",
       "                                                                 143, 183, 233,\n",
       "                                                                 297, 379, 483,\n",
       "                                                                 615, 784,\n",
       "                                                                 1000],\n",
       "                         'simpleimputer__strategy': ['mean', 'median']})"
      ]
     },
     "execution_count": 94,
     "metadata": {},
     "output_type": "execute_result"
    }
   ],
   "source": [
    "rf_grid_cv_LG.fit(X_train_LG, y_train_LG)"
   ]
  },
  {
   "cell_type": "code",
   "execution_count": 95,
   "metadata": {},
   "outputs": [
    {
     "data": {
      "text/plain": [
       "{'powertransformer': None,\n",
       " 'randomforestregressor__n_estimators': 297,\n",
       " 'simpleimputer__strategy': 'mean'}"
      ]
     },
     "execution_count": 95,
     "metadata": {},
     "output_type": "execute_result"
    }
   ],
   "source": [
    "rf_grid_cv_LG.best_params_"
   ]
  },
  {
   "cell_type": "code",
   "execution_count": 96,
   "metadata": {},
   "outputs": [
    {
     "name": "stderr",
     "output_type": "stream",
     "text": [
      "C:\\Users\\rands\\anaconda3\\lib\\site-packages\\sklearn\\pipeline.py:335: DataConversionWarning: A column-vector y was passed when a 1d array was expected. Please change the shape of y to (n_samples,), for example using ravel().\n",
      "  self._final_estimator.fit(Xt, y, **fit_params_last_step)\n",
      "C:\\Users\\rands\\anaconda3\\lib\\site-packages\\sklearn\\pipeline.py:335: DataConversionWarning: A column-vector y was passed when a 1d array was expected. Please change the shape of y to (n_samples,), for example using ravel().\n",
      "  self._final_estimator.fit(Xt, y, **fit_params_last_step)\n",
      "C:\\Users\\rands\\anaconda3\\lib\\site-packages\\sklearn\\pipeline.py:335: DataConversionWarning: A column-vector y was passed when a 1d array was expected. Please change the shape of y to (n_samples,), for example using ravel().\n",
      "  self._final_estimator.fit(Xt, y, **fit_params_last_step)\n",
      "C:\\Users\\rands\\anaconda3\\lib\\site-packages\\sklearn\\pipeline.py:335: DataConversionWarning: A column-vector y was passed when a 1d array was expected. Please change the shape of y to (n_samples,), for example using ravel().\n",
      "  self._final_estimator.fit(Xt, y, **fit_params_last_step)\n",
      "C:\\Users\\rands\\anaconda3\\lib\\site-packages\\sklearn\\pipeline.py:335: DataConversionWarning: A column-vector y was passed when a 1d array was expected. Please change the shape of y to (n_samples,), for example using ravel().\n",
      "  self._final_estimator.fit(Xt, y, **fit_params_last_step)\n"
     ]
    },
    {
     "data": {
      "text/plain": [
       "array([ 0.48565687,  0.31156905,  0.36999933,  0.23177919, -0.12490394])"
      ]
     },
     "execution_count": 96,
     "metadata": {},
     "output_type": "execute_result"
    }
   ],
   "source": [
    "rf_best_cv_results_LG = cross_validate(rf_grid_cv_LG.best_estimator_, X_train_LG, y_train_LG, cv=5)\n",
    "rf_best_scores_LG = rf_best_cv_results_LG['test_score']\n",
    "rf_best_scores_LG"
   ]
  },
  {
   "cell_type": "code",
   "execution_count": 97,
   "metadata": {},
   "outputs": [
    {
     "data": {
      "text/plain": [
       "(0.25482010168020996, 0.2071200351754669)"
      ]
     },
     "execution_count": 97,
     "metadata": {},
     "output_type": "execute_result"
    }
   ],
   "source": [
    "np.mean(rf_best_scores_LG), np.std(rf_best_scores_LG)"
   ]
  },
  {
   "cell_type": "code",
   "execution_count": 98,
   "metadata": {
    "scrolled": true
   },
   "outputs": [
    {
     "data": {
      "image/png": "[encoded data removed]",
      "text/plain": [
       "<Figure size 720x360 with 1 Axes>"
      ]
     },
     "metadata": {
      "needs_background": "light"
     },
     "output_type": "display_data"
    }
   ],
   "source": [
    "plt.subplots(figsize=(10, 5))\n",
    "imps_LG = rf_grid_cv_LG.best_estimator_.named_steps.randomforestregressor.feature_importances_\n",
    "rf_feat_imps_LG = pd.Series(imps_LG, index=X_train_LG.columns).sort_values(ascending=False)\n",
    "rf_feat_imps_LG.plot(kind='bar')\n",
    "plt.xlabel('features')\n",
    "plt.ylabel('LG ( X & y )  |  importance')\n",
    "plt.title('Best random forest regressor feature importances');"
   ]
  },
  {
   "cell_type": "code",
   "execution_count": null,
   "metadata": {},
   "outputs": [],
   "source": []
  },
  {
   "cell_type": "code",
   "execution_count": null,
   "metadata": {},
   "outputs": [],
   "source": []
  },
  {
   "cell_type": "markdown",
   "metadata": {},
   "source": [
    "**4.1.4 X only ( `_LG_y_uns` )**"
   ]
  },
  {
   "cell_type": "code",
   "execution_count": 99,
   "metadata": {},
   "outputs": [],
   "source": [
    "pipe_LG_y_uns = make_pipeline(\n",
    "    SimpleImputer(strategy='median'), \n",
    "    PowerTransformer(),\n",
    "    SelectKBest(f_regression),\n",
    "    LinearRegression() # should this be LogisticRegression()\n",
    ")"
   ]
  },
  {
   "cell_type": "code",
   "execution_count": 100,
   "metadata": {},
   "outputs": [],
   "source": [
    "k_LG_y_uns = [k_LG_y_uns+1 for k_LG_y_uns in range(len(X_train_LG_y_uns.columns))]\n",
    "grid_params_LG_y_uns = {'selectkbest__k': k_LG_y_uns}"
   ]
  },
  {
   "cell_type": "code",
   "execution_count": 101,
   "metadata": {
    "scrolled": true
   },
   "outputs": [],
   "source": [
    "lr_grid_cv_LG_y_uns = GridSearchCV(pipe_LG_y_uns, param_grid=grid_params_LG_y_uns, cv=5, n_jobs=-1)"
   ]
  },
  {
   "cell_type": "code",
   "execution_count": 102,
   "metadata": {},
   "outputs": [
    {
     "name": "stderr",
     "output_type": "stream",
     "text": [
      "C:\\Users\\rands\\anaconda3\\lib\\site-packages\\sklearn\\utils\\validation.py:72: DataConversionWarning: A column-vector y was passed when a 1d array was expected. Please change the shape of y to (n_samples, ), for example using ravel().\n",
      "  return f(**kwargs)\n"
     ]
    },
    {
     "data": {
      "text/plain": [
       "GridSearchCV(cv=5,\n",
       "             estimator=Pipeline(steps=[('simpleimputer',\n",
       "                                        SimpleImputer(strategy='median')),\n",
       "                                       ('powertransformer', PowerTransformer()),\n",
       "                                       ('selectkbest',\n",
       "                                        SelectKBest(score_func=<function f_regression at 0x000002787D8EE310>)),\n",
       "                                       ('linearregression',\n",
       "                                        LinearRegression())]),\n",
       "             n_jobs=-1,\n",
       "             param_grid={'selectkbest__k': [1, 2, 3, 4, 5, 6, 7, 8, 9, 10, 11,\n",
       "                                            12, 13, 14, 15, 16, 17, 18, 19]})"
      ]
     },
     "execution_count": 102,
     "metadata": {},
     "output_type": "execute_result"
    }
   ],
   "source": [
    "lr_grid_cv_LG_y_uns.fit(X_train_LG_y_uns, y_train_LG_y_uns)"
   ]
  },
  {
   "cell_type": "code",
   "execution_count": 103,
   "metadata": {},
   "outputs": [],
   "source": [
    "score_mean_LG_y_uns = lr_grid_cv_LG_y_uns.cv_results_['mean_test_score']\n",
    "score_std_LG_y_uns = lr_grid_cv_LG_y_uns.cv_results_['std_test_score']\n",
    "cv_k_LG_y_uns = [k_LG_y_uns for k_LG_y_uns in lr_grid_cv_LG_y_uns.cv_results_['param_selectkbest__k']]"
   ]
  },
  {
   "cell_type": "code",
   "execution_count": 104,
   "metadata": {},
   "outputs": [
    {
     "data": {
      "text/plain": [
       "{'selectkbest__k': 2}"
      ]
     },
     "execution_count": 104,
     "metadata": {},
     "output_type": "execute_result"
    }
   ],
   "source": [
    "lr_grid_cv_LG_y_uns.best_params_"
   ]
  },
  {
   "cell_type": "code",
   "execution_count": 105,
   "metadata": {
    "scrolled": false
   },
   "outputs": [
    {
     "data": {
      "image/png": "[encoded data removed]",
      "text/plain": [
       "<Figure size 720x360 with 1 Axes>"
      ]
     },
     "metadata": {
      "needs_background": "light"
     },
     "output_type": "display_data"
    }
   ],
   "source": [
    "best_k_LG_y_uns = lr_grid_cv_LG_y_uns.best_params_['selectkbest__k']\n",
    "plt.subplots(figsize=(10, 5))\n",
    "plt.errorbar(cv_k_LG_y_uns, score_mean_LG_y_uns, yerr=score_std_LG_y_uns)\n",
    "plt.axvline(x=best_k_LG_y_uns, c='r', ls='--', alpha=.5)\n",
    "plt.xlabel('k')\n",
    "plt.ylabel('LG ( X only )  |  CV score (r-squared)')\n",
    "plt.title('LG ( X only )  |  Pipeline mean CV score (error bars +/- 1sd)');"
   ]
  },
  {
   "cell_type": "code",
   "execution_count": 106,
   "metadata": {},
   "outputs": [],
   "source": [
    "RF_pipe_LG_y_uns = make_pipeline(\n",
    "    SimpleImputer(strategy='median'),\n",
    "    PowerTransformer(),\n",
    "    RandomForestRegressor(random_state=47)\n",
    ")"
   ]
  },
  {
   "cell_type": "markdown",
   "metadata": {},
   "source": [
    "**4.1.4.1 Fit & assess performance using cross-validation**"
   ]
  },
  {
   "cell_type": "code",
   "execution_count": 107,
   "metadata": {},
   "outputs": [
    {
     "name": "stderr",
     "output_type": "stream",
     "text": [
      "C:\\Users\\rands\\anaconda3\\lib\\site-packages\\sklearn\\pipeline.py:335: DataConversionWarning: A column-vector y was passed when a 1d array was expected. Please change the shape of y to (n_samples,), for example using ravel().\n",
      "  self._final_estimator.fit(Xt, y, **fit_params_last_step)\n",
      "C:\\Users\\rands\\anaconda3\\lib\\site-packages\\sklearn\\pipeline.py:335: DataConversionWarning: A column-vector y was passed when a 1d array was expected. Please change the shape of y to (n_samples,), for example using ravel().\n",
      "  self._final_estimator.fit(Xt, y, **fit_params_last_step)\n",
      "C:\\Users\\rands\\anaconda3\\lib\\site-packages\\sklearn\\pipeline.py:335: DataConversionWarning: A column-vector y was passed when a 1d array was expected. Please change the shape of y to (n_samples,), for example using ravel().\n",
      "  self._final_estimator.fit(Xt, y, **fit_params_last_step)\n",
      "C:\\Users\\rands\\anaconda3\\lib\\site-packages\\sklearn\\pipeline.py:335: DataConversionWarning: A column-vector y was passed when a 1d array was expected. Please change the shape of y to (n_samples,), for example using ravel().\n",
      "  self._final_estimator.fit(Xt, y, **fit_params_last_step)\n",
      "C:\\Users\\rands\\anaconda3\\lib\\site-packages\\sklearn\\pipeline.py:335: DataConversionWarning: A column-vector y was passed when a 1d array was expected. Please change the shape of y to (n_samples,), for example using ravel().\n",
      "  self._final_estimator.fit(Xt, y, **fit_params_last_step)\n"
     ]
    }
   ],
   "source": [
    "rf_default_cv_results_LG_y_uns = cross_validate(RF_pipe_LG_y_uns, X_train_LG_y_uns, y_train_LG_y_uns, cv=5)"
   ]
  },
  {
   "cell_type": "code",
   "execution_count": 108,
   "metadata": {},
   "outputs": [
    {
     "data": {
      "text/plain": [
       "array([ 0.48155345,  0.29606332,  0.35453597,  0.17625677, -0.20471937])"
      ]
     },
     "execution_count": 108,
     "metadata": {},
     "output_type": "execute_result"
    }
   ],
   "source": [
    "rf_cv_scores_LG_y_uns = rf_default_cv_results_LG_y_uns['test_score']\n",
    "rf_cv_scores_LG_y_uns"
   ]
  },
  {
   "cell_type": "code",
   "execution_count": 109,
   "metadata": {},
   "outputs": [
    {
     "data": {
      "text/plain": [
       "(0.22073802859193217, 0.23434720081397034)"
      ]
     },
     "execution_count": 109,
     "metadata": {},
     "output_type": "execute_result"
    }
   ],
   "source": [
    "np.mean(rf_cv_scores_LG_y_uns), np.std(rf_cv_scores_LG_y_uns)"
   ]
  },
  {
   "cell_type": "markdown",
   "metadata": {},
   "source": [
    "**4.1.4.2 Hyperparameter search using GridSearchCV**"
   ]
  },
  {
   "cell_type": "code",
   "execution_count": 110,
   "metadata": {},
   "outputs": [
    {
     "data": {
      "text/plain": [
       "{'randomforestregressor__n_estimators': [10,\n",
       "  12,\n",
       "  16,\n",
       "  20,\n",
       "  26,\n",
       "  33,\n",
       "  42,\n",
       "  54,\n",
       "  69,\n",
       "  88,\n",
       "  112,\n",
       "  143,\n",
       "  183,\n",
       "  233,\n",
       "  297,\n",
       "  379,\n",
       "  483,\n",
       "  615,\n",
       "  784,\n",
       "  1000],\n",
       " 'powertransformer': [PowerTransformer(), None],\n",
       " 'simpleimputer__strategy': ['mean', 'median']}"
      ]
     },
     "execution_count": 110,
     "metadata": {},
     "output_type": "execute_result"
    }
   ],
   "source": [
    "n_est_LG_y_uns = [int(n) for n in np.logspace(start=1, stop=3, num=20)]\n",
    "grid_params_LG_y_uns = {\n",
    "        'randomforestregressor__n_estimators': n_est,\n",
    "        'powertransformer': [PowerTransformer(), None],\n",
    "        'simpleimputer__strategy': ['mean', 'median']\n",
    "}\n",
    "grid_params_LG_y_uns"
   ]
  },
  {
   "cell_type": "code",
   "execution_count": 111,
   "metadata": {},
   "outputs": [],
   "source": [
    "rf_grid_cv_LG_y_uns = GridSearchCV(RF_pipe_LG_y_uns, param_grid=grid_params_LG_y_uns, cv=5, n_jobs=-1)"
   ]
  },
  {
   "cell_type": "code",
   "execution_count": 112,
   "metadata": {},
   "outputs": [
    {
     "name": "stderr",
     "output_type": "stream",
     "text": [
      "C:\\Users\\rands\\anaconda3\\lib\\site-packages\\sklearn\\pipeline.py:335: DataConversionWarning: A column-vector y was passed when a 1d array was expected. Please change the shape of y to (n_samples,), for example using ravel().\n",
      "  self._final_estimator.fit(Xt, y, **fit_params_last_step)\n"
     ]
    },
    {
     "data": {
      "text/plain": [
       "GridSearchCV(cv=5,\n",
       "             estimator=Pipeline(steps=[('simpleimputer',\n",
       "                                        SimpleImputer(strategy='median')),\n",
       "                                       ('powertransformer', PowerTransformer()),\n",
       "                                       ('randomforestregressor',\n",
       "                                        RandomForestRegressor(random_state=47))]),\n",
       "             n_jobs=-1,\n",
       "             param_grid={'powertransformer': [PowerTransformer(), None],\n",
       "                         'randomforestregressor__n_estimators': [10, 12, 16, 20,\n",
       "                                                                 26, 33, 42, 54,\n",
       "                                                                 69, 88, 112,\n",
       "                                                                 143, 183, 233,\n",
       "                                                                 297, 379, 483,\n",
       "                                                                 615, 784,\n",
       "                                                                 1000],\n",
       "                         'simpleimputer__strategy': ['mean', 'median']})"
      ]
     },
     "execution_count": 112,
     "metadata": {},
     "output_type": "execute_result"
    }
   ],
   "source": [
    "rf_grid_cv_LG_y_uns.fit(X_train_LG_y_uns, y_train_LG_y_uns)"
   ]
  },
  {
   "cell_type": "code",
   "execution_count": 113,
   "metadata": {},
   "outputs": [
    {
     "data": {
      "text/plain": [
       "{'powertransformer': None,\n",
       " 'randomforestregressor__n_estimators': 297,\n",
       " 'simpleimputer__strategy': 'mean'}"
      ]
     },
     "execution_count": 113,
     "metadata": {},
     "output_type": "execute_result"
    }
   ],
   "source": [
    "rf_grid_cv_LG_y_uns.best_params_"
   ]
  },
  {
   "cell_type": "code",
   "execution_count": 114,
   "metadata": {},
   "outputs": [
    {
     "name": "stderr",
     "output_type": "stream",
     "text": [
      "C:\\Users\\rands\\anaconda3\\lib\\site-packages\\sklearn\\pipeline.py:335: DataConversionWarning: A column-vector y was passed when a 1d array was expected. Please change the shape of y to (n_samples,), for example using ravel().\n",
      "  self._final_estimator.fit(Xt, y, **fit_params_last_step)\n",
      "C:\\Users\\rands\\anaconda3\\lib\\site-packages\\sklearn\\pipeline.py:335: DataConversionWarning: A column-vector y was passed when a 1d array was expected. Please change the shape of y to (n_samples,), for example using ravel().\n",
      "  self._final_estimator.fit(Xt, y, **fit_params_last_step)\n",
      "C:\\Users\\rands\\anaconda3\\lib\\site-packages\\sklearn\\pipeline.py:335: DataConversionWarning: A column-vector y was passed when a 1d array was expected. Please change the shape of y to (n_samples,), for example using ravel().\n",
      "  self._final_estimator.fit(Xt, y, **fit_params_last_step)\n",
      "C:\\Users\\rands\\anaconda3\\lib\\site-packages\\sklearn\\pipeline.py:335: DataConversionWarning: A column-vector y was passed when a 1d array was expected. Please change the shape of y to (n_samples,), for example using ravel().\n",
      "  self._final_estimator.fit(Xt, y, **fit_params_last_step)\n",
      "C:\\Users\\rands\\anaconda3\\lib\\site-packages\\sklearn\\pipeline.py:335: DataConversionWarning: A column-vector y was passed when a 1d array was expected. Please change the shape of y to (n_samples,), for example using ravel().\n",
      "  self._final_estimator.fit(Xt, y, **fit_params_last_step)\n"
     ]
    },
    {
     "data": {
      "text/plain": [
       "array([ 0.48413362,  0.29577962,  0.37478196,  0.23888659, -0.17556269])"
      ]
     },
     "execution_count": 114,
     "metadata": {},
     "output_type": "execute_result"
    }
   ],
   "source": [
    "rf_best_cv_results_LG_y_uns = cross_validate(rf_grid_cv_LG_y_uns.best_estimator_, X_train_LG_y_uns, y_train_LG_y_uns, cv=5)\n",
    "rf_best_scores_LG_y_uns = rf_best_cv_results_LG_y_uns['test_score']\n",
    "rf_best_scores_LG_y_uns"
   ]
  },
  {
   "cell_type": "code",
   "execution_count": 115,
   "metadata": {},
   "outputs": [
    {
     "data": {
      "text/plain": [
       "(0.2436038193611521, 0.22516989704125062)"
      ]
     },
     "execution_count": 115,
     "metadata": {},
     "output_type": "execute_result"
    }
   ],
   "source": [
    "np.mean(rf_best_scores_LG_y_uns), np.std(rf_best_scores_LG_y_uns)"
   ]
  },
  {
   "cell_type": "code",
   "execution_count": 116,
   "metadata": {
    "scrolled": true
   },
   "outputs": [
    {
     "data": {
      "image/png": "[encoded data removed]",
      "text/plain": [
       "<Figure size 720x360 with 1 Axes>"
      ]
     },
     "metadata": {
      "needs_background": "light"
     },
     "output_type": "display_data"
    }
   ],
   "source": [
    "plt.subplots(figsize=(10, 5))\n",
    "imps_LG_y_uns = rf_grid_cv_LG_y_uns.best_estimator_.named_steps.randomforestregressor.feature_importances_\n",
    "rf_feat_imps_LG_y_uns = pd.Series(imps_LG_y_uns, index=X_train_LG_y_uns.columns).sort_values(ascending=False)\n",
    "rf_feat_imps_LG_y_uns.plot(kind='bar')\n",
    "plt.xlabel('features')\n",
    "plt.ylabel('LG ( X only )  |  importance')\n",
    "plt.title('Best random forest regressor feature importances');"
   ]
  },
  {
   "cell_type": "code",
   "execution_count": null,
   "metadata": {},
   "outputs": [],
   "source": []
  },
  {
   "cell_type": "code",
   "execution_count": null,
   "metadata": {},
   "outputs": [],
   "source": []
  },
  {
   "cell_type": "markdown",
   "metadata": {},
   "source": [
    "**4.1.5 Combination of `SS` & `LG` for X only ( `_SS_LG` )**"
   ]
  },
  {
   "cell_type": "code",
   "execution_count": 117,
   "metadata": {},
   "outputs": [],
   "source": [
    "# Keeping these here for easier referance; they apply to the Standard Scaler for X only\n",
    "# X_tr_SS_LG\n",
    "# y_tr_y_uns\n",
    "# X_te_SS_LG\n",
    "# y_te_y_uns\n"
   ]
  },
  {
   "cell_type": "code",
   "execution_count": 118,
   "metadata": {},
   "outputs": [],
   "source": [
    "pipe__SS_LG = make_pipeline(\n",
    "    SimpleImputer(strategy='median'), \n",
    "    StandardScaler(),\n",
    "    SelectKBest(f_regression),\n",
    "    LinearRegression() # should this be LogisticRegression()\n",
    ")"
   ]
  },
  {
   "cell_type": "code",
   "execution_count": 119,
   "metadata": {},
   "outputs": [],
   "source": [
    "k_SS_LG = [k_SS_LG+1 for k_SS_LG in range(len(X_tr_SS_LG.columns))]\n",
    "grid_params_SS_LG = {'selectkbest__k': k_SS_LG}"
   ]
  },
  {
   "cell_type": "code",
   "execution_count": 120,
   "metadata": {
    "scrolled": true
   },
   "outputs": [],
   "source": [
    "lr_grid_cv_SS_LG = GridSearchCV(pipe__SS_LG, param_grid=grid_params_SS_LG, cv=5, n_jobs=-1)"
   ]
  },
  {
   "cell_type": "code",
   "execution_count": 121,
   "metadata": {},
   "outputs": [
    {
     "name": "stderr",
     "output_type": "stream",
     "text": [
      "C:\\Users\\rands\\anaconda3\\lib\\site-packages\\sklearn\\utils\\validation.py:72: DataConversionWarning: A column-vector y was passed when a 1d array was expected. Please change the shape of y to (n_samples, ), for example using ravel().\n",
      "  return f(**kwargs)\n"
     ]
    },
    {
     "data": {
      "text/plain": [
       "GridSearchCV(cv=5,\n",
       "             estimator=Pipeline(steps=[('simpleimputer',\n",
       "                                        SimpleImputer(strategy='median')),\n",
       "                                       ('standardscaler', StandardScaler()),\n",
       "                                       ('selectkbest',\n",
       "                                        SelectKBest(score_func=<function f_regression at 0x000002787D8EE310>)),\n",
       "                                       ('linearregression',\n",
       "                                        LinearRegression())]),\n",
       "             n_jobs=-1,\n",
       "             param_grid={'selectkbest__k': [1, 2, 3, 4, 5, 6, 7, 8, 9, 10, 11,\n",
       "                                            12, 13, 14, 15, 16, 17, 18, 19]})"
      ]
     },
     "execution_count": 121,
     "metadata": {},
     "output_type": "execute_result"
    }
   ],
   "source": [
    "lr_grid_cv_SS_LG.fit(X_tr_SS_LG, y_tr_y_uns)"
   ]
  },
  {
   "cell_type": "code",
   "execution_count": 125,
   "metadata": {},
   "outputs": [],
   "source": [
    "score_mean_SS_LG = lr_grid_cv_SS_LG.cv_results_['mean_test_score']\n",
    "score_std_SS_LG = lr_grid_cv_SS_LG.cv_results_['std_test_score']\n",
    "cv_k_SS_LG = [k_SS_LG for k_SS_LG in lr_grid_cv_SS_LG.cv_results_['param_selectkbest__k']]"
   ]
  },
  {
   "cell_type": "code",
   "execution_count": 126,
   "metadata": {},
   "outputs": [
    {
     "data": {
      "text/plain": [
       "{'selectkbest__k': 2}"
      ]
     },
     "execution_count": 126,
     "metadata": {},
     "output_type": "execute_result"
    }
   ],
   "source": [
    "lr_grid_cv_SS_LG.best_params_"
   ]
  },
  {
   "cell_type": "code",
   "execution_count": 127,
   "metadata": {
    "scrolled": false
   },
   "outputs": [
    {
     "data": {
      "image/png": "[encoded data removed]",
      "text/plain": [
       "<Figure size 720x360 with 1 Axes>"
      ]
     },
     "metadata": {
      "needs_background": "light"
     },
     "output_type": "display_data"
    }
   ],
   "source": [
    "best_k_SS_LG = lr_grid_cv_SS_LG.best_params_['selectkbest__k']\n",
    "plt.subplots(figsize=(10, 5))\n",
    "plt.errorbar(cv_k_SS_LG, score_mean_SS_LG, yerr=score_std_SS_LG)\n",
    "plt.axvline(x=best_k_SS_LG, c='r', ls='--', alpha=.5)\n",
    "plt.xlabel('k')\n",
    "plt.ylabel('SS & LG ( X only )  |  CV score (r-squared)')\n",
    "plt.title('SS & LG ( X only )  |  Pipeline mean CV score (error bars +/- 1sd)');"
   ]
  },
  {
   "cell_type": "code",
   "execution_count": 129,
   "metadata": {},
   "outputs": [],
   "source": [
    "RF_pipe_SS_LG = make_pipeline(\n",
    "    SimpleImputer(strategy='median'),\n",
    "    StandardScaler(),\n",
    "    RandomForestRegressor(random_state=47)\n",
    ")"
   ]
  },
  {
   "cell_type": "markdown",
   "metadata": {},
   "source": [
    "**4.1.5.1 Fit & assess performance using cross-validation**"
   ]
  },
  {
   "cell_type": "code",
   "execution_count": 130,
   "metadata": {},
   "outputs": [
    {
     "name": "stderr",
     "output_type": "stream",
     "text": [
      "C:\\Users\\rands\\anaconda3\\lib\\site-packages\\sklearn\\pipeline.py:335: DataConversionWarning: A column-vector y was passed when a 1d array was expected. Please change the shape of y to (n_samples,), for example using ravel().\n",
      "  self._final_estimator.fit(Xt, y, **fit_params_last_step)\n",
      "C:\\Users\\rands\\anaconda3\\lib\\site-packages\\sklearn\\pipeline.py:335: DataConversionWarning: A column-vector y was passed when a 1d array was expected. Please change the shape of y to (n_samples,), for example using ravel().\n",
      "  self._final_estimator.fit(Xt, y, **fit_params_last_step)\n",
      "C:\\Users\\rands\\anaconda3\\lib\\site-packages\\sklearn\\pipeline.py:335: DataConversionWarning: A column-vector y was passed when a 1d array was expected. Please change the shape of y to (n_samples,), for example using ravel().\n",
      "  self._final_estimator.fit(Xt, y, **fit_params_last_step)\n",
      "C:\\Users\\rands\\anaconda3\\lib\\site-packages\\sklearn\\pipeline.py:335: DataConversionWarning: A column-vector y was passed when a 1d array was expected. Please change the shape of y to (n_samples,), for example using ravel().\n",
      "  self._final_estimator.fit(Xt, y, **fit_params_last_step)\n",
      "C:\\Users\\rands\\anaconda3\\lib\\site-packages\\sklearn\\pipeline.py:335: DataConversionWarning: A column-vector y was passed when a 1d array was expected. Please change the shape of y to (n_samples,), for example using ravel().\n",
      "  self._final_estimator.fit(Xt, y, **fit_params_last_step)\n"
     ]
    }
   ],
   "source": [
    "rf_default_cv_results_SS_LG = cross_validate(RF_pipe_SS_LG, X_tr_SS_LG, y_tr_y_uns, cv=5)"
   ]
  },
  {
   "cell_type": "code",
   "execution_count": 131,
   "metadata": {},
   "outputs": [
    {
     "data": {
      "text/plain": [
       "array([ 0.4744572 ,  0.28358045,  0.38191614,  0.19797154, -0.1662812 ])"
      ]
     },
     "execution_count": 131,
     "metadata": {},
     "output_type": "execute_result"
    }
   ],
   "source": [
    "rf_cv_scores_SS_LG = rf_default_cv_results_SS_LG['test_score']\n",
    "rf_cv_scores_SS_LG"
   ]
  },
  {
   "cell_type": "code",
   "execution_count": 132,
   "metadata": {},
   "outputs": [
    {
     "data": {
      "text/plain": [
       "(0.23432882516603387, 0.22076214409995865)"
      ]
     },
     "execution_count": 132,
     "metadata": {},
     "output_type": "execute_result"
    }
   ],
   "source": [
    "np.mean(rf_cv_scores_SS_LG), np.std(rf_cv_scores_SS_LG)"
   ]
  },
  {
   "cell_type": "markdown",
   "metadata": {},
   "source": [
    "**4.1.5.2 Hyperparameter search using GridSearchCV**"
   ]
  },
  {
   "cell_type": "code",
   "execution_count": 133,
   "metadata": {},
   "outputs": [
    {
     "data": {
      "text/plain": [
       "{'randomforestregressor__n_estimators': [10,\n",
       "  12,\n",
       "  16,\n",
       "  20,\n",
       "  26,\n",
       "  33,\n",
       "  42,\n",
       "  54,\n",
       "  69,\n",
       "  88,\n",
       "  112,\n",
       "  143,\n",
       "  183,\n",
       "  233,\n",
       "  297,\n",
       "  379,\n",
       "  483,\n",
       "  615,\n",
       "  784,\n",
       "  1000],\n",
       " 'standardscaler': [StandardScaler(), None],\n",
       " 'simpleimputer__strategy': ['mean', 'median']}"
      ]
     },
     "execution_count": 133,
     "metadata": {},
     "output_type": "execute_result"
    }
   ],
   "source": [
    "n_est_SS_LG = [int(n) for n in np.logspace(start=1, stop=3, num=20)]\n",
    "grid_params_SS_LG = {\n",
    "        'randomforestregressor__n_estimators': n_est,\n",
    "        'standardscaler': [StandardScaler(), None],\n",
    "        'simpleimputer__strategy': ['mean', 'median']\n",
    "}\n",
    "grid_params_SS_LG"
   ]
  },
  {
   "cell_type": "code",
   "execution_count": 134,
   "metadata": {},
   "outputs": [],
   "source": [
    "rf_grid_cv_SS_LG = GridSearchCV(RF_pipe_SS_LG, param_grid=grid_params_SS_LG, cv=5, n_jobs=-1)"
   ]
  },
  {
   "cell_type": "code",
   "execution_count": 135,
   "metadata": {},
   "outputs": [
    {
     "name": "stderr",
     "output_type": "stream",
     "text": [
      "C:\\Users\\rands\\anaconda3\\lib\\site-packages\\sklearn\\pipeline.py:335: DataConversionWarning: A column-vector y was passed when a 1d array was expected. Please change the shape of y to (n_samples,), for example using ravel().\n",
      "  self._final_estimator.fit(Xt, y, **fit_params_last_step)\n"
     ]
    },
    {
     "data": {
      "text/plain": [
       "GridSearchCV(cv=5,\n",
       "             estimator=Pipeline(steps=[('simpleimputer',\n",
       "                                        SimpleImputer(strategy='median')),\n",
       "                                       ('standardscaler', StandardScaler()),\n",
       "                                       ('randomforestregressor',\n",
       "                                        RandomForestRegressor(random_state=47))]),\n",
       "             n_jobs=-1,\n",
       "             param_grid={'randomforestregressor__n_estimators': [10, 12, 16, 20,\n",
       "                                                                 26, 33, 42, 54,\n",
       "                                                                 69, 88, 112,\n",
       "                                                                 143, 183, 233,\n",
       "                                                                 297, 379, 483,\n",
       "                                                                 615, 784,\n",
       "                                                                 1000],\n",
       "                         'simpleimputer__strategy': ['mean', 'median'],\n",
       "                         'standardscaler': [StandardScaler(), None]})"
      ]
     },
     "execution_count": 135,
     "metadata": {},
     "output_type": "execute_result"
    }
   ],
   "source": [
    "rf_grid_cv_SS_LG.fit(X_tr_SS_LG, y_tr_y_uns)"
   ]
  },
  {
   "cell_type": "code",
   "execution_count": 136,
   "metadata": {},
   "outputs": [
    {
     "data": {
      "text/plain": [
       "{'randomforestregressor__n_estimators': 233,\n",
       " 'simpleimputer__strategy': 'mean',\n",
       " 'standardscaler': None}"
      ]
     },
     "execution_count": 136,
     "metadata": {},
     "output_type": "execute_result"
    }
   ],
   "source": [
    "rf_grid_cv_SS_LG.best_params_"
   ]
  },
  {
   "cell_type": "code",
   "execution_count": 137,
   "metadata": {},
   "outputs": [
    {
     "name": "stderr",
     "output_type": "stream",
     "text": [
      "C:\\Users\\rands\\anaconda3\\lib\\site-packages\\sklearn\\pipeline.py:335: DataConversionWarning: A column-vector y was passed when a 1d array was expected. Please change the shape of y to (n_samples,), for example using ravel().\n",
      "  self._final_estimator.fit(Xt, y, **fit_params_last_step)\n",
      "C:\\Users\\rands\\anaconda3\\lib\\site-packages\\sklearn\\pipeline.py:335: DataConversionWarning: A column-vector y was passed when a 1d array was expected. Please change the shape of y to (n_samples,), for example using ravel().\n",
      "  self._final_estimator.fit(Xt, y, **fit_params_last_step)\n",
      "C:\\Users\\rands\\anaconda3\\lib\\site-packages\\sklearn\\pipeline.py:335: DataConversionWarning: A column-vector y was passed when a 1d array was expected. Please change the shape of y to (n_samples,), for example using ravel().\n",
      "  self._final_estimator.fit(Xt, y, **fit_params_last_step)\n",
      "C:\\Users\\rands\\anaconda3\\lib\\site-packages\\sklearn\\pipeline.py:335: DataConversionWarning: A column-vector y was passed when a 1d array was expected. Please change the shape of y to (n_samples,), for example using ravel().\n",
      "  self._final_estimator.fit(Xt, y, **fit_params_last_step)\n",
      "C:\\Users\\rands\\anaconda3\\lib\\site-packages\\sklearn\\pipeline.py:335: DataConversionWarning: A column-vector y was passed when a 1d array was expected. Please change the shape of y to (n_samples,), for example using ravel().\n",
      "  self._final_estimator.fit(Xt, y, **fit_params_last_step)\n"
     ]
    },
    {
     "data": {
      "text/plain": [
       "array([ 0.47451799,  0.29312246,  0.37666858,  0.25133331, -0.15417633])"
      ]
     },
     "execution_count": 137,
     "metadata": {},
     "output_type": "execute_result"
    }
   ],
   "source": [
    "rf_best_cv_results_SS_LG = cross_validate(rf_grid_cv_SS_LG.best_estimator_, X_tr_SS_LG, y_tr_y_uns, cv=5)\n",
    "rf_best_scores_SS_LG = rf_best_cv_results_SS_LG['test_score']\n",
    "rf_best_scores_SS_LG"
   ]
  },
  {
   "cell_type": "code",
   "execution_count": 138,
   "metadata": {},
   "outputs": [
    {
     "data": {
      "text/plain": [
       "(0.24829320383105052, 0.21524800680553763)"
      ]
     },
     "execution_count": 138,
     "metadata": {},
     "output_type": "execute_result"
    }
   ],
   "source": [
    "np.mean(rf_best_scores_SS_LG), np.std(rf_best_scores_SS_LG)"
   ]
  },
  {
   "cell_type": "code",
   "execution_count": 139,
   "metadata": {
    "scrolled": true
   },
   "outputs": [
    {
     "data": {
      "image/png": "[encoded data removed]",
      "text/plain": [
       "<Figure size 720x360 with 1 Axes>"
      ]
     },
     "metadata": {
      "needs_background": "light"
     },
     "output_type": "display_data"
    }
   ],
   "source": [
    "plt.subplots(figsize=(10, 5))\n",
    "imps_SS_LG = rf_grid_cv_SS_LG.best_estimator_.named_steps.randomforestregressor.feature_importances_\n",
    "rf_feat_imps_SS_LG = pd.Series(imps_SS_LG, index=X_tr_SS_LG.columns).sort_values(ascending=False)\n",
    "rf_feat_imps_SS_LG.plot(kind='bar')\n",
    "plt.xlabel('features')\n",
    "plt.ylabel('SS & LG ( X only )  |  importance')\n",
    "plt.title('Best random forest regressor feature importances');"
   ]
  },
  {
   "cell_type": "markdown",
   "metadata": {},
   "source": [
    "# 4.2 Conclusion"
   ]
  },
  {
   "cell_type": "markdown",
   "metadata": {},
   "source": [
    "All models point to `Wages CPI` & `WTI` as the two ( 2 ) best variables to include & the performance diminishes thereafter.\n",
    "\n",
    "I believe we should include these only."
   ]
  },
  {
   "cell_type": "code",
   "execution_count": null,
   "metadata": {},
   "outputs": [],
   "source": []
  }
 ],
 "metadata": {
  "kernelspec": {
   "display_name": "Python 3",
   "language": "python",
   "name": "python3"
  },
  "language_info": {
   "codemirror_mode": {
    "name": "ipython",
    "version": 3
   },
   "file_extension": ".py",
   "mimetype": "text/x-python",
   "name": "python",
   "nbconvert_exporter": "python",
   "pygments_lexer": "ipython3",
   "version": "3.8.5"
  }
 },
 "nbformat": 4,
 "nbformat_minor": 4
}
