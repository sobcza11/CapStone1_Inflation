{
 "cells": [
  {
   "cell_type": "markdown",
   "metadata": {},
   "source": [
    "# Making sure we have the relevant api's installed"
   ]
  },
  {
   "cell_type": "code",
   "execution_count": 120,
   "metadata": {},
   "outputs": [
    {
     "name": "stdout",
     "output_type": "stream",
     "text": [
      "Requirement already satisfied: quandl in c:\\users\\rands\\anaconda3\\lib\\site-packages (3.5.3)\n",
      "Requirement already satisfied: numpy>=1.8 in c:\\users\\rands\\anaconda3\\lib\\site-packages (from quandl) (1.19.2)\n",
      "Requirement already satisfied: requests>=2.7.0 in c:\\users\\rands\\anaconda3\\lib\\site-packages (from quandl) (2.24.0)\n",
      "Requirement already satisfied: inflection>=0.3.1 in c:\\users\\rands\\anaconda3\\lib\\site-packages (from quandl) (0.5.1)\n",
      "Requirement already satisfied: six in c:\\users\\rands\\anaconda3\\lib\\site-packages (from quandl) (1.15.0)\n",
      "Requirement already satisfied: pandas>=0.14 in c:\\users\\rands\\anaconda3\\lib\\site-packages (from quandl) (1.1.3)\n",
      "Requirement already satisfied: more-itertools in c:\\users\\rands\\anaconda3\\lib\\site-packages (from quandl) (8.6.0)\n",
      "Requirement already satisfied: python-dateutil in c:\\users\\rands\\anaconda3\\lib\\site-packages (from quandl) (2.8.1)\n",
      "Requirement already satisfied: urllib3!=1.25.0,!=1.25.1,<1.26,>=1.21.1 in c:\\users\\rands\\anaconda3\\lib\\site-packages (from requests>=2.7.0->quandl) (1.25.11)\n",
      "Requirement already satisfied: idna<3,>=2.5 in c:\\users\\rands\\anaconda3\\lib\\site-packages (from requests>=2.7.0->quandl) (2.10)\n",
      "Requirement already satisfied: certifi>=2017.4.17 in c:\\users\\rands\\anaconda3\\lib\\site-packages (from requests>=2.7.0->quandl) (2020.6.20)\n",
      "Requirement already satisfied: chardet<4,>=3.0.2 in c:\\users\\rands\\anaconda3\\lib\\site-packages (from requests>=2.7.0->quandl) (3.0.4)\n",
      "Requirement already satisfied: pytz>=2017.2 in c:\\users\\rands\\anaconda3\\lib\\site-packages (from pandas>=0.14->quandl) (2020.1)\n",
      "Note: you may need to restart the kernel to use updated packages.\n"
     ]
    }
   ],
   "source": [
    "pip install quandl"
   ]
  },
  {
   "cell_type": "code",
   "execution_count": 121,
   "metadata": {},
   "outputs": [
    {
     "name": "stdout",
     "output_type": "stream",
     "text": [
      "Requirement already satisfied: fredapi in c:\\users\\rands\\anaconda3\\lib\\site-packages (0.4.3)\n",
      "Requirement already satisfied: pandas in c:\\users\\rands\\anaconda3\\lib\\site-packages (from fredapi) (1.1.3)\n",
      "Requirement already satisfied: numpy>=1.15.4 in c:\\users\\rands\\anaconda3\\lib\\site-packages (from pandas->fredapi) (1.19.2)\n",
      "Requirement already satisfied: pytz>=2017.2 in c:\\users\\rands\\anaconda3\\lib\\site-packages (from pandas->fredapi) (2020.1)\n",
      "Requirement already satisfied: python-dateutil>=2.7.3 in c:\\users\\rands\\anaconda3\\lib\\site-packages (from pandas->fredapi) (2.8.1)\n",
      "Requirement already satisfied: six>=1.5 in c:\\users\\rands\\anaconda3\\lib\\site-packages (from python-dateutil>=2.7.3->pandas->fredapi) (1.15.0)\n",
      "Note: you may need to restart the kernel to use updated packages.\n"
     ]
    }
   ],
   "source": [
    "pip install fredapi"
   ]
  },
  {
   "cell_type": "code",
   "execution_count": 122,
   "metadata": {},
   "outputs": [
    {
     "name": "stdout",
     "output_type": "stream",
     "text": [
      "Requirement already satisfied: yahoo-finance in c:\\users\\rands\\anaconda3\\lib\\site-packages (1.4.0)\n",
      "Requirement already satisfied: pytz in c:\\users\\rands\\anaconda3\\lib\\site-packages (from yahoo-finance) (2020.1)\n",
      "Requirement already satisfied: simplejson in c:\\users\\rands\\anaconda3\\lib\\site-packages (from yahoo-finance) (3.17.2)\n",
      "Note: you may need to restart the kernel to use updated packages.\n"
     ]
    }
   ],
   "source": [
    "pip install yahoo-finance"
   ]
  },
  {
   "cell_type": "code",
   "execution_count": 123,
   "metadata": {},
   "outputs": [],
   "source": [
    "# I first, imported the relevant modules\n",
    "import quandl\n",
    "from fredapi import Fred\n",
    "\n",
    "import requests\n",
    "import json\n",
    "import collections\n",
    "import pandas as pd\n",
    "import numpy as np\n",
    "import matplotlib.pyplot as plt\n",
    "import datetime\n",
    "import yfinance as yf\n",
    "import seaborn as sns\n",
    "import os\n",
    "import lxml\n",
    "from getpass import getpass\n",
    "\n",
    "\n",
    "today = datetime.datetime.now()\n"
   ]
  },
  {
   "cell_type": "code",
   "execution_count": 125,
   "metadata": {},
   "outputs": [
    {
     "name": "stdout",
     "output_type": "stream",
     "text": [
      "········\n"
     ]
    }
   ],
   "source": [
    "my_quandl_API = getpass()"
   ]
  },
  {
   "cell_type": "code",
   "execution_count": 126,
   "metadata": {},
   "outputs": [],
   "source": [
    "quandl.ApiConfig.api_key = my_quandl_API"
   ]
  },
  {
   "cell_type": "code",
   "execution_count": 127,
   "metadata": {},
   "outputs": [
    {
     "name": "stdout",
     "output_type": "stream",
     "text": [
      "········\n"
     ]
    }
   ],
   "source": [
    "my_FRED_API = getpass()"
   ]
  },
  {
   "cell_type": "code",
   "execution_count": 128,
   "metadata": {},
   "outputs": [],
   "source": [
    "fred = Fred(api_key=my_FRED_API)"
   ]
  },
  {
   "cell_type": "markdown",
   "metadata": {},
   "source": [
    "# Data Summary\n",
    "0.\tInflation ( link ) Quandl\n",
    "1.\tM2_growth ( link ) FRED\n",
    "2.\tUSD ( link ) Quandl\n",
    "3.\tWTI ( link ) Quandl\n",
    "4.\twages  :: I need to decide which one\n",
    "a.\tEmployed full time: Median usual weekly real earnings: ( link ) FRED\n",
    "b.\tConsumer Price Index for All Urban Wage Earners and Clerical Workers ( link ) FRED\n",
    "c.\tCompensation of Employees, Received: Wage and Salary Disbursements ( link ) FRED\n",
    "d.\tAverage Hourly Earnings of All Employees, Total Private ( link ) FRED\n",
    "i.\tLimited time horizon\n",
    "5.\tUS_GDP ( link ) FRED\n",
    "6.\tcap_util ( link ) FRED\n",
    "7.\tHome_Price ( link ) FRED\n",
    "\n",
    "# Daily\n",
    "\n",
    "USD ( link ) Yahoo Finance \\\n",
    "WTI ( link ) Investing.com\n",
    "\n",
    "# Weekly\n",
    "\n",
    "M2_growth ( link ) FRED\n",
    "\n",
    "# Monthly \n",
    "\n",
    "Inflation Quandl\\\n",
    "wages  :: I need to decide which one\n",
    "\n",
    "a.\tEmployed full time: Median usual weekly real earnings: FRED \\\n",
    "b.\tConsumer Price Index for All Urban Wage Earners and Clerical Workers FRED \\\n",
    "c.\tCompensation of Employees, Received: Wage and Salary Disbursements FRED \\\n",
    "d.\tAverage Hourly Earnings of All Employees, Total Private FRED \n",
    "\n",
    "cap_util FRED \\\n",
    "Home_Price FRED\n",
    "\n",
    "# Quarterly\n",
    "US_GDP FRED \\\n",
    "US Velocity of Money FRED\n",
    "\n"
   ]
  },
  {
   "cell_type": "markdown",
   "metadata": {},
   "source": [
    "**Number 0 | Inflation**"
   ]
  },
  {
   "cell_type": "code",
   "execution_count": 129,
   "metadata": {},
   "outputs": [],
   "source": [
    "# Now, call the Quandl API and pull out a small sample of the data (only one day) to get a glimpse\n",
    "# into the JSON structure that will be returned\n",
    "\n",
    "# url_cpi = 'https://www.quandl.com/api/v3/datasets/RATEINF/INFLATION_USA.json? + '\"&start_date=1999-01-01&end_date=2021-01-13&api_key=\" + 'LyaCVber4td6yLkPgpUX'\n",
    "\n",
    "# r = requests.get(url_cpi)\n",
    "# json_data = r.json()"
   ]
  },
  {
   "cell_type": "code",
   "execution_count": 130,
   "metadata": {},
   "outputs": [],
   "source": [
    "us_cpi = quandl.get('RATEINF/INFLATION_USA')"
   ]
  },
  {
   "cell_type": "code",
   "execution_count": 131,
   "metadata": {},
   "outputs": [
    {
     "name": "stdout",
     "output_type": "stream",
     "text": [
      "            Value\n",
      "Date             \n",
      "1914-01-31  2.041\n",
      "1914-02-28  1.020\n",
      "            Value\n",
      "Date             \n",
      "2020-10-31  1.182\n",
      "2020-11-30  1.175\n"
     ]
    }
   ],
   "source": [
    "# check to see it's working\n",
    "print(us_cpi.head(2))\n",
    "\n",
    "print(us_cpi.tail(2))"
   ]
  },
  {
   "cell_type": "code",
   "execution_count": 132,
   "metadata": {},
   "outputs": [
    {
     "name": "stdout",
     "output_type": "stream",
     "text": [
      "<class 'pandas.core.frame.DataFrame'>\n",
      "DatetimeIndex: 1283 entries, 1914-01-31 to 2020-11-30\n",
      "Data columns (total 1 columns):\n",
      " #   Column  Non-Null Count  Dtype  \n",
      "---  ------  --------------  -----  \n",
      " 0   Value   1283 non-null   float64\n",
      "dtypes: float64(1)\n",
      "memory usage: 20.0 KB\n"
     ]
    }
   ],
   "source": [
    "us_cpi.info()"
   ]
  },
  {
   "cell_type": "markdown",
   "metadata": {},
   "source": [
    "**Number 1 | M2**"
   ]
  },
  {
   "cell_type": "code",
   "execution_count": 133,
   "metadata": {},
   "outputs": [],
   "source": [
    "us_M2 = fred.get_series('M2')"
   ]
  },
  {
   "cell_type": "code",
   "execution_count": 134,
   "metadata": {},
   "outputs": [
    {
     "name": "stdout",
     "output_type": "stream",
     "text": [
      "1980-11-03    1591.4\n",
      "1980-11-10    1592.9\n",
      "dtype: float64\n",
      "2020-12-28    19071.8\n",
      "2021-01-04    19179.2\n",
      "dtype: float64\n"
     ]
    }
   ],
   "source": [
    "# check to see it's working\n",
    "print(us_M2.head(2))\n",
    "\n",
    "print(us_M2.tail(2))"
   ]
  },
  {
   "cell_type": "code",
   "execution_count": 135,
   "metadata": {},
   "outputs": [],
   "source": [
    "# need to develop an annualized growth %"
   ]
  },
  {
   "cell_type": "markdown",
   "metadata": {},
   "source": [
    "**Number 2 | USD**"
   ]
  },
  {
   "cell_type": "code",
   "execution_count": 136,
   "metadata": {},
   "outputs": [],
   "source": [
    "us_usd = quandl.get('CHRIS/ICE_DX1')"
   ]
  },
  {
   "cell_type": "code",
   "execution_count": 137,
   "metadata": {},
   "outputs": [
    {
     "name": "stdout",
     "output_type": "stream",
     "text": [
      "              Open    High     Low  Settle  Change  Wave   Volume  \\\n",
      "Date                                                                \n",
      "1985-11-20  127.85  129.05  127.80  128.86     NaN   NaN  11317.0   \n",
      "1985-11-21  127.80  128.03  127.48  127.56     NaN   NaN   9536.0   \n",
      "\n",
      "            Prev. Day Open Interest  EFP Volume  EFS Volume  Block Volume  \n",
      "Date                                                                       \n",
      "1985-11-20                    668.0         NaN         NaN           NaN  \n",
      "1985-11-21                    966.0         NaN         NaN           NaN  \n",
      "              Open    High     Low  Settle  Change    Wave   Volume  \\\n",
      "Date                                                                  \n",
      "2021-01-12  90.485  90.600  89.995  90.064  -0.378  90.324  23637.0   \n",
      "2021-01-13  89.980  90.435  89.890  90.334   0.270  90.199  26609.0   \n",
      "\n",
      "            Prev. Day Open Interest  EFP Volume  EFS Volume  Block Volume  \n",
      "Date                                                                       \n",
      "2021-01-12                  34684.0         NaN         NaN           NaN  \n",
      "2021-01-13                  34052.0         NaN         NaN           NaN  \n"
     ]
    }
   ],
   "source": [
    "print(us_usd.head(2))\n",
    "\n",
    "print(us_usd.tail(2))"
   ]
  },
  {
   "cell_type": "markdown",
   "metadata": {},
   "source": [
    "**Number 3 | WTI**"
   ]
  },
  {
   "cell_type": "code",
   "execution_count": 138,
   "metadata": {},
   "outputs": [],
   "source": [
    "us_wti = quandl.get('CHRIS/CME_CL1')"
   ]
  },
  {
   "cell_type": "code",
   "execution_count": 139,
   "metadata": {},
   "outputs": [
    {
     "name": "stdout",
     "output_type": "stream",
     "text": [
      "             Open   High    Low   Last  Change  Settle  Volume  \\\n",
      "Date                                                             \n",
      "1983-03-30  29.01  29.56  29.01  29.40     NaN   29.40   949.0   \n",
      "1983-03-31  29.40  29.60  29.25  29.29     NaN   29.29   521.0   \n",
      "\n",
      "            Previous Day Open Interest  \n",
      "Date                                    \n",
      "1983-03-30                       470.0  \n",
      "1983-03-31                       523.0  \n",
      "             Open   High    Low   Last  Change  Settle    Volume  \\\n",
      "Date                                                               \n",
      "2021-01-13  53.31  53.93  52.58  52.86   -0.30   52.91  422839.0   \n",
      "2021-01-14  52.84  53.75  52.24  53.72    0.66   53.57  379092.0   \n",
      "\n",
      "            Previous Day Open Interest  \n",
      "Date                                    \n",
      "2021-01-13                    196671.0  \n",
      "2021-01-14                    148841.0  \n"
     ]
    }
   ],
   "source": [
    "print(us_wti.head(2))\n",
    "\n",
    "print(us_wti.tail(2))"
   ]
  },
  {
   "cell_type": "markdown",
   "metadata": {},
   "source": [
    "**Number 4 | wages**"
   ]
  },
  {
   "cell_type": "code",
   "execution_count": 140,
   "metadata": {},
   "outputs": [],
   "source": [
    "us_wages_wkly_real_earnings = fred.get_series('LES1252881600Q')"
   ]
  },
  {
   "cell_type": "code",
   "execution_count": 141,
   "metadata": {},
   "outputs": [
    {
     "name": "stdout",
     "output_type": "stream",
     "text": [
      "1979-01-01    335.0\n",
      "1979-04-01    335.0\n",
      "dtype: float64\n",
      "2020-01-01    367.0\n",
      "2020-04-01    392.0\n",
      "dtype: float64\n"
     ]
    }
   ],
   "source": [
    "print(us_wages_wkly_real_earnings.head(2))\n",
    "\n",
    "print(us_wages_wkly_real_earnings.tail(2))"
   ]
  },
  {
   "cell_type": "code",
   "execution_count": 142,
   "metadata": {},
   "outputs": [],
   "source": [
    "# this is a CPI & may be a component of CPI\n",
    "us_wages_cpi_us_average = fred.get_series('CWSR0000SA0')"
   ]
  },
  {
   "cell_type": "code",
   "execution_count": 143,
   "metadata": {},
   "outputs": [
    {
     "name": "stdout",
     "output_type": "stream",
     "text": [
      "1947-01-01    21.60\n",
      "1947-02-01    21.74\n",
      "dtype: float64\n",
      "2020-11-01    254.457\n",
      "2020-12-01    255.452\n",
      "dtype: float64\n"
     ]
    }
   ],
   "source": [
    "print(us_wages_cpi_us_average.head(2))\n",
    "\n",
    "print(us_wages_cpi_us_average.tail(2))"
   ]
  },
  {
   "cell_type": "code",
   "execution_count": 144,
   "metadata": {},
   "outputs": [],
   "source": [
    "us_wages_compensation = fred.get_series('A576RC1')"
   ]
  },
  {
   "cell_type": "code",
   "execution_count": 145,
   "metadata": {},
   "outputs": [
    {
     "name": "stdout",
     "output_type": "stream",
     "text": [
      "1959-01-01    252.3\n",
      "1959-02-01    253.6\n",
      "dtype: float64\n",
      "2020-10-01    9582.9\n",
      "2020-11-01    9622.0\n",
      "dtype: float64\n"
     ]
    }
   ],
   "source": [
    "print(us_wages_compensation.head(2))\n",
    "\n",
    "print(us_wages_compensation.tail(2))"
   ]
  },
  {
   "cell_type": "code",
   "execution_count": 146,
   "metadata": {},
   "outputs": [],
   "source": [
    "us_wages_hourly_earnings = fred.get_series('CES0500000003')"
   ]
  },
  {
   "cell_type": "code",
   "execution_count": 147,
   "metadata": {},
   "outputs": [
    {
     "name": "stdout",
     "output_type": "stream",
     "text": [
      "2006-03-01    20.04\n",
      "2006-04-01    20.17\n",
      "dtype: float64\n",
      "2020-11-01    29.58\n",
      "2020-12-01    29.81\n",
      "dtype: float64\n"
     ]
    }
   ],
   "source": [
    "print(us_wages_hourly_earnings.head(2))\n",
    "\n",
    "print(us_wages_hourly_earnings.tail(2))"
   ]
  },
  {
   "cell_type": "markdown",
   "metadata": {},
   "source": [
    "**Number 5 | US GDP**"
   ]
  },
  {
   "cell_type": "code",
   "execution_count": 148,
   "metadata": {},
   "outputs": [],
   "source": [
    "us_gdp = fred.get_series('GDP')"
   ]
  },
  {
   "cell_type": "code",
   "execution_count": 149,
   "metadata": {},
   "outputs": [
    {
     "name": "stdout",
     "output_type": "stream",
     "text": [
      "1946-01-01   NaN\n",
      "1946-04-01   NaN\n",
      "dtype: float64\n",
      "2020-04-01    19520.114\n",
      "2020-07-01    21170.252\n",
      "dtype: float64\n"
     ]
    }
   ],
   "source": [
    "print(us_gdp.head(2))\n",
    "\n",
    "print(us_gdp.tail(2))"
   ]
  },
  {
   "cell_type": "markdown",
   "metadata": {},
   "source": [
    "**Number 6 | US Capital Utilization**"
   ]
  },
  {
   "cell_type": "code",
   "execution_count": 150,
   "metadata": {},
   "outputs": [],
   "source": [
    "us_cap_util = fred.get_series('TCU')"
   ]
  },
  {
   "cell_type": "code",
   "execution_count": 151,
   "metadata": {},
   "outputs": [
    {
     "name": "stdout",
     "output_type": "stream",
     "text": [
      "1967-01-01    89.3902\n",
      "1967-02-01    87.9750\n",
      "dtype: float64\n",
      "2020-10-01    73.0124\n",
      "2020-11-01    73.3109\n",
      "dtype: float64\n"
     ]
    }
   ],
   "source": [
    "print(us_cap_util.head(2))\n",
    "\n",
    "print(us_cap_util.tail(2))"
   ]
  },
  {
   "cell_type": "markdown",
   "metadata": {},
   "source": [
    "**Number 7 | Home Price**"
   ]
  },
  {
   "cell_type": "code",
   "execution_count": 152,
   "metadata": {},
   "outputs": [],
   "source": [
    "us_re = fred.get_series('CSUSHPINSA')"
   ]
  },
  {
   "cell_type": "code",
   "execution_count": 153,
   "metadata": {},
   "outputs": [
    {
     "name": "stdout",
     "output_type": "stream",
     "text": [
      "1975-01-01   NaN\n",
      "1975-02-01   NaN\n",
      "dtype: float64\n",
      "2020-09-01    226.823\n",
      "2020-10-01    229.932\n",
      "dtype: float64\n"
     ]
    }
   ],
   "source": [
    "print(us_re.head(2))\n",
    "\n",
    "print(us_re.tail(2))"
   ]
  },
  {
   "cell_type": "markdown",
   "metadata": {},
   "source": [
    "**Number 8 | Velocity of Money**"
   ]
  },
  {
   "cell_type": "code",
   "execution_count": 154,
   "metadata": {},
   "outputs": [],
   "source": [
    "us_velocity = fred.get_series('M2V')"
   ]
  },
  {
   "cell_type": "code",
   "execution_count": 155,
   "metadata": {},
   "outputs": [
    {
     "name": "stdout",
     "output_type": "stream",
     "text": [
      "1959-01-01    1.773\n",
      "1959-04-01    1.789\n",
      "dtype: float64\n",
      "2020-04-01    1.104\n",
      "2020-07-01    1.147\n",
      "dtype: float64\n"
     ]
    }
   ],
   "source": [
    "print(us_velocity.head(2))\n",
    "\n",
    "print(us_velocity.tail(2))"
   ]
  },
  {
   "cell_type": "markdown",
   "metadata": {},
   "source": [
    "# Pulling them into one Table"
   ]
  },
  {
   "cell_type": "code",
   "execution_count": 156,
   "metadata": {
    "scrolled": true
   },
   "outputs": [
    {
     "name": "stdout",
     "output_type": "stream",
     "text": [
      "us_cpi type | <class 'pandas.core.frame.DataFrame'>\n",
      "us_M2 type  |  <class 'pandas.core.series.Series'>\n",
      "us_usd type  |  <class 'pandas.core.frame.DataFrame'>\n",
      "us_wti type  |  <class 'pandas.core.frame.DataFrame'>\n",
      "us_wages_wkly_real_earnings type  |  <class 'pandas.core.series.Series'>\n",
      "us_wages_cpi_us_average type  |  <class 'pandas.core.series.Series'>\n",
      "us_wages_compensation type  |  <class 'pandas.core.series.Series'>\n",
      "us_wages_hourly_earnings type  |  <class 'pandas.core.series.Series'>\n",
      "us_gdp type  |  <class 'pandas.core.series.Series'>\n",
      "us_cap_util type  |  <class 'pandas.core.series.Series'>\n",
      "us_re type  |  <class 'pandas.core.series.Series'>\n",
      "us_velocity type  |  <class 'pandas.core.series.Series'>\n"
     ]
    }
   ],
   "source": [
    "print('us_cpi type |', type(us_cpi))\n",
    "print('us_M2 type  | ', type(us_M2))\n",
    "print('us_usd type  | ', type(us_usd))\n",
    "print('us_wti type  | ', type(us_wti))\n",
    "print('us_wages_wkly_real_earnings type  | ', type(us_wages_wkly_real_earnings))\n",
    "print('us_wages_cpi_us_average type  | ', type(us_wages_cpi_us_average))\n",
    "print('us_wages_compensation type  | ', type(us_wages_compensation))\n",
    "print('us_wages_hourly_earnings type  | ', type(us_wages_hourly_earnings))\n",
    "print('us_gdp type  | ', type(us_gdp))\n",
    "print('us_cap_util type  | ', type(us_cap_util))\n",
    "print('us_re type  | ', type(us_re))\n",
    "print('us_velocity type  | ', type(us_velocity))"
   ]
  },
  {
   "cell_type": "code",
   "execution_count": 157,
   "metadata": {},
   "outputs": [],
   "source": [
    "#main_series = pd.concat([us_M2, us_wages_wkly_real_earnings,us_wages_cpi_us_average,us_wages_compensation, us_wages_hourly_earnings,us_gdp,us_cap_util,us_re,us_velocity], join='inner', axis=1,keys=['M2','Wages Wkly Earnings','Wages CPI','Wages Compensation','Wages Hrly Earnings','GDP','Cap Util','Real Estate','Velocity of $'])"
   ]
  },
  {
   "cell_type": "code",
   "execution_count": 158,
   "metadata": {},
   "outputs": [],
   "source": [
    "main_dataframe = pd.concat([us_cpi,us_wti['Last']], axis=1, \n",
    "    keys=['Inflation','WTI'])"
   ]
  },
  {
   "cell_type": "code",
   "execution_count": 159,
   "metadata": {},
   "outputs": [
    {
     "name": "stdout",
     "output_type": "stream",
     "text": [
      "           Inflation    WTI\n",
      "               Value   Last\n",
      "Date                       \n",
      "2021-01-08       NaN  52.73\n",
      "2021-01-11       NaN  52.18\n",
      "2021-01-12       NaN  53.29\n",
      "2021-01-13       NaN  52.86\n",
      "2021-01-14       NaN  53.72\n"
     ]
    }
   ],
   "source": [
    "print(main_dataframe.tail())"
   ]
  },
  {
   "cell_type": "code",
   "execution_count": 160,
   "metadata": {},
   "outputs": [],
   "source": [
    "us_M2_df = us_M2.to_frame()\n",
    "\n",
    "us_wages_wkly_real_earnings_df = us_wages_wkly_real_earnings.to_frame()\n",
    "us_wages_cpi_df = us_wages_cpi_us_average.to_frame()\n",
    "us_wages_compensation_df = us_wages_compensation.to_frame()\n",
    "us_wages_hrly_earn_df = us_wages_hourly_earnings.to_frame()\n",
    "us_gdp_df = us_gdp.to_frame()\n",
    "us_cap_util_df = us_cap_util.to_frame()\n",
    "us_re_df = us_re.to_frame()\n",
    "us_velocity_df = us_velocity.to_frame()"
   ]
  },
  {
   "cell_type": "code",
   "execution_count": 161,
   "metadata": {},
   "outputs": [
    {
     "name": "stdout",
     "output_type": "stream",
     "text": [
      "<class 'pandas.core.frame.DataFrame'>\n"
     ]
    }
   ],
   "source": [
    "print(type(us_M2_df))"
   ]
  },
  {
   "cell_type": "code",
   "execution_count": 162,
   "metadata": {},
   "outputs": [],
   "source": [
    "main_df = pd.concat([us_cpi,us_usd['Open'],us_wti['Last'],us_M2_df,us_gdp_df,us_velocity_df,us_cap_util_df,us_re_df,us_wages_wkly_real_earnings_df,us_wages_cpi_df,us_wages_compensation_df,us_wages_hrly_earn_df], axis=1, \n",
    "    ignore_index=True,\n",
    "    )\n",
    "\n",
    "main_df = main_df.fillna(method='ffill')\n",
    "main_df.columns = ['Inflation','USD','WTI','M2','GDP','$ Velocity','Cap Util','Real Estate','Wkly Earnings','Wages CPI','Wages Compensation','Hrly Earnings']\n",
    "main_df.index.names = [\"Date\"]\n"
   ]
  },
  {
   "cell_type": "code",
   "execution_count": 163,
   "metadata": {},
   "outputs": [
    {
     "name": "stdout",
     "output_type": "stream",
     "text": [
      "            Inflation     USD    WTI       M2        GDP  $ Velocity  \\\n",
      "Date                                                                   \n",
      "2021-01-08      1.175  89.840  52.73  19179.2  21170.252       1.147   \n",
      "2021-01-11      1.175  90.090  52.18  19179.2  21170.252       1.147   \n",
      "2021-01-12      1.175  90.485  53.29  19179.2  21170.252       1.147   \n",
      "2021-01-13      1.175  89.980  52.86  19179.2  21170.252       1.147   \n",
      "2021-01-14      1.175  89.980  53.72  19179.2  21170.252       1.147   \n",
      "\n",
      "            Cap Util  Real Estate  Wkly Earnings  Wages CPI  \\\n",
      "Date                                                          \n",
      "2021-01-08   73.3109      229.932          392.0    255.452   \n",
      "2021-01-11   73.3109      229.932          392.0    255.452   \n",
      "2021-01-12   73.3109      229.932          392.0    255.452   \n",
      "2021-01-13   73.3109      229.932          392.0    255.452   \n",
      "2021-01-14   73.3109      229.932          392.0    255.452   \n",
      "\n",
      "            Wages Compensation  Hrly Earnings  \n",
      "Date                                           \n",
      "2021-01-08              9622.0          29.81  \n",
      "2021-01-11              9622.0          29.81  \n",
      "2021-01-12              9622.0          29.81  \n",
      "2021-01-13              9622.0          29.81  \n",
      "2021-01-14              9622.0          29.81  \n"
     ]
    }
   ],
   "source": [
    "print(main_df.tail())"
   ]
  },
  {
   "cell_type": "code",
   "execution_count": null,
   "metadata": {},
   "outputs": [],
   "source": []
  },
  {
   "cell_type": "code",
   "execution_count": null,
   "metadata": {},
   "outputs": [],
   "source": []
  },
  {
   "cell_type": "markdown",
   "metadata": {},
   "source": [
    "# Printing to csv"
   ]
  },
  {
   "cell_type": "code",
   "execution_count": 164,
   "metadata": {},
   "outputs": [
    {
     "name": "stdout",
     "output_type": "stream",
     "text": [
      "finished check it out\n"
     ]
    }
   ],
   "source": [
    "main_df_excel = pd.DataFrame(main_df)\n",
    "\n",
    "main_df_excel.to_excel('main_df_excel.xlsx')\n",
    "print('finished check it out')"
   ]
  },
  {
   "cell_type": "code",
   "execution_count": null,
   "metadata": {},
   "outputs": [],
   "source": []
  },
  {
   "cell_type": "code",
   "execution_count": null,
   "metadata": {},
   "outputs": [],
   "source": []
  },
  {
   "cell_type": "code",
   "execution_count": null,
   "metadata": {},
   "outputs": [],
   "source": []
  },
  {
   "cell_type": "code",
   "execution_count": null,
   "metadata": {},
   "outputs": [],
   "source": []
  },
  {
   "cell_type": "code",
   "execution_count": null,
   "metadata": {},
   "outputs": [],
   "source": []
  },
  {
   "cell_type": "code",
   "execution_count": null,
   "metadata": {},
   "outputs": [],
   "source": []
  },
  {
   "cell_type": "code",
   "execution_count": null,
   "metadata": {},
   "outputs": [],
   "source": []
  },
  {
   "cell_type": "code",
   "execution_count": null,
   "metadata": {},
   "outputs": [],
   "source": []
  },
  {
   "cell_type": "code",
   "execution_count": null,
   "metadata": {},
   "outputs": [],
   "source": []
  },
  {
   "cell_type": "code",
   "execution_count": null,
   "metadata": {},
   "outputs": [],
   "source": []
  },
  {
   "cell_type": "code",
   "execution_count": null,
   "metadata": {},
   "outputs": [],
   "source": []
  },
  {
   "cell_type": "code",
   "execution_count": null,
   "metadata": {},
   "outputs": [],
   "source": []
  },
  {
   "cell_type": "code",
   "execution_count": null,
   "metadata": {},
   "outputs": [],
   "source": []
  },
  {
   "cell_type": "code",
   "execution_count": null,
   "metadata": {},
   "outputs": [],
   "source": []
  },
  {
   "cell_type": "code",
   "execution_count": null,
   "metadata": {},
   "outputs": [],
   "source": []
  },
  {
   "cell_type": "code",
   "execution_count": null,
   "metadata": {},
   "outputs": [],
   "source": []
  },
  {
   "cell_type": "code",
   "execution_count": null,
   "metadata": {},
   "outputs": [],
   "source": []
  },
  {
   "cell_type": "code",
   "execution_count": null,
   "metadata": {},
   "outputs": [],
   "source": []
  },
  {
   "cell_type": "code",
   "execution_count": null,
   "metadata": {},
   "outputs": [],
   "source": []
  },
  {
   "cell_type": "code",
   "execution_count": null,
   "metadata": {},
   "outputs": [],
   "source": []
  },
  {
   "cell_type": "code",
   "execution_count": null,
   "metadata": {},
   "outputs": [],
   "source": []
  }
 ],
 "metadata": {
  "kernelspec": {
   "display_name": "Python 3",
   "language": "python",
   "name": "python3"
  },
  "language_info": {
   "codemirror_mode": {
    "name": "ipython",
    "version": 3
   },
   "file_extension": ".py",
   "mimetype": "text/x-python",
   "name": "python",
   "nbconvert_exporter": "python",
   "pygments_lexer": "ipython3",
   "version": "3.8.5"
  }
 },
 "nbformat": 4,
 "nbformat_minor": 4
}
